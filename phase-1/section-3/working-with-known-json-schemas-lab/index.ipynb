{
 "cells": [
  {
   "cell_type": "markdown",
   "metadata": {},
   "source": [
    "# Working with Known JSON Schemas - Lab"
   ]
  },
  {
   "cell_type": "markdown",
   "metadata": {},
   "source": [
    "## Introduction\n",
    "In this lab, you'll practice working with JSON files whose schema you know beforehand."
   ]
  },
  {
   "cell_type": "markdown",
   "metadata": {},
   "source": [
    "## Objectives\n",
    "You will be able to:\n",
    "* Use the JSON module to load and parse JSON documents\n",
    "* Extract data using predefined JSON schemas\n",
    "* Convert JSON to a pandas dataframe"
   ]
  },
  {
   "cell_type": "markdown",
   "metadata": {},
   "source": [
    "## Reading a JSON Schema\n",
    "\n",
    "Here's the JSON schema provided for a section of the NY Times API:\n",
    "<img src=\"images/nytimes_movie_schema.png\" width=500>\n",
    "\n",
    "or a fully expanded view:\n",
    "\n",
    "<img src=\"images/nytimes_movie_schema_detailed.png\" width=500>\n",
    "\n",
    "You can more about the documentation [here](https://developer.nytimes.com/docs/movie-reviews-api/1/routes/reviews/%7Btype%7D.json/get).\n",
    "\n",
    "Note that **this is a different schema than the schema used in the previous lesson**, although both come from the New York Times."
   ]
  },
  {
   "cell_type": "markdown",
   "metadata": {},
   "source": [
    "## Loading the JSON Data\n",
    "\n",
    "Open the JSON file located at `ny_times_movies.json`, and use the `json` module to load the data into a variable called `data`."
   ]
  },
  {
   "cell_type": "code",
   "execution_count": 2,
   "metadata": {},
   "outputs": [],
   "source": [
    "# Your code here\n",
    "import json\n",
    "with open('ny_times_movies.json', 'r') as f:\n",
    "    data = json.load(f)"
   ]
  },
  {
   "cell_type": "markdown",
   "metadata": {},
   "source": [
    "Run the code below to investigate its contents:"
   ]
  },
  {
   "cell_type": "code",
   "execution_count": 3,
   "metadata": {},
   "outputs": [
    {
     "name": "stdout",
     "output_type": "stream",
     "text": [
      "`data` has type <class 'dict'>\n",
      "The keys are ['status', 'copyright', 'has_more', 'num_results', 'results']\n"
     ]
    }
   ],
   "source": [
    "# Run this cell without changes\n",
    "print(\"`data` has type\", type(data))\n",
    "print(\"The keys are\", list(data.keys()))"
   ]
  },
  {
   "cell_type": "markdown",
   "metadata": {},
   "source": [
    "## Loading Results\n",
    "\n",
    "Create a variable `results` that contains the value associated with the `'results'` key."
   ]
  },
  {
   "cell_type": "code",
   "execution_count": 5,
   "metadata": {},
   "outputs": [],
   "source": [
    "# Your code here\n",
    "results = data['results']"
   ]
  },
  {
   "cell_type": "markdown",
   "metadata": {},
   "source": [
    "Below we display this variable as a table using pandas:"
   ]
  },
  {
   "cell_type": "code",
   "execution_count": 6,
   "metadata": {},
   "outputs": [
    {
     "data": {
      "text/html": [
       "<div>\n",
       "<style scoped>\n",
       "    .dataframe tbody tr th:only-of-type {\n",
       "        vertical-align: middle;\n",
       "    }\n",
       "\n",
       "    .dataframe tbody tr th {\n",
       "        vertical-align: top;\n",
       "    }\n",
       "\n",
       "    .dataframe thead th {\n",
       "        text-align: right;\n",
       "    }\n",
       "</style>\n",
       "<table border=\"1\" class=\"dataframe\">\n",
       "  <thead>\n",
       "    <tr style=\"text-align: right;\">\n",
       "      <th></th>\n",
       "      <th>display_title</th>\n",
       "      <th>mpaa_rating</th>\n",
       "      <th>critics_pick</th>\n",
       "      <th>byline</th>\n",
       "      <th>headline</th>\n",
       "      <th>summary_short</th>\n",
       "      <th>publication_date</th>\n",
       "      <th>opening_date</th>\n",
       "      <th>date_updated</th>\n",
       "      <th>link</th>\n",
       "      <th>multimedia</th>\n",
       "    </tr>\n",
       "  </thead>\n",
       "  <tbody>\n",
       "    <tr>\n",
       "      <th>0</th>\n",
       "      <td>Can You Ever Forgive Me</td>\n",
       "      <td>R</td>\n",
       "      <td>1</td>\n",
       "      <td>A.O. SCOTT</td>\n",
       "      <td>Review: Melissa McCarthy Is Criminally Good in...</td>\n",
       "      <td>Marielle Heller directs a true story of litera...</td>\n",
       "      <td>2018-10-16</td>\n",
       "      <td>2018-10-19</td>\n",
       "      <td>2018-10-17 02:44:23</td>\n",
       "      <td>{'type': 'article', 'url': 'http://www.nytimes...</td>\n",
       "      <td>{'type': 'mediumThreeByTwo210', 'src': 'https:...</td>\n",
       "    </tr>\n",
       "    <tr>\n",
       "      <th>1</th>\n",
       "      <td>Charm City</td>\n",
       "      <td></td>\n",
       "      <td>1</td>\n",
       "      <td>BEN KENIGSBERG</td>\n",
       "      <td>Review: â€˜Charm Cityâ€™ Vividly Captures the ...</td>\n",
       "      <td>Marilyn Nessâ€™s documentary is dedicated to t...</td>\n",
       "      <td>2018-10-16</td>\n",
       "      <td>2018-04-22</td>\n",
       "      <td>2018-10-16 11:04:03</td>\n",
       "      <td>{'type': 'article', 'url': 'http://www.nytimes...</td>\n",
       "      <td>{'type': 'mediumThreeByTwo210', 'src': 'https:...</td>\n",
       "    </tr>\n",
       "    <tr>\n",
       "      <th>2</th>\n",
       "      <td>Horn from the Heart: The Paul Butterfield Story</td>\n",
       "      <td></td>\n",
       "      <td>1</td>\n",
       "      <td>GLENN KENNY</td>\n",
       "      <td>Review: Paul Butterfieldâ€™s Story Is Told in ...</td>\n",
       "      <td>A documentary explores the life of the blues m...</td>\n",
       "      <td>2018-10-16</td>\n",
       "      <td>2018-10-19</td>\n",
       "      <td>2018-10-16 11:04:04</td>\n",
       "      <td>{'type': 'article', 'url': 'http://www.nytimes...</td>\n",
       "      <td>{'type': 'mediumThreeByTwo210', 'src': 'https:...</td>\n",
       "    </tr>\n",
       "    <tr>\n",
       "      <th>3</th>\n",
       "      <td>The Price of Everything</td>\n",
       "      <td></td>\n",
       "      <td>0</td>\n",
       "      <td>A.O. SCOTT</td>\n",
       "      <td>Review: â€˜The Price of Everythingâ€™ Asks $56...</td>\n",
       "      <td>This documentary examines the global art marke...</td>\n",
       "      <td>2018-10-16</td>\n",
       "      <td>2018-10-19</td>\n",
       "      <td>2018-10-16 16:08:03</td>\n",
       "      <td>{'type': 'article', 'url': 'http://www.nytimes...</td>\n",
       "      <td>{'type': 'mediumThreeByTwo210', 'src': 'https:...</td>\n",
       "    </tr>\n",
       "    <tr>\n",
       "      <th>4</th>\n",
       "      <td>Impulso</td>\n",
       "      <td></td>\n",
       "      <td>0</td>\n",
       "      <td>BEN KENIGSBERG</td>\n",
       "      <td>Review: â€˜Impulsoâ€™ Goes Backstage With a Fl...</td>\n",
       "      <td>This documentary follows RocÃ­o Molina, a cutt...</td>\n",
       "      <td>2018-10-16</td>\n",
       "      <td>None</td>\n",
       "      <td>2018-10-16 11:04:03</td>\n",
       "      <td>{'type': 'article', 'url': 'http://www.nytimes...</td>\n",
       "      <td>{'type': 'mediumThreeByTwo210', 'src': 'https:...</td>\n",
       "    </tr>\n",
       "    <tr>\n",
       "      <th>5</th>\n",
       "      <td>Watergate</td>\n",
       "      <td></td>\n",
       "      <td>1</td>\n",
       "      <td>A.O. SCOTT</td>\n",
       "      <td>Review: â€˜Watergateâ€™ Shocks Anew With Its T...</td>\n",
       "      <td>Charles Ferguson delivers a comprehensive docu...</td>\n",
       "      <td>2018-10-11</td>\n",
       "      <td>2018-10-12</td>\n",
       "      <td>2018-10-17 02:44:21</td>\n",
       "      <td>{'type': 'article', 'url': 'http://www.nytimes...</td>\n",
       "      <td>{'type': 'mediumThreeByTwo210', 'src': 'https:...</td>\n",
       "    </tr>\n",
       "    <tr>\n",
       "      <th>6</th>\n",
       "      <td>Barbara</td>\n",
       "      <td></td>\n",
       "      <td>1</td>\n",
       "      <td>GLENN KENNY</td>\n",
       "      <td>Review: In â€˜Barbara,â€™ a Fictional Biopic o...</td>\n",
       "      <td>Itâ€™s a film of scenes rather than of one uni...</td>\n",
       "      <td>2018-10-11</td>\n",
       "      <td>None</td>\n",
       "      <td>2018-10-17 02:44:21</td>\n",
       "      <td>{'type': 'article', 'url': 'http://www.nytimes...</td>\n",
       "      <td>{'type': 'mediumThreeByTwo210', 'src': 'https:...</td>\n",
       "    </tr>\n",
       "    <tr>\n",
       "      <th>7</th>\n",
       "      <td>Over the Limit</td>\n",
       "      <td></td>\n",
       "      <td>1</td>\n",
       "      <td>JEANNETTE CATSOULIS</td>\n",
       "      <td>Review: A Russian Gymnast Goes â€˜Over the Lim...</td>\n",
       "      <td>Margarita Mamun endures injury and abuse in Ma...</td>\n",
       "      <td>2018-10-11</td>\n",
       "      <td>2018-10-05</td>\n",
       "      <td>2018-10-17 02:44:20</td>\n",
       "      <td>{'type': 'article', 'url': 'http://www.nytimes...</td>\n",
       "      <td>{'type': 'mediumThreeByTwo210', 'src': 'https:...</td>\n",
       "    </tr>\n",
       "    <tr>\n",
       "      <th>8</th>\n",
       "      <td>The Kindergarten Teacher</td>\n",
       "      <td>R</td>\n",
       "      <td>1</td>\n",
       "      <td>JEANNETTE CATSOULIS</td>\n",
       "      <td>Review: The Disturbing Obsession of â€˜The Kin...</td>\n",
       "      <td>Maggie Gyllenhaal is riveting as a dissatisfie...</td>\n",
       "      <td>2018-10-11</td>\n",
       "      <td>2018-10-12</td>\n",
       "      <td>2018-10-17 02:44:19</td>\n",
       "      <td>{'type': 'article', 'url': 'http://www.nytimes...</td>\n",
       "      <td>{'type': 'mediumThreeByTwo210', 'src': 'https:...</td>\n",
       "    </tr>\n",
       "    <tr>\n",
       "      <th>9</th>\n",
       "      <td>Classical Period</td>\n",
       "      <td></td>\n",
       "      <td>1</td>\n",
       "      <td>BEN KENIGSBERG</td>\n",
       "      <td>Review: In â€˜Classical Period,â€™ a Deep Dive...</td>\n",
       "      <td>This highly original feature is technically in...</td>\n",
       "      <td>2018-10-11</td>\n",
       "      <td>None</td>\n",
       "      <td>2018-10-17 02:44:18</td>\n",
       "      <td>{'type': 'article', 'url': 'http://www.nytimes...</td>\n",
       "      <td>{'type': 'mediumThreeByTwo210', 'src': 'https:...</td>\n",
       "    </tr>\n",
       "    <tr>\n",
       "      <th>10</th>\n",
       "      <td>Bad Times at the El Royale</td>\n",
       "      <td>R</td>\n",
       "      <td>0</td>\n",
       "      <td>MANOHLA DARGIS</td>\n",
       "      <td>Review: Hard-Boiled Play in â€˜Bad Times at th...</td>\n",
       "      <td>The writer-director Drew Goddard has fun with ...</td>\n",
       "      <td>2018-10-11</td>\n",
       "      <td>2018-10-12</td>\n",
       "      <td>2018-10-17 02:44:22</td>\n",
       "      <td>{'type': 'article', 'url': 'http://www.nytimes...</td>\n",
       "      <td>{'type': 'mediumThreeByTwo210', 'src': 'https:...</td>\n",
       "    </tr>\n",
       "    <tr>\n",
       "      <th>11</th>\n",
       "      <td>Beautiful Boy</td>\n",
       "      <td>R</td>\n",
       "      <td>0</td>\n",
       "      <td>A.O. SCOTT</td>\n",
       "      <td>Review: In â€˜Beautiful Boy,â€™ a Writer Confr...</td>\n",
       "      <td>Two memoirs are brought to the screen in a fat...</td>\n",
       "      <td>2018-10-11</td>\n",
       "      <td>2018-10-12</td>\n",
       "      <td>2018-10-17 02:44:21</td>\n",
       "      <td>{'type': 'article', 'url': 'http://www.nytimes...</td>\n",
       "      <td>{'type': 'mediumThreeByTwo210', 'src': 'https:...</td>\n",
       "    </tr>\n",
       "    <tr>\n",
       "      <th>12</th>\n",
       "      <td>The Oath</td>\n",
       "      <td>R</td>\n",
       "      <td>0</td>\n",
       "      <td>GLENN KENNY</td>\n",
       "      <td>Review: In â€˜The Oath,â€™ a Pledge of Allegia...</td>\n",
       "      <td>This satirical comedy, written, directed by an...</td>\n",
       "      <td>2018-10-11</td>\n",
       "      <td>2018-10-12</td>\n",
       "      <td>2018-10-17 02:44:21</td>\n",
       "      <td>{'type': 'article', 'url': 'http://www.nytimes...</td>\n",
       "      <td>{'type': 'mediumThreeByTwo210', 'src': 'https:...</td>\n",
       "    </tr>\n",
       "    <tr>\n",
       "      <th>13</th>\n",
       "      <td>Bikini Moon</td>\n",
       "      <td></td>\n",
       "      <td>0</td>\n",
       "      <td>KEN JAWOROWSKI</td>\n",
       "      <td>Review: â€˜Bikini Moonâ€™ Finds a Documentary ...</td>\n",
       "      <td>Condola Rashad plays the title character, a ho...</td>\n",
       "      <td>2018-10-11</td>\n",
       "      <td>2018-10-12</td>\n",
       "      <td>2018-10-17 02:44:20</td>\n",
       "      <td>{'type': 'article', 'url': 'http://www.nytimes...</td>\n",
       "      <td>{'type': 'mediumThreeByTwo210', 'src': 'https:...</td>\n",
       "    </tr>\n",
       "    <tr>\n",
       "      <th>14</th>\n",
       "      <td>Goosebumps 2: Haunted Halloween</td>\n",
       "      <td>PG</td>\n",
       "      <td>0</td>\n",
       "      <td>TEO BUGBEE</td>\n",
       "      <td>Review: â€˜Goosebumps 2: Haunted Halloweenâ€™ ...</td>\n",
       "      <td>This sequel to the movie adaptation of R.L. St...</td>\n",
       "      <td>2018-10-11</td>\n",
       "      <td>2018-10-12</td>\n",
       "      <td>2018-10-17 02:44:20</td>\n",
       "      <td>{'type': 'article', 'url': 'http://www.nytimes...</td>\n",
       "      <td>{'type': 'mediumThreeByTwo210', 'src': 'https:...</td>\n",
       "    </tr>\n",
       "    <tr>\n",
       "      <th>15</th>\n",
       "      <td>The Sentence</td>\n",
       "      <td></td>\n",
       "      <td>0</td>\n",
       "      <td>KEN JAWOROWSKI</td>\n",
       "      <td>Review: In â€˜The Sentence,â€™ a Woman Gets Pr...</td>\n",
       "      <td>The documentary denounces minimum sentencing l...</td>\n",
       "      <td>2018-10-11</td>\n",
       "      <td>2018-10-12</td>\n",
       "      <td>2018-10-17 02:44:19</td>\n",
       "      <td>{'type': 'article', 'url': 'http://www.nytimes...</td>\n",
       "      <td>{'type': 'mediumThreeByTwo210', 'src': 'https:...</td>\n",
       "    </tr>\n",
       "    <tr>\n",
       "      <th>16</th>\n",
       "      <td>All Square</td>\n",
       "      <td></td>\n",
       "      <td>0</td>\n",
       "      <td>GLENN KENNY</td>\n",
       "      <td>Review: In â€˜All Square,â€™ Taking Big Bets o...</td>\n",
       "      <td>Michael Kelly, Pamela Adlon and Josh Lucas enh...</td>\n",
       "      <td>2018-10-11</td>\n",
       "      <td>None</td>\n",
       "      <td>2018-10-11 11:04:11</td>\n",
       "      <td>{'type': 'article', 'url': 'http://www.nytimes...</td>\n",
       "      <td>{'type': 'mediumThreeByTwo210', 'src': 'https:...</td>\n",
       "    </tr>\n",
       "    <tr>\n",
       "      <th>17</th>\n",
       "      <td>Sadie</td>\n",
       "      <td></td>\n",
       "      <td>0</td>\n",
       "      <td>KEN JAWOROWSKI</td>\n",
       "      <td>Review: The Drama â€˜Sadieâ€™ Finds a Teenager...</td>\n",
       "      <td>The film stars Sophia Mitri Schloss as the tit...</td>\n",
       "      <td>2018-10-11</td>\n",
       "      <td>2018-10-12</td>\n",
       "      <td>2018-10-11 11:04:07</td>\n",
       "      <td>{'type': 'article', 'url': 'http://www.nytimes...</td>\n",
       "      <td>{'type': 'mediumThreeByTwo210', 'src': 'https:...</td>\n",
       "    </tr>\n",
       "    <tr>\n",
       "      <th>18</th>\n",
       "      <td>After Everything</td>\n",
       "      <td></td>\n",
       "      <td>0</td>\n",
       "      <td>TEO BUGBEE</td>\n",
       "      <td>Review: In â€˜After Everything,â€™ a Young Lov...</td>\n",
       "      <td>This cancer drama focuses less on the high sta...</td>\n",
       "      <td>2018-10-11</td>\n",
       "      <td>2018-10-12</td>\n",
       "      <td>2018-10-17 02:44:18</td>\n",
       "      <td>{'type': 'article', 'url': 'http://www.nytimes...</td>\n",
       "      <td>{'type': 'mediumThreeByTwo210', 'src': 'https:...</td>\n",
       "    </tr>\n",
       "    <tr>\n",
       "      <th>19</th>\n",
       "      <td>First Man</td>\n",
       "      <td>PG-13</td>\n",
       "      <td>0</td>\n",
       "      <td>A.O. SCOTT</td>\n",
       "      <td>Review: â€˜First Manâ€™ Takes a Giant Leap for...</td>\n",
       "      <td>Damien Chazelleâ€™s sweeping and intimate yet ...</td>\n",
       "      <td>2018-10-10</td>\n",
       "      <td>2018-10-12</td>\n",
       "      <td>2018-10-17 02:44:18</td>\n",
       "      <td>{'type': 'article', 'url': 'http://www.nytimes...</td>\n",
       "      <td>{'type': 'mediumThreeByTwo210', 'src': 'https:...</td>\n",
       "    </tr>\n",
       "  </tbody>\n",
       "</table>\n",
       "</div>"
      ],
      "text/plain": [
       "                                      display_title mpaa_rating  critics_pick  \\\n",
       "0                           Can You Ever Forgive Me           R             1   \n",
       "1                                        Charm City                         1   \n",
       "2   Horn from the Heart: The Paul Butterfield Story                         1   \n",
       "3                           The Price of Everything                         0   \n",
       "4                                           Impulso                         0   \n",
       "5                                         Watergate                         1   \n",
       "6                                           Barbara                         1   \n",
       "7                                    Over the Limit                         1   \n",
       "8                          The Kindergarten Teacher           R             1   \n",
       "9                                  Classical Period                         1   \n",
       "10                       Bad Times at the El Royale           R             0   \n",
       "11                                    Beautiful Boy           R             0   \n",
       "12                                         The Oath           R             0   \n",
       "13                                      Bikini Moon                         0   \n",
       "14                  Goosebumps 2: Haunted Halloween          PG             0   \n",
       "15                                     The Sentence                         0   \n",
       "16                                       All Square                         0   \n",
       "17                                            Sadie                         0   \n",
       "18                                 After Everything                         0   \n",
       "19                                        First Man       PG-13             0   \n",
       "\n",
       "                 byline                                           headline  \\\n",
       "0            A.O. SCOTT  Review: Melissa McCarthy Is Criminally Good in...   \n",
       "1        BEN KENIGSBERG  Review: â€˜Charm Cityâ€™ Vividly Captures the ...   \n",
       "2           GLENN KENNY  Review: Paul Butterfieldâ€™s Story Is Told in ...   \n",
       "3            A.O. SCOTT  Review: â€˜The Price of Everythingâ€™ Asks $56...   \n",
       "4        BEN KENIGSBERG  Review: â€˜Impulsoâ€™ Goes Backstage With a Fl...   \n",
       "5            A.O. SCOTT  Review: â€˜Watergateâ€™ Shocks Anew With Its T...   \n",
       "6           GLENN KENNY  Review: In â€˜Barbara,â€™ a Fictional Biopic o...   \n",
       "7   JEANNETTE CATSOULIS  Review: A Russian Gymnast Goes â€˜Over the Lim...   \n",
       "8   JEANNETTE CATSOULIS  Review: The Disturbing Obsession of â€˜The Kin...   \n",
       "9        BEN KENIGSBERG  Review: In â€˜Classical Period,â€™ a Deep Dive...   \n",
       "10       MANOHLA DARGIS  Review: Hard-Boiled Play in â€˜Bad Times at th...   \n",
       "11           A.O. SCOTT  Review: In â€˜Beautiful Boy,â€™ a Writer Confr...   \n",
       "12          GLENN KENNY  Review: In â€˜The Oath,â€™ a Pledge of Allegia...   \n",
       "13       KEN JAWOROWSKI  Review: â€˜Bikini Moonâ€™ Finds a Documentary ...   \n",
       "14           TEO BUGBEE  Review: â€˜Goosebumps 2: Haunted Halloweenâ€™ ...   \n",
       "15       KEN JAWOROWSKI  Review: In â€˜The Sentence,â€™ a Woman Gets Pr...   \n",
       "16          GLENN KENNY  Review: In â€˜All Square,â€™ Taking Big Bets o...   \n",
       "17       KEN JAWOROWSKI  Review: The Drama â€˜Sadieâ€™ Finds a Teenager...   \n",
       "18           TEO BUGBEE  Review: In â€˜After Everything,â€™ a Young Lov...   \n",
       "19           A.O. SCOTT  Review: â€˜First Manâ€™ Takes a Giant Leap for...   \n",
       "\n",
       "                                        summary_short publication_date  \\\n",
       "0   Marielle Heller directs a true story of litera...       2018-10-16   \n",
       "1   Marilyn Nessâ€™s documentary is dedicated to t...       2018-10-16   \n",
       "2   A documentary explores the life of the blues m...       2018-10-16   \n",
       "3   This documentary examines the global art marke...       2018-10-16   \n",
       "4   This documentary follows RocÃ­o Molina, a cutt...       2018-10-16   \n",
       "5   Charles Ferguson delivers a comprehensive docu...       2018-10-11   \n",
       "6   Itâ€™s a film of scenes rather than of one uni...       2018-10-11   \n",
       "7   Margarita Mamun endures injury and abuse in Ma...       2018-10-11   \n",
       "8   Maggie Gyllenhaal is riveting as a dissatisfie...       2018-10-11   \n",
       "9   This highly original feature is technically in...       2018-10-11   \n",
       "10  The writer-director Drew Goddard has fun with ...       2018-10-11   \n",
       "11  Two memoirs are brought to the screen in a fat...       2018-10-11   \n",
       "12  This satirical comedy, written, directed by an...       2018-10-11   \n",
       "13  Condola Rashad plays the title character, a ho...       2018-10-11   \n",
       "14  This sequel to the movie adaptation of R.L. St...       2018-10-11   \n",
       "15  The documentary denounces minimum sentencing l...       2018-10-11   \n",
       "16  Michael Kelly, Pamela Adlon and Josh Lucas enh...       2018-10-11   \n",
       "17  The film stars Sophia Mitri Schloss as the tit...       2018-10-11   \n",
       "18  This cancer drama focuses less on the high sta...       2018-10-11   \n",
       "19  Damien Chazelleâ€™s sweeping and intimate yet ...       2018-10-10   \n",
       "\n",
       "   opening_date         date_updated  \\\n",
       "0    2018-10-19  2018-10-17 02:44:23   \n",
       "1    2018-04-22  2018-10-16 11:04:03   \n",
       "2    2018-10-19  2018-10-16 11:04:04   \n",
       "3    2018-10-19  2018-10-16 16:08:03   \n",
       "4          None  2018-10-16 11:04:03   \n",
       "5    2018-10-12  2018-10-17 02:44:21   \n",
       "6          None  2018-10-17 02:44:21   \n",
       "7    2018-10-05  2018-10-17 02:44:20   \n",
       "8    2018-10-12  2018-10-17 02:44:19   \n",
       "9          None  2018-10-17 02:44:18   \n",
       "10   2018-10-12  2018-10-17 02:44:22   \n",
       "11   2018-10-12  2018-10-17 02:44:21   \n",
       "12   2018-10-12  2018-10-17 02:44:21   \n",
       "13   2018-10-12  2018-10-17 02:44:20   \n",
       "14   2018-10-12  2018-10-17 02:44:20   \n",
       "15   2018-10-12  2018-10-17 02:44:19   \n",
       "16         None  2018-10-11 11:04:11   \n",
       "17   2018-10-12  2018-10-11 11:04:07   \n",
       "18   2018-10-12  2018-10-17 02:44:18   \n",
       "19   2018-10-12  2018-10-17 02:44:18   \n",
       "\n",
       "                                                 link  \\\n",
       "0   {'type': 'article', 'url': 'http://www.nytimes...   \n",
       "1   {'type': 'article', 'url': 'http://www.nytimes...   \n",
       "2   {'type': 'article', 'url': 'http://www.nytimes...   \n",
       "3   {'type': 'article', 'url': 'http://www.nytimes...   \n",
       "4   {'type': 'article', 'url': 'http://www.nytimes...   \n",
       "5   {'type': 'article', 'url': 'http://www.nytimes...   \n",
       "6   {'type': 'article', 'url': 'http://www.nytimes...   \n",
       "7   {'type': 'article', 'url': 'http://www.nytimes...   \n",
       "8   {'type': 'article', 'url': 'http://www.nytimes...   \n",
       "9   {'type': 'article', 'url': 'http://www.nytimes...   \n",
       "10  {'type': 'article', 'url': 'http://www.nytimes...   \n",
       "11  {'type': 'article', 'url': 'http://www.nytimes...   \n",
       "12  {'type': 'article', 'url': 'http://www.nytimes...   \n",
       "13  {'type': 'article', 'url': 'http://www.nytimes...   \n",
       "14  {'type': 'article', 'url': 'http://www.nytimes...   \n",
       "15  {'type': 'article', 'url': 'http://www.nytimes...   \n",
       "16  {'type': 'article', 'url': 'http://www.nytimes...   \n",
       "17  {'type': 'article', 'url': 'http://www.nytimes...   \n",
       "18  {'type': 'article', 'url': 'http://www.nytimes...   \n",
       "19  {'type': 'article', 'url': 'http://www.nytimes...   \n",
       "\n",
       "                                           multimedia  \n",
       "0   {'type': 'mediumThreeByTwo210', 'src': 'https:...  \n",
       "1   {'type': 'mediumThreeByTwo210', 'src': 'https:...  \n",
       "2   {'type': 'mediumThreeByTwo210', 'src': 'https:...  \n",
       "3   {'type': 'mediumThreeByTwo210', 'src': 'https:...  \n",
       "4   {'type': 'mediumThreeByTwo210', 'src': 'https:...  \n",
       "5   {'type': 'mediumThreeByTwo210', 'src': 'https:...  \n",
       "6   {'type': 'mediumThreeByTwo210', 'src': 'https:...  \n",
       "7   {'type': 'mediumThreeByTwo210', 'src': 'https:...  \n",
       "8   {'type': 'mediumThreeByTwo210', 'src': 'https:...  \n",
       "9   {'type': 'mediumThreeByTwo210', 'src': 'https:...  \n",
       "10  {'type': 'mediumThreeByTwo210', 'src': 'https:...  \n",
       "11  {'type': 'mediumThreeByTwo210', 'src': 'https:...  \n",
       "12  {'type': 'mediumThreeByTwo210', 'src': 'https:...  \n",
       "13  {'type': 'mediumThreeByTwo210', 'src': 'https:...  \n",
       "14  {'type': 'mediumThreeByTwo210', 'src': 'https:...  \n",
       "15  {'type': 'mediumThreeByTwo210', 'src': 'https:...  \n",
       "16  {'type': 'mediumThreeByTwo210', 'src': 'https:...  \n",
       "17  {'type': 'mediumThreeByTwo210', 'src': 'https:...  \n",
       "18  {'type': 'mediumThreeByTwo210', 'src': 'https:...  \n",
       "19  {'type': 'mediumThreeByTwo210', 'src': 'https:...  "
      ]
     },
     "execution_count": 6,
     "metadata": {},
     "output_type": "execute_result"
    }
   ],
   "source": [
    "# Run this cell without changes\n",
    "import pandas as pd\n",
    "df = pd.DataFrame(results)\n",
    "df"
   ]
  },
  {
   "cell_type": "markdown",
   "metadata": {},
   "source": [
    "## Data Analysis\n",
    "\n",
    "Now that you have a general sense of the data, answer some questions about it.\n",
    "\n",
    "### How many results are in the file?\n",
    "\n",
    "The metadata says this:"
   ]
  },
  {
   "cell_type": "code",
   "execution_count": 7,
   "metadata": {},
   "outputs": [
    {
     "data": {
      "text/plain": [
       "20"
      ]
     },
     "execution_count": 7,
     "metadata": {},
     "output_type": "execute_result"
    }
   ],
   "source": [
    "# Run this cell without changes\n",
    "data['num_results']"
   ]
  },
  {
   "cell_type": "markdown",
   "metadata": {},
   "source": [
    "Double-check that by looking at `results`. Does it line up?"
   ]
  },
  {
   "cell_type": "code",
   "execution_count": 8,
   "metadata": {},
   "outputs": [
    {
     "data": {
      "text/plain": [
       "20"
      ]
     },
     "execution_count": 8,
     "metadata": {},
     "output_type": "execute_result"
    }
   ],
   "source": [
    "# Your code here\n",
    "len(results)"
   ]
  },
  {
   "cell_type": "code",
   "execution_count": null,
   "metadata": {},
   "outputs": [],
   "source": [
    "\"\"\"\n",
    "Your written answer here:\n",
    "    20 results is correct\n",
    "\"\"\""
   ]
  },
  {
   "cell_type": "markdown",
   "metadata": {},
   "source": [
    "### How many unique critics are there?\n",
    "\n",
    "A critic's name can be identified using the `'byline'` key. Assign your answer to the variable `unique_critics`."
   ]
  },
  {
   "cell_type": "code",
   "execution_count": 23,
   "metadata": {},
   "outputs": [
    {
     "name": "stdout",
     "output_type": "stream",
     "text": [
      "7\n"
     ]
    }
   ],
   "source": [
    "# Your code here\n",
    "\n",
    "critic_list = []\n",
    "\n",
    "for dic in results:\n",
    "    critic_list.append(dic['byline'])\n",
    "   \n",
    "unique_critics = len(set(critic_list))\n",
    "# print(critic_list)\n",
    "print(unique_critics)"
   ]
  },
  {
   "cell_type": "code",
   "execution_count": 21,
   "metadata": {},
   "outputs": [
    {
     "data": {
      "text/plain": [
       "'A.O. SCOTT'"
      ]
     },
     "execution_count": 21,
     "metadata": {},
     "output_type": "execute_result"
    }
   ],
   "source": [
    "results[0]['byline']"
   ]
  },
  {
   "cell_type": "markdown",
   "metadata": {},
   "source": [
    "This code checks your answer."
   ]
  },
  {
   "cell_type": "code",
   "execution_count": 22,
   "metadata": {},
   "outputs": [],
   "source": [
    "# Run this cell without changes\n",
    "assert unique_critics == 7"
   ]
  },
  {
   "cell_type": "markdown",
   "metadata": {},
   "source": [
    "## Flattening Data\n",
    "\n",
    "Create a list `review_urls` that contains the URL for each review. This can be found using the `'url'` key nested under `'link'`."
   ]
  },
  {
   "cell_type": "code",
   "execution_count": 25,
   "metadata": {},
   "outputs": [],
   "source": [
    "# Your code here (create more cells as needed)\n",
    "review_urls = []\n",
    "\n",
    "for dic in results:\n",
    "    review_urls.append(dic['link']['url'])\n",
    "    "
   ]
  },
  {
   "cell_type": "markdown",
   "metadata": {},
   "source": [
    "The following code will check your answer:"
   ]
  },
  {
   "cell_type": "code",
   "execution_count": 26,
   "metadata": {},
   "outputs": [],
   "source": [
    "# Run this cell without changes\n",
    "\n",
    "# review_urls should be a list\n",
    "assert type(review_urls) == list\n",
    "\n",
    "# The length should be 20, same as the length of reviews\n",
    "assert len(review_urls) == 20\n",
    "\n",
    "# The data type contained should be string\n",
    "assert type(review_urls[0]) == str and type(review_urls[-1]) == str\n",
    "\n",
    "# Spot checking a specific value\n",
    "assert review_urls[6] == 'http://www.nytimes.com/2018/10/11/movies/barbara-review.html'"
   ]
  },
  {
   "cell_type": "markdown",
   "metadata": {},
   "source": [
    "## Summary\n",
    "Well done! In this lab you continued to practice extracting and transforming data from JSON files with known schemas."
   ]
  }
 ],
 "metadata": {
  "kernelspec": {
   "display_name": "Python 3",
   "language": "python",
   "name": "python3"
  },
  "language_info": {
   "codemirror_mode": {
    "name": "ipython",
    "version": 3
   },
   "file_extension": ".py",
   "mimetype": "text/x-python",
   "name": "python",
   "nbconvert_exporter": "python",
   "pygments_lexer": "ipython3",
   "version": "3.8.5"
  },
  "toc": {
   "base_numbering": 1,
   "nav_menu": {},
   "number_sections": true,
   "sideBar": true,
   "skip_h1_title": false,
   "title_cell": "Table of Contents",
   "title_sidebar": "Contents",
   "toc_cell": false,
   "toc_position": {},
   "toc_section_display": true,
   "toc_window_display": false
  }
 },
 "nbformat": 4,
 "nbformat_minor": 2
}
