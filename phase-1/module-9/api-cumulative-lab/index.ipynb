{
 "cells": [
  {
   "cell_type": "markdown",
   "metadata": {},
   "source": [
    "# APIs - Cumulative Lab\n",
    "\n",
    "\n",
    "## Introduction \n",
    "\n",
    "We've seen how the Yelp API works and how to create basic visualizations using Folium. It's time to put those skills to work in order to create a working map! Taking things a step further, you'll also independently explore how to perform pagination in order to retrieve a full results set from the Yelp API.\n",
    "\n",
    "## Objectives\n",
    "\n",
    "You will be able to: \n",
    "\n",
    "* Practice using functions to organize your code\n",
    "* Use pagination to retrieve all results from an API query\n",
    "* Practice parsing data returned from an API query\n",
    "* Practice interpreting visualizations of a dataset\n",
    "* Create maps using Folium"
   ]
  },
  {
   "cell_type": "markdown",
   "metadata": {},
   "source": [
    "## Your Task: Query Yelp for All Businesses in a Category and Analyze the Results\n",
    "\n",
    "![restaurant counter with pizza](images/restaurant_counter.jpg)\n",
    "\n",
    "Photo by <a href=\"https://unsplash.com/@jordanmadrid?utm_source=unsplash&utm_medium=referral&utm_content=creditCopyText\">Jordan Madrid</a> on <a href=\"/s/photos/pizza-restaurant?utm_source=unsplash&utm_medium=referral&utm_content=creditCopyText\">Unsplash</a>"
   ]
  },
  {
   "cell_type": "markdown",
   "metadata": {},
   "source": [
    "### Overview\n",
    "\n",
    "You've now worked with some API calls, but we have yet to see how to retrieve a more complete dataset in a programmatic manner. In this lab, you will write a query of businesses on Yelp, then use *pagination* to retrieve all possible results for that query. Then you will create a summary of your findings, including a Folium map of the geographic locations of those businesses.\n",
    "\n",
    "### Technical Details\n",
    "\n",
    "Returning to the Yelp API, the [documentation](https://www.yelp.com/developers/documentation/v3/business_search) also provides us details regarding the **API limits**. These often include details about the number of requests a user is allowed to make within a specified time limit and the maximum number of results to be returned. In this case, we are told that any request has a **maximum of 50 results per request** and defaults to 20. Furthermore, any search will be limited to a **total of 1000 results**. To retrieve all 1000 of these results, we would have to page through the results piece by piece, retrieving 50 at a time. Processes such as these are often referred to as pagination.\n",
    "\n",
    "Also, be mindful of the **API** ***rate*** **limits**. You can only make **5000 requests per day** and are also can make requests too fast. Start prototyping small before running a loop that could be faulty. You can also use `time.sleep(n)` to add delays. For more details see https://www.yelp.com/developers/documentation/v3/rate_limiting.\n",
    "\n",
    "In this lab, you will define a search and then paginate over the results to retrieve all of the results. You'll then parse these responses as a list of dictionaries (for further exploration) and create a map using Folium to visualize the results geographically.\n",
    "\n",
    "### Requirements\n",
    "\n",
    "#### 1. Make the Initial Request\n",
    "\n",
    "Start by filling in your API key to make the initial request to the business search API. Investigate the structure of the response you get back and start figuring out how you will extract the relevant information.\n",
    "\n",
    "#### 2. Add Pagination\n",
    "\n",
    "Using loops and functions, collect the maximum number of results for your query from the API.\n",
    "\n",
    "#### 3. Perform Exploratory Analysis\n",
    "\n",
    "Interpret visualizations related to the price range, average rating, and number of reviews for all query results.\n",
    "\n",
    "#### 4. Create a Folium Map\n",
    "\n",
    "Using latitude and longitude data, plot the query results on an interactive map."
   ]
  },
  {
   "cell_type": "markdown",
   "metadata": {},
   "source": [
    "## 1. Make the Initial Request\n",
    "\n",
    "### Querying\n",
    "\n",
    "Start by making an initial request to the Yelp API. Your search must include at least 2 parameters: **term** and **location**. For example, you might search for pizza restaurants in NYC. The term and location is up to you but make the request below.\n",
    "\n",
    "Use the `requests` library ([documentation here](https://requests.readthedocs.io/en/master/user/quickstart/#make-a-request)).\n",
    "\n",
    "You'll also need an API key from Yelp. If you haven't done this already, go to the Yelp [Manage App page](https://www.yelp.com/developers/v3/manage_app) and create a new app (after making an account if you haven't already)."
   ]
  },
  {
   "cell_type": "code",
   "execution_count": 1,
   "metadata": {},
   "outputs": [],
   "source": [
    "def get_keys(path):\n",
    "    with open(path) as f:\n",
    "        return json.load(f)"
   ]
  },
  {
   "cell_type": "code",
   "execution_count": 2,
   "metadata": {},
   "outputs": [
    {
     "data": {
      "text/plain": [
       "200"
      ]
     },
     "execution_count": 2,
     "metadata": {},
     "output_type": "execute_result"
    }
   ],
   "source": [
    "# Replace None with appropriate code\n",
    "\n",
    "# import the requests library\n",
    "import pandas as pd\n",
    "import requests as rqs\n",
    "import json\n",
    "\n",
    "# Get this from the \"Manage App\" page. Make sure you set them\n",
    "# back to None before pushing this to GitHub, since otherwise\n",
    "# your credentials will be compromised\n",
    "api_key = get_keys(\"/Users/zethu/.secret/yelp_api.json\")['api_key']\n",
    "# These can be whatever you want! But the solution uses \"pizza\"\n",
    "# and \"New York NY\" if you want to compare your work directly\n",
    "term = \"taco\"\n",
    "location = \"San Antonio TX\"\n",
    "\n",
    "# Set up params for request\n",
    "url = \"https://api.yelp.com/v3/businesses/search\"\n",
    "headers = {\n",
    "    \"Authorization\": \"Bearer {}\".format(api_key)\n",
    "}\n",
    "url_params = {\n",
    "    \"term\": term.replace(\" \", \"+\"),\n",
    "    \"location\": location.replace(\" \", \"+\")\n",
    "}\n",
    "\n",
    "# Make the request using requests.get, passing in\n",
    "# url, headers=headers, and params=url_params\n",
    "response = rqs.get(url,headers=headers,params=url_params)\n",
    "\n",
    "# Confirm we got a 200 response\n",
    "response.status_code"
   ]
  },
  {
   "cell_type": "code",
   "execution_count": 3,
   "metadata": {},
   "outputs": [
    {
     "data": {
      "text/plain": [
       "dict_keys(['businesses', 'total', 'region'])"
      ]
     },
     "execution_count": 3,
     "metadata": {},
     "output_type": "execute_result"
    }
   ],
   "source": [
    "# Run this cell without changes\n",
    "\n",
    "# Get the response body in JSON format\n",
    "response_json = response.json()\n",
    "# View the keys\n",
    "response_json.keys()"
   ]
  },
  {
   "cell_type": "markdown",
   "metadata": {},
   "source": [
    "### Extracting Data\n",
    "\n",
    "Now, retrieve the value associated with the `'businesses'` key, and inspect its contents."
   ]
  },
  {
   "cell_type": "code",
   "execution_count": 4,
   "metadata": {
    "scrolled": false
   },
   "outputs": [
    {
     "name": "stdout",
     "output_type": "stream",
     "text": [
      "dict_keys(['id', 'alias', 'name', 'image_url', 'is_closed', 'url', 'review_count', 'categories', 'rating', 'coordinates', 'transactions', 'price', 'location', 'phone', 'display_phone', 'distance'])\n"
     ]
    },
    {
     "data": {
      "text/plain": [
       "{'id': 'j2Ym1bd-tRyM-G5qXZ1yCw',\n",
       " 'alias': 'petes-tako-house-san-antonio',\n",
       " 'name': \"Pete's Tako House\",\n",
       " 'image_url': 'https://s3-media3.fl.yelpcdn.com/bphoto/B8oW5Epo4y86QSPVf1IlOg/o.jpg',\n",
       " 'is_closed': False,\n",
       " 'url': 'https://www.yelp.com/biz/petes-tako-house-san-antonio?adjust_creative=KH8mJLamM13R-kREq0aUCQ&utm_campaign=yelp_api_v3&utm_medium=api_v3_business_search&utm_source=KH8mJLamM13R-kREq0aUCQ',\n",
       " 'review_count': 1091,\n",
       " 'categories': [{'alias': 'breakfast_brunch', 'title': 'Breakfast & Brunch'},\n",
       "  {'alias': 'tacos', 'title': 'Tacos'},\n",
       "  {'alias': 'tex-mex', 'title': 'Tex-Mex'}],\n",
       " 'rating': 4.5,\n",
       " 'coordinates': {'latitude': 29.4328575134277, 'longitude': -98.4843139648438},\n",
       " 'transactions': ['pickup', 'delivery'],\n",
       " 'price': '$',\n",
       " 'location': {'address1': '502 Brooklyn Ave',\n",
       "  'address2': '',\n",
       "  'address3': '',\n",
       "  'city': 'San Antonio',\n",
       "  'zip_code': '78215',\n",
       "  'country': 'US',\n",
       "  'state': 'TX',\n",
       "  'display_address': ['502 Brooklyn Ave', 'San Antonio, TX 78215']},\n",
       " 'phone': '+12102242911',\n",
       " 'display_phone': '(210) 224-2911',\n",
       " 'distance': 7441.387940555176}"
      ]
     },
     "execution_count": 4,
     "metadata": {},
     "output_type": "execute_result"
    }
   ],
   "source": [
    "# Replace None with appropriate code\n",
    "\n",
    "# Retrieve the value from response_json\n",
    "businesses = response_json['businesses']\n",
    "\n",
    "# View the first 2 records\n",
    "print(businesses[:1][0].keys())\n",
    "businesses[1]"
   ]
  },
  {
   "cell_type": "markdown",
   "metadata": {},
   "source": [
    "### Preparing Data\n",
    "\n",
    "Write a function `prepare_data` that takes in a list of dictionaries like `businesses` and returns a copy that has been prepared for analysis:\n",
    "\n",
    "1. The `coordinates` key-value pair has been converted into two separate key-value pairs, `latitude` and `longitude`\n",
    "2. All other key-value pairs except for `name`, `review_count`, `rating`, and `price` have been dropped\n",
    "3. All dictionaries missing one of the relevant keys or containing null values have been dropped\n",
    "\n",
    "In other words, the final keys for each dictionary should be `name`, `review_count`, `rating`, `price`, `latitude`, and `longitude`.\n",
    "\n",
    "Complete the function in the cell below:"
   ]
  },
  {
   "cell_type": "code",
   "execution_count": null,
   "metadata": {},
   "outputs": [],
   "source": []
  },
  {
   "cell_type": "code",
   "execution_count": 5,
   "metadata": {},
   "outputs": [
    {
     "name": "stdout",
     "output_type": "stream",
     "text": [
      "{'name': 'Tacos and Chelas Mexican Kitchen', 'review_count': 272, 'rating': 4.0, 'price': '$', 'longitude': -98.686426, 'latitude': 29.435665}\n",
      "{'name': \"Pete's Tako House\", 'review_count': 1091, 'rating': 4.5, 'price': '$', 'longitude': -98.4843139648438, 'latitude': 29.4328575134277}\n",
      "{'name': 'Taquitos West Ave', 'review_count': 576, 'rating': 4.5, 'price': '$', 'longitude': -98.52573, 'latitude': 29.48637}\n",
      "{'name': 'El Pastor Es Mi Señor', 'review_count': 40, 'rating': 4.5, 'price': None, 'longitude': -98.57025734355217, 'latitude': 29.524523819448078}\n",
      "{'name': 'Tlahco Mexican kitchen', 'review_count': 411, 'rating': 4.5, 'price': '$$', 'longitude': -98.4989311110433, 'latitude': 29.5006724654481}\n",
      "{'name': 'Tacos El Regio', 'review_count': 86, 'rating': 4.5, 'price': '$', 'longitude': -98.486226, 'latitude': 29.450863}\n",
      "{'name': 'Taqueria El Trompo', 'review_count': 185, 'rating': 4.5, 'price': '$$', 'longitude': -98.554941488928, 'latitude': 29.5096948824644}\n",
      "{'name': \"Rosario's Mexican Cafe Y Cantina\", 'review_count': 3122, 'rating': 4.0, 'price': '$$', 'longitude': -98.4896087646484, 'latitude': 29.4151248931885}\n",
      "{'name': 'Tacos La Salsita', 'review_count': 42, 'rating': 5.0, 'price': '$', 'longitude': -98.65919, 'latitude': 29.41742}\n",
      "{'name': 'Birria Barrio', 'review_count': 37, 'rating': 4.0, 'price': None, 'longitude': -98.481188, 'latitude': 29.394945}\n",
      "{'name': 'La Feria Del Taco', 'review_count': 10, 'rating': 5.0, 'price': None, 'longitude': -98.49978, 'latitude': 29.48715}\n",
      "{'name': 'Tito’s Taco House', 'review_count': 18, 'rating': 4.5, 'price': None, 'longitude': -98.51286, 'latitude': 29.543}\n",
      "{'name': \"Chela's Tacos\", 'review_count': 250, 'rating': 4.5, 'price': '$', 'longitude': -98.46325, 'latitude': 29.47581}\n",
      "{'name': 'Los Azulejos', 'review_count': 206, 'rating': 4.5, 'price': '$$', 'longitude': -98.5257215403357, 'latitude': 29.5372395450279}\n",
      "{'name': 'Taquitos Mexico', 'review_count': 53, 'rating': 5.0, 'price': '$', 'longitude': -98.6341025454331, 'latitude': 29.4820587441317}\n",
      "{'name': 'Tacos El Guero', 'review_count': 29, 'rating': 4.5, 'price': '$', 'longitude': -98.49402219057083, 'latitude': 29.445788593274752}\n",
      "{'name': \"Los Balito's Taco Shop\", 'review_count': 564, 'rating': 4.0, 'price': '$', 'longitude': -98.4862852792328, 'latitude': 29.5658278038698}\n",
      "{'name': 'Birrieria Estilo Jalisco', 'review_count': 76, 'rating': 4.5, 'price': None, 'longitude': -98.391949, 'latitude': 29.563928}\n",
      "{'name': 'Pollos Asados Los Norteños', 'review_count': 761, 'rating': 4.5, 'price': '$$', 'longitude': -98.40054, 'latitude': 29.398}\n",
      "{'name': 'Torchys Tacos', 'review_count': 944, 'rating': 4.0, 'price': '$$', 'longitude': -98.47054, 'latitude': 29.497604}\n"
     ]
    },
    {
     "data": {
      "text/plain": [
       "[{'name': 'Tacos and Chelas Mexican Kitchen',\n",
       "  'review_count': 272,\n",
       "  'rating': 4.0,\n",
       "  'price': '$',\n",
       "  'longitude': -98.686426,\n",
       "  'latitude': 29.435665},\n",
       " {'name': \"Pete's Tako House\",\n",
       "  'review_count': 1091,\n",
       "  'rating': 4.5,\n",
       "  'price': '$',\n",
       "  'longitude': -98.4843139648438,\n",
       "  'latitude': 29.4328575134277},\n",
       " {'name': 'Taquitos West Ave',\n",
       "  'review_count': 576,\n",
       "  'rating': 4.5,\n",
       "  'price': '$',\n",
       "  'longitude': -98.52573,\n",
       "  'latitude': 29.48637},\n",
       " {'name': 'Tlahco Mexican kitchen',\n",
       "  'review_count': 411,\n",
       "  'rating': 4.5,\n",
       "  'price': '$$',\n",
       "  'longitude': -98.4989311110433,\n",
       "  'latitude': 29.5006724654481},\n",
       " {'name': 'Tacos El Regio',\n",
       "  'review_count': 86,\n",
       "  'rating': 4.5,\n",
       "  'price': '$',\n",
       "  'longitude': -98.486226,\n",
       "  'latitude': 29.450863}]"
      ]
     },
     "execution_count": 5,
     "metadata": {},
     "output_type": "execute_result"
    }
   ],
   "source": [
    "# Replace None with appropriate code\n",
    "\n",
    "def prepare_data(data_list):\n",
    "    \"\"\"\n",
    "    This function takes in a list of dictionaries and prepares it\n",
    "    for analysis\n",
    "    \"\"\"\n",
    "    \n",
    "    # Make a new list to hold results\n",
    "    results = []\n",
    "    \n",
    "    for business_data in data_list:\n",
    "    \n",
    "        # Make a new dictionary to hold prepared data for this business\n",
    "        prepared_data = {}\n",
    "        needed_keys = ('name','review_count','rating','price','longitude','latitude')\n",
    "        \n",
    "        # Extract name, review_count, rating, and price key-value pairs\n",
    "        # from business_data and add to prepared_data\n",
    "        # If a key is not present in business_data, add it to prepared_data\n",
    "        # with an associated value of None\n",
    "        for key in needed_keys:\n",
    "            prepared_data[key] = business_data.get(key,None)\n",
    "        \n",
    "        # Parse and add latitude and longitude columns\n",
    "        prepared_data['latitude'] = business_data['coordinates']['latitude']\n",
    "        prepared_data['longitude'] = business_data['coordinates']['longitude']\n",
    "        print(prepared_data)\n",
    "        \n",
    "        # Add to list if all values are present\n",
    "        if all(prepared_data.values()):\n",
    "            results.append(prepared_data)\n",
    "    \n",
    "    return results\n",
    "    \n",
    "# Test out function\n",
    "prepared_businesses = prepare_data(businesses)\n",
    "prepared_businesses[:5]"
   ]
  },
  {
   "cell_type": "markdown",
   "metadata": {},
   "source": [
    "Check that your function created the correct keys:"
   ]
  },
  {
   "cell_type": "code",
   "execution_count": 6,
   "metadata": {},
   "outputs": [],
   "source": [
    "# Run this cell without changes\n",
    "\n",
    "assert sorted(list(prepared_businesses[0].keys())) == ['latitude', 'longitude', 'name', 'price', 'rating', 'review_count']"
   ]
  },
  {
   "cell_type": "markdown",
   "metadata": {},
   "source": [
    "The following code will differ depending on your query, but we expect there to be 20 businesses in the original list, and potentially fewer in the prepared list (if any of them were missing data):"
   ]
  },
  {
   "cell_type": "code",
   "execution_count": 7,
   "metadata": {},
   "outputs": [
    {
     "name": "stdout",
     "output_type": "stream",
     "text": [
      "Original: 20\n",
      "Prepared: 15\n"
     ]
    }
   ],
   "source": [
    "# Run this cell without changes\n",
    "print(\"Original:\", len(businesses))\n",
    "print(\"Prepared:\", len(prepared_businesses))"
   ]
  },
  {
   "cell_type": "markdown",
   "metadata": {},
   "source": [
    "Great! We will reuse this function once we have retrieved the full dataset."
   ]
  },
  {
   "cell_type": "markdown",
   "metadata": {},
   "source": [
    "## 2. Add Pagination\n",
    "\n",
    "Now that you are able to extract information from one page of the response, let's figure out how to request as many pages as possible.\n",
    "\n",
    "### Determining the Total\n",
    "\n",
    "Depending on the number of total results for your query, you will either retrieve all of the results, or just the first 1000 (if there are more than 1000 total).\n",
    "\n",
    "We can find the total number of results using the `\"total\"` key:"
   ]
  },
  {
   "cell_type": "code",
   "execution_count": 8,
   "metadata": {},
   "outputs": [
    {
     "data": {
      "text/plain": [
       "240"
      ]
     },
     "execution_count": 8,
     "metadata": {},
     "output_type": "execute_result"
    }
   ],
   "source": [
    "# Run this cell without changes\n",
    "response_json[\"total\"]"
   ]
  },
  {
   "cell_type": "markdown",
   "metadata": {},
   "source": [
    "(This is specific to the implementation of the Yelp API. Some APIs will just tell you that there are more pages, or will tell you the number of pages total, rather than the total number of results. If you're not sure, always check the documentation.)\n",
    "\n",
    "In the cell below, assign the variable `total` to either the value shown above (if it is less than 1000), or 1000."
   ]
  },
  {
   "cell_type": "code",
   "execution_count": 9,
   "metadata": {},
   "outputs": [],
   "source": [
    "# Replace None with appropriate code\n",
    "total = response_json['total']"
   ]
  },
  {
   "cell_type": "markdown",
   "metadata": {},
   "source": [
    "### Calculating the Offsets\n",
    "\n",
    "The documentation states in the parameters section:\n",
    "\n",
    "> **Name**: `limit`, **Type:** int, **Description:** Optional. Number of business results to return. By default, it will return 20. Maximum is 50.\n",
    "\n",
    "> **Name**: `offset`, **Type:** int, **Description:** Optional. Offset the list of returned business results by this amount.\n",
    "\n",
    "So, to get the most results with the fewest API calls we want to set a limit of 50 every time. If, say, we wanted to get 210 total results, that would mean:\n",
    "\n",
    "1. Offset of `0` (first 50 records)\n",
    "2. Offset of `50` (second 50 records)\n",
    "3. Offset of `100` (third 50 records)\n",
    "4. Offset of `150` (fourth 50 records)\n",
    "5. Offset of `200` (final 10 records)\n",
    "\n",
    "In the cell below, create a function `get_offsets` that takes in a total and returns a list of offsets for that total. You can assume that there is a limit of 50 every time.\n",
    "\n",
    "*Hint: you can use `range` ([documentation here](https://docs.python.org/3.3/library/stdtypes.html?highlight=range#range)) to do this in one line of code. Just make the returned result is a list.*"
   ]
  },
  {
   "cell_type": "code",
   "execution_count": 10,
   "metadata": {},
   "outputs": [],
   "source": [
    "# Replace None with appropriate code\n",
    "def get_offsets(total):\n",
    "    \"\"\"\n",
    "    Get a list of offsets needed to get all pages\n",
    "    of data up until the total\n",
    "    \"\"\"\n",
    "    return list(range(0,total,50))"
   ]
  },
  {
   "cell_type": "markdown",
   "metadata": {},
   "source": [
    "Check that your function works below:"
   ]
  },
  {
   "cell_type": "code",
   "execution_count": 11,
   "metadata": {},
   "outputs": [],
   "source": [
    "# Run this cell without changes\n",
    "\n",
    "assert get_offsets(200) == [0, 50, 100, 150]\n",
    "assert get_offsets(210) == [0, 50, 100, 150, 200]"
   ]
  },
  {
   "cell_type": "markdown",
   "metadata": {},
   "source": [
    "### Putting It All Together\n",
    "\n",
    "Recall that the following variable has already been declared for you:"
   ]
  },
  {
   "cell_type": "code",
   "execution_count": 12,
   "metadata": {},
   "outputs": [
    {
     "data": {
      "text/plain": [
       "{'term': 'taco', 'location': 'San+Antonio+TX'}"
      ]
     },
     "execution_count": 12,
     "metadata": {},
     "output_type": "execute_result"
    }
   ],
   "source": [
    "# Run this cell without changes\n",
    "url_params"
   ]
  },
  {
   "cell_type": "markdown",
   "metadata": {},
   "source": [
    "We'll go ahead and also specify that the limit should be 50 every time:"
   ]
  },
  {
   "cell_type": "code",
   "execution_count": 13,
   "metadata": {},
   "outputs": [],
   "source": [
    "# Run this cell without changes\n",
    "url_params[\"limit\"] = 50"
   ]
  },
  {
   "cell_type": "markdown",
   "metadata": {},
   "source": [
    "In order to modify the offset, you'll need to add it to `url_params` with the key `\"offset\"` and whatever value is needed.\n",
    "\n",
    "In the cell below, write code that:\n",
    "\n",
    "* Creates an empty list for the full prepared dataset\n",
    "* Loops over all of the offsets from `get_offsets` and makes an API call each time with the specified offset\n",
    "* Calls `prepare_data` to get a cleaned version of the result of each API call\n",
    "* Extends the full prepared dataset list with each query's prepared dataset"
   ]
  },
  {
   "cell_type": "code",
   "execution_count": 14,
   "metadata": {},
   "outputs": [
    {
     "name": "stdout",
     "output_type": "stream",
     "text": [
      "{'name': 'Tacos and Chelas Mexican Kitchen', 'review_count': 272, 'rating': 4.0, 'price': '$', 'longitude': -98.686426, 'latitude': 29.435665}\n",
      "{'name': \"Pete's Tako House\", 'review_count': 1091, 'rating': 4.5, 'price': '$', 'longitude': -98.4843139648438, 'latitude': 29.4328575134277}\n",
      "{'name': 'Taquitos West Ave', 'review_count': 576, 'rating': 4.5, 'price': '$', 'longitude': -98.52573, 'latitude': 29.48637}\n",
      "{'name': 'El Pastor Es Mi Señor', 'review_count': 40, 'rating': 4.5, 'price': None, 'longitude': -98.57025734355217, 'latitude': 29.524523819448078}\n",
      "{'name': 'Tlahco Mexican kitchen', 'review_count': 411, 'rating': 4.5, 'price': '$$', 'longitude': -98.4989311110433, 'latitude': 29.5006724654481}\n",
      "{'name': 'Tacos El Regio', 'review_count': 86, 'rating': 4.5, 'price': '$', 'longitude': -98.486226, 'latitude': 29.450863}\n",
      "{'name': 'Taqueria El Trompo', 'review_count': 185, 'rating': 4.5, 'price': '$$', 'longitude': -98.554941488928, 'latitude': 29.5096948824644}\n",
      "{'name': \"Rosario's Mexican Cafe Y Cantina\", 'review_count': 3122, 'rating': 4.0, 'price': '$$', 'longitude': -98.4896087646484, 'latitude': 29.4151248931885}\n",
      "{'name': 'Tacos La Salsita', 'review_count': 42, 'rating': 5.0, 'price': '$', 'longitude': -98.65919, 'latitude': 29.41742}\n",
      "{'name': 'Birria Barrio', 'review_count': 37, 'rating': 4.0, 'price': None, 'longitude': -98.481188, 'latitude': 29.394945}\n",
      "{'name': 'La Feria Del Taco', 'review_count': 10, 'rating': 5.0, 'price': None, 'longitude': -98.49978, 'latitude': 29.48715}\n",
      "{'name': 'Tito’s Taco House', 'review_count': 18, 'rating': 4.5, 'price': None, 'longitude': -98.51286, 'latitude': 29.543}\n",
      "{'name': \"Chela's Tacos\", 'review_count': 250, 'rating': 4.5, 'price': '$', 'longitude': -98.46325, 'latitude': 29.47581}\n",
      "{'name': 'Los Azulejos', 'review_count': 206, 'rating': 4.5, 'price': '$$', 'longitude': -98.5257215403357, 'latitude': 29.5372395450279}\n",
      "{'name': 'Taquitos Mexico', 'review_count': 53, 'rating': 5.0, 'price': '$', 'longitude': -98.6341025454331, 'latitude': 29.4820587441317}\n",
      "{'name': 'Tacos El Guero', 'review_count': 29, 'rating': 4.5, 'price': '$', 'longitude': -98.49402219057083, 'latitude': 29.445788593274752}\n",
      "{'name': \"Los Balito's Taco Shop\", 'review_count': 564, 'rating': 4.0, 'price': '$', 'longitude': -98.4862852792328, 'latitude': 29.5658278038698}\n",
      "{'name': 'Birrieria Estilo Jalisco', 'review_count': 76, 'rating': 4.5, 'price': None, 'longitude': -98.391949, 'latitude': 29.563928}\n",
      "{'name': 'Pollos Asados Los Norteños', 'review_count': 761, 'rating': 4.5, 'price': '$$', 'longitude': -98.40054, 'latitude': 29.398}\n",
      "{'name': 'Torchys Tacos', 'review_count': 944, 'rating': 4.0, 'price': '$$', 'longitude': -98.47054, 'latitude': 29.497604}\n",
      "{'name': 'Tacos N Salsa', 'review_count': 379, 'rating': 4.5, 'price': '$', 'longitude': -98.5863043994751, 'latitude': 29.5930585120724}\n",
      "{'name': 'Tacos N Salsa', 'review_count': 58, 'rating': 5.0, 'price': '$', 'longitude': -98.584285, 'latitude': 29.537906}\n",
      "{'name': 'Taquitos & Panaderia West Avenue', 'review_count': 133, 'rating': 4.5, 'price': '$', 'longitude': -98.39936, 'latitude': 29.55623}\n",
      "{'name': 'Fuego Tortilla Grill', 'review_count': 34, 'rating': 4.5, 'price': '$', 'longitude': -98.59728841824301, 'latitude': 29.575096024709286}\n",
      "{'name': 'Big Poppas Tacos', 'review_count': 102, 'rating': 4.0, 'price': '$', 'longitude': -98.46233, 'latitude': 29.43764}\n",
      "{'name': 'La Taqueria de Monterrey', 'review_count': 139, 'rating': 4.5, 'price': '$', 'longitude': -98.559871, 'latitude': 29.484182}\n",
      "{'name': 'The Taco Place', 'review_count': 46, 'rating': 4.5, 'price': '$', 'longitude': -98.71640699999999, 'latitude': 29.526077902673894}\n",
      "{'name': 'Taco Blvd', 'review_count': 216, 'rating': 4.0, 'price': '$', 'longitude': -98.50697, 'latitude': 29.61068}\n",
      "{'name': 'Birotes Tortas Ahogadas', 'review_count': 34, 'rating': 4.5, 'price': None, 'longitude': -98.52555, 'latitude': 29.43185}\n",
      "{'name': 'Los Tacos Gueros', 'review_count': 300, 'rating': 4.5, 'price': '$', 'longitude': -98.49356, 'latitude': 29.62743}\n",
      "{'name': 'Chilaquil', 'review_count': 32, 'rating': 4.5, 'price': '$$', 'longitude': -98.48060281197985, 'latitude': 29.441919770867813}\n",
      "{'name': 'Mister Diablo Food Truck', 'review_count': 33, 'rating': 4.5, 'price': None, 'longitude': -98.47511, 'latitude': 29.4465355}\n",
      "{'name': 'Henrys Puffy Tacos', 'review_count': 136, 'rating': 4.5, 'price': '$', 'longitude': -98.556315, 'latitude': 29.456678}\n",
      "{'name': 'Sanchos', 'review_count': 476, 'rating': 4.0, 'price': '$', 'longitude': -98.4993, 'latitude': 29.43943}\n",
      "{'name': 'Guajillos The Shortcut to Mexico', 'review_count': 660, 'rating': 4.0, 'price': '$$', 'longitude': -98.506983, 'latitude': 29.521188}\n",
      "{'name': 'Taco Palenque Broadway', 'review_count': 243, 'rating': 4.0, 'price': '$', 'longitude': -98.4593603, 'latitude': 29.5155628}\n",
      "{'name': 'Vatos Locos Tacos', 'review_count': 2, 'rating': 5.0, 'price': None, 'longitude': -98.40192677520159, 'latitude': 29.691788303279075}\n",
      "{'name': 'Tacos Los Hermanos', 'review_count': 3, 'rating': 2.5, 'price': None, 'longitude': -98.48890523071192, 'latitude': 29.425155564259843}\n",
      "{'name': 'Los Tapatios Market', 'review_count': 38, 'rating': 5.0, 'price': None, 'longitude': -98.294412, 'latitude': 29.549212}\n",
      "{'name': 'Compadres Hill Country Cocina', 'review_count': 54, 'rating': 5.0, 'price': None, 'longitude': -98.73463, 'latitude': 29.794762}\n",
      "{'name': 'Taqueria Casa Gallo', 'review_count': 10, 'rating': 4.5, 'price': '$', 'longitude': -98.5081690607445, 'latitude': 29.4810063941096}\n",
      "{'name': 'Tacos El Amigo', 'review_count': 15, 'rating': 4.5, 'price': '$', 'longitude': -98.507465, 'latitude': 29.471669}\n",
      "{'name': 'Little Taco Factory Mexican Restaurant', 'review_count': 59, 'rating': 4.5, 'price': '$', 'longitude': -98.4917251, 'latitude': 29.4431867}\n",
      "{'name': 'Tacos Y Burritos Metro Basilica 2', 'review_count': 176, 'rating': 4.5, 'price': '$', 'longitude': -98.63914, 'latitude': 29.46048}\n",
      "{'name': 'El Remedio mariscos y Taqueria', 'review_count': 117, 'rating': 3.5, 'price': '$$', 'longitude': -98.558089, 'latitude': 29.448138}\n",
      "{'name': \"Erick's Tacos\", 'review_count': 289, 'rating': 4.0, 'price': '$', 'longitude': -98.40102631901428, 'latitude': 29.555697518415375}\n",
      "{'name': 'Taqueria Jalisco No 13', 'review_count': 13, 'rating': 4.5, 'price': None, 'longitude': -98.542549, 'latitude': 29.481737}\n",
      "{'name': 'Taqueria Tequila Jalisco', 'review_count': 120, 'rating': 4.5, 'price': '$', 'longitude': -98.61069, 'latitude': 29.37485}\n",
      "{'name': \"Garcia's Mexican Food\", 'review_count': 231, 'rating': 4.5, 'price': '$', 'longitude': -98.513298, 'latitude': 29.451715}\n",
      "{'name': \"Lula's Mexican Cafe\", 'review_count': 227, 'rating': 4.5, 'price': '$', 'longitude': -98.4930953065848, 'latitude': 29.4276724885156}\n",
      "{'name': '2hermanos Taco Truck', 'review_count': 5, 'rating': 5.0, 'price': None, 'longitude': -98.499526898893, 'latitude': 29.5077094058174}\n",
      "{'name': 'Velvet Taco', 'review_count': 85, 'rating': 4.5, 'price': '$$', 'longitude': -98.48179, 'latitude': 29.444899}\n",
      "{'name': 'Santos Mexican Cafe II', 'review_count': 58, 'rating': 4.5, 'price': '$', 'longitude': -98.49294, 'latitude': 29.52902}\n",
      "{'name': 'Taqueria Datapoint', 'review_count': 720, 'rating': 4.5, 'price': '$', 'longitude': -98.5626586, 'latitude': 29.5180712}\n",
      "{'name': 'Taqueria El Charro Tapatio', 'review_count': 12, 'rating': 4.5, 'price': '$', 'longitude': -98.50755, 'latitude': 29.4901}\n",
      "{'name': 'Taquitos El Jefe', 'review_count': 11, 'rating': 4.5, 'price': None, 'longitude': -98.5570220245069, 'latitude': 29.302304338235768}\n",
      "{'name': 'Big Poppas Tacos Food Truck', 'review_count': 18, 'rating': 4.0, 'price': '$', 'longitude': -98.4880838, 'latitude': 29.448506}\n",
      "{'name': 'El Mariachi Loco', 'review_count': 10, 'rating': 4.5, 'price': '$', 'longitude': -98.492111, 'latitude': 29.528698}\n",
      "{'name': 'Ro-Ho Pork and Bread Tortas Ahogadas', 'review_count': 257, 'rating': 4.5, 'price': '$', 'longitude': -98.458451, 'latitude': 29.519053}\n",
      "{'name': 'Regios Tacos Al Vapor', 'review_count': 14, 'rating': 4.5, 'price': None, 'longitude': -98.41069, 'latitude': 29.543638}\n",
      "{'name': 'Tacos El Regio', 'review_count': 60, 'rating': 4.5, 'price': '$', 'longitude': -98.3999516319294, 'latitude': 29.5564698277602}\n",
      "{'name': 'Guerito’s Red Tacos', 'review_count': 22, 'rating': 4.5, 'price': None, 'longitude': -98.71902, 'latitude': 29.52151}\n",
      "{'name': \"Ricky's Tacos\", 'review_count': 146, 'rating': 4.0, 'price': '$', 'longitude': -98.61542192560658, 'latitude': 29.55683304738071}\n",
      "{'name': 'Mexico Lindo Restaurants', 'review_count': 36, 'rating': 4.5, 'price': None, 'longitude': -98.47533, 'latitude': 29.49894}\n",
      "{'name': 'The Original Donut Shop', 'review_count': 333, 'rating': 4.0, 'price': '$', 'longitude': -98.5345, 'latitude': 29.47254}\n",
      "{'name': 'Carnitas Don Raul', 'review_count': 99, 'rating': 4.5, 'price': None, 'longitude': -98.475111, 'latitude': 29.446538}\n",
      "{'name': 'Texas Tacos', 'review_count': 41, 'rating': 4.5, 'price': None, 'longitude': -98.41284, 'latitude': 29.79833}\n",
      "{'name': 'Crazy Taco Truck', 'review_count': 7, 'rating': 5.0, 'price': None, 'longitude': -98.5393446, 'latitude': 29.4469718}\n",
      "{'name': \"Candela's Mexican Grill\", 'review_count': 18, 'rating': 3.0, 'price': '$', 'longitude': -98.36182868503501, 'latitude': 29.29398249661176}\n",
      "{'name': 'Los Arcos Mexican Grill', 'review_count': 14, 'rating': 3.5, 'price': None, 'longitude': -98.525107, 'latitude': 29.518363}\n",
      "{'name': \"Abuela's Mexican Restaurant\", 'review_count': 115, 'rating': 4.5, 'price': '$', 'longitude': -98.5270867736051, 'latitude': 29.5411504748917}\n",
      "{'name': 'Sangria On the Burg', 'review_count': 1267, 'rating': 4.0, 'price': '$$', 'longitude': -98.559852, 'latitude': 29.501606}\n",
      "{'name': 'Regios Tacos Al Vapor', 'review_count': 38, 'rating': 4.5, 'price': '$', 'longitude': -98.550137153665, 'latitude': 29.3881151981135}\n",
      "{'name': 'Tejanitas Mexican Restaurant', 'review_count': 11, 'rating': 4.0, 'price': '$$', 'longitude': -98.4106205776334, 'latitude': 29.5371836954066}\n",
      "{'name': 'Tacos Tlaquepaque Jalisco', 'review_count': 1, 'rating': 5.0, 'price': None, 'longitude': -98.554422, 'latitude': 29.447952}\n",
      "{'name': 'Rios Barbacoa', 'review_count': 87, 'rating': 4.5, 'price': '$$', 'longitude': -98.6043399, 'latitude': 29.51995}\n",
      "{'name': 'La Barca De Jalisco', 'review_count': 40, 'rating': 4.5, 'price': '$', 'longitude': -98.49088, 'latitude': 29.39485}\n",
      "{'name': 'Tia’s Taco Hut', 'review_count': 9, 'rating': 3.5, 'price': None, 'longitude': -98.50409, 'latitude': 29.523898}\n",
      "{'name': 'Sabor Cocinabar', 'review_count': 481, 'rating': 4.5, 'price': '$$', 'longitude': -98.492007, 'latitude': 29.4717878}\n",
      "{'name': 'Tacos El Amigo', 'review_count': 3, 'rating': 5.0, 'price': '$', 'longitude': -98.5350137, 'latitude': 29.4924058}\n",
      "{'name': 'Taqueria El Charro De Jalisco', 'review_count': 9, 'rating': 4.5, 'price': '$$$$', 'longitude': -98.65564, 'latitude': 29.41705}\n",
      "{'name': \"Cabo Bob's Burritos\", 'review_count': 203, 'rating': 4.5, 'price': '$', 'longitude': -98.46208, 'latitude': 29.51713}\n",
      "{'name': 'Taqueria Vallarta', 'review_count': 65, 'rating': 4.0, 'price': '$', 'longitude': -98.46559, 'latitude': 29.51278}\n",
      "{'name': 'El Chivito Tortas Ahogadas', 'review_count': 199, 'rating': 4.5, 'price': '$', 'longitude': -98.5492553146032, 'latitude': 29.491750252741}\n",
      "{'name': 'Taco House', 'review_count': 114, 'rating': 4.0, 'price': '$', 'longitude': -98.499648, 'latitude': 29.4947}\n",
      "{'name': 'El Viejo 300', 'review_count': 7, 'rating': 4.5, 'price': None, 'longitude': -98.58574, 'latitude': 29.50408}\n",
      "{'name': 'Teka Molino', 'review_count': 177, 'rating': 4.0, 'price': '$', 'longitude': -98.49985, 'latitude': 29.51473}\n",
      "{'name': 'AL CARBON', 'review_count': 106, 'rating': 4.5, 'price': '$$', 'longitude': -98.51314, 'latitude': 29.44421}\n",
      "{'name': 'Los Vecinos', 'review_count': 8, 'rating': 5.0, 'price': None, 'longitude': -98.633942, 'latitude': 29.676539}\n",
      "{'name': 'El Taco Stone Oak', 'review_count': 172, 'rating': 4.0, 'price': '$', 'longitude': -98.49445, 'latitude': 29.62728}\n",
      "{'name': 'El Taco Grill', 'review_count': 119, 'rating': 4.0, 'price': '$', 'longitude': -98.512501, 'latitude': 29.622499}\n",
      "{'name': \"Ezekiel's Tacos\", 'review_count': 44, 'rating': 4.5, 'price': '$', 'longitude': -98.63186, 'latitude': 29.57133}\n",
      "{'name': 'Wapo Taco', 'review_count': 169, 'rating': 4.0, 'price': '$', 'longitude': -98.696503, 'latitude': 29.513058}\n",
      "{'name': \"Lucy's Cafe\", 'review_count': 38, 'rating': 4.5, 'price': '$', 'longitude': -98.526337, 'latitude': 29.484144}\n",
      "{'name': 'Panchos and Gringos', 'review_count': 540, 'rating': 4.5, 'price': '$', 'longitude': -98.470105, 'latitude': 29.4274321}\n",
      "{'name': 'Ajuua Mexican Grill', 'review_count': 381, 'rating': 4.0, 'price': '$$', 'longitude': -98.5736242725811, 'latitude': 29.5524036169485}\n",
      "{'name': 'La Panadería', 'review_count': 1485, 'rating': 4.5, 'price': '$$', 'longitude': -98.48957, 'latitude': 29.42662}\n",
      "{'name': 'Taquitos El Patron Pollos Asados', 'review_count': 5, 'rating': 3.5, 'price': None, 'longitude': -98.50924, 'latitude': 29.44388}\n",
      "{'name': 'Tacos n Salsa', 'review_count': 76, 'rating': 4.5, 'price': '$', 'longitude': -98.54094, 'latitude': 29.55013}\n",
      "{'name': 'Taqueria El Chaparro De Jalisco', 'review_count': 21, 'rating': 4.0, 'price': None, 'longitude': -98.53478, 'latitude': 29.51297}\n"
     ]
    },
    {
     "name": "stdout",
     "output_type": "stream",
     "text": [
      "{'name': \"Teran's Restaurant\", 'review_count': 24, 'rating': 4.0, 'price': '$', 'longitude': -98.40901, 'latitude': 29.42469}\n",
      "{'name': 'Tacos Cuernavaca', 'review_count': 10, 'rating': 4.0, 'price': '$', 'longitude': -98.6305465698242, 'latitude': 29.4168815612793}\n",
      "{'name': 'Marys Tacos', 'review_count': 293, 'rating': 4.5, 'price': '$', 'longitude': -98.7286792695522, 'latitude': 29.7959377616644}\n",
      "{'name': 'Rubio’s Taqueria', 'review_count': 3, 'rating': 4.5, 'price': None, 'longitude': -98.516754017691, 'latitude': 29.3794239524758}\n",
      "{'name': 'El Palmar Cocina Restaurante', 'review_count': 39, 'rating': 4.5, 'price': '$', 'longitude': -98.5344501212239, 'latitude': 29.5193500711473}\n",
      "{'name': \"Tito's Mexican Restaurant\", 'review_count': 628, 'rating': 4.0, 'price': '$$', 'longitude': -98.490898, 'latitude': 29.4141204}\n",
      "{'name': 'Tio’s Tex Mex', 'review_count': 35, 'rating': 4.5, 'price': None, 'longitude': -98.59285, 'latitude': 29.530039}\n",
      "{'name': 'Hacienda Patron Taqueria Y Restaurant', 'review_count': 27, 'rating': 4.5, 'price': '$', 'longitude': -98.5002592, 'latitude': 29.5293562}\n",
      "{'name': 'Cilantro Mexican Fusion Food Truck', 'review_count': 20, 'rating': 4.5, 'price': None, 'longitude': -98.67477, 'latitude': 29.53213}\n",
      "{'name': 'Fidelos Mexican Restaurant', 'review_count': 161, 'rating': 4.5, 'price': '$', 'longitude': -98.42315, 'latitude': 29.53965}\n",
      "{'name': 'Mini Tacos El Puesto', 'review_count': 8, 'rating': 5.0, 'price': None, 'longitude': -98.4998871293, 'latitude': 29.3563745663}\n",
      "{'name': 'Tacos El Mexicano', 'review_count': 7, 'rating': 4.5, 'price': '$', 'longitude': -98.5306209504814, 'latitude': 29.444962877436}\n",
      "{'name': \"Ernesto's Mexican Specialties\", 'review_count': 372, 'rating': 4.5, 'price': '$$', 'longitude': -98.5335458624268, 'latitude': 29.5197328556691}\n",
      "{'name': 'Biga On The Banks', 'review_count': 837, 'rating': 4.5, 'price': '$$$', 'longitude': -98.492, 'latitude': 29.42369}\n",
      "{'name': 'Tasty Balls and More', 'review_count': 7, 'rating': 5.0, 'price': None, 'longitude': -98.3625717163086, 'latitude': 29.552345275878906}\n",
      "{'name': 'La Taqueria de Monterrey # 2', 'review_count': 103, 'rating': 4.5, 'price': None, 'longitude': -98.614387, 'latitude': 29.556081}\n",
      "{'name': 'La Gloria', 'review_count': 1372, 'rating': 3.5, 'price': '$$', 'longitude': -98.4811606424893, 'latitude': 29.4440595535598}\n",
      "{'name': 'Poblanos On Main', 'review_count': 78, 'rating': 4.5, 'price': '$', 'longitude': -98.494238, 'latitude': 29.424202}\n",
      "{'name': 'La Cazadora', 'review_count': 21, 'rating': 4.5, 'price': '$', 'longitude': -98.52635044033704, 'latitude': 29.49020082587616}\n",
      "{'name': \"Mimi's Barbacoa and Tamales Y Mas\", 'review_count': 156, 'rating': 4.0, 'price': '$', 'longitude': -98.5516323521733, 'latitude': 29.5410358423413}\n",
      "{'name': 'La Parrillada', 'review_count': 22, 'rating': 4.5, 'price': '$', 'longitude': -98.39578, 'latitude': 29.4649479004955}\n",
      "{'name': 'The Taco Spot', 'review_count': 11, 'rating': 4.0, 'price': '$', 'longitude': -98.5557285, 'latitude': 29.4988145}\n",
      "{'name': 'Las Sabrosas de Guanajuato', 'review_count': 60, 'rating': 4.0, 'price': '$', 'longitude': -98.499288, 'latitude': 29.502796}\n",
      "{'name': 'Taqueria Chapala Jalisco', 'review_count': 119, 'rating': 4.0, 'price': '$', 'longitude': -98.49167, 'latitude': 29.44732}\n",
      "{'name': 'Al Carbon Pollos Asados', 'review_count': 59, 'rating': 4.5, 'price': '$$', 'longitude': -98.386735, 'latitude': 29.567325}\n",
      "{'name': 'El Buen Paladar', 'review_count': 8, 'rating': 5.0, 'price': None, 'longitude': -98.7305182543987, 'latitude': 29.4313017472306}\n",
      "{'name': \"Don Pedro's Molino\", 'review_count': 3, 'rating': 5.0, 'price': None, 'longitude': -98.51403, 'latitude': 29.4526}\n",
      "{'name': 'La Guadalupana', 'review_count': 3, 'rating': 5.0, 'price': None, 'longitude': -98.662241, 'latitude': 29.41735}\n",
      "{'name': 'El Charro Food Truck', 'review_count': 6, 'rating': 5.0, 'price': None, 'longitude': -98.428084, 'latitude': 29.496103}\n",
      "{'name': 'The Haven Southtown Mexican Restaurant y Cantina', 'review_count': 32, 'rating': 4.5, 'price': None, 'longitude': -98.48678, 'latitude': 29.41008036609387}\n",
      "{'name': 'Que Tortas', 'review_count': 86, 'rating': 4.0, 'price': '$', 'longitude': -98.6267929077148, 'latitude': 29.5080337524414}\n",
      "{'name': 'Mi Tierra Cafe & Bakery', 'review_count': 2980, 'rating': 3.5, 'price': '$$', 'longitude': -98.49974, 'latitude': 29.42492}\n",
      "{'name': 'Tacos Don Chente', 'review_count': 38, 'rating': 5.0, 'price': '$', 'longitude': -98.17832368884469, 'latitude': 29.846991806326013}\n",
      "{'name': \"Maria's Cafe\", 'review_count': 104, 'rating': 4.5, 'price': '$', 'longitude': -98.510358, 'latitude': 29.40227883807115}\n",
      "{'name': 'Taqueria Jalisco', 'review_count': 43, 'rating': 4.0, 'price': '$', 'longitude': -98.5063417, 'latitude': 29.5489618}\n",
      "{'name': 'Birrieria El Jefe', 'review_count': 9, 'rating': 3.0, 'price': None, 'longitude': -98.3991229954467, 'latitude': 29.4964833907586}\n",
      "{'name': 'Santos Cafe', 'review_count': 24, 'rating': 3.5, 'price': '$', 'longitude': -98.50799, 'latitude': 29.50354}\n",
      "{'name': 'La Villita Cafe', 'review_count': 1076, 'rating': 4.0, 'price': '$', 'longitude': -98.489261, 'latitude': 29.421605}\n",
      "{'name': 'Fajita Taco Place', 'review_count': 37, 'rating': 4.0, 'price': '$', 'longitude': -98.49207, 'latitude': 29.51448}\n",
      "{'name': \"Lala's Gorditas\", 'review_count': 82, 'rating': 4.5, 'price': '$', 'longitude': -98.485522333, 'latitude': 29.3875105}\n",
      "{'name': 'La Taqueria De Monterrey', 'review_count': 69, 'rating': 4.5, 'price': '$', 'longitude': -98.559861, 'latitude': 29.484191}\n",
      "{'name': 'One Dollar Taco', 'review_count': 12, 'rating': 4.5, 'price': None, 'longitude': -98.63148, 'latitude': 29.588568}\n",
      "{'name': 'Carnitas Lonja', 'review_count': 194, 'rating': 4.5, 'price': '$', 'longitude': -98.4862851019678, 'latitude': 29.393108196101}\n",
      "{'name': 'MB El Sazon Norteño', 'review_count': 8, 'rating': 5.0, 'price': None, 'longitude': -98.487748503685, 'latitude': 29.4486801790506}\n",
      "{'name': 'Cafe San Luis', 'review_count': 14, 'rating': 4.0, 'price': '$', 'longitude': -98.52566, 'latitude': 29.50652}\n",
      "{'name': \"Camila's Mexican Restaurant\", 'review_count': 121, 'rating': 4.0, 'price': '$', 'longitude': -98.4504332, 'latitude': 29.5879713}\n",
      "{'name': 'Pana’s Venezuelan & Mexican Nosh', 'review_count': 1, 'rating': 5.0, 'price': None, 'longitude': -98.498844, 'latitude': 29.502846}\n",
      "{'name': 'Los Jarritos', 'review_count': 12, 'rating': 5.0, 'price': None, 'longitude': -98.58801, 'latitude': 29.50885}\n",
      "{'name': 'Victoria Tortillas & Tamales Factory', 'review_count': 16, 'rating': 4.5, 'price': '$', 'longitude': -98.515457, 'latitude': 29.37973}\n",
      "{'name': 'Casa De Rosa Cafe', 'review_count': 31, 'rating': 4.5, 'price': '$', 'longitude': -98.50178, 'latitude': 29.4879}\n",
      "{'name': 'Tacos El Rapido', 'review_count': 9, 'rating': 5.0, 'price': None, 'longitude': -98.6622728034854, 'latitude': 29.4176476802604}\n",
      "{'name': \"Eddie's Taco House\", 'review_count': 109, 'rating': 4.0, 'price': '$', 'longitude': -98.50574, 'latitude': 29.41055}\n",
      "{'name': 'Oblate Cafe', 'review_count': 50, 'rating': 4.0, 'price': '$', 'longitude': -98.49326, 'latitude': 29.504}\n",
      "{'name': 'Tacos La Nortenita', 'review_count': 8, 'rating': 5.0, 'price': None, 'longitude': -98.5226706, 'latitude': 29.46357}\n",
      "{'name': \"Chela's Tacos\", 'review_count': 97, 'rating': 4.0, 'price': '$', 'longitude': -98.479554, 'latitude': 29.456275}\n",
      "{'name': \"Pepe's Tacos N' Salsa\", 'review_count': 206, 'rating': 4.0, 'price': '$', 'longitude': -98.4620580726335, 'latitude': 29.5579954182187}\n",
      "{'name': \"Juan's Tacos\", 'review_count': 21, 'rating': 4.5, 'price': '$', 'longitude': -98.9036583, 'latitude': 29.1388749}\n",
      "{'name': 'Tacos Chagos', 'review_count': 46, 'rating': 4.5, 'price': '$', 'longitude': -98.4099755063653, 'latitude': 29.547267923717}\n",
      "{'name': 'The Fruteria Botanero By Chef Johnny Hernandez', 'review_count': 336, 'rating': 4.0, 'price': '$$', 'longitude': -98.50124662883555, 'latitude': 29.40980252689574}\n",
      "{'name': 'Takikos Taco Stop', 'review_count': 44, 'rating': 4.5, 'price': '$', 'longitude': -98.66653, 'latitude': 29.485071}\n",
      "{'name': 'Taco Riendo', 'review_count': 35, 'rating': 3.5, 'price': '$', 'longitude': -98.49916, 'latitude': 29.4994992}\n",
      "{'name': 'Paloma Blanca Mexican Cuisine', 'review_count': 882, 'rating': 4.0, 'price': '$$', 'longitude': -98.4633905685131, 'latitude': 29.4795542550174}\n",
      "{'name': 'The Little Taco House', 'review_count': 8, 'rating': 3.5, 'price': '$', 'longitude': -98.4904803, 'latitude': 29.531326}\n",
      "{'name': 'El Milagrito Café', 'review_count': 331, 'rating': 4.0, 'price': '$', 'longitude': -98.48508, 'latitude': 29.45267}\n",
      "{'name': \"Mama's Kitchen\", 'review_count': 45, 'rating': 4.5, 'price': '$', 'longitude': -98.5017439350486, 'latitude': 29.4663122806908}\n",
      "{'name': 'African Village Ethiopian Restaurant', 'review_count': 87, 'rating': 4.5, 'price': None, 'longitude': -98.551459, 'latitude': 29.540934}\n",
      "{'name': 'The Original Blanco Cafe', 'review_count': 312, 'rating': 4.0, 'price': '$$', 'longitude': -98.491575, 'latitude': 29.428013}\n",
      "{'name': 'Taco Blvd', 'review_count': 24, 'rating': 4.5, 'price': None, 'longitude': -98.70602, 'latitude': 29.49321}\n",
      "{'name': 'La Fonda on Main', 'review_count': 769, 'rating': 4.0, 'price': '$$', 'longitude': -98.49429, 'latitude': 29.4525}\n",
      "{'name': 'Casa Frida', 'review_count': 94, 'rating': 4.0, 'price': None, 'longitude': -98.491277, 'latitude': 29.412943}\n",
      "{'name': 'Los Angeles Tortilleria & Restaurant', 'review_count': 37, 'rating': 4.0, 'price': '$', 'longitude': -98.52645, 'latitude': 29.43013}\n",
      "{'name': 'Pollos Asados El Gordo', 'review_count': 27, 'rating': 4.0, 'price': None, 'longitude': -98.49212, 'latitude': 29.50398}\n",
      "{'name': 'Taquitos Tepa', 'review_count': 12, 'rating': 4.5, 'price': None, 'longitude': -98.278939, 'latitude': 29.596592}\n",
      "{'name': 'Tacos El Takin', 'review_count': 35, 'rating': 5.0, 'price': '$', 'longitude': -98.39455, 'latitude': 29.55983}\n",
      "{'name': 'Copal Comida Mexicana & Bar', 'review_count': 25, 'rating': 3.5, 'price': '$$', 'longitude': -98.598418, 'latitude': 29.481143}\n",
      "{'name': 'Mi Casa', 'review_count': 45, 'rating': 4.5, 'price': '$', 'longitude': -98.4996747, 'latitude': 29.418909}\n",
      "{'name': 'Los Ajos Mexican Grill', 'review_count': 87, 'rating': 4.5, 'price': '$', 'longitude': -98.6397142, 'latitude': 29.4591786}\n",
      "{'name': \"Los Balito's Taco Shop\", 'review_count': 29, 'rating': 4.0, 'price': None, 'longitude': -98.600406, 'latitude': 29.562431}\n",
      "{'name': \"Gino's Deli Stop N Buy\", 'review_count': 1431, 'rating': 5.0, 'price': '$$', 'longitude': -98.55755486686478, 'latitude': 29.5643849814705}\n",
      "{'name': \"Chela's Tacos\", 'review_count': 112, 'rating': 4.0, 'price': '$', 'longitude': -98.6251258850098, 'latitude': 29.5761910549137}\n",
      "{'name': 'El Camino SA', 'review_count': 31, 'rating': 4.0, 'price': '$$', 'longitude': -98.48161121779088, 'latitude': 29.435400992109766}\n",
      "{'name': \"Mario's Tacos\", 'review_count': 8, 'rating': 4.5, 'price': '$', 'longitude': -98.5333148, 'latitude': 29.4458106}\n",
      "{'name': 'Sabor De Sanchez', 'review_count': 95, 'rating': 4.0, 'price': '$$', 'longitude': -98.66173316127525, 'latitude': 29.511476138007147}\n",
      "{'name': 'Tia’s Taco Hut', 'review_count': 9, 'rating': 4.5, 'price': None, 'longitude': -98.4862235975371, 'latitude': 29.434337867918234}\n",
      "{'name': 'Taqueria Datapoint 5', 'review_count': 88, 'rating': 4.0, 'price': '$', 'longitude': -98.5232663154602, 'latitude': 29.4611599999581}\n",
      "{'name': 'Cocina El Jibarazo Puerto Rican Cusine', 'review_count': 114, 'rating': 4.0, 'price': '$', 'longitude': -98.42318, 'latitude': 29.49872}\n",
      "{'name': 'Barrio Barista', 'review_count': 417, 'rating': 4.5, 'price': '$', 'longitude': -98.57783, 'latitude': 29.45054}\n",
      "{'name': 'The Pigpen', 'review_count': 264, 'rating': 4.0, 'price': '$$', 'longitude': -98.46595, 'latitude': 29.46095}\n",
      "{'name': 'El Chivito', 'review_count': 1, 'rating': 5.0, 'price': None, 'longitude': -98.6308963, 'latitude': 29.6712083}\n",
      "{'name': 'Gordos Mini Tacos & Snacks', 'review_count': 89, 'rating': 4.5, 'price': '$', 'longitude': -98.35875, 'latitude': 29.47712}\n",
      "{'name': \"Losoya's Taqueria\", 'review_count': 78, 'rating': 4.0, 'price': '$', 'longitude': -98.48917, 'latitude': 29.56469}\n",
      "{'name': \"Sukie's Taco House\", 'review_count': 13, 'rating': 4.5, 'price': None, 'longitude': -98.525848, 'latitude': 29.47791}\n",
      "{'name': 'Tacos Betos', 'review_count': 20, 'rating': 4.0, 'price': '$$', 'longitude': -98.5767824202776, 'latitude': 29.45026841405}\n",
      "{'name': 'El Bandera Jalisco', 'review_count': 5, 'rating': 4.0, 'price': '$', 'longitude': -98.467384, 'latitude': 29.459604}\n",
      "{'name': \"Taco's El Taconazo\", 'review_count': 1, 'rating': 5.0, 'price': None, 'longitude': -98.55812, 'latitude': 29.39959}\n",
      "{'name': \"Molina's\", 'review_count': 16, 'rating': 4.0, 'price': '$', 'longitude': -98.4821, 'latitude': 29.4311}\n",
      "{'name': 'The Block - Food Park & Patio Bar', 'review_count': 159, 'rating': 4.0, 'price': '$$', 'longitude': -98.6246961457819, 'latitude': 29.5758692741071}\n",
      "{'name': 'Cochicrazy', 'review_count': 3, 'rating': 5.0, 'price': None, 'longitude': -98.491468, 'latitude': 29.412728}\n",
      "{'name': 'Super Pollo Asados', 'review_count': 64, 'rating': 4.5, 'price': '$', 'longitude': -98.3929330855608, 'latitude': 29.5106277180345}\n",
      "{'name': 'Taqueria Chapala Jalisco Mexican Restaurant', 'review_count': 12, 'rating': 3.5, 'price': '$', 'longitude': -98.4605580821828, 'latitude': 29.440565712279}\n"
     ]
    },
    {
     "name": "stdout",
     "output_type": "stream",
     "text": [
      "{'name': \"Andrea's Cafe\", 'review_count': 9, 'rating': 4.5, 'price': '$', 'longitude': -98.524414, 'latitude': 29.447506}\n",
      "{'name': 'Gorditas Doña Tota', 'review_count': 94, 'rating': 3.5, 'price': '$', 'longitude': -98.4994149, 'latitude': 29.5098521}\n",
      "{'name': 'Taco Vallarta', 'review_count': 29, 'rating': 4.0, 'price': '$', 'longitude': -98.4505234, 'latitude': 29.5181503}\n",
      "{'name': 'Blanco Cafe', 'review_count': 190, 'rating': 4.0, 'price': '$', 'longitude': -98.50764, 'latitude': 29.46213}\n",
      "{'name': 'Bull Gogi Boys', 'review_count': 24, 'rating': 4.5, 'price': None, 'longitude': -98.8146353513002, 'latitude': 29.4736674740975}\n",
      "{'name': 'Mama Margies', 'review_count': 299, 'rating': 3.0, 'price': '$', 'longitude': -98.564263, 'latitude': 29.532048}\n",
      "{'name': 'Taco H', 'review_count': 7, 'rating': 5.0, 'price': None, 'longitude': -98.58695, 'latitude': 29.47807}\n",
      "{'name': 'Las Canarias', 'review_count': 495, 'rating': 4.0, 'price': '$$', 'longitude': -98.4899110856117, 'latitude': 29.4251935550079}\n",
      "{'name': 'La Canasta Taco', 'review_count': 2, 'rating': 3.0, 'price': None, 'longitude': -98.5080662369728, 'latitude': 29.494682998588434}\n",
      "{'name': 'La Barca Tacos', 'review_count': 3, 'rating': 4.5, 'price': None, 'longitude': -98.53495970767, 'latitude': 29.5188176778422}\n",
      "{'name': 'Las Salsas', 'review_count': 92, 'rating': 3.5, 'price': '$', 'longitude': -98.49906, 'latitude': 29.45357}\n",
      "{'name': 'Tacos Orientales de Cuernavaca', 'review_count': 3, 'rating': 4.5, 'price': '$', 'longitude': -98.640177, 'latitude': 29.381386}\n",
      "{'name': 'Takikos Taco Stop', 'review_count': 45, 'rating': 4.5, 'price': '$', 'longitude': -98.6282566934824, 'latitude': 29.416430423226}\n",
      "{'name': \"Balu's Kitchen\", 'review_count': 8, 'rating': 5.0, 'price': None, 'longitude': -98.4936282, 'latitude': 29.4241219}\n",
      "{'name': 'Taqueria Aguascalientes 4', 'review_count': 70, 'rating': 4.5, 'price': '$', 'longitude': -98.52183743492012, 'latitude': 29.67473293848069}\n",
      "{'name': 'Pollos Asados Don Jose', 'review_count': 25, 'rating': 4.5, 'price': None, 'longitude': -98.50746, 'latitude': 29.504522}\n",
      "{'name': 'El Paisano Mini Tacos', 'review_count': 4, 'rating': 4.5, 'price': None, 'longitude': -98.655459, 'latitude': 29.475377}\n",
      "{'name': 'Puerto Koki SA', 'review_count': 5, 'rating': 4.5, 'price': None, 'longitude': -98.71691, 'latitude': 29.52572}\n",
      "{'name': 'Taqueria Reyna Tapatia-Boerne', 'review_count': 20, 'rating': 3.5, 'price': None, 'longitude': -98.738984, 'latitude': 29.804296}\n",
      "{'name': \"Brenda's Mexican Restaurant\", 'review_count': 57, 'rating': 4.5, 'price': '$', 'longitude': -98.461287, 'latitude': 29.548139}\n",
      "{'name': 'Cascabel Mexican Patio', 'review_count': 234, 'rating': 4.0, 'price': '$', 'longitude': -98.488877, 'latitude': 29.414455}\n",
      "{'name': 'Vallarta Grill And Bar', 'review_count': 47, 'rating': 4.0, 'price': None, 'longitude': -98.443436, 'latitude': 29.576105}\n",
      "{'name': \"Julio's Taqueria\", 'review_count': 10, 'rating': 4.0, 'price': '$', 'longitude': -98.5793518515205, 'latitude': 29.473464725813}\n",
      "{'name': 'Con Huevos Tacos', 'review_count': 51, 'rating': 4.5, 'price': '$', 'longitude': -98.47203, 'latitude': 29.42526}\n",
      "{'name': 'Taqueria Jalisco 3', 'review_count': 79, 'rating': 4.0, 'price': '$', 'longitude': -98.6615197340961, 'latitude': 29.5187250845469}\n",
      "{'name': \"Tia's Taco Hut\", 'review_count': 112, 'rating': 3.5, 'price': '$', 'longitude': -98.5995325818658, 'latitude': 29.5230514828012}\n",
      "{'name': 'El Bucanero', 'review_count': 567, 'rating': 4.0, 'price': '$$', 'longitude': -98.5119470307569, 'latitude': 29.5916095809335}\n",
      "{'name': 'Del Rio Tortilla Factory', 'review_count': 40, 'rating': 4.5, 'price': '$', 'longitude': -98.54137, 'latitude': 29.32977}\n",
      "{'name': 'Taqueria La Siberia De Monterey', 'review_count': 82, 'rating': 4.0, 'price': '$', 'longitude': -98.3688046038151, 'latitude': 29.4770529955436}\n",
      "{'name': 'StreetFare SA', 'review_count': 48, 'rating': 4.5, 'price': '$$', 'longitude': -98.4201005539673, 'latitude': 29.5005033501074}\n",
      "{'name': 'Taco Tex', 'review_count': 41, 'rating': 4.5, 'price': '$', 'longitude': -98.475704, 'latitude': 29.579171}\n",
      "{'name': 'My Little Taco House', 'review_count': 20, 'rating': 4.5, 'price': '$', 'longitude': -98.5035705566406, 'latitude': 29.4031772613525}\n",
      "{'name': \"Tommy's Restaurant\", 'review_count': 161, 'rating': 4.0, 'price': '$', 'longitude': -98.56874, 'latitude': 29.52526}\n",
      "{'name': 'Benjies Munch', 'review_count': 183, 'rating': 4.5, 'price': '$$', 'longitude': -98.51214, 'latitude': 29.5782}\n",
      "{'name': 'Tacos El Guero Loko', 'review_count': 12, 'rating': 4.0, 'price': None, 'longitude': -98.5083525, 'latitude': 29.60230367}\n",
      "{'name': 'La Revolucion', 'review_count': 8, 'rating': 5.0, 'price': None, 'longitude': -98.50754, 'latitude': 29.48677}\n",
      "{'name': \"Chacho's Mexican Restaurant\", 'review_count': 455, 'rating': 3.0, 'price': '$$', 'longitude': -98.55353, 'latitude': 29.50945}\n",
      "{'name': 'Tellez Tamales & Barbacoa', 'review_count': 87, 'rating': 4.0, 'price': '$', 'longitude': -98.5578587651253, 'latitude': 29.3998555273728}\n",
      "{'name': 'El Taco De Jalisco', 'review_count': 27, 'rating': 4.0, 'price': '$', 'longitude': -98.53547, 'latitude': 29.5152}\n",
      "{'name': 'Ben-Go Tacos & Burgers', 'review_count': 14, 'rating': 4.0, 'price': None, 'longitude': -98.5256089, 'latitude': 29.537403881381554}\n",
      "{'name': 'Taco Taco Cafe', 'review_count': 576, 'rating': 2.5, 'price': '$', 'longitude': -98.4922799, 'latitude': 29.46674}\n",
      "{'name': \"Acapulco Sam's\", 'review_count': 18, 'rating': 3.0, 'price': None, 'longitude': -98.489218, 'latitude': 29.425753}\n",
      "{'name': \"Ruthie's Mexican Restaurant\", 'review_count': 186, 'rating': 3.5, 'price': '$', 'longitude': -98.511531, 'latitude': 29.544247}\n",
      "{'name': \"Panchito's Mexican Restaurant\", 'review_count': 298, 'rating': 3.5, 'price': '$$', 'longitude': -98.49149, 'latitude': 29.46846}\n",
      "{'name': 'Rios Barbacoa', 'review_count': 12, 'rating': 4.5, 'price': '$', 'longitude': -98.5218963623047, 'latitude': 29.4607009887695}\n",
      "{'name': 'Taquero Vequero', 'review_count': 3, 'rating': 5.0, 'price': None, 'longitude': -98.5277233488842, 'latitude': 29.542713786281}\n",
      "{'name': 'Birrieria Leon', 'review_count': 1, 'rating': 4.0, 'price': None, 'longitude': -98.6410963319961, 'latitude': 29.3809042716003}\n",
      "{'name': 'The Dogfather', 'review_count': 457, 'rating': 4.5, 'price': '$$', 'longitude': -98.4996181, 'latitude': 29.49348041634231}\n",
      "{'name': \"Chelita's Mexican Restaurant\", 'review_count': 7, 'rating': 5.0, 'price': '$', 'longitude': -98.571329999291, 'latitude': 29.4269597465599}\n",
      "{'name': \"Tia's Taco Hut\", 'review_count': 123, 'rating': 3.5, 'price': '$', 'longitude': -98.6235027069286, 'latitude': 29.4983059053327}\n"
     ]
    },
    {
     "data": {
      "text/plain": [
       "178"
      ]
     },
     "execution_count": 14,
     "metadata": {},
     "output_type": "execute_result"
    }
   ],
   "source": [
    "# Replace None with appropriate code\n",
    "\n",
    "# Create an empty list for the full prepared dataset\n",
    "full_dataset = []\n",
    "\n",
    "for offset in get_offsets(total):\n",
    "    # Add or update the \"offset\" key-value pair in url_params\n",
    "    url_params[\"offset\"] = offset\n",
    "    \n",
    "    # Make the query and get the response\n",
    "    response = rqs.get(url, headers=headers, params=url_params)\n",
    "    \n",
    "    # Get the response body in JSON format\n",
    "    response_json = response.json()\n",
    "    \n",
    "    # Get the list of businesses from the response_json\n",
    "    businesses = response_json['businesses']\n",
    "    \n",
    "    # Call the prepare_data function to get a list of processed data\n",
    "    prepared_businesses = prepare_data(businesses)\n",
    "    \n",
    "    # Extend full_dataset with this list (don't append, or you'll get\n",
    "    # a list of lists instead of a flat list)\n",
    "    full_dataset.extend(prepared_businesses)\n",
    "\n",
    "# Check the length of the full dataset. It will be up to `total`,\n",
    "# potentially less if there were missing values\n",
    "len(full_dataset)"
   ]
  },
  {
   "cell_type": "markdown",
   "metadata": {},
   "source": [
    "This code may take up to a few minutes to run.\n",
    "\n",
    "If you get an error trying to get the response body in JSON format, try adding `time.sleep(1)` right after the `requests.get` line, so your code will sleep for 1 second between each API call."
   ]
  },
  {
   "cell_type": "markdown",
   "metadata": {},
   "source": [
    "## 3. Perform Exploratory Analysis\n",
    "\n",
    "Take the businesses from the previous question and do an initial exploratory analysis. We have provided some plots for you to interpret:"
   ]
  },
  {
   "cell_type": "code",
   "execution_count": 15,
   "metadata": {},
   "outputs": [
    {
     "data": {
      "image/png": "[encoded data removed]",
      "text/plain": [
       "<Figure size 1152x360 with 3 Axes>"
      ]
     },
     "metadata": {
      "needs_background": "light"
     },
     "output_type": "display_data"
    }
   ],
   "source": [
    "# Run this cell without changes\n",
    "from collections import Counter\n",
    "import matplotlib.pyplot as plt\n",
    "%matplotlib inline\n",
    "\n",
    "fig, (ax1, ax2, ax3) = plt.subplots(ncols=3, figsize=(16, 5))\n",
    "\n",
    "# Plot distribution of number of reviews\n",
    "all_review_counts = [x[\"review_count\"] for x in full_dataset]\n",
    "ax1.hist(all_review_counts)\n",
    "ax1.set_title(\"Review Count Distribution\")\n",
    "ax1.set_xlabel(\"Number of Reviews\")\n",
    "ax1.set_ylabel(\"Number of Businesses\")\n",
    "\n",
    "# Plot rating distribution\n",
    "all_ratings = [x[\"rating\"] for x in full_dataset]\n",
    "rating_counter = Counter(all_ratings)\n",
    "rating_keys = sorted(rating_counter.keys())\n",
    "ax2.bar(rating_keys, [rating_counter[key] for key in rating_keys])\n",
    "ax2.set_title(\"Rating Distribution\")\n",
    "ax2.set_xlabel(\"Rating\")\n",
    "ax2.set_ylabel(\"Number of Businesses\")\n",
    "\n",
    "# Plot price distribution\n",
    "all_prices = [x[\"price\"].replace(\"$\", r\"\\$\") for x in full_dataset]\n",
    "price_counter = Counter(all_prices)\n",
    "price_keys = sorted(price_counter.keys())\n",
    "ax3.bar(price_keys, [price_counter[key] for key in price_keys])\n",
    "ax3.set_title(\"Price Distribution\")\n",
    "ax3.set_xlabel(\"Price Category\")\n",
    "ax3.set_ylabel(\"Number of Businesses\");"
   ]
  },
  {
   "cell_type": "markdown",
   "metadata": {},
   "source": [
    "Describe the distributions displayed above and interpret them in the context of your query. (Your answer may differ from the solution branch depending on your query.)"
   ]
  },
  {
   "cell_type": "code",
   "execution_count": 16,
   "metadata": {},
   "outputs": [
    {
     "data": {
      "text/plain": [
       "\"\\nThe review count distribution is significantly skewed, the vast majority of businesses\\nhave less than 250 reviews, but its not unusual for a business to have 500 to 1500 reviews. Along with a small aount of\\noutliers having aroudn 3000 reviews.\\n\\nThe rating distribution centers around 4.5, indicating a typical rating is between 4 to 5. No businesses have a rating \\nbelow 2 within this dataset.\\n\\nThe price distribution is heavily skewed as well, nearly all of the results are in the category of $, this isn't suprsing\\nconsidering our search term was 'taco'.\\n\""
      ]
     },
     "execution_count": 16,
     "metadata": {},
     "output_type": "execute_result"
    }
   ],
   "source": [
    "# Replace None with appropriate text\n",
    "\"\"\"\n",
    "The review count distribution is significantly skewed, the vast majority of businesses\n",
    "have less than 250 reviews, but its not unusual for a business to have 500 to 1500 reviews. Along with a small aount of\n",
    "outliers having aroudn 3000 reviews.\n",
    "\n",
    "The rating distribution centers around 4.5, indicating a typical rating is between 4 to 5. No businesses have a rating \n",
    "below 2 within this dataset.\n",
    "\n",
    "The price distribution is heavily skewed as well, nearly all of the results are in the category of $, this isn't suprsing\n",
    "considering our search term was 'taco'.\n",
    "\"\"\""
   ]
  },
  {
   "cell_type": "markdown",
   "metadata": {},
   "source": [
    "In the cell below, we also plot the rating distributions by price. In this setup, a price of one dollar sign is \"lower price\" and everything else is \"higher price\"."
   ]
  },
  {
   "cell_type": "code",
   "execution_count": 17,
   "metadata": {},
   "outputs": [
    {
     "data": {
      "image/png": "[encoded data removed]",
      "text/plain": [
       "<Figure size 432x288 with 1 Axes>"
      ]
     },
     "metadata": {
      "needs_background": "light"
     },
     "output_type": "display_data"
    }
   ],
   "source": [
    "# Run this cell without changes\n",
    "\n",
    "higher_price = []\n",
    "lower_price = []\n",
    "for row in full_dataset:\n",
    "    if row[\"price\"] == \"$\":\n",
    "        lower_price.append(row[\"rating\"])\n",
    "    else:\n",
    "        higher_price.append(row[\"rating\"])\n",
    "        \n",
    "fig, ax = plt.subplots()\n",
    "\n",
    "ax.hist([higher_price, lower_price], label=[\"higher price\", \"lower price\"], density=True)\n",
    "\n",
    "ax.legend();"
   ]
  },
  {
   "cell_type": "markdown",
   "metadata": {},
   "source": [
    "Is a higher price associated with a higher rating? (No need for any additional math/statistics, just interpret what you see in the plot.)"
   ]
  },
  {
   "cell_type": "code",
   "execution_count": 18,
   "metadata": {},
   "outputs": [
    {
     "data": {
      "text/plain": [
       "'\\nThere appears to be little to no association between ratings and prices. \\n'"
      ]
     },
     "execution_count": 18,
     "metadata": {},
     "output_type": "execute_result"
    }
   ],
   "source": [
    "# Replace None with appropriate text\n",
    "\"\"\"\n",
    "There appears to be little to no association between ratings and prices. \n",
    "\"\"\""
   ]
  },
  {
   "cell_type": "markdown",
   "metadata": {},
   "source": [
    "Finally, let's look at ratings vs. review counts:"
   ]
  },
  {
   "cell_type": "code",
   "execution_count": 19,
   "metadata": {},
   "outputs": [
    {
     "data": {
      "image/png": "[encoded data removed]",
      "text/plain": [
       "<Figure size 1152x360 with 1 Axes>"
      ]
     },
     "metadata": {
      "needs_background": "light"
     },
     "output_type": "display_data"
    }
   ],
   "source": [
    "# Run this cell without changes\n",
    "fig, ax = plt.subplots(figsize=(16,5))\n",
    "\n",
    "ax.scatter(all_review_counts, all_ratings, alpha=0.2)\n",
    "ax.set_xlabel(\"Number of Reviews\")\n",
    "ax.set_ylabel(\"Rating\")\n",
    "# \"zoom in\" to a subset of review counts\n",
    "ax.set_xlim(left=0, right=1000);"
   ]
  },
  {
   "cell_type": "markdown",
   "metadata": {},
   "source": [
    "Is a higher number of reviews associated with a higher rating?"
   ]
  },
  {
   "cell_type": "code",
   "execution_count": 20,
   "metadata": {},
   "outputs": [
    {
     "data": {
      "text/plain": [
       "'\\nThe dataset show that businesses with a rating of 4.0 or 4.5 tend to have a significantly greater amount of ratings. \\n'"
      ]
     },
     "execution_count": 20,
     "metadata": {},
     "output_type": "execute_result"
    }
   ],
   "source": [
    "# Replace None with appropriate text\n",
    "\"\"\"\n",
    "The dataset show that businesses with a rating of 4.0 or 4.5 tend to have a significantly greater amount of ratings. \n",
    "\"\"\""
   ]
  },
  {
   "cell_type": "markdown",
   "metadata": {},
   "source": [
    "## 4. Create a Folium Map\n",
    "\n",
    "Make a map using Folium of the businesses you retrieved. Be sure to also add popups to the markers giving some basic information such as name, rating and price.\n",
    "\n",
    "You can center the map around the latitude and longitude of the first item in `full_dataset`."
   ]
  },
  {
   "cell_type": "code",
   "execution_count": 21,
   "metadata": {
    "scrolled": true
   },
   "outputs": [],
   "source": [
    "import folium"
   ]
  },
  {
   "cell_type": "code",
   "execution_count": 26,
   "metadata": {},
   "outputs": [
    {
     "data": {
      "text/html": [
       "<div style=\"width:100%;\"><div style=\"position:relative;width:100%;height:0;padding-bottom:60%;\"><span style=\"color:#565656\">Make this Notebook Trusted to load map: File -> Trust Notebook</span><iframe src=\"about:blank\" style=\"position:absolute;width:100%;height:100%;left:0;top:0;border:none !important;\" data-html=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 onload=\"this.contentDocument.open();this.contentDocument.write(atob(this.getAttribute('data-html')));this.contentDocument.close();\" allowfullscreen webkitallowfullscreen mozallowfullscreen></iframe></div></div>"
      ],
      "text/plain": [
       "<folium.folium.Map at 0x28abca72790>"
      ]
     },
     "execution_count": 26,
     "metadata": {},
     "output_type": "execute_result"
    }
   ],
   "source": [
    "# Replace None with appropriate code\n",
    "\n",
    "# Import the library\n",
    "# import folium\n",
    "\n",
    "# Set up center latitude and longitude\n",
    "center_lat = full_dataset[0][\"latitude\"]\n",
    "center_long = full_dataset[0][\"longitude\"]\n",
    "\n",
    "# Initialize map with center lat and long\n",
    "yelp_map = folium.Map([center_lat,center_long], zoom_start=12)\n",
    "\n",
    "# Adjust this limit to see more or fewer businesses\n",
    "limit=100\n",
    "\n",
    "for business in full_dataset[:limit]:\n",
    "    # Extract information about business\n",
    "    lat = business['latitude']\n",
    "    long = business['longitude']\n",
    "    name = business['name']\n",
    "    rating = business['rating']\n",
    "    price = business['price']\n",
    "    details = \"{}\\nPrice: {} Rating:{}\".format(name,price,rating)\n",
    "    \n",
    "    # Create popup with relevant details\n",
    "    popup = folium.Popup(details)\n",
    "    \n",
    "    # Create marker with relevant lat/long and popup\n",
    "    marker = folium.Marker([lat,long],popup=popup)\n",
    "    \n",
    "    marker.add_to(yelp_map)\n",
    "    \n",
    "yelp_map"
   ]
  },
  {
   "cell_type": "markdown",
   "metadata": {},
   "source": [
    "## Summary\n",
    "\n",
    "Nice work! In this lab, you've made multiple API calls to Yelp in order to paginate through a results set, performing some basic exploratory analysis and then creating a nice interactive map to display the results using Folium! Well done!"
   ]
  }
 ],
 "metadata": {
  "kernelspec": {
   "display_name": "Python 3",
   "language": "python",
   "name": "python3"
  },
  "language_info": {
   "codemirror_mode": {
    "name": "ipython",
    "version": 3
   },
   "file_extension": ".py",
   "mimetype": "text/x-python",
   "name": "python",
   "nbconvert_exporter": "python",
   "pygments_lexer": "ipython3",
   "version": "3.8.5"
  },
  "toc": {
   "base_numbering": 1,
   "nav_menu": {},
   "number_sections": true,
   "sideBar": true,
   "skip_h1_title": false,
   "title_cell": "Table of Contents",
   "title_sidebar": "Contents",
   "toc_cell": false,
   "toc_position": {},
   "toc_section_display": true,
   "toc_window_display": false
  }
 },
 "nbformat": 4,
 "nbformat_minor": 2
}
