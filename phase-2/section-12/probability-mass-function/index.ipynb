{
 "cells": [
  {
   "cell_type": "markdown",
   "metadata": {},
   "source": [
    "# The Probability Mass Function - Lab\n",
    "\n",
    "In this lab you'll apply what you previously learned about probability mass functions (PMFs) to explore the *class size paradox*. The class size paradox describes apparent contradictory findings where a total allocation of resources is fixed. \n",
    "\n",
    "The idea behind this paradox is that there is a difference in how events are actually distributed and how events are perceived to be distributed. These types of divergence can have important consequences for data analysis. Probability mass functions can help resolve some of these situations, as you'll learn below.\n",
    "\n",
    "## Objectives\n",
    "\n",
    "You will be able to:\n",
    "\n",
    "* Explain the class size paradox\n",
    "* Create visualizations to visually compare actual and biased observations \n",
    "* Calculate the mean from PMFs to identify the expected value\n",
    "\n",
    "\n",
    "## The Problem \n",
    "\n",
    "At a university, the expected student-to-teacher ratio is 32.5 : 1. But randomly interviewed students often feel that their average class size is bigger than 32.5. There are two main reasons for this:\n",
    "\n",
    "1. Students typically take 4 - 5 classes at any given time, but teachers usually only teach 1 or 2 classes.\n",
    "2. The number of students in a small class is small, and the number of students in a large class is large.\n",
    "\n",
    "Due to the second fact, while randomly taking feedback from students (and sampling randomly), it is expected we will come across _more_ students from larger classes simply because there are more of them.\n",
    "\n",
    "Let's work through a set of data to recreate and analyze this paradox. \n",
    "\n",
    "Suppose that a college offers 74 classes in a term. We can start with the following distribution of sizes and counts:\n",
    "\n",
    "| Class size |  Class count |\n",
    "|--------|------|\n",
    "|15-19|\t10|\n",
    "|20-24|\t10|\n",
    "|25-29|\t18|\n",
    "|30-34|\t6|\n",
    "|35-39|\t8|\n",
    "|40-44|\t10|\n",
    "|45-49|\t5|\n",
    "|50-54|\t3|\n",
    "|55-59| 4|\n",
    "\n",
    "If the campus manager were asked about the average class size, he would perform the following tasks:\n",
    "\n",
    "1. Construct a PMF from given data\n",
    "2. Compute the mean using the PMF\n",
    "\n",
    "Let's follow the management approach first and see what expected value we get from our PMF. Here is a `size_and_count` dictionary to get you started. Calculate the PMF from this data as we have done before.\n",
    "\n",
    "To make it slightly more straightforward, we have averaged the class sizes for each class, i.e. for size \"15 - 19\", we use the average value, 17. This allows us to treat each row of the table above as a single discrete category, represented by the average value of the category."
   ]
  },
  {
   "cell_type": "code",
   "execution_count": 1,
   "metadata": {},
   "outputs": [],
   "source": [
    "size_and_count = {17: 10, 22: 10, 27: 18, 32: 6, 37: 8, 42: 10, 47: 5, 52: 3, 57: 4}"
   ]
  },
  {
   "cell_type": "markdown",
   "metadata": {},
   "source": [
    "Following the approach seen in the previous lesson, calculate a list of PMF values by normalizing each size.\n",
    "\n",
    "(Treat the `size_and_count` dictionary as the equivalent of the `counter` variable from the previous lesson — you do not need to count the raw data values because it has already been done for you, but the logic to find the total number of classes will be a bit more elaborate because you don't have access to the raw data.)\n",
    "\n",
    "We will also use this an an opportunity to practice using pandas, which has convenient built-in methods and broadcasting."
   ]
  },
  {
   "cell_type": "code",
   "execution_count": 13,
   "metadata": {},
   "outputs": [],
   "source": [
    "import numpy as np\n",
    "import pandas as pd\n",
    "# np.sum(list(size_and_count.values()))\n",
    "# pd.Series(list(size_and_count.keys()))"
   ]
  },
  {
   "cell_type": "code",
   "execution_count": 16,
   "metadata": {},
   "outputs": [
    {
     "data": {
      "text/html": [
       "<style  type=\"text/css\" >\n",
       "</style><table id=\"T_69df9222_7a3d_11ec_baee_c49dedb2bc8d\" ><thead>    <tr>        <th class=\"col_heading level0 col0\" >Class Size</th>        <th class=\"col_heading level0 col1\" >Overall Probability</th>    </tr></thead><tbody>\n",
       "                <tr>\n",
       "                                <td id=\"T_69df9222_7a3d_11ec_baee_c49dedb2bc8drow0_col0\" class=\"data row0 col0\" >17</td>\n",
       "                        <td id=\"T_69df9222_7a3d_11ec_baee_c49dedb2bc8drow0_col1\" class=\"data row0 col1\" >0.135135</td>\n",
       "            </tr>\n",
       "            <tr>\n",
       "                                <td id=\"T_69df9222_7a3d_11ec_baee_c49dedb2bc8drow1_col0\" class=\"data row1 col0\" >22</td>\n",
       "                        <td id=\"T_69df9222_7a3d_11ec_baee_c49dedb2bc8drow1_col1\" class=\"data row1 col1\" >0.135135</td>\n",
       "            </tr>\n",
       "            <tr>\n",
       "                                <td id=\"T_69df9222_7a3d_11ec_baee_c49dedb2bc8drow2_col0\" class=\"data row2 col0\" >27</td>\n",
       "                        <td id=\"T_69df9222_7a3d_11ec_baee_c49dedb2bc8drow2_col1\" class=\"data row2 col1\" >0.243243</td>\n",
       "            </tr>\n",
       "            <tr>\n",
       "                                <td id=\"T_69df9222_7a3d_11ec_baee_c49dedb2bc8drow3_col0\" class=\"data row3 col0\" >32</td>\n",
       "                        <td id=\"T_69df9222_7a3d_11ec_baee_c49dedb2bc8drow3_col1\" class=\"data row3 col1\" >0.081081</td>\n",
       "            </tr>\n",
       "            <tr>\n",
       "                                <td id=\"T_69df9222_7a3d_11ec_baee_c49dedb2bc8drow4_col0\" class=\"data row4 col0\" >37</td>\n",
       "                        <td id=\"T_69df9222_7a3d_11ec_baee_c49dedb2bc8drow4_col1\" class=\"data row4 col1\" >0.108108</td>\n",
       "            </tr>\n",
       "            <tr>\n",
       "                                <td id=\"T_69df9222_7a3d_11ec_baee_c49dedb2bc8drow5_col0\" class=\"data row5 col0\" >42</td>\n",
       "                        <td id=\"T_69df9222_7a3d_11ec_baee_c49dedb2bc8drow5_col1\" class=\"data row5 col1\" >0.135135</td>\n",
       "            </tr>\n",
       "            <tr>\n",
       "                                <td id=\"T_69df9222_7a3d_11ec_baee_c49dedb2bc8drow6_col0\" class=\"data row6 col0\" >47</td>\n",
       "                        <td id=\"T_69df9222_7a3d_11ec_baee_c49dedb2bc8drow6_col1\" class=\"data row6 col1\" >0.067568</td>\n",
       "            </tr>\n",
       "            <tr>\n",
       "                                <td id=\"T_69df9222_7a3d_11ec_baee_c49dedb2bc8drow7_col0\" class=\"data row7 col0\" >52</td>\n",
       "                        <td id=\"T_69df9222_7a3d_11ec_baee_c49dedb2bc8drow7_col1\" class=\"data row7 col1\" >0.040541</td>\n",
       "            </tr>\n",
       "            <tr>\n",
       "                                <td id=\"T_69df9222_7a3d_11ec_baee_c49dedb2bc8drow8_col0\" class=\"data row8 col0\" >57</td>\n",
       "                        <td id=\"T_69df9222_7a3d_11ec_baee_c49dedb2bc8drow8_col1\" class=\"data row8 col1\" >0.054054</td>\n",
       "            </tr>\n",
       "    </tbody></table>"
      ],
      "text/plain": [
       "<pandas.io.formats.style.Styler at 0x1c6a7a637f0>"
      ]
     },
     "execution_count": 16,
     "metadata": {},
     "output_type": "execute_result"
    }
   ],
   "source": [
    "import numpy as np\n",
    "import pandas as pd\n",
    "\n",
    "# Determine total number of classes (integer value)\n",
    "sum_class = np.sum(list(size_and_count.values()))\n",
    "\n",
    "# Create a pandas Series of all possible outcomes (class sizes)\n",
    "sizes = pd.Series(list(size_and_count.keys()))\n",
    "\n",
    "# Divide each class size value by the total number of classes\n",
    "# to create a pandas Series of PMF values\n",
    "actual_pmf = pd.Series([size/sum_class for size in size_and_count.values()])\n",
    "\n",
    "# Display probabilities in a dataframe\n",
    "pmf_df = pd.concat([sizes, actual_pmf], axis=1)\n",
    "pmf_df.columns = [\"Class Size\", \"Overall Probability\"]\n",
    "pmf_df.style.hide_index()"
   ]
  },
  {
   "cell_type": "markdown",
   "metadata": {},
   "source": [
    "As an additional check, these probability values must sum to 1. Let's check for that. Run the following cell: "
   ]
  },
  {
   "cell_type": "code",
   "execution_count": 17,
   "metadata": {},
   "outputs": [
    {
     "data": {
      "text/plain": [
       "1.0"
      ]
     },
     "execution_count": 17,
     "metadata": {},
     "output_type": "execute_result"
    }
   ],
   "source": [
    "# The output should be 1\n",
    "actual_pmf.sum()"
   ]
  },
  {
   "cell_type": "markdown",
   "metadata": {},
   "source": [
    "Because this is a dataframe, we can use the built-in `.plot.bar` method to view the class sizes as a bar graph:"
   ]
  },
  {
   "cell_type": "code",
   "execution_count": 18,
   "metadata": {},
   "outputs": [
    {
     "data": {
      "image/png": "[encoded data removed]",
      "text/plain": [
       "<Figure size 432x288 with 1 Axes>"
      ]
     },
     "metadata": {},
     "output_type": "display_data"
    }
   ],
   "source": [
    "import matplotlib.pyplot as plt\n",
    "%matplotlib inline\n",
    "plt.style.use('ggplot')\n",
    "pmf_df.plot.bar(x=\"Class Size\", y=\"Overall Probability\");"
   ]
  },
  {
   "cell_type": "markdown",
   "metadata": {},
   "source": [
    "Let's also write the PMF as a Python function `p_actual`. Meaning, it takes in a given $x_i$ value (a class size) and returns the probability of that outcome from the management perspective.\n",
    "\n",
    "You can use the global variables `size_and_count` and `sum_class`."
   ]
  },
  {
   "cell_type": "code",
   "execution_count": 19,
   "metadata": {},
   "outputs": [
    {
     "data": {
      "text/plain": [
       "0.13513513513513514"
      ]
     },
     "execution_count": 19,
     "metadata": {},
     "output_type": "execute_result"
    }
   ],
   "source": [
    "def p_actual(x_i):\n",
    "    # Your code here\n",
    "    return size_and_count[x_i]/sum_class\n",
    "\n",
    "p_actual(17) # 0.13513513513513514"
   ]
  },
  {
   "cell_type": "markdown",
   "metadata": {},
   "source": [
    "## Calculate the Mean or Expected Value $E(X)$\n",
    "\n",
    "We can now calculate the mean or **Expected Value** for this distribution.\n",
    "\n",
    ">The mean $\\mu$ or expected value **E(X)** of a random variable $X$ is the sum of the possible values for $X$ weighted by their respective probabilities.\n",
    "\n",
    "$$ E(X) = \\mu = \\sum_i p(x_i)x_i$$\n",
    "\n",
    "In simple terms, you have to multiply each element in the sizes list by their probability of occurrence then sum the resulting values.\n",
    "\n",
    "We can do this in one line of code using pandas broadcasting. (E.g. `sizes.apply(p_actual)` will result in a series containing all $p(x_i)$ values.)"
   ]
  },
  {
   "cell_type": "code",
   "execution_count": 21,
   "metadata": {},
   "outputs": [
    {
     "data": {
      "text/plain": [
       "32.472972972972975"
      ]
     },
     "execution_count": 21,
     "metadata": {},
     "output_type": "execute_result"
    }
   ],
   "source": [
    "# Calculate the expected value (mu) using formula above\n",
    "mu = (sizes.apply(p_actual)*sizes).sum()\n",
    "mu \n",
    "\n",
    "# 32.472972972972975"
   ]
  },
  {
   "cell_type": "markdown",
   "metadata": {},
   "source": [
    "Recall, we expected the average class size to be 32.5. Indeed, the calculation above confirms this."
   ]
  },
  {
   "cell_type": "markdown",
   "metadata": {},
   "source": [
    "## Random Student Survey\n",
    "\n",
    "Next, we conduct a survey on a random group of students about their class sizes and then compute the mean. Paradoxically, we observed that the average class is bigger than 32.5. How did this happen? Let's see this in action below:\n",
    "\n",
    "First, let's compute a distribution as a likely observation **by students**, where the probability associated with each class size is \"biased\" by the **number of students** in the class. If this sounds confusing, think of it this way: instead of calculating a PMF using the counts of class sizes, calculate it using the counts of students.\n",
    "\n",
    "Perform the following tasks to introduce this bias. \n",
    "\n",
    "* For each class size $x$, multiply the class probability by $x$, the number of students who observe that particular class size\n",
    "* Get the sum of biased class sizes\n",
    "\n",
    "The result is a new PMF that represents the biased distribution."
   ]
  },
  {
   "cell_type": "code",
   "execution_count": 22,
   "metadata": {},
   "outputs": [
    {
     "data": {
      "text/plain": [
       "0    2.297297\n",
       "1    2.972973\n",
       "2    6.567568\n",
       "3    2.594595\n",
       "4    4.000000\n",
       "5    5.675676\n",
       "6    3.175676\n",
       "7    2.108108\n",
       "8    3.081081\n",
       "dtype: float64"
      ]
     },
     "execution_count": 22,
     "metadata": {},
     "output_type": "execute_result"
    }
   ],
   "source": [
    "biased = sizes.apply(p_actual) * sizes\n",
    "biased"
   ]
  },
  {
   "cell_type": "markdown",
   "metadata": {},
   "source": [
    "You can now normalize the new biased list with the sum of its values, just like you did before. \n",
    "- Normalize the biased list and calculate the new PMF"
   ]
  },
  {
   "cell_type": "code",
   "execution_count": 23,
   "metadata": {},
   "outputs": [
    {
     "data": {
      "text/plain": [
       "0    0.070745\n",
       "1    0.091552\n",
       "2    0.202247\n",
       "3    0.079900\n",
       "4    0.123179\n",
       "5    0.174782\n",
       "6    0.097794\n",
       "7    0.064919\n",
       "8    0.094881\n",
       "dtype: float64"
      ]
     },
     "execution_count": 23,
     "metadata": {},
     "output_type": "execute_result"
    }
   ],
   "source": [
    "biased_pmf = pd.Series([value/mu for value in biased])\n",
    "biased_pmf"
   ]
  },
  {
   "cell_type": "markdown",
   "metadata": {},
   "source": [
    "You can see that probability values in this PMF are different than our original pmf. Note the differences in the table below:"
   ]
  },
  {
   "cell_type": "code",
   "execution_count": 24,
   "metadata": {},
   "outputs": [
    {
     "data": {
      "text/html": [
       "<div>\n",
       "<style scoped>\n",
       "    .dataframe tbody tr th:only-of-type {\n",
       "        vertical-align: middle;\n",
       "    }\n",
       "\n",
       "    .dataframe tbody tr th {\n",
       "        vertical-align: top;\n",
       "    }\n",
       "\n",
       "    .dataframe thead th {\n",
       "        text-align: right;\n",
       "    }\n",
       "</style>\n",
       "<table border=\"1\" class=\"dataframe\">\n",
       "  <thead>\n",
       "    <tr style=\"text-align: right;\">\n",
       "      <th></th>\n",
       "      <th>Class Size</th>\n",
       "      <th>Overall Probability</th>\n",
       "      <th>Perceived Probability</th>\n",
       "    </tr>\n",
       "  </thead>\n",
       "  <tbody>\n",
       "    <tr>\n",
       "      <th>0</th>\n",
       "      <td>17</td>\n",
       "      <td>0.135135</td>\n",
       "      <td>0.070745</td>\n",
       "    </tr>\n",
       "    <tr>\n",
       "      <th>1</th>\n",
       "      <td>22</td>\n",
       "      <td>0.135135</td>\n",
       "      <td>0.091552</td>\n",
       "    </tr>\n",
       "    <tr>\n",
       "      <th>2</th>\n",
       "      <td>27</td>\n",
       "      <td>0.243243</td>\n",
       "      <td>0.202247</td>\n",
       "    </tr>\n",
       "    <tr>\n",
       "      <th>3</th>\n",
       "      <td>32</td>\n",
       "      <td>0.081081</td>\n",
       "      <td>0.079900</td>\n",
       "    </tr>\n",
       "    <tr>\n",
       "      <th>4</th>\n",
       "      <td>37</td>\n",
       "      <td>0.108108</td>\n",
       "      <td>0.123179</td>\n",
       "    </tr>\n",
       "    <tr>\n",
       "      <th>5</th>\n",
       "      <td>42</td>\n",
       "      <td>0.135135</td>\n",
       "      <td>0.174782</td>\n",
       "    </tr>\n",
       "    <tr>\n",
       "      <th>6</th>\n",
       "      <td>47</td>\n",
       "      <td>0.067568</td>\n",
       "      <td>0.097794</td>\n",
       "    </tr>\n",
       "    <tr>\n",
       "      <th>7</th>\n",
       "      <td>52</td>\n",
       "      <td>0.040541</td>\n",
       "      <td>0.064919</td>\n",
       "    </tr>\n",
       "    <tr>\n",
       "      <th>8</th>\n",
       "      <td>57</td>\n",
       "      <td>0.054054</td>\n",
       "      <td>0.094881</td>\n",
       "    </tr>\n",
       "  </tbody>\n",
       "</table>\n",
       "</div>"
      ],
      "text/plain": [
       "   Class Size  Overall Probability  Perceived Probability\n",
       "0          17             0.135135               0.070745\n",
       "1          22             0.135135               0.091552\n",
       "2          27             0.243243               0.202247\n",
       "3          32             0.081081               0.079900\n",
       "4          37             0.108108               0.123179\n",
       "5          42             0.135135               0.174782\n",
       "6          47             0.067568               0.097794\n",
       "7          52             0.040541               0.064919\n",
       "8          57             0.054054               0.094881"
      ]
     },
     "execution_count": 24,
     "metadata": {},
     "output_type": "execute_result"
    }
   ],
   "source": [
    "pmf_df[\"Perceived Probability\"] = biased_pmf\n",
    "pmf_df"
   ]
  },
  {
   "cell_type": "markdown",
   "metadata": {},
   "source": [
    "Again, we can represent this as a function, this time called `p_perceived`."
   ]
  },
  {
   "cell_type": "code",
   "execution_count": 25,
   "metadata": {},
   "outputs": [
    {
     "data": {
      "text/plain": [
       "0.07074490220557636"
      ]
     },
     "execution_count": 25,
     "metadata": {},
     "output_type": "execute_result"
    }
   ],
   "source": [
    "def p_perceived(x_i):\n",
    "    return p_actual(x_i)*x_i / mu\n",
    "\n",
    "p_perceived(17)"
   ]
  },
  {
   "cell_type": "markdown",
   "metadata": {},
   "source": [
    "Just like before, you can calculate the expected value $\\mu$. This time, use `p_perceived` instead of `p_actual` in your calculation."
   ]
  },
  {
   "cell_type": "code",
   "execution_count": 27,
   "metadata": {},
   "outputs": [
    {
     "data": {
      "text/plain": [
       "36.51310861423221"
      ]
     },
     "execution_count": 27,
     "metadata": {},
     "output_type": "execute_result"
    }
   ],
   "source": [
    "mu_biased = (sizes.apply(p_perceived)*sizes).sum()\n",
    "mu_biased\n",
    "\n",
    "# 36.51310861423221"
   ]
  },
  {
   "cell_type": "markdown",
   "metadata": {},
   "source": [
    "## Here Is the Paradox \n",
    "\n",
    "Here we see it, the average or expected value of biased results comes out higher than the actual values. In some situations, a paradox like this can be mind-boggling. As an extra measure, inspect both PMFs side by side visually to see the differences. \n",
    "\n",
    "You can use `.plot.bar` again on `pmf_df`, this time changing the `y` parameter so that both probability distributions will be plotted side-by-side. Your plot should look like this:\n",
    "\n",
    "![bar graph with two PMFs side by side](side_by_side_graph.png)"
   ]
  },
  {
   "cell_type": "code",
   "execution_count": 30,
   "metadata": {},
   "outputs": [
    {
     "data": {
      "image/png": "[encoded data removed]",
      "text/plain": [
       "<Figure size 432x288 with 1 Axes>"
      ]
     },
     "metadata": {},
     "output_type": "display_data"
    }
   ],
   "source": [
    "# Your code here\n",
    "plt.style.use('ggplot')\n",
    "pmf_df.plot.bar(x=\"Class Size\", y=[\"Perceived Probability\", \"Overall Probability\"]);"
   ]
  },
  {
   "cell_type": "markdown",
   "metadata": {},
   "source": [
    "Your results tell you that in the biased distribution there are fewer small classes and more large classes. \n",
    "\n",
    "The mean of the biased distribution is ~36.5, which is quite a bit higher than the actual mean of ~32.5.\n",
    "\n",
    "For an alternative comparison where it is easier to see which value is higher, plot these PMFs on top of each other with semi-transparent bar fill.\n",
    "\n",
    "Your plot should look like this:\n",
    "\n",
    "![bar graph with overlapping PMFs](overlapping_semitransparent_graph.png)\n",
    "\n",
    "Hints:\n",
    "\n",
    "* You will need call `.plot.bar` twice, and pass in `ax`, so that both plots use the same axes\n",
    "* Change the parameter `alpha` to adjust the transparency\n",
    "* If you don't specify a color, both will plot with the default red color and you won't be able to tell which is which. In the above version, \"Overall Probability\" has a `color` of `\"tab:red\"` and \"Perceived Probability\" has a `color` of `\"tab:blue\"`, but you're free to customize it differently!"
   ]
  },
  {
   "cell_type": "code",
   "execution_count": 33,
   "metadata": {},
   "outputs": [
    {
     "data": {
      "text/plain": [
       "<AxesSubplot:xlabel='Class Size'>"
      ]
     },
     "execution_count": 33,
     "metadata": {},
     "output_type": "execute_result"
    },
    {
     "data": {
      "image/png": "[encoded data removed]",
      "text/plain": [
       "<Figure size 432x288 with 1 Axes>"
      ]
     },
     "metadata": {},
     "output_type": "display_data"
    }
   ],
   "source": [
    "# Setting up shared axes\n",
    "fig, ax = plt.subplots()\n",
    "pmf_df.plot.bar(x=\"Class Size\", y=\"Overall Probability\",ax=ax,alpha=0.5,color='tab:red')\n",
    "pmf_df.plot.bar(x=\"Class Size\", y=\"Perceived Probability\",ax=ax,alpha=0.5,color='tab:blue')\n",
    "# Your code here"
   ]
  },
  {
   "cell_type": "markdown",
   "metadata": {},
   "source": [
    "Here is the key: for smaller class sizes, the probability of coming across a students is lower than the actual probability. For larger classes, the probability of coming across a student is much higher than actual probability. This explains why the paradox takes place!\n",
    "\n",
    "## Summary \n",
    "In this lesson, we looked at a common paradox called the \"class size paradox\", which deals with differences in observation by different people based on their circumstances. \n",
    "\n",
    "Note that this phenomenon is not just limited to class sizes. It applies to many scenarios where people are grouped together, such as in the context of social networks. This paradox can become really complicated due to the large number of individuals involved and the resulting variations in the probabilities of their observations which arise due to their settings. "
   ]
  }
 ],
 "metadata": {
  "kernelspec": {
   "display_name": "Python 3",
   "language": "python",
   "name": "python3"
  },
  "language_info": {
   "codemirror_mode": {
    "name": "ipython",
    "version": 3
   },
   "file_extension": ".py",
   "mimetype": "text/x-python",
   "name": "python",
   "nbconvert_exporter": "python",
   "pygments_lexer": "ipython3",
   "version": "3.8.5"
  },
  "toc": {
   "base_numbering": 1,
   "nav_menu": {},
   "number_sections": true,
   "sideBar": true,
   "skip_h1_title": false,
   "title_cell": "Table of Contents",
   "title_sidebar": "Contents",
   "toc_cell": false,
   "toc_position": {},
   "toc_section_display": true,
   "toc_window_display": false
  }
 },
 "nbformat": 4,
 "nbformat_minor": 2
}
