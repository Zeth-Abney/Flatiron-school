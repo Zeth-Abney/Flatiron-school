{
 "cells": [
  {
   "cell_type": "markdown",
   "metadata": {},
   "source": [
    "# Partitioning and Law of Total Probability - Lab\n",
    "\n",
    "## Introduction \n",
    "In this lab, you'll practice your knowledge of the law of total probability. In probability theory, the law (or formula) of total probability is a fundamental rule relating **marginal probabilities** to **conditional probabilities**.\n",
    "\n",
    "## Objectives\n",
    "\n",
    "You will be able to:\n",
    "\n",
    "* Differentiate between independent and dependent events\n",
    "* Perform partitioning based on known and unknown probabilities to solve a problem"
   ]
  },
  {
   "cell_type": "markdown",
   "metadata": {},
   "source": [
    "## Exercise 1\n",
    "Imagine you have two hats: one has 4 red balls and 6 green balls, the other has 6 red and 4 green. We toss a fair coin, if heads, you will pick a random ball from the first hat, if tails you will pick one from the second hat. \n",
    "\n",
    "What is the probability of getting a red ball?"
   ]
  },
  {
   "cell_type": "code",
   "execution_count": 2,
   "metadata": {},
   "outputs": [
    {
     "data": {
      "text/plain": [
       "0.5"
      ]
     },
     "execution_count": 2,
     "metadata": {},
     "output_type": "execute_result"
    }
   ],
   "source": [
    "# Your code here\n",
    "# P(Red) = P(Red|H) · P(H) + P(Red|T) · P(T)\n",
    "# P(Red|H) = 4/10\n",
    "# P(Red|T) = 6/10\n",
    "\n",
    "prob_red = ((4/10)*(1/2))+((6/10)*(1/2))\n",
    "prob_red"
   ]
  },
  {
   "cell_type": "markdown",
   "metadata": {},
   "source": [
    "## Exercise 2\n",
    "In games where at least one goal is made, a soccer team wins 60% of its games when it scores the first goal, and 10% of its games when the opposing team \n",
    "scores first. \n",
    "\n",
    "If the team scores the first goal about 30% of the time, what fraction of the games does it win?"
   ]
  },
  {
   "cell_type": "code",
   "execution_count": 3,
   "metadata": {},
   "outputs": [
    {
     "data": {
      "text/plain": [
       "0.25"
      ]
     },
     "execution_count": 3,
     "metadata": {},
     "output_type": "execute_result"
    }
   ],
   "source": [
    "# Your code here\n",
    "# P(F) = 0.30\n",
    "# P(F '') = 0.70\n",
    "\n",
    "# P(W|F) = 0.60\n",
    "# P(W|F '') = 0.10\n",
    "\n",
    "# P(L|F) = 0.40\n",
    "# P(L|F '') = 0.90\n",
    "\n",
    "# P(W) = P(W|F)P(F) + P(W|F '')P(F '')\n",
    "\n",
    "prob_w = (0.60*0.30)+(0.10*0.70)\n",
    "prob_w"
   ]
  },
  {
   "cell_type": "markdown",
   "metadata": {},
   "source": [
    "## Exercise 3"
   ]
  },
  {
   "cell_type": "markdown",
   "metadata": {},
   "source": [
    "In Europe, except for regular gas, cars often run on diesel as well. At a gas station in Paris; \n",
    "\n",
    "\n",
    "* 40% of the customers fill up with diesel (event G1) \n",
    "* 35% with gas \"Super 95\" (event G2)\n",
    "* 25% with gas \"Super 98\" (event G3). \n",
    "\n",
    "\n",
    "* 30% of the customers who buy diesel fill their tank completely (event F). \n",
    "* For \"Super 95\" and \"Super 98\", these numbers are  60% and 50%, respectively.\n",
    "\n",
    "\n",
    "- Compute the probability that the next customer completely fills their tank and buys Super 95. \n",
    "- Compute the probability that the next customer completely fills their tank\n",
    "- Given that the next customer fills their tank completely, compute the probability that they bought diesel. \n",
    "\n",
    "Hint: Consult the theorems for conditional probability, check for dependence or independence of events"
   ]
  },
  {
   "cell_type": "code",
   "execution_count": 4,
   "metadata": {},
   "outputs": [],
   "source": [
    "# # Your code here\n",
    "# P(G1) = 0.40 #Diesel\n",
    "# P(G2) = 0.35 #Super 95\n",
    "# P(G3) = 0.25 #Super 98\n",
    "\n",
    "# P(F&G1) = P(F1) = 0.30\n",
    "# P(F&G2) = P(F2) = 0.60\n",
    "# P(F&G3) = P(F3) = 0.50\n",
    "\n",
    "# P(G1|F1) = P(G1)*P(F1) = (0.40)*(0.30) = 0.12\n",
    "# P(G2|F2) = P(G2)*P(F2) = (0.35)*(0.60) = 0.21\n",
    "# P(G3|F3) = P(G3)*P(F3) = (0.25)*(0.50) = 0.125\n",
    "\n",
    "# P(F) = P(G1|F1) + P(G2|F2) + P(G3|F3) = 0.12 + 0.21 + 0.124 = 0.454"
   ]
  },
  {
   "cell_type": "markdown",
   "metadata": {},
   "source": [
    "## Exercise 4"
   ]
  },
  {
   "cell_type": "markdown",
   "metadata": {},
   "source": [
    "United Airlines operates flights from JFK to Amsterdam, to Brussels, and to Copenhagen. As you may know, flights are overbooked fairly often. Let's denote the probability of the flight to Amsterdam being overbooked equal to 40%, the probability of the flight to Brussels being overbooked equal to 25%, and the probability of the flight to Copenhagen being overbooked equal to 35%. You can assume that these events of overbooking are independent events."
   ]
  },
  {
   "cell_type": "markdown",
   "metadata": {},
   "source": [
    "- Compute the probability that all the flights are overbooked.\n",
    "- Compute the probability of having at least one flight which is not overbooked.\n",
    "- Compute the probability that exactly one flight is overbooked."
   ]
  },
  {
   "cell_type": "code",
   "execution_count": 13,
   "metadata": {},
   "outputs": [],
   "source": [
    "# Your code here\n",
    "P(A) = ?\n",
    "P(B) = ?\n",
    "P(C) = ?\n",
    "\n",
    "P(O) = ?\n",
    "P(O'') = ? \n",
    "\n",
    "P(A&O) = 0.40 \n",
    "P(B&O) = 0.25\n",
    "P(C&O) = 0.35\n",
    "\n",
    "P(A,B,C&O) = 0.40*0.25*0.35 = 0.035\n",
    "\n",
    "P(O''|A,B,C) = 1 - 0.035 = 0.965\n",
    "\n",
    "P(O|A,B,C) = P(A&O)'' + P(B&O)'' + P(C&O)'' = (0.40*0.75*0.65) + (0.60*0.25*0.65) + (0.60*0.75*0.35) = 0.45"
   ]
  },
  {
   "cell_type": "code",
   "execution_count": 5,
   "metadata": {},
   "outputs": [
    {
     "data": {
      "text/plain": [
       "0.45"
      ]
     },
     "execution_count": 5,
     "metadata": {},
     "output_type": "execute_result"
    }
   ],
   "source": [
    "(0.40*0.75*0.65) + (0.60*0.25*0.65) + (0.60*0.75*0.35)"
   ]
  },
  {
   "cell_type": "markdown",
   "metadata": {},
   "source": [
    "## Exercise 5\n",
    "You have three bags that each contain 100 marbles:\n",
    "\n",
    "- Bag 1 has 75 red and 25 blue marbles;\n",
    "- Bag 2 has 60 red and 40 blue marbles;\n",
    "- Bag 3 has 45 red and 55 blue marbles.\n",
    "\n",
    "You choose one of the bags at random and then pick a marble from the chosen bag, also at random. \n",
    "\n",
    "What is the probability that the chosen marble is red?\n"
   ]
  },
  {
   "cell_type": "code",
   "execution_count": 17,
   "metadata": {},
   "outputs": [],
   "source": [
    "# Your code here\n",
    "# P(Red) = P(Red|H) · P(H) + P(Red|T) · P(T)\n",
    "P(R|b1) = 0.75\n",
    "P(R|b1)'' = 0.25\n",
    "\n",
    "P(R|b2) = 0.60\n",
    "P(R|b2)'' = 0.40\n",
    "\n",
    "P(R|b3) = 0.45\n",
    "P(R|b3)'' = 0.55 \n",
    "\n",
    "P(b1,b2,b3) = (1/3) \n",
    "\n",
    "P(R) = P(R|b1)P(b1) + P(R|b2)P(b2) + P(R|b3)P(b3)\n",
    "\n",
    "red_prob = (0.75*(1/3))+(0.60*(1/3))+(0.45*(1/3))\n"
   ]
  },
  {
   "cell_type": "code",
   "execution_count": 6,
   "metadata": {},
   "outputs": [
    {
     "data": {
      "text/plain": [
       "0.6"
      ]
     },
     "execution_count": 6,
     "metadata": {},
     "output_type": "execute_result"
    }
   ],
   "source": [
    "(0.75*(1/3))+(0.60*(1/3))+(0.45*(1/3))"
   ]
  },
  {
   "cell_type": "markdown",
   "metadata": {},
   "source": [
    "## Summary \n",
    "\n",
    "In this lab, you practiced conditional probability and its theorem with some simple problems. The key takeaway from this lab is to be able to identify random events as dependent or independent and calculating the probability of their occurrence using appropriate methods. Next, you'll take this knowledge a step further and run simulations with conditional and total probability. "
   ]
  }
 ],
 "metadata": {
  "kernelspec": {
   "display_name": "Python 3",
   "language": "python",
   "name": "python3"
  },
  "language_info": {
   "codemirror_mode": {
    "name": "ipython",
    "version": 3
   },
   "file_extension": ".py",
   "mimetype": "text/x-python",
   "name": "python",
   "nbconvert_exporter": "python",
   "pygments_lexer": "ipython3",
   "version": "3.8.5"
  },
  "toc": {
   "base_numbering": 1,
   "nav_menu": {},
   "number_sections": true,
   "sideBar": true,
   "skip_h1_title": false,
   "title_cell": "Table of Contents",
   "title_sidebar": "Contents",
   "toc_cell": false,
   "toc_position": {},
   "toc_section_display": true,
   "toc_window_display": false
  }
 },
 "nbformat": 4,
 "nbformat_minor": 2
}
