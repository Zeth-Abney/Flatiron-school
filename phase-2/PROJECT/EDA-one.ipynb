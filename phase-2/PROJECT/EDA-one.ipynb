{
 "cells": [
  {
   "cell_type": "code",
   "execution_count": 1,
   "metadata": {},
   "outputs": [],
   "source": [
    "import pandas as pd\n",
    "import numpy as np"
   ]
  },
  {
   "cell_type": "code",
   "execution_count": 2,
   "metadata": {},
   "outputs": [],
   "source": [
    "df = pd.read_csv('data/kc_house_data.csv')"
   ]
  },
  {
   "cell_type": "code",
   "execution_count": null,
   "metadata": {},
   "outputs": [],
   "source": []
  },
  {
   "cell_type": "markdown",
   "metadata": {},
   "source": [
    "### Investigating relationship of condition to waterfront "
   ]
  },
  {
   "cell_type": "code",
   "execution_count": null,
   "metadata": {},
   "outputs": [],
   "source": []
  },
  {
   "cell_type": "markdown",
   "metadata": {},
   "source": [
    "###### cleaning grade column"
   ]
  },
  {
   "cell_type": "code",
   "execution_count": 5,
   "metadata": {},
   "outputs": [
    {
     "data": {
      "text/plain": [
       "array([7, 6, 8, 1, 9, 5, 4, 3], dtype=int64)"
      ]
     },
     "execution_count": 5,
     "metadata": {},
     "output_type": "execute_result"
    }
   ],
   "source": [
    "# Replaces grade objects with numerics based on data dict. \n",
    "grade_raws = list(df.grade.unique())\n",
    "\n",
    "for raw in grade_raws:\n",
    "    df.grade.replace(to_replace=raw,value=int(raw[0]),inplace=True)\n",
    "    \n",
    "df.grade.unique()"
   ]
  },
  {
   "cell_type": "code",
   "execution_count": 6,
   "metadata": {},
   "outputs": [],
   "source": [
    "water_bad_grade = df.loc[(df['waterfront']=='YES') & (df['grade']<4)]\n",
    "water_mid_grade = df.loc[(df['waterfront']=='YES') & ((df['grade']>3)&(df['grade']<7))]\n",
    "water_lux_grade = df.loc[(df['waterfront']=='YES') & (df['grade']>6)]"
   ]
  },
  {
   "cell_type": "markdown",
   "metadata": {},
   "source": [
    "###### cleaning condition column"
   ]
  },
  {
   "cell_type": "code",
   "execution_count": 7,
   "metadata": {},
   "outputs": [],
   "source": [
    "# replaces condition objects with numerics based on data dict.\n",
    "condition_dict = {'Poor':1,'Fair':2,'Average':3,'Good':4,'Very Good':5}\n",
    "for key in condition_dict:\n",
    "    df.condition.replace(to_replace=condition_dict,inplace=True)"
   ]
  },
  {
   "cell_type": "code",
   "execution_count": 8,
   "metadata": {},
   "outputs": [],
   "source": [
    "water_below_con = df.loc[(df['waterfront']=='YES') & (df['condition'] < 3)]\n",
    "water_above_con = df.loc[(df['waterfront']=='YES') & (df['condition'] > 3)]\n",
    "water_at_con = df.loc[(df['waterfront']=='YES') & (df['condition'] == 3)]\n",
    "null_water_con = df.loc[df['waterfront'].isnull()]\n",
    "none_water_con = df.loc[df['waterfront'] == 'NO']\n",
    "much_water_con = df.loc[df['waterfront'] == 'YES']"
   ]
  },
  {
   "cell_type": "code",
   "execution_count": null,
   "metadata": {},
   "outputs": [],
   "source": []
  },
  {
   "cell_type": "code",
   "execution_count": 9,
   "metadata": {},
   "outputs": [
    {
     "name": "stdout",
     "output_type": "stream",
     "text": [
      "There are 21597 total records available\n",
      "There are 2376 records with NaN waterfronts\n",
      "There are 19075 records stated without waterfronts\n",
      "\n",
      "\n",
      "Of the 146 waterfront properties\n",
      "There are no null 'grade' or 'condition' values\n",
      "\n",
      "\n",
      "There are 2 below average properties on that are on a waterfront\n",
      "There are 80 average properties on that are on a waterfront\n",
      "There are 64 above average properties on that are on a waterfront\n",
      "\n",
      "\n",
      "There are 57 badly conditioned properties on that are on a waterfront\n",
      "There are 14 mildly conditioned properties on that are on a waterfront\n",
      "There are 75 well conditioned properties on that are on a waterfront\n"
     ]
    }
   ],
   "source": [
    "print(f\"There are {df.shape[0]} total records available\")\n",
    "print(f\"There are {null_water_con.shape[0]} records with NaN waterfronts\")\n",
    "print(f\"There are {none_water_con.shape[0]} records stated without waterfronts\")\n",
    "print(\"\\n\")\n",
    "print(f\"Of the {much_water_con.shape[0]} waterfront properties\")\n",
    "print(\"There are no null 'grade' or 'condition' values\")\n",
    "print(\"\\n\")\n",
    "print(f\"There are {water_below_con.shape[0]} below average properties on that are on a waterfront\")\n",
    "print(f\"There are {water_at_con.shape[0]} average properties on that are on a waterfront\")\n",
    "print(f\"There are {water_above_con.shape[0]} above average properties on that are on a waterfront\")\n",
    "print(\"\\n\")\n",
    "print(f\"There are {water_bad_grade.shape[0]} badly conditioned properties on that are on a waterfront\")\n",
    "print(f\"There are {water_mid_grade.shape[0]} mildly conditioned properties on that are on a waterfront\")\n",
    "print(f\"There are {water_lux_grade.shape[0]} well conditioned properties on that are on a waterfront\")"
   ]
  },
  {
   "cell_type": "markdown",
   "metadata": {},
   "source": [
    "###### engineer column to show nearest body of water"
   ]
  },
  {
   "cell_type": "code",
   "execution_count": 65,
   "metadata": {},
   "outputs": [],
   "source": [
    "waterfront_zip_dict = {'Duwamish':[98168],\n",
    "'Elliott Bay':[98119,98104,98129,98132,98127,98125,98195,98101,98134,98170,98139,98131,98181], \n",
    "'Puget Sound':[98071,98083,98013,98070,98031,98131,98063,98195,98207,98190], \n",
    "'Lake Union':[98109], \n",
    "'Ship Canal':[00000], \n",
    "'Lake Washington':[98072,98077], \n",
    "'Lake Sammamish':[98074,98075,98029], \n",
    "'other lake':[00000], \n",
    "'river/slough waterfronts':[00000]}\n",
    "water_zip_list = []\n",
    "for front in waterfront_zip_dict:\n",
    "    water_zip_list.extend(waterfront_zip_dict[front]) # list of all waterfront zipcodes\n",
    "df['waterfront_loc'] = np.nan"
   ]
  },
  {
   "cell_type": "code",
   "execution_count": null,
   "metadata": {},
   "outputs": [],
   "source": []
  },
  {
   "cell_type": "code",
   "execution_count": 66,
   "metadata": {},
   "outputs": [
    {
     "data": {
      "text/plain": [
       "0                   NaN\n",
       "1           Elliott Bay\n",
       "2                   NaN\n",
       "3                   NaN\n",
       "4        Lake Sammamish\n",
       "              ...      \n",
       "21592               NaN\n",
       "21593               NaN\n",
       "21594               NaN\n",
       "21595               NaN\n",
       "21596               NaN\n",
       "Name: waterfront_loc, Length: 21597, dtype: object"
      ]
     },
     "execution_count": 66,
     "metadata": {},
     "output_type": "execute_result"
    }
   ],
   "source": [
    "waterfront_locs = []\n",
    "\n",
    "for index,row in df.iterrows():\n",
    "    for front in waterfront_zip_dict:\n",
    "        if row.zipcode in waterfront_zip_dict[front]:\n",
    "            waterfront_locs.append((index,front))\n",
    "            \n",
    "for tup in waterfront_locs:\n",
    "    df.iloc[tup[0],-1] = tup[1]\n",
    "    \n",
    "# waterfront_locs\n",
    "df.waterfront_loc"
   ]
  },
  {
   "cell_type": "code",
   "execution_count": 67,
   "metadata": {},
   "outputs": [
    {
     "data": {
      "text/plain": [
       "array([nan, 'Elliott Bay', 'Lake Sammamish', 'Puget Sound',\n",
       "       'Lake Washington', 'Duwamish', 'Lake Union'], dtype=object)"
      ]
     },
     "execution_count": 67,
     "metadata": {},
     "output_type": "execute_result"
    }
   ],
   "source": [
    "df.waterfront_loc.unique()"
   ]
  },
  {
   "cell_type": "code",
   "execution_count": null,
   "metadata": {},
   "outputs": [],
   "source": []
  },
  {
   "cell_type": "code",
   "execution_count": 77,
   "metadata": {},
   "outputs": [
    {
     "name": "stdout",
     "output_type": "stream",
     "text": [
      "Records containing waterfront bool and zip:  2627\n",
      "Records with waterfront zip:  2953\n",
      "Records with waterfront bool:  19221\n"
     ]
    }
   ],
   "source": [
    "print('Records containing waterfront bool and zip: ',df.loc[df['waterfront_loc'].notnull() & df['waterfront'].notnull()].shape[0])\n",
    "print('Records with waterfront zip: ',df.loc[df['waterfront_loc'].notnull()].shape[0])\n",
    "print('Records with waterfront bool: ',df.loc[df['waterfront'].notnull()].shape[0])"
   ]
  },
  {
   "cell_type": "code",
   "execution_count": 68,
   "metadata": {},
   "outputs": [
    {
     "name": "stdout",
     "output_type": "stream",
     "text": [
      "<class 'pandas.core.frame.DataFrame'>\n",
      "RangeIndex: 21597 entries, 0 to 21596\n",
      "Data columns (total 22 columns):\n",
      " #   Column          Non-Null Count  Dtype  \n",
      "---  ------          --------------  -----  \n",
      " 0   id              21597 non-null  int64  \n",
      " 1   date            21597 non-null  object \n",
      " 2   price           21597 non-null  float64\n",
      " 3   bedrooms        21597 non-null  int64  \n",
      " 4   bathrooms       21597 non-null  float64\n",
      " 5   sqft_living     21597 non-null  int64  \n",
      " 6   sqft_lot        21597 non-null  int64  \n",
      " 7   floors          21597 non-null  float64\n",
      " 8   waterfront      19221 non-null  object \n",
      " 9   view            21534 non-null  object \n",
      " 10  condition       21597 non-null  int64  \n",
      " 11  grade           21597 non-null  int64  \n",
      " 12  sqft_above      21597 non-null  int64  \n",
      " 13  sqft_basement   21597 non-null  object \n",
      " 14  yr_built        21597 non-null  int64  \n",
      " 15  yr_renovated    17755 non-null  float64\n",
      " 16  zipcode         21597 non-null  int64  \n",
      " 17  lat             21597 non-null  float64\n",
      " 18  long            21597 non-null  float64\n",
      " 19  sqft_living15   21597 non-null  int64  \n",
      " 20  sqft_lot15      21597 non-null  int64  \n",
      " 21  waterfront_loc  2953 non-null   object \n",
      "dtypes: float64(6), int64(11), object(5)\n",
      "memory usage: 3.6+ MB\n"
     ]
    }
   ],
   "source": [
    "df.info()"
   ]
  },
  {
   "cell_type": "code",
   "execution_count": null,
   "metadata": {},
   "outputs": [],
   "source": []
  }
 ],
 "metadata": {
  "kernelspec": {
   "display_name": "Python (learn-env)",
   "language": "python",
   "name": "learn-env"
  },
  "language_info": {
   "codemirror_mode": {
    "name": "ipython",
    "version": 3
   },
   "file_extension": ".py",
   "mimetype": "text/x-python",
   "name": "python",
   "nbconvert_exporter": "python",
   "pygments_lexer": "ipython3",
   "version": "3.8.3"
  }
 },
 "nbformat": 4,
 "nbformat_minor": 4
}
