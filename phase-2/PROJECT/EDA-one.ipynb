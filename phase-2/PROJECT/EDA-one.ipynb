{
 "cells": [
  {
   "cell_type": "code",
   "execution_count": 1,
   "metadata": {},
   "outputs": [],
   "source": [
    "import datetime as dt\n",
    "import pandas as pd\n",
    "import numpy as np"
   ]
  },
  {
   "cell_type": "code",
   "execution_count": 2,
   "metadata": {},
   "outputs": [],
   "source": [
    "df = pd.read_csv('data/kc_house_data.csv') \n",
    "df.drop(df.loc[df['sqft_basement']=='?'].index,inplace=True) # remove '?' from the data.\n",
    "df.drop(['id','yr_renovated','waterfront','view','zipcode','lat','long'],inplace=True,axis=1) # remove data lean features"
   ]
  },
  {
   "cell_type": "markdown",
   "metadata": {},
   "source": [
    "- when to buy: (date)\n",
    "- where to buy: (waterfront(bool), waterfront_loc)\n",
    "- what to buy:  (condition, grade) bed-bath ratio)"
   ]
  },
  {
   "cell_type": "markdown",
   "metadata": {},
   "source": [
    "### Investigating relationship of condition to waterfront "
   ]
  },
  {
   "cell_type": "markdown",
   "metadata": {},
   "source": [
    "##### cleaning sqft_basement column"
   ]
  },
  {
   "cell_type": "code",
   "execution_count": 3,
   "metadata": {},
   "outputs": [],
   "source": [
    "df.sqft_basement = [float(sq) for sq in list(df.sqft_basement)] # convert all string types into np floats"
   ]
  },
  {
   "cell_type": "markdown",
   "metadata": {},
   "source": [
    "##### cleaning grade column"
   ]
  },
  {
   "cell_type": "code",
   "execution_count": 4,
   "metadata": {},
   "outputs": [
    {
     "data": {
      "text/plain": [
       "array([7, 6, 8, 1, 9, 5, 4, 3], dtype=int64)"
      ]
     },
     "execution_count": 4,
     "metadata": {},
     "output_type": "execute_result"
    }
   ],
   "source": [
    "# Replaces grade objects with numerics based on data dict. \n",
    "grade_raws = list(df.grade.unique())\n",
    "\n",
    "for raw in grade_raws:\n",
    "    df.grade.replace(to_replace=raw,value=int(raw[0]),inplace=True) # replaces a cell value with the int of the first character of its existing string\n",
    "    \n",
    "df.grade.unique()"
   ]
  },
  {
   "cell_type": "markdown",
   "metadata": {},
   "source": [
    "##### cleaning condition column"
   ]
  },
  {
   "cell_type": "code",
   "execution_count": 5,
   "metadata": {},
   "outputs": [],
   "source": [
    "# replaces condition objects with numerics based on data dict.\n",
    "condition_dict = {'Poor':1,'Fair':2,'Average':3,'Good':4,'Very Good':5}\n",
    "for key in condition_dict:\n",
    "    df.condition.replace(to_replace=condition_dict,inplace=True) "
   ]
  },
  {
   "cell_type": "code",
   "execution_count": 6,
   "metadata": {},
   "outputs": [],
   "source": [
    "# df.info()"
   ]
  },
  {
   "cell_type": "markdown",
   "metadata": {},
   "source": [
    "##### engineer day of year from date column, and age from yr_built column"
   ]
  },
  {
   "cell_type": "code",
   "execution_count": 7,
   "metadata": {
    "scrolled": true
   },
   "outputs": [],
   "source": [
    "day_list = []\n",
    "ages = [] \n",
    "\n",
    "for date in df.date: # for every record in the date column\n",
    "    dt_list = date.split(\"/\") # split string into list\n",
    "    dtime = dt.datetime(int(dt_list[2]),int(dt_list[0]),int(dt_list[1])) # pass into datetime\n",
    "    day_year = dtime.strftime('%j') # get day of year (1-365)\n",
    "    day_list.append(day_year) # append to list\n",
    "\n",
    "for year in df.yr_built: # \n",
    "    ytime = dt.datetime(year,1,1)\n",
    "    now = dt.datetime.now()\n",
    "    age = now - ytime \n",
    "    ages.append(age)\n",
    "\n",
    "df.drop('date',axis=1,inplace=True)\n",
    "df['age'] = ages # create new column and asign ages as its values \n",
    "df['day_of_year'] = day_list # create new column and asign day_list as its values"
   ]
  },
  {
   "cell_type": "markdown",
   "metadata": {},
   "source": [
    "##### engineer bedroom-bathroom, above-below grade levels ratio"
   ]
  },
  {
   "cell_type": "code",
   "execution_count": 8,
   "metadata": {},
   "outputs": [],
   "source": [
    "bbratios = []\n",
    "lvl_ratios = []\n",
    "\n",
    "for index,row in df.iterrows(): #iterate through every record\n",
    "#     print(row)\n",
    "    bbratio = row.bedrooms/row.bathrooms # calculate ratio of bedrooms to bathrooms\n",
    "    bbratios.append(bbratio) # append ratio to the list\n",
    "\n",
    "    if row.sqft_basement == 0: # sqft_basement is zero if there is no basement\n",
    "        lvl_ratios.append(0) # ratio should also be zero if there is no ratio\n",
    "    else:\n",
    "        lvl_ratio = row.sqft_above / row.sqft_basement # calculate ratio of space above grade vs below grade\n",
    "        lvl_ratios.append(lvl_ratio) # append ratio to the list\n",
    "\n",
    "df['bed_bath_ratio'] = bbratios # create new column and asign list as its values\n",
    "df['level_ratio'] = lvl_ratios # create new column and asign list as its values"
   ]
  },
  {
   "cell_type": "markdown",
   "metadata": {},
   "source": [
    "##### engineer relative size features"
   ]
  },
  {
   "cell_type": "code",
   "execution_count": 9,
   "metadata": {},
   "outputs": [],
   "source": [
    "rel_live_space = []\n",
    "rel_lot_size = [] \n",
    "rel_difference = []\n",
    "\n",
    "for index,row in df.iterrows(): # for every record \n",
    "    live_dif = row.sqft_living - row.sqft_living15 # calculate difference in sqft of the given house and the nearest 15 other houses\n",
    "    rel_live_space.append(live_dif) # append it to the list\n",
    "\n",
    "    lot_dif = row.sqft_lot - row.sqft_lot15 # calculate difference in sqft of the given lot and the nearest 15 other lots\n",
    "    rel_lot_size.append(lot_dif) # append it to the list\n",
    "\n",
    "    lvl_dif = row.sqft_above - row.sqft_basement # calculate difference between space above grade and below grade\n",
    "    rel_difference.append(lvl_dif) # append it to the list\n",
    "\n",
    "df['relative_living_space'] = rel_live_space # assign respective list to new column \n",
    "df['relative_lot_size'] = rel_lot_size\n",
    "df['level_difference'] = rel_difference"
   ]
  },
  {
   "cell_type": "code",
   "execution_count": 10,
   "metadata": {},
   "outputs": [
    {
     "name": "stdout",
     "output_type": "stream",
     "text": [
      "<class 'pandas.core.frame.DataFrame'>\n",
      "Int64Index: 21143 entries, 0 to 21596\n",
      "Data columns (total 20 columns):\n",
      " #   Column                 Non-Null Count  Dtype          \n",
      "---  ------                 --------------  -----          \n",
      " 0   price                  21143 non-null  float64        \n",
      " 1   bedrooms               21143 non-null  int64          \n",
      " 2   bathrooms              21143 non-null  float64        \n",
      " 3   sqft_living            21143 non-null  int64          \n",
      " 4   sqft_lot               21143 non-null  int64          \n",
      " 5   floors                 21143 non-null  float64        \n",
      " 6   condition              21143 non-null  int64          \n",
      " 7   grade                  21143 non-null  int64          \n",
      " 8   sqft_above             21143 non-null  int64          \n",
      " 9   sqft_basement          21143 non-null  float64        \n",
      " 10  yr_built               21143 non-null  int64          \n",
      " 11  sqft_living15          21143 non-null  int64          \n",
      " 12  sqft_lot15             21143 non-null  int64          \n",
      " 13  age                    21143 non-null  timedelta64[ns]\n",
      " 14  day_of_year            21143 non-null  object         \n",
      " 15  bed_bath_ratio         21143 non-null  float64        \n",
      " 16  level_ratio            21143 non-null  float64        \n",
      " 17  relative_living_space  21143 non-null  int64          \n",
      " 18  relative_lot_size      21143 non-null  int64          \n",
      " 19  level_difference       21143 non-null  float64        \n",
      "dtypes: float64(7), int64(11), object(1), timedelta64[ns](1)\n",
      "memory usage: 3.4+ MB\n"
     ]
    }
   ],
   "source": [
    "df.info()"
   ]
  },
  {
   "cell_type": "markdown",
   "metadata": {},
   "source": [
    "###### export dataframe as a csv to be used in another notebook. "
   ]
  },
  {
   "cell_type": "code",
   "execution_count": 11,
   "metadata": {},
   "outputs": [],
   "source": [
    "from pathlib import Path  \n",
    "filepath = Path('data/cleaned_kc.csv')  \n",
    "filepath.parent.mkdir(parents=True, exist_ok=True)  \n",
    "df.to_csv(filepath,index=False)"
   ]
  },
  {
   "cell_type": "code",
   "execution_count": 12,
   "metadata": {},
   "outputs": [
    {
     "data": {
      "text/html": [
       "<div>\n",
       "<style scoped>\n",
       "    .dataframe tbody tr th:only-of-type {\n",
       "        vertical-align: middle;\n",
       "    }\n",
       "\n",
       "    .dataframe tbody tr th {\n",
       "        vertical-align: top;\n",
       "    }\n",
       "\n",
       "    .dataframe thead th {\n",
       "        text-align: right;\n",
       "    }\n",
       "</style>\n",
       "<table border=\"1\" class=\"dataframe\">\n",
       "  <thead>\n",
       "    <tr style=\"text-align: right;\">\n",
       "      <th></th>\n",
       "      <th>price</th>\n",
       "      <th>bedrooms</th>\n",
       "      <th>bathrooms</th>\n",
       "      <th>sqft_living</th>\n",
       "      <th>sqft_lot</th>\n",
       "      <th>floors</th>\n",
       "      <th>condition</th>\n",
       "      <th>grade</th>\n",
       "      <th>sqft_above</th>\n",
       "      <th>sqft_basement</th>\n",
       "      <th>yr_built</th>\n",
       "      <th>sqft_living15</th>\n",
       "      <th>sqft_lot15</th>\n",
       "      <th>age</th>\n",
       "      <th>day_of_year</th>\n",
       "      <th>bed_bath_ratio</th>\n",
       "      <th>level_ratio</th>\n",
       "      <th>relative_living_space</th>\n",
       "      <th>relative_lot_size</th>\n",
       "      <th>level_difference</th>\n",
       "    </tr>\n",
       "  </thead>\n",
       "  <tbody>\n",
       "    <tr>\n",
       "      <th>0</th>\n",
       "      <td>221900.0</td>\n",
       "      <td>3</td>\n",
       "      <td>1.00</td>\n",
       "      <td>1180</td>\n",
       "      <td>5650</td>\n",
       "      <td>1.0</td>\n",
       "      <td>3</td>\n",
       "      <td>7</td>\n",
       "      <td>1180</td>\n",
       "      <td>0.0</td>\n",
       "      <td>1955</td>\n",
       "      <td>1340</td>\n",
       "      <td>5650</td>\n",
       "      <td>24538 days 16:47:18.657898</td>\n",
       "      <td>286</td>\n",
       "      <td>3.000000</td>\n",
       "      <td>0.000000</td>\n",
       "      <td>-160</td>\n",
       "      <td>0</td>\n",
       "      <td>1180.0</td>\n",
       "    </tr>\n",
       "    <tr>\n",
       "      <th>1</th>\n",
       "      <td>538000.0</td>\n",
       "      <td>3</td>\n",
       "      <td>2.25</td>\n",
       "      <td>2570</td>\n",
       "      <td>7242</td>\n",
       "      <td>2.0</td>\n",
       "      <td>3</td>\n",
       "      <td>7</td>\n",
       "      <td>2170</td>\n",
       "      <td>400.0</td>\n",
       "      <td>1951</td>\n",
       "      <td>1690</td>\n",
       "      <td>7639</td>\n",
       "      <td>25999 days 16:47:18.657898</td>\n",
       "      <td>343</td>\n",
       "      <td>1.333333</td>\n",
       "      <td>5.425000</td>\n",
       "      <td>880</td>\n",
       "      <td>-397</td>\n",
       "      <td>1770.0</td>\n",
       "    </tr>\n",
       "    <tr>\n",
       "      <th>2</th>\n",
       "      <td>180000.0</td>\n",
       "      <td>2</td>\n",
       "      <td>1.00</td>\n",
       "      <td>770</td>\n",
       "      <td>10000</td>\n",
       "      <td>1.0</td>\n",
       "      <td>3</td>\n",
       "      <td>6</td>\n",
       "      <td>770</td>\n",
       "      <td>0.0</td>\n",
       "      <td>1933</td>\n",
       "      <td>2720</td>\n",
       "      <td>8062</td>\n",
       "      <td>32573 days 16:47:18.657898</td>\n",
       "      <td>56</td>\n",
       "      <td>2.000000</td>\n",
       "      <td>0.000000</td>\n",
       "      <td>-1950</td>\n",
       "      <td>1938</td>\n",
       "      <td>770.0</td>\n",
       "    </tr>\n",
       "    <tr>\n",
       "      <th>3</th>\n",
       "      <td>604000.0</td>\n",
       "      <td>4</td>\n",
       "      <td>3.00</td>\n",
       "      <td>1960</td>\n",
       "      <td>5000</td>\n",
       "      <td>1.0</td>\n",
       "      <td>5</td>\n",
       "      <td>7</td>\n",
       "      <td>1050</td>\n",
       "      <td>910.0</td>\n",
       "      <td>1965</td>\n",
       "      <td>1360</td>\n",
       "      <td>5000</td>\n",
       "      <td>20885 days 16:47:18.657898</td>\n",
       "      <td>343</td>\n",
       "      <td>1.333333</td>\n",
       "      <td>1.153846</td>\n",
       "      <td>600</td>\n",
       "      <td>0</td>\n",
       "      <td>140.0</td>\n",
       "    </tr>\n",
       "    <tr>\n",
       "      <th>4</th>\n",
       "      <td>510000.0</td>\n",
       "      <td>3</td>\n",
       "      <td>2.00</td>\n",
       "      <td>1680</td>\n",
       "      <td>8080</td>\n",
       "      <td>1.0</td>\n",
       "      <td>3</td>\n",
       "      <td>8</td>\n",
       "      <td>1680</td>\n",
       "      <td>0.0</td>\n",
       "      <td>1987</td>\n",
       "      <td>1800</td>\n",
       "      <td>7503</td>\n",
       "      <td>12850 days 16:47:18.657898</td>\n",
       "      <td>49</td>\n",
       "      <td>1.500000</td>\n",
       "      <td>0.000000</td>\n",
       "      <td>-120</td>\n",
       "      <td>577</td>\n",
       "      <td>1680.0</td>\n",
       "    </tr>\n",
       "  </tbody>\n",
       "</table>\n",
       "</div>"
      ],
      "text/plain": [
       "      price  bedrooms  bathrooms  sqft_living  sqft_lot  floors  condition  \\\n",
       "0  221900.0         3       1.00         1180      5650     1.0          3   \n",
       "1  538000.0         3       2.25         2570      7242     2.0          3   \n",
       "2  180000.0         2       1.00          770     10000     1.0          3   \n",
       "3  604000.0         4       3.00         1960      5000     1.0          5   \n",
       "4  510000.0         3       2.00         1680      8080     1.0          3   \n",
       "\n",
       "   grade  sqft_above  sqft_basement  yr_built  sqft_living15  sqft_lot15  \\\n",
       "0      7        1180            0.0      1955           1340        5650   \n",
       "1      7        2170          400.0      1951           1690        7639   \n",
       "2      6         770            0.0      1933           2720        8062   \n",
       "3      7        1050          910.0      1965           1360        5000   \n",
       "4      8        1680            0.0      1987           1800        7503   \n",
       "\n",
       "                          age  day_of_year  bed_bath_ratio  level_ratio  \\\n",
       "0  24538 days 16:47:18.657898          286        3.000000     0.000000   \n",
       "1  25999 days 16:47:18.657898          343        1.333333     5.425000   \n",
       "2  32573 days 16:47:18.657898           56        2.000000     0.000000   \n",
       "3  20885 days 16:47:18.657898          343        1.333333     1.153846   \n",
       "4  12850 days 16:47:18.657898           49        1.500000     0.000000   \n",
       "\n",
       "   relative_living_space  relative_lot_size  level_difference  \n",
       "0                   -160                  0            1180.0  \n",
       "1                    880               -397            1770.0  \n",
       "2                  -1950               1938             770.0  \n",
       "3                    600                  0             140.0  \n",
       "4                   -120                577            1680.0  "
      ]
     },
     "execution_count": 12,
     "metadata": {},
     "output_type": "execute_result"
    }
   ],
   "source": [
    "df = pd.read_csv('data/cleaned_kc.csv')\n",
    "df.head()"
   ]
  },
  {
   "cell_type": "code",
   "execution_count": null,
   "metadata": {},
   "outputs": [],
   "source": []
  }
 ],
 "metadata": {
  "kernelspec": {
   "display_name": "Python (learn-env)",
   "language": "python",
   "name": "learn-env"
  },
  "language_info": {
   "codemirror_mode": {
    "name": "ipython",
    "version": 3
   },
   "file_extension": ".py",
   "mimetype": "text/x-python",
   "name": "python",
   "nbconvert_exporter": "python",
   "pygments_lexer": "ipython3",
   "version": "3.8.3"
  }
 },
 "nbformat": 4,
 "nbformat_minor": 4
}
