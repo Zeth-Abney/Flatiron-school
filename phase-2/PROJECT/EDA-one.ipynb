{
 "cells": [
  {
   "cell_type": "code",
   "execution_count": 1,
   "metadata": {},
   "outputs": [],
   "source": [
    "import datetime as dt\n",
    "import pandas as pd\n",
    "import numpy as np"
   ]
  },
  {
   "cell_type": "code",
   "execution_count": 2,
   "metadata": {},
   "outputs": [],
   "source": [
    "df = pd.read_csv('data/kc_house_data.csv') \n",
    "df.drop(df.loc[df['sqft_basement']=='?'].index,inplace=True) # remove '?' from the data.\n",
    "df.drop(['yr_renovated','waterfront','view','lat','long'],inplace=True,axis=1) # remove data lean features"
   ]
  },
  {
   "cell_type": "markdown",
   "metadata": {},
   "source": [
    "- when to buy: (date)\n",
    "- where to buy: (waterfront(bool), waterfront_loc)\n",
    "- what to buy:  (condition, grade) bed-bath ratio)"
   ]
  },
  {
   "cell_type": "markdown",
   "metadata": {},
   "source": [
    "### Investigating relationship of condition to waterfront "
   ]
  },
  {
   "cell_type": "markdown",
   "metadata": {},
   "source": [
    "##### cleaning sqft_basement column"
   ]
  },
  {
   "cell_type": "code",
   "execution_count": 3,
   "metadata": {},
   "outputs": [],
   "source": [
    "df.sqft_basement = [float(sq) for sq in list(df.sqft_basement)] # convert all string types into np floats"
   ]
  },
  {
   "cell_type": "markdown",
   "metadata": {},
   "source": [
    "##### cleaning grade column"
   ]
  },
  {
   "cell_type": "code",
   "execution_count": 4,
   "metadata": {},
   "outputs": [
    {
     "data": {
      "text/plain": [
       "array([7, 6, 8, 1, 9, 5, 4, 3], dtype=int64)"
      ]
     },
     "execution_count": 4,
     "metadata": {},
     "output_type": "execute_result"
    }
   ],
   "source": [
    "# Replaces grade objects with numerics based on data dict. \n",
    "grade_raws = list(df.grade.unique())\n",
    "\n",
    "for raw in grade_raws:\n",
    "    df.grade.replace(to_replace=raw,value=int(raw[0]),inplace=True) # replaces a cell value with the int of the first character of its existing string\n",
    "    \n",
    "df.grade.unique()"
   ]
  },
  {
   "cell_type": "markdown",
   "metadata": {},
   "source": [
    "##### cleaning condition column"
   ]
  },
  {
   "cell_type": "code",
   "execution_count": 5,
   "metadata": {},
   "outputs": [],
   "source": [
    "# replaces condition objects with numerics based on data dict.\n",
    "condition_dict = {'Poor':1,'Fair':2,'Average':3,'Good':4,'Very Good':5}\n",
    "for key in condition_dict:\n",
    "    df.condition.replace(to_replace=condition_dict,inplace=True) "
   ]
  },
  {
   "cell_type": "code",
   "execution_count": 6,
   "metadata": {},
   "outputs": [],
   "source": [
    "# df.info()"
   ]
  },
  {
   "cell_type": "markdown",
   "metadata": {},
   "source": [
    "##### engineer day of year from date column, and age from yr_built column"
   ]
  },
  {
   "cell_type": "code",
   "execution_count": 7,
   "metadata": {
    "scrolled": true
   },
   "outputs": [],
   "source": [
    "day_list = []\n",
    "ages = [] \n",
    "\n",
    "for date in df.date: # for every record in the date column\n",
    "    dt_list = date.split(\"/\") # split string into list\n",
    "    dtime = dt.datetime(int(dt_list[2]),int(dt_list[0]),int(dt_list[1])) # pass into datetime\n",
    "    day_year = dtime.strftime('%j') # get day of year (1-365)\n",
    "    day_list.append(day_year) # append to list\n",
    "\n",
    "for year in df.yr_built: # \n",
    "    ytime = dt.datetime(year,1,1)\n",
    "    now = dt.datetime.now()\n",
    "    age = now - ytime \n",
    "    ages.append(age)\n",
    "\n",
    "df['age'] = ages # create new column and asign ages as its values \n",
    "df['day_of_year'] = day_list # create new column and asign day_list as its values"
   ]
  },
  {
   "cell_type": "markdown",
   "metadata": {},
   "source": [
    "##### engineer bedroom-bathroom, above-below grade levels ratio"
   ]
  },
  {
   "cell_type": "code",
   "execution_count": 8,
   "metadata": {},
   "outputs": [],
   "source": [
    "bbratios = []\n",
    "lvl_ratios = []\n",
    "\n",
    "for index,row in df.iterrows(): #iterate through every record\n",
    "#     print(row)\n",
    "    bbratio = row.bedrooms/row.bathrooms # calculate ratio of bedrooms to bathrooms\n",
    "    bbratios.append(bbratio) # append ratio to the list\n",
    "\n",
    "    if row.sqft_basement == 0: # sqft_basement is zero if there is no basement\n",
    "        lvl_ratios.append(0) # ratio should also be zero if there is no ratio\n",
    "    else:\n",
    "        lvl_ratio = row.sqft_above / row.sqft_basement # calculate ratio of space above grade vs below grade\n",
    "        lvl_ratios.append(lvl_ratio) # append ratio to the list\n",
    "\n",
    "df['bed_bath_ratio'] = bbratios # create new column and asign list as its values\n",
    "df['level_ratio'] = lvl_ratios # create new column and asign list as its values"
   ]
  },
  {
   "cell_type": "markdown",
   "metadata": {},
   "source": [
    "##### engineer relative size features"
   ]
  },
  {
   "cell_type": "code",
   "execution_count": 9,
   "metadata": {},
   "outputs": [],
   "source": [
    "rel_live_space = []\n",
    "rel_lot_size = [] \n",
    "rel_difference = []\n",
    "\n",
    "for index,row in df.iterrows(): # for every record \n",
    "    live_dif = row.sqft_living - row.sqft_living15 # calculate difference in sqft of the given house and the nearest 15 other houses\n",
    "    rel_live_space.append(live_dif) # append it to the list\n",
    "\n",
    "    lot_dif = row.sqft_lot - row.sqft_lot15 # calculate difference in sqft of the given lot and the nearest 15 other lots\n",
    "    rel_lot_size.append(lot_dif) # append it to the list\n",
    "\n",
    "    lvl_dif = row.sqft_above - row.sqft_basement # calculate difference between space above grade and below grade\n",
    "    rel_difference.append(lvl_dif) # append it to the list\n",
    "\n",
    "df['relative_living_space'] = rel_live_space # assign respective list to new column \n",
    "df['relative_lot_size'] = rel_lot_size\n",
    "df['level_difference'] = rel_difference"
   ]
  },
  {
   "cell_type": "code",
   "execution_count": 10,
   "metadata": {},
   "outputs": [
    {
     "name": "stdout",
     "output_type": "stream",
     "text": [
      "<class 'pandas.core.frame.DataFrame'>\n",
      "Int64Index: 21143 entries, 0 to 21596\n",
      "Data columns (total 23 columns):\n",
      " #   Column                 Non-Null Count  Dtype          \n",
      "---  ------                 --------------  -----          \n",
      " 0   id                     21143 non-null  int64          \n",
      " 1   date                   21143 non-null  object         \n",
      " 2   price                  21143 non-null  float64        \n",
      " 3   bedrooms               21143 non-null  int64          \n",
      " 4   bathrooms              21143 non-null  float64        \n",
      " 5   sqft_living            21143 non-null  int64          \n",
      " 6   sqft_lot               21143 non-null  int64          \n",
      " 7   floors                 21143 non-null  float64        \n",
      " 8   condition              21143 non-null  int64          \n",
      " 9   grade                  21143 non-null  int64          \n",
      " 10  sqft_above             21143 non-null  int64          \n",
      " 11  sqft_basement          21143 non-null  float64        \n",
      " 12  yr_built               21143 non-null  int64          \n",
      " 13  zipcode                21143 non-null  int64          \n",
      " 14  sqft_living15          21143 non-null  int64          \n",
      " 15  sqft_lot15             21143 non-null  int64          \n",
      " 16  age                    21143 non-null  timedelta64[ns]\n",
      " 17  day_of_year            21143 non-null  object         \n",
      " 18  bed_bath_ratio         21143 non-null  float64        \n",
      " 19  level_ratio            21143 non-null  float64        \n",
      " 20  relative_living_space  21143 non-null  int64          \n",
      " 21  relative_lot_size      21143 non-null  int64          \n",
      " 22  level_difference       21143 non-null  float64        \n",
      "dtypes: float64(7), int64(13), object(2), timedelta64[ns](1)\n",
      "memory usage: 3.9+ MB\n"
     ]
    }
   ],
   "source": [
    "df.info()"
   ]
  },
  {
   "cell_type": "markdown",
   "metadata": {},
   "source": [
    "###### export dataframe as a csv to be used in another notebook. "
   ]
  },
  {
   "cell_type": "code",
   "execution_count": 11,
   "metadata": {},
   "outputs": [],
   "source": [
    "from pathlib import Path  \n",
    "filepath = Path('data/cleaned_kc.csv')  \n",
    "filepath.parent.mkdir(parents=True, exist_ok=True)  \n",
    "df.to_csv(filepath,index=False)"
   ]
  },
  {
   "cell_type": "code",
   "execution_count": 12,
   "metadata": {},
   "outputs": [
    {
     "data": {
      "text/html": [
       "<div>\n",
       "<style scoped>\n",
       "    .dataframe tbody tr th:only-of-type {\n",
       "        vertical-align: middle;\n",
       "    }\n",
       "\n",
       "    .dataframe tbody tr th {\n",
       "        vertical-align: top;\n",
       "    }\n",
       "\n",
       "    .dataframe thead th {\n",
       "        text-align: right;\n",
       "    }\n",
       "</style>\n",
       "<table border=\"1\" class=\"dataframe\">\n",
       "  <thead>\n",
       "    <tr style=\"text-align: right;\">\n",
       "      <th></th>\n",
       "      <th>id</th>\n",
       "      <th>date</th>\n",
       "      <th>price</th>\n",
       "      <th>bedrooms</th>\n",
       "      <th>bathrooms</th>\n",
       "      <th>sqft_living</th>\n",
       "      <th>sqft_lot</th>\n",
       "      <th>floors</th>\n",
       "      <th>condition</th>\n",
       "      <th>grade</th>\n",
       "      <th>...</th>\n",
       "      <th>zipcode</th>\n",
       "      <th>sqft_living15</th>\n",
       "      <th>sqft_lot15</th>\n",
       "      <th>age</th>\n",
       "      <th>day_of_year</th>\n",
       "      <th>bed_bath_ratio</th>\n",
       "      <th>level_ratio</th>\n",
       "      <th>relative_living_space</th>\n",
       "      <th>relative_lot_size</th>\n",
       "      <th>level_difference</th>\n",
       "    </tr>\n",
       "  </thead>\n",
       "  <tbody>\n",
       "    <tr>\n",
       "      <th>0</th>\n",
       "      <td>7129300520</td>\n",
       "      <td>10/13/2014</td>\n",
       "      <td>221900.0</td>\n",
       "      <td>3</td>\n",
       "      <td>1.00</td>\n",
       "      <td>1180</td>\n",
       "      <td>5650</td>\n",
       "      <td>1.0</td>\n",
       "      <td>3</td>\n",
       "      <td>7</td>\n",
       "      <td>...</td>\n",
       "      <td>98178</td>\n",
       "      <td>1340</td>\n",
       "      <td>5650</td>\n",
       "      <td>24538 days 14:04:55.984163</td>\n",
       "      <td>286</td>\n",
       "      <td>3.000000</td>\n",
       "      <td>0.000000</td>\n",
       "      <td>-160</td>\n",
       "      <td>0</td>\n",
       "      <td>1180.0</td>\n",
       "    </tr>\n",
       "    <tr>\n",
       "      <th>1</th>\n",
       "      <td>6414100192</td>\n",
       "      <td>12/9/2014</td>\n",
       "      <td>538000.0</td>\n",
       "      <td>3</td>\n",
       "      <td>2.25</td>\n",
       "      <td>2570</td>\n",
       "      <td>7242</td>\n",
       "      <td>2.0</td>\n",
       "      <td>3</td>\n",
       "      <td>7</td>\n",
       "      <td>...</td>\n",
       "      <td>98125</td>\n",
       "      <td>1690</td>\n",
       "      <td>7639</td>\n",
       "      <td>25999 days 14:04:55.984163</td>\n",
       "      <td>343</td>\n",
       "      <td>1.333333</td>\n",
       "      <td>5.425000</td>\n",
       "      <td>880</td>\n",
       "      <td>-397</td>\n",
       "      <td>1770.0</td>\n",
       "    </tr>\n",
       "    <tr>\n",
       "      <th>2</th>\n",
       "      <td>5631500400</td>\n",
       "      <td>2/25/2015</td>\n",
       "      <td>180000.0</td>\n",
       "      <td>2</td>\n",
       "      <td>1.00</td>\n",
       "      <td>770</td>\n",
       "      <td>10000</td>\n",
       "      <td>1.0</td>\n",
       "      <td>3</td>\n",
       "      <td>6</td>\n",
       "      <td>...</td>\n",
       "      <td>98028</td>\n",
       "      <td>2720</td>\n",
       "      <td>8062</td>\n",
       "      <td>32573 days 14:04:55.984163</td>\n",
       "      <td>56</td>\n",
       "      <td>2.000000</td>\n",
       "      <td>0.000000</td>\n",
       "      <td>-1950</td>\n",
       "      <td>1938</td>\n",
       "      <td>770.0</td>\n",
       "    </tr>\n",
       "    <tr>\n",
       "      <th>3</th>\n",
       "      <td>2487200875</td>\n",
       "      <td>12/9/2014</td>\n",
       "      <td>604000.0</td>\n",
       "      <td>4</td>\n",
       "      <td>3.00</td>\n",
       "      <td>1960</td>\n",
       "      <td>5000</td>\n",
       "      <td>1.0</td>\n",
       "      <td>5</td>\n",
       "      <td>7</td>\n",
       "      <td>...</td>\n",
       "      <td>98136</td>\n",
       "      <td>1360</td>\n",
       "      <td>5000</td>\n",
       "      <td>20885 days 14:04:55.984163</td>\n",
       "      <td>343</td>\n",
       "      <td>1.333333</td>\n",
       "      <td>1.153846</td>\n",
       "      <td>600</td>\n",
       "      <td>0</td>\n",
       "      <td>140.0</td>\n",
       "    </tr>\n",
       "    <tr>\n",
       "      <th>4</th>\n",
       "      <td>1954400510</td>\n",
       "      <td>2/18/2015</td>\n",
       "      <td>510000.0</td>\n",
       "      <td>3</td>\n",
       "      <td>2.00</td>\n",
       "      <td>1680</td>\n",
       "      <td>8080</td>\n",
       "      <td>1.0</td>\n",
       "      <td>3</td>\n",
       "      <td>8</td>\n",
       "      <td>...</td>\n",
       "      <td>98074</td>\n",
       "      <td>1800</td>\n",
       "      <td>7503</td>\n",
       "      <td>12850 days 14:04:55.984163</td>\n",
       "      <td>49</td>\n",
       "      <td>1.500000</td>\n",
       "      <td>0.000000</td>\n",
       "      <td>-120</td>\n",
       "      <td>577</td>\n",
       "      <td>1680.0</td>\n",
       "    </tr>\n",
       "  </tbody>\n",
       "</table>\n",
       "<p>5 rows × 23 columns</p>\n",
       "</div>"
      ],
      "text/plain": [
       "           id        date     price  bedrooms  bathrooms  sqft_living  \\\n",
       "0  7129300520  10/13/2014  221900.0         3       1.00         1180   \n",
       "1  6414100192   12/9/2014  538000.0         3       2.25         2570   \n",
       "2  5631500400   2/25/2015  180000.0         2       1.00          770   \n",
       "3  2487200875   12/9/2014  604000.0         4       3.00         1960   \n",
       "4  1954400510   2/18/2015  510000.0         3       2.00         1680   \n",
       "\n",
       "   sqft_lot  floors  condition  grade  ...  zipcode  sqft_living15  \\\n",
       "0      5650     1.0          3      7  ...    98178           1340   \n",
       "1      7242     2.0          3      7  ...    98125           1690   \n",
       "2     10000     1.0          3      6  ...    98028           2720   \n",
       "3      5000     1.0          5      7  ...    98136           1360   \n",
       "4      8080     1.0          3      8  ...    98074           1800   \n",
       "\n",
       "   sqft_lot15                         age  day_of_year  bed_bath_ratio  \\\n",
       "0        5650  24538 days 14:04:55.984163          286        3.000000   \n",
       "1        7639  25999 days 14:04:55.984163          343        1.333333   \n",
       "2        8062  32573 days 14:04:55.984163           56        2.000000   \n",
       "3        5000  20885 days 14:04:55.984163          343        1.333333   \n",
       "4        7503  12850 days 14:04:55.984163           49        1.500000   \n",
       "\n",
       "  level_ratio  relative_living_space  relative_lot_size  level_difference  \n",
       "0    0.000000                   -160                  0            1180.0  \n",
       "1    5.425000                    880               -397            1770.0  \n",
       "2    0.000000                  -1950               1938             770.0  \n",
       "3    1.153846                    600                  0             140.0  \n",
       "4    0.000000                   -120                577            1680.0  \n",
       "\n",
       "[5 rows x 23 columns]"
      ]
     },
     "execution_count": 12,
     "metadata": {},
     "output_type": "execute_result"
    }
   ],
   "source": [
    "df = pd.read_csv('data/cleaned_kc.csv')\n",
    "df.head()"
   ]
  }
 ],
 "metadata": {
  "kernelspec": {
   "display_name": "Python (learn-env)",
   "language": "python",
   "name": "learn-env"
  },
  "language_info": {
   "codemirror_mode": {
    "name": "ipython",
    "version": 3
   },
   "file_extension": ".py",
   "mimetype": "text/x-python",
   "name": "python",
   "nbconvert_exporter": "python",
   "pygments_lexer": "ipython3",
   "version": "3.8.3"
  }
 },
 "nbformat": 4,
 "nbformat_minor": 4
}
