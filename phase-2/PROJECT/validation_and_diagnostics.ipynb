{
 "cells": [
  {
   "cell_type": "code",
   "execution_count": 92,
   "metadata": {},
   "outputs": [],
   "source": [
    "# data visualiztion\n",
    "import matplotlib.pyplot as plt\n",
    "import seaborn as sns\n",
    "\n",
    "# raw data handling\n",
    "import pandas as pd\n",
    "import numpy as np\n",
    "import datetime as dt\n",
    "\n",
    "# for linear regression models\n",
    "import statsmodels.api as sm\n",
    "import statsmodels.formula.api as smf\n",
    "import statsmodels.stats.api as sms \n",
    "from statsmodels.formula.api import ols\n",
    "import scipy.stats as stats\n",
    "\n",
    "# recursive feature elimination (w/ cross validation), linear regression\n",
    "from sklearn.feature_selection import RFE\n",
    "from sklearn.feature_selection import RFECV\n",
    "from sklearn.linear_model import LinearRegression\n",
    "\n",
    "# Variance inflation factor, mean abs/squarred error\n",
    "from sklearn.metrics import mean_absolute_error, mean_squared_error\n",
    "from statsmodels.stats.outliers_influence import variance_inflation_factor\n",
    "\n",
    "import warnings # weird sns.distplot() warnings\n",
    "warnings.filterwarnings(\"ignore\")\n",
    "\n",
    "# make stuff look cooler\n",
    "plt.style.use('fivethirtyeight')"
   ]
  },
  {
   "cell_type": "code",
   "execution_count": 93,
   "metadata": {},
   "outputs": [],
   "source": [
    "# creates dictionary of variance inflation factors. \n",
    "def create_vif_dictionary(X):\n",
    "    X = sm.add_constant(X)\n",
    "    vif_dict = {}\n",
    "\n",
    "    for i in range(len(X.columns)):\n",
    "        vif = variance_inflation_factor(X.values, i)\n",
    "        v = X.columns[i]\n",
    "        vif_dict[v] = vif\n",
    "\n",
    "    good_vifs = []\n",
    "    bad_vifs = []\n",
    "\n",
    "    for k,v in vif_dict.items():\n",
    "        if v < 10:\n",
    "            good_vifs.append(k)\n",
    "        else:\n",
    "            bad_vifs.append(k)\n",
    "\n",
    "    return good_vifs,bad_vifs\n",
    "\n",
    "# create a dictionary showing the adjusted R-squared values for each feature individually\n",
    "def create_R2_dictionary(X,y):\n",
    "\n",
    "    adj_R_squares = {}\n",
    "\n",
    "    for feature in X.columns:\n",
    "        predictors_int = sm.add_constant(X[feature])\n",
    "        model = sm.OLS(y,predictors_int).fit()\n",
    "        adj_R_square = float(model.summary2().tables[0][3][0])\n",
    "        adj_R_squares[feature] = adj_R_square\n",
    "        \n",
    "    return adj_R_squares\n",
    "\n",
    "# author's docstring is in a markup cell down below in the stepwise selection section\n",
    "def stepwise_selection(X, y, \n",
    "                       initial_list=[], \n",
    "                       threshold_in=0.01, \n",
    "                       threshold_out = 0.05, \n",
    "                       verbose=True):\n",
    "    included = list(initial_list)\n",
    "\n",
    "    while True:\n",
    "        changed=False\n",
    "        # forward step\n",
    "        excluded = list(set(X.columns)-set(included))\n",
    "        new_pval = pd.Series(index=excluded)\n",
    "        for new_column in excluded:\n",
    "            model = sm.OLS(y, sm.add_constant(pd.DataFrame(X[included+[new_column]]))).fit()\n",
    "            new_pval[new_column] = model.pvalues[new_column]\n",
    "        best_pval = new_pval.min()\n",
    "        if best_pval < threshold_in:\n",
    "            best_feature = new_pval.idxmin()\n",
    "            included.append(best_feature)\n",
    "            changed=True\n",
    "            if verbose:\n",
    "                print('Add  {:30} with p-value {:.6}'.format(best_feature, best_pval))\n",
    "        # backward step\n",
    "        model = sm.OLS(y, sm.add_constant(pd.DataFrame(X[included]))).fit()\n",
    "        # use all coefs except intercept\n",
    "        pvalues = model.pvalues.iloc[1:]\n",
    "        worst_pval = pvalues.max() # null if pvalues is empty\n",
    "        if worst_pval > threshold_out:\n",
    "            changed=True\n",
    "            worst_feature = pvalues.argmax()\n",
    "            worst_feature_name = included[worst_feature]\n",
    "            included.pop(worst_feature)\n",
    "            if verbose:\n",
    "                print('Drop {:30} with p-value {:.6}'.format(worst_feature_name, worst_pval))\n",
    "        if not changed:\n",
    "            break\n",
    "    return included\n",
    "\n",
    "# recursive feature elimination\n",
    "def run_RFE(X,y):\n",
    "\n",
    "    linreg = LinearRegression()\n",
    "    selector = RFE(linreg)\n",
    "    selector = selector.fit(X, y)\n",
    "\n",
    "    selected = selector.support_ # list of bools representing if feature is selected or not\n",
    "    selections = [] # list of column names that are selected\n",
    "    labels = list(X.columns) # list of all column names \n",
    "\n",
    "    for idx,feature in enumerate(selected): # append labels of selected features to selections list\n",
    "        if feature == True:\n",
    "            selections.append(labels[idx])\n",
    "        else:\n",
    "            pass\n",
    "    \n",
    "    ranked = selector.ranking_ # list of bools representing if feature is selected or not\n",
    "    rankers = [] # list of column names that are selected\n",
    "    labels = list(X.columns) # list of all column names \n",
    "\n",
    "    for idx,feature in enumerate(ranked): # append labels of selected features to selections list\n",
    "        if feature == 1:\n",
    "            rankers.append(labels[idx])\n",
    "        else:\n",
    "            pass\n",
    "    return selections, rankers\n",
    "\n",
    "# recuersive feature elimination with cross validation\n",
    "def run_RFECV(X,y):\n",
    "\n",
    "    linreg = LinearRegression()\n",
    "    selector = RFECV(linreg)\n",
    "    selector = selector.fit(X, y)\n",
    "\n",
    "    selected = selector.support_ # list of bools representing if feature is selected or not\n",
    "    selections = [] # list of column names that are selected\n",
    "    labels = list(X.columns) # list of all column names \n",
    "\n",
    "    for idx,feature in enumerate(selected): # append labels of selected features to selections list\n",
    "        if feature == True:\n",
    "            selections.append(labels[idx])\n",
    "        else:\n",
    "            pass\n",
    "    \n",
    "    ranked = selector.ranking_ # list of bools representing if feature is selected or not\n",
    "    rankers = [] # list of column names that are selected\n",
    "    labels = list(X.columns) # list of all column names \n",
    "\n",
    "    for idx,feature in enumerate(ranked): # append labels of selected features to selections list\n",
    "        if feature == 1:\n",
    "            rankers.append(labels[idx])\n",
    "        else:\n",
    "            pass\n",
    "\n",
    "    return selections, rankers\n",
    "\n",
    "# returns OLS linear regression model\n",
    "def run_OLS_model(X,y):\n",
    "\n",
    "    predictors_int = sm.add_constant(X)\n",
    "    model = sm.OLS(y,predictors_int).fit()\n",
    "\n",
    "    return model\n",
    "\n",
    "# returns dictionary: keys are column labels, values are count of NaN values present\n",
    "def create_NaN_dictionary(X):\n",
    "\n",
    "    NaN_dict = {}\n",
    "\n",
    "    for feature in X.columns:\n",
    "        NaN_dict[feature] = sum(X[feature].isna())\n",
    "\n",
    "    return NaN_dict\n",
    "\n"
   ]
  },
  {
   "cell_type": "code",
   "execution_count": 2,
   "metadata": {},
   "outputs": [],
   "source": [
    "data = pd.read_csv('data/base_model.csv')"
   ]
  },
  {
   "cell_type": "markdown",
   "metadata": {},
   "source": [
    "Baseline model was fairly strong in the EDA notebook but the Jarque-Bera test was not in favor of normality.\n",
    "- First plan of action is to eliminate outliers in the target variable and observe how this will affect the model. "
   ]
  },
  {
   "cell_type": "code",
   "execution_count": 69,
   "metadata": {},
   "outputs": [
    {
     "data": {
      "image/png": "[encoded data removed]",
      "text/plain": [
       "<Figure size 432x288 with 2 Axes>"
      ]
     },
     "metadata": {},
     "output_type": "display_data"
    }
   ],
   "source": [
    "# target variable clearly shows an excessive volume of outliers\n",
    "fig,(ax1,ax2) = plt.subplots(1,2)\n",
    "\n",
    "ax1.boxplot(data.price,vert=False)\n",
    "ax2.hist(data.price)\n",
    "\n",
    "fig.suptitle(\"Distribution of target variable at baseline\")\n",
    "plt.tight_layout()\n",
    "plt.show()"
   ]
  },
  {
   "cell_type": "markdown",
   "metadata": {},
   "source": [
    "### Removing outliers:\n",
    "- based on statistical max: to account for outliers and reflect the plot above statistical max is represented by inter quartile range multiplied by 1.5, in lieu of actual maximum value.\n",
    "- based on standard deviation: removing any values more than 3 standard deviations from the mean\n",
    "- arbitrary trim: removing the top 5% most extreme values"
   ]
  },
  {
   "cell_type": "markdown",
   "metadata": {},
   "source": [
    "Defining thresholds to investigate"
   ]
  },
  {
   "cell_type": "code",
   "execution_count": 71,
   "metadata": {},
   "outputs": [
    {
     "data": {
      "text/plain": [
       "1160000.0"
      ]
     },
     "execution_count": 71,
     "metadata": {},
     "output_type": "execute_result"
    }
   ],
   "source": [
    "iqr = data.price.quantile(0.75) - data.price.quantile(0.25)\n",
    "max_thresh = iqr*1.5 # statistical maximum \n",
    "\n",
    "std_thresh = data.price.std()*3 # three standard deviations\n",
    "\n",
    "top_5_percentile = data.price.quantile(0.95) #95th percentile (top 5% highest values)"
   ]
  },
  {
   "cell_type": "markdown",
   "metadata": {},
   "source": [
    "Stastical Maximum"
   ]
  },
  {
   "cell_type": "code",
   "execution_count": 41,
   "metadata": {},
   "outputs": [],
   "source": [
    "max_cap = data['price'].loc[abs(data['price']) <= max_thresh] # keeping data only at or within the statistical maximum. "
   ]
  },
  {
   "cell_type": "code",
   "execution_count": 86,
   "metadata": {},
   "outputs": [
    {
     "data": {
      "image/png": "[encoded data removed]",
      "text/plain": [
       "<Figure size 432x288 with 2 Axes>"
      ]
     },
     "metadata": {},
     "output_type": "display_data"
    },
    {
     "name": "stdout",
     "output_type": "stream",
     "text": [
      "Percent of data retained:  0.5521\n",
      "this box plot indicates the data will be better suited for the regression model, however it has dropped about half the data... \n"
     ]
    }
   ],
   "source": [
    "fig,(ax1,ax2) = plt.subplots(1,2)\n",
    "\n",
    "ax1.boxplot(max_cap,vert=False)\n",
    "ax2.hist(max_cap)\n",
    "\n",
    "fig.suptitle(\"Outliers removed based on statistical maximum\")\n",
    "plt.tight_layout()\n",
    "plt.show()\n",
    "\n",
    "print('Percent of data retained: ',round(len(max_cap)/len(data.price),4))  \n",
    "print('this box plot indicates the data will be better suited for the regression model, however it has dropped about half the data... ')"
   ]
  },
  {
   "cell_type": "markdown",
   "metadata": {},
   "source": [
    "3 standard deviations"
   ]
  },
  {
   "cell_type": "code",
   "execution_count": 44,
   "metadata": {},
   "outputs": [],
   "source": [
    "std_cap = data['price'].loc[abs(data['price']) <= std_thresh]"
   ]
  },
  {
   "cell_type": "code",
   "execution_count": 84,
   "metadata": {},
   "outputs": [
    {
     "data": {
      "image/png": "[encoded data removed]",
      "text/plain": [
       "<Figure size 432x288 with 2 Axes>"
      ]
     },
     "metadata": {},
     "output_type": "display_data"
    },
    {
     "name": "stdout",
     "output_type": "stream",
     "text": [
      "Percent of data retained:  0.9451\n",
      "boxplot shows retention of some outliers, but the histogram is closer to normal than max_cap and retain most of the data (nearly all of it)\n"
     ]
    }
   ],
   "source": [
    "fig,(ax1,ax2) = plt.subplots(1,2)\n",
    "\n",
    "ax1.boxplot(std_cap,vert=False)\n",
    "ax2.hist(std_cap)\n",
    "\n",
    "fig.suptitle(\"Outliers removed based on 3 standard deviations\")\n",
    "plt.tight_layout()\n",
    "plt.show()\n",
    "\n",
    "print('Percent of data retained: ',round(len(std_cap)/len(data.price),4))  \n",
    "print('boxplot shows retention of some outliers, but the histogram is closer to normal than max_cap and retain most of the data (nearly all of it)')"
   ]
  },
  {
   "cell_type": "code",
   "execution_count": 72,
   "metadata": {},
   "outputs": [],
   "source": [
    "top_5_cap = data['price'].loc[abs(data['price']) < top_5_percentile]"
   ]
  },
  {
   "cell_type": "code",
   "execution_count": 83,
   "metadata": {},
   "outputs": [
    {
     "data": {
      "image/png": "[encoded data removed]",
      "text/plain": [
       "<Figure size 432x288 with 2 Axes>"
      ]
     },
     "metadata": {},
     "output_type": "display_data"
    },
    {
     "name": "stdout",
     "output_type": "stream",
     "text": [
      "Percent of data retained:  0.9496\n",
      "extremely similar results to elimination based on standard devation, retains slightly more data\n"
     ]
    }
   ],
   "source": [
    "fig,(ax1,ax2) = plt.subplots(1,2)\n",
    "\n",
    "ax1.boxplot(top_5_cap,vert=False)\n",
    "ax2.hist(top_5_cap)\n",
    "\n",
    "fig.suptitle(\"Outliers removed based on 95th percentile\")\n",
    "plt.tight_layout()\n",
    "plt.show()\n",
    "\n",
    "print('Percent of data retained: ',round(len(top_5_cap)/len(data.price),4))  \n",
    "print('extremely similar results to elimination based on standard devation, retains slightly more data')"
   ]
  },
  {
   "cell_type": "markdown",
   "metadata": {},
   "source": [
    "#### Observations on elimination of outliers \n",
    "\n",
    "Elimination based on statistical maximum eliminated way too much data so it wan't be investigated further, full-stop. \n",
    "Elimination based on 95th percentile retained slightly more data than elmination based on 3 standard deviaitons... However both results round to 95% of the data retained; considering the whole goal is to actually *eliminate* outliers, not just some arbitrary slice of data, I will continue with the data with outliers eliminated based on 3 standard deviations because this is a statistical method and not an arbitrary slice. "
   ]
  },
  {
   "cell_type": "code",
   "execution_count": 88,
   "metadata": {},
   "outputs": [],
   "source": [
    "data = data.loc[abs(data.price) <= std_thresh] # slicing data to eliminate outliers using selected method"
   ]
  },
  {
   "cell_type": "code",
   "execution_count": null,
   "metadata": {},
   "outputs": [],
   "source": []
  },
  {
   "cell_type": "code",
   "execution_count": null,
   "metadata": {},
   "outputs": [],
   "source": []
  }
 ],
 "metadata": {
  "kernelspec": {
   "display_name": "Python (learn-env)",
   "language": "python",
   "name": "learn-env"
  },
  "language_info": {
   "codemirror_mode": {
    "name": "ipython",
    "version": 3
   },
   "file_extension": ".py",
   "mimetype": "text/x-python",
   "name": "python",
   "nbconvert_exporter": "python",
   "pygments_lexer": "ipython3",
   "version": "3.8.3"
  }
 },
 "nbformat": 4,
 "nbformat_minor": 4
}
