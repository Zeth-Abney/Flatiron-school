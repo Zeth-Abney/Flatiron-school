{
 "cells": [
  {
   "cell_type": "code",
   "execution_count": 22,
   "metadata": {},
   "outputs": [],
   "source": [
    "# data visualiztion\n",
    "import matplotlib.pyplot as plt\n",
    "import seaborn as sns\n",
    "\n",
    "# raw data handling\n",
    "import pandas as pd\n",
    "import numpy as np\n",
    "import datetime as dt\n",
    "\n",
    "# for linear regression models\n",
    "import statsmodels.api as sm\n",
    "import statsmodels.formula.api as smf\n",
    "import statsmodels.stats.api as sms \n",
    "from statsmodels.formula.api import ols\n",
    "import scipy.stats as stats\n",
    "\n",
    "# recursive feature elimination (w/ cross validation), linear regression\n",
    "from sklearn.feature_selection import RFE\n",
    "from sklearn.feature_selection import RFECV\n",
    "from sklearn.linear_model import LinearRegression\n",
    "\n",
    "# Variance inflation factor, mean abs/squarred error\n",
    "from sklearn.model_selection import cross_val_score\n",
    "from sklearn.model_selection import train_test_split\n",
    "from sklearn.metrics import mean_absolute_error, mean_squared_error\n",
    "from statsmodels.stats.outliers_influence import variance_inflation_factor\n",
    "\n",
    "import warnings # weird sns.distplot() warnings\n",
    "warnings.filterwarnings(\"ignore\")\n",
    "\n",
    "# make stuff look cooler\n",
    "plt.style.use('fivethirtyeight')"
   ]
  },
  {
   "cell_type": "code",
   "execution_count": 17,
   "metadata": {},
   "outputs": [],
   "source": [
    "# creates dictionary of variance inflation factors. \n",
    "def create_vif_dictionary(X):\n",
    "    X = sm.add_constant(X)\n",
    "    vif_dict = {}\n",
    "\n",
    "    for i in range(len(X.columns)):\n",
    "        vif = variance_inflation_factor(X.values, i)\n",
    "        v = X.columns[i]\n",
    "        vif_dict[v] = vif\n",
    "\n",
    "    good_vifs = []\n",
    "    bad_vifs = []\n",
    "\n",
    "    for k,v in vif_dict.items():\n",
    "        if v < 10:\n",
    "            good_vifs.append(k)\n",
    "        else:\n",
    "            bad_vifs.append(k)\n",
    "\n",
    "    return good_vifs,bad_vifs\n",
    "\n",
    "# create a dictionary showing the adjusted R-squared values for each feature individually\n",
    "def create_R2_dictionary(X,y):\n",
    "\n",
    "    adj_R_squares = {}\n",
    "\n",
    "    for feature in X.columns:\n",
    "        predictors_int = sm.add_constant(X[feature])\n",
    "        model = sm.OLS(y,predictors_int).fit()\n",
    "        adj_R_square = float(model.summary2().tables[0][3][0])\n",
    "        adj_R_squares[feature] = adj_R_square\n",
    "        \n",
    "    return adj_R_squares\n",
    "\n",
    "# author's docstring is in a markup cell down below in the stepwise selection section\n",
    "def stepwise_selection(X, y, \n",
    "                       initial_list=[], \n",
    "                       threshold_in=0.01, \n",
    "                       threshold_out = 0.05, \n",
    "                       verbose=True):\n",
    "    included = list(initial_list)\n",
    "\n",
    "    while True:\n",
    "        changed=False\n",
    "        # forward step\n",
    "        excluded = list(set(X.columns)-set(included))\n",
    "        new_pval = pd.Series(index=excluded)\n",
    "        for new_column in excluded:\n",
    "            model = sm.OLS(y, sm.add_constant(pd.DataFrame(X[included+[new_column]]))).fit()\n",
    "            new_pval[new_column] = model.pvalues[new_column]\n",
    "        best_pval = new_pval.min()\n",
    "        if best_pval < threshold_in:\n",
    "            best_feature = new_pval.idxmin()\n",
    "            included.append(best_feature)\n",
    "            changed=True\n",
    "            if verbose:\n",
    "                print('Add  {:30} with p-value {:.6}'.format(best_feature, best_pval))\n",
    "        # backward step\n",
    "        model = sm.OLS(y, sm.add_constant(pd.DataFrame(X[included]))).fit()\n",
    "        # use all coefs except intercept\n",
    "        pvalues = model.pvalues.iloc[1:]\n",
    "        worst_pval = pvalues.max() # null if pvalues is empty\n",
    "        if worst_pval > threshold_out:\n",
    "            changed=True\n",
    "            worst_feature = pvalues.argmax()\n",
    "            worst_feature_name = included[worst_feature]\n",
    "            included.pop(worst_feature)\n",
    "            if verbose:\n",
    "                print('Drop {:30} with p-value {:.6}'.format(worst_feature_name, worst_pval))\n",
    "        if not changed:\n",
    "            break\n",
    "    return included\n",
    "\n",
    "# recursive feature elimination\n",
    "def run_RFE(X,y):\n",
    "\n",
    "    linreg = LinearRegression()\n",
    "    selector = RFE(linreg)\n",
    "    selector = selector.fit(X, y)\n",
    "\n",
    "    selected = selector.support_ # list of bools representing if feature is selected or not\n",
    "    selections = [] # list of column names that are selected\n",
    "    labels = list(X.columns) # list of all column names \n",
    "\n",
    "    for idx,feature in enumerate(selected): # append labels of selected features to selections list\n",
    "        if feature == True:\n",
    "            selections.append(labels[idx])\n",
    "        else:\n",
    "            pass\n",
    "    \n",
    "    ranked = selector.ranking_ # list of bools representing if feature is selected or not\n",
    "    rankers = [] # list of column names that are selected\n",
    "    labels = list(X.columns) # list of all column names \n",
    "\n",
    "    for idx,feature in enumerate(ranked): # append labels of selected features to selections list\n",
    "        if feature == 1:\n",
    "            rankers.append(labels[idx])\n",
    "        else:\n",
    "            pass\n",
    "    return selections, rankers\n",
    "\n",
    "# recuersive feature elimination with cross validation\n",
    "def run_RFECV(X,y):\n",
    "\n",
    "    linreg = LinearRegression()\n",
    "    selector = RFECV(linreg)\n",
    "    selector = selector.fit(X, y)\n",
    "\n",
    "    selected = selector.support_ # list of bools representing if feature is selected or not\n",
    "    selections = [] # list of column names that are selected\n",
    "    labels = list(X.columns) # list of all column names \n",
    "\n",
    "    for idx,feature in enumerate(selected): # append labels of selected features to selections list\n",
    "        if feature == True:\n",
    "            selections.append(labels[idx])\n",
    "        else:\n",
    "            pass\n",
    "    \n",
    "    ranked = selector.ranking_ # list of bools representing if feature is selected or not\n",
    "    rankers = [] # list of column names that are selected\n",
    "    labels = list(X.columns) # list of all column names \n",
    "\n",
    "    for idx,feature in enumerate(ranked): # append labels of selected features to selections list\n",
    "        if feature == 1:\n",
    "            rankers.append(labels[idx])\n",
    "        else:\n",
    "            pass\n",
    "\n",
    "    return selections, rankers\n",
    "\n",
    "# returns OLS linear regression model\n",
    "def run_OLS_model(X,y):\n",
    "\n",
    "    predictors_int = sm.add_constant(X)\n",
    "    model = sm.OLS(y,predictors_int).fit()\n",
    "\n",
    "    return model\n",
    "\n",
    "# returns dictionary: keys are column labels, values are count of NaN values present\n",
    "def create_NaN_dictionary(X):\n",
    "\n",
    "    NaN_dict = {}\n",
    "\n",
    "    for feature in X.columns:\n",
    "        NaN_dict[feature] = sum(X[feature].isna())\n",
    "\n",
    "    return NaN_dict\n",
    "\n"
   ]
  },
  {
   "cell_type": "code",
   "execution_count": 3,
   "metadata": {},
   "outputs": [],
   "source": [
    "data = pd.read_csv('data/base_model.csv')"
   ]
  },
  {
   "cell_type": "markdown",
   "metadata": {},
   "source": [
    "Baseline model was fairly strong in the EDA notebook but the Jarque-Bera test was not in favor of normality.\n",
    "- First plan of action is to eliminate outliers in the target variable and observe how this will affect the model. "
   ]
  },
  {
   "cell_type": "code",
   "execution_count": 4,
   "metadata": {},
   "outputs": [
    {
     "data": {
      "image/png": "[encoded data removed]",
      "text/plain": [
       "<Figure size 432x288 with 2 Axes>"
      ]
     },
     "metadata": {},
     "output_type": "display_data"
    }
   ],
   "source": [
    "# target variable clearly shows an excessive volume of outliers\n",
    "fig,(ax1,ax2) = plt.subplots(1,2)\n",
    "\n",
    "ax1.boxplot(data.price,vert=False)\n",
    "ax2.hist(data.price)\n",
    "\n",
    "fig.suptitle(\"Distribution of target variable at baseline\")\n",
    "plt.tight_layout()\n",
    "plt.show()"
   ]
  },
  {
   "cell_type": "markdown",
   "metadata": {},
   "source": [
    "### Removing outliers:\n",
    "- based on statistical max: to account for outliers and reflect the plot above statistical max is represented by inter quartile range multiplied by 1.5, in lieu of actual maximum value.\n",
    "- based on standard deviation: removing any values more than 3 standard deviations from the mean\n",
    "- arbitrary trim: removing the top 5% most extreme values"
   ]
  },
  {
   "cell_type": "markdown",
   "metadata": {},
   "source": [
    "Defining thresholds to investigate"
   ]
  },
  {
   "cell_type": "code",
   "execution_count": 5,
   "metadata": {},
   "outputs": [],
   "source": [
    "iqr = data.price.quantile(0.75) - data.price.quantile(0.25)\n",
    "max_thresh = iqr*1.5 # statistical maximum \n",
    "\n",
    "std_thresh = data.price.std()*3 # three standard deviations\n",
    "\n",
    "top_5_percentile = data.price.quantile(0.95) #95th percentile (top 5% highest values)"
   ]
  },
  {
   "cell_type": "markdown",
   "metadata": {},
   "source": [
    "Stastical Maximum"
   ]
  },
  {
   "cell_type": "code",
   "execution_count": 6,
   "metadata": {},
   "outputs": [],
   "source": [
    "max_cap = data['price'].loc[abs(data['price']) <= max_thresh] # keeping data only at or within the statistical maximum. "
   ]
  },
  {
   "cell_type": "code",
   "execution_count": 7,
   "metadata": {},
   "outputs": [
    {
     "data": {
      "image/png": "[encoded data removed]",
      "text/plain": [
       "<Figure size 432x288 with 2 Axes>"
      ]
     },
     "metadata": {},
     "output_type": "display_data"
    },
    {
     "name": "stdout",
     "output_type": "stream",
     "text": [
      "Percent of data retained:  0.5521\n",
      "this box plot indicates the data will be better suited for the regression model, however it has dropped about half the data... \n"
     ]
    }
   ],
   "source": [
    "fig,(ax1,ax2) = plt.subplots(1,2)\n",
    "\n",
    "ax1.boxplot(max_cap,vert=False)\n",
    "ax2.hist(max_cap)\n",
    "\n",
    "fig.suptitle(\"Outliers removed based on statistical maximum\")\n",
    "plt.tight_layout()\n",
    "plt.show()\n",
    "\n",
    "print('Percent of data retained: ',round(len(max_cap)/len(data.price),4))  \n",
    "print('this box plot indicates the data will be better suited for the regression model, however it has dropped about half the data... ')"
   ]
  },
  {
   "cell_type": "markdown",
   "metadata": {},
   "source": [
    "3 standard deviations"
   ]
  },
  {
   "cell_type": "code",
   "execution_count": 8,
   "metadata": {},
   "outputs": [],
   "source": [
    "std_cap = data['price'].loc[abs(data['price']) <= std_thresh]"
   ]
  },
  {
   "cell_type": "code",
   "execution_count": 9,
   "metadata": {},
   "outputs": [
    {
     "data": {
      "image/png": "[encoded data removed]",
      "text/plain": [
       "<Figure size 432x288 with 2 Axes>"
      ]
     },
     "metadata": {},
     "output_type": "display_data"
    },
    {
     "name": "stdout",
     "output_type": "stream",
     "text": [
      "Percent of data retained:  0.9451\n",
      "boxplot shows retention of some outliers, but the histogram is closer to normal than max_cap and retain most of the data (nearly all of it)\n"
     ]
    }
   ],
   "source": [
    "fig,(ax1,ax2) = plt.subplots(1,2)\n",
    "\n",
    "ax1.boxplot(std_cap,vert=False)\n",
    "ax2.hist(std_cap)\n",
    "\n",
    "fig.suptitle(\"Outliers removed based on 3 standard deviations\")\n",
    "plt.tight_layout()\n",
    "plt.show()\n",
    "\n",
    "print('Percent of data retained: ',round(len(std_cap)/len(data.price),4))  \n",
    "print('boxplot shows retention of some outliers, but the histogram is closer to normal than max_cap and retain most of the data (nearly all of it)')"
   ]
  },
  {
   "cell_type": "code",
   "execution_count": 10,
   "metadata": {},
   "outputs": [],
   "source": [
    "top_5_cap = data['price'].loc[abs(data['price']) < top_5_percentile]"
   ]
  },
  {
   "cell_type": "code",
   "execution_count": 11,
   "metadata": {},
   "outputs": [
    {
     "data": {
      "image/png": "[encoded data removed]",
      "text/plain": [
       "<Figure size 432x288 with 2 Axes>"
      ]
     },
     "metadata": {},
     "output_type": "display_data"
    },
    {
     "name": "stdout",
     "output_type": "stream",
     "text": [
      "Percent of data retained:  0.9496\n",
      "extremely similar results to elimination based on standard devation, retains slightly more data\n"
     ]
    }
   ],
   "source": [
    "fig,(ax1,ax2) = plt.subplots(1,2)\n",
    "\n",
    "ax1.boxplot(top_5_cap,vert=False)\n",
    "ax2.hist(top_5_cap)\n",
    "\n",
    "fig.suptitle(\"Outliers removed based on 95th percentile\")\n",
    "plt.tight_layout()\n",
    "plt.show()\n",
    "\n",
    "print('Percent of data retained: ',round(len(top_5_cap)/len(data.price),4))  \n",
    "print('extremely similar results to elimination based on standard devation, retains slightly more data')"
   ]
  },
  {
   "cell_type": "markdown",
   "metadata": {},
   "source": [
    "#### Observations on elimination of outliers \n",
    "\n",
    "Elimination based on statistical maximum eliminated way too much data so it wan't be investigated further, full-stop. \n",
    "Elimination based on 95th percentile retained slightly more data than elmination based on 3 standard deviaitons... However both results round to 95% of the data retained; considering the whole goal is to actually *eliminate* outliers, not just some arbitrary slice of data, I will continue with the data with outliers eliminated based on 3 standard deviations because this is a statistical method and not an arbitrary slice. "
   ]
  },
  {
   "cell_type": "code",
   "execution_count": 13,
   "metadata": {},
   "outputs": [],
   "source": [
    "data = data.loc[abs(data.price) <= std_thresh] # slicing data to eliminate outliers using selected method\n",
    "y = data.price\n",
    "X = data.iloc[:,1:] # every column except price"
   ]
  },
  {
   "cell_type": "code",
   "execution_count": 15,
   "metadata": {},
   "outputs": [
    {
     "data": {
      "text/html": [
       "<table class=\"simpletable\">\n",
       "<caption>OLS Regression Results</caption>\n",
       "<tr>\n",
       "  <th>Dep. Variable:</th>          <td>price</td>      <th>  R-squared:         </th>  <td>   0.544</td>  \n",
       "</tr>\n",
       "<tr>\n",
       "  <th>Model:</th>                   <td>OLS</td>       <th>  Adj. R-squared:    </th>  <td>   0.544</td>  \n",
       "</tr>\n",
       "<tr>\n",
       "  <th>Method:</th>             <td>Least Squares</td>  <th>  F-statistic:       </th>  <td>   1192.</td>  \n",
       "</tr>\n",
       "<tr>\n",
       "  <th>Date:</th>             <td>Sun, 27 Mar 2022</td> <th>  Prob (F-statistic):</th>   <td>  0.00</td>   \n",
       "</tr>\n",
       "<tr>\n",
       "  <th>Time:</th>                 <td>23:09:05</td>     <th>  Log-Likelihood:    </th> <td>-2.6506e+05</td>\n",
       "</tr>\n",
       "<tr>\n",
       "  <th>No. Observations:</th>      <td> 19982</td>      <th>  AIC:               </th>  <td>5.302e+05</td> \n",
       "</tr>\n",
       "<tr>\n",
       "  <th>Df Residuals:</th>          <td> 19961</td>      <th>  BIC:               </th>  <td>5.303e+05</td> \n",
       "</tr>\n",
       "<tr>\n",
       "  <th>Df Model:</th>              <td>    20</td>      <th>                     </th>      <td> </td>     \n",
       "</tr>\n",
       "<tr>\n",
       "  <th>Covariance Type:</th>      <td>nonrobust</td>    <th>                     </th>      <td> </td>     \n",
       "</tr>\n",
       "</table>\n",
       "<table class=\"simpletable\">\n",
       "<tr>\n",
       "               <td></td>                 <th>coef</th>     <th>std err</th>      <th>t</th>      <th>P>|t|</th>  <th>[0.025</th>    <th>0.975]</th>  \n",
       "</tr>\n",
       "<tr>\n",
       "  <th>const</th>                      <td>-2.937e+07</td> <td> 6.45e+06</td> <td>   -4.552</td> <td> 0.000</td> <td> -4.2e+07</td> <td>-1.67e+07</td>\n",
       "</tr>\n",
       "<tr>\n",
       "  <th>date</th>                       <td>   45.6719</td> <td>    8.773</td> <td>    5.206</td> <td> 0.000</td> <td>   28.476</td> <td>   62.867</td>\n",
       "</tr>\n",
       "<tr>\n",
       "  <th>floors</th>                     <td> 1.906e+04</td> <td> 3108.866</td> <td>    6.131</td> <td> 0.000</td> <td>  1.3e+04</td> <td> 2.52e+04</td>\n",
       "</tr>\n",
       "<tr>\n",
       "  <th>waterfront</th>                 <td>  1.04e+05</td> <td> 2.08e+04</td> <td>    5.005</td> <td> 0.000</td> <td> 6.33e+04</td> <td> 1.45e+05</td>\n",
       "</tr>\n",
       "<tr>\n",
       "  <th>view</th>                       <td> 2.665e+04</td> <td> 1692.625</td> <td>   15.747</td> <td> 0.000</td> <td> 2.33e+04</td> <td>    3e+04</td>\n",
       "</tr>\n",
       "<tr>\n",
       "  <th>condition</th>                  <td> 2.295e+04</td> <td> 1684.809</td> <td>   13.624</td> <td> 0.000</td> <td> 1.97e+04</td> <td> 2.63e+04</td>\n",
       "</tr>\n",
       "<tr>\n",
       "  <th>sqft_basement</th>              <td>  408.4141</td> <td>    4.298</td> <td>   95.014</td> <td> 0.000</td> <td>  399.989</td> <td>  416.839</td>\n",
       "</tr>\n",
       "<tr>\n",
       "  <th>yr_built</th>                   <td>-2174.1048</td> <td>   47.486</td> <td>  -45.784</td> <td> 0.000</td> <td>-2267.181</td> <td>-2081.029</td>\n",
       "</tr>\n",
       "<tr>\n",
       "  <th>yr_renovated</th>               <td>   14.4432</td> <td>    3.020</td> <td>    4.783</td> <td> 0.000</td> <td>    8.525</td> <td>   20.362</td>\n",
       "</tr>\n",
       "<tr>\n",
       "  <th>bed_bath_ratio</th>             <td>-2.427e+04</td> <td> 1742.460</td> <td>  -13.930</td> <td> 0.000</td> <td>-2.77e+04</td> <td>-2.09e+04</td>\n",
       "</tr>\n",
       "<tr>\n",
       "  <th>level_ratio</th>                <td> 3213.0636</td> <td>  419.332</td> <td>    7.662</td> <td> 0.000</td> <td> 2391.138</td> <td> 4034.989</td>\n",
       "</tr>\n",
       "<tr>\n",
       "  <th>live_lot_ratio</th>             <td> 1.506e+05</td> <td> 5263.583</td> <td>   28.616</td> <td> 0.000</td> <td>  1.4e+05</td> <td> 1.61e+05</td>\n",
       "</tr>\n",
       "<tr>\n",
       "  <th>relative_living_space</th>      <td>  -97.4686</td> <td>    2.600</td> <td>  -37.493</td> <td> 0.000</td> <td> -102.564</td> <td>  -92.373</td>\n",
       "</tr>\n",
       "<tr>\n",
       "  <th>relative_lot_size</th>          <td>    0.2523</td> <td>    0.035</td> <td>    7.209</td> <td> 0.000</td> <td>    0.184</td> <td>    0.321</td>\n",
       "</tr>\n",
       "<tr>\n",
       "  <th>level_difference</th>           <td>  216.5617</td> <td>    2.130</td> <td>  101.676</td> <td> 0.000</td> <td>  212.387</td> <td>  220.736</td>\n",
       "</tr>\n",
       "<tr>\n",
       "  <th>waterfront_Duwamish</th>        <td>-1.155e+05</td> <td> 8774.595</td> <td>  -13.162</td> <td> 0.000</td> <td>-1.33e+05</td> <td>-9.83e+04</td>\n",
       "</tr>\n",
       "<tr>\n",
       "  <th>waterfront_Elliott Bay</th>     <td>  5.68e+04</td> <td> 6149.788</td> <td>    9.237</td> <td> 0.000</td> <td> 4.47e+04</td> <td> 6.89e+04</td>\n",
       "</tr>\n",
       "<tr>\n",
       "  <th>waterfront_Lake Sammamish</th>  <td> 8.907e+04</td> <td> 4659.082</td> <td>   19.116</td> <td> 0.000</td> <td> 7.99e+04</td> <td> 9.82e+04</td>\n",
       "</tr>\n",
       "<tr>\n",
       "  <th>waterfront_Lake Union</th>      <td> 1.472e+05</td> <td> 1.56e+04</td> <td>    9.449</td> <td> 0.000</td> <td> 1.17e+05</td> <td> 1.78e+05</td>\n",
       "</tr>\n",
       "<tr>\n",
       "  <th>waterfront_Lake Washington</th> <td> 5.372e+04</td> <td> 6841.557</td> <td>    7.852</td> <td> 0.000</td> <td> 4.03e+04</td> <td> 6.71e+04</td>\n",
       "</tr>\n",
       "<tr>\n",
       "  <th>waterfront_Puget Sound</th>     <td>-8.386e+04</td> <td> 7355.422</td> <td>  -11.401</td> <td> 0.000</td> <td>-9.83e+04</td> <td>-6.94e+04</td>\n",
       "</tr>\n",
       "</table>\n",
       "<table class=\"simpletable\">\n",
       "<tr>\n",
       "  <th>Omnibus:</th>       <td>1065.053</td> <th>  Durbin-Watson:     </th> <td>   1.966</td> \n",
       "</tr>\n",
       "<tr>\n",
       "  <th>Prob(Omnibus):</th>  <td> 0.000</td>  <th>  Jarque-Bera (JB):  </th> <td>1423.841</td> \n",
       "</tr>\n",
       "<tr>\n",
       "  <th>Skew:</th>           <td> 0.511</td>  <th>  Prob(JB):          </th> <td>6.56e-310</td>\n",
       "</tr>\n",
       "<tr>\n",
       "  <th>Kurtosis:</th>       <td> 3.817</td>  <th>  Cond. No.          </th> <td>4.81e+09</td> \n",
       "</tr>\n",
       "</table><br/><br/>Notes:<br/>[1] Standard Errors assume that the covariance matrix of the errors is correctly specified.<br/>[2] The condition number is large, 4.81e+09. This might indicate that there are<br/>strong multicollinearity or other numerical problems."
      ],
      "text/plain": [
       "<class 'statsmodels.iolib.summary.Summary'>\n",
       "\"\"\"\n",
       "                            OLS Regression Results                            \n",
       "==============================================================================\n",
       "Dep. Variable:                  price   R-squared:                       0.544\n",
       "Model:                            OLS   Adj. R-squared:                  0.544\n",
       "Method:                 Least Squares   F-statistic:                     1192.\n",
       "Date:                Sun, 27 Mar 2022   Prob (F-statistic):               0.00\n",
       "Time:                        23:09:05   Log-Likelihood:            -2.6506e+05\n",
       "No. Observations:               19982   AIC:                         5.302e+05\n",
       "Df Residuals:                   19961   BIC:                         5.303e+05\n",
       "Df Model:                          20                                         \n",
       "Covariance Type:            nonrobust                                         \n",
       "==============================================================================================\n",
       "                                 coef    std err          t      P>|t|      [0.025      0.975]\n",
       "----------------------------------------------------------------------------------------------\n",
       "const                      -2.937e+07   6.45e+06     -4.552      0.000    -4.2e+07   -1.67e+07\n",
       "date                          45.6719      8.773      5.206      0.000      28.476      62.867\n",
       "floors                      1.906e+04   3108.866      6.131      0.000     1.3e+04    2.52e+04\n",
       "waterfront                   1.04e+05   2.08e+04      5.005      0.000    6.33e+04    1.45e+05\n",
       "view                        2.665e+04   1692.625     15.747      0.000    2.33e+04       3e+04\n",
       "condition                   2.295e+04   1684.809     13.624      0.000    1.97e+04    2.63e+04\n",
       "sqft_basement                408.4141      4.298     95.014      0.000     399.989     416.839\n",
       "yr_built                   -2174.1048     47.486    -45.784      0.000   -2267.181   -2081.029\n",
       "yr_renovated                  14.4432      3.020      4.783      0.000       8.525      20.362\n",
       "bed_bath_ratio             -2.427e+04   1742.460    -13.930      0.000   -2.77e+04   -2.09e+04\n",
       "level_ratio                 3213.0636    419.332      7.662      0.000    2391.138    4034.989\n",
       "live_lot_ratio              1.506e+05   5263.583     28.616      0.000     1.4e+05    1.61e+05\n",
       "relative_living_space        -97.4686      2.600    -37.493      0.000    -102.564     -92.373\n",
       "relative_lot_size              0.2523      0.035      7.209      0.000       0.184       0.321\n",
       "level_difference             216.5617      2.130    101.676      0.000     212.387     220.736\n",
       "waterfront_Duwamish        -1.155e+05   8774.595    -13.162      0.000   -1.33e+05   -9.83e+04\n",
       "waterfront_Elliott Bay       5.68e+04   6149.788      9.237      0.000    4.47e+04    6.89e+04\n",
       "waterfront_Lake Sammamish   8.907e+04   4659.082     19.116      0.000    7.99e+04    9.82e+04\n",
       "waterfront_Lake Union       1.472e+05   1.56e+04      9.449      0.000    1.17e+05    1.78e+05\n",
       "waterfront_Lake Washington  5.372e+04   6841.557      7.852      0.000    4.03e+04    6.71e+04\n",
       "waterfront_Puget Sound     -8.386e+04   7355.422    -11.401      0.000   -9.83e+04   -6.94e+04\n",
       "==============================================================================\n",
       "Omnibus:                     1065.053   Durbin-Watson:                   1.966\n",
       "Prob(Omnibus):                  0.000   Jarque-Bera (JB):             1423.841\n",
       "Skew:                           0.511   Prob(JB):                    6.56e-310\n",
       "Kurtosis:                       3.817   Cond. No.                     4.81e+09\n",
       "==============================================================================\n",
       "\n",
       "Notes:\n",
       "[1] Standard Errors assume that the covariance matrix of the errors is correctly specified.\n",
       "[2] The condition number is large, 4.81e+09. This might indicate that there are\n",
       "strong multicollinearity or other numerical problems.\n",
       "\"\"\""
      ]
     },
     "execution_count": 15,
     "metadata": {},
     "output_type": "execute_result"
    }
   ],
   "source": [
    "base_model = run_OLS_model(X,y)\n",
    "# base_model.summary()"
   ]
  },
  {
   "cell_type": "code",
   "execution_count": 18,
   "metadata": {},
   "outputs": [
    {
     "name": "stdout",
     "output_type": "stream",
     "text": [
      "[('Jarque-Bera', 1423.8409541062915), ('Prob', 6.5594173145438e-310), ('Skew', 0.5106814712897342), ('Kurtosis', 3.8166798748000956)]\n"
     ]
    },
    {
     "data": {
      "image/png": "[encoded data removed]",
      "text/plain": [
       "<Figure size 432x288 with 1 Axes>"
      ]
     },
     "metadata": {},
     "output_type": "display_data"
    }
   ],
   "source": [
    "base_residual = base_model.resid\n",
    "\n",
    "fig = sm.graphics.qqplot(base_residual, dist=stats.norm, line='45', fit=True)\n",
    "\n",
    "name = ['Jarque-Bera','Prob','Skew', 'Kurtosis']\n",
    "test = sms.jarque_bera(base_residual)\n",
    "print(list(zip(name, test)))"
   ]
  },
  {
   "cell_type": "markdown",
   "metadata": {},
   "source": [
    "Observations on base model:\n",
    "- Skewness and Kurtosis are not extremely off target, but off nonetheless. \n",
    "- P-value and JB are even worse than the final model in the previous notebook (EDA 4)"
   ]
  },
  {
   "cell_type": "markdown",
   "metadata": {},
   "source": [
    "Log transform target variable to further fit the data. "
   ]
  },
  {
   "cell_type": "code",
   "execution_count": 32,
   "metadata": {},
   "outputs": [
    {
     "name": "stdout",
     "output_type": "stream",
     "text": [
      "[('Jarque-Bera', 1423.8409541062915), ('Prob', 6.5594173145438e-310), ('Skew', 0.5106814712897342), ('Kurtosis', 3.8166798748000956)]\n"
     ]
    },
    {
     "data": {
      "text/html": [
       "<table class=\"simpletable\">\n",
       "<caption>OLS Regression Results</caption>\n",
       "<tr>\n",
       "  <th>Dep. Variable:</th>          <td>price</td>      <th>  R-squared:         </th> <td>   0.526</td>\n",
       "</tr>\n",
       "<tr>\n",
       "  <th>Model:</th>                   <td>OLS</td>       <th>  Adj. R-squared:    </th> <td>   0.525</td>\n",
       "</tr>\n",
       "<tr>\n",
       "  <th>Method:</th>             <td>Least Squares</td>  <th>  F-statistic:       </th> <td>   1107.</td>\n",
       "</tr>\n",
       "<tr>\n",
       "  <th>Date:</th>             <td>Sun, 27 Mar 2022</td> <th>  Prob (F-statistic):</th>  <td>  0.00</td> \n",
       "</tr>\n",
       "<tr>\n",
       "  <th>Time:</th>                 <td>23:39:24</td>     <th>  Log-Likelihood:    </th> <td> -4676.4</td>\n",
       "</tr>\n",
       "<tr>\n",
       "  <th>No. Observations:</th>      <td> 19982</td>      <th>  AIC:               </th> <td>   9395.</td>\n",
       "</tr>\n",
       "<tr>\n",
       "  <th>Df Residuals:</th>          <td> 19961</td>      <th>  BIC:               </th> <td>   9561.</td>\n",
       "</tr>\n",
       "<tr>\n",
       "  <th>Df Model:</th>              <td>    20</td>      <th>                     </th>     <td> </td>   \n",
       "</tr>\n",
       "<tr>\n",
       "  <th>Covariance Type:</th>      <td>nonrobust</td>    <th>                     </th>     <td> </td>   \n",
       "</tr>\n",
       "</table>\n",
       "<table class=\"simpletable\">\n",
       "<tr>\n",
       "               <td></td>                 <th>coef</th>     <th>std err</th>      <th>t</th>      <th>P>|t|</th>  <th>[0.025</th>    <th>0.975]</th>  \n",
       "</tr>\n",
       "<tr>\n",
       "  <th>const</th>                      <td>  -57.2391</td> <td>   14.141</td> <td>   -4.048</td> <td> 0.000</td> <td>  -84.956</td> <td>  -29.522</td>\n",
       "</tr>\n",
       "<tr>\n",
       "  <th>date</th>                       <td>    0.0001</td> <td> 1.92e-05</td> <td>    5.493</td> <td> 0.000</td> <td> 6.79e-05</td> <td>    0.000</td>\n",
       "</tr>\n",
       "<tr>\n",
       "  <th>floors</th>                     <td>    0.0556</td> <td>    0.007</td> <td>    8.158</td> <td> 0.000</td> <td>    0.042</td> <td>    0.069</td>\n",
       "</tr>\n",
       "<tr>\n",
       "  <th>waterfront</th>                 <td>    0.2363</td> <td>    0.046</td> <td>    5.189</td> <td> 0.000</td> <td>    0.147</td> <td>    0.326</td>\n",
       "</tr>\n",
       "<tr>\n",
       "  <th>view</th>                       <td>    0.0435</td> <td>    0.004</td> <td>   11.736</td> <td> 0.000</td> <td>    0.036</td> <td>    0.051</td>\n",
       "</tr>\n",
       "<tr>\n",
       "  <th>condition</th>                  <td>    0.0505</td> <td>    0.004</td> <td>   13.685</td> <td> 0.000</td> <td>    0.043</td> <td>    0.058</td>\n",
       "</tr>\n",
       "<tr>\n",
       "  <th>sqft_basement</th>              <td>    0.0009</td> <td> 9.42e-06</td> <td>   90.858</td> <td> 0.000</td> <td>    0.001</td> <td>    0.001</td>\n",
       "</tr>\n",
       "<tr>\n",
       "  <th>yr_built</th>                   <td>   -0.0043</td> <td>    0.000</td> <td>  -41.796</td> <td> 0.000</td> <td>   -0.005</td> <td>   -0.004</td>\n",
       "</tr>\n",
       "<tr>\n",
       "  <th>yr_renovated</th>               <td> 2.391e-05</td> <td> 6.62e-06</td> <td>    3.614</td> <td> 0.000</td> <td> 1.09e-05</td> <td> 3.69e-05</td>\n",
       "</tr>\n",
       "<tr>\n",
       "  <th>bed_bath_ratio</th>             <td>   -0.0623</td> <td>    0.004</td> <td>  -16.324</td> <td> 0.000</td> <td>   -0.070</td> <td>   -0.055</td>\n",
       "</tr>\n",
       "<tr>\n",
       "  <th>level_ratio</th>                <td>    0.0072</td> <td>    0.001</td> <td>    7.828</td> <td> 0.000</td> <td>    0.005</td> <td>    0.009</td>\n",
       "</tr>\n",
       "<tr>\n",
       "  <th>live_lot_ratio</th>             <td>    0.3342</td> <td>    0.012</td> <td>   28.975</td> <td> 0.000</td> <td>    0.312</td> <td>    0.357</td>\n",
       "</tr>\n",
       "<tr>\n",
       "  <th>relative_living_space</th>      <td>   -0.0002</td> <td>  5.7e-06</td> <td>  -36.147</td> <td> 0.000</td> <td>   -0.000</td> <td>   -0.000</td>\n",
       "</tr>\n",
       "<tr>\n",
       "  <th>relative_lot_size</th>          <td> 5.502e-07</td> <td> 7.67e-08</td> <td>    7.175</td> <td> 0.000</td> <td>    4e-07</td> <td> 7.01e-07</td>\n",
       "</tr>\n",
       "<tr>\n",
       "  <th>level_difference</th>           <td>    0.0004</td> <td> 4.67e-06</td> <td>   93.525</td> <td> 0.000</td> <td>    0.000</td> <td>    0.000</td>\n",
       "</tr>\n",
       "<tr>\n",
       "  <th>waterfront_Duwamish</th>        <td>   -0.3710</td> <td>    0.019</td> <td>  -19.295</td> <td> 0.000</td> <td>   -0.409</td> <td>   -0.333</td>\n",
       "</tr>\n",
       "<tr>\n",
       "  <th>waterfront_Elliott Bay</th>     <td>    0.1495</td> <td>    0.013</td> <td>   11.092</td> <td> 0.000</td> <td>    0.123</td> <td>    0.176</td>\n",
       "</tr>\n",
       "<tr>\n",
       "  <th>waterfront_Lake Sammamish</th>  <td>    0.1930</td> <td>    0.010</td> <td>   18.901</td> <td> 0.000</td> <td>    0.173</td> <td>    0.213</td>\n",
       "</tr>\n",
       "<tr>\n",
       "  <th>waterfront_Lake Union</th>      <td>    0.2839</td> <td>    0.034</td> <td>    8.316</td> <td> 0.000</td> <td>    0.217</td> <td>    0.351</td>\n",
       "</tr>\n",
       "<tr>\n",
       "  <th>waterfront_Lake Washington</th> <td>    0.1379</td> <td>    0.015</td> <td>    9.201</td> <td> 0.000</td> <td>    0.109</td> <td>    0.167</td>\n",
       "</tr>\n",
       "<tr>\n",
       "  <th>waterfront_Puget Sound</th>     <td>   -0.1818</td> <td>    0.016</td> <td>  -11.281</td> <td> 0.000</td> <td>   -0.213</td> <td>   -0.150</td>\n",
       "</tr>\n",
       "</table>\n",
       "<table class=\"simpletable\">\n",
       "<tr>\n",
       "  <th>Omnibus:</th>       <td>130.039</td> <th>  Durbin-Watson:     </th> <td>   1.972</td>\n",
       "</tr>\n",
       "<tr>\n",
       "  <th>Prob(Omnibus):</th> <td> 0.000</td>  <th>  Jarque-Bera (JB):  </th> <td> 138.928</td>\n",
       "</tr>\n",
       "<tr>\n",
       "  <th>Skew:</th>          <td>-0.171</td>  <th>  Prob(JB):          </th> <td>6.79e-31</td>\n",
       "</tr>\n",
       "<tr>\n",
       "  <th>Kurtosis:</th>      <td> 3.225</td>  <th>  Cond. No.          </th> <td>4.81e+09</td>\n",
       "</tr>\n",
       "</table><br/><br/>Notes:<br/>[1] Standard Errors assume that the covariance matrix of the errors is correctly specified.<br/>[2] The condition number is large, 4.81e+09. This might indicate that there are<br/>strong multicollinearity or other numerical problems."
      ],
      "text/plain": [
       "<class 'statsmodels.iolib.summary.Summary'>\n",
       "\"\"\"\n",
       "                            OLS Regression Results                            \n",
       "==============================================================================\n",
       "Dep. Variable:                  price   R-squared:                       0.526\n",
       "Model:                            OLS   Adj. R-squared:                  0.525\n",
       "Method:                 Least Squares   F-statistic:                     1107.\n",
       "Date:                Sun, 27 Mar 2022   Prob (F-statistic):               0.00\n",
       "Time:                        23:39:24   Log-Likelihood:                -4676.4\n",
       "No. Observations:               19982   AIC:                             9395.\n",
       "Df Residuals:                   19961   BIC:                             9561.\n",
       "Df Model:                          20                                         \n",
       "Covariance Type:            nonrobust                                         \n",
       "==============================================================================================\n",
       "                                 coef    std err          t      P>|t|      [0.025      0.975]\n",
       "----------------------------------------------------------------------------------------------\n",
       "const                        -57.2391     14.141     -4.048      0.000     -84.956     -29.522\n",
       "date                           0.0001   1.92e-05      5.493      0.000    6.79e-05       0.000\n",
       "floors                         0.0556      0.007      8.158      0.000       0.042       0.069\n",
       "waterfront                     0.2363      0.046      5.189      0.000       0.147       0.326\n",
       "view                           0.0435      0.004     11.736      0.000       0.036       0.051\n",
       "condition                      0.0505      0.004     13.685      0.000       0.043       0.058\n",
       "sqft_basement                  0.0009   9.42e-06     90.858      0.000       0.001       0.001\n",
       "yr_built                      -0.0043      0.000    -41.796      0.000      -0.005      -0.004\n",
       "yr_renovated                2.391e-05   6.62e-06      3.614      0.000    1.09e-05    3.69e-05\n",
       "bed_bath_ratio                -0.0623      0.004    -16.324      0.000      -0.070      -0.055\n",
       "level_ratio                    0.0072      0.001      7.828      0.000       0.005       0.009\n",
       "live_lot_ratio                 0.3342      0.012     28.975      0.000       0.312       0.357\n",
       "relative_living_space         -0.0002    5.7e-06    -36.147      0.000      -0.000      -0.000\n",
       "relative_lot_size           5.502e-07   7.67e-08      7.175      0.000       4e-07    7.01e-07\n",
       "level_difference               0.0004   4.67e-06     93.525      0.000       0.000       0.000\n",
       "waterfront_Duwamish           -0.3710      0.019    -19.295      0.000      -0.409      -0.333\n",
       "waterfront_Elliott Bay         0.1495      0.013     11.092      0.000       0.123       0.176\n",
       "waterfront_Lake Sammamish      0.1930      0.010     18.901      0.000       0.173       0.213\n",
       "waterfront_Lake Union          0.2839      0.034      8.316      0.000       0.217       0.351\n",
       "waterfront_Lake Washington     0.1379      0.015      9.201      0.000       0.109       0.167\n",
       "waterfront_Puget Sound        -0.1818      0.016    -11.281      0.000      -0.213      -0.150\n",
       "==============================================================================\n",
       "Omnibus:                      130.039   Durbin-Watson:                   1.972\n",
       "Prob(Omnibus):                  0.000   Jarque-Bera (JB):              138.928\n",
       "Skew:                          -0.171   Prob(JB):                     6.79e-31\n",
       "Kurtosis:                       3.225   Cond. No.                     4.81e+09\n",
       "==============================================================================\n",
       "\n",
       "Notes:\n",
       "[1] Standard Errors assume that the covariance matrix of the errors is correctly specified.\n",
       "[2] The condition number is large, 4.81e+09. This might indicate that there are\n",
       "strong multicollinearity or other numerical problems.\n",
       "\"\"\""
      ]
     },
     "execution_count": 32,
     "metadata": {},
     "output_type": "execute_result"
    },
    {
     "data": {
      "image/png": "[encoded data removed]",
      "text/plain": [
       "<Figure size 432x288 with 1 Axes>"
      ]
     },
     "metadata": {},
     "output_type": "display_data"
    }
   ],
   "source": [
    "y_log = np.log(y)\n",
    "\n",
    "log_model = run_OLS_model(X,y_log)\n",
    "log_residual = log_model.resid\n",
    "\n",
    "name = ['Jarque-Bera','Prob','Skew', 'Kurtosis']\n",
    "test = sms.jarque_bera(base_residual)\n",
    "\n",
    "\n",
    "fig = sm.graphics.qqplot(base_residual, dist=stats.norm, line='45', fit=True)\n",
    "\n",
    "print(list(zip(name, test)))\n",
    "log_model.summary()\n",
    "\n"
   ]
  },
  {
   "cell_type": "code",
   "execution_count": 34,
   "metadata": {},
   "outputs": [
    {
     "data": {
      "text/plain": [
       "count    19982.000000\n",
       "mean        12.977716\n",
       "std          0.444073\n",
       "min         11.264464\n",
       "25%         12.660328\n",
       "50%         12.986887\n",
       "75%         13.304685\n",
       "max         13.910821\n",
       "Name: price, dtype: float64"
      ]
     },
     "execution_count": 34,
     "metadata": {},
     "output_type": "execute_result"
    }
   ],
   "source": [
    "y_log.describe()\n",
    "first = y_log.loc[y_log < ]"
   ]
  },
  {
   "cell_type": "markdown",
   "metadata": {},
   "source": [
    "Inspect cross validation"
   ]
  },
  {
   "cell_type": "code",
   "execution_count": 21,
   "metadata": {},
   "outputs": [
    {
     "data": {
      "image/png": "[encoded data removed]",
      "text/plain": [
       "<Figure size 432x288 with 1 Axes>"
      ]
     },
     "metadata": {},
     "output_type": "display_data"
    }
   ],
   "source": [
    "num = 20\n",
    "train_err = []\n",
    "test_err = []\n",
    "linreg = LinearRegression()\n",
    "\n",
    "for i in range(num):\n",
    "    X_train, X_test, y_train, y_test = train_test_split(X, y_log, test_size=0.33)\n",
    "    linreg.fit(X_train, y_train)\n",
    "    y_hat_train = linreg.predict(X_train)\n",
    "    y_hat_test = linreg.predict(X_test)\n",
    "    train_err.append(mean_squared_error(y_train, y_hat_train))\n",
    "    test_err.append(mean_squared_error(y_test, y_hat_test))\n",
    "    \n",
    "plt.scatter(list(range(num)), train_err, label='Training Error')\n",
    "plt.scatter(list(range(num)), test_err, label='Testing Error')\n",
    "plt.legend();"
   ]
  },
  {
   "cell_type": "code",
   "execution_count": 28,
   "metadata": {},
   "outputs": [
    {
     "name": "stdout",
     "output_type": "stream",
     "text": [
      "Train Mean Squarred Error: 0.092\n",
      "Test Mean Squarred Error: 0.096\n"
     ]
    }
   ],
   "source": [
    "mse_train = np.sum((y_train-y_hat_train)**2)/len(y_train)\n",
    "mse_test = np.sum((y_test-y_hat_test)**2)/len(y_test)\n",
    "print('Train Mean Squarred Error:', round(mse_train,3))\n",
    "print('Test Mean Squarred Error:', round(mse_test,3))"
   ]
  },
  {
   "cell_type": "markdown",
   "metadata": {},
   "source": [
    "K-fold cross validation"
   ]
  },
  {
   "cell_type": "code",
   "execution_count": 23,
   "metadata": {},
   "outputs": [],
   "source": [
    "cv_5_results  = np.mean(cross_val_score(linreg, X, y, cv=5,  scoring='neg_mean_squared_error'))\n",
    "cv_10_results = np.mean(cross_val_score(linreg, X, y, cv=10, scoring='neg_mean_squared_error'))\n",
    "cv_20_results = np.mean(cross_val_score(linreg, X, y, cv=20, scoring='neg_mean_squared_error'))"
   ]
  },
  {
   "cell_type": "code",
   "execution_count": 25,
   "metadata": {},
   "outputs": [
    {
     "data": {
      "text/plain": [
       "-19571624460.170692"
      ]
     },
     "execution_count": 25,
     "metadata": {},
     "output_type": "execute_result"
    }
   ],
   "source": [
    "cv_20_results"
   ]
  },
  {
   "cell_type": "code",
   "execution_count": null,
   "metadata": {},
   "outputs": [],
   "source": []
  }
 ],
 "metadata": {
  "kernelspec": {
   "display_name": "Python (learn-env)",
   "language": "python",
   "name": "learn-env"
  },
  "language_info": {
   "codemirror_mode": {
    "name": "ipython",
    "version": 3
   },
   "file_extension": ".py",
   "mimetype": "text/x-python",
   "name": "python",
   "nbconvert_exporter": "python",
   "pygments_lexer": "ipython3",
   "version": "3.8.3"
  }
 },
 "nbformat": 4,
 "nbformat_minor": 4
}
