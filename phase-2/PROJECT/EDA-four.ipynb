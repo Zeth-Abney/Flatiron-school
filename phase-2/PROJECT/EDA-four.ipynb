{
 "cells": [
  {
   "cell_type": "code",
   "execution_count": 1,
   "metadata": {},
   "outputs": [],
   "source": [
    "import matplotlib.pyplot as plt\n",
    "import seaborn as sns\n",
    "# import simpreglib as srl\n",
    "import pandas as pd\n",
    "import numpy as np\n",
    "import datetime as dt\n",
    "\n",
    "# for linear regression models\n",
    "import statsmodels.api as sm\n",
    "import statsmodels.formula.api as smf\n",
    "from statsmodels.formula.api import ols\n",
    "import scipy.stats as stats\n",
    "\n",
    "# run_RFE and run_RFECV\n",
    "from sklearn.feature_selection import RFE\n",
    "from sklearn.feature_selection import RFECV\n",
    "from sklearn.linear_model import LinearRegression\n",
    "\n",
    "\n",
    "from sklearn.metrics import mean_absolute_error, mean_squared_error\n",
    "from statsmodels.stats.outliers_influence import variance_inflation_factor\n",
    "\n",
    "import warnings # weird sns.distplot warnings\n",
    "warnings.filterwarnings(\"ignore\")\n",
    "\n",
    "plt.style.use('fivethirtyeight')"
   ]
  },
  {
   "cell_type": "code",
   "execution_count": 38,
   "metadata": {},
   "outputs": [],
   "source": [
    "# creates dictionary of variance inflation factors. \n",
    "def create_vif_dictionary(X):\n",
    "\n",
    "    vif_dict = {}\n",
    "    for i in range(len(X.columns)):\n",
    "        vif = variance_inflation_factor(X.values, i)\n",
    "        v = X.columns[i]\n",
    "        vif_dict[v] = vif\n",
    "\n",
    "    good_vifs = []\n",
    "    bad_vifs = []\n",
    "\n",
    "    for k,v in vif_dict.items():\n",
    "        if v < 10:\n",
    "            good_vifs.append(k)\n",
    "        else:\n",
    "            bad_vifs.append(k)\n",
    "\n",
    "    return good_vifs,bad_vifs\n",
    "\n",
    "# create a dictionary showing the adjusted R-squared values for each feature individually\n",
    "def create_R2_dictionary(X,y):\n",
    "    adj_R_squares = {}\n",
    "    for feature in X.columns:\n",
    "        predictors_int = sm.add_constant(X[feature])\n",
    "        model = sm.OLS(y,predictors_int).fit()\n",
    "        adj_R_square = float(model.summary2().tables[0][3][0])\n",
    "        adj_R_squares[feature] = adj_R_square\n",
    "    return adj_R_squares\n",
    "\n",
    "# author's docstring is in a markup cell down below in the stepwise selection section\n",
    "def stepwise_selection(X, y, \n",
    "\n",
    "\n",
    "                       initial_list=[], \n",
    "                       threshold_in=0.01, \n",
    "                       threshold_out = 0.05, \n",
    "                       verbose=True):\n",
    "    included = list(initial_list)\n",
    "    while True:\n",
    "        changed=False\n",
    "        # forward step\n",
    "        excluded = list(set(X.columns)-set(included))\n",
    "        new_pval = pd.Series(index=excluded)\n",
    "        for new_column in excluded:\n",
    "            model = sm.OLS(y, sm.add_constant(pd.DataFrame(X[included+[new_column]]))).fit()\n",
    "            new_pval[new_column] = model.pvalues[new_column]\n",
    "        best_pval = new_pval.min()\n",
    "        if best_pval < threshold_in:\n",
    "            best_feature = new_pval.idxmin()\n",
    "            included.append(best_feature)\n",
    "            changed=True\n",
    "            if verbose:\n",
    "                print('Add  {:30} with p-value {:.6}'.format(best_feature, best_pval))\n",
    "        # backward step\n",
    "        model = sm.OLS(y, sm.add_constant(pd.DataFrame(X[included]))).fit()\n",
    "        # use all coefs except intercept\n",
    "        pvalues = model.pvalues.iloc[1:]\n",
    "        worst_pval = pvalues.max() # null if pvalues is empty\n",
    "        if worst_pval > threshold_out:\n",
    "            changed=True\n",
    "            worst_feature = pvalues.argmax()\n",
    "            worst_feature_name = included[worst_feature]\n",
    "            included.pop(worst_feature)\n",
    "            if verbose:\n",
    "                print('Drop {:30} with p-value {:.6}'.format(worst_feature_name, worst_pval))\n",
    "        if not changed:\n",
    "            break\n",
    "    return included\n",
    "\n",
    "def run_RFE(X,y):\n",
    "    linreg = LinearRegression()\n",
    "    selector = RFE(linreg)\n",
    "    selector = selector.fit(X, y)\n",
    "\n",
    "    selected = selector.support_ # list of bools representing if feature is selected or not\n",
    "    selections = [] # list of column names that are selected\n",
    "    labels = list(X.columns) # list of all column names \n",
    "\n",
    "    for idx,feature in enumerate(selected): # append labels of selected features to selections list\n",
    "        if feature == True:\n",
    "            selections.append(labels[idx])\n",
    "        else:\n",
    "            pass\n",
    "    \n",
    "    ranked = selector.ranking_ # list of bools representing if feature is selected or not\n",
    "    rankers = [] # list of column names that are selected\n",
    "    labels = list(X.columns) # list of all column names \n",
    "\n",
    "    for idx,feature in enumerate(ranked): # append labels of selected features to selections list\n",
    "        if feature == 1:\n",
    "            rankers.append(labels[idx])\n",
    "        else:\n",
    "            pass\n",
    "    return selections, rankers\n",
    "\n",
    "def run_RFECV(X,y):\n",
    "    linreg = LinearRegression()\n",
    "    selector = RFECV(linreg)\n",
    "    selector = selector.fit(X, y)\n",
    "\n",
    "    selected = selector.support_ # list of bools representing if feature is selected or not\n",
    "    selections = [] # list of column names that are selected\n",
    "    labels = list(X.columns) # list of all column names \n",
    "\n",
    "    for idx,feature in enumerate(selected): # append labels of selected features to selections list\n",
    "        if feature == True:\n",
    "            selections.append(labels[idx])\n",
    "        else:\n",
    "            pass\n",
    "    \n",
    "    ranked = selector.ranking_ # list of bools representing if feature is selected or not\n",
    "    rankers = [] # list of column names that are selected\n",
    "    labels = list(X.columns) # list of all column names \n",
    "\n",
    "    for idx,feature in enumerate(ranked): # append labels of selected features to selections list\n",
    "        if feature == 1:\n",
    "            rankers.append(labels[idx])\n",
    "        else:\n",
    "            pass\n",
    "\n",
    "    return selections, rankers\n",
    "\n",
    "def run_OLS_model(X,y):\n",
    "    predictors_int = sm.add_constant(X)\n",
    "    model = sm.OLS(y,predictors_int).fit()\n",
    "    return model"
   ]
  },
  {
   "cell_type": "markdown",
   "metadata": {},
   "source": [
    "Set up predictor and target dataframes, deal with unusable data"
   ]
  },
  {
   "cell_type": "code",
   "execution_count": 3,
   "metadata": {},
   "outputs": [],
   "source": [
    "X = pd.read_csv('data/kc_house_data.csv')\n",
    "X.drop(X.loc[X['sqft_basement']=='?'].index,inplace=True) # remove '?' from the data.\n",
    "y = X.price\n",
    "X.drop(['price','id','zipcode','lat','long'],inplace=True,axis=1)"
   ]
  },
  {
   "cell_type": "markdown",
   "metadata": {},
   "source": [
    "Engineer data to present as numerical values, not objects. "
   ]
  },
  {
   "cell_type": "code",
   "execution_count": 4,
   "metadata": {},
   "outputs": [],
   "source": [
    "# convert all string types into np floats\n",
    "X.sqft_basement = [float(sq) for sq in list(X.sqft_basement)]\n",
    "\n",
    "# Replaces grade strings with numerics based on data dict. \n",
    "grade_raws = list(X.grade.unique())\n",
    "# replaces a cell value with the int of the first character of its existing string\n",
    "for raw in grade_raws:\n",
    "    X.grade.replace(to_replace=raw,value=int(raw[0]),inplace=True)\n",
    "\n",
    "# replaces condition objects with numerics based on data dict.\n",
    "condition_dict = {'Poor':1,'Fair':2,'Average':3,'Good':4,'Very Good':5}\n",
    "for key in condition_dict:\n",
    "    X.condition.replace(to_replace=condition_dict,inplace=True)\n",
    "\n",
    "# replace yr_built NaNs with numeric 0\n",
    "X.yr_renovated.replace(to_replace=np.nan,value=0,inplace=True)"
   ]
  },
  {
   "cell_type": "code",
   "execution_count": 5,
   "metadata": {},
   "outputs": [],
   "source": [
    "# convert waterfront into numeric boolean\n",
    "waterfront_bool_list = []\n",
    "for value in X.waterfront:\n",
    "    if value == 'YES':\n",
    "        waterfront_bool_list.append(1)\n",
    "    else:\n",
    "        waterfront_bool_list.append(0)\n",
    "X.waterfront = waterfront_bool_list"
   ]
  },
  {
   "cell_type": "code",
   "execution_count": 6,
   "metadata": {},
   "outputs": [],
   "source": [
    "# convert view from string into categorical ordinal\n",
    "view_rank_list = [] \n",
    "view_dict = {'NONE':0,'FAIR':1,'AVERAGE':2,'GOOD':3,'EXCELLENT':4}\n",
    "\n",
    "for value in X.view:\n",
    "    if value in list(view_dict.keys()):\n",
    "        view_rank_list.append(view_dict[value])\n",
    "    else:\n",
    "        view_rank_list.append(0)\n",
    "        \n",
    "X.view = view_rank_list"
   ]
  },
  {
   "cell_type": "markdown",
   "metadata": {},
   "source": [
    "Engineer date into a usable type of number (datetime ordinal)"
   ]
  },
  {
   "cell_type": "code",
   "execution_count": 7,
   "metadata": {},
   "outputs": [],
   "source": [
    "# convert dates into ordinals\n",
    "X.date = pd.to_datetime(X['date'])\n",
    "X.date = X['date'].map(dt.datetime.toordinal)"
   ]
  },
  {
   "cell_type": "code",
   "execution_count": 8,
   "metadata": {},
   "outputs": [],
   "source": [
    "null_dict = {}\n",
    "for feature in X.columns:\n",
    "    null_count = sum(X[feature].isna())\n",
    "    null_dict[feature] = null_count\n",
    "# null_dict"
   ]
  },
  {
   "cell_type": "markdown",
   "metadata": {},
   "source": [
    "Investigate multicolinearity before engineering inferred features"
   ]
  },
  {
   "cell_type": "code",
   "execution_count": 9,
   "metadata": {},
   "outputs": [],
   "source": [
    "# X.corr()\n",
    "cor_df=X.corr().abs().stack().reset_index().sort_values(0, ascending=False)\n",
    "cor_df['pairs'] = list(zip(cor_df.level_0, cor_df.level_1))\n",
    "cor_df.set_index(['pairs'], inplace = True)\n",
    "cor_df.drop(columns=['level_1', 'level_0'], inplace = True)\n",
    "cor_df.columns = ['cc']\n",
    "cor_df.drop_duplicates(inplace=True)"
   ]
  },
  {
   "cell_type": "code",
   "execution_count": 10,
   "metadata": {},
   "outputs": [],
   "source": [
    "# cor_df[(cor_df.cc>.60) & (cor_df.cc <1)]"
   ]
  },
  {
   "cell_type": "code",
   "execution_count": 11,
   "metadata": {},
   "outputs": [],
   "source": [
    "# colinear_drops = ['sqft_above','sqft_living15','bathrooms','sqft_lot15']"
   ]
  },
  {
   "cell_type": "markdown",
   "metadata": {},
   "source": [
    "Engineering inferred feature\n",
    "- bed bath ratio:           ratio of bedrooms to bathrooms\n",
    "- level ratios:             ratio of square feet above 'grade' and below (ratio of everything else to the basement)\n",
    "- live_lot_ratio:           ratio of living space to lot size\n",
    "- relative living space:    ratio of living space to the living space of the nearest 15 houses (sqft_living :: sqft_living15)\n",
    "- relatve lot size:         same as living space but for lot size instead. \n",
    "- level difference:         difference in square footage of living space to basement space"
   ]
  },
  {
   "cell_type": "code",
   "execution_count": 12,
   "metadata": {},
   "outputs": [],
   "source": [
    "bbratios = []\n",
    "lvl_ratios = []\n",
    "live_lot_ratio = []\n",
    "\n",
    "for index,row in X.iterrows(): #iterate through every record\n",
    "#     print(row)\n",
    "    bbratio = row.bedrooms/row.bathrooms # calculate ratio of bedrooms to bathrooms\n",
    "    bbratios.append(bbratio) # append ratio to the list\n",
    "\n",
    "    LLratio = row.sqft_living/row.sqft_lot\n",
    "    live_lot_ratio.append(LLratio)\n",
    "\n",
    "    if row.sqft_basement == 0: # sqft_basement is zero if there is no basement\n",
    "        lvl_ratios.append(0) # ratio should also be zero if there is no ratio\n",
    "    else:\n",
    "        lvl_ratio = row.sqft_above / row.sqft_basement # calculate ratio of space above grade vs below grade\n",
    "        lvl_ratios.append(lvl_ratio) # append ratio to the list\n",
    "\n",
    "X['bed_bath_ratio'] = bbratios # create new column and asign list as its values\n",
    "X['level_ratio'] = lvl_ratios # create new column and asign list as its values\n",
    "X['live_lot_ratio'] = live_lot_ratio # you get the idea . . . "
   ]
  },
  {
   "cell_type": "code",
   "execution_count": 13,
   "metadata": {},
   "outputs": [],
   "source": [
    "rel_live_space = []\n",
    "rel_lot_size = [] \n",
    "rel_difference = []\n",
    "\n",
    "for index,row in X.iterrows(): # for every record \n",
    "    live_dif = row.sqft_living - row.sqft_living15 # calculate difference in sqft of the given house and the nearest 15 other houses\n",
    "    rel_live_space.append(live_dif) # append it to the list\n",
    "\n",
    "    lot_dif = row.sqft_lot - row.sqft_lot15 # calculate difference in sqft of the given lot and the nearest 15 other lots\n",
    "    rel_lot_size.append(lot_dif) # append it to the list\n",
    "\n",
    "    lvl_dif = row.sqft_above - row.sqft_basement # calculate difference between space above grade and below grade\n",
    "    rel_difference.append(lvl_dif) # append it to the list\n",
    "\n",
    "X['relative_living_space'] = rel_live_space # assign respective list to new column \n",
    "X['relative_lot_size'] = rel_lot_size\n",
    "X['level_difference'] = rel_difference"
   ]
  },
  {
   "cell_type": "code",
   "execution_count": 14,
   "metadata": {},
   "outputs": [],
   "source": [
    "# X.columns\n",
    "# X.info()"
   ]
  },
  {
   "cell_type": "code",
   "execution_count": 15,
   "metadata": {},
   "outputs": [],
   "source": [
    "cor_df=X.corr().abs().stack().reset_index().sort_values(0, ascending=False)\n",
    "cor_df['pairs'] = list(zip(cor_df.level_0, cor_df.level_1))\n",
    "cor_df.set_index(['pairs'], inplace = True)\n",
    "cor_df.drop(columns=['level_1', 'level_0'], inplace = True)\n",
    "cor_df.columns = ['cc']\n",
    "cor_df.drop_duplicates(inplace=True)"
   ]
  },
  {
   "cell_type": "code",
   "execution_count": 16,
   "metadata": {},
   "outputs": [
    {
     "data": {
      "text/html": [
       "<div>\n",
       "<style scoped>\n",
       "    .dataframe tbody tr th:only-of-type {\n",
       "        vertical-align: middle;\n",
       "    }\n",
       "\n",
       "    .dataframe tbody tr th {\n",
       "        vertical-align: top;\n",
       "    }\n",
       "\n",
       "    .dataframe thead th {\n",
       "        text-align: right;\n",
       "    }\n",
       "</style>\n",
       "<table border=\"1\" class=\"dataframe\">\n",
       "  <thead>\n",
       "    <tr style=\"text-align: right;\">\n",
       "      <th></th>\n",
       "      <th>cc</th>\n",
       "    </tr>\n",
       "    <tr>\n",
       "      <th>pairs</th>\n",
       "      <th></th>\n",
       "    </tr>\n",
       "  </thead>\n",
       "  <tbody>\n",
       "    <tr>\n",
       "      <th>(sqft_above, level_difference)</th>\n",
       "      <td>0.887606</td>\n",
       "    </tr>\n",
       "    <tr>\n",
       "      <th>(sqft_above, sqft_living)</th>\n",
       "      <td>0.876678</td>\n",
       "    </tr>\n",
       "    <tr>\n",
       "      <th>(sqft_living15, sqft_living)</th>\n",
       "      <td>0.756389</td>\n",
       "    </tr>\n",
       "    <tr>\n",
       "      <th>(bathrooms, sqft_living)</th>\n",
       "      <td>0.755278</td>\n",
       "    </tr>\n",
       "    <tr>\n",
       "      <th>(relative_lot_size, sqft_lot)</th>\n",
       "      <td>0.754121</td>\n",
       "    </tr>\n",
       "    <tr>\n",
       "      <th>(sqft_living15, sqft_above)</th>\n",
       "      <td>0.731016</td>\n",
       "    </tr>\n",
       "    <tr>\n",
       "      <th>(sqft_lot, sqft_lot15)</th>\n",
       "      <td>0.720649</td>\n",
       "    </tr>\n",
       "    <tr>\n",
       "      <th>(bathrooms, sqft_above)</th>\n",
       "      <td>0.686456</td>\n",
       "    </tr>\n",
       "    <tr>\n",
       "      <th>(relative_living_space, sqft_living)</th>\n",
       "      <td>0.665513</td>\n",
       "    </tr>\n",
       "    <tr>\n",
       "      <th>(bathrooms, bed_bath_ratio)</th>\n",
       "      <td>0.654727</td>\n",
       "    </tr>\n",
       "  </tbody>\n",
       "</table>\n",
       "</div>"
      ],
      "text/plain": [
       "                                            cc\n",
       "pairs                                         \n",
       "(sqft_above, level_difference)        0.887606\n",
       "(sqft_above, sqft_living)             0.876678\n",
       "(sqft_living15, sqft_living)          0.756389\n",
       "(bathrooms, sqft_living)              0.755278\n",
       "(relative_lot_size, sqft_lot)         0.754121\n",
       "(sqft_living15, sqft_above)           0.731016\n",
       "(sqft_lot, sqft_lot15)                0.720649\n",
       "(bathrooms, sqft_above)               0.686456\n",
       "(relative_living_space, sqft_living)  0.665513\n",
       "(bathrooms, bed_bath_ratio)           0.654727"
      ]
     },
     "execution_count": 16,
     "metadata": {},
     "output_type": "execute_result"
    }
   ],
   "source": [
    "cor_df[(cor_df.cc>.60) & (cor_df.cc <1)]\n",
    "\n",
    "# is it a good decision to drop sqft_living in lieu of relative_living_space ???"
   ]
  },
  {
   "cell_type": "code",
   "execution_count": 17,
   "metadata": {},
   "outputs": [],
   "source": [
    "# columns to drop based one colinearity\n",
    "co_drops = ['sqft_living','sqft_above','sqft_living15','bathrooms','sqft_lot15','sqft_lot','level_ratio'] # included level ratio since its basically same as level difference"
   ]
  },
  {
   "cell_type": "code",
   "execution_count": 18,
   "metadata": {},
   "outputs": [],
   "source": [
    "Xd = X.drop(co_drops,axis=1)"
   ]
  },
  {
   "cell_type": "markdown",
   "metadata": {},
   "source": [
    "- investigage mapping zipcode, or coordinates to view ? Not enough coordinate info... \n",
    "- consider dropping zip/lot/long and then re running notebook from the top, (i.e. their presence may affect colinearity of other features?) \n",
    "    - did not affect colinearity but it cleaned up some clutter"
   ]
  },
  {
   "cell_type": "markdown",
   "metadata": {},
   "source": [
    "##### Linear Transformation and Feature ranking \n",
    "using standardization (x - x_bar / sigma) to normalize units of measurement\n",
    "\n",
    "investigate feature rankings using:\n",
    "- stepwise method\n",
    "- recursive elimination\n"
   ]
  },
  {
   "cell_type": "code",
   "execution_count": 19,
   "metadata": {},
   "outputs": [],
   "source": [
    "Xs = pd.DataFrame([]) # data standardized\n",
    "for feature in Xd.columns:\n",
    "    x_comp = (Xd[feature] - np.mean(Xd[feature])/np.std(Xd[feature])) # (x - x_bar)/sigma\n",
    "    Xs[feature] = x_comp "
   ]
  },
  {
   "cell_type": "code",
   "execution_count": 59,
   "metadata": {},
   "outputs": [],
   "source": [
    "Xlog = pd.DataFrame([]) # standardized data log transformed\n",
    "for feature in Xs.columns:\n",
    "    x_logged = np.log(Xs[feature])\n",
    "    Xlog[feature] = x_logged"
   ]
  },
  {
   "cell_type": "code",
   "execution_count": 75,
   "metadata": {},
   "outputs": [],
   "source": [
    "for column in Xlog:\n",
    "    Xlog[column].replace(np.NaN,0,inplace=True)"
   ]
  },
  {
   "cell_type": "markdown",
   "metadata": {},
   "source": [
    "Create a baseline model for refrence"
   ]
  },
  {
   "cell_type": "code",
   "execution_count": 76,
   "metadata": {},
   "outputs": [],
   "source": [
    "# baseline model \n",
    "# standard_model = run_OLS_model(Xs,y)\n",
    "log_model = run_OLS_model(Xlog,y)\n"
   ]
  },
  {
   "cell_type": "code",
   "execution_count": 58,
   "metadata": {},
   "outputs": [],
   "source": [
    "# Q-Q plots \n",
    "# for idx,feature in enumerate(Xd.columns):\n",
    "#     logged = np.log(Xd[feature])\n",
    "#     sm.qqplot(logged, line ='45')\n",
    "#     plt.title(feature)\n",
    "\n",
    "# plt.tight_layout()\n",
    "# plt.show()"
   ]
  },
  {
   "cell_type": "code",
   "execution_count": 78,
   "metadata": {},
   "outputs": [
    {
     "data": {
      "text/plain": [
       "(array([4.5000e+01, 1.3444e+04, 7.2560e+03, 3.2700e+02, 5.2000e+01,\n",
       "        1.1000e+01, 4.0000e+00, 1.0000e+00, 2.0000e+00, 1.0000e+00]),\n",
       " array([-1479558.57251858,  -721266.86776231,    37024.83699395,\n",
       "          795316.54175022,  1553608.24650648,  2311899.95126275,\n",
       "         3070191.65601901,  3828483.36077528,  4586775.06553154,\n",
       "         5345066.77028781,  6103358.47504407]),\n",
       " <BarContainer object of 10 artists>)"
      ]
     },
     "execution_count": 78,
     "metadata": {},
     "output_type": "execute_result"
    },
    {
     "data": {
      "image/png": "[encoded data removed]",
      "text/plain": [
       "<Figure size 432x288 with 1 Axes>"
      ]
     },
     "metadata": {},
     "output_type": "display_data"
    }
   ],
   "source": [
    "log_residuals = log_model.resid\n",
    "plt.hist(log_residuals)"
   ]
  },
  {
   "cell_type": "markdown",
   "metadata": {},
   "source": [
    "Stepwise selection method"
   ]
  },
  {
   "cell_type": "code",
   "execution_count": 22,
   "metadata": {},
   "outputs": [],
   "source": [
    "stepwisers = stepwise_selection(Xs, y, Xs.columns,threshold_in=0.01, threshold_out = 0.05, verbose=False)\n",
    "stepwised_df = Xs[stepwisers]\n",
    "\n",
    "# appears same as baseline \n",
    "# print_model(stepwised_df,y)"
   ]
  },
  {
   "cell_type": "markdown",
   "metadata": {},
   "source": [
    "Recursive elimation: with and without cross-validation"
   ]
  },
  {
   "cell_type": "code",
   "execution_count": 28,
   "metadata": {},
   "outputs": [],
   "source": [
    "selection, ranked = run_RFE(Xs,y)\n",
    "RFE_df = Xs[selection] # dataframe containing only features selected by recursive elimination\n",
    "\n",
    "# absolute garbage\n",
    "# print_model(RFE_df,y)"
   ]
  },
  {
   "cell_type": "code",
   "execution_count": 30,
   "metadata": {},
   "outputs": [],
   "source": [
    "selected, ranking = run_RFECV(Xs,y)\n",
    "RFECV_df = Xs[selected]\n",
    "\n",
    "# also identtical to baseline \n",
    "# print_model(RFECV_df,y)"
   ]
  },
  {
   "cell_type": "markdown",
   "metadata": {},
   "source": [
    "Manual selection based on P value and variance inflation factor"
   ]
  },
  {
   "cell_type": "code",
   "execution_count": 35,
   "metadata": {},
   "outputs": [],
   "source": [
    "good,bad = create_vif_dictionary(Xs)"
   ]
  },
  {
   "cell_type": "code",
   "execution_count": 37,
   "metadata": {},
   "outputs": [],
   "source": [
    "drop_Ps = Xs.drop(['relative_lot_size'],axis=1)\n",
    "drop_vifs = drop_Ps.drop(bad,axis=1)\n",
    "\n",
    "# print_model(drop_vifs,y) # trash\n"
   ]
  },
  {
   "cell_type": "code",
   "execution_count": null,
   "metadata": {},
   "outputs": [],
   "source": []
  }
 ],
 "metadata": {
  "kernelspec": {
   "display_name": "Python (learn-env)",
   "language": "python",
   "name": "learn-env"
  },
  "language_info": {
   "codemirror_mode": {
    "name": "ipython",
    "version": 3
   },
   "file_extension": ".py",
   "mimetype": "text/x-python",
   "name": "python",
   "nbconvert_exporter": "python",
   "pygments_lexer": "ipython3",
   "version": "3.8.3"
  }
 },
 "nbformat": 4,
 "nbformat_minor": 4
}
