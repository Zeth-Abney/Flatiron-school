{
 "cells": [
  {
   "cell_type": "code",
   "execution_count": 1,
   "metadata": {},
   "outputs": [],
   "source": [
    "import datetime as dt\n",
    "import pandas as pd\n",
    "import numpy as np"
   ]
  },
  {
   "cell_type": "markdown",
   "metadata": {},
   "source": [
    "Set up predictor and target dataframes, deal with unusable data"
   ]
  },
  {
   "cell_type": "code",
   "execution_count": 2,
   "metadata": {},
   "outputs": [],
   "source": [
    "X = pd.read_csv('data/kc_house_data.csv')\n",
    "y = X.price\n",
    "X.drop(X.loc[X['sqft_basement']=='?'].index,inplace=True) # remove '?' from the data.\n",
    "X.drop('price',inplace=True,axis=1)"
   ]
  },
  {
   "cell_type": "markdown",
   "metadata": {},
   "source": [
    "Engineer data to present as numerical values, not objects. "
   ]
  },
  {
   "cell_type": "code",
   "execution_count": 3,
   "metadata": {},
   "outputs": [],
   "source": [
    "# convert all string types into np floats\n",
    "X.sqft_basement = [float(sq) for sq in list(X.sqft_basement)]\n",
    "\n",
    "# Replaces grade strings with numerics based on data dict. \n",
    "grade_raws = list(X.grade.unique())\n",
    "# replaces a cell value with the int of the first character of its existing string\n",
    "for raw in grade_raws:\n",
    "    X.grade.replace(to_replace=raw,value=int(raw[0]),inplace=True)\n",
    "\n",
    "# replaces condition objects with numerics based on data dict.\n",
    "condition_dict = {'Poor':1,'Fair':2,'Average':3,'Good':4,'Very Good':5}\n",
    "for key in condition_dict:\n",
    "    X.condition.replace(to_replace=condition_dict,inplace=True)\n",
    "\n",
    "# replace yr_built NaNs with numeric 0\n",
    "X.yr_renovated.replace(to_replace=np.nan,value=0,inplace=True)"
   ]
  },
  {
   "cell_type": "code",
   "execution_count": 4,
   "metadata": {},
   "outputs": [],
   "source": [
    "# convert waterfront into numeric boolean\n",
    "waterfront_bool_list = []\n",
    "for value in X.waterfront:\n",
    "    if value == 'YES':\n",
    "        waterfront_bool_list.append(1)\n",
    "    else:\n",
    "        waterfront_bool_list.append(0) \n",
    "X.waterfront = waterfront_bool_list"
   ]
  },
  {
   "cell_type": "code",
   "execution_count": 5,
   "metadata": {},
   "outputs": [],
   "source": [
    "# convert view from string into categorical ordinal\n",
    "view_rank_list = [] \n",
    "view_dict = {'NONE':0,'FAIR':1,'AVERAGE':2,'GOOD':3,'EXCELLENT':4}\n",
    "\n",
    "for value in X.view:\n",
    "    if value in list(view_dict.keys()):\n",
    "        view_rank_list.append(view_dict[value])\n",
    "    else:\n",
    "        view_rank_list.append(0)\n",
    "X.view = view_rank_list"
   ]
  },
  {
   "cell_type": "markdown",
   "metadata": {},
   "source": [
    "Engineer date into a usable type of number (datetime ordinal)"
   ]
  },
  {
   "cell_type": "code",
   "execution_count": 6,
   "metadata": {},
   "outputs": [],
   "source": [
    "# convert dates into ordinals\n",
    "X.date = pd.to_datetime(X['date'])\n",
    "X.date = X['date'].map(dt.datetime.toordinal)"
   ]
  },
  {
   "cell_type": "code",
   "execution_count": 7,
   "metadata": {},
   "outputs": [],
   "source": [
    "null_dict = {}\n",
    "for feature in X.columns:\n",
    "    null_count = sum(X[feature].isna())\n",
    "    null_dict[feature] = null_count\n",
    "# null_dict"
   ]
  },
  {
   "cell_type": "markdown",
   "metadata": {},
   "source": [
    "Investigate multicolinearity before engineering inferred features"
   ]
  },
  {
   "cell_type": "code",
   "execution_count": 8,
   "metadata": {},
   "outputs": [],
   "source": [
    "# X.corr()\n",
    "cor_df=X.corr().abs().stack().reset_index().sort_values(0, ascending=False)\n",
    "cor_df['pairs'] = list(zip(cor_df.level_0, cor_df.level_1))\n",
    "cor_df.set_index(['pairs'], inplace = True)\n",
    "cor_df.drop(columns=['level_1', 'level_0'], inplace = True)\n",
    "cor_df.columns = ['cc']\n",
    "cor_df.drop_duplicates(inplace=True)"
   ]
  },
  {
   "cell_type": "code",
   "execution_count": 9,
   "metadata": {},
   "outputs": [
    {
     "data": {
      "text/html": [
       "<div>\n",
       "<style scoped>\n",
       "    .dataframe tbody tr th:only-of-type {\n",
       "        vertical-align: middle;\n",
       "    }\n",
       "\n",
       "    .dataframe tbody tr th {\n",
       "        vertical-align: top;\n",
       "    }\n",
       "\n",
       "    .dataframe thead th {\n",
       "        text-align: right;\n",
       "    }\n",
       "</style>\n",
       "<table border=\"1\" class=\"dataframe\">\n",
       "  <thead>\n",
       "    <tr style=\"text-align: right;\">\n",
       "      <th></th>\n",
       "      <th>cc</th>\n",
       "    </tr>\n",
       "    <tr>\n",
       "      <th>pairs</th>\n",
       "      <th></th>\n",
       "    </tr>\n",
       "  </thead>\n",
       "  <tbody>\n",
       "    <tr>\n",
       "      <th>(sqft_living, sqft_above)</th>\n",
       "      <td>0.876678</td>\n",
       "    </tr>\n",
       "    <tr>\n",
       "      <th>(sqft_living15, sqft_living)</th>\n",
       "      <td>0.756389</td>\n",
       "    </tr>\n",
       "    <tr>\n",
       "      <th>(sqft_living, bathrooms)</th>\n",
       "      <td>0.755278</td>\n",
       "    </tr>\n",
       "    <tr>\n",
       "      <th>(sqft_above, sqft_living15)</th>\n",
       "      <td>0.731016</td>\n",
       "    </tr>\n",
       "    <tr>\n",
       "      <th>(sqft_lot, sqft_lot15)</th>\n",
       "      <td>0.720649</td>\n",
       "    </tr>\n",
       "  </tbody>\n",
       "</table>\n",
       "</div>"
      ],
      "text/plain": [
       "                                    cc\n",
       "pairs                                 \n",
       "(sqft_living, sqft_above)     0.876678\n",
       "(sqft_living15, sqft_living)  0.756389\n",
       "(sqft_living, bathrooms)      0.755278\n",
       "(sqft_above, sqft_living15)   0.731016\n",
       "(sqft_lot, sqft_lot15)        0.720649"
      ]
     },
     "execution_count": 9,
     "metadata": {},
     "output_type": "execute_result"
    }
   ],
   "source": [
    "cor_df[(cor_df.cc>.70) & (cor_df.cc <1)]"
   ]
  },
  {
   "cell_type": "code",
   "execution_count": 10,
   "metadata": {},
   "outputs": [],
   "source": [
    "colinear_drops = ['sqft_above','sqft_living15','bathrooms','sqft_lot15']"
   ]
  },
  {
   "cell_type": "markdown",
   "metadata": {},
   "source": [
    "Engineering inferred feature\n",
    "- bed bath ratio: ratio of bedrooms to bathrooms\n",
    "- level ratios: ratio of square feet above 'grade' and below (ratio of everything else to the basement)\n",
    "- live_lot_ratio: ratio of living space to lot size\n",
    "- relative living space: ratio of living space to the living space of the nearest 15 houses (sqft_living :: sqft_living15)\n",
    "- relatve lot size: same as living space but for lot size instead. \n",
    "- level difference: difference in square footage of living space to basement space"
   ]
  },
  {
   "cell_type": "code",
   "execution_count": 11,
   "metadata": {},
   "outputs": [],
   "source": [
    "bbratios = []\n",
    "lvl_ratios = []\n",
    "live_lot_ratio = []\n",
    "\n",
    "for index,row in X.iterrows(): #iterate through every record\n",
    "#     print(row)\n",
    "    bbratio = row.bedrooms/row.bathrooms # calculate ratio of bedrooms to bathrooms\n",
    "    bbratios.append(bbratio) # append ratio to the list\n",
    "\n",
    "    LLratio = row.sqft_living/row.sqft_lot\n",
    "    live_lot_ratio.append(LLratio)\n",
    "\n",
    "    if row.sqft_basement == 0: # sqft_basement is zero if there is no basement\n",
    "        lvl_ratios.append(0) # ratio should also be zero if there is no ratio\n",
    "    else:\n",
    "        lvl_ratio = row.sqft_above / row.sqft_basement # calculate ratio of space above grade vs below grade\n",
    "        lvl_ratios.append(lvl_ratio) # append ratio to the list\n",
    "\n",
    "X['bed_bath_ratio'] = bbratios # create new column and asign list as its values\n",
    "X['level_ratio'] = lvl_ratios # create new column and asign list as its values\n",
    "X['live_lot_ratio'] = live_lot_ratio # you get the idea . . . "
   ]
  },
  {
   "cell_type": "code",
   "execution_count": 12,
   "metadata": {},
   "outputs": [],
   "source": [
    "rel_live_space = []\n",
    "rel_lot_size = [] \n",
    "rel_difference = []\n",
    "\n",
    "for index,row in X.iterrows(): # for every record \n",
    "    live_dif = row.sqft_living - row.sqft_living15 # calculate difference in sqft of the given house and the nearest 15 other houses\n",
    "    rel_live_space.append(live_dif) # append it to the list\n",
    "\n",
    "    lot_dif = row.sqft_lot - row.sqft_lot15 # calculate difference in sqft of the given lot and the nearest 15 other lots\n",
    "    rel_lot_size.append(lot_dif) # append it to the list\n",
    "\n",
    "    lvl_dif = row.sqft_above - row.sqft_basement # calculate difference between space above grade and below grade\n",
    "    rel_difference.append(lvl_dif) # append it to the list\n",
    "\n",
    "X['relative_living_space'] = rel_live_space # assign respective list to new column \n",
    "X['relative_lot_size'] = rel_lot_size\n",
    "X['level_difference'] = rel_difference"
   ]
  },
  {
   "cell_type": "code",
   "execution_count": 13,
   "metadata": {},
   "outputs": [
    {
     "data": {
      "text/plain": [
       "Index(['id', 'date', 'bedrooms', 'bathrooms', 'sqft_living', 'sqft_lot',\n",
       "       'floors', 'waterfront', 'view', 'condition', 'grade', 'sqft_above',\n",
       "       'sqft_basement', 'yr_built', 'yr_renovated', 'zipcode', 'lat', 'long',\n",
       "       'sqft_living15', 'sqft_lot15', 'bed_bath_ratio', 'level_ratio',\n",
       "       'live_lot_ratio', 'relative_living_space', 'relative_lot_size',\n",
       "       'level_difference'],\n",
       "      dtype='object')"
      ]
     },
     "execution_count": 13,
     "metadata": {},
     "output_type": "execute_result"
    }
   ],
   "source": [
    "X.columns"
   ]
  },
  {
   "cell_type": "code",
   "execution_count": 14,
   "metadata": {},
   "outputs": [],
   "source": [
    "cor_df=X.corr().abs().stack().reset_index().sort_values(0, ascending=False)\n",
    "cor_df['pairs'] = list(zip(cor_df.level_0, cor_df.level_1))\n",
    "cor_df.set_index(['pairs'], inplace = True)\n",
    "cor_df.drop(columns=['level_1', 'level_0'], inplace = True)\n",
    "cor_df.columns = ['cc']\n",
    "cor_df.drop_duplicates(inplace=True)"
   ]
  },
  {
   "cell_type": "code",
   "execution_count": 15,
   "metadata": {},
   "outputs": [
    {
     "data": {
      "text/html": [
       "<div>\n",
       "<style scoped>\n",
       "    .dataframe tbody tr th:only-of-type {\n",
       "        vertical-align: middle;\n",
       "    }\n",
       "\n",
       "    .dataframe tbody tr th {\n",
       "        vertical-align: top;\n",
       "    }\n",
       "\n",
       "    .dataframe thead th {\n",
       "        text-align: right;\n",
       "    }\n",
       "</style>\n",
       "<table border=\"1\" class=\"dataframe\">\n",
       "  <thead>\n",
       "    <tr style=\"text-align: right;\">\n",
       "      <th></th>\n",
       "      <th>cc</th>\n",
       "    </tr>\n",
       "    <tr>\n",
       "      <th>pairs</th>\n",
       "      <th></th>\n",
       "    </tr>\n",
       "  </thead>\n",
       "  <tbody>\n",
       "    <tr>\n",
       "      <th>(level_difference, sqft_above)</th>\n",
       "      <td>0.887606</td>\n",
       "    </tr>\n",
       "    <tr>\n",
       "      <th>(sqft_living, sqft_above)</th>\n",
       "      <td>0.876678</td>\n",
       "    </tr>\n",
       "    <tr>\n",
       "      <th>(sqft_living, sqft_living15)</th>\n",
       "      <td>0.756389</td>\n",
       "    </tr>\n",
       "    <tr>\n",
       "      <th>(bathrooms, sqft_living)</th>\n",
       "      <td>0.755278</td>\n",
       "    </tr>\n",
       "    <tr>\n",
       "      <th>(sqft_lot, relative_lot_size)</th>\n",
       "      <td>0.754121</td>\n",
       "    </tr>\n",
       "    <tr>\n",
       "      <th>(sqft_living15, sqft_above)</th>\n",
       "      <td>0.731016</td>\n",
       "    </tr>\n",
       "    <tr>\n",
       "      <th>(sqft_lot15, sqft_lot)</th>\n",
       "      <td>0.720649</td>\n",
       "    </tr>\n",
       "  </tbody>\n",
       "</table>\n",
       "</div>"
      ],
      "text/plain": [
       "                                      cc\n",
       "pairs                                   \n",
       "(level_difference, sqft_above)  0.887606\n",
       "(sqft_living, sqft_above)       0.876678\n",
       "(sqft_living, sqft_living15)    0.756389\n",
       "(bathrooms, sqft_living)        0.755278\n",
       "(sqft_lot, relative_lot_size)   0.754121\n",
       "(sqft_living15, sqft_above)     0.731016\n",
       "(sqft_lot15, sqft_lot)          0.720649"
      ]
     },
     "execution_count": 15,
     "metadata": {},
     "output_type": "execute_result"
    }
   ],
   "source": [
    "cor_df[(cor_df.cc>.70) & (cor_df.cc <1)]"
   ]
  }
 ],
 "metadata": {
  "kernelspec": {
   "display_name": "Python (learn-env)",
   "language": "python",
   "name": "learn-env"
  },
  "language_info": {
   "codemirror_mode": {
    "name": "ipython",
    "version": 3
   },
   "file_extension": ".py",
   "mimetype": "text/x-python",
   "name": "python",
   "nbconvert_exporter": "python",
   "pygments_lexer": "ipython3",
   "version": "3.8.3"
  }
 },
 "nbformat": 4,
 "nbformat_minor": 4
}
