{
 "cells": [
  {
   "cell_type": "code",
   "execution_count": 1,
   "metadata": {},
   "outputs": [],
   "source": [
    "import pandas as pd"
   ]
  },
  {
   "cell_type": "code",
   "execution_count": 2,
   "metadata": {},
   "outputs": [],
   "source": [
    "df = pd.read_csv('data/cleaned_kc.csv')"
   ]
  },
  {
   "cell_type": "code",
   "execution_count": 4,
   "metadata": {},
   "outputs": [
    {
     "name": "stdout",
     "output_type": "stream",
     "text": [
      "<class 'pandas.core.frame.DataFrame'>\n",
      "RangeIndex: 21143 entries, 0 to 21142\n",
      "Data columns (total 23 columns):\n",
      " #   Column                 Non-Null Count  Dtype  \n",
      "---  ------                 --------------  -----  \n",
      " 0   id                     21143 non-null  int64  \n",
      " 1   date                   21143 non-null  object \n",
      " 2   price                  21143 non-null  float64\n",
      " 3   bedrooms               21143 non-null  int64  \n",
      " 4   bathrooms              21143 non-null  float64\n",
      " 5   sqft_living            21143 non-null  int64  \n",
      " 6   sqft_lot               21143 non-null  int64  \n",
      " 7   floors                 21143 non-null  float64\n",
      " 8   condition              21143 non-null  int64  \n",
      " 9   grade                  21143 non-null  int64  \n",
      " 10  sqft_above             21143 non-null  int64  \n",
      " 11  sqft_basement          21143 non-null  float64\n",
      " 12  yr_built               21143 non-null  int64  \n",
      " 13  zipcode                21143 non-null  int64  \n",
      " 14  sqft_living15          21143 non-null  int64  \n",
      " 15  sqft_lot15             21143 non-null  int64  \n",
      " 16  age                    21143 non-null  object \n",
      " 17  day_of_year            21143 non-null  int64  \n",
      " 18  bed_bath_ratio         21143 non-null  float64\n",
      " 19  level_ratio            21143 non-null  float64\n",
      " 20  relative_living_space  21143 non-null  int64  \n",
      " 21  relative_lot_size      21143 non-null  int64  \n",
      " 22  level_difference       21143 non-null  float64\n",
      "dtypes: float64(7), int64(14), object(2)\n",
      "memory usage: 3.7+ MB\n"
     ]
    }
   ],
   "source": [
    "df.info()"
   ]
  },
  {
   "cell_type": "code",
   "execution_count": null,
   "metadata": {},
   "outputs": [],
   "source": []
  }
 ],
 "metadata": {
  "kernelspec": {
   "display_name": "Python (learn-env)",
   "language": "python",
   "name": "learn-env"
  },
  "language_info": {
   "codemirror_mode": {
    "name": "ipython",
    "version": 3
   },
   "file_extension": ".py",
   "mimetype": "text/x-python",
   "name": "python",
   "nbconvert_exporter": "python",
   "pygments_lexer": "ipython3",
   "version": "3.8.3"
  }
 },
 "nbformat": 4,
 "nbformat_minor": 4
}
