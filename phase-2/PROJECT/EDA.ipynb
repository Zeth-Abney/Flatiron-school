{
 "cells": [
  {
   "cell_type": "markdown",
   "metadata": {},
   "source": [
    "# Import packages and define functions"
   ]
  },
  {
   "cell_type": "code",
   "execution_count": 1,
   "metadata": {},
   "outputs": [],
   "source": [
    "# data visualiztion\n",
    "import matplotlib.pyplot as plt\n",
    "import seaborn as sns\n",
    "\n",
    "# raw data handling\n",
    "import pandas as pd\n",
    "import numpy as np\n",
    "import datetime as dt\n",
    "\n",
    "# regression models\n",
    "import statsmodels.api as sm\n",
    "import statsmodels.formula.api as smf\n",
    "import statsmodels.stats.api as sms \n",
    "from statsmodels.formula.api import ols\n",
    "import scipy.stats as stats\n",
    "\n",
    "# Feature selection\n",
    "from sklearn.feature_selection import RFE\n",
    "from sklearn.feature_selection import RFECV\n",
    "\n",
    "# model validation\n",
    "from sklearn.linear_model import LinearRegression\n",
    "from sklearn.model_selection import train_test_split \n",
    "from sklearn.model_selection import cross_val_score\n",
    "\n",
    "# Variance inflation factor, mean abs/squarred error\n",
    "from sklearn.metrics import mean_absolute_error, mean_squared_error\n",
    "from statsmodels.stats.outliers_influence import variance_inflation_factor\n",
    "\n",
    "import warnings # weird sns.distplot() warnings\n",
    "warnings.filterwarnings(\"ignore\")\n",
    "\n",
    "# make stuff look cooler\n",
    "plt.style.use('fivethirtyeight')"
   ]
  },
  {
   "cell_type": "code",
   "execution_count": 2,
   "metadata": {},
   "outputs": [],
   "source": [
    "# creates dictionary of variance inflation factors. \n",
    "def create_vif_list(X):\n",
    "    X = sm.add_constant(X)\n",
    "    vif_dict = {}\n",
    "\n",
    "    for i in range(len(X.columns)):\n",
    "        vif = variance_inflation_factor(X.values, i)\n",
    "        v = X.columns[i]\n",
    "        vif_dict[v] = vif\n",
    "\n",
    "    good_vifs = []\n",
    "    bad_vifs = []\n",
    "\n",
    "    for k,v in vif_dict.items():\n",
    "        if v < 10:\n",
    "            good_vifs.append(k)\n",
    "        else:\n",
    "            bad_vifs.append(k)\n",
    "\n",
    "    return good_vifs,bad_vifs\n",
    "\n",
    "def create_vif_dictionary(X):\n",
    "    X = sm.add_constant(X)\n",
    "    vif_dict = {}\n",
    "\n",
    "    for i in range(len(X.columns)):\n",
    "        vif = variance_inflation_factor(X.values, i)\n",
    "        v = X.columns[i]\n",
    "        vif_dict[v] = vif\n",
    "\n",
    "    return vif_dict\n",
    "\n",
    "# create a dictionary showing the adjusted R-squared values for each feature individually\n",
    "def create_R2_dictionary(X,y):\n",
    "\n",
    "    adj_R_squares = {}\n",
    "\n",
    "    for feature in X.columns:\n",
    "        predictors_int = sm.add_constant(X[feature])\n",
    "        model = sm.OLS(y,predictors_int).fit()\n",
    "        adj_R_square = float(model.summary2().tables[0][3][0])\n",
    "        adj_R_squares[feature] = adj_R_square\n",
    "        \n",
    "    return adj_R_squares\n",
    "\n",
    "# author's docstring is in a markup cell down below in the stepwise selection section\n",
    "def stepwise_selection(X, y, \n",
    "                       initial_list=[], \n",
    "                       threshold_in=0.01, \n",
    "                       threshold_out = 0.05, \n",
    "                       verbose=True):\n",
    "    included = list(initial_list)\n",
    "\n",
    "    while True:\n",
    "        changed=False\n",
    "        # forward step\n",
    "        excluded = list(set(X.columns)-set(included))\n",
    "        new_pval = pd.Series(index=excluded)\n",
    "        for new_column in excluded:\n",
    "            model = sm.OLS(y, sm.add_constant(pd.DataFrame(X[included+[new_column]]))).fit()\n",
    "            new_pval[new_column] = model.pvalues[new_column]\n",
    "        best_pval = new_pval.min()\n",
    "        if best_pval < threshold_in:\n",
    "            best_feature = new_pval.idxmin()\n",
    "            included.append(best_feature)\n",
    "            changed=True\n",
    "            if verbose:\n",
    "                print('Add  {:30} with p-value {:.6}'.format(best_feature, best_pval))\n",
    "        # backward step\n",
    "        model = sm.OLS(y, sm.add_constant(pd.DataFrame(X[included]))).fit()\n",
    "        # use all coefs except intercept\n",
    "        pvalues = model.pvalues.iloc[1:]\n",
    "        worst_pval = pvalues.max() # null if pvalues is empty\n",
    "        if worst_pval > threshold_out:\n",
    "            changed=True\n",
    "            worst_feature = pvalues.argmax()\n",
    "            worst_feature_name = included[worst_feature]\n",
    "            included.pop(worst_feature)\n",
    "            if verbose:\n",
    "                print('Drop {:30} with p-value {:.6}'.format(worst_feature_name, worst_pval))\n",
    "        if not changed:\n",
    "            break\n",
    "    return included\n",
    "\n",
    "# recursive feature elimination\n",
    "def run_RFE(X,y,n=1):\n",
    "\n",
    "    linreg = LinearRegression()\n",
    "    selector = RFE(linreg,n_features_to_select=n)\n",
    "    selector = selector.fit(X, y)\n",
    "\n",
    "    selected = selector.support_ # list of bools representing if feature is selected or not\n",
    "    selections = [] # list of column names that are selected\n",
    "    labels = list(X.columns) # list of all column names \n",
    "\n",
    "    for idx,feature in enumerate(selected): # append labels of selected features to selections list\n",
    "        if feature == True:\n",
    "            selections.append(labels[idx])\n",
    "        else:\n",
    "            pass\n",
    "    \n",
    "    ranked = selector.ranking_ # list of bools representing if feature is selected or not\n",
    "    rankers = [] # list of column names that are selected\n",
    "    labels = list(X.columns) # list of all column names \n",
    "\n",
    "    for idx,feature in enumerate(ranked): # append labels of selected features to selections list\n",
    "        if feature == 1:\n",
    "            rankers.append(labels[idx])\n",
    "        else:\n",
    "            pass\n",
    "    return selections, rankers\n",
    "\n",
    "# recuersive feature elimination with cross validation\n",
    "def run_RFECV(X,y,select_rank=False):\n",
    "\n",
    "    linreg = LinearRegression()\n",
    "    selector = RFECV(linreg)\n",
    "    selector = selector.fit(X, y)\n",
    "\n",
    "    selected = selector.support_ # list of bools representing if feature is selected or not\n",
    "    selections = [] # list of column names that are selected\n",
    "    labels = list(X.columns) # list of all column names \n",
    "\n",
    "    for idx,feature in enumerate(selected): # append labels of selected features to selections list\n",
    "        if feature == True:\n",
    "            selections.append(labels[idx])\n",
    "        else:\n",
    "            pass\n",
    "    \n",
    "    ranked = selector.ranking_ # list of bools representing if feature is selected or not\n",
    "    rankers = [] # list of column names that are selected\n",
    "    labels = list(X.columns) # list of all column names \n",
    "\n",
    "    for idx,feature in enumerate(ranked): # append labels of selected features to selections list\n",
    "        if feature == 1:\n",
    "            rankers.append(labels[idx])\n",
    "        else:\n",
    "            pass\n",
    "\n",
    "    if select_rank == True:\n",
    "        return selections\n",
    "    else:\n",
    "        return rankers\n",
    "\n",
    "# returns OLS linear regression model\n",
    "def run_OLS_model(X,y):\n",
    "\n",
    "    predictors_int = sm.add_constant(X)\n",
    "    model = sm.OLS(y,predictors_int).fit()\n",
    "\n",
    "    return model\n",
    "\n",
    "# returns dictionary: keys are column labels, values are count of NaN values present\n",
    "def create_NaN_dictionary(X):\n",
    "\n",
    "    NaN_dict = {}\n",
    "\n",
    "    for feature in X.columns:\n",
    "        NaN_dict[feature] = sum(X[feature].isna())\n",
    "\n",
    "    return NaN_dict\n",
    "\n",
    "def create_CC_df(X,minimum=0,maximum=1):\n",
    "\n",
    "    cor_df=X.corr().abs().stack().reset_index().sort_values(0, ascending=False)\n",
    "    cor_df['pairs'] = list(zip(cor_df.level_0, cor_df.level_1))\n",
    "    cor_df.set_index(['pairs'], inplace = True)\n",
    "    cor_df.drop(columns=['level_1', 'level_0'], inplace = True)\n",
    "    cor_df.columns = ['cc']\n",
    "    cor_df.drop_duplicates(inplace=True)\n",
    "    cor_df = cor_df[(cor_df.cc>minimum) & (cor_df.cc < maximum)]\n",
    "    \n",
    "    return cor_df\n",
    "\n",
    "def model_strength_indicators(model):\n",
    "    indicator_dict = {\n",
    "    'r_squared':model.summary2().tables[0][3][0],\n",
    "    'skew':model.summary2().tables[2][1][2],\n",
    "    'kurtosis':model.summary2().tables[2][1][3],\n",
    "    'Durbin Watson':model.summary2().tables[2][3][0],\n",
    "    'Jarque-Bera':model.summary2().tables[2][3][1],\n",
    "    'P value':model.summary2().tables[2][3][2],\n",
    "    'Condition':model.summary2().tables[2][3][3]\n",
    "    }\n",
    "    return indicator_dict\n"
   ]
  },
  {
   "cell_type": "markdown",
   "metadata": {},
   "source": [
    "# Import data and prepare for exploration"
   ]
  },
  {
   "cell_type": "code",
   "execution_count": 3,
   "metadata": {},
   "outputs": [],
   "source": [
    "data = pd.read_csv('data/kc_house_data.csv')\n",
    "data.drop(data.loc[data['sqft_basement']=='?'].index,inplace=True) # remove '?' from the data."
   ]
  },
  {
   "cell_type": "markdown",
   "metadata": {},
   "source": [
    "##### Make object types numerical"
   ]
  },
  {
   "cell_type": "code",
   "execution_count": 4,
   "metadata": {},
   "outputs": [],
   "source": [
    "# convert all string types into np floats\n",
    "data.sqft_basement = [float(sq) for sq in list(data.sqft_basement)]\n",
    "\n",
    "# Replaces grade strings with numerics based on data dict. \n",
    "grade_raws = list(data.grade.unique())\n",
    "# replaces a cell value with the int of the first character of its existing string\n",
    "for raw in grade_raws:\n",
    "    data.grade.replace(to_replace=raw,value=int(raw[0]),inplace=True)\n",
    "\n",
    "# replaces condition objects with numerics based on data dict.\n",
    "condition_dict = {'Poor':1,'Fair':2,'Average':3,'Good':4,'Very Good':5}\n",
    "for key in condition_dict:\n",
    "    data.condition.replace(to_replace=condition_dict,inplace=True)\n",
    "\n",
    "# replace yr_built NaNs with numeric 0\n",
    "data.yr_renovated.replace(to_replace=np.nan,value=0,inplace=True)\n",
    "\n",
    "# convert waterfront into numeric boolean\n",
    "waterfront_bool_list = []\n",
    "\n",
    "for value in data.waterfront:\n",
    "    if value == 'YES':\n",
    "        waterfront_bool_list.append(1)\n",
    "    else:\n",
    "        waterfront_bool_list.append(0)\n",
    "        \n",
    "data.waterfront = waterfront_bool_list\n",
    "\n",
    "# convert view from string into categorical ordinal\n",
    "view_rank_list = [] \n",
    "view_dict = {'NONE':0,'FAIR':1,'AVERAGE':2,'GOOD':3,'EXCELLENT':4}\n",
    "\n",
    "for value in data.view:\n",
    "    if value in list(view_dict.keys()):\n",
    "        view_rank_list.append(view_dict[value])\n",
    "    else:\n",
    "        view_rank_list.append(0)\n",
    "        \n",
    "data.view = view_rank_list\n",
    "\n",
    "\n",
    "# convert dates into ordinals \n",
    "data.date = pd.to_datetime(data['date'])\n",
    "data.date = data['date'].map(dt.datetime.toordinal)"
   ]
  },
  {
   "cell_type": "code",
   "execution_count": 5,
   "metadata": {},
   "outputs": [
    {
     "name": "stdout",
     "output_type": "stream",
     "text": [
      "<class 'pandas.core.frame.DataFrame'>\n",
      "Int64Index: 21143 entries, 0 to 21596\n",
      "Data columns (total 21 columns):\n",
      " #   Column         Non-Null Count  Dtype  \n",
      "---  ------         --------------  -----  \n",
      " 0   id             21143 non-null  int64  \n",
      " 1   date           21143 non-null  int64  \n",
      " 2   price          21143 non-null  float64\n",
      " 3   bedrooms       21143 non-null  int64  \n",
      " 4   bathrooms      21143 non-null  float64\n",
      " 5   sqft_living    21143 non-null  int64  \n",
      " 6   sqft_lot       21143 non-null  int64  \n",
      " 7   floors         21143 non-null  float64\n",
      " 8   waterfront     21143 non-null  int64  \n",
      " 9   view           21143 non-null  int64  \n",
      " 10  condition      21143 non-null  int64  \n",
      " 11  grade          21143 non-null  int64  \n",
      " 12  sqft_above     21143 non-null  int64  \n",
      " 13  sqft_basement  21143 non-null  float64\n",
      " 14  yr_built       21143 non-null  int64  \n",
      " 15  yr_renovated   21143 non-null  float64\n",
      " 16  zipcode        21143 non-null  int64  \n",
      " 17  lat            21143 non-null  float64\n",
      " 18  long           21143 non-null  float64\n",
      " 19  sqft_living15  21143 non-null  int64  \n",
      " 20  sqft_lot15     21143 non-null  int64  \n",
      "dtypes: float64(7), int64(14)\n",
      "memory usage: 3.5 MB\n"
     ]
    }
   ],
   "source": [
    "# inspect data for any object types \n",
    "data.info()"
   ]
  },
  {
   "cell_type": "code",
   "execution_count": 6,
   "metadata": {},
   "outputs": [],
   "source": [
    "# declare target and predictor variables\n",
    "y = data.price \n",
    "X = data.drop('price',axis=1)"
   ]
  },
  {
   "cell_type": "markdown",
   "metadata": {},
   "source": [
    "# Create and visualize a baseline"
   ]
  },
  {
   "cell_type": "markdown",
   "metadata": {},
   "source": [
    "#### First round of feature selection and elimination\n",
    "- First select features based on P values using a forward-backward stepwise selection. \n",
    "- Then perform feature ranking with recursive feature elimination with cross validation.\n",
    "- Finally eliminate highly colinear features based on variance inflation factor and correlation coefficients."
   ]
  },
  {
   "cell_type": "code",
   "execution_count": 7,
   "metadata": {},
   "outputs": [],
   "source": [
    "# stepwise feature elmination\n",
    "stepwise_selected = stepwise_selection(X,y,verbose=False)\n",
    "X_base = X[stepwise_selected]"
   ]
  },
  {
   "cell_type": "code",
   "execution_count": 8,
   "metadata": {},
   "outputs": [],
   "source": [
    "# recursive feature elimination\n",
    "RFE_selection = run_RFECV(X_base,y)\n",
    "X_base = X_base[RFE_selection]"
   ]
  },
  {
   "cell_type": "code",
   "execution_count": 9,
   "metadata": {},
   "outputs": [],
   "source": [
    "# inspecting multicolinearity \n",
    "\n",
    "# eliminate features base on variance inflation factor\n",
    "good,bad = create_vif_list(X_base)\n",
    "X_base = X_base[good]\n"
   ]
  },
  {
   "cell_type": "code",
   "execution_count": 10,
   "metadata": {},
   "outputs": [
    {
     "data": {
      "text/html": [
       "<div>\n",
       "<style scoped>\n",
       "    .dataframe tbody tr th:only-of-type {\n",
       "        vertical-align: middle;\n",
       "    }\n",
       "\n",
       "    .dataframe tbody tr th {\n",
       "        vertical-align: top;\n",
       "    }\n",
       "\n",
       "    .dataframe thead th {\n",
       "        text-align: right;\n",
       "    }\n",
       "</style>\n",
       "<table border=\"1\" class=\"dataframe\">\n",
       "  <thead>\n",
       "    <tr style=\"text-align: right;\">\n",
       "      <th></th>\n",
       "      <th>cc</th>\n",
       "    </tr>\n",
       "    <tr>\n",
       "      <th>pairs</th>\n",
       "      <th></th>\n",
       "    </tr>\n",
       "  </thead>\n",
       "  <tbody>\n",
       "    <tr>\n",
       "      <th>(sqft_lot, sqft_lot15)</th>\n",
       "      <td>0.720649</td>\n",
       "    </tr>\n",
       "  </tbody>\n",
       "</table>\n",
       "</div>"
      ],
      "text/plain": [
       "                              cc\n",
       "pairs                           \n",
       "(sqft_lot, sqft_lot15)  0.720649"
      ]
     },
     "execution_count": 10,
     "metadata": {},
     "output_type": "execute_result"
    }
   ],
   "source": [
    "# not eliminating sqft_lot or sqft_lot15because the correlation coefficient is less than .75, I suspect at least one will be weeded out later on anyway. \n",
    "cc_df = create_CC_df(X_base,.6,1)\n",
    "cc_df"
   ]
  },
  {
   "cell_type": "code",
   "execution_count": 11,
   "metadata": {},
   "outputs": [],
   "source": [
    "base_model = run_OLS_model(X_base,y)\n",
    "base_resid = base_model.resid"
   ]
  },
  {
   "cell_type": "code",
   "execution_count": 12,
   "metadata": {},
   "outputs": [
    {
     "data": {
      "image/png": "[encoded data removed]",
      "text/plain": [
       "<Figure size 432x288 with 1 Axes>"
      ]
     },
     "metadata": {},
     "output_type": "display_data"
    }
   ],
   "source": [
    "sns.distplot(base_resid)\n",
    "plt.suptitle(\"Baseline model reisdual distribution\")\n",
    "plt.show()"
   ]
  },
  {
   "cell_type": "code",
   "execution_count": 13,
   "metadata": {},
   "outputs": [
    {
     "data": {
      "text/plain": [
       "{'r_squared': '0.626',\n",
       " 'skew': '3.821',\n",
       " 'kurtosis': '54.175',\n",
       " 'Durbin Watson': '1.994',\n",
       " 'Jarque-Bera': '2358627.117',\n",
       " 'P value': '0.000',\n",
       " 'Condition': '5099993113'}"
      ]
     },
     "execution_count": 13,
     "metadata": {},
     "output_type": "execute_result"
    }
   ],
   "source": [
    "base_model_strength = model_strength_indicators(base_model)\n",
    "base_model_strength"
   ]
  },
  {
   "cell_type": "markdown",
   "metadata": {},
   "source": [
    "##### Observations:\n",
    "\n",
    "Data is clearly not normally distributed. First step is to investigate impact of elimating outliers within the target variable based on the statistical maximum (IQR * 1.5)"
   ]
  },
  {
   "cell_type": "code",
   "execution_count": 14,
   "metadata": {},
   "outputs": [],
   "source": [
    "std_thresh = data.price.std()*3 # three standard deviations \n",
    "std_cap = data.loc[abs(data['price']) <= std_thresh] # slicing all data within the defined range\n",
    "\n",
    "#re-declare X and y variables\n",
    "y = std_cap.price\n",
    "X = std_cap[X_base.columns]"
   ]
  },
  {
   "cell_type": "markdown",
   "metadata": {},
   "source": [
    "Inspect resulting model "
   ]
  },
  {
   "cell_type": "code",
   "execution_count": 15,
   "metadata": {},
   "outputs": [],
   "source": [
    "# build model and grab residuals\n",
    "outlier_model = run_OLS_model(X,y)\n",
    "outlier_residual = outlier_model.resid"
   ]
  },
  {
   "cell_type": "code",
   "execution_count": 16,
   "metadata": {},
   "outputs": [
    {
     "data": {
      "image/png": "[encoded data removed]",
      "text/plain": [
       "<Figure size 432x288 with 1 Axes>"
      ]
     },
     "metadata": {},
     "output_type": "display_data"
    }
   ],
   "source": [
    "# visualize model residuals\n",
    "sns.distplot(outlier_residual)\n",
    "plt.suptitle('Residual distribution after eliminating outliers')\n",
    "plt.show()"
   ]
  },
  {
   "cell_type": "code",
   "execution_count": 17,
   "metadata": {},
   "outputs": [
    {
     "data": {
      "text/plain": [
       "{'r_squared': '0.607',\n",
       " 'skew': '0.589',\n",
       " 'kurtosis': '4.241',\n",
       " 'Durbin Watson': '1.974',\n",
       " 'Jarque-Bera': '2435.491',\n",
       " 'P value': '0.000',\n",
       " 'Condition': '5108350008'}"
      ]
     },
     "execution_count": 17,
     "metadata": {},
     "output_type": "execute_result"
    }
   ],
   "source": [
    "outlier_strength = model_strength_indicators(outlier_model)\n",
    "outlier_strength"
   ]
  },
  {
   "cell_type": "markdown",
   "metadata": {},
   "source": [
    "Observations: \n",
    "- Indicators of normality slightly improved but still needs work.\n",
    "- skew is close to zero, kurtosis is slightly heavy\n",
    "- r-squared has improved\n",
    "- jarque-bera is fairly high\n",
    "- some signs of multi-colinearity\n",
    "\n",
    "Next step is to investigate the impact of log transforming the target variable"
   ]
  },
  {
   "cell_type": "code",
   "execution_count": 18,
   "metadata": {},
   "outputs": [],
   "source": [
    "# create log transformed target variable\n",
    "y_log = np.log(y)"
   ]
  },
  {
   "cell_type": "code",
   "execution_count": 19,
   "metadata": {},
   "outputs": [
    {
     "data": {
      "image/png": "[encoded data removed]",
      "text/plain": [
       "<Figure size 432x288 with 4 Axes>"
      ]
     },
     "metadata": {},
     "output_type": "display_data"
    }
   ],
   "source": [
    "fig,axes = plt.subplots(2,2)\n",
    "\n",
    "sns.boxplot(y,ax=axes[0,0]) # boxplot before\n",
    "sns.distplot(y,ax=axes[0,1]) # distplot before\n",
    "\n",
    "sns.boxplot(y_log,ax=axes[1,0]) # boxplot after\n",
    "sns.distplot(y_log,ax=axes[1,1]) # boxplot after\n",
    "\n",
    "fig.suptitle(\"Target distribution before and after log transformation\")\n",
    "plt.tight_layout()\n",
    "plt.show()"
   ]
  },
  {
   "cell_type": "markdown",
   "metadata": {},
   "source": [
    "Continue feature ranking, selection and elimination with log transformed target variable"
   ]
  },
  {
   "cell_type": "code",
   "execution_count": 20,
   "metadata": {},
   "outputs": [],
   "source": [
    "stepwise_selected = stepwise_selection(X,y_log,verbose=False)\n",
    "X = X[stepwise_selected]"
   ]
  },
  {
   "cell_type": "code",
   "execution_count": 21,
   "metadata": {},
   "outputs": [],
   "source": [
    "RFE_selection = run_RFECV(X,y)\n",
    "X = X[RFE_selection]"
   ]
  },
  {
   "cell_type": "code",
   "execution_count": 22,
   "metadata": {},
   "outputs": [],
   "source": [
    "good,bad = create_vif_list(X)\n",
    "X = X[good]"
   ]
  },
  {
   "cell_type": "code",
   "execution_count": 23,
   "metadata": {},
   "outputs": [
    {
     "data": {
      "text/html": [
       "<div>\n",
       "<style scoped>\n",
       "    .dataframe tbody tr th:only-of-type {\n",
       "        vertical-align: middle;\n",
       "    }\n",
       "\n",
       "    .dataframe tbody tr th {\n",
       "        vertical-align: top;\n",
       "    }\n",
       "\n",
       "    .dataframe thead th {\n",
       "        text-align: right;\n",
       "    }\n",
       "</style>\n",
       "<table border=\"1\" class=\"dataframe\">\n",
       "  <thead>\n",
       "    <tr style=\"text-align: right;\">\n",
       "      <th></th>\n",
       "      <th>cc</th>\n",
       "    </tr>\n",
       "    <tr>\n",
       "      <th>pairs</th>\n",
       "      <th></th>\n",
       "    </tr>\n",
       "  </thead>\n",
       "  <tbody>\n",
       "  </tbody>\n",
       "</table>\n",
       "</div>"
      ],
      "text/plain": [
       "Empty DataFrame\n",
       "Columns: [cc]\n",
       "Index: []"
      ]
     },
     "execution_count": 23,
     "metadata": {},
     "output_type": "execute_result"
    }
   ],
   "source": [
    "outlier_cor_df = create_CC_df(X,.6,1)\n",
    "outlier_cor_df"
   ]
  },
  {
   "cell_type": "code",
   "execution_count": 24,
   "metadata": {},
   "outputs": [],
   "source": [
    "log_model = run_OLS_model(X,y_log)\n",
    "log_residuals = log_model.resid"
   ]
  },
  {
   "cell_type": "code",
   "execution_count": 25,
   "metadata": {},
   "outputs": [
    {
     "data": {
      "image/png": "[encoded data removed]",
      "text/plain": [
       "<Figure size 432x288 with 1 Axes>"
      ]
     },
     "metadata": {},
     "output_type": "display_data"
    }
   ],
   "source": [
    "# visualize model residuals\n",
    "sns.distplot(outlier_residual)\n",
    "plt.suptitle('Residuals distribution after log transforming target variable')\n",
    "plt.show()"
   ]
  },
  {
   "cell_type": "code",
   "execution_count": 26,
   "metadata": {},
   "outputs": [
    {
     "data": {
      "text/plain": [
       "{'r_squared': '0.635',\n",
       " 'skew': '-0.154',\n",
       " 'kurtosis': '3.759',\n",
       " 'Durbin Watson': '1.986',\n",
       " 'Jarque-Bera': '557.856',\n",
       " 'P value': '0.000',\n",
       " 'Condition': '5107081200'}"
      ]
     },
     "execution_count": 26,
     "metadata": {},
     "output_type": "execute_result"
    }
   ],
   "source": [
    "log_model_strength = model_strength_indicators(log_model)\n",
    "log_model_strength"
   ]
  },
  {
   "cell_type": "markdown",
   "metadata": {},
   "source": [
    "Observations: After eliminating outliers, log transforming the target variable, and another round of feature selection and elimination. \n",
    "- The model continues to improve. \n",
    "- Next steps will be to Engineer new features and investigate how they impact the model performance. "
   ]
  },
  {
   "cell_type": "markdown",
   "metadata": {},
   "source": [
    "# Engineering new features to further improve the model\n",
    "\n",
    "- First new features will be engineered by joining IRS data on income by zipcode.\n",
    "- two categorical variables will be one-hot encoded (waterfront location, and tax bracket)  \n",
    "- Lastly, new feature may be developed by interpolating existing feature of data. "
   ]
  },
  {
   "cell_type": "markdown",
   "metadata": {},
   "source": [
    "Features created from joining external data"
   ]
  },
  {
   "cell_type": "code",
   "execution_count": 27,
   "metadata": {},
   "outputs": [],
   "source": [
    "# Dictionary with zipcodes associated with waterfronts described by the data dictionary\n",
    "water_loc_dict = {'Duwamish':[98168],\n",
    "'Elliott Bay':[98119,98104,98129,98132,98127,98125,98195,98101,98134,98170,98139,98131,98181], \n",
    "'Puget Sound':[98071,98083,98013,98070,98031,98131,98063,98195,98207,98190], \n",
    "'Lake Union':[98109], \n",
    "'Ship Canal':[00000], \n",
    "'Lake Washington':[98072,98077], \n",
    "'Lake Sammamish':[98074,98075,98029], \n",
    "'other lake':[00000], \n",
    "'river/slough waterfronts':[00000]}\n",
    "\n",
    "# list to contain new column data\n",
    "waterfront_list = []\n",
    "\n",
    "# for loop to assign waterfront based on zipcode\n",
    "for zipcode in X.zipcode:\n",
    "    for k,v in water_loc_dict.items():\n",
    "        if zipcode in v:\n",
    "            waterfront_list.append(k)\n",
    "            appended = True\n",
    "            break\n",
    "        else: \n",
    "            appended = False\n",
    "    if not appended:\n",
    "        waterfront_list.append('NONE')\n",
    "\n",
    "# print(len(waterfront_list),set(waterfront_list))\n",
    "X['waterfront_loc'] = waterfront_list"
   ]
  },
  {
   "cell_type": "code",
   "execution_count": 28,
   "metadata": {},
   "outputs": [],
   "source": [
    "# IRS income tax data from data.world \n",
    "# https://data.world/jonloyens/irs-income-by-zip-code/workspace/query?queryid=0491f7ff-f7e5-49be-ad8c-8047d6a54c57\n",
    "\n",
    "income = pd.read_csv('data/irs_income_by_zipcode.csv')\n",
    "\n",
    "income.avg_taxable_income = income.avg_taxable_income*1000 # scaling data back to dollar units (was in thousands)\n",
    "income.taxable_income_amount = income.taxable_income_amount*1000 \n",
    "income.rename({'taxable_income_amount':'zip_tax_revenue'},axis=1,inplace=True) # renaming to something more idiomatic\n",
    "\n",
    "# # create lists to stage data in order to concat new columns later\n",
    "joint_filing_bracket = [] #for the joint filing tax schedule\n",
    "\n",
    "# there is probably a more \"pythony\" way to do this for loop but it works so I'm not touching it \n",
    "for average in income.avg_taxable_income:\n",
    "    if average > 628301:\n",
    "        joint_filing_bracket.append(7)\n",
    "    elif average <= 19900:\n",
    "        joint_filing_bracket.append(1)\n",
    "    elif (average >= 19901) and (average <= 81050):\n",
    "        joint_filing_bracket.append(2)\n",
    "    elif (average >= 81051) and (average <= 172750):\n",
    "        joint_filing_bracket.append(3)\n",
    "    elif (average >= 172751) and (average <= 329850):\n",
    "        joint_filing_bracket.append(4)\n",
    "    elif (average >= 329851) and (average <= 418850):\n",
    "        joint_filing_bracket.append(5)\n",
    "    elif (average >= 418851) and (average <= 628300):\n",
    "        joint_filing_bracket.append(6)\n",
    "\n",
    "# assign discovered data to new column\n",
    "income['joint_filing_tax_bracket'] = joint_filing_bracket\n",
    "\n",
    "# create dictionary of zipcodes with corresponding tax bracket\n",
    "# dictionary will be used to assign create similar columns in the principal data.\n",
    "joint_filing_tax_dict = {}\n",
    "tax_revenue_dict = {}\n",
    "\n",
    "# create ditionaries to later assign values to principal data\n",
    "for row in income.iterrows():\n",
    "    joint_filing_tax_dict[row[1][0]] = row[1][3]\n",
    "    tax_revenue_dict[row[1][0]] = row[1][1]\n",
    "\n",
    "# concat columns to X containing tax bracket based on single and joint filing federal income tax schedule\n",
    "X['income_tax_bracket'] = X.zipcode.replace(to_replace=joint_filing_tax_dict) # joint filing\n",
    "X['zip_tax_revenue'] = X.zipcode.replace(to_replace=tax_revenue_dict)\n"
   ]
  },
  {
   "cell_type": "code",
   "execution_count": 29,
   "metadata": {},
   "outputs": [],
   "source": [
    "# create dummy variables\n",
    "waterfront_dummies = pd.get_dummies(X.waterfront_loc,prefix='waterfront',prefix_sep='_').drop('waterfront_NONE',axis=1)\n",
    "bracket_dummies = pd.get_dummies(X.income_tax_bracket,drop_first=True,prefix='income_tax',prefix_sep='_')\n",
    "\n",
    "# reasign X to concatenated dataframe, dropping features no longer needed\n",
    "X = X.drop(['waterfront_loc','zipcode'],axis=1)\n",
    "X = pd.concat([X,bracket_dummies,waterfront_dummies],axis=1)"
   ]
  },
  {
   "cell_type": "markdown",
   "metadata": {},
   "source": [
    "### create baseline for engineered features"
   ]
  },
  {
   "cell_type": "code",
   "execution_count": 30,
   "metadata": {},
   "outputs": [],
   "source": [
    "hot_base = run_OLS_model(X,y_log)\n",
    "resid = hot_base.resid"
   ]
  },
  {
   "cell_type": "code",
   "execution_count": 31,
   "metadata": {},
   "outputs": [
    {
     "data": {
      "image/png": "[encoded data removed]",
      "text/plain": [
       "<Figure size 432x288 with 1 Axes>"
      ]
     },
     "metadata": {},
     "output_type": "display_data"
    }
   ],
   "source": [
    "sns.distplot(resid)\n",
    "plt.show()"
   ]
  },
  {
   "cell_type": "code",
   "execution_count": 32,
   "metadata": {},
   "outputs": [
    {
     "data": {
      "text/plain": [
       "{'r_squared': '0.721',\n",
       " 'skew': '-0.132',\n",
       " 'kurtosis': '4.627',\n",
       " 'Durbin Watson': '1.991',\n",
       " 'Jarque-Bera': '2260.617',\n",
       " 'P value': '0.000',\n",
       " 'Condition': '2448127845425563'}"
      ]
     },
     "execution_count": 32,
     "metadata": {},
     "output_type": "execute_result"
    }
   ],
   "source": [
    "hot_base_stregnth = model_strength_indicators(hot_base)\n",
    "hot_base_stregnth"
   ]
  },
  {
   "cell_type": "markdown",
   "metadata": {},
   "source": [
    "Continue to rank, select and eliminate features. "
   ]
  },
  {
   "cell_type": "code",
   "execution_count": 33,
   "metadata": {},
   "outputs": [],
   "source": [
    "stepwise_selections = stepwise_selection(X,y_log,verbose=False)\n",
    "X = X[stepwise_selections]"
   ]
  },
  {
   "cell_type": "code",
   "execution_count": 34,
   "metadata": {},
   "outputs": [],
   "source": [
    "rfecv_selections = run_RFECV(X,y_log)\n",
    "X = X[rfecv_selections]"
   ]
  },
  {
   "cell_type": "code",
   "execution_count": 35,
   "metadata": {},
   "outputs": [],
   "source": [
    "good,bad = create_vif_list(X)\n",
    "X = X[good[1:]]"
   ]
  },
  {
   "cell_type": "code",
   "execution_count": 36,
   "metadata": {},
   "outputs": [],
   "source": [
    "hot_model = run_OLS_model(X,y_log)\n",
    "hot_residuals = hot_model.resid"
   ]
  },
  {
   "cell_type": "code",
   "execution_count": 37,
   "metadata": {},
   "outputs": [
    {
     "data": {
      "image/png": "[encoded data removed]",
      "text/plain": [
       "<Figure size 432x288 with 1 Axes>"
      ]
     },
     "metadata": {},
     "output_type": "display_data"
    }
   ],
   "source": [
    "sns.distplot(hot_residuals)\n",
    "plt.suptitle('Distribution of residuals after feature engineering')\n",
    "plt.show()"
   ]
  },
  {
   "cell_type": "code",
   "execution_count": 38,
   "metadata": {},
   "outputs": [
    {
     "data": {
      "text/plain": [
       "{'r_squared': '0.721',\n",
       " 'skew': '-0.132',\n",
       " 'kurtosis': '4.627',\n",
       " 'Durbin Watson': '1.991',\n",
       " 'Jarque-Bera': '2261.552',\n",
       " 'P value': '0.000',\n",
       " 'Condition': '8370405319225'}"
      ]
     },
     "execution_count": 38,
     "metadata": {},
     "output_type": "execute_result"
    }
   ],
   "source": [
    "hot_model_strength = model_strength_indicators(hot_model)\n",
    "hot_model_strength"
   ]
  },
  {
   "cell_type": "markdown",
   "metadata": {},
   "source": [
    "Continue eliminating features manually to address remaining multi-colinearity and further fit the model "
   ]
  },
  {
   "cell_type": "code",
   "execution_count": 39,
   "metadata": {},
   "outputs": [
    {
     "data": {
      "image/png": "[encoded data removed]",
      "text/plain": [
       "<Figure size 432x288 with 2 Axes>"
      ]
     },
     "metadata": {},
     "output_type": "display_data"
    }
   ],
   "source": [
    "cor = X.corr()\n",
    "sns.heatmap(cor,xticklabels=cor.columns,\n",
    "        yticklabels=cor.columns)\n",
    "plt.show()"
   ]
  },
  {
   "cell_type": "code",
   "execution_count": 40,
   "metadata": {},
   "outputs": [],
   "source": [
    "correlations = create_CC_df(X,minimum=0.5)"
   ]
  },
  {
   "cell_type": "code",
   "execution_count": 41,
   "metadata": {},
   "outputs": [
    {
     "data": {
      "text/html": [
       "<div>\n",
       "<style scoped>\n",
       "    .dataframe tbody tr th:only-of-type {\n",
       "        vertical-align: middle;\n",
       "    }\n",
       "\n",
       "    .dataframe tbody tr th {\n",
       "        vertical-align: top;\n",
       "    }\n",
       "\n",
       "    .dataframe thead th {\n",
       "        text-align: right;\n",
       "    }\n",
       "</style>\n",
       "<table border=\"1\" class=\"dataframe\">\n",
       "  <thead>\n",
       "    <tr style=\"text-align: right;\">\n",
       "      <th></th>\n",
       "      <th>cc</th>\n",
       "    </tr>\n",
       "    <tr>\n",
       "      <th>pairs</th>\n",
       "      <th></th>\n",
       "    </tr>\n",
       "  </thead>\n",
       "  <tbody>\n",
       "    <tr>\n",
       "      <th>(income_tax_3.0, income_tax_bracket)</th>\n",
       "      <td>0.819029</td>\n",
       "    </tr>\n",
       "    <tr>\n",
       "      <th>(zip_tax_revenue, income_tax_bracket)</th>\n",
       "      <td>0.591402</td>\n",
       "    </tr>\n",
       "    <tr>\n",
       "      <th>(bathrooms, yr_built)</th>\n",
       "      <td>0.546328</td>\n",
       "    </tr>\n",
       "    <tr>\n",
       "      <th>(sqft_living15, bathrooms)</th>\n",
       "      <td>0.528819</td>\n",
       "    </tr>\n",
       "    <tr>\n",
       "      <th>(floors, yr_built)</th>\n",
       "      <td>0.511731</td>\n",
       "    </tr>\n",
       "    <tr>\n",
       "      <th>(bathrooms, floors)</th>\n",
       "      <td>0.503769</td>\n",
       "    </tr>\n",
       "  </tbody>\n",
       "</table>\n",
       "</div>"
      ],
      "text/plain": [
       "                                             cc\n",
       "pairs                                          \n",
       "(income_tax_3.0, income_tax_bracket)   0.819029\n",
       "(zip_tax_revenue, income_tax_bracket)  0.591402\n",
       "(bathrooms, yr_built)                  0.546328\n",
       "(sqft_living15, bathrooms)             0.528819\n",
       "(floors, yr_built)                     0.511731\n",
       "(bathrooms, floors)                    0.503769"
      ]
     },
     "execution_count": 41,
     "metadata": {},
     "output_type": "execute_result"
    }
   ],
   "source": [
    "correlations"
   ]
  },
  {
   "cell_type": "code",
   "execution_count": 42,
   "metadata": {},
   "outputs": [
    {
     "data": {
      "text/plain": [
       "{'const': 0.0,\n",
       " 'zip_tax_revenue': 1.8665587267888675,\n",
       " 'bathrooms': 2.393104712203311,\n",
       " 'lat': 1.5733081531958377,\n",
       " 'view': 1.1957267557869113,\n",
       " 'sqft_living15': 1.8032233171630219,\n",
       " 'income_tax_bracket': 4.066703503307171,\n",
       " 'yr_built': 2.373590149133733,\n",
       " 'floors': 1.5912028289288376,\n",
       " 'condition': 1.2397168818937374,\n",
       " 'sqft_lot': 1.1086880392325986,\n",
       " 'waterfront_Lake Washington': 1.1773902145130513,\n",
       " 'long': 1.5786470936856898,\n",
       " 'waterfront_Duwamish': 1.0360759029812119,\n",
       " 'date': 1.0079725742163328,\n",
       " 'bedrooms': 1.4235749385801386,\n",
       " 'yr_renovated': 1.1064741918751255,\n",
       " 'waterfront': 1.1048502494147314,\n",
       " 'grade': 1.0615084610220635,\n",
       " 'waterfront_Lake Union': 1.0209829961015247,\n",
       " 'waterfront_Lake Sammamish': 1.2584373468345982,\n",
       " 'waterfront_Elliott Bay': 1.0588702231805591,\n",
       " 'waterfront_Puget Sound': 1.0596320752199788,\n",
       " 'income_tax_3.0': 3.481605196544053}"
      ]
     },
     "execution_count": 42,
     "metadata": {},
     "output_type": "execute_result"
    }
   ],
   "source": [
    "vif_dict = create_vif_dictionary(X)\n",
    "vif_dict"
   ]
  },
  {
   "cell_type": "code",
   "execution_count": 43,
   "metadata": {},
   "outputs": [],
   "source": [
    "# manually eliminating features based on VIF, and colinearity coefficient\n",
    "X = X.drop(['income_tax_3.0','income_tax_bracket','yr_built'],axis=1)"
   ]
  },
  {
   "cell_type": "code",
   "execution_count": 44,
   "metadata": {},
   "outputs": [],
   "source": [
    "new_model = run_OLS_model(X,y_log)\n",
    "new_residuals = new_model.resid"
   ]
  },
  {
   "cell_type": "code",
   "execution_count": 45,
   "metadata": {},
   "outputs": [
    {
     "data": {
      "image/png": "[encoded data removed]",
      "text/plain": [
       "<Figure size 432x288 with 1 Axes>"
      ]
     },
     "metadata": {},
     "output_type": "display_data"
    }
   ],
   "source": [
    "sns.distplot(new_residuals)\n",
    "plt.show()"
   ]
  },
  {
   "cell_type": "code",
   "execution_count": 46,
   "metadata": {},
   "outputs": [],
   "source": [
    "new_model_strength = model_strength_indicators(new_model)"
   ]
  },
  {
   "cell_type": "markdown",
   "metadata": {},
   "source": [
    "# Review model performance across iterations\n",
    "Features are ranked, selected and eliminated through each iteration using the same selection pattern: first selection and elimination based on p-value using a forward-backward stepwise selection method, second selction and elimination based on feature \"importance\" using recursive feature elimination with cross validation. third selection and elimination based on multi-colinearity determined first by variance inflation factor and second using colinearity coefficients.\n",
    "\n",
    "- base_model_strength: all original data features, all numerical datatypes, no NaN values\n",
    "- outlier_strength: records where the target variable (price) is more than three standard deviations away from the target mean. \n",
    "- log_model_strength: target variable has been log transformed (regression coefficients now represent change in percentage, not original units of feature).\n",
    "- hot_model_strength: New features engineered from original data set and and auxilary data set, two categorical variables are one-hot-encoded.\n",
    "- new_model_strength: Some features are eliminated manually to achieve better normality. "
   ]
  },
  {
   "cell_type": "markdown",
   "metadata": {},
   "source": [
    "Baseline model strength after firs round of feature selection and elimination"
   ]
  },
  {
   "cell_type": "code",
   "execution_count": 47,
   "metadata": {},
   "outputs": [
    {
     "data": {
      "text/plain": [
       "{'r_squared': '0.626',\n",
       " 'skew': '3.821',\n",
       " 'kurtosis': '54.175',\n",
       " 'Durbin Watson': '1.994',\n",
       " 'Jarque-Bera': '2358627.117',\n",
       " 'P value': '0.000',\n",
       " 'Condition': '5099993113'}"
      ]
     },
     "execution_count": 47,
     "metadata": {},
     "output_type": "execute_result"
    }
   ],
   "source": [
    "base_model_strength"
   ]
  },
  {
   "cell_type": "markdown",
   "metadata": {},
   "source": [
    "Model strength after eliminating outliers. "
   ]
  },
  {
   "cell_type": "code",
   "execution_count": 48,
   "metadata": {},
   "outputs": [
    {
     "data": {
      "text/plain": [
       "{'r_squared': '0.607',\n",
       " 'skew': '0.589',\n",
       " 'kurtosis': '4.241',\n",
       " 'Durbin Watson': '1.974',\n",
       " 'Jarque-Bera': '2435.491',\n",
       " 'P value': '0.000',\n",
       " 'Condition': '5108350008'}"
      ]
     },
     "execution_count": 48,
     "metadata": {},
     "output_type": "execute_result"
    }
   ],
   "source": [
    "outlier_strength"
   ]
  },
  {
   "cell_type": "markdown",
   "metadata": {},
   "source": [
    "- R-squared; explanation of variance slightly decreases\n",
    "- Normality in general significantly improves\n",
    "- Homoscedasticity slightly decreases\n",
    "- Condition increased by a large number but its less than one hundreth of a percent. "
   ]
  },
  {
   "cell_type": "markdown",
   "metadata": {},
   "source": [
    "Model strength after target variable log transformation"
   ]
  },
  {
   "cell_type": "code",
   "execution_count": 49,
   "metadata": {},
   "outputs": [
    {
     "data": {
      "text/plain": [
       "{'r_squared': '0.635',\n",
       " 'skew': '-0.154',\n",
       " 'kurtosis': '3.759',\n",
       " 'Durbin Watson': '1.986',\n",
       " 'Jarque-Bera': '557.856',\n",
       " 'P value': '0.000',\n",
       " 'Condition': '5107081200'}"
      ]
     },
     "execution_count": 49,
     "metadata": {},
     "output_type": "execute_result"
    }
   ],
   "source": [
    "log_model_strength"
   ]
  },
  {
   "cell_type": "markdown",
   "metadata": {},
   "source": [
    "- R-squared; explanation of variance improves\n",
    "- Normality in general improves\n",
    "- Homoscedasticity slightly improves\n",
    "- Condition improved (decreased) but only by about three thousandths of a percent.  "
   ]
  },
  {
   "cell_type": "markdown",
   "metadata": {},
   "source": [
    "Model Strength after engineering new features including joining new data and one-hot encoding."
   ]
  },
  {
   "cell_type": "code",
   "execution_count": 50,
   "metadata": {},
   "outputs": [
    {
     "data": {
      "text/plain": [
       "{'r_squared': '0.721',\n",
       " 'skew': '-0.132',\n",
       " 'kurtosis': '4.627',\n",
       " 'Durbin Watson': '1.991',\n",
       " 'Jarque-Bera': '2261.552',\n",
       " 'P value': '0.000',\n",
       " 'Condition': '8370405319225'}"
      ]
     },
     "execution_count": 50,
     "metadata": {},
     "output_type": "execute_result"
    }
   ],
   "source": [
    "hot_model_strength"
   ]
  },
  {
   "cell_type": "markdown",
   "metadata": {},
   "source": [
    "- R-squared; explanation of variance improves significantly (best so far)\n",
    "- Normality in general decreses; skewness imrpoves, kurtosis and jarque-bera increase significantly.\n",
    "- Homoscedasticity slightly improves.\n",
    "- Condition worsened (increased) significantly."
   ]
  },
  {
   "cell_type": "markdown",
   "metadata": {},
   "source": [
    "Model strength after manual feature elimination"
   ]
  },
  {
   "cell_type": "code",
   "execution_count": 51,
   "metadata": {},
   "outputs": [
    {
     "data": {
      "text/plain": [
       "{'r_squared': '0.678',\n",
       " 'skew': '-0.061',\n",
       " 'kurtosis': '3.811',\n",
       " 'Durbin Watson': '1.991',\n",
       " 'Jarque-Bera': '560.561',\n",
       " 'P value': '0.000',\n",
       " 'Condition': '8345178480742'}"
      ]
     },
     "execution_count": 51,
     "metadata": {},
     "output_type": "execute_result"
    }
   ],
   "source": [
    "new_model_strength"
   ]
  },
  {
   "cell_type": "markdown",
   "metadata": {},
   "source": [
    "- R-squared; explanation of variance decreases slightly\n",
    "- Normality in general improves; skewness is nearly 0, kurtosis improves.\n",
    "- Homoscedasticity slightly improves.\n",
    "- Condition improves by three thousandths of a percent, however condition is 1600% of the condition of the log_model."
   ]
  },
  {
   "cell_type": "markdown",
   "metadata": {},
   "source": [
    "# Model validation"
   ]
  },
  {
   "cell_type": "code",
   "execution_count": 52,
   "metadata": {},
   "outputs": [],
   "source": [
    "# create a train and a test split\n",
    "X_train, X_test, y_train, y_test = train_test_split(X, y_log, test_size=0.2)\n",
    "\n",
    "# generate predictions based on test and train sampels\n",
    "linreg = LinearRegression()\n",
    "linreg.fit(X_train, y_train)\n",
    "\n",
    "y_hat_train = linreg.predict(X_train)\n",
    "y_hat_test = linreg.predict(X_test)\n",
    "\n",
    "# calculate train and test residuals\n",
    "train_residuals = y_hat_train - y_train\n",
    "test_residuals = y_hat_test - y_test"
   ]
  },
  {
   "cell_type": "code",
   "execution_count": 53,
   "metadata": {},
   "outputs": [
    {
     "data": {
      "image/png": "[encoded data removed]",
      "text/plain": [
       "<Figure size 432x288 with 2 Axes>"
      ]
     },
     "metadata": {},
     "output_type": "display_data"
    },
    {
     "data": {
      "text/plain": [
       "<Figure size 1440x1440 with 0 Axes>"
      ]
     },
     "metadata": {},
     "output_type": "display_data"
    }
   ],
   "source": [
    "fig, (ax1,ax2) = plt.subplots(1,2)\n",
    "\n",
    "sns.distplot(train_residuals,ax=ax1)\n",
    "ax1.set_title('Training sample')\n",
    "sns.distplot(test_residuals,ax=ax2)\n",
    "ax2.set_title('Test sample')\n",
    "\n",
    "plt.figure(figsize=(20,20))\n",
    "plt.show()\n"
   ]
  },
  {
   "cell_type": "code",
   "execution_count": 54,
   "metadata": {},
   "outputs": [
    {
     "name": "stdout",
     "output_type": "stream",
     "text": [
      "Train Mean Squarred Error: 0.06309105260187797\n",
      "Test Mean Squarred Error: 0.06494116547941643\n",
      "Difference:  0.0018501128775384595\n"
     ]
    }
   ],
   "source": [
    "# calculate train and test mean squared error \n",
    "train_mse = mean_squared_error(y_train, y_hat_train)\n",
    "test_mse = mean_squared_error(y_test, y_hat_test)\n",
    "\n",
    "print('Train Mean Squarred Error:', train_mse)\n",
    "print('Test Mean Squarred Error:', test_mse)\n",
    "print('Difference: ', abs(train_mse - test_mse))"
   ]
  },
  {
   "cell_type": "code",
   "execution_count": 55,
   "metadata": {},
   "outputs": [
    {
     "name": "stdout",
     "output_type": "stream",
     "text": [
      "Five k-fold MSE:  -0.06375460998124424\n",
      "Ten k-fold MSE:  -0.06374013600321765\n",
      "Twenty k-fold MSE:  -0.06367065474702942\n"
     ]
    }
   ],
   "source": [
    "cv_5_results  = np.mean(cross_val_score(linreg, X, y_log, cv=5,  scoring='neg_mean_squared_error'))\n",
    "cv_10_results = np.mean(cross_val_score(linreg, X, y_log, cv=10, scoring='neg_mean_squared_error'))\n",
    "cv_20_results = np.mean(cross_val_score(linreg, X, y_log, cv=20, scoring='neg_mean_squared_error'))\n",
    "\n",
    "print('Five k-fold MSE: ', cv_5_results)\n",
    "print('Ten k-fold MSE: ', cv_10_results)\n",
    "print('Twenty k-fold MSE: ', cv_20_results)\n"
   ]
  },
  {
   "cell_type": "markdown",
   "metadata": {},
   "source": [
    "#### observations on model validation\n",
    "The mean squared error (MSE), a statistic representing the amount of error in a the model (i.e. how well the regression line fits the data), is calculated to be roughly the same using both a simple train-test split and the k-fold cross validation technique. The MSE is close to zero indicating the model fits the data well, and the model probably fits the real population data also. "
   ]
  },
  {
   "cell_type": "markdown",
   "metadata": {},
   "source": [
    "# Final observations"
   ]
  },
  {
   "cell_type": "code",
   "execution_count": 56,
   "metadata": {},
   "outputs": [
    {
     "data": {
      "text/html": [
       "<table class=\"simpletable\">\n",
       "<caption>OLS Regression Results</caption>\n",
       "<tr>\n",
       "  <th>Dep. Variable:</th>          <td>price</td>      <th>  R-squared:         </th> <td>   0.678</td>\n",
       "</tr>\n",
       "<tr>\n",
       "  <th>Model:</th>                   <td>OLS</td>       <th>  Adj. R-squared:    </th> <td>   0.678</td>\n",
       "</tr>\n",
       "<tr>\n",
       "  <th>Method:</th>             <td>Least Squares</td>  <th>  F-statistic:       </th> <td>   2104.</td>\n",
       "</tr>\n",
       "<tr>\n",
       "  <th>Date:</th>             <td>Sun, 10 Apr 2022</td> <th>  Prob (F-statistic):</th>  <td>  0.00</td> \n",
       "</tr>\n",
       "<tr>\n",
       "  <th>Time:</th>                 <td>11:08:11</td>     <th>  Log-Likelihood:    </th> <td> -801.26</td>\n",
       "</tr>\n",
       "<tr>\n",
       "  <th>No. Observations:</th>      <td> 19982</td>      <th>  AIC:               </th> <td>   1645.</td>\n",
       "</tr>\n",
       "<tr>\n",
       "  <th>Df Residuals:</th>          <td> 19961</td>      <th>  BIC:               </th> <td>   1810.</td>\n",
       "</tr>\n",
       "<tr>\n",
       "  <th>Df Model:</th>              <td>    20</td>      <th>                     </th>     <td> </td>   \n",
       "</tr>\n",
       "<tr>\n",
       "  <th>Covariance Type:</th>      <td>nonrobust</td>    <th>                     </th>     <td> </td>   \n",
       "</tr>\n",
       "</table>\n",
       "<table class=\"simpletable\">\n",
       "<tr>\n",
       "               <td></td>                 <th>coef</th>     <th>std err</th>      <th>t</th>      <th>P>|t|</th>  <th>[0.025</th>    <th>0.975]</th>  \n",
       "</tr>\n",
       "<tr>\n",
       "  <th>const</th>                      <td> -206.1090</td> <td>   11.813</td> <td>  -17.447</td> <td> 0.000</td> <td> -229.264</td> <td> -182.954</td>\n",
       "</tr>\n",
       "<tr>\n",
       "  <th>zip_tax_revenue</th>            <td> 1.623e-10</td> <td> 3.34e-12</td> <td>   48.628</td> <td> 0.000</td> <td> 1.56e-10</td> <td> 1.69e-10</td>\n",
       "</tr>\n",
       "<tr>\n",
       "  <th>bathrooms</th>                  <td>    0.1230</td> <td>    0.004</td> <td>   34.081</td> <td> 0.000</td> <td>    0.116</td> <td>    0.130</td>\n",
       "</tr>\n",
       "<tr>\n",
       "  <th>lat</th>                        <td>    1.2111</td> <td>    0.015</td> <td>   80.687</td> <td> 0.000</td> <td>    1.182</td> <td>    1.240</td>\n",
       "</tr>\n",
       "<tr>\n",
       "  <th>view</th>                       <td>    0.0822</td> <td>    0.003</td> <td>   26.972</td> <td> 0.000</td> <td>    0.076</td> <td>    0.088</td>\n",
       "</tr>\n",
       "<tr>\n",
       "  <th>sqft_living15</th>              <td>    0.0003</td> <td> 3.88e-06</td> <td>   64.867</td> <td> 0.000</td> <td>    0.000</td> <td>    0.000</td>\n",
       "</tr>\n",
       "<tr>\n",
       "  <th>floors</th>                     <td>    0.0742</td> <td>    0.004</td> <td>   18.432</td> <td> 0.000</td> <td>    0.066</td> <td>    0.082</td>\n",
       "</tr>\n",
       "<tr>\n",
       "  <th>condition</th>                  <td>    0.0799</td> <td>    0.003</td> <td>   27.306</td> <td> 0.000</td> <td>    0.074</td> <td>    0.086</td>\n",
       "</tr>\n",
       "<tr>\n",
       "  <th>sqft_lot</th>                   <td>  1.14e-06</td> <td> 4.66e-08</td> <td>   24.484</td> <td> 0.000</td> <td> 1.05e-06</td> <td> 1.23e-06</td>\n",
       "</tr>\n",
       "<tr>\n",
       "  <th>waterfront_Lake Washington</th> <td>   -0.1090</td> <td>    0.013</td> <td>   -8.459</td> <td> 0.000</td> <td>   -0.134</td> <td>   -0.084</td>\n",
       "</tr>\n",
       "<tr>\n",
       "  <th>long</th>                       <td>   -0.2703</td> <td>    0.015</td> <td>  -18.155</td> <td> 0.000</td> <td>   -0.299</td> <td>   -0.241</td>\n",
       "</tr>\n",
       "<tr>\n",
       "  <th>waterfront_Duwamish</th>        <td>   -0.2061</td> <td>    0.016</td> <td>  -12.930</td> <td> 0.000</td> <td>   -0.237</td> <td>   -0.175</td>\n",
       "</tr>\n",
       "<tr>\n",
       "  <th>date</th>                       <td>    0.0002</td> <td> 1.58e-05</td> <td>   10.898</td> <td> 0.000</td> <td>    0.000</td> <td>    0.000</td>\n",
       "</tr>\n",
       "<tr>\n",
       "  <th>bedrooms</th>                   <td>    0.0239</td> <td>    0.002</td> <td>   10.294</td> <td> 0.000</td> <td>    0.019</td> <td>    0.028</td>\n",
       "</tr>\n",
       "<tr>\n",
       "  <th>yr_renovated</th>               <td> 7.942e-05</td> <td> 5.25e-06</td> <td>   15.118</td> <td> 0.000</td> <td> 6.91e-05</td> <td> 8.97e-05</td>\n",
       "</tr>\n",
       "<tr>\n",
       "  <th>waterfront</th>                 <td>    0.2598</td> <td>    0.038</td> <td>    6.927</td> <td> 0.000</td> <td>    0.186</td> <td>    0.333</td>\n",
       "</tr>\n",
       "<tr>\n",
       "  <th>grade</th>                      <td>    0.0065</td> <td>    0.001</td> <td>    5.604</td> <td> 0.000</td> <td>    0.004</td> <td>    0.009</td>\n",
       "</tr>\n",
       "<tr>\n",
       "  <th>waterfront_Lake Union</th>      <td>    0.2971</td> <td>    0.028</td> <td>   10.618</td> <td> 0.000</td> <td>    0.242</td> <td>    0.352</td>\n",
       "</tr>\n",
       "<tr>\n",
       "  <th>waterfront_Lake Sammamish</th>  <td>    0.1230</td> <td>    0.009</td> <td>   14.088</td> <td> 0.000</td> <td>    0.106</td> <td>    0.140</td>\n",
       "</tr>\n",
       "<tr>\n",
       "  <th>waterfront_Elliott Bay</th>     <td>    0.0345</td> <td>    0.011</td> <td>    3.055</td> <td> 0.002</td> <td>    0.012</td> <td>    0.057</td>\n",
       "</tr>\n",
       "<tr>\n",
       "  <th>waterfront_Puget Sound</th>     <td>   -0.0582</td> <td>    0.013</td> <td>   -4.336</td> <td> 0.000</td> <td>   -0.085</td> <td>   -0.032</td>\n",
       "</tr>\n",
       "</table>\n",
       "<table class=\"simpletable\">\n",
       "<tr>\n",
       "  <th>Omnibus:</th>       <td>299.780</td> <th>  Durbin-Watson:     </th> <td>   1.991</td> \n",
       "</tr>\n",
       "<tr>\n",
       "  <th>Prob(Omnibus):</th> <td> 0.000</td>  <th>  Jarque-Bera (JB):  </th> <td> 560.561</td> \n",
       "</tr>\n",
       "<tr>\n",
       "  <th>Skew:</th>          <td>-0.061</td>  <th>  Prob(JB):          </th> <td>1.89e-122</td>\n",
       "</tr>\n",
       "<tr>\n",
       "  <th>Kurtosis:</th>      <td> 3.811</td>  <th>  Cond. No.          </th> <td>8.35e+12</td> \n",
       "</tr>\n",
       "</table><br/><br/>Notes:<br/>[1] Standard Errors assume that the covariance matrix of the errors is correctly specified.<br/>[2] The condition number is large, 8.35e+12. This might indicate that there are<br/>strong multicollinearity or other numerical problems."
      ],
      "text/plain": [
       "<class 'statsmodels.iolib.summary.Summary'>\n",
       "\"\"\"\n",
       "                            OLS Regression Results                            \n",
       "==============================================================================\n",
       "Dep. Variable:                  price   R-squared:                       0.678\n",
       "Model:                            OLS   Adj. R-squared:                  0.678\n",
       "Method:                 Least Squares   F-statistic:                     2104.\n",
       "Date:                Sun, 10 Apr 2022   Prob (F-statistic):               0.00\n",
       "Time:                        11:08:11   Log-Likelihood:                -801.26\n",
       "No. Observations:               19982   AIC:                             1645.\n",
       "Df Residuals:                   19961   BIC:                             1810.\n",
       "Df Model:                          20                                         \n",
       "Covariance Type:            nonrobust                                         \n",
       "==============================================================================================\n",
       "                                 coef    std err          t      P>|t|      [0.025      0.975]\n",
       "----------------------------------------------------------------------------------------------\n",
       "const                       -206.1090     11.813    -17.447      0.000    -229.264    -182.954\n",
       "zip_tax_revenue             1.623e-10   3.34e-12     48.628      0.000    1.56e-10    1.69e-10\n",
       "bathrooms                      0.1230      0.004     34.081      0.000       0.116       0.130\n",
       "lat                            1.2111      0.015     80.687      0.000       1.182       1.240\n",
       "view                           0.0822      0.003     26.972      0.000       0.076       0.088\n",
       "sqft_living15                  0.0003   3.88e-06     64.867      0.000       0.000       0.000\n",
       "floors                         0.0742      0.004     18.432      0.000       0.066       0.082\n",
       "condition                      0.0799      0.003     27.306      0.000       0.074       0.086\n",
       "sqft_lot                     1.14e-06   4.66e-08     24.484      0.000    1.05e-06    1.23e-06\n",
       "waterfront_Lake Washington    -0.1090      0.013     -8.459      0.000      -0.134      -0.084\n",
       "long                          -0.2703      0.015    -18.155      0.000      -0.299      -0.241\n",
       "waterfront_Duwamish           -0.2061      0.016    -12.930      0.000      -0.237      -0.175\n",
       "date                           0.0002   1.58e-05     10.898      0.000       0.000       0.000\n",
       "bedrooms                       0.0239      0.002     10.294      0.000       0.019       0.028\n",
       "yr_renovated                7.942e-05   5.25e-06     15.118      0.000    6.91e-05    8.97e-05\n",
       "waterfront                     0.2598      0.038      6.927      0.000       0.186       0.333\n",
       "grade                          0.0065      0.001      5.604      0.000       0.004       0.009\n",
       "waterfront_Lake Union          0.2971      0.028     10.618      0.000       0.242       0.352\n",
       "waterfront_Lake Sammamish      0.1230      0.009     14.088      0.000       0.106       0.140\n",
       "waterfront_Elliott Bay         0.0345      0.011      3.055      0.002       0.012       0.057\n",
       "waterfront_Puget Sound        -0.0582      0.013     -4.336      0.000      -0.085      -0.032\n",
       "==============================================================================\n",
       "Omnibus:                      299.780   Durbin-Watson:                   1.991\n",
       "Prob(Omnibus):                  0.000   Jarque-Bera (JB):              560.561\n",
       "Skew:                          -0.061   Prob(JB):                    1.89e-122\n",
       "Kurtosis:                       3.811   Cond. No.                     8.35e+12\n",
       "==============================================================================\n",
       "\n",
       "Notes:\n",
       "[1] Standard Errors assume that the covariance matrix of the errors is correctly specified.\n",
       "[2] The condition number is large, 8.35e+12. This might indicate that there are\n",
       "strong multicollinearity or other numerical problems.\n",
       "\"\"\""
      ]
     },
     "execution_count": 56,
     "metadata": {},
     "output_type": "execute_result"
    }
   ],
   "source": [
    "new_model.summary()"
   ]
  },
  {
   "cell_type": "code",
   "execution_count": 71,
   "metadata": {},
   "outputs": [],
   "source": [
    "legend = {'zip_tax_revenue': 'For every $100,000 in tax revenue for a given zipcode, the price of a property increases by 0.00001623 %.',\n",
    " 'bathrooms': 'For every additional bathroom, the price of a property increases by 0.1230 %.',\n",
    " 'lat': 'For every additional degree north, the price of a property increases by 1.2111 %.',\n",
    " 'view': 'For each additional point (0-4), the price of a property increases by 0.0822 %. ',\n",
    " 'sqft_living15': 'For every additional average square foot for the nearest 15 houses, the price of a property increases by 0.0003 %.',\n",
    " 'floors': 'For every additional floor, the price of a property increases by 0.0742 %.',\n",
    " 'condition': 'For each additional point (1-5), the price of a property increases by 0.0799 %. ',\n",
    " 'sqft_lot': 'For every 100 square feet (for the whole lot), the price of a property increases by 0.00011400 %.',\n",
    " 'waterfront_Lake Washington': 'If the property is at or near lake washington, the price of the property decreases by 0.1090 %.',\n",
    " 'long': 'For every additional degree to the east, the price of a property decreases by 0.2703 %.',\n",
    " 'waterfront_Duwamish': 'If the property is at or near Duwamish, the price of the property decreases by 0.2061 %.',\n",
    " 'date': 'For every day closer to the present that a property was sold, the price increases by 0.002 %.',\n",
    " 'bedrooms': 'For every additional bedroom the price of a property increases by 0.0239 %.',\n",
    " 'yr_renovated': 'For every year closer to the present that a house was renovated, the price of the property increases by 0.00007942 %.',\n",
    " 'waterfront': 'If the property is on a waterfront, the price increases by 0.2598 %.',\n",
    " 'grade': 'For each additional point (1-11) the price of a property increases by 0.0065 %.',\n",
    " 'waterfront_Lake Union': 'If the property is at or near Lake Union, the price of the property increases by 0.2971 %.',\n",
    " 'waterfront_Lake Sammamish': 'If the property is at or near Lake Sammamish, the price of the property increases by 0.1230 %.',\n",
    " 'waterfront_Elliott Bay': 'If the property is at or near Elliott Bay, the price of the property increases by 0.0345 %.',\n",
    " 'waterfront_Puget Sound': 'If the property is at or near Puget Sound, the price of the property decreases by 0.0582 %.'}"
   ]
  },
  {
   "cell_type": "markdown",
   "metadata": {},
   "source": []
  }
 ],
 "metadata": {
  "kernelspec": {
   "display_name": "Python (learn-env)",
   "language": "python",
   "name": "learn-env"
  },
  "language_info": {
   "codemirror_mode": {
    "name": "ipython",
    "version": 3
   },
   "file_extension": ".py",
   "mimetype": "text/x-python",
   "name": "python",
   "nbconvert_exporter": "python",
   "pygments_lexer": "ipython3",
   "version": "3.8.3"
  }
 },
 "nbformat": 4,
 "nbformat_minor": 4
}
