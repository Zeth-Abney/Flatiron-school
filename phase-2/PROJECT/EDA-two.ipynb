{
 "cells": [
  {
   "cell_type": "code",
   "execution_count": 1,
   "metadata": {},
   "outputs": [],
   "source": [
    "import matplotlib.pyplot as plt\n",
    "import seaborn as sns\n",
    "# import simpreglib as srl\n",
    "import pandas as pd\n",
    "import numpy as np\n",
    "import datetime as dt\n",
    "\n",
    "import statsmodels.api as sm\n",
    "import statsmodels.stats.api as sms\n",
    "import statsmodels.formula.api as smf\n",
    "from statsmodels.formula.api import ols\n",
    "import scipy.stats as stats\n",
    "\n",
    "from sklearn.metrics import mean_absolute_error, mean_squared_error\n",
    "from statsmodels.stats.outliers_influence import variance_inflation_factor\n",
    "\n",
    "import warnings # weird sns.distplot warnings\n",
    "warnings.filterwarnings(\"ignore\")\n",
    "\n",
    "plt.style.use('fivethirtyeight')"
   ]
  },
  {
   "cell_type": "code",
   "execution_count": 2,
   "metadata": {},
   "outputs": [],
   "source": [
    "df = pd.read_csv('data/cleaned_kc.csv')"
   ]
  },
  {
   "cell_type": "code",
   "execution_count": 3,
   "metadata": {},
   "outputs": [],
   "source": [
    "def create_vif_dictionary(X):\n",
    "    \"\"\"\n",
    "    Parameters\n",
    "    ----------\n",
    "    X: Pandas dataframe of predictive variables only.\n",
    "        Should have `.columns` and `.values` attributes.\n",
    "    \"\"\"\n",
    "    \n",
    "    vif_dct = {}\n",
    "\n",
    "    # Loop through each row and set the variable name to the VIF. \n",
    "    for i in range(len(X.columns)):\n",
    "        # Calculate VIF\n",
    "        vif = variance_inflation_factor(X.values, i)\n",
    "        \n",
    "        # Extract column name for dictionary key.\n",
    "        v = X.columns[i]\n",
    "        \n",
    "        # Set value in dictionary.\n",
    "        vif_dct[v] = vif\n",
    "\n",
    "    return vif_dct"
   ]
  },
  {
   "cell_type": "code",
   "execution_count": 4,
   "metadata": {},
   "outputs": [],
   "source": [
    "# convert age to an integer\n",
    "ages = []\n",
    "for age in df.age:\n",
    "    age = age.split()[0]\n",
    "    ages.append(float(age))\n",
    "df.age = ages"
   ]
  },
  {
   "cell_type": "code",
   "execution_count": 5,
   "metadata": {},
   "outputs": [],
   "source": [
    "# df.info()"
   ]
  },
  {
   "cell_type": "code",
   "execution_count": 6,
   "metadata": {},
   "outputs": [],
   "source": [
    "# because its categprical and age represents essentially the same information\n",
    "# df.drop('yr_built',axis=1,inplace=True)\n"
   ]
  },
  {
   "cell_type": "code",
   "execution_count": 7,
   "metadata": {},
   "outputs": [],
   "source": [
    "y = df.price\n",
    "X_labels = df.columns[1:]\n",
    "X = df[X_labels]"
   ]
  },
  {
   "cell_type": "code",
   "execution_count": 8,
   "metadata": {},
   "outputs": [],
   "source": [
    "# visualize the relationship between the predictors and the target using scatterplots\n",
    "# plt.figure(figsize=(10,10))\n",
    "\n",
    "# for idx,label in enumerate(X_labels):\n",
    "#     ax = plt.subplot(5,4,idx+1)\n",
    "#     plt.scatter(X[label],y)\n",
    "#     plt.title(label)\n",
    "\n",
    "# plt.tight_layout()\n",
    "# plt.show()"
   ]
  },
  {
   "cell_type": "code",
   "execution_count": 9,
   "metadata": {},
   "outputs": [],
   "source": [
    "# plt.figure(figsize=(10,10))\n",
    "\n",
    "# for idx,label in enumerate(X_labels):\n",
    "#     ax = plt.subplot(5,4,idx+1)\n",
    "#     sns.distplot(X[label],hist=True)\n",
    "#     plt.title(label)\n",
    "\n",
    "# plt.tight_layout()\n",
    "# plt.show()"
   ]
  },
  {
   "cell_type": "code",
   "execution_count": 10,
   "metadata": {},
   "outputs": [],
   "source": [
    "# X.columns"
   ]
  },
  {
   "cell_type": "markdown",
   "metadata": {},
   "source": [
    "### One-hot encoding for categorical variables"
   ]
  },
  {
   "cell_type": "code",
   "execution_count": 12,
   "metadata": {},
   "outputs": [],
   "source": [
    "# one hot encode categorical variables into their own dataframes\n",
    "\n",
    "floor_cats = X.floors.astype('category')\n",
    "floor_dummies = pd.get_dummies(floor_cats,prefix='floor',drop_first=True)\n",
    "\n",
    "# cond_cats = X.condition.astype('category')\n",
    "# cond_dummies = pd.get_dummies(cond_cats,prefix='cond',drop_first=True)\n",
    "\n",
    "grade_cats = X.grade.astype('category')\n",
    "grade_dummies = pd.get_dummies(grade_cats,prefix='grade',drop_first=True)\n",
    "\n",
    "# bed_cats = X.bedrooms.astype('category')\n",
    "# bed_dummies = pd.get_dummies(bed_cats,prefix='beds',drop_first=True)\n",
    "\n",
    "# bath_cats = X.bedrooms.astype('category')\n",
    "# bath_dummies = pd.get_dummies(bath_cats,prefix='beds',drop_first=True)\n",
    "\n",
    "hot_cats = pd.concat([floor_dummies,grade_dummies],axis=1)"
   ]
  },
  {
   "cell_type": "code",
   "execution_count": 13,
   "metadata": {},
   "outputs": [],
   "source": [
    "X1 = pd.concat([X,hot_cats],axis=1)\n",
    "#dropping columns that have been one hot encoded, duplicitous data\n",
    "X1.drop(['yr_built','bedrooms','bathrooms','floors','condition','grade'],axis=1,inplace=True) "
   ]
  },
  {
   "cell_type": "code",
   "execution_count": 14,
   "metadata": {},
   "outputs": [
    {
     "data": {
      "text/plain": [
       "Index(['sqft_living', 'sqft_lot', 'sqft_above', 'sqft_basement',\n",
       "       'sqft_living15', 'sqft_lot15', 'age', 'day_of_year', 'bed_bath_ratio',\n",
       "       'level_ratio', 'relative_living_space', 'relative_lot_size',\n",
       "       'level_difference', 'floor_1.5', 'floor_2.0', 'floor_2.5', 'floor_3.0',\n",
       "       'floor_3.5', 'grade_3', 'grade_4', 'grade_5', 'grade_6', 'grade_7',\n",
       "       'grade_8', 'grade_9'],\n",
       "      dtype='object')"
      ]
     },
     "execution_count": 14,
     "metadata": {},
     "output_type": "execute_result"
    }
   ],
   "source": [
    "X1.columns"
   ]
  },
  {
   "cell_type": "code",
   "execution_count": 15,
   "metadata": {},
   "outputs": [
    {
     "data": {
      "text/html": [
       "<table class=\"simpletable\">\n",
       "<caption>OLS Regression Results</caption>\n",
       "<tr>\n",
       "  <th>Dep. Variable:</th>          <td>price</td>      <th>  R-squared:         </th>  <td>   0.615</td>  \n",
       "</tr>\n",
       "<tr>\n",
       "  <th>Model:</th>                   <td>OLS</td>       <th>  Adj. R-squared:    </th>  <td>   0.614</td>  \n",
       "</tr>\n",
       "<tr>\n",
       "  <th>Method:</th>             <td>Least Squares</td>  <th>  F-statistic:       </th>  <td>   1603.</td>  \n",
       "</tr>\n",
       "<tr>\n",
       "  <th>Date:</th>             <td>Mon, 14 Mar 2022</td> <th>  Prob (F-statistic):</th>   <td>  0.00</td>   \n",
       "</tr>\n",
       "<tr>\n",
       "  <th>Time:</th>                 <td>00:33:48</td>     <th>  Log-Likelihood:    </th> <td>-2.9089e+05</td>\n",
       "</tr>\n",
       "<tr>\n",
       "  <th>No. Observations:</th>      <td> 21143</td>      <th>  AIC:               </th>  <td>5.818e+05</td> \n",
       "</tr>\n",
       "<tr>\n",
       "  <th>Df Residuals:</th>          <td> 21121</td>      <th>  BIC:               </th>  <td>5.820e+05</td> \n",
       "</tr>\n",
       "<tr>\n",
       "  <th>Df Model:</th>              <td>    21</td>      <th>                     </th>      <td> </td>     \n",
       "</tr>\n",
       "<tr>\n",
       "  <th>Covariance Type:</th>      <td>nonrobust</td>    <th>                     </th>      <td> </td>     \n",
       "</tr>\n",
       "</table>\n",
       "<table class=\"simpletable\">\n",
       "<tr>\n",
       "            <td></td>               <th>coef</th>     <th>std err</th>      <th>t</th>      <th>P>|t|</th>  <th>[0.025</th>    <th>0.975]</th>  \n",
       "</tr>\n",
       "<tr>\n",
       "  <th>const</th>                 <td> 3.608e+05</td> <td> 1.55e+04</td> <td>   23.252</td> <td> 0.000</td> <td>  3.3e+05</td> <td> 3.91e+05</td>\n",
       "</tr>\n",
       "<tr>\n",
       "  <th>sqft_living</th>           <td>  103.2842</td> <td>    1.404</td> <td>   73.586</td> <td> 0.000</td> <td>  100.533</td> <td>  106.035</td>\n",
       "</tr>\n",
       "<tr>\n",
       "  <th>sqft_lot</th>              <td>   -0.1792</td> <td>    0.026</td> <td>   -6.824</td> <td> 0.000</td> <td>   -0.231</td> <td>   -0.128</td>\n",
       "</tr>\n",
       "<tr>\n",
       "  <th>sqft_above</th>            <td>   48.7074</td> <td>    0.969</td> <td>   50.267</td> <td> 0.000</td> <td>   46.808</td> <td>   50.607</td>\n",
       "</tr>\n",
       "<tr>\n",
       "  <th>sqft_basement</th>         <td>   54.5768</td> <td>    1.222</td> <td>   44.651</td> <td> 0.000</td> <td>   52.181</td> <td>   56.973</td>\n",
       "</tr>\n",
       "<tr>\n",
       "  <th>sqft_living15</th>         <td>   74.8424</td> <td>    2.193</td> <td>   34.126</td> <td> 0.000</td> <td>   70.544</td> <td>   79.141</td>\n",
       "</tr>\n",
       "<tr>\n",
       "  <th>sqft_lot15</th>            <td>   -0.3422</td> <td>    0.045</td> <td>   -7.567</td> <td> 0.000</td> <td>   -0.431</td> <td>   -0.254</td>\n",
       "</tr>\n",
       "<tr>\n",
       "  <th>age</th>                   <td>    9.9121</td> <td>    0.206</td> <td>   48.102</td> <td> 0.000</td> <td>    9.508</td> <td>   10.316</td>\n",
       "</tr>\n",
       "<tr>\n",
       "  <th>day_of_year</th>           <td>  -84.8152</td> <td>   16.606</td> <td>   -5.108</td> <td> 0.000</td> <td> -117.364</td> <td>  -52.267</td>\n",
       "</tr>\n",
       "<tr>\n",
       "  <th>bed_bath_ratio</th>        <td>-3.672e+04</td> <td> 2841.281</td> <td>  -12.923</td> <td> 0.000</td> <td>-4.23e+04</td> <td>-3.11e+04</td>\n",
       "</tr>\n",
       "<tr>\n",
       "  <th>level_ratio</th>           <td> 6676.7674</td> <td>  645.298</td> <td>   10.347</td> <td> 0.000</td> <td> 5411.935</td> <td> 7941.600</td>\n",
       "</tr>\n",
       "<tr>\n",
       "  <th>relative_living_space</th> <td>   28.4418</td> <td>    1.907</td> <td>   14.917</td> <td> 0.000</td> <td>   24.705</td> <td>   32.179</td>\n",
       "</tr>\n",
       "<tr>\n",
       "  <th>relative_lot_size</th>     <td>    0.1630</td> <td>    0.043</td> <td>    3.776</td> <td> 0.000</td> <td>    0.078</td> <td>    0.248</td>\n",
       "</tr>\n",
       "<tr>\n",
       "  <th>level_difference</th>      <td>   -5.8694</td> <td>    1.702</td> <td>   -3.449</td> <td> 0.001</td> <td>   -9.205</td> <td>   -2.534</td>\n",
       "</tr>\n",
       "<tr>\n",
       "  <th>floor_1.5</th>             <td> 2432.2423</td> <td> 6214.983</td> <td>    0.391</td> <td> 0.696</td> <td>-9749.598</td> <td> 1.46e+04</td>\n",
       "</tr>\n",
       "<tr>\n",
       "  <th>floor_2.0</th>             <td> 7893.1064</td> <td> 4911.573</td> <td>    1.607</td> <td> 0.108</td> <td>-1733.952</td> <td> 1.75e+04</td>\n",
       "</tr>\n",
       "<tr>\n",
       "  <th>floor_2.5</th>             <td> 1.379e+05</td> <td>  1.9e+04</td> <td>    7.262</td> <td> 0.000</td> <td> 1.01e+05</td> <td> 1.75e+05</td>\n",
       "</tr>\n",
       "<tr>\n",
       "  <th>floor_3.0</th>             <td> 1.896e+05</td> <td> 1.07e+04</td> <td>   17.784</td> <td> 0.000</td> <td> 1.69e+05</td> <td> 2.11e+05</td>\n",
       "</tr>\n",
       "<tr>\n",
       "  <th>floor_3.5</th>             <td> 3.182e+05</td> <td> 8.66e+04</td> <td>    3.676</td> <td> 0.000</td> <td> 1.49e+05</td> <td> 4.88e+05</td>\n",
       "</tr>\n",
       "<tr>\n",
       "  <th>grade_3</th>               <td>-5.615e+05</td> <td> 2.29e+05</td> <td>   -2.453</td> <td> 0.014</td> <td>-1.01e+06</td> <td>-1.13e+05</td>\n",
       "</tr>\n",
       "<tr>\n",
       "  <th>grade_4</th>               <td>-5.588e+05</td> <td> 4.54e+04</td> <td>  -12.315</td> <td> 0.000</td> <td>-6.48e+05</td> <td> -4.7e+05</td>\n",
       "</tr>\n",
       "<tr>\n",
       "  <th>grade_5</th>               <td> -5.59e+05</td> <td> 1.83e+04</td> <td>  -30.471</td> <td> 0.000</td> <td>-5.95e+05</td> <td>-5.23e+05</td>\n",
       "</tr>\n",
       "<tr>\n",
       "  <th>grade_6</th>               <td>-5.222e+05</td> <td> 1.15e+04</td> <td>  -45.537</td> <td> 0.000</td> <td>-5.45e+05</td> <td>   -5e+05</td>\n",
       "</tr>\n",
       "<tr>\n",
       "  <th>grade_7</th>               <td>-4.673e+05</td> <td> 9284.257</td> <td>  -50.333</td> <td> 0.000</td> <td>-4.85e+05</td> <td>-4.49e+05</td>\n",
       "</tr>\n",
       "<tr>\n",
       "  <th>grade_8</th>               <td>-4.007e+05</td> <td> 8209.172</td> <td>  -48.815</td> <td> 0.000</td> <td>-4.17e+05</td> <td>-3.85e+05</td>\n",
       "</tr>\n",
       "<tr>\n",
       "  <th>grade_9</th>               <td>-2.807e+05</td> <td> 7854.483</td> <td>  -35.740</td> <td> 0.000</td> <td>-2.96e+05</td> <td>-2.65e+05</td>\n",
       "</tr>\n",
       "</table>\n",
       "<table class=\"simpletable\">\n",
       "<tr>\n",
       "  <th>Omnibus:</th>       <td>17822.564</td> <th>  Durbin-Watson:     </th>  <td>   1.990</td>  \n",
       "</tr>\n",
       "<tr>\n",
       "  <th>Prob(Omnibus):</th>  <td> 0.000</td>   <th>  Jarque-Bera (JB):  </th> <td>1636183.519</td>\n",
       "</tr>\n",
       "<tr>\n",
       "  <th>Skew:</th>           <td> 3.548</td>   <th>  Prob(JB):          </th>  <td>    0.00</td>  \n",
       "</tr>\n",
       "<tr>\n",
       "  <th>Kurtosis:</th>       <td>45.508</td>   <th>  Cond. No.          </th>  <td>4.21e+16</td>  \n",
       "</tr>\n",
       "</table><br/><br/>Notes:<br/>[1] Standard Errors assume that the covariance matrix of the errors is correctly specified.<br/>[2] The smallest eigenvalue is 3.5e-20. This might indicate that there are<br/>strong multicollinearity problems or that the design matrix is singular."
      ],
      "text/plain": [
       "<class 'statsmodels.iolib.summary.Summary'>\n",
       "\"\"\"\n",
       "                            OLS Regression Results                            \n",
       "==============================================================================\n",
       "Dep. Variable:                  price   R-squared:                       0.615\n",
       "Model:                            OLS   Adj. R-squared:                  0.614\n",
       "Method:                 Least Squares   F-statistic:                     1603.\n",
       "Date:                Mon, 14 Mar 2022   Prob (F-statistic):               0.00\n",
       "Time:                        00:33:48   Log-Likelihood:            -2.9089e+05\n",
       "No. Observations:               21143   AIC:                         5.818e+05\n",
       "Df Residuals:                   21121   BIC:                         5.820e+05\n",
       "Df Model:                          21                                         \n",
       "Covariance Type:            nonrobust                                         \n",
       "=========================================================================================\n",
       "                            coef    std err          t      P>|t|      [0.025      0.975]\n",
       "-----------------------------------------------------------------------------------------\n",
       "const                  3.608e+05   1.55e+04     23.252      0.000     3.3e+05    3.91e+05\n",
       "sqft_living             103.2842      1.404     73.586      0.000     100.533     106.035\n",
       "sqft_lot                 -0.1792      0.026     -6.824      0.000      -0.231      -0.128\n",
       "sqft_above               48.7074      0.969     50.267      0.000      46.808      50.607\n",
       "sqft_basement            54.5768      1.222     44.651      0.000      52.181      56.973\n",
       "sqft_living15            74.8424      2.193     34.126      0.000      70.544      79.141\n",
       "sqft_lot15               -0.3422      0.045     -7.567      0.000      -0.431      -0.254\n",
       "age                       9.9121      0.206     48.102      0.000       9.508      10.316\n",
       "day_of_year             -84.8152     16.606     -5.108      0.000    -117.364     -52.267\n",
       "bed_bath_ratio        -3.672e+04   2841.281    -12.923      0.000   -4.23e+04   -3.11e+04\n",
       "level_ratio            6676.7674    645.298     10.347      0.000    5411.935    7941.600\n",
       "relative_living_space    28.4418      1.907     14.917      0.000      24.705      32.179\n",
       "relative_lot_size         0.1630      0.043      3.776      0.000       0.078       0.248\n",
       "level_difference         -5.8694      1.702     -3.449      0.001      -9.205      -2.534\n",
       "floor_1.5              2432.2423   6214.983      0.391      0.696   -9749.598    1.46e+04\n",
       "floor_2.0              7893.1064   4911.573      1.607      0.108   -1733.952    1.75e+04\n",
       "floor_2.5              1.379e+05    1.9e+04      7.262      0.000    1.01e+05    1.75e+05\n",
       "floor_3.0              1.896e+05   1.07e+04     17.784      0.000    1.69e+05    2.11e+05\n",
       "floor_3.5              3.182e+05   8.66e+04      3.676      0.000    1.49e+05    4.88e+05\n",
       "grade_3               -5.615e+05   2.29e+05     -2.453      0.014   -1.01e+06   -1.13e+05\n",
       "grade_4               -5.588e+05   4.54e+04    -12.315      0.000   -6.48e+05    -4.7e+05\n",
       "grade_5                -5.59e+05   1.83e+04    -30.471      0.000   -5.95e+05   -5.23e+05\n",
       "grade_6               -5.222e+05   1.15e+04    -45.537      0.000   -5.45e+05      -5e+05\n",
       "grade_7               -4.673e+05   9284.257    -50.333      0.000   -4.85e+05   -4.49e+05\n",
       "grade_8               -4.007e+05   8209.172    -48.815      0.000   -4.17e+05   -3.85e+05\n",
       "grade_9               -2.807e+05   7854.483    -35.740      0.000   -2.96e+05   -2.65e+05\n",
       "==============================================================================\n",
       "Omnibus:                    17822.564   Durbin-Watson:                   1.990\n",
       "Prob(Omnibus):                  0.000   Jarque-Bera (JB):          1636183.519\n",
       "Skew:                           3.548   Prob(JB):                         0.00\n",
       "Kurtosis:                      45.508   Cond. No.                     4.21e+16\n",
       "==============================================================================\n",
       "\n",
       "Notes:\n",
       "[1] Standard Errors assume that the covariance matrix of the errors is correctly specified.\n",
       "[2] The smallest eigenvalue is 3.5e-20. This might indicate that there are\n",
       "strong multicollinearity problems or that the design matrix is singular.\n",
       "\"\"\""
      ]
     },
     "execution_count": 15,
     "metadata": {},
     "output_type": "execute_result"
    }
   ],
   "source": [
    "predictors_int = sm.add_constant(X1)\n",
    "model = sm.OLS(y,predictors_int).fit()\n",
    "model.summary()"
   ]
  },
  {
   "cell_type": "code",
   "execution_count": null,
   "metadata": {},
   "outputs": [],
   "source": [
    "const = ['sqft_living', 'sqft_lot', 'sqft_above', 'sqft_basement', 'sqft_living15',\n",
    "       'sqft_lot15', 'age', 'day_of_year', 'bed_bath_ratio', 'level_ratio',\n",
    "       'relative_living_space', 'relative_lot_size', 'level_difference']"
   ]
  },
  {
   "cell_type": "code",
   "execution_count": 16,
   "metadata": {},
   "outputs": [
    {
     "data": {
      "text/plain": [
       "{'sqft_living': inf,\n",
       " 'sqft_lot': inf,\n",
       " 'sqft_above': inf,\n",
       " 'sqft_basement': inf,\n",
       " 'sqft_living15': inf,\n",
       " 'sqft_lot15': inf,\n",
       " 'age': 7.5763270965326415,\n",
       " 'day_of_year': 4.609797089068806,\n",
       " 'bed_bath_ratio': 10.597223766479553,\n",
       " 'level_ratio': 1.3124845496944062,\n",
       " 'relative_living_space': inf,\n",
       " 'relative_lot_size': inf,\n",
       " 'level_difference': inf,\n",
       " 'floor_1.5': 1.3661789192512974,\n",
       " 'floor_2.0': 3.6050468071951927,\n",
       " 'floor_2.5': 1.0744681740222501,\n",
       " 'floor_3.0': 1.1965928721407277,\n",
       " 'floor_3.5': 1.0030623258518556,\n",
       " 'grade_3': 1.0010483498460887,\n",
       " 'grade_4': 1.024690552527942,\n",
       " 'grade_5': 1.2111521811654704,\n",
       " 'grade_6': 2.605961874015836,\n",
       " 'grade_7': 5.617192081807528,\n",
       " 'grade_8': 3.4367383417121062,\n",
       " 'grade_9': 2.111221282372842}"
      ]
     },
     "execution_count": 16,
     "metadata": {},
     "output_type": "execute_result"
    }
   ],
   "source": [
    "create_vif_dictionary(X1)"
   ]
  },
  {
   "cell_type": "code",
   "execution_count": null,
   "metadata": {},
   "outputs": [],
   "source": [
    "MAE = mean_absolute_error(y,model.predict())\n",
    "MSE = mean_squared_error(y,model.predict())\n",
    "rSE = np.sqrt(MSE)\n",
    "\n",
    "print(\"Mean Absolute Error: \", MAE)\n",
    "print(\"Mean Squared Error: \", MSE)\n",
    "print(\"Root Mean Squared Error: \", rSE)"
   ]
  },
  {
   "cell_type": "code",
   "execution_count": 19,
   "metadata": {},
   "outputs": [],
   "source": [
    "# X1.iloc[:,0:13].hist(figsize=(10,10))\n",
    "# plt.show()"
   ]
  },
  {
   "cell_type": "markdown",
   "metadata": {},
   "source": [
    "### Observations\n",
    "\n",
    "Items in pushin_p list show acceptable Pvalues, while items in maybe_p show unaccaptable Pvalues (P > 0.05) they visually appear to show a linear relationship on the scatter plot so they should be further investigated and perhaps transformed for a better fit into the OLS model. While items in pushin_vif are the only items that show acceptable variance inflation factors (VIF). 'day_of_year' and 'level_ratio' show acceptable VIF as well as acceptable Pvalues, indicating good confidence in these data features. \n",
    "\n",
    "The Durbin-Watson score is nearly perfect, which I find suspicious to say the least considering the obnoxious lack of normality amongst all the features. \n",
    "\n",
    "The root mean squared error is ASTRONOMICAL which means it is probably worth looking into standardizing the units accross feature. My intuition is that this is at least impart due to there being so man different units of measurement used among the continuous variables in the dataset. \n",
    "\n",
    "The Jarque-Bera score is through the roof, with a Pvalue of 0.0 indicating the null hypothesis that the data is normal should definitely be rejected; the skew and kurtosis is consistent with the model however. \n",
    "\n",
    "The model as a whole presents an extreme skewness as well as kurtosis, these statitics should reduce as the model improves; skewness and kurtosis should both move toward 1, skewness should go at least below zero and kurtosis should get as close to 3 as possible. This would indicate the data distribution finding a more \"normal\" shape. "
   ]
  },
  {
   "cell_type": "code",
   "execution_count": null,
   "metadata": {},
   "outputs": [],
   "source": [
    "# from pathlib import Path  \n",
    "# # model_data['price'] = y\n",
    "# filepath = Path('data/one_hot_one.csv')  \n",
    "# filepath.parent.mkdir(parents=True, exist_ok=True)  \n",
    "# model_data.to_csv(filepath,index=False)"
   ]
  },
  {
   "cell_type": "code",
   "execution_count": 20,
   "metadata": {},
   "outputs": [],
   "source": [
    "log_tran = pd.DataFrame([])\n",
    "\n",
    "for feat in X1.iloc[:,0:13].columns:\n",
    "    log_tran[feat] = np.log(X[feat])\n",
    "\n",
    "log_tran.replace(np.NaN, 0,inplace=True)\n",
    "log_tran['sqft_basement'].replace(np.NINF,5,inplace=True)\n",
    "log_tran['level_ratio'].replace(np.NINF,-1,inplace=True)\n",
    "log_tran['relative_living_space'].replace(np.NINF,-9.069928,inplace=True)\n",
    "log_tran['relative_lot_size'].replace(np.NINF,-14.019086,inplace=True)\n",
    "log_tran['level_difference'].replace(np.NINF,-8.989694,inplace=True)\n"
   ]
  },
  {
   "cell_type": "code",
   "execution_count": 26,
   "metadata": {},
   "outputs": [],
   "source": [
    "# log_tran.hist(figsize=(10,10))\n",
    "# plt.show()"
   ]
  },
  {
   "cell_type": "code",
   "execution_count": 24,
   "metadata": {},
   "outputs": [],
   "source": [
    "log_tran['level_difference'] = X1['level_difference']\n",
    "log_tran['day_of_year'] = X1['day_of_year']"
   ]
  },
  {
   "cell_type": "code",
   "execution_count": 27,
   "metadata": {},
   "outputs": [],
   "source": [
    "# log_tran.hist(figsize=(10,10))\n",
    "# plt.show()"
   ]
  },
  {
   "cell_type": "code",
   "execution_count": null,
   "metadata": {},
   "outputs": [],
   "source": [
    "#mean normalization\n",
    "\n",
    "norm_means = pd.DataFrame([])\n",
    "\n",
    "for feat in cont_log.columns : \n",
    "    x_bar = np.mean(cont_log[feat])\n",
    "    x_compliment = (cont_log[feat]-x_bar)/(np.max(cont_log[feat]) - np.min(cont_log[feat]))\n",
    "    norm_means[feat] = x_compliment"
   ]
  },
  {
   "cell_type": "code",
   "execution_count": null,
   "metadata": {},
   "outputs": [],
   "source": [
    "# norm_means.hist(figsize=(10,10))"
   ]
  },
  {
   "cell_type": "code",
   "execution_count": null,
   "metadata": {},
   "outputs": [],
   "source": [
    "standardized = pd.DataFrame([])\n",
    "\n",
    "for feat in X1.iloc[:,0:13].columns : \n",
    "    x_bar = np.mean(X1[feat])\n",
    "    sigma = np.std(X1[feat])\n",
    "    x_compliment = (X1[feat]-x_bar)/sigma\n",
    "    standardized[feat] = x_compliment"
   ]
  },
  {
   "cell_type": "code",
   "execution_count": null,
   "metadata": {},
   "outputs": [],
   "source": [
    "# standardized.hist(figsize=(10,10))\n"
   ]
  },
  {
   "cell_type": "code",
   "execution_count": 28,
   "metadata": {},
   "outputs": [],
   "source": [
    "minmax = pd.DataFrame([])\n",
    "\n",
    "for feat in log_tran.columns : \n",
    "    x = log_tran[feat]\n",
    "    minmax[feat] = (x-np.min(x))/(np.max(x)-min(x))"
   ]
  },
  {
   "cell_type": "code",
   "execution_count": 29,
   "metadata": {},
   "outputs": [
    {
     "data": {
      "text/plain": [
       "Index(['sqft_living', 'sqft_lot', 'sqft_above', 'sqft_basement',\n",
       "       'sqft_living15', 'sqft_lot15', 'age', 'day_of_year', 'bed_bath_ratio',\n",
       "       'level_ratio', 'relative_living_space', 'relative_lot_size',\n",
       "       'level_difference'],\n",
       "      dtype='object')"
      ]
     },
     "execution_count": 29,
     "metadata": {},
     "output_type": "execute_result"
    }
   ],
   "source": [
    "minmax.columns"
   ]
  },
  {
   "cell_type": "code",
   "execution_count": 30,
   "metadata": {},
   "outputs": [],
   "source": [
    "transcoded = pd.concat([minmax,hot_cats],axis=1)"
   ]
  },
  {
   "cell_type": "code",
   "execution_count": 51,
   "metadata": {},
   "outputs": [
    {
     "name": "stdout",
     "output_type": "stream",
     "text": [
      "day_of_year is good :)\n",
      "level_ratio is good :)\n",
      "floor_1.5 is good :)\n",
      "floor_2.5 is good :)\n",
      "floor_3.0 is good :)\n",
      "floor_3.5 is good :)\n",
      "grade_3 is good :)\n",
      "grade_4 is good :)\n",
      "grade_5 is good :)\n",
      "grade_6 is good :)\n",
      "grade_7 is good :)\n",
      "grade_8 is good :)\n",
      "grade_9 is good :)\n"
     ]
    },
    {
     "data": {
      "text/plain": [
       "['sqft_living',\n",
       " 'sqft_lot',\n",
       " 'sqft_above',\n",
       " 'sqft_basement',\n",
       " 'sqft_living15',\n",
       " 'sqft_lot15',\n",
       " 'age',\n",
       " 'bed_bath_ratio',\n",
       " 'level_difference']"
      ]
     },
     "execution_count": 51,
     "metadata": {},
     "output_type": "execute_result"
    }
   ],
   "source": [
    "vifs = create_vif_dictionary(transcoded.drop(['relative_living_space','relative_lot_size','floor_2.0'],axis=1))\n",
    "drop_vifs = []\n",
    "for k,v in vifs.items():\n",
    "    if v >= 10 :\n",
    "        drop_vifs.append(k)\n",
    "    else:\n",
    "        print(k,\"is good :)\")\n",
    "drop_vifs"
   ]
  },
  {
   "cell_type": "code",
   "execution_count": null,
   "metadata": {},
   "outputs": [],
   "source": [
    "transcoded.drop(['sqft_living',\n",
    " 'sqft_lot',\n",
    " 'sqft_above',\n",
    " 'sqft_basement',\n",
    " 'sqft_living15',\n",
    " 'sqft_lot15',\n",
    " 'age',\n",
    " 'bed_bath_ratio',\n",
    " 'level_difference','relative_living_space','relative_lot_size','floor_2.0'],axis=1)"
   ]
  },
  {
   "cell_type": "code",
   "execution_count": 52,
   "metadata": {},
   "outputs": [
    {
     "data": {
      "text/html": [
       "<table class=\"simpletable\">\n",
       "<caption>OLS Regression Results</caption>\n",
       "<tr>\n",
       "  <th>Dep. Variable:</th>          <td>price</td>      <th>  R-squared:         </th>  <td>   0.478</td>  \n",
       "</tr>\n",
       "<tr>\n",
       "  <th>Model:</th>                   <td>OLS</td>       <th>  Adj. R-squared:    </th>  <td>   0.478</td>  \n",
       "</tr>\n",
       "<tr>\n",
       "  <th>Method:</th>             <td>Least Squares</td>  <th>  F-statistic:       </th>  <td>   1488.</td>  \n",
       "</tr>\n",
       "<tr>\n",
       "  <th>Date:</th>             <td>Mon, 14 Mar 2022</td> <th>  Prob (F-statistic):</th>   <td>  0.00</td>   \n",
       "</tr>\n",
       "<tr>\n",
       "  <th>Time:</th>                 <td>01:11:11</td>     <th>  Log-Likelihood:    </th> <td>-2.9410e+05</td>\n",
       "</tr>\n",
       "<tr>\n",
       "  <th>No. Observations:</th>      <td> 21143</td>      <th>  AIC:               </th>  <td>5.882e+05</td> \n",
       "</tr>\n",
       "<tr>\n",
       "  <th>Df Residuals:</th>          <td> 21129</td>      <th>  BIC:               </th>  <td>5.883e+05</td> \n",
       "</tr>\n",
       "<tr>\n",
       "  <th>Df Model:</th>              <td>    13</td>      <th>                     </th>      <td> </td>     \n",
       "</tr>\n",
       "<tr>\n",
       "  <th>Covariance Type:</th>      <td>nonrobust</td>    <th>                     </th>      <td> </td>     \n",
       "</tr>\n",
       "</table>\n",
       "<table class=\"simpletable\">\n",
       "<tr>\n",
       "       <td></td>          <th>coef</th>     <th>std err</th>      <th>t</th>      <th>P>|t|</th>  <th>[0.025</th>    <th>0.975]</th>  \n",
       "</tr>\n",
       "<tr>\n",
       "  <th>const</th>       <td> 1.213e+06</td> <td> 7711.332</td> <td>  157.360</td> <td> 0.000</td> <td>  1.2e+06</td> <td> 1.23e+06</td>\n",
       "</tr>\n",
       "<tr>\n",
       "  <th>day_of_year</th> <td>-2.335e+04</td> <td> 7010.951</td> <td>   -3.330</td> <td> 0.001</td> <td>-3.71e+04</td> <td>-9607.214</td>\n",
       "</tr>\n",
       "<tr>\n",
       "  <th>level_ratio</th> <td> 3.112e+05</td> <td> 1.06e+04</td> <td>   29.458</td> <td> 0.000</td> <td> 2.91e+05</td> <td> 3.32e+05</td>\n",
       "</tr>\n",
       "<tr>\n",
       "  <th>floor_1.5</th>   <td> 1.136e+05</td> <td> 6515.272</td> <td>   17.429</td> <td> 0.000</td> <td> 1.01e+05</td> <td> 1.26e+05</td>\n",
       "</tr>\n",
       "<tr>\n",
       "  <th>floor_2.5</th>   <td>  2.49e+05</td> <td> 2.15e+04</td> <td>   11.582</td> <td> 0.000</td> <td> 2.07e+05</td> <td> 2.91e+05</td>\n",
       "</tr>\n",
       "<tr>\n",
       "  <th>floor_3.0</th>   <td> 7729.2218</td> <td> 1.12e+04</td> <td>    0.689</td> <td> 0.491</td> <td>-1.43e+04</td> <td> 2.97e+04</td>\n",
       "</tr>\n",
       "<tr>\n",
       "  <th>floor_3.5</th>   <td> 3.014e+05</td> <td> 1.01e+05</td> <td>    2.995</td> <td> 0.003</td> <td> 1.04e+05</td> <td> 4.99e+05</td>\n",
       "</tr>\n",
       "<tr>\n",
       "  <th>grade_3</th>     <td> -9.48e+05</td> <td> 2.66e+05</td> <td>   -3.562</td> <td> 0.000</td> <td>-1.47e+06</td> <td>-4.26e+05</td>\n",
       "</tr>\n",
       "<tr>\n",
       "  <th>grade_4</th>     <td>-1.002e+06</td> <td> 5.17e+04</td> <td>  -19.404</td> <td> 0.000</td> <td> -1.1e+06</td> <td>-9.01e+05</td>\n",
       "</tr>\n",
       "<tr>\n",
       "  <th>grade_5</th>     <td>-9.762e+05</td> <td> 1.87e+04</td> <td>  -52.310</td> <td> 0.000</td> <td>-1.01e+06</td> <td> -9.4e+05</td>\n",
       "</tr>\n",
       "<tr>\n",
       "  <th>grade_6</th>     <td>  -9.4e+05</td> <td> 9015.664</td> <td> -104.262</td> <td> 0.000</td> <td>-9.58e+05</td> <td>-9.22e+05</td>\n",
       "</tr>\n",
       "<tr>\n",
       "  <th>grade_7</th>     <td>-8.534e+05</td> <td> 7264.837</td> <td> -117.475</td> <td> 0.000</td> <td>-8.68e+05</td> <td>-8.39e+05</td>\n",
       "</tr>\n",
       "<tr>\n",
       "  <th>grade_8</th>     <td>-7.145e+05</td> <td> 7509.071</td> <td>  -95.154</td> <td> 0.000</td> <td>-7.29e+05</td> <td>   -7e+05</td>\n",
       "</tr>\n",
       "<tr>\n",
       "  <th>grade_9</th>     <td>-4.754e+05</td> <td> 8479.859</td> <td>  -56.061</td> <td> 0.000</td> <td>-4.92e+05</td> <td>-4.59e+05</td>\n",
       "</tr>\n",
       "</table>\n",
       "<table class=\"simpletable\">\n",
       "<tr>\n",
       "  <th>Omnibus:</th>       <td>20459.027</td> <th>  Durbin-Watson:     </th>  <td>   1.984</td>  \n",
       "</tr>\n",
       "<tr>\n",
       "  <th>Prob(Omnibus):</th>  <td> 0.000</td>   <th>  Jarque-Bera (JB):  </th> <td>2917530.542</td>\n",
       "</tr>\n",
       "<tr>\n",
       "  <th>Skew:</th>           <td> 4.326</td>   <th>  Prob(JB):          </th>  <td>    0.00</td>  \n",
       "</tr>\n",
       "<tr>\n",
       "  <th>Kurtosis:</th>       <td>59.894</td>   <th>  Cond. No.          </th>  <td>    183.</td>  \n",
       "</tr>\n",
       "</table><br/><br/>Notes:<br/>[1] Standard Errors assume that the covariance matrix of the errors is correctly specified."
      ],
      "text/plain": [
       "<class 'statsmodels.iolib.summary.Summary'>\n",
       "\"\"\"\n",
       "                            OLS Regression Results                            \n",
       "==============================================================================\n",
       "Dep. Variable:                  price   R-squared:                       0.478\n",
       "Model:                            OLS   Adj. R-squared:                  0.478\n",
       "Method:                 Least Squares   F-statistic:                     1488.\n",
       "Date:                Mon, 14 Mar 2022   Prob (F-statistic):               0.00\n",
       "Time:                        01:11:11   Log-Likelihood:            -2.9410e+05\n",
       "No. Observations:               21143   AIC:                         5.882e+05\n",
       "Df Residuals:                   21129   BIC:                         5.883e+05\n",
       "Df Model:                          13                                         \n",
       "Covariance Type:            nonrobust                                         \n",
       "===============================================================================\n",
       "                  coef    std err          t      P>|t|      [0.025      0.975]\n",
       "-------------------------------------------------------------------------------\n",
       "const        1.213e+06   7711.332    157.360      0.000     1.2e+06    1.23e+06\n",
       "day_of_year -2.335e+04   7010.951     -3.330      0.001   -3.71e+04   -9607.214\n",
       "level_ratio  3.112e+05   1.06e+04     29.458      0.000    2.91e+05    3.32e+05\n",
       "floor_1.5    1.136e+05   6515.272     17.429      0.000    1.01e+05    1.26e+05\n",
       "floor_2.5     2.49e+05   2.15e+04     11.582      0.000    2.07e+05    2.91e+05\n",
       "floor_3.0    7729.2218   1.12e+04      0.689      0.491   -1.43e+04    2.97e+04\n",
       "floor_3.5    3.014e+05   1.01e+05      2.995      0.003    1.04e+05    4.99e+05\n",
       "grade_3      -9.48e+05   2.66e+05     -3.562      0.000   -1.47e+06   -4.26e+05\n",
       "grade_4     -1.002e+06   5.17e+04    -19.404      0.000    -1.1e+06   -9.01e+05\n",
       "grade_5     -9.762e+05   1.87e+04    -52.310      0.000   -1.01e+06    -9.4e+05\n",
       "grade_6       -9.4e+05   9015.664   -104.262      0.000   -9.58e+05   -9.22e+05\n",
       "grade_7     -8.534e+05   7264.837   -117.475      0.000   -8.68e+05   -8.39e+05\n",
       "grade_8     -7.145e+05   7509.071    -95.154      0.000   -7.29e+05      -7e+05\n",
       "grade_9     -4.754e+05   8479.859    -56.061      0.000   -4.92e+05   -4.59e+05\n",
       "==============================================================================\n",
       "Omnibus:                    20459.027   Durbin-Watson:                   1.984\n",
       "Prob(Omnibus):                  0.000   Jarque-Bera (JB):          2917530.542\n",
       "Skew:                           4.326   Prob(JB):                         0.00\n",
       "Kurtosis:                      59.894   Cond. No.                         183.\n",
       "==============================================================================\n",
       "\n",
       "Notes:\n",
       "[1] Standard Errors assume that the covariance matrix of the errors is correctly specified.\n",
       "\"\"\""
      ]
     },
     "execution_count": 52,
     "metadata": {},
     "output_type": "execute_result"
    }
   ],
   "source": [
    "predictors_int = sm.add_constant(transcoded.drop(['sqft_living',\n",
    " 'sqft_lot',\n",
    " 'sqft_above',\n",
    " 'sqft_basement',\n",
    " 'sqft_living15',\n",
    " 'sqft_lot15',\n",
    " 'age',\n",
    " 'bed_bath_ratio',\n",
    " 'level_difference','relative_living_space','relative_lot_size','floor_2.0'],axis=1))\n",
    "model = sm.OLS(y,predictors_int).fit()\n",
    "model.summary()"
   ]
  },
  {
   "cell_type": "code",
   "execution_count": null,
   "metadata": {},
   "outputs": [],
   "source": [
    "minmax.head()"
   ]
  },
  {
   "cell_type": "code",
   "execution_count": null,
   "metadata": {},
   "outputs": [],
   "source": [
    "X.head()"
   ]
  },
  {
   "cell_type": "markdown",
   "metadata": {},
   "source": [
    "on intial data (model_data)\n",
    "-Drop insignificant one-hot-encoded columns\n",
    "-drop categorical columns entirely (since they are represented with the one-hots)\n",
    "\n"
   ]
  }
 ],
 "metadata": {
  "interpreter": {
   "hash": "b62fc28397e0e4cb1e39255301c85bb1da6c7cffa12ea06e5c97e128b6556567"
  },
  "kernelspec": {
   "display_name": "Python (learn-env)",
   "language": "python",
   "name": "python3"
  },
  "language_info": {
   "codemirror_mode": {
    "name": "ipython",
    "version": 3
   },
   "file_extension": ".py",
   "mimetype": "text/x-python",
   "name": "python",
   "nbconvert_exporter": "python",
   "pygments_lexer": "ipython3",
   "version": "3.8.5"
  }
 },
 "nbformat": 4,
 "nbformat_minor": 4
}
