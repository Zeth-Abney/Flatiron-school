{
 "cells": [
  {
   "cell_type": "markdown",
   "metadata": {},
   "source": [
    "# Milestone 4 EDA  \n",
    "\n",
    "Goals:\n",
    "- load structured data \n",
    "- load image data"
   ]
  },
  {
   "cell_type": "markdown",
   "metadata": {},
   "source": [
    "## Exploring structured data"
   ]
  },
  {
   "cell_type": "code",
   "execution_count": null,
   "metadata": {},
   "outputs": [],
   "source": [
    "import pandas as pd\n",
    "import numpy as np"
   ]
  },
  {
   "cell_type": "markdown",
   "metadata": {},
   "source": [
    "Training data includes filenames of photos along with the correct headcount in \"train\" dataframe and in the \"bbox_train\" dataframe there is the filename along with the image size (width, heigth) along with 4 limits representing the bounding box for a face, there is a row for each individual face. "
   ]
  },
  {
   "cell_type": "code",
   "execution_count": null,
   "metadata": {},
   "outputs": [],
   "source": [
    "data_table = pd.read_csv(\"data/structured data/headcount-table.csv\")\n",
    "print(data_table.info())\n",
    "data_table.head()"
   ]
  },
  {
   "cell_type": "code",
   "execution_count": null,
   "metadata": {},
   "outputs": [],
   "source": [
    "bbox_table = pd.read_csv(\"data/structured data/bbox_table.csv\")\n",
    "print(bbox_table.info())\n",
    "print('--------------------------------------')\n",
    "print(\"Unique photos: \",len(bbox_table['Name'].unique()))\n",
    "print('--------------------------------------')\n",
    "bbox_table.head()"
   ]
  },
  {
   "cell_type": "markdown",
   "metadata": {},
   "source": [
    "### Plotting head count distribution"
   ]
  },
  {
   "cell_type": "code",
   "execution_count": null,
   "metadata": {},
   "outputs": [],
   "source": [
    "import matplotlib.pyplot as plt \n",
    "import seaborn as sns"
   ]
  },
  {
   "cell_type": "code",
   "execution_count": null,
   "metadata": {},
   "outputs": [],
   "source": [
    "sns.set(rc={'figure.figsize':(11.7,8.27)})\n",
    "# g = sns.histplot(data=data_table[\"HeadCount\"])\n",
    "# g.set(xlim=(0,25))\n",
    "\n",
    "h = sns.histplot(data=data_table[\"HeadCount\"],color='orange')\n",
    "h.set(xlim=(0,25))\n",
    "\n",
    "plt.title(\"Head count distribution\",fontdict={'fontsize':18})\n",
    "# plt.legend(['Train'])\n",
    "plt.show()"
   ]
  },
  {
   "cell_type": "markdown",
   "metadata": {},
   "source": [
    "## Loading and displaying image data"
   ]
  },
  {
   "cell_type": "code",
   "execution_count": null,
   "metadata": {},
   "outputs": [],
   "source": [
    "import PIL\n",
    "from PIL import Image, ImageDraw\n",
    "import tensorflow as tf\n",
    "from tensorflow import keras"
   ]
  },
  {
   "cell_type": "code",
   "execution_count": null,
   "metadata": {},
   "outputs": [],
   "source": [
    "bbox_table.head()"
   ]
  },
  {
   "cell_type": "code",
   "execution_count": null,
   "metadata": {},
   "outputs": [],
   "source": [
    "# display an image\n",
    "path = \"data/train/10002.jpg\"\n",
    "w,h = list(bbox_table.loc[bbox_table[\"Name\"]=='10002.jpg']['width'])[0],list(bbox_table.loc[bbox_table[\"Name\"]=='10002.jpg']['height'])[0]\n",
    "\n",
    "im = Image.open(path)\n",
    "im.show()\n"
   ]
  },
  {
   "cell_type": "code",
   "execution_count": null,
   "metadata": {},
   "outputs": [],
   "source": [
    "# display a group of bounding boxes\n",
    "box_table = bbox_table.loc[bbox_table.Name==\"10002.jpg\"]\n",
    "w,h = box_table.width.iloc[0],box_table.height.iloc[0]\n",
    "\n",
    "with Image.new(\"RGB\",(w,h)) as img: \n",
    "\n",
    "    for row in box_table.iterrows():\n",
    "        shape = [row[1].xmin,row[1].ymin,row[1].xmax,row[1].ymax]\n",
    "        bbox = ImageDraw.Draw(img)\n",
    "        bbox.rectangle(shape,outline='red')\n",
    "\n",
    "    img.show()\n"
   ]
  },
  {
   "cell_type": "code",
   "execution_count": null,
   "metadata": {},
   "outputs": [],
   "source": [
    "# draw bounding boxes on a photo to display\n",
    "path = \"data/train/10002.jpg\"\n",
    "box_table = bbox_table.loc[bbox_table.Name==\"10002.jpg\"]\n",
    "w,h = box_table.width.iloc[0],box_table.height.iloc[0]\n",
    "\n",
    "with Image.open(path) as img: \n",
    "\n",
    "    for row in box_table.iterrows():\n",
    "        shape = [row[1].xmin,row[1].ymin,row[1].xmax,row[1].ymax]\n",
    "        bbox = ImageDraw.Draw(img)\n",
    "        bbox.rectangle(shape,outline='red')\n",
    "\n",
    "    img.show()\n"
   ]
  },
  {
   "cell_type": "code",
   "execution_count": null,
   "metadata": {},
   "outputs": [],
   "source": [
    "# Formalize the above cell as a function\n",
    "\n",
    "def show_photo(num:int):\n",
    "    try:\n",
    "        if len(str(num)) == 5:\n",
    "            path = f\"data/train/{str(num)}.jpg\"\n",
    "            box_table = bbox_table.loc[bbox_table.Name==path[-9:]]\n",
    "            w,h = box_table.width.iloc[0],box_table.height.iloc[0]\n",
    "            with Image.open(path) as img: \n",
    "                for row in box_table.iterrows():\n",
    "                    shape = [row[1].xmin,row[1].ymin,row[1].xmax,row[1].ymax]\n",
    "                    bbox = ImageDraw.Draw(img)\n",
    "                    bbox.rectangle(shape,outline='red')\n",
    "            return img.show(),print(path),box_table\n",
    "        \n",
    "        else:\n",
    "            return print(\"invaled number\")\n",
    "            \n",
    "    except IndexError:\n",
    "        print('photo not available in data set')"
   ]
  },
  {
   "cell_type": "code",
   "execution_count": null,
   "metadata": {},
   "outputs": [],
   "source": [
    "show_photo(10001)"
   ]
  },
  {
   "cell_type": "markdown",
   "metadata": {},
   "source": [
    "## organizing dataset subdirectory structure and establishing train-test split"
   ]
  },
  {
   "cell_type": "code",
   "execution_count": null,
   "metadata": {},
   "outputs": [],
   "source": [
    "import os\n",
    "from shutil import move\n",
    "from sklearn.model_selection import train_test_split"
   ]
  },
  {
   "cell_type": "markdown",
   "metadata": {},
   "source": [
    "Train test split"
   ]
  },
  {
   "cell_type": "code",
   "execution_count": null,
   "metadata": {},
   "outputs": [],
   "source": [
    "train,test = train_test_split(data_table.Name, test_size=0.25,random_state=42)"
   ]
  },
  {
   "cell_type": "code",
   "execution_count": null,
   "metadata": {},
   "outputs": [],
   "source": [
    "pre_split = os.listdir(\"data/parent/\")\n",
    "len(pre_split)"
   ]
  },
  {
   "cell_type": "code",
   "execution_count": null,
   "metadata": {},
   "outputs": [],
   "source": [
    "data_table.Nam"
   ]
  },
  {
   "cell_type": "code",
   "execution_count": null,
   "metadata": {},
   "outputs": [],
   "source": [
    "parent_dir = pd.Series(os.listdir(\"data/parent/\"))\n",
    "table = pd.concat([data_table.Name,parent_dir],axis=1)"
   ]
  },
  {
   "cell_type": "code",
   "execution_count": null,
   "metadata": {},
   "outputs": [],
   "source": [
    "table"
   ]
  },
  {
   "cell_type": "code",
   "execution_count": null,
   "metadata": {},
   "outputs": [],
   "source": [
    "parent_dir = \"data/parent/\"\n",
    "train_dir = \"data/train/\"\n",
    "test_dir = \"data/test/\"\n",
    "\n"
   ]
  },
  {
   "cell_type": "code",
   "execution_count": null,
   "metadata": {},
   "outputs": [],
   "source": []
  },
  {
   "cell_type": "code",
   "execution_count": null,
   "metadata": {},
   "outputs": [],
   "source": []
  },
  {
   "cell_type": "code",
   "execution_count": null,
   "metadata": {},
   "outputs": [],
   "source": []
  },
  {
   "cell_type": "code",
   "execution_count": null,
   "metadata": {},
   "outputs": [],
   "source": [
    "classes = data_table.HeadCount.unique()\n",
    "classes"
   ]
  },
  {
   "cell_type": "code",
   "execution_count": null,
   "metadata": {},
   "outputs": [],
   "source": [
    "parent_dir = 'data/image_data/train/'\n",
    "paths = []\n",
    "for cat in classes:\n",
    "    path = os.path.join(parent_dir, str(cat))\n",
    "    paths.append(path)\n",
    "\n",
    "ticker = 0 \n",
    "for path in paths:\n",
    "    os.mkdir(path)\n",
    "    ticker += 1\n",
    "\n",
    "print(ticker)"
   ]
  },
  {
   "cell_type": "code",
   "execution_count": null,
   "metadata": {},
   "outputs": [],
   "source": [
    "data_table.head()"
   ]
  },
  {
   "cell_type": "code",
   "execution_count": null,
   "metadata": {},
   "outputs": [],
   "source": [
    "source_dir = 'data/image_data/train/'\n",
    "\n",
    "for row in data_table.iterrows():\n",
    "    jpg = row[1].Name\n",
    "    headcount = row[1].HeadCount\n",
    "\n",
    "    source = f'data/image_data/train/{jpg}'\n",
    "    destination = f'data/image_data/train/{headcount}/{jpg}'\n",
    "    \n",
    "    move(source,destination)\n",
    "    "
   ]
  },
  {
   "cell_type": "markdown",
   "metadata": {},
   "source": [
    "## Loading image data with Keras"
   ]
  },
  {
   "cell_type": "code",
   "execution_count": null,
   "metadata": {},
   "outputs": [],
   "source": [
    "head_count_labels = list(data_table.HeadCount)\n",
    "train_ds = tf.keras.preprocessing.image_dataset_from_directory(\n",
    "    directory='data/image_data/train',\n",
    "    labels='inferred',\n",
    "    label_mode='int',\n",
    "    validation_split=0.25,\n",
    "    subset='training',\n",
    "    batch_size=32,\n",
    "    image_size=(408, 612),\n",
    "    seed=42)"
   ]
  },
  {
   "cell_type": "code",
   "execution_count": null,
   "metadata": {},
   "outputs": [],
   "source": [
    "test_ds = tf.keras.preprocessing.image_dataset_from_directory(\n",
    "    directory='data/image_data/train',\n",
    "    labels='inferred',\n",
    "    label_mode='int',\n",
    "    validation_split=0.25,\n",
    "    subset='validation',\n",
    "    batch_size=32,\n",
    "    image_size=(408, 612),\n",
    "    seed=42)"
   ]
  },
  {
   "cell_type": "code",
   "execution_count": null,
   "metadata": {},
   "outputs": [],
   "source": [
    "import matplotlib.pyplot as plt\n",
    "%matplotlib inline\n",
    "\n",
    "plt.figure(figsize=(10, 10))\n",
    "for images, labels in image_ds.take(1):\n",
    "  for i in range(9):\n",
    "    ax = plt.subplot(3, 3, i + 1)\n",
    "    plt.imshow(images[i].numpy().astype(\"uint8\"))\n",
    "    # plt.title(class_names[labels[i]])\n",
    "    plt.axis(\"off\")"
   ]
  },
  {
   "cell_type": "code",
   "execution_count": null,
   "metadata": {},
   "outputs": [],
   "source": []
  }
 ],
 "metadata": {
  "kernelspec": {
   "display_name": "Python 3.8.5 ('learn-env')",
   "language": "python",
   "name": "python3"
  },
  "language_info": {
   "codemirror_mode": {
    "name": "ipython",
    "version": 3
   },
   "file_extension": ".py",
   "mimetype": "text/x-python",
   "name": "python",
   "nbconvert_exporter": "python",
   "pygments_lexer": "ipython3",
   "version": "3.8.5"
  },
  "orig_nbformat": 4,
  "vscode": {
   "interpreter": {
    "hash": "8eb6b2671ae257969e1e6d572d1bfd2dc1c23f390a7081d26c146f9b82ef978d"
   }
  }
 },
 "nbformat": 4,
 "nbformat_minor": 2
}
