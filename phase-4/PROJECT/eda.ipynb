{
 "cells": [
  {
   "attachments": {},
   "cell_type": "markdown",
   "metadata": {},
   "source": [
    "# Project Overview"
   ]
  },
  {
   "cell_type": "markdown",
   "metadata": {},
   "source": [
    "# ![Overview](images/presentation_assets/Overview.png)     \n",
    "\n",
    "The goal of this project is to develop a convolutional neural network (CNN) designed to view images of chest x-ray scans and classify the images as showing symptoms of pneumonia (a label of '0') or not (a label of '1'). If succesful, the resulting model would be used to assist medical professionals by expediting the diagnostic process. This project aims to develop an AI that would power a software tool that could be added to the medical proffesionals tool bag and help make diagnosing Pneumonia easier and faster. This would benefit both the medical providers and patients by reducing man-hours per diagnosis thereby reducing overall costs. This AI model is being developed independently by myself with the goal of being absorbed by a larger relevent medical service busines. Once the model is ready for beta testing, the next step will be to pitch the product to stake holders of interested businesses who would have the resources develop an industry grade UI for the product and robust UX research.  "
   ]
  },
  {
   "attachments": {},
   "cell_type": "markdown",
   "metadata": {},
   "source": [
    "# ![Business Use Case](images/presentation_assets/Business%20Use%20Case.png)  \n",
    "\n",
    "Pneumonia is an infection of the lung that is quite prominent in the US today despite having some of the best medical care available. Pneumonia is the leading cause of death worldwide for children under 5 and is the most common cause for hospital admissions in the US, save for pregnancy<sup>[1](https://www.thoracic.org/patients/patient-resources/resources/top-pneumonia-facts.pdf)</sup>.  \n",
    "\n",
    "It is clear that there is much room for innovation in the way we handle the scourge Pneumonia, however the medical care *system* is notoriously complex and slow to adapt to the rapidly evolving technological landscape. Instead of reinventing the wheel, it is best to leverage extant industry technology and processees that capture Pneumonia among other diseases. Due to the ubiquitious use of x-ray technology around pneumonia and other diseases of the chest and torso, a wealth of image data is available that demonstrates quality examples of both healthy (or at least without pneumonia) respiratory tracts and those, in fact, with pneumonia.  \n",
    "\n",
    "A computer vision based machine learning model (ML), once properly trained and optimized, could easily be folded into the afformentioned existing technology. By partnering with the software providers behind the existing technology used to capture, view and store x-ray data. Said ML could easily be incorporated into the software and its *prediction* be provided to the medical profesional at their discretion. So long as clear and concise documentation is provided to the medical profesionals regarding how best to utilize and interpret this new AI feature of their pre-existing software this could potentially expedite the diagnostic timeline and provide the care provider with greater confidence in their own diagnoses.\n",
    "\n",
    "In other words, the business goal of this project is to be absorbed by an existing software provider that can integrate this AI model as the underlying engine for a new tool and/or feature in their existing, deployed software. The benefit to said software provider is to circumvent the AI development process and focus on areas they are already expert at such as UI/UX, backend, database, etc. This allows the software provider to further improve their product, without pioneering into totally new territory; likewise allows myself as a datascientist to make a meaningful and profitable impact without the cost of learning or hiring for a litany of adjacent skill sets."
   ]
  },
  {
   "attachments": {},
   "cell_type": "markdown",
   "metadata": {},
   "source": [
    "# Exploratory Data Analysis and Preprocessing"
   ]
  },
  {
   "attachments": {},
   "cell_type": "markdown",
   "metadata": {},
   "source": [
    "# ![Data Source](images/presentation_assets/Data%20Overview.png)\n",
    "This project utilizes a dataset of 5856 jpeg images of chest x-ray scans from patient's at the Guangzchou Women's and Children's Medical Center in China.  \n",
    "\n",
    "This dataset originally comes from [Mendeley Data](https://data.mendeley.com/datasets/rscbjbr9sj/2) and it was directly sourced for this project from Paul Mooney on [Kaggle.com](https://www.kaggle.com/datasets/paultimothymooney/chest-xray-pneumonia) using the Kaggle API on the command line. The original kaggle post describes the dataset as follows:  \n",
    "\n",
    "> The dataset is organized into 3 folders (train, test, val) and contains subfolders for each image category (Pneumonia/Normal). There are 5,863 X-Ray images (JPEG) and 2 categories (Pneumonia/Normal). Chest X-ray images (anterior-posterior) were selected from retrospective cohorts of pediatric patients of one to five years old from Guangzhou Women and Children’s Medical Center, Guangzhou. All chest X-ray imaging was performed as part of patients’ routine clinical care. For the analysis of chest x-ray images, all chest radiographs were initially screened for quality control by removing all low quality or unreadable scans. The diagnoses for the images were then graded by two expert physicians before being cleared for training the AI system. In order to account for any grading errors, the evaluation set was also checked by a third expert."
   ]
  },
  {
   "attachments": {},
   "cell_type": "markdown",
   "metadata": {},
   "source": [
    "## Data loading and summary"
   ]
  },
  {
   "cell_type": "code",
   "execution_count": 1,
   "metadata": {},
   "outputs": [],
   "source": [
    "import os\n",
    "import numpy as np \n",
    "import pandas as pd \n",
    "import matplotlib.pyplot as plt"
   ]
  },
  {
   "cell_type": "code",
   "execution_count": 2,
   "metadata": {},
   "outputs": [
    {
     "data": {
      "text/html": [
       "<div>\n",
       "<style scoped>\n",
       "    .dataframe tbody tr th:only-of-type {\n",
       "        vertical-align: middle;\n",
       "    }\n",
       "\n",
       "    .dataframe tbody tr th {\n",
       "        vertical-align: top;\n",
       "    }\n",
       "\n",
       "    .dataframe thead th {\n",
       "        text-align: right;\n",
       "    }\n",
       "</style>\n",
       "<table border=\"1\" class=\"dataframe\">\n",
       "  <thead>\n",
       "    <tr style=\"text-align: right;\">\n",
       "      <th></th>\n",
       "      <th>Train Sample</th>\n",
       "      <th>Test Sample</th>\n",
       "      <th>Val Sample</th>\n",
       "    </tr>\n",
       "  </thead>\n",
       "  <tbody>\n",
       "    <tr>\n",
       "      <th>Normal</th>\n",
       "      <td>1341</td>\n",
       "      <td>234</td>\n",
       "      <td>8</td>\n",
       "    </tr>\n",
       "    <tr>\n",
       "      <th>Pneumonia</th>\n",
       "      <td>3875</td>\n",
       "      <td>390</td>\n",
       "      <td>8</td>\n",
       "    </tr>\n",
       "    <tr>\n",
       "      <th>Total</th>\n",
       "      <td>5216</td>\n",
       "      <td>624</td>\n",
       "      <td>16</td>\n",
       "    </tr>\n",
       "  </tbody>\n",
       "</table>\n",
       "</div>"
      ],
      "text/plain": [
       "           Train Sample  Test Sample  Val Sample\n",
       "Normal             1341          234           8\n",
       "Pneumonia          3875          390           8\n",
       "Total              5216          624          16"
      ]
     },
     "execution_count": 2,
     "metadata": {},
     "output_type": "execute_result"
    }
   ],
   "source": [
    "# file paths to data directories\n",
    "train_dir = \"data/train/\"\n",
    "test_dir = \"data/test/\"\n",
    "val_dir = \"data/val/\"\n",
    "\n",
    "# dictionary of volume of data per class per sample\n",
    "class_balance_dict = {\n",
    "    \"Train Sample\":[len(os.listdir(train_dir+\"NORMAL\")),len(os.listdir(train_dir+\"PNEUMONIA\")),len(os.listdir(train_dir+\"NORMAL\"))+len(os.listdir(train_dir+\"PNEUMONIA\"))],\n",
    "    \"Test Sample\":[len(os.listdir(test_dir+\"NORMAL\")),len(os.listdir(test_dir+\"PNEUMONIA\")),len(os.listdir(test_dir+\"NORMAL\"))+len(os.listdir(test_dir+\"PNEUMONIA\"))],\n",
    "    \"Val Sample\":[len(os.listdir(val_dir+\"NORMAL\")),len(os.listdir(val_dir+\"PNEUMONIA\")),len(os.listdir(val_dir+\"NORMAL\"))+len(os.listdir(val_dir+\"PNEUMONIA\"))]\n",
    "}\n",
    "\n",
    "# class balance dictionary as a dataframe with row index representing class and column index representing sample\n",
    "class_balance_df = pd.DataFrame(class_balance_dict,index=['Normal', 'Pneumonia','Total'])\n",
    "class_balance_df"
   ]
  },
  {
   "cell_type": "markdown",
   "metadata": {},
   "source": [
    "The data comes already labeled and split for 3 way validation. The Train sample is, naturally, the largest of the 3 with over five thousand images, 66% of which are cases of pneumonia which will be the target prediction. The next largest is the test sample with over six hundred images of which 40% are trues cases of pneumonia. Finally, the validation set contains 16 images with each class being represented equally at 50%.  "
   ]
  },
  {
   "attachments": {},
   "cell_type": "markdown",
   "metadata": {},
   "source": [
    "### Visualization of Class Balance and Volume"
   ]
  },
  {
   "attachments": {},
   "cell_type": "markdown",
   "metadata": {},
   "source": [
    "Shows the class balance of each sample with the total volume per sample being normalized."
   ]
  },
  {
   "cell_type": "code",
   "execution_count": 3,
   "metadata": {},
   "outputs": [
    {
     "data": {
      "image/png": "[encoded data removed]",
      "text/plain": [
       "<Figure size 432x288 with 1 Axes>"
      ]
     },
     "metadata": {
      "needs_background": "light"
     },
     "output_type": "display_data"
    }
   ],
   "source": [
    "# Create colors\n",
    "blues = plt.cm.Blues\n",
    "\n",
    "# normalize data as percentage and rotate for plotting\n",
    "class_balance_normalized = class_balance_df.iloc[:-1,:].T.apply(lambda x: x/x.sum(), axis=1)\n",
    " \n",
    "# create stacked bar chart for students DataFrame\n",
    "class_balance_normalized.plot(kind='bar', stacked=True, color=[blues(0.5), blues(0.4)])\n",
    "\n",
    "# Add Title and Labels\n",
    "plt.title('Normalized Class Balance by Sample')\n",
    "plt.xlabel('Sample Split')\n",
    "plt.ylabel('Percent Class Balance')\n",
    "\n",
    "plt.legend(bbox_to_anchor=(1, 1))\n",
    "\n",
    "\n",
    "plt.show()"
   ]
  },
  {
   "attachments": {},
   "cell_type": "markdown",
   "metadata": {},
   "source": [
    "Shows the class balance per sample along with the total volume per sample"
   ]
  },
  {
   "cell_type": "code",
   "execution_count": 4,
   "metadata": {},
   "outputs": [
    {
     "data": {
      "image/png": "[encoded data removed]",
      "text/plain": [
       "<Figure size 432x288 with 1 Axes>"
      ]
     },
     "metadata": {
      "needs_background": "light"
     },
     "output_type": "display_data"
    }
   ],
   "source": [
    "# Create colors\n",
    "blues = plt.cm.Blues\n",
    "\n",
    "# create stacked bar chart for students DataFrame\n",
    "class_balance_df.iloc[:-1,:].T.plot(kind='bar', stacked=True, color=[blues(0.5), blues(0.4)])\n",
    "\n",
    "# Add Title and Labels\n",
    "plt.title('Class Balance by Sample Volume')\n",
    "plt.xlabel('Sample Split')\n",
    "plt.ylabel('Class Balance & Volume')\n",
    "\n",
    "plt.show()"
   ]
  },
  {
   "attachments": {},
   "cell_type": "markdown",
   "metadata": {},
   "source": [
    "Same information as above but visualied as a pie chart to make the validation sample readable (sort of)."
   ]
  },
  {
   "cell_type": "code",
   "execution_count": 5,
   "metadata": {},
   "outputs": [
    {
     "data": {
      "image/png": "[encoded data removed]",
      "text/plain": [
       "<Figure size 432x288 with 1 Axes>"
      ]
     },
     "metadata": {},
     "output_type": "display_data"
    }
   ],
   "source": [
    "# prepare data to plot\n",
    "subgroup_size = list(class_balance_df.iloc[:-1,0])+list(class_balance_df.iloc[:-1,1])+list(class_balance_df.iloc[:-1,2])\n",
    " \n",
    "# Create colors\n",
    "a, b, c = [plt.cm.Blues, plt.cm.Greens, plt.cm.Reds]\n",
    "pie_colors = [a(0.5), a(0.4), b(0.5), b(0.4), c(0.6), c(0.5)]\n",
    "\n",
    "# explode for readibility\n",
    "pie_explode = [0, 0, 0, 0, .2, .2]\n",
    "\n",
    "# plot the pie\n",
    "fig, ax = plt.subplots()\n",
    " \n",
    "pie, _ = ax.pie(subgroup_size, radius=1, explode=pie_explode, colors=pie_colors)\n",
    "plt.setp(pie, width=1, edgecolor='gray')\n",
    "plt.margins(0,0)\n",
    "\n",
    "# Create a legend with a list of labels\n",
    "labels = ['Normal - Train', 'Pneumonia - Train', 'Normal - Test','Pneumonia - Test','Normal - Val','Pneumonia - Val']\n",
    "plt.legend(labels=labels, bbox_to_anchor=(0, 1))\n",
    " \n",
    "# show it\n",
    "plt.show()"
   ]
  },
  {
   "attachments": {},
   "cell_type": "markdown",
   "metadata": {},
   "source": [
    "### Sanity Check: Can the images be displayed easily?"
   ]
  },
  {
   "cell_type": "code",
   "execution_count": 6,
   "metadata": {},
   "outputs": [],
   "source": [
    "from PIL import Image\n",
    "\n",
    "# an example of (first) and Normal x-ray scan and (second) and x-ray scan showing pneumonia\n",
    "Image.open(\"data/train/NORMAL/IM-0115-0001.jpeg\").show()\n",
    "Image.open(\"data/train/PNEUMONIA/person1001_bacteria_2932.jpeg\").show()"
   ]
  },
  {
   "attachments": {},
   "cell_type": "markdown",
   "metadata": {},
   "source": [
    "## Formating Data for Modeling"
   ]
  },
  {
   "attachments": {},
   "cell_type": "markdown",
   "metadata": {},
   "source": [
    "# ![Data Preparation](images/presentation_assets/Data%20Prep.png)\n",
    "\n",
    "As shown above the data comes already split into three distinct samples (train, test, and validate). Additionaly the originators of the data have already performed quality controlled binary class labeling by qualified professionals. There was no use of resampling methods throughout this project due to the sufficient volume of data (i.e. even the minority class is composed of several thousand data points). Therefore the only data preparations steps left are to prepare the image files to be \"readable\" to a Keras CNN, to achieve this I will be using the Keras  [ImageDataGenerator](https://www.tensorflow.org/api_docs/python/tf/keras/preprocessing/image/ImageDataGenerator) class along with its related flow_from_directory() method to read the jpg files found in the data folder into the generator objects. Upon instantiation of the generator objects the data will be normalized so that all first order tensors (a single pixel value) are scaled 0-1 instead of 0-255 (standard pixel values), and is set to grayscale so that each image is represented by a two dimensional tensor with a single color channel instead of three."
   ]
  },
  {
   "cell_type": "code",
   "execution_count": 7,
   "metadata": {},
   "outputs": [],
   "source": [
    "from keras.preprocessing.image import ImageDataGenerator"
   ]
  },
  {
   "cell_type": "code",
   "execution_count": 8,
   "metadata": {},
   "outputs": [
    {
     "name": "stdout",
     "output_type": "stream",
     "text": [
      "Found 5216 images belonging to 2 classes.\n",
      "Found 624 images belonging to 2 classes.\n",
      "Found 16 images belonging to 2 classes.\n"
     ]
    }
   ],
   "source": [
    "# instatiating a data degenerater for each split sample \n",
    "train_datagen = ImageDataGenerator(rescale=1./255)\n",
    "\n",
    "test_datagen = ImageDataGenerator(rescale=1./255)\n",
    "                                   \n",
    "val_datagen = ImageDataGenerator(rescale=1./255)\n",
    "\n",
    "train_data_generator = train_datagen.flow_from_directory(\n",
    "                       train_dir,\n",
    "                       target_size=(150,150),\n",
    "                       batch_size=16,\n",
    "                       class_mode='binary',\n",
    "                       color_mode='grayscale')\n",
    "\n",
    "test_data_generator = test_datagen.flow_from_directory(\n",
    "                      test_dir,\n",
    "                      target_size=(150,150),\n",
    "                      batch_size=16,\n",
    "                      class_mode='binary',\n",
    "                      color_mode='grayscale')\n",
    "\n",
    "val_data_generator = val_datagen.flow_from_directory(\n",
    "                     val_dir,\n",
    "                     target_size=(150,150),\n",
    "                     batch_size=16,\n",
    "                     class_mode='binary',\n",
    "                     color_mode='grayscale')"
   ]
  },
  {
   "attachments": {},
   "cell_type": "markdown",
   "metadata": {},
   "source": [
    "One key advantage to utilizing the ImageDataGenerator class is that it allows the X and y data to be readable by other Keras function and methods with a single variable. The generator objects all share the same parameters; the color mode is set to grayscale, reducing unnecessary volume and complexity of the input data, the class mode is set to binary, reflecting the binary classification requirements of this project, images are resized to 150 by 150 pixels, and the batch size was originally 16 but then reduced to 8 as it appeared to improve the models ability to learn. "
   ]
  },
  {
   "attachments": {},
   "cell_type": "markdown",
   "metadata": {},
   "source": [
    "## Data Modeling Methods\n",
    "For this project I will be using the Keras Python API to build a convolutional neural network. This is a class of model that is typically used for binary image classification so it will be well suited for this projects needs and goals.  \n",
    "\n",
    "The actual model protyping and development will be performed throughout the following [Modeling notebook](modeling.ipynb). Below is a meant to check a) if the data is formatted correctly to be readible by a CNN using the above preprocessing methods and b) protype the evaluation methods that will be used to analyze and diagnose model performance throughout iterations."
   ]
  },
  {
   "cell_type": "code",
   "execution_count": 26,
   "metadata": {},
   "outputs": [],
   "source": [
    "from keras import layers\n",
    "from keras import models\n",
    "from keras import optimizers\n",
    "from keras.metrics import Recall"
   ]
  },
  {
   "cell_type": "code",
   "execution_count": 27,
   "metadata": {},
   "outputs": [],
   "source": [
    "# build a simple convultional neural network\n",
    "base_model = models.Sequential()\n",
    "base_model.add(layers.Conv2D(32,(3,3),activation='relu',input_shape=(150,150,1)))\n",
    "base_model.add(layers.MaxPooling2D((2, 2)))\n",
    "base_model.add(layers.Flatten())\n",
    "base_model.add(layers.Dense(1, activation='sigmoid'))\n",
    "\n",
    "# compile model from above\n",
    "base_model.compile(loss='binary_crossentropy',metrics=['acc',Recall()])"
   ]
  },
  {
   "cell_type": "code",
   "execution_count": 29,
   "metadata": {},
   "outputs": [
    {
     "name": "stdout",
     "output_type": "stream",
     "text": [
      "Epoch 1/10\n",
      "25/25 [==============================] - 8s 330ms/step - loss: 1.2186 - acc: 0.6900 - recall: 0.8040 - val_loss: 0.7230 - val_acc: 0.5417 - val_recall: 0.2810\n",
      "Epoch 2/10\n",
      "25/25 [==============================] - 8s 318ms/step - loss: 0.4711 - acc: 0.7825 - recall: 0.8912 - val_loss: 0.4341 - val_acc: 0.7917 - val_recall: 0.9306\n",
      "Epoch 3/10\n",
      "25/25 [==============================] - 8s 325ms/step - loss: 0.3600 - acc: 0.8575 - recall: 0.9433 - val_loss: 0.6602 - val_acc: 0.6458 - val_recall: 1.0000\n",
      "Epoch 4/10\n",
      "25/25 [==============================] - 8s 310ms/step - loss: 0.2719 - acc: 0.8850 - recall: 0.9466 - val_loss: 0.2830 - val_acc: 0.9167 - val_recall: 0.9346\n",
      "Epoch 5/10\n",
      "25/25 [==============================] - 8s 316ms/step - loss: 0.2528 - acc: 0.9175 - recall: 0.9516 - val_loss: 0.4068 - val_acc: 0.7667 - val_recall: 0.9806\n",
      "Epoch 6/10\n",
      "25/25 [==============================] - 8s 314ms/step - loss: 0.1966 - acc: 0.9250 - recall: 0.9607 - val_loss: 0.6925 - val_acc: 0.6958 - val_recall: 1.0000\n",
      "Epoch 7/10\n",
      "25/25 [==============================] - 8s 318ms/step - loss: 0.1421 - acc: 0.9450 - recall: 0.9741 - val_loss: 0.4760 - val_acc: 0.7583 - val_recall: 0.9871\n",
      "Epoch 8/10\n",
      "25/25 [==============================] - 8s 327ms/step - loss: 0.1646 - acc: 0.9425 - recall: 0.9769 - val_loss: 0.4717 - val_acc: 0.7875 - val_recall: 0.9935\n",
      "Epoch 9/10\n",
      "25/25 [==============================] - 8s 318ms/step - loss: 0.1015 - acc: 0.9725 - recall: 0.9833 - val_loss: 1.0591 - val_acc: 0.6750 - val_recall: 1.0000\n",
      "Epoch 10/10\n",
      "25/25 [==============================] - 8s 318ms/step - loss: 0.1145 - acc: 0.9675 - recall: 0.9900 - val_loss: 0.9292 - val_acc: 0.7042 - val_recall: 0.9933\n"
     ]
    }
   ],
   "source": [
    "# fit the model to the training data and validate with the test sample\n",
    "base_model_results = base_model.fit(train_data_generator, \n",
    "                    batch_size=16,\n",
    "                    epochs=10,\n",
    "                    steps_per_epoch=25,\n",
    "                    validation_data=test_data_generator,\n",
    "                    validation_steps=15\n",
    "                    )"
   ]
  },
  {
   "attachments": {},
   "cell_type": "markdown",
   "metadata": {},
   "source": [
    "## Model Evaluation Methods\n",
    "Because the intended us of this AI being developed is intended to be used in a medical diagnostic setting. I will be priortizing improving perforance in regard to recall and F1-score with some tolerance for false positves (i.e. normal labeled as pneumonia) and a low tolerance for false negatives (i.e. pneumonia labeled as normal).  \n",
    "\n",
    "Below I will develop several functions that will be used to mine performance statistics on the models classification ability and visualize those values in a sensical way. These functions will relay primarily on numpy and sklearn (metrics module) to calculate the values needed. Pandas to format some of the data, and matplotlib to render the visualizations. "
   ]
  },
  {
   "cell_type": "code",
   "execution_count": 30,
   "metadata": {},
   "outputs": [],
   "source": [
    "from sklearn.metrics import confusion_matrix, classification_report"
   ]
  },
  {
   "attachments": {},
   "cell_type": "markdown",
   "metadata": {},
   "source": [
    "### Mining classification performance statistics\n",
    "The following functions calculates and returns and set of highly useful key performance indicators (KPIs)."
   ]
  },
  {
   "cell_type": "code",
   "execution_count": 44,
   "metadata": {},
   "outputs": [],
   "source": [
    "def evaluate_model_performance(model,data_generator):\n",
    "    \"\"\"\n",
    "    Takes in a keras model object and ImageDataGenerator object\n",
    "    Converts dataset from generator into a 3D numpy array\n",
    "    Calcultes key performance indicators (KPIs) \n",
    "    Returns recall and loss (tuple of floats), classification report, a confusion matrix (2d array), and the prediction and test labels (tuple of 1d arrays)\n",
    "    \"\"\"\n",
    "    \n",
    "    # declare X and y data arrays\n",
    "    batch_count = len(data_generator)\n",
    "\n",
    "    X_test_arr, y_test_arr = data_generator[0]\n",
    "\n",
    "    for i in range(batch_count):\n",
    "        X_batch, y_batch = data_generator[i]\n",
    "\n",
    "        X_test_arr = np.concatenate((X_test_arr,X_batch),axis=0)\n",
    "        y_test_arr = np.concatenate((y_test_arr,y_batch),axis=0)\n",
    "\n",
    "    # insantiate test prediction\n",
    "    y_pred = np.round(model.predict(X_test_arr))\n",
    "\n",
    "    # evaluate KPIs\n",
    "    loss, accuracy, recall = model.evaluate(X_test_arr,y_test_arr)\n",
    "\n",
    "    # calculate the confusion matrix and classification report\n",
    "    matrix = confusion_matrix(y_test_arr, y_pred)\n",
    "    report = classification_report(y_test_arr,y_pred)\n",
    "    \n",
    "    print(\"Done!\")\n",
    "    return (np.round(recall,4), np.round(loss,2)), report, matrix, (y_pred, y_test_arr)\n"
   ]
  },
  {
   "cell_type": "code",
   "execution_count": 45,
   "metadata": {},
   "outputs": [
    {
     "name": "stdout",
     "output_type": "stream",
     "text": [
      "20/20 [==============================] - 1s 57ms/step - loss: 0.8885 - acc: 0.7063 - recall: 0.9975\n",
      "Done!\n"
     ]
    }
   ],
   "source": [
    "(base_model_recall, base_model_loss), base_model_report, base_model_matrix, (y_pred, y_test) = evaluate_model_performance(base_model,test_data_generator) "
   ]
  },
  {
   "cell_type": "code",
   "execution_count": 46,
   "metadata": {},
   "outputs": [
    {
     "name": "stdout",
     "output_type": "stream",
     "text": [
      "model loss:  0.89\n",
      "model recall:  0.9975\n",
      "\n",
      "classification report: \n",
      "               precision    recall  f1-score   support\n",
      "\n",
      "         0.0       0.98      0.22      0.36       240\n",
      "         1.0       0.68      1.00      0.81       400\n",
      "\n",
      "    accuracy                           0.71       640\n",
      "   macro avg       0.83      0.61      0.58       640\n",
      "weighted avg       0.79      0.71      0.64       640\n",
      "\n",
      "\n",
      "confusion matrix: \n"
     ]
    },
    {
     "data": {
      "text/plain": [
       "array([[ 53, 187],\n",
       "       [  1, 399]], dtype=int64)"
      ]
     },
     "execution_count": 46,
     "metadata": {},
     "output_type": "execute_result"
    }
   ],
   "source": [
    "print(\"model loss: \",base_model_loss)\n",
    "print(\"model recall: \",base_model_recall)\n",
    "print(\"\\nclassification report: \\n\",base_model_report)\n",
    "print(\"\\nconfusion matrix: \")\n",
    "base_model_matrix"
   ]
  },
  {
   "attachments": {},
   "cell_type": "markdown",
   "metadata": {},
   "source": [
    "### Visualize model training history"
   ]
  },
  {
   "cell_type": "code",
   "execution_count": 80,
   "metadata": {},
   "outputs": [],
   "source": [
    "# visualizes accuracy and loss accross training epochs\n",
    "def visualize_training_history(model_history,recall_num:None):\n",
    "    \"\"\" \n",
    "    Visualizes the model's accuracy, loss, and recall as it evolves through training epochs.\n",
    "    Training data is represented as a dot plot while test data is visualized as a line plot\n",
    "    Takes two positional arguments:\n",
    "        - a model history object \n",
    "        - a suffix generated by keras as a string (i.e. \"_int\")\n",
    "            running this notebook sequentially without rerunning cells where models are compiled should allow for cells wher this function\n",
    "            is called to be run as is. However if there is an error, check that this parameter is the same suffix as that used in the verbose\n",
    "            print out from the cell where the relevant model is trained (i.e. some_model_results = some_model.fit()). This suffix is contained\n",
    "            in memory and is an artifact of what order the model was compiled relative to the others in the active kernal, meaning if the kernal \n",
    "            is reset, so are these suffixes.     \n",
    "    \"\"\"\n",
    "    acc = model_history.history['acc']\n",
    "    val_acc = model_history.history['val_acc']\n",
    "    loss = model_history.history['loss']\n",
    "    val_loss = model_history.history['val_loss']\n",
    "    recall = model_history.history['recall'+recall_num]\n",
    "    val_recall = model_history.history['val_recall'+recall_num]\n",
    "    epochs = range(len(acc))\n",
    "\n",
    "    # Create subplots with 1 row and 3 columns\n",
    "    fig, (ax3, ax2, ax1) = plt.subplots(1, 3, figsize=(16,4))\n",
    "\n",
    "    # Adjust the spacing between the plots\n",
    "    plt.subplots_adjust(wspace=.1)\n",
    "\n",
    "    # Plot the recall\n",
    "    ax3.plot(epochs, recall, 'bo', label='Training recall')\n",
    "    ax3.plot(epochs, val_recall, 'b', label='Test recall')\n",
    "    ax3.set_title('Training and Test recall')\n",
    "    ax3.legend()\n",
    "\n",
    "    # Plot the loss\n",
    "    ax2.plot(epochs, loss, 'bo', label='Training loss')\n",
    "    ax2.plot(epochs, val_loss, 'b', label='Test loss')\n",
    "    ax2.set_title('Training and Test loss')\n",
    "    ax2.legend()\n",
    "\n",
    "    # Plot the accuracy\n",
    "    ax1.plot(epochs, acc, 'bo', label='Training acc')\n",
    "    ax1.plot(epochs, val_acc, 'b', label='Validation acc')\n",
    "    ax1.set_title('Training and validation accuracy')\n",
    "    ax1.legend()\n",
    "\n",
    "    # Show the plots\n",
    "    plt.show()"
   ]
  },
  {
   "cell_type": "code",
   "execution_count": 81,
   "metadata": {},
   "outputs": [
    {
     "data": {
      "image/png": "[encoded data removed]",
      "text/plain": [
       "<Figure size 1152x288 with 3 Axes>"
      ]
     },
     "metadata": {
      "needs_background": "light"
     },
     "output_type": "display_data"
    }
   ],
   "source": [
    "visualize_training_history(base_model_results,recall_num=\"\")"
   ]
  },
  {
   "attachments": {},
   "cell_type": "markdown",
   "metadata": {},
   "source": [
    "### Visualize comparison of true class balance vs. predictions\n",
    "The below function renders a horizontal bar chart with two bars, one bar shows the true labels and the other shows the predicted labels. Both the bars are stacked in order to show the class balance of each set of labels."
   ]
  },
  {
   "cell_type": "code",
   "execution_count": 75,
   "metadata": {},
   "outputs": [],
   "source": [
    "def viz_class_balance_comparison(y_test,y_pred):\n",
    "    \"\"\"\n",
    "    Takes in two 1d arrays, the true labels and the predicted labels\n",
    "    creates a dataframe of the class balance of each set \n",
    "    plots the class balance as a stacked barchart\n",
    "\n",
    "    returns the dataframe used to plot therefore...\n",
    "    displays plot *if* assigned to a variable\n",
    "    displays plot followed be dataframe if not assigned to a variable\n",
    "    \"\"\"\n",
    "\n",
    "    # get summary stats for test labels\n",
    "    test_unique, test_counts = np.unique(y_test, return_counts=True)\n",
    "    pred_unique, pred_counts = np.unique(y_pred, return_counts=True)\n",
    "\n",
    "    # format summary stats as a dictionary\n",
    "    balance_comparison_dict = {\"Test\":test_counts,\"Prediction\":pred_counts}\n",
    "\n",
    "    # format dictionary as a dataframe with custom indeces\n",
    "    balance_comparison_df = pd.DataFrame(balance_comparison_dict,index=[\"Normal\",\"Pneumonia\"])\n",
    "    \n",
    "    # plot stacked bar chart\n",
    "    blues = plt.cm.Blues\n",
    "    balance_comparison_df.T.plot(kind='barh', stacked=True, color=[blues(0.5), blues(0.4)])\n",
    "    plt.show()\n",
    "\n",
    "    return balance_comparison_df\n"
   ]
  },
  {
   "cell_type": "code",
   "execution_count": 76,
   "metadata": {},
   "outputs": [
    {
     "data": {
      "image/png": "[encoded data removed]",
      "text/plain": [
       "<Figure size 432x288 with 1 Axes>"
      ]
     },
     "metadata": {
      "needs_background": "light"
     },
     "output_type": "display_data"
    },
    {
     "data": {
      "text/html": [
       "<div>\n",
       "<style scoped>\n",
       "    .dataframe tbody tr th:only-of-type {\n",
       "        vertical-align: middle;\n",
       "    }\n",
       "\n",
       "    .dataframe tbody tr th {\n",
       "        vertical-align: top;\n",
       "    }\n",
       "\n",
       "    .dataframe thead th {\n",
       "        text-align: right;\n",
       "    }\n",
       "</style>\n",
       "<table border=\"1\" class=\"dataframe\">\n",
       "  <thead>\n",
       "    <tr style=\"text-align: right;\">\n",
       "      <th></th>\n",
       "      <th>Test</th>\n",
       "      <th>Prediction</th>\n",
       "    </tr>\n",
       "  </thead>\n",
       "  <tbody>\n",
       "    <tr>\n",
       "      <th>Normal</th>\n",
       "      <td>240</td>\n",
       "      <td>54</td>\n",
       "    </tr>\n",
       "    <tr>\n",
       "      <th>Pneumonia</th>\n",
       "      <td>400</td>\n",
       "      <td>586</td>\n",
       "    </tr>\n",
       "  </tbody>\n",
       "</table>\n",
       "</div>"
      ],
      "text/plain": [
       "           Test  Prediction\n",
       "Normal      240          54\n",
       "Pneumonia   400         586"
      ]
     },
     "execution_count": 76,
     "metadata": {},
     "output_type": "execute_result"
    }
   ],
   "source": [
    "viz_class_balance_comparison(y_test,y_pred)"
   ]
  },
  {
   "attachments": {},
   "cell_type": "markdown",
   "metadata": {},
   "source": [
    "### Visualizing the confusion matrix\n",
    "Below takes the above confusion matrix, normalizes it to show percentages instead of counts and visualizes it as a heatmap."
   ]
  },
  {
   "cell_type": "code",
   "execution_count": 73,
   "metadata": {},
   "outputs": [],
   "source": [
    "def viz_confusion_matrix(confusion_matrix_array:np.array):\n",
    "    \"\"\"\n",
    "    Takes in a numpy array (must be 2D, with only 4 elements (i.e. a confusion matrix))\n",
    "    normalizes each element in the array to be a percentage \n",
    "    plots the normalized values as a confusion matrix using matplotlib\n",
    "    returns no values, uses .show() method to dispaly the figure\n",
    "    \"\"\"\n",
    "    # Confusion matrix as a 2D array\n",
    "    cm = confusion_matrix_array\n",
    "\n",
    "    # Normalize the confusion matrix\n",
    "    cm = np.round(cm/np.sum(cm),2)\n",
    "\n",
    "    # Create a figure and a subplot\n",
    "    fig, ax = plt.subplots()\n",
    "\n",
    "    # Plot the confusion matrix as a heatmap\n",
    "    im = ax.imshow(cm, cmap='winter',vmin=0,vmax=1)\n",
    "\n",
    "    # Add labels to the plot\n",
    "    ax.set_xlabel('Predicted labels')\n",
    "    ax.set_ylabel('True labels')\n",
    "    ax.set_title('Confusion Matrix')\n",
    "\n",
    "    # add lines between quadrants for more contrast\n",
    "    ax.axvline(x=0.5, color='k', linestyle='solid', linewidth=3, alpha=0.5)\n",
    "    ax.axhline(y=0.5, color='k', linestyle='solid', linewidth=3, alpha=0.5)\n",
    "\n",
    "    # Add a colorbar to the plot\n",
    "    fig.colorbar(im)\n",
    "\n",
    "    # Set the tick marks for the x and y axes\n",
    "    ax.set_xticks(np.arange(2))\n",
    "    ax.set_yticks(np.arange(2))\n",
    "    ax.set_xticklabels([0, 1])\n",
    "    ax.set_yticklabels([0, 1])\n",
    "\n",
    "    # Loop over the data dimensions and create text annotations\n",
    "    for i in range(2):\n",
    "        for j in range(2):\n",
    "            text = ax.text(j, i, f'{cm[i, j]:.2f}', ha='center', va='center', color='w')\n",
    "\n",
    "    # Show the plot\n",
    "    plt.show()"
   ]
  },
  {
   "cell_type": "code",
   "execution_count": 74,
   "metadata": {},
   "outputs": [
    {
     "data": {
      "image/png": "[encoded data removed]",
      "text/plain": [
       "<Figure size 432x288 with 2 Axes>"
      ]
     },
     "metadata": {
      "needs_background": "light"
     },
     "output_type": "display_data"
    }
   ],
   "source": [
    "viz_confusion_matrix(base_model_matrix)"
   ]
  },
  {
   "attachments": {},
   "cell_type": "markdown",
   "metadata": {},
   "source": [
    "The above four functions are packaged in the [project toolkit](project_toolkit.py) file to be import as a module and used throught the following notebook where various iterations of the model will be prototyped and tested (using this para-module). "
   ]
  },
  {
   "attachments": {},
   "cell_type": "markdown",
   "metadata": {},
   "source": [
    "# Conlcusion \n",
    "The base model succesfully compiles and fits without any errors or warnings. The model outputs can be easily evaluated for classification quality using the above functions. The model also performs decently for a baseline model. I will continue tuning and optimizing thhe model in the [modeling notebook](/PROJECT-2/modeling.ipynb), there I will experiment with various architectures, training protocolls, and other techniques to adapt the model for its unique and specific purpose."
   ]
  }
 ],
 "metadata": {
  "kernelspec": {
   "display_name": "Python 3.8.5 ('learn-env')",
   "language": "python",
   "name": "python3"
  },
  "language_info": {
   "codemirror_mode": {
    "name": "ipython",
    "version": 3
   },
   "file_extension": ".py",
   "mimetype": "text/x-python",
   "name": "python",
   "nbconvert_exporter": "python",
   "pygments_lexer": "ipython3",
   "version": "3.8.5"
  },
  "orig_nbformat": 4,
  "vscode": {
   "interpreter": {
    "hash": "8eb6b2671ae257969e1e6d572d1bfd2dc1c23f390a7081d26c146f9b82ef978d"
   }
  }
 },
 "nbformat": 4,
 "nbformat_minor": 2
}
