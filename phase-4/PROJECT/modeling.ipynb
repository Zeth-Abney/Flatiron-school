{
 "cells": [
  {
   "attachments": {},
   "cell_type": "markdown",
   "metadata": {},
   "source": [
    "# Modeling Notebook "
   ]
  },
  {
   "attachments": {},
   "cell_type": "markdown",
   "metadata": {},
   "source": [
    "# ![Modeling Methods](images/presentation_assets/Modeling%20Method.png)\n",
    "\n",
    "This notebook is meant to follow the [EDA notebook](eda.ipynb). In the previous notebook I preformed initial exploration and summary analysis of the data set being used in this project, as a well as formalizing the methods that will be used for evaluation. In this notebook I will build a convolutional neural network using the Python Keras API experimenting with various adjustments to find the best variation for this projects goals.\n",
    "\n",
    "The prototype process will be as follows:  \n",
    "- Begin with an initial [baseline model](#baseline-model)\n",
    "- Experimenting with the [model architecture](#sophisticating-model-architecture)\n",
    "- Experimenting with the [training protocol](#sophisticating-model-architecture)\n",
    "- Testing various [regularization methods](#network-regularization)\n",
    "- Testing various [optimization algorithms](#gradient-descent-optimization)"
   ]
  },
  {
   "cell_type": "code",
   "execution_count": 1,
   "metadata": {},
   "outputs": [],
   "source": [
    "from sklearn.metrics import confusion_matrix, classification_report\n",
    "\n",
    "import matplotlib.pyplot as plt\n",
    "import matplotlib.colors as colors\n",
    "%matplotlib inline\n",
    "\n",
    "import numpy as np\n",
    "import pandas as pd"
   ]
  },
  {
   "attachments": {},
   "cell_type": "markdown",
   "metadata": {},
   "source": [
    "# ![Data Source](images/presentation_assets/Data%20Overview.png)\n",
    "\n",
    "## Data Preprocessing\n",
    "Before modeling can begin the data must be formatted in a way that is readible to the model class object. This will follow the exact same preprocessing methods utilized in the previous [EDA notebook](eda.ipynb). Using the Keras ImageDataGenerator class ith the flow_from_directory() method, jpeg files from the subdirectory structure (according to the filepaths below) will be read into 4d arrays (batch index, image index, width, height). Images are set to grayscale so there will be only one colorchannel per image. "
   ]
  },
  {
   "cell_type": "code",
   "execution_count": 2,
   "metadata": {},
   "outputs": [],
   "source": [
    "# dependences for data loading and sifting\n",
    "import os\n",
    "from keras.preprocessing.image import ImageDataGenerator"
   ]
  },
  {
   "cell_type": "code",
   "execution_count": 3,
   "metadata": {},
   "outputs": [],
   "source": [
    "# file paths to data directories\n",
    "train_dir = \"data/train/\"\n",
    "test_dir = \"data/test/\"\n",
    "val_dir = \"data/val/\""
   ]
  },
  {
   "cell_type": "code",
   "execution_count": 4,
   "metadata": {},
   "outputs": [
    {
     "name": "stdout",
     "output_type": "stream",
     "text": [
      "Found 5216 images belonging to 2 classes.\n",
      "Found 624 images belonging to 2 classes.\n",
      "Found 16 images belonging to 2 classes.\n"
     ]
    }
   ],
   "source": [
    "# instatiating a data degenerater for each split sample \n",
    "train_datagen = ImageDataGenerator(rescale=1./255)\n",
    "\n",
    "test_datagen = ImageDataGenerator(rescale=1./255)\n",
    "                                   \n",
    "val_datagen = ImageDataGenerator(rescale=1./255)\n",
    "\n",
    "train_data_generator = train_datagen.flow_from_directory(\n",
    "                       train_dir,\n",
    "                       target_size=(150,150),\n",
    "                       batch_size=16,\n",
    "                       class_mode='binary',\n",
    "                       color_mode='grayscale')\n",
    "\n",
    "test_data_generator = test_datagen.flow_from_directory(\n",
    "                      test_dir,\n",
    "                      target_size=(150,150),\n",
    "                      batch_size=16,\n",
    "                      class_mode='binary',\n",
    "                      color_mode='grayscale')\n",
    "\n",
    "val_data_generator = val_datagen.flow_from_directory(\n",
    "                     val_dir,\n",
    "                     target_size=(150,150),\n",
    "                     batch_size=16,\n",
    "                     class_mode='binary',\n",
    "                     color_mode='grayscale')"
   ]
  },
  {
   "attachments": {},
   "cell_type": "markdown",
   "metadata": {},
   "source": [
    "## Baseline Model\n",
    "Beginning a convolutional neural network with the most simple architecture for the sake of efficient diagnostics and optimization.  \n",
    "The architecture begins with a convolutional 2D layers, followed by a pooling layer, flattened, and then followed up with two dense layers.  \n",
    "THe model is compiled using binary cross entropy to measure the loss function and accuracy foor the performance metric.  "
   ]
  },
  {
   "cell_type": "code",
   "execution_count": 5,
   "metadata": {},
   "outputs": [],
   "source": [
    "# model class dependencies\n",
    "from keras import layers\n",
    "from keras import models\n",
    "from keras import optimizers\n",
    "from keras.metrics import Recall"
   ]
  },
  {
   "cell_type": "code",
   "execution_count": 6,
   "metadata": {},
   "outputs": [],
   "source": [
    "base_model = models.Sequential()\n",
    "base_model.add(layers.Conv2D(32,(3,3),activation='relu',input_shape=(150,150,1)))\n",
    "base_model.add(layers.MaxPooling2D((2, 2)))\n",
    "base_model.add(layers.Flatten())\n",
    "base_model.add(layers.Dense(512, activation='relu'))\n",
    "base_model.add(layers.Dense(1, activation='sigmoid'))\n",
    "\n",
    "base_model.compile(\n",
    "              loss='binary_crossentropy',\n",
    "              metrics=['acc',Recall()]\n",
    "              )"
   ]
  },
  {
   "cell_type": "code",
   "execution_count": 7,
   "metadata": {},
   "outputs": [
    {
     "name": "stdout",
     "output_type": "stream",
     "text": [
      "Epoch 1/5\n",
      "20/20 [==============================] - 19s 929ms/step - loss: 2.8539 - acc: 0.6531 - recall: 0.7298 - val_loss: 1.3840 - val_acc: 0.6125 - val_recall: 1.0000\n",
      "Epoch 2/5\n",
      "20/20 [==============================] - 18s 921ms/step - loss: 0.5621 - acc: 0.7781 - recall: 0.8782 - val_loss: 0.6715 - val_acc: 0.6458 - val_recall: 0.9865\n",
      "Epoch 3/5\n",
      "20/20 [==============================] - 18s 902ms/step - loss: 0.4157 - acc: 0.8250 - recall: 0.9017 - val_loss: 0.4330 - val_acc: 0.7708 - val_recall: 0.9753\n",
      "Epoch 4/5\n",
      "20/20 [==============================] - 18s 913ms/step - loss: 0.3068 - acc: 0.8719 - recall: 0.9217 - val_loss: 0.3678 - val_acc: 0.8500 - val_recall: 0.8831\n",
      "Epoch 5/5\n",
      "20/20 [==============================] - 18s 902ms/step - loss: 0.2508 - acc: 0.8938 - recall: 0.9386 - val_loss: 0.4114 - val_acc: 0.8250 - val_recall: 0.7445\n"
     ]
    }
   ],
   "source": [
    "base_model_results = base_model.fit(train_data_generator, \n",
    "                              steps_per_epoch=20, \n",
    "                              epochs=5, \n",
    "                              validation_data=test_data_generator, \n",
    "                              validation_steps=15)"
   ]
  },
  {
   "cell_type": "code",
   "execution_count": 8,
   "metadata": {},
   "outputs": [
    {
     "name": "stdout",
     "output_type": "stream",
     "text": [
      "Model: \"sequential\"\n",
      "_________________________________________________________________\n",
      "Layer (type)                 Output Shape              Param #   \n",
      "=================================================================\n",
      "conv2d (Conv2D)              (None, 148, 148, 32)      320       \n",
      "_________________________________________________________________\n",
      "max_pooling2d (MaxPooling2D) (None, 74, 74, 32)        0         \n",
      "_________________________________________________________________\n",
      "flatten (Flatten)            (None, 175232)            0         \n",
      "_________________________________________________________________\n",
      "dense (Dense)                (None, 512)               89719296  \n",
      "_________________________________________________________________\n",
      "dense_1 (Dense)              (None, 1)                 513       \n",
      "=================================================================\n",
      "Total params: 89,720,129\n",
      "Trainable params: 89,720,129\n",
      "Non-trainable params: 0\n",
      "_________________________________________________________________\n"
     ]
    }
   ],
   "source": [
    "base_model.summary()"
   ]
  },
  {
   "attachments": {},
   "cell_type": "markdown",
   "metadata": {},
   "source": [
    "### Evaluate base model"
   ]
  },
  {
   "cell_type": "code",
   "execution_count": 9,
   "metadata": {},
   "outputs": [
    {
     "name": "stdout",
     "output_type": "stream",
     "text": [
      "['evaluate_model(model,data_generator)', 'viz_training_history(model_history,recall_num:None)', 'viz_class_balance_comparison(y_test,y_pred)', 'viz_confusion_matrix(confusion_matrix_array:np.array)']\n"
     ]
    }
   ],
   "source": [
    "import project_toolkit as ptk\n",
    "\n",
    "# this function shows a list of the functions available in the project toolkit module\n",
    "ptk.toolkit_list()"
   ]
  },
  {
   "cell_type": "code",
   "execution_count": 10,
   "metadata": {},
   "outputs": [
    {
     "name": "stdout",
     "output_type": "stream",
     "text": [
      "20/20 [==============================] - 2s 107ms/step - loss: 0.4148 - acc: 0.8172 - recall: 0.7632\n",
      "Done!\n",
      "              precision    recall  f1-score   support\n",
      "\n",
      "         0.0       0.70      0.91      0.79       243\n",
      "         1.0       0.93      0.76      0.84       397\n",
      "\n",
      "    accuracy                           0.82       640\n",
      "   macro avg       0.82      0.83      0.81       640\n",
      "weighted avg       0.84      0.82      0.82       640\n",
      "\n"
     ]
    }
   ],
   "source": [
    "# base_kpi is a tuple of (recall, loss)\n",
    "# base_report is a sklearn classification report\n",
    "# base_matrix is a confusion matrix as a 2d array\n",
    "# base_labels is a tuple of (y_test, y_pred)\n",
    "# other variables assigned with this function will follow these naming conventions througout the notebook <--- !!!\n",
    "\n",
    "base_kpi, base_report, base_matrix, base_labels = ptk.evaluate_model(base_model,test_data_generator)\n",
    "print(base_report)"
   ]
  },
  {
   "cell_type": "code",
   "execution_count": 11,
   "metadata": {},
   "outputs": [
    {
     "data": {
      "image/png": "[encoded data removed]",
      "text/plain": [
       "<Figure size 1152x288 with 3 Axes>"
      ]
     },
     "metadata": {
      "needs_background": "light"
     },
     "output_type": "display_data"
    }
   ],
   "source": [
    "ptk.viz_training_history(base_model_results,recall_num=\"\")"
   ]
  },
  {
   "cell_type": "code",
   "execution_count": 12,
   "metadata": {},
   "outputs": [
    {
     "data": {
      "image/png": "[encoded data removed]",
      "text/plain": [
       "<Figure size 432x288 with 2 Axes>"
      ]
     },
     "metadata": {
      "needs_background": "light"
     },
     "output_type": "display_data"
    }
   ],
   "source": [
    "ptk.viz_confusion_matrix(base_matrix)"
   ]
  },
  {
   "cell_type": "code",
   "execution_count": 13,
   "metadata": {},
   "outputs": [
    {
     "data": {
      "image/png": "[encoded data removed]",
      "text/plain": [
       "<Figure size 432x288 with 1 Axes>"
      ]
     },
     "metadata": {
      "needs_background": "light"
     },
     "output_type": "display_data"
    },
    {
     "data": {
      "text/html": [
       "<div>\n",
       "<style scoped>\n",
       "    .dataframe tbody tr th:only-of-type {\n",
       "        vertical-align: middle;\n",
       "    }\n",
       "\n",
       "    .dataframe tbody tr th {\n",
       "        vertical-align: top;\n",
       "    }\n",
       "\n",
       "    .dataframe thead th {\n",
       "        text-align: right;\n",
       "    }\n",
       "</style>\n",
       "<table border=\"1\" class=\"dataframe\">\n",
       "  <thead>\n",
       "    <tr style=\"text-align: right;\">\n",
       "      <th></th>\n",
       "      <th>Test</th>\n",
       "      <th>Prediction</th>\n",
       "    </tr>\n",
       "  </thead>\n",
       "  <tbody>\n",
       "    <tr>\n",
       "      <th>Normal</th>\n",
       "      <td>243</td>\n",
       "      <td>314</td>\n",
       "    </tr>\n",
       "    <tr>\n",
       "      <th>Pneumonia</th>\n",
       "      <td>397</td>\n",
       "      <td>326</td>\n",
       "    </tr>\n",
       "  </tbody>\n",
       "</table>\n",
       "</div>"
      ],
      "text/plain": [
       "           Test  Prediction\n",
       "Normal      243         314\n",
       "Pneumonia   397         326"
      ]
     },
     "execution_count": 13,
     "metadata": {},
     "output_type": "execute_result"
    }
   ],
   "source": [
    "ptk.viz_class_balance_comparison(base_labels[0],base_labels[1])"
   ]
  },
  {
   "attachments": {},
   "cell_type": "markdown",
   "metadata": {},
   "source": [
    "The base model succesfully compiles and trains. F1 score is at a decent start, however recall for the target label (1.) is lower than that of its counterpart, the overall accuracy is decent however the F1 and recall for the target label needs to improve quite a bit. The training history visualization shows that the model has plenty of \"room to grow\". The prediction labels class balance is neary 50/50. So my opinion at this point is that the model is underfitting, or perhaps biased towards the \"normal\" label. "
   ]
  },
  {
   "attachments": {},
   "cell_type": "markdown",
   "metadata": {},
   "source": [
    "## Sophisticating model architecture  \n",
    "\n",
    "The next step will be to expand the model architecture. This will multiply the parameters available to the model and therefore allow it to make higher order abstractions and discover less obvious connections within the features of the data. I will sophisticate the architecture by incorporating more layers of a variety of types including convolutional layers, pooling layers, and dense layers. "
   ]
  },
  {
   "cell_type": "code",
   "execution_count": 23,
   "metadata": {},
   "outputs": [],
   "source": [
    "deep_model = models.Sequential()\n",
    "\n",
    "deep_model.add(layers.Conv2D(32,(3,3),activation='relu',input_shape=(150,150,1)))\n",
    "deep_model.add(layers.MaxPooling2D((2, 2)))\n",
    "deep_model.add(layers.Conv2D(64, (3, 3), activation='relu'))\n",
    "deep_model.add(layers.MaxPooling2D((2, 2)))\n",
    "deep_model.add(layers.Conv2D(128, (3, 3), activation='relu'))\n",
    "deep_model.add(layers.MaxPooling2D((2, 2)))\n",
    "deep_model.add(layers.Flatten())\n",
    "deep_model.add(layers.Dense(512, activation='relu'))\n",
    "deep_model.add(layers.Dense(256, activation='relu'))\n",
    "deep_model.add(layers.Dense(1, activation='sigmoid'))\n",
    "\n",
    "deep_model.compile(\n",
    "              loss='binary_crossentropy',\n",
    "              metrics=['acc',Recall()]\n",
    "              )"
   ]
  },
  {
   "cell_type": "code",
   "execution_count": 24,
   "metadata": {},
   "outputs": [
    {
     "name": "stdout",
     "output_type": "stream",
     "text": [
      "Epoch 1/5\n",
      "20/20 [==============================] - 16s 780ms/step - loss: 0.8338 - acc: 0.7094 - recall_2: 0.9367 - val_loss: 0.5664 - val_acc: 0.8125 - val_recall_2: 0.9051\n",
      "Epoch 2/5\n",
      "20/20 [==============================] - 15s 730ms/step - loss: 0.5299 - acc: 0.8094 - recall_2: 0.9359 - val_loss: 0.5192 - val_acc: 0.7500 - val_recall_2: 0.9301\n",
      "Epoch 3/5\n",
      "20/20 [==============================] - 12s 623ms/step - loss: 0.4438 - acc: 0.8562 - recall_2: 0.9064 - val_loss: 0.6341 - val_acc: 0.7417 - val_recall_2: 0.9671\n",
      "Epoch 4/5\n",
      "20/20 [==============================] - 13s 626ms/step - loss: 0.2493 - acc: 0.9000 - recall_2: 0.9430 - val_loss: 1.1178 - val_acc: 0.6583 - val_recall_2: 1.0000\n",
      "Epoch 5/5\n",
      "20/20 [==============================] - 12s 617ms/step - loss: 0.4403 - acc: 0.8594 - recall_2: 0.9125 - val_loss: 0.7704 - val_acc: 0.7333 - val_recall_2: 1.0000\n"
     ]
    }
   ],
   "source": [
    "deep_model_results = deep_model.fit(train_data_generator, \n",
    "                              steps_per_epoch=20, \n",
    "                              epochs=5, \n",
    "                              validation_data=test_data_generator, \n",
    "                              validation_steps=15)"
   ]
  },
  {
   "cell_type": "code",
   "execution_count": 25,
   "metadata": {},
   "outputs": [
    {
     "name": "stdout",
     "output_type": "stream",
     "text": [
      "Model: \"sequential_2\"\n",
      "_________________________________________________________________\n",
      "Layer (type)                 Output Shape              Param #   \n",
      "=================================================================\n",
      "conv2d_4 (Conv2D)            (None, 148, 148, 32)      320       \n",
      "_________________________________________________________________\n",
      "max_pooling2d_4 (MaxPooling2 (None, 74, 74, 32)        0         \n",
      "_________________________________________________________________\n",
      "conv2d_5 (Conv2D)            (None, 72, 72, 64)        18496     \n",
      "_________________________________________________________________\n",
      "max_pooling2d_5 (MaxPooling2 (None, 36, 36, 64)        0         \n",
      "_________________________________________________________________\n",
      "conv2d_6 (Conv2D)            (None, 34, 34, 128)       73856     \n",
      "_________________________________________________________________\n",
      "max_pooling2d_6 (MaxPooling2 (None, 17, 17, 128)       0         \n",
      "_________________________________________________________________\n",
      "flatten_2 (Flatten)          (None, 36992)             0         \n",
      "_________________________________________________________________\n",
      "dense_5 (Dense)              (None, 512)               18940416  \n",
      "_________________________________________________________________\n",
      "dense_6 (Dense)              (None, 256)               131328    \n",
      "_________________________________________________________________\n",
      "dense_7 (Dense)              (None, 1)                 257       \n",
      "=================================================================\n",
      "Total params: 19,164,673\n",
      "Trainable params: 19,164,673\n",
      "Non-trainable params: 0\n",
      "_________________________________________________________________\n"
     ]
    }
   ],
   "source": [
    "deep_model.summary()"
   ]
  },
  {
   "attachments": {},
   "cell_type": "markdown",
   "metadata": {},
   "source": [
    "### Evaluate deeper model architecture"
   ]
  },
  {
   "cell_type": "code",
   "execution_count": 26,
   "metadata": {},
   "outputs": [
    {
     "name": "stdout",
     "output_type": "stream",
     "text": [
      "20/20 [==============================] - 3s 139ms/step - loss: 0.8005 - acc: 0.7063 - recall_2: 0.9924\n",
      "Done!\n",
      "              precision    recall  f1-score   support\n",
      "\n",
      "         0.0       0.95      0.24      0.39       244\n",
      "         1.0       0.68      0.99      0.81       396\n",
      "\n",
      "    accuracy                           0.71       640\n",
      "   macro avg       0.82      0.62      0.60       640\n",
      "weighted avg       0.78      0.71      0.65       640\n",
      "\n"
     ]
    }
   ],
   "source": [
    "deep_kpi, deep_report, deep_matrix, deep_labels = ptk.evaluate_model(deep_model,test_data_generator)\n",
    "print(deep_report)"
   ]
  },
  {
   "cell_type": "code",
   "execution_count": 28,
   "metadata": {},
   "outputs": [
    {
     "data": {
      "image/png": "[encoded data removed]",
      "text/plain": [
       "<Figure size 1152x288 with 3 Axes>"
      ]
     },
     "metadata": {
      "needs_background": "light"
     },
     "output_type": "display_data"
    }
   ],
   "source": [
    "ptk.viz_training_history(deep_model_results,recall_num=\"_2\")"
   ]
  },
  {
   "cell_type": "code",
   "execution_count": 29,
   "metadata": {},
   "outputs": [
    {
     "data": {
      "image/png": "[encoded data removed]",
      "text/plain": [
       "<Figure size 432x288 with 2 Axes>"
      ]
     },
     "metadata": {
      "needs_background": "light"
     },
     "output_type": "display_data"
    }
   ],
   "source": [
    "ptk.viz_confusion_matrix(deep_matrix)"
   ]
  },
  {
   "cell_type": "code",
   "execution_count": 30,
   "metadata": {},
   "outputs": [
    {
     "data": {
      "image/png": "[encoded data removed]",
      "text/plain": [
       "<Figure size 432x288 with 1 Axes>"
      ]
     },
     "metadata": {
      "needs_background": "light"
     },
     "output_type": "display_data"
    },
    {
     "data": {
      "text/html": [
       "<div>\n",
       "<style scoped>\n",
       "    .dataframe tbody tr th:only-of-type {\n",
       "        vertical-align: middle;\n",
       "    }\n",
       "\n",
       "    .dataframe tbody tr th {\n",
       "        vertical-align: top;\n",
       "    }\n",
       "\n",
       "    .dataframe thead th {\n",
       "        text-align: right;\n",
       "    }\n",
       "</style>\n",
       "<table border=\"1\" class=\"dataframe\">\n",
       "  <thead>\n",
       "    <tr style=\"text-align: right;\">\n",
       "      <th></th>\n",
       "      <th>Test</th>\n",
       "      <th>Prediction</th>\n",
       "    </tr>\n",
       "  </thead>\n",
       "  <tbody>\n",
       "    <tr>\n",
       "      <th>Normal</th>\n",
       "      <td>244</td>\n",
       "      <td>62</td>\n",
       "    </tr>\n",
       "    <tr>\n",
       "      <th>Pneumonia</th>\n",
       "      <td>396</td>\n",
       "      <td>578</td>\n",
       "    </tr>\n",
       "  </tbody>\n",
       "</table>\n",
       "</div>"
      ],
      "text/plain": [
       "           Test  Prediction\n",
       "Normal      244          62\n",
       "Pneumonia   396         578"
      ]
     },
     "execution_count": 30,
     "metadata": {},
     "output_type": "execute_result"
    }
   ],
   "source": [
    "ptk.viz_class_balance_comparison(deep_labels[0],deep_labels[1])"
   ]
  },
  {
   "cell_type": "markdown",
   "metadata": {},
   "source": []
  },
  {
   "cell_type": "markdown",
   "metadata": {},
   "source": [
    "## sophisticating the training protocol"
   ]
  },
  {
   "cell_type": "markdown",
   "metadata": {},
   "source": [
    "The next step I will take is sophisticating the parameters of the fit function being used. My intuition is that the fit function is too simple relative to the complexity of the model architecture. "
   ]
  },
  {
   "cell_type": "code",
   "execution_count": null,
   "metadata": {},
   "outputs": [],
   "source": [
    "fitter_model_results = deep_model.fit(train_data_generator, \n",
    "                                        steps_per_epoch=50, \n",
    "                                        epochs=15, \n",
    "                                        validation_data=test_data_generator, \n",
    "                                        validation_steps=25)"
   ]
  },
  {
   "cell_type": "markdown",
   "metadata": {},
   "source": [
    "The accuracy and loss on training data is begining to behave more as desired; however on the test data the history is still quite eratic indicating that the model is still overfitting and not able to generalize consistently. All that considered the final accuracy on the training data is the best so far so we're moving in the right direction."
   ]
  },
  {
   "cell_type": "code",
   "execution_count": null,
   "metadata": {},
   "outputs": [],
   "source": [
    "evaluate_model_performance(deep_model,test_data_generator)"
   ]
  },
  {
   "cell_type": "code",
   "execution_count": null,
   "metadata": {},
   "outputs": [],
   "source": [
    "visualize_training(fitter_model_results,\"_1\")"
   ]
  },
  {
   "cell_type": "markdown",
   "metadata": {},
   "source": [
    "## Network Regularization"
   ]
  },
  {
   "cell_type": "markdown",
   "metadata": {},
   "source": [
    "### L2 regularization\n",
    "I will begin regularizing the network by incorporating L2 regularization on the dense layers of the existing model architecture"
   ]
  },
  {
   "cell_type": "code",
   "execution_count": null,
   "metadata": {},
   "outputs": [],
   "source": [
    "from keras.regularizers import l2"
   ]
  },
  {
   "cell_type": "code",
   "execution_count": null,
   "metadata": {},
   "outputs": [],
   "source": [
    "\n",
    "L2_model = models.Sequential()\n",
    "\n",
    "L2_model.add(layers.Conv2D(32,(3,3),activation='relu',input_shape=(150,150,1)))\n",
    "L2_model.add(layers.MaxPooling2D((2, 2)))\n",
    "L2_model.add(layers.Conv2D(64, (3, 3), activation='relu'))\n",
    "L2_model.add(layers.MaxPooling2D((2, 2)))\n",
    "L2_model.add(layers.Conv2D(128, (3, 3), activation='relu'))\n",
    "L2_model.add(layers.MaxPooling2D((2, 2)))\n",
    "L2_model.add(layers.Flatten())\n",
    "L2_model.add(layers.Dense(512, activation='relu',kernel_regularizer=l2(0.005)))\n",
    "L2_model.add(layers.Dense(256, activation='relu',kernel_regularizer=l2(0.005)))\n",
    "L2_model.add(layers.Dense(1, activation='sigmoid'))\n",
    "\n",
    "L2_model.compile(\n",
    "              loss='binary_crossentropy',\n",
    "              metrics=['acc',Recall()]\n",
    "              )"
   ]
  },
  {
   "cell_type": "code",
   "execution_count": null,
   "metadata": {},
   "outputs": [],
   "source": [
    "# added 5 epochs from the last fit call\n",
    "L2_model_results = L2_model.fit(train_data_generator, \n",
    "                                        steps_per_epoch=50, \n",
    "                                        epochs=20, \n",
    "                                        validation_data=test_data_generator, \n",
    "                                        validation_steps=25)"
   ]
  },
  {
   "cell_type": "code",
   "execution_count": null,
   "metadata": {},
   "outputs": [],
   "source": [
    "L2_model.summary()"
   ]
  },
  {
   "cell_type": "markdown",
   "metadata": {},
   "source": [
    "L2 regularization appears to have addressed overfitting at least as far a recall is concerned. The recall is nearly perfect, however the validation loss is very high, considering this alongside that validation accuracy tends to be lower than desired, my interpretation is that the model is predicting almost all true positive cases, while also making a considrable amount of false positive predictions. This is more or less the behaviour I am looking for and is consistent with standards in the medical AI industry. The recall is well within an acceptable margin; in the interest of the end user however (i.e. the medical profesionals) I want to reduce the rate of false positives. This would reduce the amount of manual human effort required to validate diagnoses made by the model saving both time and money for both patients and service providers.  "
   ]
  },
  {
   "cell_type": "code",
   "execution_count": null,
   "metadata": {},
   "outputs": [],
   "source": [
    "evaluate_model_performance(L2_model,test_data_generator)"
   ]
  },
  {
   "cell_type": "code",
   "execution_count": null,
   "metadata": {},
   "outputs": [],
   "source": [
    "visualize_training(L2_model_results,\"_2\")"
   ]
  },
  {
   "cell_type": "markdown",
   "metadata": {},
   "source": [
    "### Dropout regularization\n",
    "The most common practice with dropout regularization of CNNs is including a dropout layer after each fully connected (Dense) layer. So the next step will be adding two dropout layers each with a value of 0.3, after each of the two hidden Dense layers. There will be no dropout incorporated with the output layer."
   ]
  },
  {
   "cell_type": "code",
   "execution_count": null,
   "metadata": {},
   "outputs": [],
   "source": [
    "dropout_model = models.Sequential()\n",
    "\n",
    "dropout_model.add(layers.Conv2D(32,(3,3),activation='relu',input_shape=(150,150,1)))\n",
    "dropout_model.add(layers.MaxPooling2D((2, 2)))\n",
    "dropout_model.add(layers.Conv2D(64, (3, 3), activation='relu'))\n",
    "dropout_model.add(layers.MaxPooling2D((2, 2)))\n",
    "dropout_model.add(layers.Conv2D(128, (3, 3), activation='relu'))\n",
    "dropout_model.add(layers.MaxPooling2D((2, 2)))\n",
    "dropout_model.add(layers.Flatten())\n",
    "dropout_model.add(layers.Dense(512, activation='relu',kernel_regularizer=l2(0.005)))\n",
    "dropout_model.add(layers.Dropout(0.3))\n",
    "dropout_model.add(layers.Dense(256, activation='relu',kernel_regularizer=l2(0.005)))\n",
    "dropout_model.add(layers.Dropout(0.3))\n",
    "dropout_model.add(layers.Dense(1, activation='sigmoid'))\n",
    "\n",
    "dropout_model.compile(\n",
    "              loss='binary_crossentropy',\n",
    "              metrics=['acc',Recall()]\n",
    "              )"
   ]
  },
  {
   "cell_type": "code",
   "execution_count": null,
   "metadata": {},
   "outputs": [],
   "source": [
    "dropout_model_results = dropout_model.fit(train_data_generator, \n",
    "                                        steps_per_epoch=50, \n",
    "                                        epochs=20, \n",
    "                                        validation_data=test_data_generator, \n",
    "                                        validation_steps=25)"
   ]
  },
  {
   "cell_type": "code",
   "execution_count": null,
   "metadata": {},
   "outputs": [],
   "source": [
    "dropout_model.summary()"
   ]
  },
  {
   "cell_type": "markdown",
   "metadata": {},
   "source": [
    "Performance on validation data is still quite eradic accross training epochs, and it appears to have probably worsened recall as well as loss. I will continue with the L2 regularization and leave out any dropout layers. "
   ]
  },
  {
   "cell_type": "code",
   "execution_count": null,
   "metadata": {},
   "outputs": [],
   "source": [
    "evaluate_model_performance(dropout_model,test_data_generator)"
   ]
  },
  {
   "cell_type": "code",
   "execution_count": null,
   "metadata": {},
   "outputs": [],
   "source": [
    "visualize_training(dropout_model_results,\"_3\")"
   ]
  },
  {
   "cell_type": "markdown",
   "metadata": {},
   "source": [
    "## Gradient Descent Optimization\n",
    "So far, a optimizer has not been specified in the model compiler. Below I will test 3 different optimization algorithms, and then will experiment with the learning rate of the best performing algorithm to improve it further. **I will be using a leaner fit function protocol here in the interest of time.**  \n",
    "The optimizers being test are:\n",
    "- Stochastic Gradient Descent (SGD)\n",
    "- Adaptive Moment Estimation (Adam)\n",
    "- Adaptive Delta (Adadelta)"
   ]
  },
  {
   "cell_type": "code",
   "execution_count": null,
   "metadata": {},
   "outputs": [],
   "source": [
    "L2_model.compile(optimizer='SGD',\n",
    "              loss='binary_crossentropy',\n",
    "              metrics=['acc',Recall()])\n",
    "\n",
    "SGD_model_results = L2_model.fit(train_data_generator, \n",
    "                                        steps_per_epoch=25, \n",
    "                                        epochs=5, \n",
    "                                        validation_data=test_data_generator, \n",
    "                                        validation_steps=10)"
   ]
  },
  {
   "cell_type": "code",
   "execution_count": null,
   "metadata": {},
   "outputs": [],
   "source": [
    "evaluate_model_performance(L2_model,test_data_generator)"
   ]
  },
  {
   "cell_type": "code",
   "execution_count": null,
   "metadata": {},
   "outputs": [],
   "source": [
    "visualize_training(SGD_model_results,\"_4\")"
   ]
  },
  {
   "cell_type": "code",
   "execution_count": null,
   "metadata": {},
   "outputs": [],
   "source": [
    "L2_model.compile(optimizer='Adam',\n",
    "              loss='binary_crossentropy',\n",
    "              metrics=['acc',Recall()]\n",
    "              )\n",
    "\n",
    "Adam_model_results = L2_model.fit(train_data_generator, \n",
    "                                        steps_per_epoch=25, \n",
    "                                        epochs=5, \n",
    "                                        validation_data=test_data_generator, \n",
    "                                        validation_steps=10)"
   ]
  },
  {
   "cell_type": "code",
   "execution_count": null,
   "metadata": {},
   "outputs": [],
   "source": [
    "evaluate_model_performance(L2_model,test_data_generator)"
   ]
  },
  {
   "cell_type": "code",
   "execution_count": null,
   "metadata": {},
   "outputs": [],
   "source": [
    "visualize_training(Adam_model_results,\"_5\")"
   ]
  },
  {
   "cell_type": "code",
   "execution_count": null,
   "metadata": {},
   "outputs": [],
   "source": [
    "L2_model.compile(optimizer='Adadelta',\n",
    "              loss='binary_crossentropy',\n",
    "              metrics=['acc',Recall()]\n",
    "              )\n",
    "\n",
    "Adadelta_model_results = L2_model.fit(train_data_generator, \n",
    "                                        steps_per_epoch=25, \n",
    "                                        epochs=5, \n",
    "                                        validation_data=test_data_generator, \n",
    "                                        validation_steps=10)"
   ]
  },
  {
   "cell_type": "code",
   "execution_count": null,
   "metadata": {},
   "outputs": [],
   "source": [
    "evaluate_model_performance(L2_model,test_data_generator)"
   ]
  },
  {
   "cell_type": "code",
   "execution_count": null,
   "metadata": {},
   "outputs": [],
   "source": [
    "visualize_training(Adadelta_model_results,\"_6\")"
   ]
  },
  {
   "cell_type": "markdown",
   "metadata": {},
   "source": [
    " I am deciding to continue investigating with the Adam optimizer because its loss function has the strongest downward trend among the three, its accuracy continually improves, and the recall although behaving oddly at this point remains within a reasonable range of 1.0 even at its lowest.  \n",
    "\n",
    "It will be interesting to see how the learning rate affects Adams recall as well how a more robust fit function may help as well. The recall in the above plot seems to decrease over epochs, maybe more epochs are needed or maybe early stoppage would help as well. "
   ]
  },
  {
   "cell_type": "markdown",
   "metadata": {},
   "source": [
    "## Learning Rate and Early Stoppage with Adaptive Momentum Optimization"
   ]
  },
  {
   "cell_type": "code",
   "execution_count": null,
   "metadata": {},
   "outputs": [],
   "source": [
    "adam_model = models.Sequential()\n",
    "\n",
    "adam_model.add(layers.Conv2D(8,(3,3),activation='relu',input_shape=(150,150,1)))\n",
    "adam_model.add(layers.MaxPooling2D((2, 2)))\n",
    "adam_model.add(layers.Conv2D(16, (3, 3), activation='relu'))\n",
    "adam_model.add(layers.MaxPooling2D((2, 2)))\n",
    "adam_model.add(layers.Flatten())\n",
    "adam_model.add(layers.Dense(512, activation='relu',kernel_regularizer=l2(0.005)))\n",
    "adam_model.add(layers.Dense(256, activation='relu',kernel_regularizer=l2(0.005)))\n",
    "adam_model.add(layers.Dense(1, activation='sigmoid'))"
   ]
  },
  {
   "cell_type": "code",
   "execution_count": null,
   "metadata": {},
   "outputs": [],
   "source": [
    "adam_01 = optimizers.Adam(learning_rate=0.01)\n",
    "adam_model.compile(optimizer=adam_01,\n",
    "              loss='binary_crossentropy',\n",
    "              metrics=['acc',Recall()]\n",
    "              )"
   ]
  },
  {
   "cell_type": "code",
   "execution_count": null,
   "metadata": {},
   "outputs": [],
   "source": [
    "Adam_01_model_results = adam_model.fit(train_data_generator, \n",
    "                                        steps_per_epoch=50, \n",
    "                                        epochs=10, \n",
    "                                        validation_data=test_data_generator, \n",
    "                                        validation_steps=10)"
   ]
  },
  {
   "cell_type": "code",
   "execution_count": null,
   "metadata": {},
   "outputs": [],
   "source": [
    "adam_model.summary()"
   ]
  },
  {
   "cell_type": "code",
   "execution_count": null,
   "metadata": {},
   "outputs": [],
   "source": [
    "evaluate_model_performance(adam_model,test_data_generator)"
   ]
  },
  {
   "cell_type": "code",
   "execution_count": null,
   "metadata": {},
   "outputs": [],
   "source": [
    "visualize_training(Adam_01_model_results,\"_7\")"
   ]
  },
  {
   "cell_type": "markdown",
   "metadata": {},
   "source": [
    "Improving the loss function should reduce the false positive rate, making the tool more effective to the end user. Next I will rerun the above model using early stoppage monitoring the loss function. "
   ]
  },
  {
   "cell_type": "code",
   "execution_count": null,
   "metadata": {},
   "outputs": [],
   "source": [
    "from keras.callbacks import EarlyStopping, ModelCheckpoint"
   ]
  },
  {
   "cell_type": "code",
   "execution_count": null,
   "metadata": {},
   "outputs": [],
   "source": [
    "early_stopping = [EarlyStopping(monitor='val_loss',patience=5),\n",
    "                  ModelCheckpoint(filepath='data/final_model.h5',monitor='val_loss',save_best_only=True)]"
   ]
  },
  {
   "cell_type": "code",
   "execution_count": null,
   "metadata": {},
   "outputs": [],
   "source": [
    "final_model_results = adam_model.fit(train_data_generator, \n",
    "                                        steps_per_epoch=50, \n",
    "                                        epochs=50,\n",
    "                                        callbacks=early_stopping, \n",
    "                                        validation_data=test_data_generator, \n",
    "                                        validation_steps=10)"
   ]
  },
  {
   "cell_type": "code",
   "execution_count": null,
   "metadata": {},
   "outputs": [],
   "source": [
    "evaluate_model_performance(adam_model,test_data_generator)"
   ]
  },
  {
   "cell_type": "code",
   "execution_count": null,
   "metadata": {},
   "outputs": [],
   "source": [
    "visualize_training(final_model_results,\"_7\")"
   ]
  },
  {
   "cell_type": "markdown",
   "metadata": {},
   "source": [
    "# Final Model QA\n",
    "A final model has been decided on and saved for portability and reusability. Below I am simply loading the model and ensuring its usability as well as confirming it is consistent with its original form (in memory in this notebook)."
   ]
  },
  {
   "cell_type": "code",
   "execution_count": null,
   "metadata": {},
   "outputs": [],
   "source": [
    "from keras.models import load_model\n",
    "saved_model =  load_model('data/final_model.h5')"
   ]
  },
  {
   "cell_type": "code",
   "execution_count": null,
   "metadata": {},
   "outputs": [],
   "source": [
    "results_train = saved_model.evaluate(train_data_generator)\n",
    "print(f'Training Recall: {results_train[2]:.3} \\nTraining Loss: {results_train[0]:.3} \\nTraining Accuracy: {results_train[1]:.3}')\n",
    "\n",
    "print('----------')\n",
    "\n",
    "results_test = saved_model.evaluate(test_data_generator)\n",
    "print(f'Test Recall: {results_test[2]:.3} \\nTest Loss: {results_test[0]:.3} \\nTest Accuracy: {results_test[1]:.3}')\n",
    "\n",
    "print('----------')\n",
    "\n",
    "results_val = saved_model.evaluate(val_data_generator)\n",
    "print(f'Validation Recall: {results_val[2]:.3} \\nValidation Loss: {results_val[0]:.3} \\nValidation Accuracy: {results_val[1]:.3}')"
   ]
  },
  {
   "cell_type": "code",
   "execution_count": null,
   "metadata": {},
   "outputs": [],
   "source": [
    "evaluate_model_performance(saved_model,val_data_generator)"
   ]
  },
  {
   "cell_type": "markdown",
   "metadata": {},
   "source": [
    "## Conclusions\n",
    "The final model is saved succesfully and performs within the needs of its inteneded use. It has an improvable false positive rate, however it performs well enough that I am comfortable deploying it to beta testing in the real world with select medical offices and begin developing the software through which end users will utilize the tool. While the false positive rate is extant, the false negative rate is minuscule and the true positive rate is almost perfect; this is consistent with other classification methods and AI used for medical diagnostic purposes.\n"
   ]
  }
 ],
 "metadata": {
  "kernelspec": {
   "display_name": "Python 3",
   "language": "python",
   "name": "python3"
  },
  "language_info": {
   "codemirror_mode": {
    "name": "ipython",
    "version": 3
   },
   "file_extension": ".py",
   "mimetype": "text/x-python",
   "name": "python",
   "nbconvert_exporter": "python",
   "pygments_lexer": "ipython3",
   "version": "3.8.5"
  },
  "vscode": {
   "interpreter": {
    "hash": "8eb6b2671ae257969e1e6d572d1bfd2dc1c23f390a7081d26c146f9b82ef978d"
   }
  }
 },
 "nbformat": 4,
 "nbformat_minor": 2
}
