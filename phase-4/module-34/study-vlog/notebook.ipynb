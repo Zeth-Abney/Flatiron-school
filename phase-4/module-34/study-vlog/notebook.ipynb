{
 "cells": [
  {
   "cell_type": "markdown",
   "metadata": {},
   "source": [
    "# Topic Review: Module 34, Recommender Systems"
   ]
  },
  {
   "cell_type": "markdown",
   "metadata": {},
   "source": [
    "## Recomendation methods"
   ]
  },
  {
   "cell_type": "markdown",
   "metadata": {},
   "source": [
    "There are two broad categories of recommender systems...  \n",
    "  \n",
    "<img src='./images/content_based.png' width='600'>    \n",
    "\n",
    "and...  \n",
    "\n",
    "<img src='./images/collaborative_filtering.png' width='600'>"
   ]
  },
  {
   "cell_type": "markdown",
   "metadata": {},
   "source": [
    "## Collaborative Filtering  "
   ]
  },
  {
   "cell_type": "markdown",
   "metadata": {},
   "source": [
    "This method is the current industry standard for recommender systems.  \n",
    "\n",
    "<img src='./images/making_recommendations.png' width=1200>\n",
    "\n"
   ]
  },
  {
   "cell_type": "markdown",
   "metadata": {},
   "source": [
    "### Memory-Based"
   ]
  },
  {
   "cell_type": "markdown",
   "metadata": {},
   "source": [
    "Within collaborative filtering there are two key categories of strategies used.  \n",
    "\n",
    "Memory-based methods. Makes recomendations by finding items similar to other items preferred by the user (item-item), or by finding items preferred by similar users that the target user hasnt been exposed to yet.  \n",
    "\n",
    "<img src='./images/item_user_based.png'>  \n",
    "\n",
    "The similarity of whichever features are being targeted can be calculated in the following ways:  \n",
    "\n",
    "$$\\text{pearson correlation}(u,v) = \\frac{\\sum_{i \\in I_{uv}}{(r_{ui}- \\mu_{u})*(r_{vi}- \\mu_{v})}}{\\sqrt{\\sum_{i \\in I_{uv} }{(r_{ui}-\\mu_{u})^{2}  }}  * \\sqrt{\\sum_{i \\in I_{uv} }{(r_{vi}-\\mu_{v})^{2}  }}} $$\n",
    "\n",
    "\n",
    "$$ \\text{cosine similarity}(u,v) = \\frac{\\sum_{i \\in I_{uv}}{r_{ui}*r_{vi}}}{\\sqrt{\\sum_{i \\in I_{uv} }{r_{ui}^{2}  }}  * \\sqrt{\\sum_{i \\in I_{uv} }{r_{ui}^{2}  }}} $$\n",
    "\n",
    "\n",
    "$$ \\text{Jaccard Similarity}(u,v) = \\frac{I_{u} \\cap I_{v}}{I_{u} \\cup I_{v}}$$"
   ]
  },
  {
   "cell_type": "markdown",
   "metadata": {},
   "source": [
    "### Model-based"
   ]
  },
  {
   "cell_type": "markdown",
   "metadata": {},
   "source": [
    "When computational cost is an issue, an option is the latent variable modeling appraoch.  \n",
    "\n",
    "<img src='./images/matrix_decomp.png'>"
   ]
  },
  {
   "cell_type": "markdown",
   "metadata": {},
   "source": [
    "### matrix factoring and decomposition (for model optimization)"
   ]
  },
  {
   "cell_type": "markdown",
   "metadata": {},
   "source": [
    "In order to implement the latent variables must be derived in the first place. This can be done in a number of ways including *singular value decomposition*, and *alternating least squares* "
   ]
  },
  {
   "cell_type": "markdown",
   "metadata": {},
   "source": [
    "#### singular value decomposition  \n",
    "<img src='./images/auevt.png' width=1000>"
   ]
  },
  {
   "cell_type": "markdown",
   "metadata": {},
   "source": [
    "#### alternating least squares\n",
    "Alternating Least Squares alternates between two vector sets solving for reducing the RMSE until convergence.  \n",
    "\n",
    "First, let's assume the item vectors are fixed, we first solve for the user vectors:\n",
    "\n",
    "### __$$p_u=(\\sum_{r_{u,i}\\in r_{u*}}{q_iq_i^T + \\lambda I_k})^{-1}\\sum_{r_{u,i}\\in r_{u*}}{r_{ui}{q_{i}}}$$__\n",
    "\n",
    "Then we hold the user vectors constant and solve for the item vectors: \n",
    "\n",
    "### __$$q_i=(\\sum_{r_{u,i}\\in r_{i*}}{p_up_u^T + \\lambda I_k})^{-1}\\sum_{r_{u,i}\\in r_{u*}}{r_{ui}{p_{u}}}$$__\n",
    "\n",
    "This process repeats until convergence. "
   ]
  },
  {
   "cell_type": "markdown",
   "metadata": {},
   "source": [
    "## Recap"
   ]
  },
  {
   "cell_type": "markdown",
   "metadata": {},
   "source": [
    "|                     Memory-Based                     |                   Model-Based                  |\n",
    "|:----------------------------------------------------:|:----------------------------------------------:|\n",
    "| complete input data is required                      | abstraction (model) that represents input data |\n",
    "| does not scale well                                  | scales well                                    |\n",
    "| pre-computation not possible                         | pre-computation possible                       |\n",
    "| relies on similarity metrics between users and items | relies on matrix factorization                 |"
   ]
  }
 ],
 "metadata": {
  "language_info": {
   "name": "python"
  },
  "orig_nbformat": 4
 },
 "nbformat": 4,
 "nbformat_minor": 2
}
