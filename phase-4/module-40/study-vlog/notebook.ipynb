{
 "cells": [
  {
   "cell_type": "markdown",
   "metadata": {},
   "source": [
    "# Module 40 Topic Review: Deep Neural Networks"
   ]
  },
  {
   "cell_type": "markdown",
   "metadata": {},
   "source": [
    "## What is a Neural Network? \n",
    "A neural network is a machine learning algorithm that resembles a biological neurological system in its architecture.   \n",
    "\n",
    "A neural network consists of:\n",
    "- input layer with feature vectors as nodes\n",
    "- any number of hidden layers with any number of nodes within each layer\n",
    "- an output layer with at least one node.  \n",
    "\n",
    "Types of neural networks:\n",
    "\n",
    "- Standard neural networks\n",
    "- Convolutional neural networks (input = images, video)\n",
    "- Recurrent neural networks (input = audio files, text, time series data)\n",
    "- Generative adversarial networks  \n",
    "\n",
    "<img src='images/deeper_network.png' width=1000>"
   ]
  },
  {
   "cell_type": "markdown",
   "metadata": {},
   "source": [
    "## What are neural nets used for?\n",
    "\n",
    "Neural networks are especially good at extracting information (e.g. patterns and relationships amongst featres) from *unstructured* data such as audio or images, documents suchas invoices or emails, sensors, etc. \n",
    "\n",
    "Neural networks can be used to make predictions of complex systems outputs (e.g. profitability or sales of a business) or classify abstract objects (e.g. pictures, audio). \n",
    "\n",
    "<img src='images/rgb.png' width=500>"
   ]
  },
  {
   "cell_type": "markdown",
   "metadata": {},
   "source": [
    "## How do neural nets work?  \n",
    "\n",
    "**Input layer** strictly outputs raw data...  \n",
    "\n",
    "**hidden layers:**  \n",
    "    - take input data as vectors from previous layer  \n",
    "    - performs an **activation function** which defines how the weighted input is transformed into an output\n",
    "    - the activation function is optimized against a cost and loss function using forward and backward propogation    \n",
    "    - once convergence is achieved (i.e. minimized error term) the each node outputs a new data vector which becomes  the next layers input signal.   \n",
    "\n",
    "- **Forward Propogation:** Deep networks work by performing forward propagation; evaluating a cost function associated with the output of the neural network by successively calculating the output of each layer given initial parameter values, and passing this output on to the next layer until a finalized output has been calculated and the cost function can then be evaluated.\n",
    "\n",
    "- **Back Propogation:** Once an output for the neural network given the current parameter weights has been calculated, we must back propagate to calculate the gradients of layer parameters with respect to the cost function. This will allow us to apply an optimization algorithm such as gradient descent in order to make small adjustments to the parameters in order to minimize our cost (and improve our predictions).\n",
    "\n",
    "**output layer** ingests final layer's output signals and outputs the final prediciton"
   ]
  },
  {
   "cell_type": "markdown",
   "metadata": {},
   "source": []
  }
 ],
 "metadata": {
  "kernelspec": {
   "display_name": "Python 3.8.5 ('learn-env')",
   "language": "python",
   "name": "python3"
  },
  "language_info": {
   "name": "python",
   "version": "3.8.5"
  },
  "orig_nbformat": 4,
  "vscode": {
   "interpreter": {
    "hash": "8eb6b2671ae257969e1e6d572d1bfd2dc1c23f390a7081d26c146f9b82ef978d"
   }
  }
 },
 "nbformat": 4,
 "nbformat_minor": 2
}
