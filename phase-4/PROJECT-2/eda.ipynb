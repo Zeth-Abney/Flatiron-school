{
 "cells": [
  {
   "cell_type": "markdown",
   "metadata": {},
   "source": [
    "# Data Exploration and Pre-Processing"
   ]
  },
  {
   "cell_type": "markdown",
   "metadata": {},
   "source": [
    "This dataset contains chest x-ray images some of which are labeled as 'NORMAL' and otheras as 'PNEUMONIA' which are examples of patients that indeed have a case the potentially lethal respiratory infection. There are 5656 total images in a range of dimensions and all are greyscale. The dataset is sourced directly from [this Kaggle page](https://www.kaggle.com/datasets/paultimothymooney/chest-xray-pneumonia) using the Kaggle API command (kaggle datasets download -d paultimothymooney/chest-xray-pneumonia). This kaggle page cites [Mendeley Data](https://data.mendeley.com/datasets/rscbjbr9sj/2) as its original data source.  "
   ]
  },
  {
   "cell_type": "markdown",
   "metadata": {},
   "source": [
    "## Data loading and sifting"
   ]
  },
  {
   "cell_type": "code",
   "execution_count": 1,
   "metadata": {},
   "outputs": [],
   "source": [
    "# dependences for data loading and sifting\n",
    "import numpy as np \n",
    "import pandas as pd \n",
    "\n",
    "import os\n",
    "from keras.preprocessing.image import ImageDataGenerator\n",
    "from PIL import Image"
   ]
  },
  {
   "cell_type": "code",
   "execution_count": 2,
   "metadata": {},
   "outputs": [
    {
     "data": {
      "text/html": [
       "<div>\n",
       "<style scoped>\n",
       "    .dataframe tbody tr th:only-of-type {\n",
       "        vertical-align: middle;\n",
       "    }\n",
       "\n",
       "    .dataframe tbody tr th {\n",
       "        vertical-align: top;\n",
       "    }\n",
       "\n",
       "    .dataframe thead th {\n",
       "        text-align: right;\n",
       "    }\n",
       "</style>\n",
       "<table border=\"1\" class=\"dataframe\">\n",
       "  <thead>\n",
       "    <tr style=\"text-align: right;\">\n",
       "      <th></th>\n",
       "      <th>Train Sample</th>\n",
       "      <th>Test Sample</th>\n",
       "      <th>Val Sample</th>\n",
       "    </tr>\n",
       "  </thead>\n",
       "  <tbody>\n",
       "    <tr>\n",
       "      <th>Normal</th>\n",
       "      <td>1341</td>\n",
       "      <td>234</td>\n",
       "      <td>8</td>\n",
       "    </tr>\n",
       "    <tr>\n",
       "      <th>Pneumonia</th>\n",
       "      <td>3875</td>\n",
       "      <td>390</td>\n",
       "      <td>8</td>\n",
       "    </tr>\n",
       "  </tbody>\n",
       "</table>\n",
       "</div>"
      ],
      "text/plain": [
       "           Train Sample  Test Sample  Val Sample\n",
       "Normal             1341          234           8\n",
       "Pneumonia          3875          390           8"
      ]
     },
     "execution_count": 2,
     "metadata": {},
     "output_type": "execute_result"
    }
   ],
   "source": [
    "# file paths to data directories\n",
    "train_dir = \"data/train/\"\n",
    "test_dir = \"data/test/\"\n",
    "val_dir = \"data/val/\"\n",
    "\n",
    "# dictionary of volume of data per class per sample\n",
    "class_balance_dict = {\n",
    "    \"Train Sample\":[len(os.listdir(train_dir+\"NORMAL\")),len(os.listdir(train_dir+\"PNEUMONIA\"))],\n",
    "    \"Test Sample\":[len(os.listdir(test_dir+\"NORMAL\")),len(os.listdir(test_dir+\"PNEUMONIA\"))],\n",
    "    \"Val Sample\":[len(os.listdir(val_dir+\"NORMAL\")),len(os.listdir(val_dir+\"PNEUMONIA\"))]\n",
    "}\n",
    "\n",
    "# class balance dictionary as a dataframe with row index representing class and column index representing sample\n",
    "import pandas as pd\n",
    "class_balance_df = pd.DataFrame(class_balance_dict,index=['Normal', 'Pneumonia'])\n",
    "class_balance_df"
   ]
  },
  {
   "cell_type": "code",
   "execution_count": 3,
   "metadata": {},
   "outputs": [
    {
     "data": {
      "text/plain": [
       "Text(0, 0.5, 'Percent Class Representation')"
      ]
     },
     "execution_count": 3,
     "metadata": {},
     "output_type": "execute_result"
    },
    {
     "data": {
      "image/png": "[encoded data removed]",
      "text/plain": [
       "<Figure size 432x288 with 1 Axes>"
      ]
     },
     "metadata": {
      "needs_background": "light"
     },
     "output_type": "display_data"
    }
   ],
   "source": [
    "import matplotlib.pyplot as plt\n",
    "\n",
    "# normalize data as percentage and rotate for plotting\n",
    "class_balance_normalized = class_balance_df.T.apply(lambda x: x/x.sum(), axis=1)\n",
    " \n",
    "# create stacked bar chart for students DataFrame\n",
    "class_balance_normalized.plot(kind='bar', stacked=True, color=['gray', 'orange',])\n",
    "\n",
    "# Add Title and Labels\n",
    "plt.title('Class Balance Per Sample')\n",
    "plt.xlabel('Sample Split')\n",
    "plt.ylabel('Percent Class Representation')"
   ]
  },
  {
   "cell_type": "markdown",
   "metadata": {},
   "source": [
    "The data comes already labeled and split for 3 way validation. The Train sample is, naturally, the largest of the 3 with over five thousand images, 66% of which are cases of pneumonia which will be the target prediction. The next largest is the test sample with over six hundred images of which 40% are trues cases of pneumonia. Finally, the validation set contains 16 images with each class being represented equally at 50%.  "
   ]
  },
  {
   "cell_type": "markdown",
   "metadata": {},
   "source": [
    "## Sanity Check: Can the images be displayed easily?"
   ]
  },
  {
   "cell_type": "code",
   "execution_count": 4,
   "metadata": {},
   "outputs": [],
   "source": [
    "# an example of (first) and Normal x-ray scan and (second) and x-ray scan showing pneumonia\n",
    "Image.open(\"data/train/NORMAL/IM-0115-0001.jpeg\").show()\n",
    "Image.open(\"data/train/PNEUMONIA/person1001_bacteria_2932.jpeg\").show()"
   ]
  },
  {
   "cell_type": "markdown",
   "metadata": {},
   "source": [
    "## Generate Data from Sub-Directory Structure"
   ]
  },
  {
   "cell_type": "code",
   "execution_count": 5,
   "metadata": {},
   "outputs": [],
   "source": [
    "# dependencies for modeling\n",
    "from keras import layers\n",
    "from keras import models\n",
    "from keras import optimizers"
   ]
  },
  {
   "cell_type": "code",
   "execution_count": 6,
   "metadata": {},
   "outputs": [
    {
     "name": "stdout",
     "output_type": "stream",
     "text": [
      "Found 5216 images belonging to 2 classes.\n",
      "Found 624 images belonging to 2 classes.\n",
      "Found 16 images belonging to 2 classes.\n"
     ]
    }
   ],
   "source": [
    "# instatiating a data degenerater for each split sample \n",
    "train_datagen = ImageDataGenerator(rescale=1./255)\n",
    "\n",
    "test_datagen = ImageDataGenerator(rescale=1./255)\n",
    "                                   \n",
    "val_datagen = ImageDataGenerator(rescale=1./255)\n",
    "\n",
    "train_data_generator = train_datagen.flow_from_directory(\n",
    "                       train_dir,\n",
    "                       target_size=(150,150),\n",
    "                       batch_size=16,\n",
    "                       class_mode='binary',\n",
    "                       color_mode='grayscale')\n",
    "\n",
    "test_data_generator = test_datagen.flow_from_directory(\n",
    "                      test_dir,\n",
    "                      target_size=(150,150),\n",
    "                      batch_size=16,\n",
    "                      class_mode='binary',\n",
    "                      color_mode='grayscale')\n",
    "\n",
    "val_data_generator = val_datagen.flow_from_directory(\n",
    "                     val_dir,\n",
    "                     target_size=(150,150),\n",
    "                     batch_size=16,\n",
    "                     class_mode='binary',\n",
    "                     color_mode='grayscale')"
   ]
  },
  {
   "cell_type": "markdown",
   "metadata": {},
   "source": [
    "## Sanity Check: is the data ready to fit a model?"
   ]
  },
  {
   "cell_type": "code",
   "execution_count": 11,
   "metadata": {},
   "outputs": [],
   "source": [
    "# build a simple convultional neural network\n",
    "base_model = models.Sequential()\n",
    "base_model.add(layers.Conv2D(32,(3,3),activation='relu',input_shape=(150,150,1)))\n",
    "base_model.add(layers.MaxPooling2D((2, 2)))\n",
    "base_model.add(layers.Flatten())\n",
    "base_model.add(layers.Dense(1, activation='sigmoid'))"
   ]
  },
  {
   "cell_type": "code",
   "execution_count": 12,
   "metadata": {},
   "outputs": [],
   "source": [
    "# compile model from above\n",
    "base_model.compile(loss='binary_crossentropy',metrics=['acc'])"
   ]
  },
  {
   "cell_type": "code",
   "execution_count": 13,
   "metadata": {},
   "outputs": [
    {
     "name": "stdout",
     "output_type": "stream",
     "text": [
      "Epoch 1/10\n",
      "25/25 [==============================] - 11s 456ms/step - loss: 1.4643 - acc: 0.6975 - val_loss: 0.5211 - val_acc: 0.7083\n",
      "Epoch 2/10\n",
      "25/25 [==============================] - 10s 409ms/step - loss: 0.5715 - acc: 0.8100 - val_loss: 0.8651 - val_acc: 0.6500\n",
      "Epoch 3/10\n",
      "25/25 [==============================] - 10s 394ms/step - loss: 0.3292 - acc: 0.8575 - val_loss: 0.4289 - val_acc: 0.7583\n",
      "Epoch 4/10\n",
      "25/25 [==============================] - 10s 401ms/step - loss: 0.2931 - acc: 0.8975 - val_loss: 0.3893 - val_acc: 0.8083\n",
      "Epoch 5/10\n",
      "25/25 [==============================] - 10s 399ms/step - loss: 0.2597 - acc: 0.9100 - val_loss: 0.5456 - val_acc: 0.7208\n",
      "Epoch 6/10\n",
      "25/25 [==============================] - 10s 405ms/step - loss: 0.1739 - acc: 0.9325 - val_loss: 0.4969 - val_acc: 0.7625\n",
      "Epoch 7/10\n",
      "25/25 [==============================] - 10s 400ms/step - loss: 0.1859 - acc: 0.9400 - val_loss: 0.3011 - val_acc: 0.8833\n",
      "Epoch 8/10\n",
      "25/25 [==============================] - 10s 393ms/step - loss: 0.2164 - acc: 0.9100 - val_loss: 0.3136 - val_acc: 0.8750\n",
      "Epoch 9/10\n",
      "25/25 [==============================] - 10s 397ms/step - loss: 0.1439 - acc: 0.9350 - val_loss: 0.4152 - val_acc: 0.8125\n",
      "Epoch 10/10\n",
      "25/25 [==============================] - 10s 404ms/step - loss: 0.1205 - acc: 0.9550 - val_loss: 0.9256 - val_acc: 0.6750\n"
     ]
    },
    {
     "data": {
      "text/plain": [
       "<tensorflow.python.keras.callbacks.History at 0x1fc151ec190>"
      ]
     },
     "execution_count": 13,
     "metadata": {},
     "output_type": "execute_result"
    }
   ],
   "source": [
    "# fit the model to the training data and validate with the test sample\n",
    "base_model.fit(train_data_generator, \n",
    "               batch_size=16,\n",
    "               epochs=10,\n",
    "               steps_per_epoch=25,\n",
    "               validation_data=test_data_generator,\n",
    "               validation_steps=15\n",
    "               )"
   ]
  },
  {
   "attachments": {},
   "cell_type": "markdown",
   "metadata": {},
   "source": [
    "## Sanity Check: can the data be evaluated?"
   ]
  },
  {
   "cell_type": "code",
   "execution_count": 18,
   "metadata": {},
   "outputs": [
    {
     "name": "stdout",
     "output_type": "stream",
     "text": [
      "1/1 [==============================] - 0s 4ms/step - loss: 1.2235 - acc: 0.6250\n"
     ]
    }
   ],
   "source": [
    "X_test, y_test = test_data_generator.next()\n",
    "loss, accuracy = base_model.evaluate(X_test,y_test)"
   ]
  },
  {
   "cell_type": "code",
   "execution_count": 19,
   "metadata": {},
   "outputs": [
    {
     "name": "stdout",
     "output_type": "stream",
     "text": [
      "              precision    recall  f1-score   support\n",
      "\n",
      "         0.0       1.00      0.25      0.40         8\n",
      "         1.0       0.57      1.00      0.73         8\n",
      "\n",
      "    accuracy                           0.62        16\n",
      "   macro avg       0.79      0.62      0.56        16\n",
      "weighted avg       0.79      0.62      0.56        16\n",
      "\n"
     ]
    },
    {
     "data": {
      "image/png": "[encoded data removed]",
      "text/plain": [
       "<Figure size 432x288 with 2 Axes>"
      ]
     },
     "metadata": {
      "needs_background": "light"
     },
     "output_type": "display_data"
    }
   ],
   "source": [
    "from sklearn.metrics import confusion_matrix, ConfusionMatrixDisplay, classification_report\n",
    "\n",
    "# generate predictions for the test set\n",
    "y_pred = np.round(base_model.predict(X_test))\n",
    "\n",
    "# calculate the confusion matrix and classification report\n",
    "matrix = confusion_matrix(y_test, y_pred)\n",
    "report = classification_report(y_test,y_pred)\n",
    "\n",
    "# create a ConfusionMatrixDisplay object\n",
    "disp = ConfusionMatrixDisplay(matrix)\n",
    "\n",
    "# plot the confusion matrix, print the classification report\n",
    "print(report)\n",
    "disp.plot()\n",
    "plt.show()"
   ]
  },
  {
   "attachments": {},
   "cell_type": "markdown",
   "metadata": {},
   "source": [
    "Formalize the model evaluation protocol above into a function for portability. "
   ]
  },
  {
   "cell_type": "code",
   "execution_count": 30,
   "metadata": {},
   "outputs": [],
   "source": [
    "def evaluate_model_performance(model,data_generator,verbose=True):\n",
    "    \"\"\"\n",
    "    Takes in a keras model object and ImageDataGenerator object\n",
    "    Samples a batch from the data generator\n",
    "    Calcultes key performance indicators (KPIs)\n",
    "    Prints loss and classification_report, and plots a confusion matrix\n",
    "    If not verbose, returns loss, classification_report and confusion_matrix\n",
    "    \"\"\"\n",
    "    \n",
    "    # declare evaluation sample\n",
    "    X_test, y_test = data_generator.next()\n",
    "\n",
    "    # insantiate test prediction\n",
    "    y_pred = np.round(model.predict(X_test))\n",
    "\n",
    "    # evaluate KPIs\n",
    "    loss, accuracy = model.evaluate(X_test,y_test)\n",
    "\n",
    "    # calculate the confusion matrix and classification report\n",
    "    matrix = confusion_matrix(y_test, y_pred)\n",
    "    report = classification_report(y_test,y_pred)\n",
    "\n",
    "    # create a ConfusionMatrixDisplay object\n",
    "    disp = ConfusionMatrixDisplay(matrix)\n",
    "\n",
    "    # print loss and KPI scores\n",
    "    print(\"Model loss: \",loss)\n",
    "    print(\"KPI scores: \",report)\n",
    "\n",
    "    # plot confusion matrix\n",
    "    disp.plot()\n",
    "    plt.show()\n",
    "\n",
    "    if not verbose:\n",
    "        return loss, report, matrix\n",
    "\n",
    "    "
   ]
  },
  {
   "cell_type": "code",
   "execution_count": 32,
   "metadata": {},
   "outputs": [
    {
     "name": "stdout",
     "output_type": "stream",
     "text": [
      "1/1 [==============================] - 0s 1ms/step - loss: 1.1741 - acc: 0.6250\n",
      "Model loss:  1.1741056442260742\n",
      "KPI scores:                precision    recall  f1-score   support\n",
      "\n",
      "         0.0       1.00      0.14      0.25         7\n",
      "         1.0       0.60      1.00      0.75         9\n",
      "\n",
      "    accuracy                           0.62        16\n",
      "   macro avg       0.80      0.57      0.50        16\n",
      "weighted avg       0.77      0.62      0.53        16\n",
      "\n"
     ]
    },
    {
     "data": {
      "image/png": "[encoded data removed]",
      "text/plain": [
       "<Figure size 432x288 with 2 Axes>"
      ]
     },
     "metadata": {
      "needs_background": "light"
     },
     "output_type": "display_data"
    }
   ],
   "source": [
    "evaluate_model_performance(base_model,test_data_generator) "
   ]
  },
  {
   "cell_type": "markdown",
   "metadata": {},
   "source": [
    "## Conlcusion \n",
    "The base model succesfully compiles and fits without any errors or warnings. The model also performs decently for a baseline model. I will continue tuning and optimizing thhe model in the [modeling notebook](/PROJECT-2/modeling.ipynb).  "
   ]
  }
 ],
 "metadata": {
  "kernelspec": {
   "display_name": "Python 3.8.5 ('learn-env')",
   "language": "python",
   "name": "python3"
  },
  "language_info": {
   "codemirror_mode": {
    "name": "ipython",
    "version": 3
   },
   "file_extension": ".py",
   "mimetype": "text/x-python",
   "name": "python",
   "nbconvert_exporter": "python",
   "pygments_lexer": "ipython3",
   "version": "3.8.5"
  },
  "orig_nbformat": 4,
  "vscode": {
   "interpreter": {
    "hash": "8eb6b2671ae257969e1e6d572d1bfd2dc1c23f390a7081d26c146f9b82ef978d"
   }
  }
 },
 "nbformat": 4,
 "nbformat_minor": 2
}
