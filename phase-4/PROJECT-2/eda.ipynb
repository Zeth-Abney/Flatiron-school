{
 "cells": [
  {
   "cell_type": "code",
   "execution_count": 33,
   "metadata": {},
   "outputs": [],
   "source": [
    "import os\n",
    "from keras.preprocessing.image import ImageDataGenerator\n",
    "from PIL import Image"
   ]
  },
  {
   "cell_type": "code",
   "execution_count": 17,
   "metadata": {},
   "outputs": [],
   "source": [
    "train_dir = \"data/train/\"\n",
    "test_dir = \"data/test/\"\n",
    "val_dir = \"data/val/\""
   ]
  },
  {
   "cell_type": "code",
   "execution_count": 30,
   "metadata": {},
   "outputs": [
    {
     "name": "stdout",
     "output_type": "stream",
     "text": [
      "Classs balance for Train sample (Normal, Pneumonia):  0.3460645161290323\n",
      "Classs balance for Test sample (Normal, Pneumonia):  0.6\n",
      "Classs balance for Validation sample (Normal, Pneumonia):  1.0\n",
      "Sampling distribution (train,test,val):  (0.8907103825136612, 0.10655737704918032, 0.00273224043715847)\n"
     ]
    }
   ],
   "source": [
    "train_class_balance = (len(os.listdir(train_dir+\"NORMAL\")),len(os.listdir(train_dir+\"PNEUMONIA\")))\n",
    "test_class_balance = (len(os.listdir(test_dir+\"NORMAL\")),len(os.listdir(test_dir+\"PNEUMONIA\")))\n",
    "val_class_balance = (len(os.listdir(val_dir+\"NORMAL\")),len(os.listdir(val_dir+\"PNEUMONIA\")))\n",
    "\n",
    "train_total = len(os.listdir(train_dir+\"NORMAL\"))+len(os.listdir(train_dir+\"PNEUMONIA\"))\n",
    "test_total = len(os.listdir(test_dir+\"NORMAL\"))+len(os.listdir(test_dir+\"PNEUMONIA\"))\n",
    "val_total = len(os.listdir(val_dir+\"NORMAL\"))+len(os.listdir(val_dir+\"PNEUMONIA\"))\n",
    "sample_balance = (train_total,test_total,val_total)\n",
    "\n",
    "\n",
    "print(\"Classs balance for Train sample (Normal, Pneumonia): \",train_class_balance[0]/train_class_balance[1])\n",
    "print(\"Classs balance for Test sample (Normal, Pneumonia): \",test_class_balance[0]/test_class_balance[1])\n",
    "print(\"Classs balance for Validation sample (Normal, Pneumonia): \",val_class_balance[0]/val_class_balance[1])\n",
    "print(\"Sampling distribution (train,test,val): \",(train_total/sum(sample_balance),test_total/sum(sample_balance),val_total/sum(sample_balance)))\n"
   ]
  },
  {
   "cell_type": "code",
   "execution_count": 35,
   "metadata": {},
   "outputs": [],
   "source": [
    "Image.open(\"data/train/NORMAL/IM-0115-0001.jpeg\").show()\n",
    "Image.open(\"data/train/PNEUMONIA/person1001_bacteria_2932.jpeg\").show()"
   ]
  },
  {
   "cell_type": "code",
   "execution_count": 48,
   "metadata": {},
   "outputs": [
    {
     "name": "stdout",
     "output_type": "stream",
     "text": [
      "Found 5216 images belonging to 2 classes.\n",
      "Found 624 images belonging to 2 classes.\n",
      "Found 16 images belonging to 2 classes.\n"
     ]
    }
   ],
   "source": [
    "train_datagen = ImageDataGenerator(rescale=1./255,\n",
    "                                   shear_range = 0.2,\n",
    "                                   zoom_range = 0.2)\n",
    "\n",
    "test_datagen = ImageDataGenerator(rescale=1./255,\n",
    "                                   shear_range = 0.2,\n",
    "                                   zoom_range = 0.2)\n",
    "                                   \n",
    "val_datagen = ImageDataGenerator(rescale=1./255,\n",
    "                                   shear_range = 0.2,\n",
    "                                   zoom_range = 0.2)\n",
    "\n",
    "train_data_generator = train_datagen.flow_from_directory(\n",
    "                       train_dir,\n",
    "                       target_size=(150,150),\n",
    "                       batch_size=20,\n",
    "                       class_mode='binary',\n",
    "                       color_mode='grayscale')\n",
    "\n",
    "test_data_generator = test_datagen.flow_from_directory(\n",
    "                       test_dir,\n",
    "                       target_size=(150,150),\n",
    "                       batch_size=20,\n",
    "                       class_mode='binary',\n",
    "                       color_mode='grayscale')\n",
    "\n",
    "validation_generator = val_datagen.flow_from_directory(\n",
    "                       val_dir,\n",
    "                       target_size=(150,150),\n",
    "                       batch_size=20,\n",
    "                       class_mode='binary',\n",
    "                       color_mode='grayscale')"
   ]
  },
  {
   "cell_type": "code",
   "execution_count": 50,
   "metadata": {},
   "outputs": [],
   "source": [
    "from keras import layers\n",
    "from keras import models\n",
    "\n",
    "# Your code here; design and compile the model\n",
    "base_model = models.Sequential()\n",
    "base_model.add(layers.Conv2D(32,(3,3),activation='relu',input_shape=(150,150,1)))\n",
    "base_model.add(layers.MaxPooling2D((2, 2)))\n",
    "base_model.add(layers.Conv2D(64, (3, 3), activation='relu'))\n",
    "base_model.add(layers.MaxPooling2D((2, 2)))\n",
    "base_model.add(layers.Flatten())\n",
    "base_model.add(layers.Dense(512, activation='relu'))\n",
    "base_model.add(layers.Dense(1, activation='sigmoid'))"
   ]
  },
  {
   "cell_type": "code",
   "execution_count": 51,
   "metadata": {},
   "outputs": [],
   "source": [
    "from keras import optimizers\n",
    "\n",
    "base_model.compile(loss='binary_crossentropy',\n",
    "              metrics=['acc'])"
   ]
  },
  {
   "cell_type": "code",
   "execution_count": 52,
   "metadata": {},
   "outputs": [
    {
     "name": "stdout",
     "output_type": "stream",
     "text": [
      "Epoch 1/20\n",
      "75/75 [==============================] - ETA: 0s - loss: 0.8072 - acc: 0.7373WARNING:tensorflow:Your input ran out of data; interrupting training. Make sure that your dataset or generator can generate at least `steps_per_epoch * epochs` batches (in this case, 15 batches). You may need to use the repeat() function when building your dataset.\n",
      "75/75 [==============================] - 66s 875ms/step - loss: 0.8072 - acc: 0.7373 - val_loss: 1.7809 - val_acc: 0.6250\n",
      "Epoch 2/20\n",
      "75/75 [==============================] - 57s 764ms/step - loss: 0.3260 - acc: 0.8760\n",
      "Epoch 3/20\n",
      "75/75 [==============================] - 75s 1s/step - loss: 0.3116 - acc: 0.8747\n",
      "Epoch 4/20\n",
      "75/75 [==============================] - 66s 875ms/step - loss: 0.2881 - acc: 0.8844\n",
      "Epoch 5/20\n",
      "75/75 [==============================] - 59s 786ms/step - loss: 0.2533 - acc: 0.9047\n",
      "Epoch 6/20\n",
      "75/75 [==============================] - 60s 805ms/step - loss: 0.2427 - acc: 0.9051\n",
      "Epoch 7/20\n",
      "75/75 [==============================] - 70s 936ms/step - loss: 0.2241 - acc: 0.9167\n",
      "Epoch 8/20\n",
      "75/75 [==============================] - 69s 926ms/step - loss: 0.2263 - acc: 0.9187\n",
      "Epoch 9/20\n",
      "75/75 [==============================] - 65s 866ms/step - loss: 0.2163 - acc: 0.9227\n",
      "Epoch 10/20\n",
      "75/75 [==============================] - 68s 912ms/step - loss: 0.2154 - acc: 0.9240\n",
      "Epoch 11/20\n",
      "75/75 [==============================] - 69s 919ms/step - loss: 0.1861 - acc: 0.9420\n",
      "Epoch 12/20\n",
      "75/75 [==============================] - 72s 957ms/step - loss: 0.1656 - acc: 0.9373\n",
      "Epoch 13/20\n",
      "75/75 [==============================] - 71s 948ms/step - loss: 0.1774 - acc: 0.9352\n",
      "Epoch 14/20\n",
      "75/75 [==============================] - 71s 950ms/step - loss: 0.1717 - acc: 0.9393\n",
      "Epoch 15/20\n",
      "75/75 [==============================] - 71s 948ms/step - loss: 0.1740 - acc: 0.9412\n",
      "Epoch 16/20\n",
      "75/75 [==============================] - 71s 949ms/step - loss: 0.1583 - acc: 0.9420\n",
      "Epoch 17/20\n",
      "75/75 [==============================] - 72s 959ms/step - loss: 0.1533 - acc: 0.9473\n",
      "Epoch 18/20\n",
      "75/75 [==============================] - 72s 962ms/step - loss: 0.1863 - acc: 0.9353\n",
      "Epoch 19/20\n",
      "75/75 [==============================] - 72s 961ms/step - loss: 0.1452 - acc: 0.9499\n",
      "Epoch 20/20\n",
      "75/75 [==============================] - 76s 1s/step - loss: 0.1229 - acc: 0.9525\n"
     ]
    },
    {
     "data": {
      "text/plain": [
       "<tensorflow.python.keras.callbacks.History at 0x2cc02897580>"
      ]
     },
     "execution_count": 52,
     "metadata": {},
     "output_type": "execute_result"
    }
   ],
   "source": [
    "base_model.fit(train_data_generator, \n",
    "                              steps_per_epoch=75, \n",
    "                              epochs=20, \n",
    "                              validation_data=validation_generator, \n",
    "                              validation_steps=15)"
   ]
  },
  {
   "cell_type": "code",
   "execution_count": null,
   "metadata": {},
   "outputs": [],
   "source": []
  }
 ],
 "metadata": {
  "kernelspec": {
   "display_name": "Python 3.8.5 ('learn-env')",
   "language": "python",
   "name": "python3"
  },
  "language_info": {
   "codemirror_mode": {
    "name": "ipython",
    "version": 3
   },
   "file_extension": ".py",
   "mimetype": "text/x-python",
   "name": "python",
   "nbconvert_exporter": "python",
   "pygments_lexer": "ipython3",
   "version": "3.8.5"
  },
  "orig_nbformat": 4,
  "vscode": {
   "interpreter": {
    "hash": "8eb6b2671ae257969e1e6d572d1bfd2dc1c23f390a7081d26c146f9b82ef978d"
   }
  }
 },
 "nbformat": 4,
 "nbformat_minor": 2
}
