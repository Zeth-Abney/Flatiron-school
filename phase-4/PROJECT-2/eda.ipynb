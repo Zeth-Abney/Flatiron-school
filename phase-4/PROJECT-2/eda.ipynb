{
 "cells": [
  {
   "cell_type": "markdown",
   "metadata": {},
   "source": [
    "# Data Exploration and Pre-Processing"
   ]
  },
  {
   "cell_type": "markdown",
   "metadata": {},
   "source": [
    "This dataset contains chest x-ray images some of which are labeled as 'NORMAL' and otheras as 'PNEUMONIA' which are examples of patients that indeed have a case the potentially lethal respiratory infection. There are 5656 total images in a range of dimensions and all are greyscale. The dataset is sourced directly from [this Kaggle page](https://www.kaggle.com/datasets/paultimothymooney/chest-xray-pneumonia) using the Kaggle API command (kaggle datasets download -d paultimothymooney/chest-xray-pneumonia). This kaggle page cites [Mendeley Data](https://data.mendeley.com/datasets/rscbjbr9sj/2) as its original data source.  "
   ]
  },
  {
   "cell_type": "markdown",
   "metadata": {},
   "source": [
    "## Data loading and sifting"
   ]
  },
  {
   "cell_type": "code",
   "execution_count": 2,
   "metadata": {},
   "outputs": [],
   "source": [
    "# dependences for data loading and sifting\n",
    "import os\n",
    "from keras.preprocessing.image import ImageDataGenerator\n",
    "from PIL import Image"
   ]
  },
  {
   "cell_type": "code",
   "execution_count": 87,
   "metadata": {},
   "outputs": [
    {
     "data": {
      "text/html": [
       "<div>\n",
       "<style scoped>\n",
       "    .dataframe tbody tr th:only-of-type {\n",
       "        vertical-align: middle;\n",
       "    }\n",
       "\n",
       "    .dataframe tbody tr th {\n",
       "        vertical-align: top;\n",
       "    }\n",
       "\n",
       "    .dataframe thead th {\n",
       "        text-align: right;\n",
       "    }\n",
       "</style>\n",
       "<table border=\"1\" class=\"dataframe\">\n",
       "  <thead>\n",
       "    <tr style=\"text-align: right;\">\n",
       "      <th></th>\n",
       "      <th>Train Sample</th>\n",
       "      <th>Test Sample</th>\n",
       "      <th>Val Sample</th>\n",
       "    </tr>\n",
       "  </thead>\n",
       "  <tbody>\n",
       "    <tr>\n",
       "      <th>Normal</th>\n",
       "      <td>1341</td>\n",
       "      <td>234</td>\n",
       "      <td>8</td>\n",
       "    </tr>\n",
       "    <tr>\n",
       "      <th>Pneumonia</th>\n",
       "      <td>3875</td>\n",
       "      <td>390</td>\n",
       "      <td>8</td>\n",
       "    </tr>\n",
       "  </tbody>\n",
       "</table>\n",
       "</div>"
      ],
      "text/plain": [
       "           Train Sample  Test Sample  Val Sample\n",
       "Normal             1341          234           8\n",
       "Pneumonia          3875          390           8"
      ]
     },
     "execution_count": 87,
     "metadata": {},
     "output_type": "execute_result"
    }
   ],
   "source": [
    "# file paths to data directories\n",
    "train_dir = \"data/train/\"\n",
    "test_dir = \"data/test/\"\n",
    "val_dir = \"data/val/\"\n",
    "\n",
    "# dictionary of volume of data per class per sample\n",
    "class_balance_dict = {\n",
    "    \"Train Sample\":[len(os.listdir(train_dir+\"NORMAL\")),len(os.listdir(train_dir+\"PNEUMONIA\"))],\n",
    "    \"Test Sample\":[len(os.listdir(test_dir+\"NORMAL\")),len(os.listdir(test_dir+\"PNEUMONIA\"))],\n",
    "    \"Val Sample\":[len(os.listdir(val_dir+\"NORMAL\")),len(os.listdir(val_dir+\"PNEUMONIA\"))]\n",
    "}\n",
    "\n",
    "# class balance dictionary as a dataframe with row index representing class and column index representing sample\n",
    "import pandas as pd\n",
    "class_balance_df = pd.DataFrame(class_balance_dict,index=['Normal', 'Pneumonia'])\n",
    "class_balance_df"
   ]
  },
  {
   "cell_type": "code",
   "execution_count": 88,
   "metadata": {},
   "outputs": [
    {
     "data": {
      "text/plain": [
       "Text(0, 0.5, 'Percent Class Representation')"
      ]
     },
     "execution_count": 88,
     "metadata": {},
     "output_type": "execute_result"
    },
    {
     "data": {
      "image/png": "[encoded data removed]",
      "text/plain": [
       "<Figure size 432x288 with 1 Axes>"
      ]
     },
     "metadata": {
      "needs_background": "light"
     },
     "output_type": "display_data"
    }
   ],
   "source": [
    "import matplotlib.pyplot as plt\n",
    "\n",
    "# normalize data as percentage and rotate for plotting\n",
    "class_balance_normalized = class_balance_df.T.apply(lambda x: x/x.sum(), axis=1)\n",
    " \n",
    "# create stacked bar chart for students DataFrame\n",
    "class_balance_normalized.plot(kind='bar', stacked=True, color=['gray', 'orange',])\n",
    "\n",
    "# Add Title and Labels\n",
    "plt.title('Class Balance Per Sample')\n",
    "plt.xlabel('Sample Split')\n",
    "plt.ylabel('Percent Class Representation')"
   ]
  },
  {
   "cell_type": "markdown",
   "metadata": {},
   "source": [
    "The data comes already labeled and split for 3 way validation. The Train sample is, naturally, the largest of the 3 with over five thousand images, 66% of which are cases of pneumonia which will be the target prediction. The next largest is the test sample with over six hundred images of which 40% are trues cases of pneumonia. Finally, the validation set contains 16 images with each class being represented equally at 50%.  "
   ]
  },
  {
   "cell_type": "markdown",
   "metadata": {},
   "source": [
    "## Sanity Check: Can the images be displayed easily?"
   ]
  },
  {
   "cell_type": "code",
   "execution_count": 6,
   "metadata": {},
   "outputs": [],
   "source": [
    "# an example of (first) and Normal x-ray scan and (second) and x-ray scan showing pneumonia\n",
    "Image.open(\"data/train/NORMAL/IM-0115-0001.jpeg\").show()\n",
    "Image.open(\"data/train/PNEUMONIA/person1001_bacteria_2932.jpeg\").show()"
   ]
  },
  {
   "cell_type": "markdown",
   "metadata": {},
   "source": [
    "## Generate Data from Sub-Directory Structure"
   ]
  },
  {
   "cell_type": "code",
   "execution_count": 91,
   "metadata": {},
   "outputs": [],
   "source": [
    "# dependencies for modeling\n",
    "from keras import layers\n",
    "from keras import models\n",
    "from keras import optimizers"
   ]
  },
  {
   "cell_type": "code",
   "execution_count": 92,
   "metadata": {},
   "outputs": [
    {
     "name": "stdout",
     "output_type": "stream",
     "text": [
      "Found 5216 images belonging to 2 classes.\n",
      "Found 624 images belonging to 2 classes.\n",
      "Found 16 images belonging to 2 classes.\n"
     ]
    }
   ],
   "source": [
    "# instatiating a data degenerater for each split sample \n",
    "train_datagen = ImageDataGenerator(rescale=1./255)\n",
    "\n",
    "test_datagen = ImageDataGenerator(rescale=1./255)\n",
    "                                   \n",
    "val_datagen = ImageDataGenerator(rescale=1./255)\n",
    "\n",
    "train_data_generator = train_datagen.flow_from_directory(\n",
    "                       train_dir,\n",
    "                       target_size=(150,150),\n",
    "                       batch_size=16,\n",
    "                       class_mode='binary',\n",
    "                       color_mode='grayscale')\n",
    "\n",
    "test_data_generator = test_datagen.flow_from_directory(\n",
    "                      test_dir,\n",
    "                      target_size=(150,150),\n",
    "                      batch_size=16,\n",
    "                      class_mode='binary',\n",
    "                      color_mode='grayscale')\n",
    "\n",
    "val_data_generator = val_datagen.flow_from_directory(\n",
    "                     val_dir,\n",
    "                     target_size=(150,150),\n",
    "                     batch_size=16,\n",
    "                     class_mode='binary',\n",
    "                     color_mode='grayscale')"
   ]
  },
  {
   "cell_type": "markdown",
   "metadata": {},
   "source": [
    "### Generate Structured Data from Generators for Use With SciKit Learn Tools"
   ]
  },
  {
   "cell_type": "code",
   "execution_count": null,
   "metadata": {},
   "outputs": [],
   "source": [
    "columns=['batch_size', 'height', 'width', 'channels']"
   ]
  },
  {
   "cell_type": "code",
   "execution_count": 158,
   "metadata": {},
   "outputs": [
    {
     "data": {
      "text/plain": [
       "(16, 150, 150, 1)"
      ]
     },
     "execution_count": 158,
     "metadata": {},
     "output_type": "execute_result"
    }
   ],
   "source": [
    "# Get the data and labels for the batch\n",
    "data_array = next(val_data_generator)\n",
    "data, labels = data_array\n",
    "# df = pd.DataFrame(data=data)\n",
    "# df[\"Labels\"] = labels\n",
    "\n",
    "data.shape"
   ]
  },
  {
   "cell_type": "code",
   "execution_count": 170,
   "metadata": {},
   "outputs": [
    {
     "data": {
      "text/plain": [
       "array([[0.00784314],\n",
       "       [0.00784314],\n",
       "       [0.00392157],\n",
       "       [0.00392157],\n",
       "       [0.00392157],\n",
       "       [0.00392157],\n",
       "       [0.        ],\n",
       "       [0.        ],\n",
       "       [0.9333334 ],\n",
       "       [0.        ],\n",
       "       [0.02352941],\n",
       "       [0.03921569],\n",
       "       [0.04313726],\n",
       "       [0.05882353],\n",
       "       [0.07058824],\n",
       "       [0.07058824],\n",
       "       [0.07450981],\n",
       "       [0.05882353],\n",
       "       [0.07843138],\n",
       "       [0.0627451 ],\n",
       "       [0.        ],\n",
       "       [0.07450981],\n",
       "       [0.07058824],\n",
       "       [0.06666667],\n",
       "       [0.09411766],\n",
       "       [0.18431373],\n",
       "       [0.23137257],\n",
       "       [0.3137255 ],\n",
       "       [0.35686275],\n",
       "       [0.45882356],\n",
       "       [0.5137255 ],\n",
       "       [0.5803922 ],\n",
       "       [0.54509807],\n",
       "       [0.6784314 ],\n",
       "       [0.7019608 ],\n",
       "       [0.6627451 ],\n",
       "       [0.68235296],\n",
       "       [0.6784314 ],\n",
       "       [0.6862745 ],\n",
       "       [0.69803923],\n",
       "       [0.6313726 ],\n",
       "       [0.60784316],\n",
       "       [0.6431373 ],\n",
       "       [0.68235296],\n",
       "       [0.6627451 ],\n",
       "       [0.6313726 ],\n",
       "       [0.64705884],\n",
       "       [0.6392157 ],\n",
       "       [0.63529414],\n",
       "       [0.64705884],\n",
       "       [0.67058825],\n",
       "       [0.6392157 ],\n",
       "       [0.6392157 ],\n",
       "       [0.6313726 ],\n",
       "       [0.654902  ],\n",
       "       [0.6666667 ],\n",
       "       [0.65882355],\n",
       "       [0.7019608 ],\n",
       "       [0.6313726 ],\n",
       "       [0.67058825],\n",
       "       [0.67058825],\n",
       "       [0.65882355],\n",
       "       [0.6509804 ],\n",
       "       [0.6156863 ],\n",
       "       [0.5803922 ],\n",
       "       [0.60784316],\n",
       "       [0.5803922 ],\n",
       "       [0.5882353 ],\n",
       "       [0.58431375],\n",
       "       [0.5803922 ],\n",
       "       [0.56078434],\n",
       "       [0.57254905],\n",
       "       [0.5647059 ],\n",
       "       [0.50980395],\n",
       "       [0.54509807],\n",
       "       [0.5372549 ],\n",
       "       [0.5294118 ],\n",
       "       [0.49803925],\n",
       "       [0.4666667 ],\n",
       "       [0.43137258],\n",
       "       [0.427451  ],\n",
       "       [0.40784317],\n",
       "       [0.36862746],\n",
       "       [0.28235295],\n",
       "       [0.29411766],\n",
       "       [0.28235295],\n",
       "       [0.27450982],\n",
       "       [0.25882354],\n",
       "       [0.26666668],\n",
       "       [0.25882354],\n",
       "       [0.24313727],\n",
       "       [0.2392157 ],\n",
       "       [0.23529413],\n",
       "       [0.23529413],\n",
       "       [0.23137257],\n",
       "       [0.227451  ],\n",
       "       [0.21568629],\n",
       "       [0.21568629],\n",
       "       [0.19215688],\n",
       "       [0.17254902],\n",
       "       [0.16862746],\n",
       "       [0.16862746],\n",
       "       [0.1764706 ],\n",
       "       [0.19607845],\n",
       "       [0.18431373],\n",
       "       [0.16862746],\n",
       "       [0.15294118],\n",
       "       [0.17254902],\n",
       "       [0.13725491],\n",
       "       [0.19215688],\n",
       "       [0.19607845],\n",
       "       [0.16470589],\n",
       "       [0.15294118],\n",
       "       [0.14901961],\n",
       "       [0.13725491],\n",
       "       [0.13725491],\n",
       "       [0.16862746],\n",
       "       [0.16862746],\n",
       "       [0.15686275],\n",
       "       [0.14901961],\n",
       "       [0.16470589],\n",
       "       [0.16078432],\n",
       "       [0.16470589],\n",
       "       [0.17254902],\n",
       "       [0.14509805],\n",
       "       [0.14509805],\n",
       "       [0.13725491],\n",
       "       [0.14509805],\n",
       "       [0.16470589],\n",
       "       [0.16862746],\n",
       "       [0.11764707],\n",
       "       [0.19607845],\n",
       "       [0.21960786],\n",
       "       [0.15686275],\n",
       "       [0.13333334],\n",
       "       [0.13725491],\n",
       "       [0.16078432],\n",
       "       [0.12941177],\n",
       "       [0.1137255 ],\n",
       "       [0.10588236],\n",
       "       [0.09803922],\n",
       "       [0.09019608],\n",
       "       [0.08235294],\n",
       "       [0.06666667],\n",
       "       [0.01960784],\n",
       "       [0.        ],\n",
       "       [0.        ],\n",
       "       [0.03529412],\n",
       "       [0.0509804 ],\n",
       "       [0.03529412]], dtype=float32)"
      ]
     },
     "execution_count": 170,
     "metadata": {},
     "output_type": "execute_result"
    }
   ],
   "source": [
    "data[0][0]"
   ]
  },
  {
   "cell_type": "code",
   "execution_count": null,
   "metadata": {},
   "outputs": [],
   "source": [
    "datagenerators = [train_data_generator,test_data_generator,val_data_generator]\n",
    "\n",
    "for generator in datagenerators:\n",
    "    for batch in generator:\n",
    "        \n"
   ]
  },
  {
   "cell_type": "markdown",
   "metadata": {},
   "source": [
    "## Sanity Check: is the data ready to fit a model?"
   ]
  },
  {
   "cell_type": "code",
   "execution_count": 6,
   "metadata": {},
   "outputs": [],
   "source": [
    "# build a simple convultional neural network\n",
    "base_model = models.Sequential()\n",
    "base_model.add(layers.Conv2D(32,(3,3),activation='relu',input_shape=(150,150,1)))\n",
    "base_model.add(layers.MaxPooling2D((2, 2)))\n",
    "base_model.add(layers.Flatten())\n",
    "base_model.add(layers.Dense(1, activation='sigmoid'))"
   ]
  },
  {
   "cell_type": "code",
   "execution_count": 7,
   "metadata": {},
   "outputs": [],
   "source": [
    "# compile model from above\n",
    "base_model.compile(loss='binary_crossentropy',metrics=['acc'])"
   ]
  },
  {
   "cell_type": "code",
   "execution_count": 8,
   "metadata": {},
   "outputs": [
    {
     "name": "stdout",
     "output_type": "stream",
     "text": [
      "Epoch 1/10\n",
      "25/25 [==============================] - 12s 465ms/step - loss: 1.2679 - acc: 0.6725 - val_loss: 0.7709 - val_acc: 0.5958\n",
      "Epoch 2/10\n",
      "25/25 [==============================] - 10s 387ms/step - loss: 0.4802 - acc: 0.7925 - val_loss: 0.4146 - val_acc: 0.8083\n",
      "Epoch 3/10\n",
      "25/25 [==============================] - 10s 380ms/step - loss: 0.3592 - acc: 0.8500 - val_loss: 1.0781 - val_acc: 0.5917\n",
      "Epoch 4/10\n",
      "25/25 [==============================] - 9s 351ms/step - loss: 0.2379 - acc: 0.9125 - val_loss: 0.2722 - val_acc: 0.9083\n",
      "Epoch 5/10\n",
      "25/25 [==============================] - 9s 341ms/step - loss: 0.2137 - acc: 0.9225 - val_loss: 0.3865 - val_acc: 0.8000\n",
      "Epoch 6/10\n",
      "25/25 [==============================] - 8s 328ms/step - loss: 0.1705 - acc: 0.9425 - val_loss: 0.4427 - val_acc: 0.7750\n",
      "Epoch 7/10\n",
      "25/25 [==============================] - 9s 341ms/step - loss: 0.1776 - acc: 0.9325 - val_loss: 0.3138 - val_acc: 0.8500\n",
      "Epoch 8/10\n",
      "25/25 [==============================] - 8s 319ms/step - loss: 0.1339 - acc: 0.9525 - val_loss: 0.5977 - val_acc: 0.7292\n",
      "Epoch 9/10\n",
      "25/25 [==============================] - 8s 336ms/step - loss: 0.1350 - acc: 0.9550 - val_loss: 0.6495 - val_acc: 0.7042\n",
      "Epoch 10/10\n",
      "25/25 [==============================] - 8s 324ms/step - loss: 0.1334 - acc: 0.9400 - val_loss: 0.7764 - val_acc: 0.7292\n"
     ]
    },
    {
     "data": {
      "text/plain": [
       "<tensorflow.python.keras.callbacks.History at 0x26caf355d60>"
      ]
     },
     "execution_count": 8,
     "metadata": {},
     "output_type": "execute_result"
    }
   ],
   "source": [
    "# fit the model to the training data and validate with the test sample\n",
    "base_model.fit(train_data_generator, \n",
    "               batch_size=16,\n",
    "               epochs=10,\n",
    "               steps_per_epoch=25,\n",
    "               validation_data=test_data_generator,\n",
    "               validation_steps=15\n",
    "               )"
   ]
  },
  {
   "cell_type": "code",
   "execution_count": 130,
   "metadata": {},
   "outputs": [],
   "source": [
    "train_batches = len(train_data_generator)\n",
    "test_batches = len(test_data_generator)\n",
    "val_batches = len(val_data_generator)"
   ]
  },
  {
   "cell_type": "code",
   "execution_count": 127,
   "metadata": {},
   "outputs": [],
   "source": [
    "X,y = val_data_generator[0][0],val_data_generator[0][1]"
   ]
  },
  {
   "cell_type": "code",
   "execution_count": 129,
   "metadata": {},
   "outputs": [
    {
     "data": {
      "text/plain": [
       "array([1., 1., 0., 0., 0., 0., 0., 0., 1., 1., 0., 1., 1., 0., 1., 1.],\n",
       "      dtype=float32)"
      ]
     },
     "execution_count": 129,
     "metadata": {},
     "output_type": "execute_result"
    }
   ],
   "source": [
    "y"
   ]
  },
  {
   "cell_type": "code",
   "execution_count": null,
   "metadata": {},
   "outputs": [],
   "source": [
    "np.asarray(val_data_generator)"
   ]
  },
  {
   "cell_type": "code",
   "execution_count": null,
   "metadata": {},
   "outputs": [],
   "source": []
  },
  {
   "cell_type": "markdown",
   "metadata": {},
   "source": [
    "## Conlcusion \n",
    "The base model succesfully compiles and fits without any errors or warnings. The model also performs decently for a baseline model. I will continue tuning and optimizing thhe model in the [modeling notebook](/PROJECT-2/modeling.ipynb).  "
   ]
  }
 ],
 "metadata": {
  "kernelspec": {
   "display_name": "Python 3.8.5 ('learn-env')",
   "language": "python",
   "name": "python3"
  },
  "language_info": {
   "codemirror_mode": {
    "name": "ipython",
    "version": 3
   },
   "file_extension": ".py",
   "mimetype": "text/x-python",
   "name": "python",
   "nbconvert_exporter": "python",
   "pygments_lexer": "ipython3",
   "version": "3.8.5"
  },
  "orig_nbformat": 4,
  "vscode": {
   "interpreter": {
    "hash": "8eb6b2671ae257969e1e6d572d1bfd2dc1c23f390a7081d26c146f9b82ef978d"
   }
  }
 },
 "nbformat": 4,
 "nbformat_minor": 2
}
