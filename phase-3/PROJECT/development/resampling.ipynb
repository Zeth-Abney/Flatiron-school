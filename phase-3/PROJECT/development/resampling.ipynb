{
 "cells": [
  {
   "cell_type": "markdown",
   "metadata": {},
   "source": [
    "# Logistic Regression Baseline Model Development\n",
    "The purpose of this notebook is to explore preprocessing techniques beyond the simple data cleaning formalized in the notebook \"EDA\" (!!!hyperlink this!!!). \n",
    "\n",
    "My main goal is to discover the best sampling method to address the class imbalance present in the target variable.\n",
    "\n",
    "I will also prototype various hyper parameter settings. "
   ]
  },
  {
   "cell_type": "markdown",
   "metadata": {},
   "source": [
    "## Load and clean data"
   ]
  },
  {
   "cell_type": "code",
   "execution_count": 1,
   "metadata": {},
   "outputs": [],
   "source": [
    "from preprocessor import data_cleaner\n",
    "\n",
    "import pandas as pd\n",
    "import numpy as np\n",
    "\n",
    "from sklearn.linear_model import LogisticRegression,LogisticRegressionCV\n",
    "from sklearn.metrics import plot_confusion_matrix, classification_report\n",
    "from sklearn.model_selection import cross_val_score,cross_val_predict\n"
   ]
  },
  {
   "cell_type": "code",
   "execution_count": 2,
   "metadata": {},
   "outputs": [],
   "source": [
    "# import and define training data. See preprocessor.py file for details on data_cleaner()\n",
    "X_train, y_train = data_cleaner(\"../data/train.csv.zip\")"
   ]
  },
  {
   "cell_type": "code",
   "execution_count": 3,
   "metadata": {},
   "outputs": [
    {
     "name": "stdout",
     "output_type": "stream",
     "text": [
      "<class 'pandas.core.frame.DataFrame'>\n",
      "Int64Index: 103904 entries, 0 to 103903\n",
      "Data columns (total 27 columns):\n",
      " #   Column                             Non-Null Count   Dtype  \n",
      "---  ------                             --------------   -----  \n",
      " 0   Age                                103904 non-null  int64  \n",
      " 1   Flight Distance                    103904 non-null  int64  \n",
      " 2   Inflight wifi service              103904 non-null  int64  \n",
      " 3   Departure/Arrival time convenient  103904 non-null  int64  \n",
      " 4   Ease of Online booking             103904 non-null  int64  \n",
      " 5   Gate location                      103904 non-null  int64  \n",
      " 6   Food and drink                     103904 non-null  int64  \n",
      " 7   Online boarding                    103904 non-null  int64  \n",
      " 8   Seat comfort                       103904 non-null  int64  \n",
      " 9   Inflight entertainment             103904 non-null  int64  \n",
      " 10  On-board service                   103904 non-null  int64  \n",
      " 11  Leg room service                   103904 non-null  int64  \n",
      " 12  Baggage handling                   103904 non-null  int64  \n",
      " 13  Checkin service                    103904 non-null  int64  \n",
      " 14  Inflight service                   103904 non-null  int64  \n",
      " 15  Cleanliness                        103904 non-null  int64  \n",
      " 16  Departure Delay in Minutes         103904 non-null  int64  \n",
      " 17  Arrival Delay in Minutes           103904 non-null  float64\n",
      " 18  Female                             103904 non-null  float64\n",
      " 19  Male                               103904 non-null  float64\n",
      " 20  Business travel                    103904 non-null  float64\n",
      " 21  Personal Travel                    103904 non-null  float64\n",
      " 22  Business                           103904 non-null  float64\n",
      " 23  Eco                                103904 non-null  float64\n",
      " 24  Eco Plus                           103904 non-null  float64\n",
      " 25  neutral or dissatisfied            103904 non-null  float64\n",
      " 26  satisfied                          103904 non-null  float64\n",
      "dtypes: float64(10), int64(17)\n",
      "memory usage: 22.2 MB\n"
     ]
    }
   ],
   "source": [
    "X_train.info()"
   ]
  },
  {
   "cell_type": "markdown",
   "metadata": {},
   "source": [
    "## Develop baseline model"
   ]
  },
  {
   "cell_type": "code",
   "execution_count": 4,
   "metadata": {},
   "outputs": [],
   "source": [
    "import matplotlib.pyplot as plt\n",
    "import seaborn as sns\n",
    "%matplotlib inline\n",
    "\n",
    "from sklearn.model_selection import cross_val_predict,cross_val_score\n",
    "from sklearn.metrics import plot_confusion_matrix,confusion_matrix,classification_report, roc_curve,auc"
   ]
  },
  {
   "cell_type": "code",
   "execution_count": 5,
   "metadata": {},
   "outputs": [],
   "source": [
    "def print_weights(y:np.array):\n",
    "    unique_train, counts_train = np.unique(y_train, return_counts=True)\n",
    "    loyal_original = round(counts_train[0]/(counts_train[0]+counts_train[1]),3)\n",
    "    disloyal_original = round(counts_train[1]/(counts_train[0]+counts_train[1]),3)\n",
    "\n",
    "    unique_resample, counts_resample = np.unique(y, return_counts=True)\n",
    "    loyal_resample = round(counts_resample[0]/(counts_resample[0]+counts_resample[1]),3)\n",
    "    disloyal_resample = round(counts_resample[1]/(counts_resample[0]+counts_resample[1]),3)\n",
    "\n",
    "    print('Original dataset weights:', loyal_original,disloyal_original)\n",
    "    print('Original dataset size:',len(y_train))\n",
    "    print('\\nResample dataset weights', loyal_resample,disloyal_resample)\n",
    "    print('Resample dataset size:', len(y_smote))"
   ]
  },
  {
   "cell_type": "markdown",
   "metadata": {},
   "source": [
    "### fit estimator"
   ]
  },
  {
   "cell_type": "code",
   "execution_count": 6,
   "metadata": {},
   "outputs": [],
   "source": [
    "logreg = LogisticRegression(solver='liblinear')\n",
    "logreg.fit(X_train,y_train)\n",
    "\n",
    "y_train_pred = cross_val_predict(logreg,X_train,y_train)\n",
    "\n",
    "train_score = cross_val_score(logreg,X_train,y_train_pred,scoring='f1')"
   ]
  },
  {
   "cell_type": "code",
   "execution_count": 7,
   "metadata": {},
   "outputs": [
    {
     "data": {
      "text/plain": [
       "0.9808701035069809"
      ]
     },
     "execution_count": 7,
     "metadata": {},
     "output_type": "execute_result"
    }
   ],
   "source": [
    "train_score.mean()"
   ]
  },
  {
   "cell_type": "markdown",
   "metadata": {},
   "source": [
    "### print classification report"
   ]
  },
  {
   "cell_type": "code",
   "execution_count": 8,
   "metadata": {},
   "outputs": [
    {
     "data": {
      "text/html": [
       "<div>\n",
       "<style scoped>\n",
       "    .dataframe tbody tr th:only-of-type {\n",
       "        vertical-align: middle;\n",
       "    }\n",
       "\n",
       "    .dataframe tbody tr th {\n",
       "        vertical-align: top;\n",
       "    }\n",
       "\n",
       "    .dataframe thead th {\n",
       "        text-align: right;\n",
       "    }\n",
       "</style>\n",
       "<table border=\"1\" class=\"dataframe\">\n",
       "  <thead>\n",
       "    <tr style=\"text-align: right;\">\n",
       "      <th></th>\n",
       "      <th>0.0</th>\n",
       "      <th>1.0</th>\n",
       "      <th>accuracy</th>\n",
       "    </tr>\n",
       "  </thead>\n",
       "  <tbody>\n",
       "    <tr>\n",
       "      <th>precision</th>\n",
       "      <td>0.933367</td>\n",
       "      <td>0.763805</td>\n",
       "      <td>0.905143</td>\n",
       "    </tr>\n",
       "    <tr>\n",
       "      <th>recall</th>\n",
       "      <td>0.951898</td>\n",
       "      <td>0.695959</td>\n",
       "      <td>0.905143</td>\n",
       "    </tr>\n",
       "    <tr>\n",
       "      <th>f1-score</th>\n",
       "      <td>0.942541</td>\n",
       "      <td>0.728305</td>\n",
       "      <td>0.905143</td>\n",
       "    </tr>\n",
       "    <tr>\n",
       "      <th>support</th>\n",
       "      <td>84923.000000</td>\n",
       "      <td>18981.000000</td>\n",
       "      <td>0.905143</td>\n",
       "    </tr>\n",
       "  </tbody>\n",
       "</table>\n",
       "</div>"
      ],
      "text/plain": [
       "                    0.0           1.0  accuracy\n",
       "precision      0.933367      0.763805  0.905143\n",
       "recall         0.951898      0.695959  0.905143\n",
       "f1-score       0.942541      0.728305  0.905143\n",
       "support    84923.000000  18981.000000  0.905143"
      ]
     },
     "execution_count": 8,
     "metadata": {},
     "output_type": "execute_result"
    }
   ],
   "source": [
    "baseline_report = classification_report(y_train,y_train_pred,output_dict=True)\n",
    "baseline_report = pd.DataFrame(baseline_report).iloc[:,0:3]\n",
    "baseline_report"
   ]
  },
  {
   "cell_type": "markdown",
   "metadata": {},
   "source": [
    "### plot confusion matrix"
   ]
  },
  {
   "cell_type": "code",
   "execution_count": 9,
   "metadata": {},
   "outputs": [
    {
     "data": {
      "image/png": "[encoded data removed]",
      "text/plain": [
       "<Figure size 432x288 with 2 Axes>"
      ]
     },
     "metadata": {
      "needs_background": "light"
     },
     "output_type": "display_data"
    }
   ],
   "source": [
    "plot_confusion_matrix(logreg,X_train,y_train,normalize='true')\n",
    "plt.show()"
   ]
  },
  {
   "cell_type": "code",
   "execution_count": 10,
   "metadata": {},
   "outputs": [],
   "source": [
    "# Calculate the probability scores of each point in the training set\n",
    "y_train_score = logreg.decision_function(X_train)\n",
    "\n",
    "# Calculate the fpr, tpr, and thresholds for the training set\n",
    "train_fpr, train_tpr, thresholds = roc_curve(y_train, y_train_score)"
   ]
  },
  {
   "cell_type": "code",
   "execution_count": 11,
   "metadata": {},
   "outputs": [],
   "source": [
    "baseline_auc = auc(train_fpr, train_tpr)"
   ]
  },
  {
   "cell_type": "markdown",
   "metadata": {},
   "source": [
    "### calculate ROC AUC and plot curve"
   ]
  },
  {
   "cell_type": "code",
   "execution_count": 12,
   "metadata": {},
   "outputs": [
    {
     "name": "stdout",
     "output_type": "stream",
     "text": [
      "Training AUC: 0.9471699866930965\n"
     ]
    },
    {
     "data": {
      "image/png": "[encoded data removed]",
      "text/plain": [
       "<Figure size 720x576 with 1 Axes>"
      ]
     },
     "metadata": {},
     "output_type": "display_data"
    }
   ],
   "source": [
    "# Seaborn's beautiful styling\n",
    "sns.set_style('darkgrid', {'axes.facecolor': '0.9'})\n",
    "\n",
    "# ROC curve for training set\n",
    "plt.figure(figsize=(10, 8))\n",
    "lw = 2\n",
    "plt.plot(train_fpr, train_tpr, color='darkorange',\n",
    "         lw=lw, label='ROC curve')\n",
    "plt.plot([0, 1], [0, 1], color='navy', lw=lw, linestyle='--')\n",
    "plt.xlim([0.0, 1.0])\n",
    "plt.ylim([0.0, 1.05])\n",
    "plt.yticks([i/20.0 for i in range(21)])\n",
    "plt.xticks([i/20.0 for i in range(21)])\n",
    "plt.xlabel('False Positive Rate')\n",
    "plt.ylabel('True Positive Rate')\n",
    "plt.title('Receiver operating characteristic (ROC) Curve for Training Set')\n",
    "plt.legend(loc='lower right')\n",
    "print('Training AUC: {}'.format(auc(train_fpr, train_tpr)))\n",
    "plt.show()"
   ]
  },
  {
   "cell_type": "markdown",
   "metadata": {},
   "source": [
    "## Prototype sampling methods\n",
    "- SMOTE (synthetic over sampling)\n",
    "- Tomek Links (under sampling against decision boundary)\n",
    "- Near Miss (distance based under sampling)\n",
    "- Edited Nearest Neighbors (under samplin against decision boundary)\n",
    "- SMOTETomek (SMOTE/Tomek Link ensemble)\n",
    "- SMOETENN (SMOTE/Edited Nearest Neighbors Ensemble)"
   ]
  },
  {
   "cell_type": "markdown",
   "metadata": {},
   "source": [
    "### SMOTE"
   ]
  },
  {
   "cell_type": "markdown",
   "metadata": {},
   "source": [
    "##### resample data"
   ]
  },
  {
   "cell_type": "code",
   "execution_count": 13,
   "metadata": {},
   "outputs": [
    {
     "name": "stdout",
     "output_type": "stream",
     "text": [
      "Original dataset weights: 0.817 0.183\n",
      "Original dataset size: 103904\n",
      "\n",
      "Resample dataset weights 0.5 0.5\n",
      "Resample dataset size: 169846\n"
     ]
    }
   ],
   "source": [
    "from imblearn.over_sampling import SMOTE\n",
    "smote = SMOTE()\n",
    "X_smote, y_smote = smote.fit_resample(X_train, y_train)\n",
    "\n",
    "\n",
    "print_weights(y_smote)"
   ]
  },
  {
   "cell_type": "code",
   "execution_count": 14,
   "metadata": {},
   "outputs": [
    {
     "name": "stdout",
     "output_type": "stream",
     "text": [
      "[0. 1.]\n",
      "[84923 18981]\n"
     ]
    }
   ],
   "source": [
    "unique_elements, counts_elements = np.unique(y_train, return_counts=True)\n",
    "print(unique_elements)\n",
    "print(counts_elements)"
   ]
  },
  {
   "cell_type": "markdown",
   "metadata": {},
   "source": [
    "#### fit estimator"
   ]
  },
  {
   "cell_type": "code",
   "execution_count": 15,
   "metadata": {},
   "outputs": [
    {
     "name": "stdout",
     "output_type": "stream",
     "text": [
      "0.9944599766095351\n"
     ]
    }
   ],
   "source": [
    "logreg_smote = LogisticRegression(solver='liblinear')\n",
    "logreg_smote.fit(X_smote,y_smote)\n",
    "\n",
    "smote_train_pred = logreg_smote.predict(X_smote)\n",
    "\n",
    "smote_train_score = cross_val_score(logreg_smote,X_smote,smote_train_pred,scoring='f1',n_jobs=3)\n",
    "print(smote_train_score.mean())"
   ]
  },
  {
   "cell_type": "markdown",
   "metadata": {},
   "source": [
    "#### plot confusion matrix"
   ]
  },
  {
   "cell_type": "code",
   "execution_count": 16,
   "metadata": {},
   "outputs": [
    {
     "data": {
      "image/png": "[encoded data removed]",
      "text/plain": [
       "<Figure size 432x288 with 2 Axes>"
      ]
     },
     "metadata": {},
     "output_type": "display_data"
    }
   ],
   "source": [
    "plot_confusion_matrix(logreg_smote,X_smote,y_smote,normalize='true')\n",
    "plt.show()"
   ]
  },
  {
   "cell_type": "markdown",
   "metadata": {},
   "source": [
    "#### print classification report"
   ]
  },
  {
   "cell_type": "code",
   "execution_count": 17,
   "metadata": {},
   "outputs": [
    {
     "data": {
      "text/html": [
       "<div>\n",
       "<style scoped>\n",
       "    .dataframe tbody tr th:only-of-type {\n",
       "        vertical-align: middle;\n",
       "    }\n",
       "\n",
       "    .dataframe tbody tr th {\n",
       "        vertical-align: top;\n",
       "    }\n",
       "\n",
       "    .dataframe thead th {\n",
       "        text-align: right;\n",
       "    }\n",
       "</style>\n",
       "<table border=\"1\" class=\"dataframe\">\n",
       "  <thead>\n",
       "    <tr style=\"text-align: right;\">\n",
       "      <th></th>\n",
       "      <th>0.0</th>\n",
       "      <th>1.0</th>\n",
       "      <th>accuracy</th>\n",
       "    </tr>\n",
       "  </thead>\n",
       "  <tbody>\n",
       "    <tr>\n",
       "      <th>precision</th>\n",
       "      <td>0.919067</td>\n",
       "      <td>0.875912</td>\n",
       "      <td>0.896318</td>\n",
       "    </tr>\n",
       "    <tr>\n",
       "      <th>recall</th>\n",
       "      <td>0.869176</td>\n",
       "      <td>0.923460</td>\n",
       "      <td>0.896318</td>\n",
       "    </tr>\n",
       "    <tr>\n",
       "      <th>f1-score</th>\n",
       "      <td>0.893425</td>\n",
       "      <td>0.899058</td>\n",
       "      <td>0.896318</td>\n",
       "    </tr>\n",
       "    <tr>\n",
       "      <th>support</th>\n",
       "      <td>84923.000000</td>\n",
       "      <td>84923.000000</td>\n",
       "      <td>0.896318</td>\n",
       "    </tr>\n",
       "  </tbody>\n",
       "</table>\n",
       "</div>"
      ],
      "text/plain": [
       "                    0.0           1.0  accuracy\n",
       "precision      0.919067      0.875912  0.896318\n",
       "recall         0.869176      0.923460  0.896318\n",
       "f1-score       0.893425      0.899058  0.896318\n",
       "support    84923.000000  84923.000000  0.896318"
      ]
     },
     "execution_count": 17,
     "metadata": {},
     "output_type": "execute_result"
    }
   ],
   "source": [
    "smote_report = classification_report(y_smote,smote_train_pred,output_dict=True)\n",
    "smote_report = pd.DataFrame(smote_report).iloc[:,0:3]\n",
    "smote_report"
   ]
  },
  {
   "cell_type": "markdown",
   "metadata": {},
   "source": [
    "#### calculate ROC AUC"
   ]
  },
  {
   "cell_type": "code",
   "execution_count": 18,
   "metadata": {},
   "outputs": [
    {
     "name": "stdout",
     "output_type": "stream",
     "text": [
      "Training AUC: 0.9501178971660749\n"
     ]
    }
   ],
   "source": [
    "# Calculate the probability scores of each point in the training set\n",
    "y_smote_score = logreg_smote.decision_function(X_smote)\n",
    "# Calculate the fpr, tpr, and thresholds for the training set\n",
    "smote_fpr, smote_tpr, smote_thresholds = roc_curve(y_smote, y_smote_score)\n",
    "smote_auc = auc(smote_fpr, smote_tpr)\n",
    "print('Training AUC: {}'.format(smote_auc))"
   ]
  },
  {
   "cell_type": "markdown",
   "metadata": {},
   "source": [
    "### Tomek Links"
   ]
  },
  {
   "cell_type": "markdown",
   "metadata": {},
   "source": [
    "#### resample data"
   ]
  },
  {
   "cell_type": "code",
   "execution_count": 19,
   "metadata": {},
   "outputs": [
    {
     "name": "stdout",
     "output_type": "stream",
     "text": [
      "Original dataset weights: 0.817 0.183\n",
      "Original dataset size: 103904\n",
      "\n",
      "Resample dataset weights 0.809 0.191\n",
      "Resample dataset size: 169846\n"
     ]
    }
   ],
   "source": [
    "from imblearn.under_sampling import TomekLinks\n",
    "tl = TomekLinks(sampling_strategy='majority',n_jobs=3)\n",
    "X_tl, y_tl = tl.fit_resample(X_train, y_train)\n",
    "\n",
    "print_weights(y_tl)"
   ]
  },
  {
   "cell_type": "markdown",
   "metadata": {},
   "source": [
    "#### fit estimator"
   ]
  },
  {
   "cell_type": "code",
   "execution_count": 20,
   "metadata": {},
   "outputs": [
    {
     "name": "stdout",
     "output_type": "stream",
     "text": [
      "0.7508259263452878\n"
     ]
    }
   ],
   "source": [
    "logreg_tl = LogisticRegression(solver='liblinear')\n",
    "logreg_tl.fit(X_tl,y_tl)\n",
    "\n",
    "tl_train_pred = logreg_tl.predict(X_tl)\n",
    "\n",
    "tl_train_score = cross_val_score(logreg_tl,X_tl,y_tl,n_jobs=3,scoring='f1')\n",
    "print(tl_train_score.mean())"
   ]
  },
  {
   "cell_type": "markdown",
   "metadata": {},
   "source": [
    "#### plot confusion matrix"
   ]
  },
  {
   "cell_type": "code",
   "execution_count": 21,
   "metadata": {},
   "outputs": [
    {
     "data": {
      "image/png": "[encoded data removed]",
      "text/plain": [
       "<Figure size 432x288 with 2 Axes>"
      ]
     },
     "metadata": {},
     "output_type": "display_data"
    }
   ],
   "source": [
    "plot_confusion_matrix(logreg_tl,X_tl,y_tl,normalize='true')\n",
    "plt.show()"
   ]
  },
  {
   "cell_type": "markdown",
   "metadata": {},
   "source": [
    "#### print classification report"
   ]
  },
  {
   "cell_type": "code",
   "execution_count": 22,
   "metadata": {},
   "outputs": [
    {
     "data": {
      "text/html": [
       "<div>\n",
       "<style scoped>\n",
       "    .dataframe tbody tr th:only-of-type {\n",
       "        vertical-align: middle;\n",
       "    }\n",
       "\n",
       "    .dataframe tbody tr th {\n",
       "        vertical-align: top;\n",
       "    }\n",
       "\n",
       "    .dataframe thead th {\n",
       "        text-align: right;\n",
       "    }\n",
       "</style>\n",
       "<table border=\"1\" class=\"dataframe\">\n",
       "  <thead>\n",
       "    <tr style=\"text-align: right;\">\n",
       "      <th></th>\n",
       "      <th>0.0</th>\n",
       "      <th>1.0</th>\n",
       "      <th>accuracy</th>\n",
       "    </tr>\n",
       "  </thead>\n",
       "  <tbody>\n",
       "    <tr>\n",
       "      <th>precision</th>\n",
       "      <td>0.936407</td>\n",
       "      <td>0.781099</td>\n",
       "      <td>0.90891</td>\n",
       "    </tr>\n",
       "    <tr>\n",
       "      <th>recall</th>\n",
       "      <td>0.952116</td>\n",
       "      <td>0.725462</td>\n",
       "      <td>0.90891</td>\n",
       "    </tr>\n",
       "    <tr>\n",
       "      <th>f1-score</th>\n",
       "      <td>0.944196</td>\n",
       "      <td>0.752253</td>\n",
       "      <td>0.90891</td>\n",
       "    </tr>\n",
       "    <tr>\n",
       "      <th>support</th>\n",
       "      <td>80591.000000</td>\n",
       "      <td>18981.000000</td>\n",
       "      <td>0.90891</td>\n",
       "    </tr>\n",
       "  </tbody>\n",
       "</table>\n",
       "</div>"
      ],
      "text/plain": [
       "                    0.0           1.0  accuracy\n",
       "precision      0.936407      0.781099   0.90891\n",
       "recall         0.952116      0.725462   0.90891\n",
       "f1-score       0.944196      0.752253   0.90891\n",
       "support    80591.000000  18981.000000   0.90891"
      ]
     },
     "execution_count": 22,
     "metadata": {},
     "output_type": "execute_result"
    }
   ],
   "source": [
    "tomek_report = classification_report(y_tl,tl_train_pred,output_dict=True)\n",
    "tomek_report = pd.DataFrame(tomek_report).iloc[:,0:3]\n",
    "tomek_report"
   ]
  },
  {
   "cell_type": "markdown",
   "metadata": {},
   "source": [
    "#### calculate ROC AUC"
   ]
  },
  {
   "cell_type": "code",
   "execution_count": 23,
   "metadata": {},
   "outputs": [
    {
     "name": "stdout",
     "output_type": "stream",
     "text": [
      "Training AUC: 0.9439161672152295\n"
     ]
    }
   ],
   "source": [
    "# Calculate the probability scores of each point in the training set\n",
    "y_tomek_score = logreg_smote.decision_function(X_tl)\n",
    "# Calculate the fpr, tpr, and thresholds for the training set\n",
    "tl_fpr , tl_tpr, tomek_thresholds = roc_curve(y_tl, y_tomek_score)\n",
    "tl_auc = auc(tl_fpr, tl_tpr)\n",
    "print('Training AUC: {}'.format(tl_auc))"
   ]
  },
  {
   "cell_type": "markdown",
   "metadata": {},
   "source": [
    "### Near Miss"
   ]
  },
  {
   "cell_type": "markdown",
   "metadata": {},
   "source": [
    "#### resample the data"
   ]
  },
  {
   "cell_type": "code",
   "execution_count": 24,
   "metadata": {},
   "outputs": [
    {
     "name": "stdout",
     "output_type": "stream",
     "text": [
      "Original dataset weights: 0.817 0.183\n",
      "Original dataset size: 103904\n",
      "\n",
      "Resample dataset weights 0.5 0.5\n",
      "Resample dataset size: 169846\n"
     ]
    }
   ],
   "source": [
    "from imblearn.under_sampling import NearMiss\n",
    "nm = NearMiss(sampling_strategy='all',n_jobs=3)\n",
    "X_nm, y_nm = nm.fit_resample(X_train,y_train)\n",
    "\n",
    "print_weights(y_nm)"
   ]
  },
  {
   "cell_type": "markdown",
   "metadata": {},
   "source": [
    "#### fit estimator"
   ]
  },
  {
   "cell_type": "code",
   "execution_count": 25,
   "metadata": {},
   "outputs": [
    {
     "name": "stdout",
     "output_type": "stream",
     "text": [
      "0.869810080157241\n"
     ]
    }
   ],
   "source": [
    "logreg_nm = LogisticRegression(solver='liblinear')\n",
    "logreg_nm.fit(X_nm,y_nm)\n",
    "\n",
    "nm_train_pred = logreg_nm.predict(X_nm)\n",
    "\n",
    "nm_train_score = cross_val_score(logreg_nm,X_nm,y_nm,n_jobs=3,scoring='f1')\n",
    "print(nm_train_score.mean())"
   ]
  },
  {
   "cell_type": "markdown",
   "metadata": {},
   "source": [
    "#### plot confusion matrix"
   ]
  },
  {
   "cell_type": "code",
   "execution_count": 26,
   "metadata": {},
   "outputs": [
    {
     "data": {
      "image/png": "[encoded data removed]",
      "text/plain": [
       "<Figure size 432x288 with 2 Axes>"
      ]
     },
     "metadata": {},
     "output_type": "display_data"
    }
   ],
   "source": [
    "plot_confusion_matrix(logreg_nm,X_nm,y_nm,normalize='true')\n",
    "plt.show()"
   ]
  },
  {
   "cell_type": "markdown",
   "metadata": {},
   "source": [
    "#### print classification report"
   ]
  },
  {
   "cell_type": "code",
   "execution_count": 27,
   "metadata": {},
   "outputs": [
    {
     "data": {
      "text/html": [
       "<div>\n",
       "<style scoped>\n",
       "    .dataframe tbody tr th:only-of-type {\n",
       "        vertical-align: middle;\n",
       "    }\n",
       "\n",
       "    .dataframe tbody tr th {\n",
       "        vertical-align: top;\n",
       "    }\n",
       "\n",
       "    .dataframe thead th {\n",
       "        text-align: right;\n",
       "    }\n",
       "</style>\n",
       "<table border=\"1\" class=\"dataframe\">\n",
       "  <thead>\n",
       "    <tr style=\"text-align: right;\">\n",
       "      <th></th>\n",
       "      <th>0.0</th>\n",
       "      <th>1.0</th>\n",
       "      <th>accuracy</th>\n",
       "    </tr>\n",
       "  </thead>\n",
       "  <tbody>\n",
       "    <tr>\n",
       "      <th>precision</th>\n",
       "      <td>0.893693</td>\n",
       "      <td>0.864455</td>\n",
       "      <td>0.87851</td>\n",
       "    </tr>\n",
       "    <tr>\n",
       "      <th>recall</th>\n",
       "      <td>0.859228</td>\n",
       "      <td>0.897793</td>\n",
       "      <td>0.87851</td>\n",
       "    </tr>\n",
       "    <tr>\n",
       "      <th>f1-score</th>\n",
       "      <td>0.876121</td>\n",
       "      <td>0.880808</td>\n",
       "      <td>0.87851</td>\n",
       "    </tr>\n",
       "    <tr>\n",
       "      <th>support</th>\n",
       "      <td>18981.000000</td>\n",
       "      <td>18981.000000</td>\n",
       "      <td>0.87851</td>\n",
       "    </tr>\n",
       "  </tbody>\n",
       "</table>\n",
       "</div>"
      ],
      "text/plain": [
       "                    0.0           1.0  accuracy\n",
       "precision      0.893693      0.864455   0.87851\n",
       "recall         0.859228      0.897793   0.87851\n",
       "f1-score       0.876121      0.880808   0.87851\n",
       "support    18981.000000  18981.000000   0.87851"
      ]
     },
     "execution_count": 27,
     "metadata": {},
     "output_type": "execute_result"
    }
   ],
   "source": [
    "nm_report = classification_report(y_nm,nm_train_pred,output_dict=True)\n",
    "nm_report = pd.DataFrame(nm_report).iloc[:,0:3]\n",
    "nm_report"
   ]
  },
  {
   "cell_type": "markdown",
   "metadata": {},
   "source": [
    "#### calculate ROC AUC"
   ]
  },
  {
   "cell_type": "code",
   "execution_count": 28,
   "metadata": {},
   "outputs": [
    {
     "name": "stdout",
     "output_type": "stream",
     "text": [
      "Training AUC: 0.9492465604949281\n"
     ]
    }
   ],
   "source": [
    "# Calculate the probability scores of each point in the training set\n",
    "y_nm_score  = logreg_nm.decision_function(X_nm)\n",
    "# Calculate the fpr, tpr, and thresholds for the training set\n",
    "nm_fpr , nm_tpr, nm_thresholds = roc_curve(y_nm, y_nm_score )\n",
    "nm_auc = auc(nm_fpr, nm_tpr)\n",
    "print('Training AUC: {}'.format(nm_auc))"
   ]
  },
  {
   "cell_type": "markdown",
   "metadata": {},
   "source": [
    "### Edited Nearest Neighbors"
   ]
  },
  {
   "cell_type": "markdown",
   "metadata": {},
   "source": [
    "#### resample the data"
   ]
  },
  {
   "cell_type": "code",
   "execution_count": 29,
   "metadata": {},
   "outputs": [
    {
     "name": "stdout",
     "output_type": "stream",
     "text": [
      "Original dataset weights: 0.817 0.183\n",
      "Original dataset size: 103904\n",
      "\n",
      "Resample dataset weights 0.762 0.238\n",
      "Resample dataset size: 169846\n"
     ]
    }
   ],
   "source": [
    "from imblearn.under_sampling import EditedNearestNeighbours\n",
    "ENN = EditedNearestNeighbours(sampling_strategy='majority')\n",
    "X_enn, y_enn = ENN.fit_resample(X_train,y_train)\n",
    "\n",
    "print_weights(y_enn)"
   ]
  },
  {
   "cell_type": "markdown",
   "metadata": {},
   "source": [
    "#### fit estimator"
   ]
  },
  {
   "cell_type": "code",
   "execution_count": 30,
   "metadata": {},
   "outputs": [
    {
     "name": "stdout",
     "output_type": "stream",
     "text": [
      "0.8373544378234661\n"
     ]
    }
   ],
   "source": [
    "logreg_ENN = LogisticRegression(solver='liblinear')\n",
    "logreg_ENN.fit(X_enn,y_enn)\n",
    "\n",
    "enn_train_pred = cross_val_predict(logreg_ENN,X_enn,y_enn,n_jobs=3)\n",
    "\n",
    "enn_train_score = cross_val_score(logreg_ENN,X_enn,y_enn,n_jobs=3,scoring='f1')\n",
    "print(enn_train_score.mean())"
   ]
  },
  {
   "cell_type": "markdown",
   "metadata": {},
   "source": [
    "#### plot confusion matrix"
   ]
  },
  {
   "cell_type": "code",
   "execution_count": 31,
   "metadata": {},
   "outputs": [
    {
     "data": {
      "image/png": "[encoded data removed]",
      "text/plain": [
       "<Figure size 432x288 with 2 Axes>"
      ]
     },
     "metadata": {},
     "output_type": "display_data"
    }
   ],
   "source": [
    "plot_confusion_matrix(logreg_ENN,X_enn,y_enn,normalize='true')\n",
    "plt.show()"
   ]
  },
  {
   "cell_type": "markdown",
   "metadata": {},
   "source": [
    "#### print classification matrix"
   ]
  },
  {
   "cell_type": "code",
   "execution_count": 32,
   "metadata": {},
   "outputs": [
    {
     "data": {
      "text/html": [
       "<div>\n",
       "<style scoped>\n",
       "    .dataframe tbody tr th:only-of-type {\n",
       "        vertical-align: middle;\n",
       "    }\n",
       "\n",
       "    .dataframe tbody tr th {\n",
       "        vertical-align: top;\n",
       "    }\n",
       "\n",
       "    .dataframe thead th {\n",
       "        text-align: right;\n",
       "    }\n",
       "</style>\n",
       "<table border=\"1\" class=\"dataframe\">\n",
       "  <thead>\n",
       "    <tr style=\"text-align: right;\">\n",
       "      <th></th>\n",
       "      <th>0.0</th>\n",
       "      <th>1.0</th>\n",
       "      <th>accuracy</th>\n",
       "    </tr>\n",
       "  </thead>\n",
       "  <tbody>\n",
       "    <tr>\n",
       "      <th>precision</th>\n",
       "      <td>0.946071</td>\n",
       "      <td>0.848785</td>\n",
       "      <td>0.923498</td>\n",
       "    </tr>\n",
       "    <tr>\n",
       "      <th>recall</th>\n",
       "      <td>0.953933</td>\n",
       "      <td>0.826247</td>\n",
       "      <td>0.923498</td>\n",
       "    </tr>\n",
       "    <tr>\n",
       "      <th>f1-score</th>\n",
       "      <td>0.949986</td>\n",
       "      <td>0.837365</td>\n",
       "      <td>0.923498</td>\n",
       "    </tr>\n",
       "    <tr>\n",
       "      <th>support</th>\n",
       "      <td>60651.000000</td>\n",
       "      <td>18981.000000</td>\n",
       "      <td>0.923498</td>\n",
       "    </tr>\n",
       "  </tbody>\n",
       "</table>\n",
       "</div>"
      ],
      "text/plain": [
       "                    0.0           1.0  accuracy\n",
       "precision      0.946071      0.848785  0.923498\n",
       "recall         0.953933      0.826247  0.923498\n",
       "f1-score       0.949986      0.837365  0.923498\n",
       "support    60651.000000  18981.000000  0.923498"
      ]
     },
     "execution_count": 32,
     "metadata": {},
     "output_type": "execute_result"
    }
   ],
   "source": [
    "enn_report = classification_report(y_enn,enn_train_pred,output_dict=True)\n",
    "enn_report = pd.DataFrame(enn_report).iloc[:,0:3]\n",
    "enn_report"
   ]
  },
  {
   "cell_type": "markdown",
   "metadata": {},
   "source": [
    "#### calculate ROC AUC"
   ]
  },
  {
   "cell_type": "code",
   "execution_count": 33,
   "metadata": {},
   "outputs": [
    {
     "name": "stdout",
     "output_type": "stream",
     "text": [
      "Training AUC: 0.7846937445781219\n"
     ]
    }
   ],
   "source": [
    "# Calculate the probability scores of each point in the training set\n",
    "y_enn_score  = logreg_nm.decision_function(X_enn)\n",
    "# Calculate the fpr, tpr, and thresholds for the training set\n",
    "enn_fpr , enn_tpr, enn_thresholds = roc_curve(y_enn, y_enn_score )\n",
    "enn_auc = auc(enn_fpr, enn_tpr)\n",
    "print('Training AUC: {}'.format(enn_auc))"
   ]
  },
  {
   "cell_type": "markdown",
   "metadata": {},
   "source": [
    "### SMOTETomek"
   ]
  },
  {
   "cell_type": "markdown",
   "metadata": {},
   "source": [
    "#### resample the data"
   ]
  },
  {
   "cell_type": "code",
   "execution_count": 34,
   "metadata": {},
   "outputs": [
    {
     "name": "stdout",
     "output_type": "stream",
     "text": [
      "Original dataset weights: 0.817 0.183\n",
      "Original dataset size: 103904\n",
      "\n",
      "Resample dataset weights 0.499 0.501\n",
      "Resample dataset size: 169846\n"
     ]
    }
   ],
   "source": [
    "from imblearn.combine import SMOTETomek\n",
    "SMOTek = SMOTETomek(sampling_strategy='all',smote=smote,tomek=tl,n_jobs=3)\n",
    "X_smotek, y_smotek = SMOTek.fit_resample(X_train,y_train)\n",
    "\n",
    "print_weights(y_smotek)"
   ]
  },
  {
   "cell_type": "markdown",
   "metadata": {},
   "source": [
    "#### fit estimator"
   ]
  },
  {
   "cell_type": "code",
   "execution_count": 35,
   "metadata": {},
   "outputs": [
    {
     "name": "stdout",
     "output_type": "stream",
     "text": [
      "0.8972609324005788\n"
     ]
    }
   ],
   "source": [
    "logreg_SMOTek = LogisticRegression(solver='liblinear')\n",
    "logreg_SMOTek.fit(X_smotek,y_smotek)\n",
    "\n",
    "smotek_train_pred = logreg_SMOTek.predict(X_smotek)\n",
    "\n",
    "smotek_train_score = cross_val_score(logreg_SMOTek,X_smotek,y_smotek,n_jobs=3,scoring='f1')\n",
    "print(smotek_train_score.mean())"
   ]
  },
  {
   "cell_type": "markdown",
   "metadata": {},
   "source": [
    "#### plot confusion matrix"
   ]
  },
  {
   "cell_type": "code",
   "execution_count": 36,
   "metadata": {},
   "outputs": [
    {
     "data": {
      "image/png": "[encoded data removed]",
      "text/plain": [
       "<Figure size 432x288 with 2 Axes>"
      ]
     },
     "metadata": {},
     "output_type": "display_data"
    }
   ],
   "source": [
    "plot_confusion_matrix(logreg_SMOTek,X_smotek,y_smotek,normalize='true')\n",
    "plt.show()"
   ]
  },
  {
   "cell_type": "markdown",
   "metadata": {},
   "source": [
    "#### print classification report"
   ]
  },
  {
   "cell_type": "code",
   "execution_count": 37,
   "metadata": {},
   "outputs": [
    {
     "data": {
      "text/html": [
       "<div>\n",
       "<style scoped>\n",
       "    .dataframe tbody tr th:only-of-type {\n",
       "        vertical-align: middle;\n",
       "    }\n",
       "\n",
       "    .dataframe tbody tr th {\n",
       "        vertical-align: top;\n",
       "    }\n",
       "\n",
       "    .dataframe thead th {\n",
       "        text-align: right;\n",
       "    }\n",
       "</style>\n",
       "<table border=\"1\" class=\"dataframe\">\n",
       "  <thead>\n",
       "    <tr style=\"text-align: right;\">\n",
       "      <th></th>\n",
       "      <th>0.0</th>\n",
       "      <th>1.0</th>\n",
       "      <th>accuracy</th>\n",
       "    </tr>\n",
       "  </thead>\n",
       "  <tbody>\n",
       "    <tr>\n",
       "      <th>precision</th>\n",
       "      <td>0.893693</td>\n",
       "      <td>0.864455</td>\n",
       "      <td>0.87851</td>\n",
       "    </tr>\n",
       "    <tr>\n",
       "      <th>recall</th>\n",
       "      <td>0.859228</td>\n",
       "      <td>0.897793</td>\n",
       "      <td>0.87851</td>\n",
       "    </tr>\n",
       "    <tr>\n",
       "      <th>f1-score</th>\n",
       "      <td>0.876121</td>\n",
       "      <td>0.880808</td>\n",
       "      <td>0.87851</td>\n",
       "    </tr>\n",
       "    <tr>\n",
       "      <th>support</th>\n",
       "      <td>18981.000000</td>\n",
       "      <td>18981.000000</td>\n",
       "      <td>0.87851</td>\n",
       "    </tr>\n",
       "  </tbody>\n",
       "</table>\n",
       "</div>"
      ],
      "text/plain": [
       "                    0.0           1.0  accuracy\n",
       "precision      0.893693      0.864455   0.87851\n",
       "recall         0.859228      0.897793   0.87851\n",
       "f1-score       0.876121      0.880808   0.87851\n",
       "support    18981.000000  18981.000000   0.87851"
      ]
     },
     "execution_count": 37,
     "metadata": {},
     "output_type": "execute_result"
    }
   ],
   "source": [
    "smotek_report = classification_report(y_nm,nm_train_pred,output_dict=True)\n",
    "smotek_report = pd.DataFrame(smotek_report).iloc[:,0:3]\n",
    "smotek_report"
   ]
  },
  {
   "cell_type": "markdown",
   "metadata": {},
   "source": [
    "#### calculate ROC AUC"
   ]
  },
  {
   "cell_type": "code",
   "execution_count": 38,
   "metadata": {},
   "outputs": [
    {
     "name": "stdout",
     "output_type": "stream",
     "text": [
      "Training AUC: 0.9500785179113276\n"
     ]
    }
   ],
   "source": [
    "# Calculate the probability scores of each point in the training set\n",
    "y_smotek_score  = logreg_SMOTek.decision_function(X_smotek)\n",
    "# Calculate the fpr, tpr, and thresholds for the training set\n",
    "smotek_fpr , smotek_tpr, smotek_thresholds = roc_curve(y_smotek, y_smotek_score )\n",
    "smotek_auc = auc(smotek_fpr, smotek_tpr)\n",
    "print('Training AUC: {}'.format(smotek_auc))"
   ]
  },
  {
   "cell_type": "markdown",
   "metadata": {},
   "source": [
    "### SMOTENN"
   ]
  },
  {
   "cell_type": "markdown",
   "metadata": {},
   "source": [
    "#### resmaple the data"
   ]
  },
  {
   "cell_type": "code",
   "execution_count": 39,
   "metadata": {},
   "outputs": [
    {
     "name": "stdout",
     "output_type": "stream",
     "text": [
      "Original dataset weights: 0.817 0.183\n",
      "Original dataset size: 103904\n",
      "\n",
      "Resample dataset weights 0.382 0.618\n",
      "Resample dataset size: 169846\n"
     ]
    }
   ],
   "source": [
    "from imblearn.combine import SMOTEENN\n",
    "SMN = SMOTEENN(sampling_strategy='all',smote=smote,enn=ENN,n_jobs=3)\n",
    "X_smn, y_smn = SMN.fit_resample(X_train,y_train)\n",
    "\n",
    "print_weights(y_smn)"
   ]
  },
  {
   "cell_type": "markdown",
   "metadata": {},
   "source": [
    "#### fit estimator"
   ]
  },
  {
   "cell_type": "code",
   "execution_count": 40,
   "metadata": {},
   "outputs": [
    {
     "name": "stdout",
     "output_type": "stream",
     "text": [
      "0.9425697164915263\n"
     ]
    }
   ],
   "source": [
    "logreg_SMOTENN = LogisticRegression(solver='liblinear')\n",
    "logreg_SMOTENN.fit(X_smn,y_smn)\n",
    "\n",
    "smn_train_pred = logreg_SMOTENN.predict(X_smn)\n",
    "\n",
    "smn_train_score = cross_val_score(logreg_SMOTENN,X_smn,y_smn,n_jobs=3,scoring='f1')\n",
    "print(smn_train_score.mean())"
   ]
  },
  {
   "cell_type": "markdown",
   "metadata": {},
   "source": [
    "#### plot confusion matrix"
   ]
  },
  {
   "cell_type": "code",
   "execution_count": 41,
   "metadata": {},
   "outputs": [
    {
     "data": {
      "image/png": "[encoded data removed]",
      "text/plain": [
       "<Figure size 432x288 with 2 Axes>"
      ]
     },
     "metadata": {},
     "output_type": "display_data"
    }
   ],
   "source": [
    "plot_confusion_matrix(logreg_SMOTENN,X_smn,y_smn,normalize='true')\n",
    "plt.show()"
   ]
  },
  {
   "cell_type": "markdown",
   "metadata": {},
   "source": [
    "#### print classification report"
   ]
  },
  {
   "cell_type": "code",
   "execution_count": 42,
   "metadata": {},
   "outputs": [
    {
     "data": {
      "text/html": [
       "<div>\n",
       "<style scoped>\n",
       "    .dataframe tbody tr th:only-of-type {\n",
       "        vertical-align: middle;\n",
       "    }\n",
       "\n",
       "    .dataframe tbody tr th {\n",
       "        vertical-align: top;\n",
       "    }\n",
       "\n",
       "    .dataframe thead th {\n",
       "        text-align: right;\n",
       "    }\n",
       "</style>\n",
       "<table border=\"1\" class=\"dataframe\">\n",
       "  <thead>\n",
       "    <tr style=\"text-align: right;\">\n",
       "      <th></th>\n",
       "      <th>0.0</th>\n",
       "      <th>1.0</th>\n",
       "      <th>accuracy</th>\n",
       "    </tr>\n",
       "  </thead>\n",
       "  <tbody>\n",
       "    <tr>\n",
       "      <th>precision</th>\n",
       "      <td>0.925627</td>\n",
       "      <td>0.931012</td>\n",
       "      <td>0.929044</td>\n",
       "    </tr>\n",
       "    <tr>\n",
       "      <th>recall</th>\n",
       "      <td>0.885412</td>\n",
       "      <td>0.956019</td>\n",
       "      <td>0.929044</td>\n",
       "    </tr>\n",
       "    <tr>\n",
       "      <th>f1-score</th>\n",
       "      <td>0.905073</td>\n",
       "      <td>0.943350</td>\n",
       "      <td>0.929044</td>\n",
       "    </tr>\n",
       "    <tr>\n",
       "      <th>support</th>\n",
       "      <td>52501.000000</td>\n",
       "      <td>84923.000000</td>\n",
       "      <td>0.929044</td>\n",
       "    </tr>\n",
       "  </tbody>\n",
       "</table>\n",
       "</div>"
      ],
      "text/plain": [
       "                    0.0           1.0  accuracy\n",
       "precision      0.925627      0.931012  0.929044\n",
       "recall         0.885412      0.956019  0.929044\n",
       "f1-score       0.905073      0.943350  0.929044\n",
       "support    52501.000000  84923.000000  0.929044"
      ]
     },
     "execution_count": 42,
     "metadata": {},
     "output_type": "execute_result"
    }
   ],
   "source": [
    "SMOTENN_report = classification_report(y_smn,smn_train_pred,output_dict=True)\n",
    "SMOTENN_report = pd.DataFrame(SMOTENN_report).iloc[:,0:3]\n",
    "SMOTENN_report"
   ]
  },
  {
   "cell_type": "markdown",
   "metadata": {},
   "source": [
    "#### calculate ROC AUC"
   ]
  },
  {
   "cell_type": "code",
   "execution_count": 43,
   "metadata": {},
   "outputs": [
    {
     "name": "stdout",
     "output_type": "stream",
     "text": [
      "Training AUC: 0.9727681543695383\n"
     ]
    }
   ],
   "source": [
    "# Calculate the probability scores of each point in the training set\n",
    "SMOTENN_score  = logreg_SMOTENN.decision_function(X_smn)\n",
    "# Calculate the fpr, tpr, and thresholds for the training set\n",
    "smotenn_fpr , smotenn_tpr, smotenn_thresholds = roc_curve(y_smn, SMOTENN_score)\n",
    "smotenn_auc = auc(smotenn_fpr, smotenn_tpr)\n",
    "print('Training AUC: {}'.format(smotenn_auc))"
   ]
  },
  {
   "cell_type": "markdown",
   "metadata": {},
   "source": [
    "## Validate sample and select method(s)\n",
    "- First tried SMOTENN because it had the highest F1, validation however had a ROC AUC of about .06, indicating the model is overfitting the data. \n",
    "- Next I am trying Near Miss because it only undersamples the majority and had a training F1 score between SMOTE and Edited Nearest Neighbors, the two methods used in SMOTENN. Not synthesizing new data, and only undersampling I expect will reduce overfitting. "
   ]
  },
  {
   "cell_type": "code",
   "execution_count": 44,
   "metadata": {},
   "outputs": [],
   "source": [
    "# load and clean validation set\n",
    "X_test, y_test = data_cleaner(\"../data/train.csv.zip\")"
   ]
  },
  {
   "cell_type": "markdown",
   "metadata": {},
   "source": [
    "### SMOTENN CV Test"
   ]
  },
  {
   "cell_type": "markdown",
   "metadata": {},
   "source": [
    "#### fit cross validated model"
   ]
  },
  {
   "cell_type": "code",
   "execution_count": 45,
   "metadata": {},
   "outputs": [
    {
     "data": {
      "text/plain": [
       "LogisticRegressionCV(n_jobs=3, solver='liblinear')"
      ]
     },
     "execution_count": 45,
     "metadata": {},
     "output_type": "execute_result"
    }
   ],
   "source": [
    "logreg_SMOTENN_CV = LogisticRegressionCV(solver='liblinear',n_jobs=3)\n",
    "logreg_SMOTENN_CV.fit(X_smn,y_smn)"
   ]
  },
  {
   "cell_type": "code",
   "execution_count": 46,
   "metadata": {},
   "outputs": [
    {
     "data": {
      "text/html": [
       "<div>\n",
       "<style scoped>\n",
       "    .dataframe tbody tr th:only-of-type {\n",
       "        vertical-align: middle;\n",
       "    }\n",
       "\n",
       "    .dataframe tbody tr th {\n",
       "        vertical-align: top;\n",
       "    }\n",
       "\n",
       "    .dataframe thead th {\n",
       "        text-align: right;\n",
       "    }\n",
       "</style>\n",
       "<table border=\"1\" class=\"dataframe\">\n",
       "  <thead>\n",
       "    <tr style=\"text-align: right;\">\n",
       "      <th></th>\n",
       "      <th>0.0</th>\n",
       "      <th>1.0</th>\n",
       "      <th>accuracy</th>\n",
       "    </tr>\n",
       "  </thead>\n",
       "  <tbody>\n",
       "    <tr>\n",
       "      <th>precision</th>\n",
       "      <td>0.983513</td>\n",
       "      <td>0.539741</td>\n",
       "      <td>0.842566</td>\n",
       "    </tr>\n",
       "    <tr>\n",
       "      <th>recall</th>\n",
       "      <td>0.821144</td>\n",
       "      <td>0.938412</td>\n",
       "      <td>0.842566</td>\n",
       "    </tr>\n",
       "    <tr>\n",
       "      <th>f1-score</th>\n",
       "      <td>0.895024</td>\n",
       "      <td>0.685314</td>\n",
       "      <td>0.842566</td>\n",
       "    </tr>\n",
       "    <tr>\n",
       "      <th>support</th>\n",
       "      <td>84923.000000</td>\n",
       "      <td>18981.000000</td>\n",
       "      <td>0.842566</td>\n",
       "    </tr>\n",
       "  </tbody>\n",
       "</table>\n",
       "</div>"
      ],
      "text/plain": [
       "                    0.0           1.0  accuracy\n",
       "precision      0.983513      0.539741  0.842566\n",
       "recall         0.821144      0.938412  0.842566\n",
       "f1-score       0.895024      0.685314  0.842566\n",
       "support    84923.000000  18981.000000  0.842566"
      ]
     },
     "execution_count": 46,
     "metadata": {},
     "output_type": "execute_result"
    }
   ],
   "source": [
    "smn_test_pred = logreg_SMOTENN_CV.predict(X_test)\n",
    "smn_test_report = classification_report(y_test,smn_test_pred,output_dict=True)\n",
    "SMOTENN_CV_report = pd.DataFrame(smn_test_report).iloc[:,0:3]\n",
    "SMOTENN_CV_report"
   ]
  },
  {
   "cell_type": "markdown",
   "metadata": {},
   "source": [
    "#### plot confusion matrix"
   ]
  },
  {
   "cell_type": "code",
   "execution_count": 47,
   "metadata": {},
   "outputs": [
    {
     "data": {
      "image/png": "[encoded data removed]",
      "text/plain": [
       "<Figure size 432x288 with 2 Axes>"
      ]
     },
     "metadata": {},
     "output_type": "display_data"
    }
   ],
   "source": [
    "# plot confusion matrix\n",
    "plot_confusion_matrix(logreg_SMOTENN_CV,X_test,y_test,normalize='true')\n",
    "plt.show()"
   ]
  },
  {
   "cell_type": "markdown",
   "metadata": {},
   "source": [
    "#### plot ROC AUC"
   ]
  },
  {
   "cell_type": "code",
   "execution_count": 48,
   "metadata": {},
   "outputs": [
    {
     "data": {
      "image/png": "[encoded data removed]",
      "text/plain": [
       "<Figure size 432x288 with 1 Axes>"
      ]
     },
     "metadata": {},
     "output_type": "display_data"
    }
   ],
   "source": [
    "from sklearn.metrics import plot_roc_curve\n",
    "plot_roc_curve(logreg_SMOTENN_CV,X_test,y_test)\n",
    "plt.show()"
   ]
  },
  {
   "cell_type": "code",
   "execution_count": 49,
   "metadata": {},
   "outputs": [
    {
     "name": "stdout",
     "output_type": "stream",
     "text": [
      "SMOTENN Test AUC: 0.9395813825932257\n"
     ]
    }
   ],
   "source": [
    "# Calculate the probability scores of each point in the training set\n",
    "SMOTENN_CV_score  = logreg_SMOTENN_CV.decision_function(X_test)\n",
    "# Calculate the fpr, tpr, and thresholds for the training set\n",
    "smotenn_cv_fpr , smotenn_cv_tpr, smotenn_cv_thresholds = roc_curve(y_test, SMOTENN_CV_score)\n",
    "smotenn_cv_auc = auc(smotenn_cv_fpr, smotenn_cv_tpr)\n",
    "print('SMOTENN Test AUC: {}'.format(smotenn_cv_auc))"
   ]
  },
  {
   "cell_type": "markdown",
   "metadata": {},
   "source": [
    "### SMOTE CV Test"
   ]
  },
  {
   "cell_type": "code",
   "execution_count": 50,
   "metadata": {},
   "outputs": [
    {
     "data": {
      "text/plain": [
       "LogisticRegressionCV(n_jobs=3, solver='liblinear')"
      ]
     },
     "execution_count": 50,
     "metadata": {},
     "output_type": "execute_result"
    }
   ],
   "source": [
    "logreg_SMOTE_CV = LogisticRegressionCV(solver='liblinear',n_jobs=3)\n",
    "logreg_SMOTE_CV.fit(X_smote,y_smote)"
   ]
  },
  {
   "cell_type": "code",
   "execution_count": 51,
   "metadata": {},
   "outputs": [
    {
     "data": {
      "text/html": [
       "<div>\n",
       "<style scoped>\n",
       "    .dataframe tbody tr th:only-of-type {\n",
       "        vertical-align: middle;\n",
       "    }\n",
       "\n",
       "    .dataframe tbody tr th {\n",
       "        vertical-align: top;\n",
       "    }\n",
       "\n",
       "    .dataframe thead th {\n",
       "        text-align: right;\n",
       "    }\n",
       "</style>\n",
       "<table border=\"1\" class=\"dataframe\">\n",
       "  <thead>\n",
       "    <tr style=\"text-align: right;\">\n",
       "      <th></th>\n",
       "      <th>0.0</th>\n",
       "      <th>1.0</th>\n",
       "      <th>accuracy</th>\n",
       "    </tr>\n",
       "  </thead>\n",
       "  <tbody>\n",
       "    <tr>\n",
       "      <th>precision</th>\n",
       "      <td>0.973479</td>\n",
       "      <td>0.603628</td>\n",
       "      <td>0.873402</td>\n",
       "    </tr>\n",
       "    <tr>\n",
       "      <th>recall</th>\n",
       "      <td>0.868775</td>\n",
       "      <td>0.894105</td>\n",
       "      <td>0.873402</td>\n",
       "    </tr>\n",
       "    <tr>\n",
       "      <th>f1-score</th>\n",
       "      <td>0.918152</td>\n",
       "      <td>0.720698</td>\n",
       "      <td>0.873402</td>\n",
       "    </tr>\n",
       "    <tr>\n",
       "      <th>support</th>\n",
       "      <td>84923.000000</td>\n",
       "      <td>18981.000000</td>\n",
       "      <td>0.873402</td>\n",
       "    </tr>\n",
       "  </tbody>\n",
       "</table>\n",
       "</div>"
      ],
      "text/plain": [
       "                    0.0           1.0  accuracy\n",
       "precision      0.973479      0.603628  0.873402\n",
       "recall         0.868775      0.894105  0.873402\n",
       "f1-score       0.918152      0.720698  0.873402\n",
       "support    84923.000000  18981.000000  0.873402"
      ]
     },
     "execution_count": 51,
     "metadata": {},
     "output_type": "execute_result"
    }
   ],
   "source": [
    "smote_test_pred = logreg_SMOTE_CV.predict(X_test)\n",
    "smote_test_report = classification_report(y_test,smote_test_pred,output_dict=True)\n",
    "SMOTE_CV_report = pd.DataFrame(smote_test_report).iloc[:,0:3]\n",
    "SMOTE_CV_report"
   ]
  },
  {
   "cell_type": "markdown",
   "metadata": {},
   "source": [
    "#### plot confusion matrix"
   ]
  },
  {
   "cell_type": "code",
   "execution_count": 52,
   "metadata": {},
   "outputs": [
    {
     "data": {
      "image/png": "[encoded data removed]",
      "text/plain": [
       "<Figure size 432x288 with 2 Axes>"
      ]
     },
     "metadata": {},
     "output_type": "display_data"
    }
   ],
   "source": [
    "# plot confusion matrix\n",
    "plot_confusion_matrix(logreg_SMOTENN_CV,X_test,y_test,normalize='true')\n",
    "plt.show()"
   ]
  },
  {
   "cell_type": "markdown",
   "metadata": {},
   "source": [
    "#### plot ROC AUC"
   ]
  },
  {
   "cell_type": "code",
   "execution_count": 53,
   "metadata": {},
   "outputs": [
    {
     "data": {
      "image/png": "[encoded data removed]",
      "text/plain": [
       "<Figure size 432x288 with 1 Axes>"
      ]
     },
     "metadata": {},
     "output_type": "display_data"
    }
   ],
   "source": [
    "plot_roc_curve(logreg_SMOTENN_CV,X_test,y_test)\n",
    "plt.show()"
   ]
  },
  {
   "cell_type": "code",
   "execution_count": 60,
   "metadata": {},
   "outputs": [
    {
     "name": "stdout",
     "output_type": "stream",
     "text": [
      "SMOTE Test AUC: 0.9402851542213703\n"
     ]
    }
   ],
   "source": [
    "# Calculate the probability scores of each point in the training set\n",
    "SMOTE_CV_score  = logreg_SMOTE_CV.decision_function(X_test)\n",
    "# Calculate the fpr, tpr, and thresholds for the training set\n",
    "smote_cv_fpr , smote_cv_tpr, smote_cv_thresholds = roc_curve(y_test, SMOTE_CV_score)\n",
    "smote_cv_auc = auc(smote_cv_fpr, smote_cv_tpr)\n",
    "print('SMOTE Test AUC: {}'.format(smote_cv_auc))"
   ]
  },
  {
   "cell_type": "markdown",
   "metadata": {},
   "source": [
    "### Near Miss CV Test"
   ]
  },
  {
   "cell_type": "markdown",
   "metadata": {},
   "source": [
    "#### fit cross validated model"
   ]
  },
  {
   "cell_type": "code",
   "execution_count": 54,
   "metadata": {},
   "outputs": [
    {
     "data": {
      "text/html": [
       "<div>\n",
       "<style scoped>\n",
       "    .dataframe tbody tr th:only-of-type {\n",
       "        vertical-align: middle;\n",
       "    }\n",
       "\n",
       "    .dataframe tbody tr th {\n",
       "        vertical-align: top;\n",
       "    }\n",
       "\n",
       "    .dataframe thead th {\n",
       "        text-align: right;\n",
       "    }\n",
       "</style>\n",
       "<table border=\"1\" class=\"dataframe\">\n",
       "  <thead>\n",
       "    <tr style=\"text-align: right;\">\n",
       "      <th></th>\n",
       "      <th>0.0</th>\n",
       "      <th>1.0</th>\n",
       "      <th>accuracy</th>\n",
       "    </tr>\n",
       "  </thead>\n",
       "  <tbody>\n",
       "    <tr>\n",
       "      <th>precision</th>\n",
       "      <td>0.965721</td>\n",
       "      <td>0.354473</td>\n",
       "      <td>0.682428</td>\n",
       "    </tr>\n",
       "    <tr>\n",
       "      <th>recall</th>\n",
       "      <td>0.633951</td>\n",
       "      <td>0.899320</td>\n",
       "      <td>0.682428</td>\n",
       "    </tr>\n",
       "    <tr>\n",
       "      <th>f1-score</th>\n",
       "      <td>0.765431</td>\n",
       "      <td>0.508512</td>\n",
       "      <td>0.682428</td>\n",
       "    </tr>\n",
       "    <tr>\n",
       "      <th>support</th>\n",
       "      <td>84923.000000</td>\n",
       "      <td>18981.000000</td>\n",
       "      <td>0.682428</td>\n",
       "    </tr>\n",
       "  </tbody>\n",
       "</table>\n",
       "</div>"
      ],
      "text/plain": [
       "                    0.0           1.0  accuracy\n",
       "precision      0.965721      0.354473  0.682428\n",
       "recall         0.633951      0.899320  0.682428\n",
       "f1-score       0.765431      0.508512  0.682428\n",
       "support    84923.000000  18981.000000  0.682428"
      ]
     },
     "execution_count": 54,
     "metadata": {},
     "output_type": "execute_result"
    }
   ],
   "source": [
    "logreg_nm_cv = LogisticRegressionCV(solver='liblinear',n_jobs=3)\n",
    "logreg_nm_cv.fit(X_nm,y_nm)\n",
    "\n",
    "nm_test_pred = logreg_nm_cv.predict(X_test)\n",
    "nm_test_report = classification_report(y_test,nm_test_pred,output_dict=True)\n",
    "nm_test_report = pd.DataFrame(nm_test_report).iloc[:,0:3]\n",
    "nm_test_report"
   ]
  },
  {
   "cell_type": "markdown",
   "metadata": {},
   "source": [
    "#### plot confusion matrix"
   ]
  },
  {
   "cell_type": "code",
   "execution_count": 55,
   "metadata": {},
   "outputs": [
    {
     "data": {
      "image/png": "[encoded data removed]",
      "text/plain": [
       "<Figure size 432x288 with 2 Axes>"
      ]
     },
     "metadata": {},
     "output_type": "display_data"
    }
   ],
   "source": [
    "plot_confusion_matrix(logreg_nm_cv,X_test,y_test,normalize='true')\n",
    "plt.show()"
   ]
  },
  {
   "cell_type": "markdown",
   "metadata": {},
   "source": [
    "#### plot ROC AUC"
   ]
  },
  {
   "cell_type": "code",
   "execution_count": 56,
   "metadata": {},
   "outputs": [
    {
     "data": {
      "image/png": "[encoded data removed]",
      "text/plain": [
       "<Figure size 432x288 with 1 Axes>"
      ]
     },
     "metadata": {},
     "output_type": "display_data"
    }
   ],
   "source": [
    "plot_roc_curve(logreg_nm_cv,X_test,y_test)\n",
    "plt.show()"
   ]
  },
  {
   "cell_type": "code",
   "execution_count": 57,
   "metadata": {},
   "outputs": [
    {
     "name": "stdout",
     "output_type": "stream",
     "text": [
      "Near Miss Test AUC: 0.7619659221996201\n"
     ]
    }
   ],
   "source": [
    "# Calculate the probability scores of each point in the training set\n",
    "nm_cv_score  = logreg_nm_cv.decision_function(X_test)\n",
    "# Calculate the fpr, tpr, and thresholds for the training set\n",
    "nm_cv_fpr , nm_cv_tpr, nm_cv_thresholds = roc_curve(y_test, nm_cv_score)\n",
    "nm_cv_auc = auc(nm_cv_fpr, nm_cv_tpr)\n",
    "print('Near Miss Test AUC: {}'.format(nm_cv_auc))"
   ]
  },
  {
   "cell_type": "markdown",
   "metadata": {},
   "source": [
    "## Visualize F1, ROC AUC iterative performance"
   ]
  },
  {
   "cell_type": "code",
   "execution_count": 67,
   "metadata": {},
   "outputs": [],
   "source": [
    "f1_dict = {\n",
    "    'baseline':baseline_report.iloc[2,1],\n",
    "    'SMOTE':smote_report.iloc[2,1],\n",
    "    'Tomek Links':tomek_report.iloc[2,1],\n",
    "    'Near\\nMiss':nm_report.iloc[2,1],\n",
    "    'ENN':enn_report.iloc[2,1],\n",
    "    'SMOTETomek':smotek_report.iloc[2,1],\n",
    "    'SMOTENN':SMOTENN_report.iloc[2,1],\n",
    "    'SMOTENN\\nTest':SMOTENN_CV_report.iloc[2,1],\n",
    "    'SMOTE CV\\nTest':SMOTE_CV_report.iloc[2,1],\n",
    "    'Near Miss\\nTest':nm_test_report.iloc[2,1]\n",
    "}\n",
    "f1_dict = dict(sorted(f1_dict.items(), key=lambda item: item[1],reverse=True))"
   ]
  },
  {
   "cell_type": "code",
   "execution_count": 68,
   "metadata": {},
   "outputs": [
    {
     "data": {
      "image/png": "[encoded data removed]",
      "text/plain": [
       "<Figure size 864x432 with 1 Axes>"
      ]
     },
     "metadata": {},
     "output_type": "display_data"
    }
   ],
   "source": [
    "plt.figure(figsize=(12,6))\n",
    "plt.bar(x=f1_dict.keys(),height=f1_dict.values(),color='lightblue')\n",
    "plt.ylabel('F1 Score',fontsize=14)\n",
    "plt.xlabel('Resample Method',fontsize=14)\n",
    "plt.xticks(fontsize=12)\n",
    "plt.title(\"F1 Score by Resample Strategy\",fontsize=18)\n",
    "plt.show()"
   ]
  },
  {
   "cell_type": "code",
   "execution_count": 61,
   "metadata": {},
   "outputs": [
    {
     "data": {
      "text/plain": [
       "0.9139823487442532"
      ]
     },
     "execution_count": 61,
     "metadata": {},
     "output_type": "execute_result"
    }
   ],
   "source": [
    "roc_auc_scores = [\n",
    "    baseline_auc,\n",
    "    smote_auc,\n",
    "    tl_auc,\n",
    "    nm_auc,\n",
    "    enn_auc,\n",
    "    smotek_auc,\n",
    "    smotenn_auc,\n",
    "    smotenn_cv_auc,\n",
    "    smote_cv_auc,\n",
    "    nm_cv_auc\n",
    "]\n",
    "np.mean(roc_auc_scores)"
   ]
  },
  {
   "cell_type": "markdown",
   "metadata": {},
   "source": [
    "#### plot ROC AUC curves"
   ]
  },
  {
   "cell_type": "code",
   "execution_count": 62,
   "metadata": {},
   "outputs": [
    {
     "name": "stdout",
     "output_type": "stream",
     "text": [
      "Baseline Model AUC: 0.9471699866930965\n",
      "SMOTE resample AUC: 0.9501178971660749\n",
      "Tomek Links AUC: 0.9439161672152295\n",
      "Near Miss AUC: 0.9492465604949281\n",
      "Edited Nearest Neighbors AUC: 0.7846937445781219\n",
      "SMOTETomek AUC: 0.9500785179113276\n",
      "SMOTEENN AUC: 0.9727681543695383\n"
     ]
    },
    {
     "data": {
      "image/png": "[encoded data removed]",
      "text/plain": [
       "<Figure size 720x576 with 1 Axes>"
      ]
     },
     "metadata": {},
     "output_type": "display_data"
    }
   ],
   "source": [
    "plt.figure(figsize=(10,8))\n",
    "lw = 2\n",
    "\n",
    "print('Baseline Model AUC: {}'.format(baseline_auc))\n",
    "print('SMOTE resample AUC: {}'.format(smote_auc))\n",
    "\n",
    "plt.plot(train_fpr, train_tpr, color='darkorange',\n",
    "         lw=lw, label='Baseline model ROC curve')\n",
    "plt.plot(smote_fpr, smote_tpr, color='blue',\n",
    "         lw=lw, label='SMOTE ROC curve')\n",
    "\n",
    "\n",
    "print('Tomek Links AUC: {}'.format(tl_auc))\n",
    "print('Near Miss AUC: {}'.format(nm_auc))\n",
    "\n",
    "plt.plot(tl_fpr, tl_tpr, color='yellow',\n",
    "         lw=lw, label='Tomek Links ROC curve')\n",
    "plt.plot(nm_fpr, nm_tpr, color='gold',\n",
    "         lw=lw, label='Near Miss ROC curve')\n",
    "\n",
    "\n",
    "print('Edited Nearest Neighbors AUC: {}'.format(enn_auc))\n",
    "print('SMOTETomek AUC: {}'.format(smotek_auc))\n",
    "\n",
    "plt.plot(enn_fpr, enn_tpr, color='red',\n",
    "         lw=lw, label='Edited Nearest Neighbors ROC curve')\n",
    "plt.plot(smotek_fpr, smotek_tpr, color='purple',\n",
    "         lw=lw, label='SMOTETomek ROC curve')\n",
    "\n",
    "\n",
    "print('SMOTEENN AUC: {}'.format(smotenn_auc))\n",
    "plt.plot(smotenn_fpr, smotenn_tpr, color='darkblue',\n",
    "         lw=lw, label='SMOTEENN ROC curve')\n",
    "\n",
    "\n",
    "# Formatting\n",
    "plt.plot([0, 1], [0, 1], color='navy', lw=lw, linestyle='--')\n",
    "plt.xlim([0.0, 1.0])\n",
    "plt.ylim([0.0, 1.05])\n",
    "plt.yticks([i/20.0 for i in range(21)])\n",
    "plt.xticks([i/20.0 for i in range(21)])\n",
    "plt.xlabel('False Positive Rate',fontsize=14)\n",
    "plt.ylabel('True Positive Rate',fontsize=14)\n",
    "plt.title('Training ROC Curve by Resample Strategy',fontsize=18)\n",
    "plt.legend(loc=\"lower right\")\n",
    "plt.show()"
   ]
  },
  {
   "cell_type": "code",
   "execution_count": 70,
   "metadata": {},
   "outputs": [
    {
     "data": {
      "image/png": "[encoded data removed]",
      "text/plain": [
       "<Figure size 720x576 with 1 Axes>"
      ]
     },
     "metadata": {},
     "output_type": "display_data"
    }
   ],
   "source": [
    "plt.figure(figsize=(10,8))\n",
    "lw = 2\n",
    "\n",
    "plt.plot(smotenn_cv_fpr, smotenn_cv_tpr, color='lightgreen',\n",
    "         lw=lw, label=f'SMOTENN Test AUC: {round(smotenn_cv_auc,3)}')\n",
    "plt.plot(smotenn_fpr,smotenn_tpr,color='green',\n",
    "         lw=lw, label=f'SMOTENN Train AUC: {round(smotenn_auc,3)}')\n",
    "\n",
    "plt.plot(smote_cv_fpr, smote_cv_tpr, color='yellow',\n",
    "         lw=lw, label=f'SMOTE Test AUC: {round(smote_cv_auc,3)}')\n",
    "plt.plot(smote_fpr,smote_tpr,color='orange',\n",
    "         lw=lw, label=f'SMOTE Train AUC: {round(smote_auc,3)}')\n",
    "\n",
    "plt.plot(nm_fpr, nm_tpr, color='blue',\n",
    "         lw=lw, label=f'Near Miss Train AUC: {round(nm_auc,3)}')\n",
    "plt.plot(nm_cv_fpr, nm_cv_tpr, color='lightblue',\n",
    "         lw=lw, label=f'Near Miss Test AUC: {round(nm_cv_auc,3)}')\n",
    "\n",
    "# Formatting\n",
    "plt.plot([0, 1], [0, 1], color='navy', lw=lw, linestyle='--')\n",
    "plt.xlim([0.0, 1.0])\n",
    "plt.ylim([0.0, 1.05])\n",
    "plt.yticks([i/20.0 for i in range(21)])\n",
    "plt.xticks([i/20.0 for i in range(21)])\n",
    "plt.xlabel('False Positive Rate',fontsize=14)\n",
    "plt.ylabel('True Positive Rate',fontsize=14)\n",
    "plt.title('ROC Curve Train vs Test\\nby Resample Strategy',fontsize=18)\n",
    "plt.legend(loc=\"lower right\")\n",
    "plt.show()"
   ]
  },
  {
   "cell_type": "markdown",
   "metadata": {},
   "source": [
    "## Final Observations"
   ]
  },
  {
   "cell_type": "markdown",
   "metadata": {},
   "source": [
    "My initial analysis was that SMOTEENN was the strongest performer of all the resample strategies presented here. That is indeed true on the test data alone. Classic SMOTE the second strongest performer on the training data, and performs on the test data *nearly* as well as SMOTEENN, in fact their ROC AUC scores are exactly the same. The difference in F1-score between SMOTE and SMOTEENN is only about 0.04. However the difference in F1 score between train and test for SMOTEENN is 0.26, while the difference for SMOTE is only about 0.18 (see cells below). In other words, in terms of F1-score, SMOTE performs about 8% better than SMOTEENN. The difference is not massive but enough to reconsider SMOTE in lieu of SMOTEENN as the resample strategy to be used moving forward.\n",
    "\n",
    "In the next development notebook I will use the preprocessing from EDA, and the SMOTE resampling method found here to train and optimize via gridsearching a decision tree and/or random forest. To use as my final model."
   ]
  },
  {
   "cell_type": "code",
   "execution_count": 78,
   "metadata": {},
   "outputs": [
    {
     "data": {
      "text/plain": [
       "0.035384001257912745"
      ]
     },
     "execution_count": 78,
     "metadata": {},
     "output_type": "execute_result"
    }
   ],
   "source": [
    "# difference in F1 for classic SMOTE and SMOTEENN\n",
    "SMOTE_CV_report.iloc[2,1] - SMOTENN_CV_report.iloc[2,1]"
   ]
  },
  {
   "cell_type": "code",
   "execution_count": 81,
   "metadata": {},
   "outputs": [
    {
     "data": {
      "text/plain": [
       "0.25803582113253065"
      ]
     },
     "execution_count": 81,
     "metadata": {},
     "output_type": "execute_result"
    }
   ],
   "source": [
    "# difference in F1 for classic SMOTE train vs test\n",
    "SMOTENN_report.iloc[2,1] - SMOTENN_CV_report.iloc[2,1]"
   ]
  },
  {
   "cell_type": "code",
   "execution_count": 82,
   "metadata": {},
   "outputs": [
    {
     "data": {
      "text/plain": [
       "0.17835949357883185"
      ]
     },
     "execution_count": 82,
     "metadata": {},
     "output_type": "execute_result"
    }
   ],
   "source": [
    "# difference in F1 for classic SMOTE train vs test\n",
    "smote_report.iloc[2,1] - SMOTE_CV_report.iloc[2,1]"
   ]
  },
  {
   "cell_type": "code",
   "execution_count": null,
   "metadata": {},
   "outputs": [],
   "source": []
  }
 ],
 "metadata": {
  "kernelspec": {
   "display_name": "Python 3.8.5 ('learn-env')",
   "language": "python",
   "name": "python3"
  },
  "language_info": {
   "codemirror_mode": {
    "name": "ipython",
    "version": 3
   },
   "file_extension": ".py",
   "mimetype": "text/x-python",
   "name": "python",
   "nbconvert_exporter": "python",
   "pygments_lexer": "ipython3",
   "version": "3.8.5"
  },
  "orig_nbformat": 4,
  "vscode": {
   "interpreter": {
    "hash": "8eb6b2671ae257969e1e6d572d1bfd2dc1c23f390a7081d26c146f9b82ef978d"
   }
  }
 },
 "nbformat": 4,
 "nbformat_minor": 2
}
