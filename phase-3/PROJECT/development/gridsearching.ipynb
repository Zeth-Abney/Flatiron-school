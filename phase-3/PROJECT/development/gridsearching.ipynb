{
 "cells": [
  {
   "cell_type": "markdown",
   "metadata": {},
   "source": [
    "# Gridsearching a Decision Tree & Random Forest, to find best hyperparameter values"
   ]
  },
  {
   "cell_type": "markdown",
   "metadata": {},
   "source": [
    "## Import dependencies, load data"
   ]
  },
  {
   "cell_type": "code",
   "execution_count": 47,
   "metadata": {},
   "outputs": [],
   "source": [
    "from preprocessor import data_cleaner, data_sampler\n",
    "from sklearn.metrics import classification_report\n",
    "from sklearn.model_selection import cross_val_score,GridSearchCV\n",
    "\n",
    "from sklearn.metrics import plot_roc_curve, plot_confusion_matrix, roc_curve,auc, confusion_matrix\n",
    "\n",
    "from sklearn.ensemble import BaggingClassifier, RandomForestClassifier\n",
    "\n",
    "import pandas as pd\n",
    "import numpy as np\n",
    "\n",
    "import seaborn as sns\n",
    "import matplotlib.pyplot as plt\n",
    "%matplotlib inline\n",
    "\n",
    "sns.set_style('darkgrid', {'axes.facecolor': '0.9'})\n"
   ]
  },
  {
   "cell_type": "code",
   "execution_count": 8,
   "metadata": {},
   "outputs": [],
   "source": [
    "X_train, y_train = data_cleaner(\"../data/train.csv.zip\")\n",
    "X_test, y_test = data_cleaner(\"../data/test.csv.zip\")\n",
    "X_train, y_train = data_sampler(X_train,y_train)"
   ]
  },
  {
   "cell_type": "markdown",
   "metadata": {},
   "source": [
    "## Decision Tree"
   ]
  },
  {
   "cell_type": "code",
   "execution_count": 9,
   "metadata": {},
   "outputs": [],
   "source": [
    "from sklearn.tree import DecisionTreeClassifier, plot_tree"
   ]
  },
  {
   "cell_type": "markdown",
   "metadata": {},
   "source": [
    "### First gridsearch\n",
    "My best guess at a range of values to test"
   ]
  },
  {
   "cell_type": "code",
   "execution_count": 10,
   "metadata": {},
   "outputs": [
    {
     "data": {
      "text/html": [
       "<div>\n",
       "<style scoped>\n",
       "    .dataframe tbody tr th:only-of-type {\n",
       "        vertical-align: middle;\n",
       "    }\n",
       "\n",
       "    .dataframe tbody tr th {\n",
       "        vertical-align: top;\n",
       "    }\n",
       "\n",
       "    .dataframe thead th {\n",
       "        text-align: right;\n",
       "    }\n",
       "</style>\n",
       "<table border=\"1\" class=\"dataframe\">\n",
       "  <thead>\n",
       "    <tr style=\"text-align: right;\">\n",
       "      <th></th>\n",
       "      <th>0</th>\n",
       "      <th>1</th>\n",
       "      <th>accuracy</th>\n",
       "    </tr>\n",
       "  </thead>\n",
       "  <tbody>\n",
       "    <tr>\n",
       "      <th>precision</th>\n",
       "      <td>0.988995</td>\n",
       "      <td>0.692645</td>\n",
       "      <td>0.913459</td>\n",
       "    </tr>\n",
       "    <tr>\n",
       "      <th>recall</th>\n",
       "      <td>0.903905</td>\n",
       "      <td>0.955616</td>\n",
       "      <td>0.913459</td>\n",
       "    </tr>\n",
       "    <tr>\n",
       "      <th>f1-score</th>\n",
       "      <td>0.944538</td>\n",
       "      <td>0.803152</td>\n",
       "      <td>0.913459</td>\n",
       "    </tr>\n",
       "    <tr>\n",
       "      <th>support</th>\n",
       "      <td>21177.000000</td>\n",
       "      <td>4799.000000</td>\n",
       "      <td>0.913459</td>\n",
       "    </tr>\n",
       "  </tbody>\n",
       "</table>\n",
       "</div>"
      ],
      "text/plain": [
       "                      0            1  accuracy\n",
       "precision      0.988995     0.692645  0.913459\n",
       "recall         0.903905     0.955616  0.913459\n",
       "f1-score       0.944538     0.803152  0.913459\n",
       "support    21177.000000  4799.000000  0.913459"
      ]
     },
     "execution_count": 10,
     "metadata": {},
     "output_type": "execute_result"
    }
   ],
   "source": [
    "dtc_grid = DecisionTreeClassifier()\n",
    "\n",
    "# define parameter grid to search\n",
    "grid = [\n",
    "    {'criterion': ['gini', 'entropy', 'log_loss'], \n",
    "    'splitter': ['best','random'], \n",
    "    'max_depth': [2,5,10],\n",
    "    'min_samples_split':[2,5,10],\n",
    "    'min_samples_leaf':[1,5,10],\n",
    "    'max_features':[None,'auto'],\n",
    "    'max_leaf_nodes':[10,50,100]}\n",
    "]\n",
    "\n",
    "gridsearch = GridSearchCV(estimator=dtc_grid,param_grid=grid,scoring='f1',cv=5,n_jobs=3)\n",
    "gridsearch.fit(X_train,y_train)\n",
    "\n",
    "grid_pred = gridsearch.predict(X_test)\n",
    "grid_report = classification_report(y_test,grid_pred,output_dict=True)\n",
    "grid_report = pd.DataFrame(grid_report).iloc[:,0:3]\n",
    "grid_report"
   ]
  },
  {
   "cell_type": "code",
   "execution_count": 11,
   "metadata": {},
   "outputs": [
    {
     "data": {
      "text/plain": [
       "{'criterion': 'gini',\n",
       " 'max_depth': 10,\n",
       " 'max_features': None,\n",
       " 'max_leaf_nodes': 100,\n",
       " 'min_samples_leaf': 10,\n",
       " 'min_samples_split': 5,\n",
       " 'splitter': 'best'}"
      ]
     },
     "execution_count": 11,
     "metadata": {},
     "output_type": "execute_result"
    }
   ],
   "source": [
    "gridsearch.best_params_"
   ]
  },
  {
   "cell_type": "markdown",
   "metadata": {},
   "source": [
    "### second gridsearch\n",
    "The values with the greatest magnitude were chosen for Max_depth, max_features,max_leaf_nodes,min_samples_leaf.\n",
    "So the next gridsearch will include these chosen values as the low end of the range that is being searched. "
   ]
  },
  {
   "cell_type": "code",
   "execution_count": 12,
   "metadata": {},
   "outputs": [
    {
     "data": {
      "text/plain": [
       "GridSearchCV(cv=5, estimator=DecisionTreeClassifier(), n_jobs=3,\n",
       "             param_grid=[{'criterion': ['gini'], 'max_depth': [10, 25, 50],\n",
       "                          'max_features': ['log2', 10, 20],\n",
       "                          'max_leaf_nodes': [100, 150, 200],\n",
       "                          'min_samples_leaf': [10, 25, 50],\n",
       "                          'min_samples_split': [2], 'splitter': ['best']}],\n",
       "             scoring='f1')"
      ]
     },
     "execution_count": 12,
     "metadata": {},
     "output_type": "execute_result"
    }
   ],
   "source": [
    "grid_two = [\n",
    "    {'criterion': ['gini'],\n",
    "    'max_depth': [10,25,50],\n",
    "    'max_features': ['log2',10,20],\n",
    "    'max_leaf_nodes': [100,150,200],\n",
    "    'min_samples_leaf': [10,25,50],\n",
    "    'min_samples_split': [2],\n",
    "    'splitter': ['best']}\n",
    "]\n",
    "\n",
    "gridsearch_two = GridSearchCV(estimator=dtc_grid,param_grid=grid_two,scoring='f1',cv=5,n_jobs=3)\n",
    "gridsearch_two.fit(X_train,y_train)\n"
   ]
  },
  {
   "cell_type": "code",
   "execution_count": 13,
   "metadata": {},
   "outputs": [
    {
     "data": {
      "text/html": [
       "<div>\n",
       "<style scoped>\n",
       "    .dataframe tbody tr th:only-of-type {\n",
       "        vertical-align: middle;\n",
       "    }\n",
       "\n",
       "    .dataframe tbody tr th {\n",
       "        vertical-align: top;\n",
       "    }\n",
       "\n",
       "    .dataframe thead th {\n",
       "        text-align: right;\n",
       "    }\n",
       "</style>\n",
       "<table border=\"1\" class=\"dataframe\">\n",
       "  <thead>\n",
       "    <tr style=\"text-align: right;\">\n",
       "      <th></th>\n",
       "      <th>0</th>\n",
       "      <th>1</th>\n",
       "      <th>accuracy</th>\n",
       "    </tr>\n",
       "  </thead>\n",
       "  <tbody>\n",
       "    <tr>\n",
       "      <th>precision</th>\n",
       "      <td>0.989466</td>\n",
       "      <td>0.725893</td>\n",
       "      <td>0.925277</td>\n",
       "    </tr>\n",
       "    <tr>\n",
       "      <th>recall</th>\n",
       "      <td>0.918119</td>\n",
       "      <td>0.956866</td>\n",
       "      <td>0.925277</td>\n",
       "    </tr>\n",
       "    <tr>\n",
       "      <th>f1-score</th>\n",
       "      <td>0.952458</td>\n",
       "      <td>0.825528</td>\n",
       "      <td>0.925277</td>\n",
       "    </tr>\n",
       "    <tr>\n",
       "      <th>support</th>\n",
       "      <td>21177.000000</td>\n",
       "      <td>4799.000000</td>\n",
       "      <td>0.925277</td>\n",
       "    </tr>\n",
       "  </tbody>\n",
       "</table>\n",
       "</div>"
      ],
      "text/plain": [
       "                      0            1  accuracy\n",
       "precision      0.989466     0.725893  0.925277\n",
       "recall         0.918119     0.956866  0.925277\n",
       "f1-score       0.952458     0.825528  0.925277\n",
       "support    21177.000000  4799.000000  0.925277"
      ]
     },
     "execution_count": 13,
     "metadata": {},
     "output_type": "execute_result"
    }
   ],
   "source": [
    "\n",
    "grid_two_pred = gridsearch_two.predict(X_test)\n",
    "grid_two_report = classification_report(y_test,grid_two_pred,output_dict=True)\n",
    "grid_two_report = pd.DataFrame(grid_two_report).iloc[:,0:3]\n",
    "grid_two_report"
   ]
  },
  {
   "cell_type": "code",
   "execution_count": 14,
   "metadata": {},
   "outputs": [
    {
     "data": {
      "text/plain": [
       "{'criterion': 'gini',\n",
       " 'max_depth': 50,\n",
       " 'max_features': 20,\n",
       " 'max_leaf_nodes': 200,\n",
       " 'min_samples_leaf': 10,\n",
       " 'min_samples_split': 2,\n",
       " 'splitter': 'best'}"
      ]
     },
     "execution_count": 14,
     "metadata": {},
     "output_type": "execute_result"
    }
   ],
   "source": [
    "gridsearch_two.best_params_"
   ]
  },
  {
   "cell_type": "markdown",
   "metadata": {},
   "source": [
    "### third gridsearch\n",
    "Max_depth, max_leaf_nodes, continue selecting the greatest value. Max_features is still unclear. "
   ]
  },
  {
   "cell_type": "code",
   "execution_count": 15,
   "metadata": {},
   "outputs": [
    {
     "data": {
      "text/html": [
       "<div>\n",
       "<style scoped>\n",
       "    .dataframe tbody tr th:only-of-type {\n",
       "        vertical-align: middle;\n",
       "    }\n",
       "\n",
       "    .dataframe tbody tr th {\n",
       "        vertical-align: top;\n",
       "    }\n",
       "\n",
       "    .dataframe thead th {\n",
       "        text-align: right;\n",
       "    }\n",
       "</style>\n",
       "<table border=\"1\" class=\"dataframe\">\n",
       "  <thead>\n",
       "    <tr style=\"text-align: right;\">\n",
       "      <th></th>\n",
       "      <th>0</th>\n",
       "      <th>1</th>\n",
       "      <th>accuracy</th>\n",
       "    </tr>\n",
       "  </thead>\n",
       "  <tbody>\n",
       "    <tr>\n",
       "      <th>precision</th>\n",
       "      <td>0.989434</td>\n",
       "      <td>0.776011</td>\n",
       "      <td>0.940868</td>\n",
       "    </tr>\n",
       "    <tr>\n",
       "      <th>recall</th>\n",
       "      <td>0.937479</td>\n",
       "      <td>0.955824</td>\n",
       "      <td>0.940868</td>\n",
       "    </tr>\n",
       "    <tr>\n",
       "      <th>f1-score</th>\n",
       "      <td>0.962756</td>\n",
       "      <td>0.856583</td>\n",
       "      <td>0.940868</td>\n",
       "    </tr>\n",
       "    <tr>\n",
       "      <th>support</th>\n",
       "      <td>21177.000000</td>\n",
       "      <td>4799.000000</td>\n",
       "      <td>0.940868</td>\n",
       "    </tr>\n",
       "  </tbody>\n",
       "</table>\n",
       "</div>"
      ],
      "text/plain": [
       "                      0            1  accuracy\n",
       "precision      0.989434     0.776011  0.940868\n",
       "recall         0.937479     0.955824  0.940868\n",
       "f1-score       0.962756     0.856583  0.940868\n",
       "support    21177.000000  4799.000000  0.940868"
      ]
     },
     "execution_count": 15,
     "metadata": {},
     "output_type": "execute_result"
    }
   ],
   "source": [
    "grid_three = [\n",
    "    {'criterion': ['gini'],\n",
    "    'max_depth': [50,100,200],\n",
    "    'max_features': [15,20,23],\n",
    "    'max_leaf_nodes': [200,300,500],\n",
    "    'min_samples_leaf': [10],\n",
    "    'min_samples_split': [2],\n",
    "    'splitter': ['best']}\n",
    "    ]\n",
    "\n",
    "gridsearch_three = GridSearchCV(estimator=dtc_grid,param_grid=grid_three,scoring='f1',cv=5,n_jobs=3)\n",
    "gridsearch_three.fit(X_train,y_train)\n",
    "\n",
    "grid_three_pred = gridsearch_three.predict(X_test)\n",
    "grid_three_report = classification_report(y_test,grid_three_pred,output_dict=True)\n",
    "grid_three_report = pd.DataFrame(grid_three_report).iloc[:,0:3]\n",
    "grid_three_report"
   ]
  },
  {
   "cell_type": "code",
   "execution_count": 16,
   "metadata": {},
   "outputs": [
    {
     "data": {
      "text/plain": [
       "{'criterion': 'gini',\n",
       " 'max_depth': 100,\n",
       " 'max_features': 20,\n",
       " 'max_leaf_nodes': 500,\n",
       " 'min_samples_leaf': 10,\n",
       " 'min_samples_split': 2,\n",
       " 'splitter': 'best'}"
      ]
     },
     "execution_count": 16,
     "metadata": {},
     "output_type": "execute_result"
    }
   ],
   "source": [
    "gridsearch_three.best_params_"
   ]
  },
  {
   "cell_type": "markdown",
   "metadata": {},
   "source": [
    "### fourth gridsearch\n",
    "Everything seems to be getting zeroed in on except for max_leaf_nodes."
   ]
  },
  {
   "cell_type": "code",
   "execution_count": 17,
   "metadata": {},
   "outputs": [
    {
     "data": {
      "text/html": [
       "<div>\n",
       "<style scoped>\n",
       "    .dataframe tbody tr th:only-of-type {\n",
       "        vertical-align: middle;\n",
       "    }\n",
       "\n",
       "    .dataframe tbody tr th {\n",
       "        vertical-align: top;\n",
       "    }\n",
       "\n",
       "    .dataframe thead th {\n",
       "        text-align: right;\n",
       "    }\n",
       "</style>\n",
       "<table border=\"1\" class=\"dataframe\">\n",
       "  <thead>\n",
       "    <tr style=\"text-align: right;\">\n",
       "      <th></th>\n",
       "      <th>0</th>\n",
       "      <th>1</th>\n",
       "      <th>accuracy</th>\n",
       "    </tr>\n",
       "  </thead>\n",
       "  <tbody>\n",
       "    <tr>\n",
       "      <th>precision</th>\n",
       "      <td>0.990187</td>\n",
       "      <td>0.766911</td>\n",
       "      <td>0.938597</td>\n",
       "    </tr>\n",
       "    <tr>\n",
       "      <th>recall</th>\n",
       "      <td>0.933938</td>\n",
       "      <td>0.959158</td>\n",
       "      <td>0.938597</td>\n",
       "    </tr>\n",
       "    <tr>\n",
       "      <th>f1-score</th>\n",
       "      <td>0.961240</td>\n",
       "      <td>0.852328</td>\n",
       "      <td>0.938597</td>\n",
       "    </tr>\n",
       "    <tr>\n",
       "      <th>support</th>\n",
       "      <td>21177.000000</td>\n",
       "      <td>4799.000000</td>\n",
       "      <td>0.938597</td>\n",
       "    </tr>\n",
       "  </tbody>\n",
       "</table>\n",
       "</div>"
      ],
      "text/plain": [
       "                      0            1  accuracy\n",
       "precision      0.990187     0.766911  0.938597\n",
       "recall         0.933938     0.959158  0.938597\n",
       "f1-score       0.961240     0.852328  0.938597\n",
       "support    21177.000000  4799.000000  0.938597"
      ]
     },
     "execution_count": 17,
     "metadata": {},
     "output_type": "execute_result"
    }
   ],
   "source": [
    "grid_four = [\n",
    "    {'criterion': ['gini'],\n",
    "    'max_depth': [75,100,125],\n",
    "    'max_features': [18,19,20],\n",
    "    'max_leaf_nodes': [500,750,1000],\n",
    "    'min_samples_leaf': [5,10,15],\n",
    "    'min_samples_split': [2],\n",
    "    'splitter': ['best']}\n",
    "    ]\n",
    "\n",
    "gridesearch_four = GridSearchCV(estimator=dtc_grid,param_grid=grid_four,scoring='f1',cv=5,n_jobs=3)\n",
    "gridesearch_four.fit(X_train,y_train)\n",
    "\n",
    "grid_four_pred = gridesearch_four.predict(X_test)\n",
    "grid_four_report = classification_report(y_test,grid_four_pred,output_dict=True)\n",
    "grid_four_report = pd.DataFrame(grid_four_report).iloc[:,0:3]\n",
    "grid_four_report"
   ]
  },
  {
   "cell_type": "code",
   "execution_count": 18,
   "metadata": {},
   "outputs": [
    {
     "data": {
      "text/plain": [
       "{'criterion': 'gini',\n",
       " 'max_depth': 100,\n",
       " 'max_features': 20,\n",
       " 'max_leaf_nodes': 750,\n",
       " 'min_samples_leaf': 5,\n",
       " 'min_samples_split': 2,\n",
       " 'splitter': 'best'}"
      ]
     },
     "execution_count": 18,
     "metadata": {},
     "output_type": "execute_result"
    }
   ],
   "source": [
    "gridesearch_four.best_params_"
   ]
  },
  {
   "cell_type": "markdown",
   "metadata": {},
   "source": [
    "### fifth gridsearch"
   ]
  },
  {
   "cell_type": "code",
   "execution_count": 19,
   "metadata": {},
   "outputs": [
    {
     "data": {
      "text/html": [
       "<div>\n",
       "<style scoped>\n",
       "    .dataframe tbody tr th:only-of-type {\n",
       "        vertical-align: middle;\n",
       "    }\n",
       "\n",
       "    .dataframe tbody tr th {\n",
       "        vertical-align: top;\n",
       "    }\n",
       "\n",
       "    .dataframe thead th {\n",
       "        text-align: right;\n",
       "    }\n",
       "</style>\n",
       "<table border=\"1\" class=\"dataframe\">\n",
       "  <thead>\n",
       "    <tr style=\"text-align: right;\">\n",
       "      <th></th>\n",
       "      <th>0</th>\n",
       "      <th>1</th>\n",
       "      <th>accuracy</th>\n",
       "    </tr>\n",
       "  </thead>\n",
       "  <tbody>\n",
       "    <tr>\n",
       "      <th>precision</th>\n",
       "      <td>0.990882</td>\n",
       "      <td>0.796239</td>\n",
       "      <td>0.947451</td>\n",
       "    </tr>\n",
       "    <tr>\n",
       "      <th>recall</th>\n",
       "      <td>0.944232</td>\n",
       "      <td>0.961659</td>\n",
       "      <td>0.947451</td>\n",
       "    </tr>\n",
       "    <tr>\n",
       "      <th>f1-score</th>\n",
       "      <td>0.966995</td>\n",
       "      <td>0.871166</td>\n",
       "      <td>0.947451</td>\n",
       "    </tr>\n",
       "    <tr>\n",
       "      <th>support</th>\n",
       "      <td>21177.000000</td>\n",
       "      <td>4799.000000</td>\n",
       "      <td>0.947451</td>\n",
       "    </tr>\n",
       "  </tbody>\n",
       "</table>\n",
       "</div>"
      ],
      "text/plain": [
       "                      0            1  accuracy\n",
       "precision      0.990882     0.796239  0.947451\n",
       "recall         0.944232     0.961659  0.947451\n",
       "f1-score       0.966995     0.871166  0.947451\n",
       "support    21177.000000  4799.000000  0.947451"
      ]
     },
     "execution_count": 19,
     "metadata": {},
     "output_type": "execute_result"
    }
   ],
   "source": [
    "grid_five = [\n",
    "    {'criterion': ['gini'],\n",
    "    'max_depth': [115,125,150,175],\n",
    "    'max_features': [19],\n",
    "    'max_leaf_nodes': [600,750,900],\n",
    "    'min_samples_leaf': [5],\n",
    "    'min_samples_split': [2],\n",
    "    'splitter': ['best']}\n",
    "    ]\n",
    "\n",
    "gridsearch_five = GridSearchCV(estimator=dtc_grid,param_grid=grid_five,scoring='f1',cv=5,n_jobs=3)\n",
    "gridsearch_five.fit(X_train,y_train)\n",
    "\n",
    "grid_five_pred = gridsearch_five.predict(X_test)\n",
    "grid_five_report = classification_report(y_test,grid_five_pred,output_dict=True)\n",
    "grid_five_report = pd.DataFrame(grid_five_report).iloc[:,0:3]\n",
    "grid_five_report"
   ]
  },
  {
   "cell_type": "code",
   "execution_count": 20,
   "metadata": {},
   "outputs": [
    {
     "data": {
      "text/plain": [
       "{'criterion': 'gini',\n",
       " 'max_depth': 150,\n",
       " 'max_features': 19,\n",
       " 'max_leaf_nodes': 600,\n",
       " 'min_samples_leaf': 5,\n",
       " 'min_samples_split': 2,\n",
       " 'splitter': 'best'}"
      ]
     },
     "execution_count": 20,
     "metadata": {},
     "output_type": "execute_result"
    }
   ],
   "source": [
    "gridsearch_five.best_params_"
   ]
  },
  {
   "cell_type": "markdown",
   "metadata": {},
   "source": [
    "### sixth gridsearch"
   ]
  },
  {
   "cell_type": "code",
   "execution_count": 21,
   "metadata": {},
   "outputs": [
    {
     "data": {
      "text/html": [
       "<div>\n",
       "<style scoped>\n",
       "    .dataframe tbody tr th:only-of-type {\n",
       "        vertical-align: middle;\n",
       "    }\n",
       "\n",
       "    .dataframe tbody tr th {\n",
       "        vertical-align: top;\n",
       "    }\n",
       "\n",
       "    .dataframe thead th {\n",
       "        text-align: right;\n",
       "    }\n",
       "</style>\n",
       "<table border=\"1\" class=\"dataframe\">\n",
       "  <thead>\n",
       "    <tr style=\"text-align: right;\">\n",
       "      <th></th>\n",
       "      <th>0</th>\n",
       "      <th>1</th>\n",
       "      <th>accuracy</th>\n",
       "    </tr>\n",
       "  </thead>\n",
       "  <tbody>\n",
       "    <tr>\n",
       "      <th>precision</th>\n",
       "      <td>0.990262</td>\n",
       "      <td>0.760654</td>\n",
       "      <td>0.936749</td>\n",
       "    </tr>\n",
       "    <tr>\n",
       "      <th>recall</th>\n",
       "      <td>0.931577</td>\n",
       "      <td>0.959575</td>\n",
       "      <td>0.936749</td>\n",
       "    </tr>\n",
       "    <tr>\n",
       "      <th>f1-score</th>\n",
       "      <td>0.960023</td>\n",
       "      <td>0.848613</td>\n",
       "      <td>0.936749</td>\n",
       "    </tr>\n",
       "    <tr>\n",
       "      <th>support</th>\n",
       "      <td>21177.000000</td>\n",
       "      <td>4799.000000</td>\n",
       "      <td>0.936749</td>\n",
       "    </tr>\n",
       "  </tbody>\n",
       "</table>\n",
       "</div>"
      ],
      "text/plain": [
       "                      0            1  accuracy\n",
       "precision      0.990262     0.760654  0.936749\n",
       "recall         0.931577     0.959575  0.936749\n",
       "f1-score       0.960023     0.848613  0.936749\n",
       "support    21177.000000  4799.000000  0.936749"
      ]
     },
     "execution_count": 21,
     "metadata": {},
     "output_type": "execute_result"
    }
   ],
   "source": [
    "grid_six = [\n",
    "    {'criterion': ['gini'],\n",
    "    'max_depth': [125,135,150],\n",
    "    'max_features': [19],\n",
    "    'max_leaf_nodes': [550,600,650],\n",
    "    'min_samples_leaf': [5],\n",
    "    'min_samples_split': [2],\n",
    "    'splitter': ['best']}\n",
    "    ]\n",
    "\n",
    "gridsearch_six = GridSearchCV(estimator=dtc_grid,param_grid=grid_six,scoring='f1',cv=5,n_jobs=3)\n",
    "gridsearch_six.fit(X_train,y_train)\n",
    "\n",
    "grid_six_pred = gridsearch_six.predict(X_test)\n",
    "grid_six_report = classification_report(y_test,grid_six_pred,output_dict=True)\n",
    "grid_six_report = pd.DataFrame(grid_six_report).iloc[:,0:3]\n",
    "grid_six_report"
   ]
  },
  {
   "cell_type": "markdown",
   "metadata": {},
   "source": [
    "### Observations:\n",
    "F1, precision, and recall performance continue to decrease after the fourth gridsearch. So, the the best_params_ of gridsearch_four will be used as a start point to gridsearch a random forest and bagging tree. \n",
    "\n",
    "Gridsearch_four.best_params_ returns the following dict:  \n",
    "{'criterion': 'gini',  \n",
    " 'max_depth': 125,  \n",
    " 'max_features': 19,  \n",
    " 'max_leaf_nodes': 750,  \n",
    " 'min_samples_leaf': 5,  \n",
    " 'min_samples_split': 2,  \n",
    " 'splitter': 'best'}  "
   ]
  },
  {
   "cell_type": "code",
   "execution_count": 22,
   "metadata": {},
   "outputs": [
    {
     "data": {
      "image/png": "[encoded data removed]",
      "text/plain": [
       "<Figure size 432x288 with 1 Axes>"
      ]
     },
     "metadata": {},
     "output_type": "display_data"
    }
   ],
   "source": [
    "plot_roc_curve(gridesearch_four,X_test,y_test)\n",
    "plt.show()"
   ]
  },
  {
   "cell_type": "code",
   "execution_count": 23,
   "metadata": {},
   "outputs": [
    {
     "data": {
      "image/png": "[encoded data removed]",
      "text/plain": [
       "<Figure size 432x288 with 2 Axes>"
      ]
     },
     "metadata": {},
     "output_type": "display_data"
    }
   ],
   "source": [
    "plot_confusion_matrix(gridesearch_four,X_test,y_test,normalize='true')\n",
    "plt.show()"
   ]
  },
  {
   "cell_type": "markdown",
   "metadata": {},
   "source": [
    "## BaggingClassifier"
   ]
  },
  {
   "cell_type": "markdown",
   "metadata": {},
   "source": [
    "### baseline model (default bagging parameters)"
   ]
  },
  {
   "cell_type": "code",
   "execution_count": 24,
   "metadata": {},
   "outputs": [
    {
     "data": {
      "text/html": [
       "<div>\n",
       "<style scoped>\n",
       "    .dataframe tbody tr th:only-of-type {\n",
       "        vertical-align: middle;\n",
       "    }\n",
       "\n",
       "    .dataframe tbody tr th {\n",
       "        vertical-align: top;\n",
       "    }\n",
       "\n",
       "    .dataframe thead th {\n",
       "        text-align: right;\n",
       "    }\n",
       "</style>\n",
       "<table border=\"1\" class=\"dataframe\">\n",
       "  <thead>\n",
       "    <tr style=\"text-align: right;\">\n",
       "      <th></th>\n",
       "      <th>0</th>\n",
       "      <th>1</th>\n",
       "      <th>accuracy</th>\n",
       "    </tr>\n",
       "  </thead>\n",
       "  <tbody>\n",
       "    <tr>\n",
       "      <th>precision</th>\n",
       "      <td>0.992942</td>\n",
       "      <td>0.794981</td>\n",
       "      <td>0.948298</td>\n",
       "    </tr>\n",
       "    <tr>\n",
       "      <th>recall</th>\n",
       "      <td>0.943288</td>\n",
       "      <td>0.970411</td>\n",
       "      <td>0.948298</td>\n",
       "    </tr>\n",
       "    <tr>\n",
       "      <th>f1-score</th>\n",
       "      <td>0.967478</td>\n",
       "      <td>0.873980</td>\n",
       "      <td>0.948298</td>\n",
       "    </tr>\n",
       "    <tr>\n",
       "      <th>support</th>\n",
       "      <td>21177.000000</td>\n",
       "      <td>4799.000000</td>\n",
       "      <td>0.948298</td>\n",
       "    </tr>\n",
       "  </tbody>\n",
       "</table>\n",
       "</div>"
      ],
      "text/plain": [
       "                      0            1  accuracy\n",
       "precision      0.992942     0.794981  0.948298\n",
       "recall         0.943288     0.970411  0.948298\n",
       "f1-score       0.967478     0.873980  0.948298\n",
       "support    21177.000000  4799.000000  0.948298"
      ]
     },
     "execution_count": 24,
     "metadata": {},
     "output_type": "execute_result"
    }
   ],
   "source": [
    "bagging_tree = DecisionTreeClassifier(criterion='gini',\n",
    "                                        max_depth=125,\n",
    "                                        max_features=19,\n",
    "                                        max_leaf_nodes=750,\n",
    "                                        min_samples_leaf=5,\n",
    "                                        min_samples_split=2,\n",
    "                                        splitter='best')\n",
    "                                        \n",
    "tree_bagger = BaggingClassifier(base_estimator=bagging_tree)\n",
    "tree_bagger.fit(X_train,y_train)\n",
    "tree_bagger_pred = tree_bagger.predict(X_test)\n",
    "tree_bagger_report = classification_report(y_test,tree_bagger_pred,output_dict=True)\n",
    "tree_bagger_report = pd.DataFrame(tree_bagger_report).iloc[:,0:3]\n",
    "tree_bagger_report\n"
   ]
  },
  {
   "cell_type": "markdown",
   "metadata": {},
   "source": [
    "### Gridsearch bagging classifier"
   ]
  },
  {
   "cell_type": "markdown",
   "metadata": {},
   "source": [
    "#### First gridsearch"
   ]
  },
  {
   "cell_type": "code",
   "execution_count": 25,
   "metadata": {},
   "outputs": [
    {
     "data": {
      "text/html": [
       "<div>\n",
       "<style scoped>\n",
       "    .dataframe tbody tr th:only-of-type {\n",
       "        vertical-align: middle;\n",
       "    }\n",
       "\n",
       "    .dataframe tbody tr th {\n",
       "        vertical-align: top;\n",
       "    }\n",
       "\n",
       "    .dataframe thead th {\n",
       "        text-align: right;\n",
       "    }\n",
       "</style>\n",
       "<table border=\"1\" class=\"dataframe\">\n",
       "  <thead>\n",
       "    <tr style=\"text-align: right;\">\n",
       "      <th></th>\n",
       "      <th>0</th>\n",
       "      <th>1</th>\n",
       "      <th>accuracy</th>\n",
       "    </tr>\n",
       "  </thead>\n",
       "  <tbody>\n",
       "    <tr>\n",
       "      <th>precision</th>\n",
       "      <td>0.993654</td>\n",
       "      <td>0.783498</td>\n",
       "      <td>0.945411</td>\n",
       "    </tr>\n",
       "    <tr>\n",
       "      <th>recall</th>\n",
       "      <td>0.939038</td>\n",
       "      <td>0.973536</td>\n",
       "      <td>0.945411</td>\n",
       "    </tr>\n",
       "    <tr>\n",
       "      <th>f1-score</th>\n",
       "      <td>0.965574</td>\n",
       "      <td>0.868240</td>\n",
       "      <td>0.945411</td>\n",
       "    </tr>\n",
       "    <tr>\n",
       "      <th>support</th>\n",
       "      <td>21177.000000</td>\n",
       "      <td>4799.000000</td>\n",
       "      <td>0.945411</td>\n",
       "    </tr>\n",
       "  </tbody>\n",
       "</table>\n",
       "</div>"
      ],
      "text/plain": [
       "                      0            1  accuracy\n",
       "precision      0.993654     0.783498  0.945411\n",
       "recall         0.939038     0.973536  0.945411\n",
       "f1-score       0.965574     0.868240  0.945411\n",
       "support    21177.000000  4799.000000  0.945411"
      ]
     },
     "execution_count": 25,
     "metadata": {},
     "output_type": "execute_result"
    }
   ],
   "source": [
    "from sklearn.ensemble import BaggingClassifier\n",
    "\n",
    "bagging_tree = DecisionTreeClassifier(criterion='gini',\n",
    "                                        max_depth=125,\n",
    "                                        max_features=19,\n",
    "                                        max_leaf_nodes=750,\n",
    "                                        min_samples_leaf=5,\n",
    "                                        min_samples_split=2,\n",
    "                                        splitter='best')\n",
    "\n",
    "tree_bagger = BaggingClassifier()\n",
    "\n",
    "bag_grid = [{\n",
    "    'base_estimator':[bagging_tree], \n",
    "    'n_estimators':[5,10,15,20], \n",
    "    'max_samples':[1.0,3.0,5.0], \n",
    "    'max_features':[1.0,5.0,10.0],\n",
    "    'bootstrap':[True,False],\n",
    "    'bootstrap_features':[True,False], \n",
    "    'n_jobs':[3]\n",
    "}]\n",
    "\n",
    "bagged_grid = GridSearchCV(estimator=tree_bagger,param_grid=bag_grid,scoring='f1',n_jobs=3)\n",
    "bagged_grid.fit(X_train,y_train)\n",
    "bagged_grid_pred = bagged_grid.predict(X_test)\n",
    "bagged_grid_report = classification_report(y_test,bagged_grid_pred,output_dict=True)\n",
    "bagged_grid_report = pd.DataFrame(bagged_grid_report).iloc[:,0:3]\n",
    "bagged_grid_report\n"
   ]
  },
  {
   "cell_type": "code",
   "execution_count": 26,
   "metadata": {},
   "outputs": [
    {
     "data": {
      "text/html": [
       "<div>\n",
       "<style scoped>\n",
       "    .dataframe tbody tr th:only-of-type {\n",
       "        vertical-align: middle;\n",
       "    }\n",
       "\n",
       "    .dataframe tbody tr th {\n",
       "        vertical-align: top;\n",
       "    }\n",
       "\n",
       "    .dataframe thead th {\n",
       "        text-align: right;\n",
       "    }\n",
       "</style>\n",
       "<table border=\"1\" class=\"dataframe\">\n",
       "  <thead>\n",
       "    <tr style=\"text-align: right;\">\n",
       "      <th></th>\n",
       "      <th>0</th>\n",
       "      <th>1</th>\n",
       "      <th>accuracy</th>\n",
       "    </tr>\n",
       "  </thead>\n",
       "  <tbody>\n",
       "    <tr>\n",
       "      <th>precision</th>\n",
       "      <td>0.993654</td>\n",
       "      <td>0.783498</td>\n",
       "      <td>0.945411</td>\n",
       "    </tr>\n",
       "    <tr>\n",
       "      <th>recall</th>\n",
       "      <td>0.939038</td>\n",
       "      <td>0.973536</td>\n",
       "      <td>0.945411</td>\n",
       "    </tr>\n",
       "    <tr>\n",
       "      <th>f1-score</th>\n",
       "      <td>0.965574</td>\n",
       "      <td>0.868240</td>\n",
       "      <td>0.945411</td>\n",
       "    </tr>\n",
       "    <tr>\n",
       "      <th>support</th>\n",
       "      <td>21177.000000</td>\n",
       "      <td>4799.000000</td>\n",
       "      <td>0.945411</td>\n",
       "    </tr>\n",
       "  </tbody>\n",
       "</table>\n",
       "</div>"
      ],
      "text/plain": [
       "                      0            1  accuracy\n",
       "precision      0.993654     0.783498  0.945411\n",
       "recall         0.939038     0.973536  0.945411\n",
       "f1-score       0.965574     0.868240  0.945411\n",
       "support    21177.000000  4799.000000  0.945411"
      ]
     },
     "execution_count": 26,
     "metadata": {},
     "output_type": "execute_result"
    }
   ],
   "source": [
    "bagged_grid_report"
   ]
  },
  {
   "cell_type": "code",
   "execution_count": 27,
   "metadata": {},
   "outputs": [
    {
     "data": {
      "text/plain": [
       "{'base_estimator': DecisionTreeClassifier(max_depth=125, max_features=19, max_leaf_nodes=750,\n",
       "                        min_samples_leaf=5),\n",
       " 'bootstrap': False,\n",
       " 'bootstrap_features': True,\n",
       " 'max_features': 1.0,\n",
       " 'max_samples': 1.0,\n",
       " 'n_estimators': 20,\n",
       " 'n_jobs': 3}"
      ]
     },
     "execution_count": 27,
     "metadata": {},
     "output_type": "execute_result"
    }
   ],
   "source": [
    "bagged_grid.best_params_"
   ]
  },
  {
   "cell_type": "markdown",
   "metadata": {},
   "source": [
    "#### Second gridsearch \n",
    "-searching only n_estimators"
   ]
  },
  {
   "cell_type": "code",
   "execution_count": 28,
   "metadata": {},
   "outputs": [
    {
     "data": {
      "text/html": [
       "<div>\n",
       "<style scoped>\n",
       "    .dataframe tbody tr th:only-of-type {\n",
       "        vertical-align: middle;\n",
       "    }\n",
       "\n",
       "    .dataframe tbody tr th {\n",
       "        vertical-align: top;\n",
       "    }\n",
       "\n",
       "    .dataframe thead th {\n",
       "        text-align: right;\n",
       "    }\n",
       "</style>\n",
       "<table border=\"1\" class=\"dataframe\">\n",
       "  <thead>\n",
       "    <tr style=\"text-align: right;\">\n",
       "      <th></th>\n",
       "      <th>0</th>\n",
       "      <th>1</th>\n",
       "      <th>accuracy</th>\n",
       "    </tr>\n",
       "  </thead>\n",
       "  <tbody>\n",
       "    <tr>\n",
       "      <th>precision</th>\n",
       "      <td>0.994374</td>\n",
       "      <td>0.795316</td>\n",
       "      <td>0.949222</td>\n",
       "    </tr>\n",
       "    <tr>\n",
       "      <th>recall</th>\n",
       "      <td>0.943051</td>\n",
       "      <td>0.976453</td>\n",
       "      <td>0.949222</td>\n",
       "    </tr>\n",
       "    <tr>\n",
       "      <th>f1-score</th>\n",
       "      <td>0.968033</td>\n",
       "      <td>0.876625</td>\n",
       "      <td>0.949222</td>\n",
       "    </tr>\n",
       "    <tr>\n",
       "      <th>support</th>\n",
       "      <td>21177.000000</td>\n",
       "      <td>4799.000000</td>\n",
       "      <td>0.949222</td>\n",
       "    </tr>\n",
       "  </tbody>\n",
       "</table>\n",
       "</div>"
      ],
      "text/plain": [
       "                      0            1  accuracy\n",
       "precision      0.994374     0.795316  0.949222\n",
       "recall         0.943051     0.976453  0.949222\n",
       "f1-score       0.968033     0.876625  0.949222\n",
       "support    21177.000000  4799.000000  0.949222"
      ]
     },
     "execution_count": 28,
     "metadata": {},
     "output_type": "execute_result"
    }
   ],
   "source": [
    "second_bag_grid = [{\n",
    "    'base_estimator':[bagging_tree], \n",
    "    'n_estimators':[20,23,25,30], \n",
    "    'max_samples':[1.0], \n",
    "    'max_features':[1.0],\n",
    "    'bootstrap':[False],\n",
    "    'bootstrap_features':[True], \n",
    "    'n_jobs':[3]\n",
    "}]\n",
    "\n",
    "second_bagged_grid = GridSearchCV(estimator=tree_bagger,param_grid=second_bag_grid,scoring='f1',n_jobs=3)\n",
    "second_bagged_grid.fit(X_train,y_train)\n",
    "second_bagged_grid_pred = second_bagged_grid.predict(X_test)\n",
    "second_bagged_grid_report = classification_report(y_test,second_bagged_grid_pred,output_dict=True)\n",
    "second_bagged_grid_report = pd.DataFrame(second_bagged_grid_report).iloc[:,0:3]\n",
    "second_bagged_grid_report"
   ]
  },
  {
   "cell_type": "code",
   "execution_count": 29,
   "metadata": {},
   "outputs": [
    {
     "data": {
      "text/plain": [
       "{'base_estimator': DecisionTreeClassifier(max_depth=125, max_features=19, max_leaf_nodes=750,\n",
       "                        min_samples_leaf=5),\n",
       " 'bootstrap': False,\n",
       " 'bootstrap_features': True,\n",
       " 'max_features': 1.0,\n",
       " 'max_samples': 1.0,\n",
       " 'n_estimators': 30,\n",
       " 'n_jobs': 3}"
      ]
     },
     "execution_count": 29,
     "metadata": {},
     "output_type": "execute_result"
    }
   ],
   "source": [
    "second_bagged_grid.best_params_"
   ]
  },
  {
   "cell_type": "markdown",
   "metadata": {},
   "source": [
    "#### finding best n_estimators\n",
    "Here I re-run the same cell(s) adjusting only n_estimators to find the value that improves F1 the most. "
   ]
  },
  {
   "cell_type": "code",
   "execution_count": 30,
   "metadata": {},
   "outputs": [
    {
     "data": {
      "text/html": [
       "<div>\n",
       "<style scoped>\n",
       "    .dataframe tbody tr th:only-of-type {\n",
       "        vertical-align: middle;\n",
       "    }\n",
       "\n",
       "    .dataframe tbody tr th {\n",
       "        vertical-align: top;\n",
       "    }\n",
       "\n",
       "    .dataframe thead th {\n",
       "        text-align: right;\n",
       "    }\n",
       "</style>\n",
       "<table border=\"1\" class=\"dataframe\">\n",
       "  <thead>\n",
       "    <tr style=\"text-align: right;\">\n",
       "      <th></th>\n",
       "      <th>0</th>\n",
       "      <th>1</th>\n",
       "      <th>accuracy</th>\n",
       "    </tr>\n",
       "  </thead>\n",
       "  <tbody>\n",
       "    <tr>\n",
       "      <th>precision</th>\n",
       "      <td>0.993741</td>\n",
       "      <td>0.799624</td>\n",
       "      <td>0.950069</td>\n",
       "    </tr>\n",
       "    <tr>\n",
       "      <th>recall</th>\n",
       "      <td>0.944704</td>\n",
       "      <td>0.973745</td>\n",
       "      <td>0.950069</td>\n",
       "    </tr>\n",
       "    <tr>\n",
       "      <th>f1-score</th>\n",
       "      <td>0.968602</td>\n",
       "      <td>0.878136</td>\n",
       "      <td>0.950069</td>\n",
       "    </tr>\n",
       "    <tr>\n",
       "      <th>support</th>\n",
       "      <td>21177.000000</td>\n",
       "      <td>4799.000000</td>\n",
       "      <td>0.950069</td>\n",
       "    </tr>\n",
       "  </tbody>\n",
       "</table>\n",
       "</div>"
      ],
      "text/plain": [
       "                      0            1  accuracy\n",
       "precision      0.993741     0.799624  0.950069\n",
       "recall         0.944704     0.973745  0.950069\n",
       "f1-score       0.968602     0.878136  0.950069\n",
       "support    21177.000000  4799.000000  0.950069"
      ]
     },
     "execution_count": 30,
     "metadata": {},
     "output_type": "execute_result"
    }
   ],
   "source": [
    "n_trees_bagger = BaggingClassifier(base_estimator=bagging_tree,\n",
    "                                    bootstrap=False,\n",
    "                                    bootstrap_features=True,\n",
    "                                    n_estimators=31,\n",
    "                                    n_jobs=3)\n",
    "\n",
    "n_trees_bagger.fit(X_train,y_train)\n",
    "\n",
    "n_trees_pred = n_trees_bagger.predict(X_test)\n",
    "n_trees_report = classification_report(y_test,n_trees_pred,output_dict=True)\n",
    "n_trees_report = pd.DataFrame(n_trees_report).iloc[:,0:3]\n",
    "n_trees_report"
   ]
  },
  {
   "cell_type": "markdown",
   "metadata": {},
   "source": [
    "#### Observations:\n",
    "The best performing Bagging classifier is the second grid searches best parameters"
   ]
  },
  {
   "cell_type": "code",
   "execution_count": 46,
   "metadata": {},
   "outputs": [
    {
     "data": {
      "image/png": "[encoded data removed]",
      "text/plain": [
       "<Figure size 432x288 with 1 Axes>"
      ]
     },
     "metadata": {},
     "output_type": "display_data"
    }
   ],
   "source": [
    "plot_roc_curve(second_bagged_grid,X_test,y_test)\n",
    "plt.title('2x gridsearched BaggingClassifier')\n",
    "plt.show()"
   ]
  },
  {
   "cell_type": "code",
   "execution_count": 32,
   "metadata": {},
   "outputs": [
    {
     "data": {
      "image/png": "[encoded data removed]",
      "text/plain": [
       "<Figure size 432x288 with 2 Axes>"
      ]
     },
     "metadata": {},
     "output_type": "display_data"
    }
   ],
   "source": [
    "plot_confusion_matrix(second_bagged_grid,X_test,y_test,normalize='true')\n",
    "plt.show()"
   ]
  },
  {
   "cell_type": "markdown",
   "metadata": {},
   "source": [
    "## Random Forest"
   ]
  },
  {
   "cell_type": "markdown",
   "metadata": {},
   "source": [
    "### Baseline RF"
   ]
  },
  {
   "cell_type": "code",
   "execution_count": 33,
   "metadata": {},
   "outputs": [
    {
     "data": {
      "text/html": [
       "<div>\n",
       "<style scoped>\n",
       "    .dataframe tbody tr th:only-of-type {\n",
       "        vertical-align: middle;\n",
       "    }\n",
       "\n",
       "    .dataframe tbody tr th {\n",
       "        vertical-align: top;\n",
       "    }\n",
       "\n",
       "    .dataframe thead th {\n",
       "        text-align: right;\n",
       "    }\n",
       "</style>\n",
       "<table border=\"1\" class=\"dataframe\">\n",
       "  <thead>\n",
       "    <tr style=\"text-align: right;\">\n",
       "      <th></th>\n",
       "      <th>0</th>\n",
       "      <th>1</th>\n",
       "      <th>accuracy</th>\n",
       "    </tr>\n",
       "  </thead>\n",
       "  <tbody>\n",
       "    <tr>\n",
       "      <th>precision</th>\n",
       "      <td>0.994775</td>\n",
       "      <td>0.824925</td>\n",
       "      <td>0.957576</td>\n",
       "    </tr>\n",
       "    <tr>\n",
       "      <th>recall</th>\n",
       "      <td>0.952968</td>\n",
       "      <td>0.977912</td>\n",
       "      <td>0.957576</td>\n",
       "    </tr>\n",
       "    <tr>\n",
       "      <th>f1-score</th>\n",
       "      <td>0.973423</td>\n",
       "      <td>0.894928</td>\n",
       "      <td>0.957576</td>\n",
       "    </tr>\n",
       "    <tr>\n",
       "      <th>support</th>\n",
       "      <td>21177.000000</td>\n",
       "      <td>4799.000000</td>\n",
       "      <td>0.957576</td>\n",
       "    </tr>\n",
       "  </tbody>\n",
       "</table>\n",
       "</div>"
      ],
      "text/plain": [
       "                      0            1  accuracy\n",
       "precision      0.994775     0.824925  0.957576\n",
       "recall         0.952968     0.977912  0.957576\n",
       "f1-score       0.973423     0.894928  0.957576\n",
       "support    21177.000000  4799.000000  0.957576"
      ]
     },
     "execution_count": 33,
     "metadata": {},
     "output_type": "execute_result"
    }
   ],
   "source": [
    "RFC = RandomForestClassifier(n_jobs=3)\n",
    "RFC.fit(X_train,y_train)\n",
    "\n",
    "rfc_pred = RFC.predict(X_test)\n",
    "rfc_report = classification_report(y_test,rfc_pred,output_dict='true')\n",
    "rfc_report = pd.DataFrame(rfc_report).iloc[:,0:3]\n",
    "rfc_report"
   ]
  },
  {
   "cell_type": "markdown",
   "metadata": {},
   "source": [
    "### Tuning RF hyperparameters \n",
    "using the best_params_ from the decision tree model gridsearch_four"
   ]
  },
  {
   "cell_type": "code",
   "execution_count": 34,
   "metadata": {},
   "outputs": [
    {
     "data": {
      "text/html": [
       "<div>\n",
       "<style scoped>\n",
       "    .dataframe tbody tr th:only-of-type {\n",
       "        vertical-align: middle;\n",
       "    }\n",
       "\n",
       "    .dataframe tbody tr th {\n",
       "        vertical-align: top;\n",
       "    }\n",
       "\n",
       "    .dataframe thead th {\n",
       "        text-align: right;\n",
       "    }\n",
       "</style>\n",
       "<table border=\"1\" class=\"dataframe\">\n",
       "  <thead>\n",
       "    <tr style=\"text-align: right;\">\n",
       "      <th></th>\n",
       "      <th>0</th>\n",
       "      <th>1</th>\n",
       "      <th>accuracy</th>\n",
       "    </tr>\n",
       "  </thead>\n",
       "  <tbody>\n",
       "    <tr>\n",
       "      <th>precision</th>\n",
       "      <td>0.994284</td>\n",
       "      <td>0.799727</td>\n",
       "      <td>0.950416</td>\n",
       "    </tr>\n",
       "    <tr>\n",
       "      <th>recall</th>\n",
       "      <td>0.944610</td>\n",
       "      <td>0.976037</td>\n",
       "      <td>0.950416</td>\n",
       "    </tr>\n",
       "    <tr>\n",
       "      <th>f1-score</th>\n",
       "      <td>0.968811</td>\n",
       "      <td>0.879129</td>\n",
       "      <td>0.950416</td>\n",
       "    </tr>\n",
       "    <tr>\n",
       "      <th>support</th>\n",
       "      <td>21177.000000</td>\n",
       "      <td>4799.000000</td>\n",
       "      <td>0.950416</td>\n",
       "    </tr>\n",
       "  </tbody>\n",
       "</table>\n",
       "</div>"
      ],
      "text/plain": [
       "                      0            1  accuracy\n",
       "precision      0.994284     0.799727  0.950416\n",
       "recall         0.944610     0.976037  0.950416\n",
       "f1-score       0.968811     0.879129  0.950416\n",
       "support    21177.000000  4799.000000  0.950416"
      ]
     },
     "execution_count": 34,
     "metadata": {},
     "output_type": "execute_result"
    }
   ],
   "source": [
    "RFC_tuned = RandomForestClassifier(criterion='entropy',\n",
    "                                    max_depth=125,\n",
    "                                    max_features=20,\n",
    "                                    max_leaf_nodes=750,\n",
    "                                    min_samples_leaf=5,\n",
    "                                    min_samples_split=2)\n",
    "RFC_tuned.fit(X_train,y_train)\n",
    "\n",
    "rfc_tuned_pred = RFC_tuned.predict(X_test)\n",
    "\n",
    "rfc_tuned_report = classification_report(y_test,rfc_tuned_pred,output_dict='true')\n",
    "rfc_tuned_report = pd.DataFrame(rfc_tuned_report).iloc[:,0:3]\n",
    "rfc_tuned_report"
   ]
  },
  {
   "cell_type": "markdown",
   "metadata": {},
   "source": [
    "### Observations:\n",
    "Random forest default settings consistently outperforms parameters used from best decision tree.  \n",
    "Computational demands are too great to perform a gridsearch "
   ]
  },
  {
   "cell_type": "code",
   "execution_count": 182,
   "metadata": {},
   "outputs": [
    {
     "data": {
      "image/png": "[encoded data removed]",
      "text/plain": [
       "<Figure size 576x432 with 1 Axes>"
      ]
     },
     "metadata": {},
     "output_type": "display_data"
    }
   ],
   "source": [
    "# baseline Random Forest ROC AUC\n",
    "fig, ax = plt.subplots(figsize=(8, 6))\n",
    "plot_roc_curve(RFC,X_test,y_test,ax=ax)\n",
    "ax.set_title(\"RandomForest Test ROC AUC\",fontsize=19)\n",
    "ax.set_ylabel('True Positive Rate',fontsize=14)\n",
    "ax.set_xlabel('False Positive Rate',fontsize=14)\n",
    "plt.show()"
   ]
  },
  {
   "cell_type": "code",
   "execution_count": 172,
   "metadata": {},
   "outputs": [
    {
     "data": {
      "image/png": "[encoded data removed]",
      "text/plain": [
       "<Figure size 648x648 with 2 Axes>"
      ]
     },
     "metadata": {},
     "output_type": "display_data"
    }
   ],
   "source": [
    "# baseline Random Forest confusion matrix\n",
    "fig, ax = plt.subplots(figsize=(9, 9))\n",
    "plot_confusion_matrix(RFC,X_test,y_test,normalize='true',ax=ax)\n",
    "ax.set_title(\"Random Forest Predictions vs Actual Values\",fontsize=18)\n",
    "ax.set_ylabel('True label',fontsize=16)\n",
    "ax.set_xlabel('Predicted label',fontsize=16)\n",
    "plt.show()"
   ]
  },
  {
   "cell_type": "markdown",
   "metadata": {},
   "source": [
    "## Iterative Performance Visualization"
   ]
  },
  {
   "cell_type": "markdown",
   "metadata": {},
   "source": [
    "## F1 Score"
   ]
  },
  {
   "cell_type": "code",
   "execution_count": 146,
   "metadata": {},
   "outputs": [
    {
     "data": {
      "image/png": "[encoded data removed]",
      "text/plain": [
       "<Figure size 792x648 with 1 Axes>"
      ]
     },
     "metadata": {},
     "output_type": "display_data"
    }
   ],
   "source": [
    "f1_scores = [\n",
    "        grid_report['1'][2],\n",
    "        grid_four_report['1'][2],\n",
    "        tree_bagger_report['1'][2],\n",
    "        second_bagged_grid_report['1'][2],\n",
    "        rfc_report['1'][2],\n",
    "        rfc_tuned_report['1'][2]\n",
    "        ]\n",
    "\n",
    "plt.figure(figsize=(11,9))\n",
    "x = ['baseline\\nDecisionTree',\n",
    "        '4x gridsearched\\nDecisionTree',\n",
    "        'baseline Bagging',\n",
    "        '2x gridsearched\\nBagging',\n",
    "        'baseline\\nRandomForest',\n",
    "        'tuned\\nRandomForest']\n",
    "y = f1_scores\n",
    "plt.plot(x,y)\n",
    "\n",
    "plt.title('Tree Based Model(s) Performance',fontsize=24)\n",
    "plt.ylabel('F1 Score',fontsize=16)\n",
    "plt.xlabel('Model version',fontsize=16)\n",
    "plt.show()"
   ]
  },
  {
   "cell_type": "markdown",
   "metadata": {},
   "source": [
    "## ROC AUC Curve"
   ]
  },
  {
   "cell_type": "code",
   "execution_count": 38,
   "metadata": {},
   "outputs": [],
   "source": [
    "# calculate auc's\n",
    "# first decision tree gridsearch \n",
    "base_gridsearch_fpr , base_gridsearch_tpr, base_gridsearch_thresholds = roc_curve(y_test, grid_pred)\n",
    "base_gridsearch_auc = auc(base_gridsearch_fpr, base_gridsearch_tpr)\n",
    "\n",
    "# best (fourth) decision tree gridsearch\n",
    "gridsearch_four_fpr , gridsearch_four_tpr, gridsearch_four_thresholds = roc_curve(y_test, grid_four_pred)\n",
    "gridsearch_four_auc = auc(gridsearch_four_fpr, gridsearch_four_tpr)\n",
    "\n",
    "# baseline bagging \n",
    "base_bagging_fpr , base_bagging_tpr, base_bagging_thresholds = roc_curve(y_test, tree_bagger_pred)\n",
    "base_bagging_auc = auc(base_bagging_fpr, base_bagging_tpr)\n",
    "\n",
    "# second gridsearched bagging\n",
    "second_grid_bagging_fpr , second_grid_bagging_tpr, second_grid_bagging_thresholds = roc_curve(y_test, second_bagged_grid_pred)\n",
    "second_grid_bagging_auc = auc(second_grid_bagging_fpr, second_grid_bagging_tpr)\n",
    "\n",
    "# baseline random forest\n",
    "base_rfc_fpr , base_rfc_tpr, base_rfc_thresholds = roc_curve(y_test, rfc_pred)\n",
    "base_rfc_auc = auc(base_rfc_fpr, base_rfc_tpr)\n",
    "\n",
    "# tuned random forest\n",
    "tuned_rfc_fpr , tuned_rfc_tpr, tuned_rfc_thresholds = roc_curve(y_test, rfc_tuned_pred)\n",
    "tuned_rfc_auc = auc(tuned_rfc_fpr, tuned_rfc_tpr)\n",
    "\n",
    "auc_list = [base_gridsearch_auc,gridsearch_four_auc,base_bagging_auc,second_grid_bagging_auc,base_rfc_auc,tuned_rfc_auc]"
   ]
  },
  {
   "cell_type": "code",
   "execution_count": 148,
   "metadata": {},
   "outputs": [
    {
     "data": {
      "image/png": "[encoded data removed]",
      "text/plain": [
       "<Figure size 648x648 with 1 Axes>"
      ]
     },
     "metadata": {},
     "output_type": "display_data"
    }
   ],
   "source": [
    "plt.figure(figsize=(9,9))\n",
    "lw = 2\n",
    "\n",
    "plt.plot(base_gridsearch_fpr, base_gridsearch_tpr, color='red',\n",
    "         lw=lw, label=f'Baseline DecisionTree (AUC: {round(base_gridsearch_auc,2)})')\n",
    "plt.plot(gridsearch_four_fpr, gridsearch_four_tpr, color='blue',\n",
    "         lw=lw, label=f'4x gridsearched DecisionTree (AUC: {round(gridsearch_four_auc,2)})')\n",
    "plt.plot(base_bagging_fpr,base_bagging_tpr, color='orange',\n",
    "         lw=lw, label=f'Baseline Bagging (AUC: {round(base_bagging_auc,2)})')\n",
    "plt.plot(second_grid_bagging_fpr,second_grid_bagging_tpr, color='purple',\n",
    "         lw=lw, label=f'2x gridsearched Bagging (AUC: {round(second_grid_bagging_auc,2)})')        \n",
    "plt.plot(base_rfc_fpr,base_rfc_tpr, color='green',\n",
    "         lw=lw, label=f'Basline RandomForest (AUC: {round(base_rfc_auc,2)})')\n",
    "plt.plot(tuned_rfc_fpr,tuned_rfc_tpr, color='gold',\n",
    "         lw=lw, label=f'Tuned RandomForest (AUC: {round(tuned_rfc_auc,2)})')\n",
    "\n",
    "# Formatting\n",
    "plt.plot([0, 1], [0, 1], color='navy', lw=lw, linestyle='--')\n",
    "plt.xlim([0.0, 1.05])\n",
    "plt.ylim([0.0, 1.05])\n",
    "plt.yticks([i/20.0 for i in range(21)])\n",
    "plt.xticks([i/20.0 for i in range(21)])\n",
    "plt.xlabel('False Positive Rate',fontsize=16)\n",
    "plt.ylabel('True Positive Rate',fontsize=16)\n",
    "plt.title('Tree Based Model ROC Curve(s)',fontsize=22)\n",
    "plt.legend(loc=\"lower right\",prop={'size':12})\n",
    "\n",
    "plt.show()"
   ]
  },
  {
   "cell_type": "markdown",
   "metadata": {},
   "source": [
    "## True Positive rate"
   ]
  },
  {
   "cell_type": "code",
   "execution_count": 126,
   "metadata": {},
   "outputs": [],
   "source": [
    "prediction_labels = ['Baseline\\nDecisionTree',\n",
    "                     '4x Gridsearched\\nDecisionTree',\n",
    "                     'Baseline Bagging',\n",
    "                     '2x Gridsearched\\nBagging',\n",
    "                     'Baseline\\nRandomForest',\n",
    "                     'Tuned\\nRandomForest']\n",
    "predictions = [grid_pred,grid_four_pred,tree_bagger_pred,second_bagged_grid_pred,rfc_pred,rfc_tuned_pred]\n",
    "\n",
    "tprs = []\n",
    "fprs = []\n",
    "\n",
    "tnrs = []\n",
    "fnrs = []\n",
    "\n",
    "for pred in predictions:\n",
    "    matrix = confusion_matrix(y_test,pred,normalize='true')\n",
    "    tprs.append(matrix[1][1])\n",
    "    fprs.append(matrix[0][1])\n",
    "    tnrs.append(matrix[0][0])\n",
    "    fnrs.append(matrix[1][0])\n"
   ]
  },
  {
   "cell_type": "code",
   "execution_count": 149,
   "metadata": {},
   "outputs": [
    {
     "name": "stderr",
     "output_type": "stream",
     "text": [
      "<ipython-input-149-343fadc337f4>:14: UserWarning: FixedFormatter should only be used together with FixedLocator\n",
      "  ax2.set_xticklabels(prediction_labels,fontsize=12)\n"
     ]
    },
    {
     "data": {
      "image/png": "[encoded data removed]",
      "text/plain": [
       "<Figure size 648x648 with 2 Axes>"
      ]
     },
     "metadata": {},
     "output_type": "display_data"
    }
   ],
   "source": [
    "fig,(ax1,ax2) = plt.subplots(nrows=2,sharex=True)\n",
    "ax1.set_title(\"Tree Based Model(s) Predictive Performance\",fontsize=24)\n",
    "ax1.plot(range(0,6),tprs,color='green',label='True Positive Rate')\n",
    "ax1.plot(range(0,6),tnrs,color='lightgreen',label='True Negative Rate')\n",
    "\n",
    "ax1.set_ylabel(\"Positive classification rate\",fontsize=16)\n",
    "\n",
    "ax2.plot(range(0,6),fprs,color='red',label='False Positive Rate')\n",
    "ax2.plot(prediction_labels,fnrs,color='pink',label='False Negative Rate')\n",
    "\n",
    "ax2.set_ylabel(\"False classification rate\",fontsize=16)\n",
    "ax2.set_xlabel(\"Model version\",fontsize=16)\n",
    "\n",
    "ax2.set_xticklabels(prediction_labels,fontsize=12)\n",
    "\n",
    "fig.set_size_inches(9, 9)\n",
    "fig.tight_layout()\n",
    "fig.legend(loc='center right',prop={'size':15})\n",
    "plt.show()"
   ]
  },
  {
   "cell_type": "code",
   "execution_count": null,
   "metadata": {},
   "outputs": [],
   "source": []
  }
 ],
 "metadata": {
  "kernelspec": {
   "display_name": "Python 3.8.5 ('learn-env')",
   "language": "python",
   "name": "python3"
  },
  "language_info": {
   "codemirror_mode": {
    "name": "ipython",
    "version": 3
   },
   "file_extension": ".py",
   "mimetype": "text/x-python",
   "name": "python",
   "nbconvert_exporter": "python",
   "pygments_lexer": "ipython3",
   "version": "3.8.5"
  },
  "orig_nbformat": 4,
  "vscode": {
   "interpreter": {
    "hash": "8eb6b2671ae257969e1e6d572d1bfd2dc1c23f390a7081d26c146f9b82ef978d"
   }
  }
 },
 "nbformat": 4,
 "nbformat_minor": 2
}
