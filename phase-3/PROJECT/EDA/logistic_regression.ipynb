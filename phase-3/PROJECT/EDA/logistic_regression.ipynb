{
 "cells": [
  {
   "cell_type": "markdown",
   "metadata": {},
   "source": [
    "# Logistic Regression Baseline Model Development\n",
    "The purpose of this notebook is to explore preprocessing techniques beyond the simple data cleaning formalized in the notebook \"EDA\" (!!!hyperlink this!!!). \n",
    "\n",
    "My main goal is to discover the best sampling method to address the class imbalance present in the target variable.\n",
    "\n",
    "I will also prototype various hyper parameter settings. "
   ]
  },
  {
   "cell_type": "markdown",
   "metadata": {},
   "source": [
    "## Load and clean data"
   ]
  },
  {
   "cell_type": "code",
   "execution_count": 1,
   "metadata": {},
   "outputs": [],
   "source": [
    "from preprocessor import data_cleaner\n",
    "\n",
    "import pandas as pd\n",
    "import numpy as np\n",
    "\n",
    "from sklearn.linear_model import LogisticRegression,LogisticRegressionCV\n",
    "from sklearn.metrics import plot_confusion_matrix, classification_report\n",
    "from sklearn.model_selection import cross_val_score,cross_val_predict\n"
   ]
  },
  {
   "cell_type": "code",
   "execution_count": 2,
   "metadata": {},
   "outputs": [],
   "source": [
    "# import and define training data. See preprocessor.py file for details on data_cleaner()\n",
    "X_train, y_train = data_cleaner(\"../data/train.csv.zip\")"
   ]
  },
  {
   "cell_type": "code",
   "execution_count": 3,
   "metadata": {},
   "outputs": [
    {
     "name": "stdout",
     "output_type": "stream",
     "text": [
      "<class 'pandas.core.frame.DataFrame'>\n",
      "Int64Index: 103904 entries, 0 to 103903\n",
      "Data columns (total 23 columns):\n",
      " #   Column                             Non-Null Count   Dtype  \n",
      "---  ------                             --------------   -----  \n",
      " 0   Age                                103904 non-null  int64  \n",
      " 1   Flight Distance                    103904 non-null  int64  \n",
      " 2   Inflight wifi service              103904 non-null  int64  \n",
      " 3   Departure/Arrival time convenient  103904 non-null  int64  \n",
      " 4   Ease of Online booking             103904 non-null  int64  \n",
      " 5   Gate location                      103904 non-null  int64  \n",
      " 6   Food and drink                     103904 non-null  int64  \n",
      " 7   Online boarding                    103904 non-null  int64  \n",
      " 8   Seat comfort                       103904 non-null  int64  \n",
      " 9   Inflight entertainment             103904 non-null  int64  \n",
      " 10  On-board service                   103904 non-null  int64  \n",
      " 11  Leg room service                   103904 non-null  int64  \n",
      " 12  Baggage handling                   103904 non-null  int64  \n",
      " 13  Checkin service                    103904 non-null  int64  \n",
      " 14  Inflight service                   103904 non-null  int64  \n",
      " 15  Cleanliness                        103904 non-null  int64  \n",
      " 16  Departure Delay in Minutes         103904 non-null  int64  \n",
      " 17  Arrival Delay in Minutes           103904 non-null  float64\n",
      " 18  Gender_Male                        103904 non-null  uint8  \n",
      " 19  Type of Travel_Personal Travel     103904 non-null  uint8  \n",
      " 20  Class_Eco                          103904 non-null  uint8  \n",
      " 21  Class_Eco Plus                     103904 non-null  uint8  \n",
      " 22  satisfaction_satisfied             103904 non-null  uint8  \n",
      "dtypes: float64(1), int64(17), uint8(5)\n",
      "memory usage: 15.6 MB\n"
     ]
    }
   ],
   "source": [
    "X_train.info()"
   ]
  },
  {
   "cell_type": "markdown",
   "metadata": {},
   "source": [
    "## Develop baseline model"
   ]
  },
  {
   "cell_type": "code",
   "execution_count": 4,
   "metadata": {},
   "outputs": [],
   "source": [
    "import matplotlib.pyplot as plt\n",
    "import seaborn as sns\n",
    "%matplotlib inline\n",
    "\n",
    "from sklearn.model_selection import cross_val_predict,cross_val_score\n",
    "from sklearn.metrics import plot_confusion_matrix,confusion_matrix,classification_report, roc_curve,auc"
   ]
  },
  {
   "cell_type": "markdown",
   "metadata": {},
   "source": [
    "### fit estimator"
   ]
  },
  {
   "cell_type": "code",
   "execution_count": 5,
   "metadata": {},
   "outputs": [],
   "source": [
    "logreg = LogisticRegression(solver='liblinear')\n",
    "logreg.fit(X_train,y_train)\n",
    "\n",
    "y_train_pred = cross_val_predict(logreg,X_train,y_train)\n",
    "\n",
    "train_score = cross_val_score(logreg,X_train,y_train_pred,scoring='f1')"
   ]
  },
  {
   "cell_type": "code",
   "execution_count": 6,
   "metadata": {},
   "outputs": [
    {
     "data": {
      "text/plain": [
       "0.9848444640204921"
      ]
     },
     "execution_count": 6,
     "metadata": {},
     "output_type": "execute_result"
    }
   ],
   "source": [
    "train_score.mean()"
   ]
  },
  {
   "cell_type": "markdown",
   "metadata": {},
   "source": [
    "### print classification report"
   ]
  },
  {
   "cell_type": "code",
   "execution_count": 72,
   "metadata": {},
   "outputs": [
    {
     "data": {
      "text/html": [
       "<div>\n",
       "<style scoped>\n",
       "    .dataframe tbody tr th:only-of-type {\n",
       "        vertical-align: middle;\n",
       "    }\n",
       "\n",
       "    .dataframe tbody tr th {\n",
       "        vertical-align: top;\n",
       "    }\n",
       "\n",
       "    .dataframe thead th {\n",
       "        text-align: right;\n",
       "    }\n",
       "</style>\n",
       "<table border=\"1\" class=\"dataframe\">\n",
       "  <thead>\n",
       "    <tr style=\"text-align: right;\">\n",
       "      <th></th>\n",
       "      <th>0</th>\n",
       "      <th>1</th>\n",
       "      <th>accuracy</th>\n",
       "    </tr>\n",
       "  </thead>\n",
       "  <tbody>\n",
       "    <tr>\n",
       "      <th>precision</th>\n",
       "      <td>0.932692</td>\n",
       "      <td>0.765552</td>\n",
       "      <td>0.905076</td>\n",
       "    </tr>\n",
       "    <tr>\n",
       "      <th>recall</th>\n",
       "      <td>0.952604</td>\n",
       "      <td>0.692429</td>\n",
       "      <td>0.905076</td>\n",
       "    </tr>\n",
       "    <tr>\n",
       "      <th>f1-score</th>\n",
       "      <td>0.942543</td>\n",
       "      <td>0.727157</td>\n",
       "      <td>0.905076</td>\n",
       "    </tr>\n",
       "    <tr>\n",
       "      <th>support</th>\n",
       "      <td>84923.000000</td>\n",
       "      <td>18981.000000</td>\n",
       "      <td>0.905076</td>\n",
       "    </tr>\n",
       "  </tbody>\n",
       "</table>\n",
       "</div>"
      ],
      "text/plain": [
       "                      0             1  accuracy\n",
       "precision      0.932692      0.765552  0.905076\n",
       "recall         0.952604      0.692429  0.905076\n",
       "f1-score       0.942543      0.727157  0.905076\n",
       "support    84923.000000  18981.000000  0.905076"
      ]
     },
     "execution_count": 72,
     "metadata": {},
     "output_type": "execute_result"
    }
   ],
   "source": [
    "baseline_report = classification_report(y_train,y_train_pred,output_dict=True)\n",
    "baseline_report = pd.DataFrame(baseline_report).iloc[:,0:3]\n",
    "baseline_report"
   ]
  },
  {
   "cell_type": "markdown",
   "metadata": {},
   "source": [
    "### plot confusion matrix"
   ]
  },
  {
   "cell_type": "code",
   "execution_count": 8,
   "metadata": {},
   "outputs": [
    {
     "data": {
      "image/png": "[encoded data removed]",
      "text/plain": [
       "<Figure size 432x288 with 2 Axes>"
      ]
     },
     "metadata": {
      "needs_background": "light"
     },
     "output_type": "display_data"
    }
   ],
   "source": [
    "plot_confusion_matrix(logreg,X_train,y_train,normalize='true')\n",
    "plt.show()"
   ]
  },
  {
   "cell_type": "code",
   "execution_count": 9,
   "metadata": {},
   "outputs": [],
   "source": [
    "# Calculate the probability scores of each point in the training set\n",
    "y_train_score = logreg.decision_function(X_train)\n",
    "\n",
    "# Calculate the fpr, tpr, and thresholds for the training set\n",
    "train_fpr, train_tpr, thresholds = roc_curve(y_train, y_train_score)"
   ]
  },
  {
   "cell_type": "code",
   "execution_count": 78,
   "metadata": {},
   "outputs": [],
   "source": [
    "baseline_auc = auc(train_fpr, train_tpr)"
   ]
  },
  {
   "cell_type": "markdown",
   "metadata": {},
   "source": [
    "### calculate ROC AUC and plot curve"
   ]
  },
  {
   "cell_type": "code",
   "execution_count": 10,
   "metadata": {},
   "outputs": [
    {
     "name": "stdout",
     "output_type": "stream",
     "text": [
      "Training AUC: 0.9471988366981169\n"
     ]
    },
    {
     "data": {
      "image/png": "[encoded data removed]",
      "text/plain": [
       "<Figure size 720x576 with 1 Axes>"
      ]
     },
     "metadata": {},
     "output_type": "display_data"
    }
   ],
   "source": [
    "# Seaborn's beautiful styling\n",
    "sns.set_style('darkgrid', {'axes.facecolor': '0.9'})\n",
    "\n",
    "# ROC curve for training set\n",
    "plt.figure(figsize=(10, 8))\n",
    "lw = 2\n",
    "plt.plot(train_fpr, train_tpr, color='darkorange',\n",
    "         lw=lw, label='ROC curve')\n",
    "plt.plot([0, 1], [0, 1], color='navy', lw=lw, linestyle='--')\n",
    "plt.xlim([0.0, 1.0])\n",
    "plt.ylim([0.0, 1.05])\n",
    "plt.yticks([i/20.0 for i in range(21)])\n",
    "plt.xticks([i/20.0 for i in range(21)])\n",
    "plt.xlabel('False Positive Rate')\n",
    "plt.ylabel('True Positive Rate')\n",
    "plt.title('Receiver operating characteristic (ROC) Curve for Training Set')\n",
    "plt.legend(loc='lower right')\n",
    "print('Training AUC: {}'.format(auc(train_fpr, train_tpr)))\n",
    "plt.show()"
   ]
  },
  {
   "cell_type": "markdown",
   "metadata": {},
   "source": [
    "## Prototype sampling methods\n",
    "- SMOTE (synthetic over sampling)\n",
    "- Tomek Links (under sampling against decision boundary)\n",
    "- Near Miss (distance based under sampling)\n",
    "- Edited Nearest Neighbors (under samplin against decision boundary)\n",
    "- SMOTETomek (SMOTE/Tomek Link ensemble)\n",
    "- SMOETENN (SMOTE/Edited Nearest Neighbors Ensemble)"
   ]
  },
  {
   "cell_type": "markdown",
   "metadata": {},
   "source": [
    "### SMOTE"
   ]
  },
  {
   "cell_type": "markdown",
   "metadata": {},
   "source": [
    "##### resample data"
   ]
  },
  {
   "cell_type": "code",
   "execution_count": 11,
   "metadata": {},
   "outputs": [
    {
     "name": "stdout",
     "output_type": "stream",
     "text": [
      "Original dataset weights: 0    0.817322\n",
      "1    0.182678\n",
      "Name: disloyal Customer, dtype: float64\n",
      "Original dataset size: 103904\n",
      "\n",
      "Resample dataset weights 1    0.5\n",
      "0    0.5\n",
      "Name: disloyal Customer, dtype: float64\n",
      "Resample dataset size: 169846\n"
     ]
    }
   ],
   "source": [
    "from imblearn.over_sampling import SMOTE\n",
    "smote = SMOTE()\n",
    "X_smote, y_smote = smote.fit_resample(X_train, y_train)\n",
    "\n",
    "print('Original dataset weights:', y_train.value_counts(normalize=True))\n",
    "print('Original dataset size:',len(y_train))\n",
    "print('\\nResample dataset weights', y_smote.value_counts(normalize=True))\n",
    "print('Resample dataset size:', len(y_smote))"
   ]
  },
  {
   "cell_type": "markdown",
   "metadata": {},
   "source": [
    "#### fit estimator"
   ]
  },
  {
   "cell_type": "code",
   "execution_count": 12,
   "metadata": {},
   "outputs": [
    {
     "name": "stdout",
     "output_type": "stream",
     "text": [
      "0.9871648588461615\n"
     ]
    }
   ],
   "source": [
    "logreg_smote = LogisticRegressionCV(solver='liblinear',n_jobs=3)\n",
    "logreg_smote.fit(X_smote,y_smote)\n",
    "\n",
    "smote_train_pred = cross_val_predict(logreg_smote,X_smote,y_smote,n_jobs=3)\n",
    "\n",
    "smote_train_score = cross_val_score(logreg_smote,X_smote,smote_train_pred,scoring='f1',n_jobs=3)\n",
    "print(smote_train_score.mean())"
   ]
  },
  {
   "cell_type": "markdown",
   "metadata": {},
   "source": [
    "#### plot confusion matrix"
   ]
  },
  {
   "cell_type": "code",
   "execution_count": 13,
   "metadata": {},
   "outputs": [
    {
     "data": {
      "image/png": "[encoded data removed]",
      "text/plain": [
       "<Figure size 432x288 with 2 Axes>"
      ]
     },
     "metadata": {},
     "output_type": "display_data"
    }
   ],
   "source": [
    "plot_confusion_matrix(logreg_smote,X_smote,y_smote,normalize='true')\n",
    "plt.show()"
   ]
  },
  {
   "cell_type": "markdown",
   "metadata": {},
   "source": [
    "#### print classification report"
   ]
  },
  {
   "cell_type": "code",
   "execution_count": 14,
   "metadata": {},
   "outputs": [
    {
     "data": {
      "text/html": [
       "<div>\n",
       "<style scoped>\n",
       "    .dataframe tbody tr th:only-of-type {\n",
       "        vertical-align: middle;\n",
       "    }\n",
       "\n",
       "    .dataframe tbody tr th {\n",
       "        vertical-align: top;\n",
       "    }\n",
       "\n",
       "    .dataframe thead th {\n",
       "        text-align: right;\n",
       "    }\n",
       "</style>\n",
       "<table border=\"1\" class=\"dataframe\">\n",
       "  <thead>\n",
       "    <tr style=\"text-align: right;\">\n",
       "      <th></th>\n",
       "      <th>0</th>\n",
       "      <th>1</th>\n",
       "      <th>accuracy</th>\n",
       "    </tr>\n",
       "  </thead>\n",
       "  <tbody>\n",
       "    <tr>\n",
       "      <th>precision</th>\n",
       "      <td>0.922345</td>\n",
       "      <td>0.895953</td>\n",
       "      <td>0.908723</td>\n",
       "    </tr>\n",
       "    <tr>\n",
       "      <th>recall</th>\n",
       "      <td>0.892597</td>\n",
       "      <td>0.924850</td>\n",
       "      <td>0.908723</td>\n",
       "    </tr>\n",
       "    <tr>\n",
       "      <th>f1-score</th>\n",
       "      <td>0.907227</td>\n",
       "      <td>0.910172</td>\n",
       "      <td>0.908723</td>\n",
       "    </tr>\n",
       "    <tr>\n",
       "      <th>support</th>\n",
       "      <td>84923.000000</td>\n",
       "      <td>84923.000000</td>\n",
       "      <td>0.908723</td>\n",
       "    </tr>\n",
       "  </tbody>\n",
       "</table>\n",
       "</div>"
      ],
      "text/plain": [
       "                      0             1  accuracy\n",
       "precision      0.922345      0.895953  0.908723\n",
       "recall         0.892597      0.924850  0.908723\n",
       "f1-score       0.907227      0.910172  0.908723\n",
       "support    84923.000000  84923.000000  0.908723"
      ]
     },
     "execution_count": 14,
     "metadata": {},
     "output_type": "execute_result"
    }
   ],
   "source": [
    "smote_report = classification_report(y_smote,smote_train_pred,output_dict=True)\n",
    "smote_report = pd.DataFrame(smote_report).iloc[:,0:3]\n",
    "smote_report"
   ]
  },
  {
   "cell_type": "markdown",
   "metadata": {},
   "source": [
    "#### calculate ROC AUC"
   ]
  },
  {
   "cell_type": "code",
   "execution_count": 80,
   "metadata": {},
   "outputs": [
    {
     "name": "stdout",
     "output_type": "stream",
     "text": [
      "Training AUC: 0.964708301163559\n"
     ]
    }
   ],
   "source": [
    "# Calculate the probability scores of each point in the training set\n",
    "y_smote_score = logreg_smote.decision_function(X_smote)\n",
    "# Calculate the fpr, tpr, and thresholds for the training set\n",
    "smote_fpr, smote_tpr, smote_thresholds = roc_curve(y_smote, y_smote_score)\n",
    "smote_auc = auc(smote_fpr, smote_tpr)\n",
    "print('Training AUC: {}'.format(smote_auc))"
   ]
  },
  {
   "cell_type": "markdown",
   "metadata": {},
   "source": [
    "### Tomek Links"
   ]
  },
  {
   "cell_type": "markdown",
   "metadata": {},
   "source": [
    "#### resample data"
   ]
  },
  {
   "cell_type": "code",
   "execution_count": 16,
   "metadata": {},
   "outputs": [
    {
     "name": "stdout",
     "output_type": "stream",
     "text": [
      "Original dataset weights: 0    0.817322\n",
      "1    0.182678\n",
      "Name: disloyal Customer, dtype: float64\n",
      "Original dataset size: 103904\n",
      "\n",
      "Resample dataset weights 0    0.809029\n",
      "1    0.190971\n",
      "Name: disloyal Customer, dtype: float64\n",
      "Resample dataset size: 99392\n"
     ]
    }
   ],
   "source": [
    "from imblearn.under_sampling import TomekLinks\n",
    "tl = TomekLinks(sampling_strategy='majority')\n",
    "X_tl, y_tl = tl.fit_resample(X_train, y_train)\n",
    "\n",
    "print('Original dataset weights:', y_train.value_counts(normalize=True))\n",
    "print('Original dataset size:',len(y_train))\n",
    "print('\\nResample dataset weights', y_tl.value_counts(normalize=True))\n",
    "print('Resample dataset size:', len(y_tl))"
   ]
  },
  {
   "cell_type": "markdown",
   "metadata": {},
   "source": [
    "#### fit estimator"
   ]
  },
  {
   "cell_type": "code",
   "execution_count": 17,
   "metadata": {},
   "outputs": [
    {
     "name": "stdout",
     "output_type": "stream",
     "text": [
      "0.7469474086997104\n"
     ]
    }
   ],
   "source": [
    "logreg_tl = LogisticRegression(solver='liblinear')\n",
    "logreg_tl.fit(X_tl,y_tl)\n",
    "\n",
    "tl_train_pred = cross_val_predict(logreg_tl,X_tl,y_tl,n_jobs=3)\n",
    "\n",
    "tl_train_score = cross_val_score(logreg_tl,X_tl,y_tl,n_jobs=3,scoring='f1')\n",
    "print(tl_train_score.mean())"
   ]
  },
  {
   "cell_type": "markdown",
   "metadata": {},
   "source": [
    "#### plot confusion matrix"
   ]
  },
  {
   "cell_type": "code",
   "execution_count": 18,
   "metadata": {},
   "outputs": [
    {
     "data": {
      "image/png": "[encoded data removed]",
      "text/plain": [
       "<Figure size 432x288 with 2 Axes>"
      ]
     },
     "metadata": {},
     "output_type": "display_data"
    }
   ],
   "source": [
    "plot_confusion_matrix(logreg_tl,X_tl,y_tl,normalize='true')\n",
    "plt.show()"
   ]
  },
  {
   "cell_type": "markdown",
   "metadata": {},
   "source": [
    "#### print classification report"
   ]
  },
  {
   "cell_type": "code",
   "execution_count": 19,
   "metadata": {},
   "outputs": [
    {
     "data": {
      "text/html": [
       "<div>\n",
       "<style scoped>\n",
       "    .dataframe tbody tr th:only-of-type {\n",
       "        vertical-align: middle;\n",
       "    }\n",
       "\n",
       "    .dataframe tbody tr th {\n",
       "        vertical-align: top;\n",
       "    }\n",
       "\n",
       "    .dataframe thead th {\n",
       "        text-align: right;\n",
       "    }\n",
       "</style>\n",
       "<table border=\"1\" class=\"dataframe\">\n",
       "  <thead>\n",
       "    <tr style=\"text-align: right;\">\n",
       "      <th></th>\n",
       "      <th>0</th>\n",
       "      <th>1</th>\n",
       "      <th>accuracy</th>\n",
       "    </tr>\n",
       "  </thead>\n",
       "  <tbody>\n",
       "    <tr>\n",
       "      <th>precision</th>\n",
       "      <td>0.934277</td>\n",
       "      <td>0.780713</td>\n",
       "      <td>0.907377</td>\n",
       "    </tr>\n",
       "    <tr>\n",
       "      <th>recall</th>\n",
       "      <td>0.952519</td>\n",
       "      <td>0.716137</td>\n",
       "      <td>0.907377</td>\n",
       "    </tr>\n",
       "    <tr>\n",
       "      <th>f1-score</th>\n",
       "      <td>0.943310</td>\n",
       "      <td>0.747032</td>\n",
       "      <td>0.907377</td>\n",
       "    </tr>\n",
       "    <tr>\n",
       "      <th>support</th>\n",
       "      <td>80411.000000</td>\n",
       "      <td>18981.000000</td>\n",
       "      <td>0.907377</td>\n",
       "    </tr>\n",
       "  </tbody>\n",
       "</table>\n",
       "</div>"
      ],
      "text/plain": [
       "                      0             1  accuracy\n",
       "precision      0.934277      0.780713  0.907377\n",
       "recall         0.952519      0.716137  0.907377\n",
       "f1-score       0.943310      0.747032  0.907377\n",
       "support    80411.000000  18981.000000  0.907377"
      ]
     },
     "execution_count": 19,
     "metadata": {},
     "output_type": "execute_result"
    }
   ],
   "source": [
    "tomek_report = classification_report(y_tl,tl_train_pred,output_dict=True)\n",
    "tomek_report = pd.DataFrame(tomek_report).iloc[:,0:3]\n",
    "tomek_report"
   ]
  },
  {
   "cell_type": "markdown",
   "metadata": {},
   "source": [
    "#### calculate ROC AUC"
   ]
  },
  {
   "cell_type": "code",
   "execution_count": 81,
   "metadata": {},
   "outputs": [
    {
     "name": "stdout",
     "output_type": "stream",
     "text": [
      "Training AUC: 0.9430969178470339\n"
     ]
    }
   ],
   "source": [
    "# Calculate the probability scores of each point in the training set\n",
    "y_tomek_score = logreg_smote.decision_function(X_tl)\n",
    "# Calculate the fpr, tpr, and thresholds for the training set\n",
    "tl_fpr , tl_tpr, tomek_thresholds = roc_curve(y_tl, y_tomek_score)\n",
    "tl_auc = auc(tl_fpr, tl_tpr)\n",
    "print('Training AUC: {}'.format(tl_auc))"
   ]
  },
  {
   "cell_type": "markdown",
   "metadata": {},
   "source": [
    "### Near Miss"
   ]
  },
  {
   "cell_type": "markdown",
   "metadata": {},
   "source": [
    "#### resample the data"
   ]
  },
  {
   "cell_type": "code",
   "execution_count": 21,
   "metadata": {},
   "outputs": [
    {
     "name": "stdout",
     "output_type": "stream",
     "text": [
      "Original dataset weights: 0    0.817322\n",
      "1    0.182678\n",
      "Name: disloyal Customer, dtype: float64\n",
      "Original dataset size: 103904\n",
      "\n",
      "Resample dataset weights 1    0.5\n",
      "0    0.5\n",
      "Name: disloyal Customer, dtype: float64\n",
      "Resample dataset size: 37962\n"
     ]
    }
   ],
   "source": [
    "from imblearn.under_sampling import NearMiss\n",
    "nm = NearMiss(sampling_strategy='all')\n",
    "X_nm, y_nm = nm.fit_resample(X_train,y_train)\n",
    "\n",
    "print('Original dataset weights:', y_train.value_counts(normalize=True))\n",
    "print('Original dataset size:',len(y_train))\n",
    "print('\\nResample dataset weights', y_nm.value_counts(normalize=True))\n",
    "print('Resample dataset size:', len(y_nm))"
   ]
  },
  {
   "cell_type": "markdown",
   "metadata": {},
   "source": [
    "#### fit estimator"
   ]
  },
  {
   "cell_type": "code",
   "execution_count": 22,
   "metadata": {},
   "outputs": [
    {
     "name": "stdout",
     "output_type": "stream",
     "text": [
      "0.8709056208353145\n"
     ]
    }
   ],
   "source": [
    "logreg_nm = LogisticRegressionCV(solver='liblinear',n_jobs=3)\n",
    "logreg_nm.fit(X_nm,y_nm)\n",
    "\n",
    "nm_train_pred = cross_val_predict(logreg_nm,X_nm,y_nm,n_jobs=3)\n",
    "\n",
    "nm_train_score = cross_val_score(logreg_nm,X_nm,y_nm,n_jobs=3,scoring='f1')\n",
    "print(nm_train_score.mean())"
   ]
  },
  {
   "cell_type": "markdown",
   "metadata": {},
   "source": [
    "#### plot confusion matrix"
   ]
  },
  {
   "cell_type": "code",
   "execution_count": 23,
   "metadata": {},
   "outputs": [
    {
     "data": {
      "image/png": "[encoded data removed]",
      "text/plain": [
       "<Figure size 432x288 with 2 Axes>"
      ]
     },
     "metadata": {},
     "output_type": "display_data"
    }
   ],
   "source": [
    "plot_confusion_matrix(logreg_nm,X_nm,y_nm,normalize='true')\n",
    "plt.show()"
   ]
  },
  {
   "cell_type": "markdown",
   "metadata": {},
   "source": [
    "#### print classification report"
   ]
  },
  {
   "cell_type": "code",
   "execution_count": 24,
   "metadata": {},
   "outputs": [
    {
     "data": {
      "text/html": [
       "<div>\n",
       "<style scoped>\n",
       "    .dataframe tbody tr th:only-of-type {\n",
       "        vertical-align: middle;\n",
       "    }\n",
       "\n",
       "    .dataframe tbody tr th {\n",
       "        vertical-align: top;\n",
       "    }\n",
       "\n",
       "    .dataframe thead th {\n",
       "        text-align: right;\n",
       "    }\n",
       "</style>\n",
       "<table border=\"1\" class=\"dataframe\">\n",
       "  <thead>\n",
       "    <tr style=\"text-align: right;\">\n",
       "      <th></th>\n",
       "      <th>0</th>\n",
       "      <th>1</th>\n",
       "      <th>accuracy</th>\n",
       "    </tr>\n",
       "  </thead>\n",
       "  <tbody>\n",
       "    <tr>\n",
       "      <th>precision</th>\n",
       "      <td>0.876349</td>\n",
       "      <td>0.865908</td>\n",
       "      <td>0.871055</td>\n",
       "    </tr>\n",
       "    <tr>\n",
       "      <th>recall</th>\n",
       "      <td>0.864022</td>\n",
       "      <td>0.878089</td>\n",
       "      <td>0.871055</td>\n",
       "    </tr>\n",
       "    <tr>\n",
       "      <th>f1-score</th>\n",
       "      <td>0.870142</td>\n",
       "      <td>0.871956</td>\n",
       "      <td>0.871055</td>\n",
       "    </tr>\n",
       "    <tr>\n",
       "      <th>support</th>\n",
       "      <td>18981.000000</td>\n",
       "      <td>18981.000000</td>\n",
       "      <td>0.871055</td>\n",
       "    </tr>\n",
       "  </tbody>\n",
       "</table>\n",
       "</div>"
      ],
      "text/plain": [
       "                      0             1  accuracy\n",
       "precision      0.876349      0.865908  0.871055\n",
       "recall         0.864022      0.878089  0.871055\n",
       "f1-score       0.870142      0.871956  0.871055\n",
       "support    18981.000000  18981.000000  0.871055"
      ]
     },
     "execution_count": 24,
     "metadata": {},
     "output_type": "execute_result"
    }
   ],
   "source": [
    "nm_report = classification_report(y_nm,nm_train_pred,output_dict=True)\n",
    "nm_report = pd.DataFrame(nm_report).iloc[:,0:3]\n",
    "nm_report"
   ]
  },
  {
   "cell_type": "markdown",
   "metadata": {},
   "source": [
    "#### calculate ROC AUC"
   ]
  },
  {
   "cell_type": "code",
   "execution_count": 82,
   "metadata": {},
   "outputs": [
    {
     "name": "stdout",
     "output_type": "stream",
     "text": [
      "Training AUC: 0.9499228653368943\n"
     ]
    }
   ],
   "source": [
    "# Calculate the probability scores of each point in the training set\n",
    "y_nm_score  = logreg_nm.decision_function(X_nm)\n",
    "# Calculate the fpr, tpr, and thresholds for the training set\n",
    "nm_fpr , nm_tpr, nm_thresholds = roc_curve(y_nm, y_nm_score )\n",
    "nm_auc = auc(nm_fpr, nm_tpr)\n",
    "print('Training AUC: {}'.format(nm_auc))"
   ]
  },
  {
   "cell_type": "markdown",
   "metadata": {},
   "source": [
    "### Edited Nearest Neighbors"
   ]
  },
  {
   "cell_type": "markdown",
   "metadata": {},
   "source": [
    "#### resample the data"
   ]
  },
  {
   "cell_type": "code",
   "execution_count": 42,
   "metadata": {},
   "outputs": [
    {
     "name": "stdout",
     "output_type": "stream",
     "text": [
      "Original dataset weights: 0    0.817322\n",
      "1    0.182678\n",
      "Name: disloyal Customer, dtype: float64\n",
      "Original dataset size: 103904\n",
      "\n",
      "Resample dataset weights 0    0.760619\n",
      "1    0.239381\n",
      "Name: disloyal Customer, dtype: float64\n",
      "Resample dataset size: 79292\n"
     ]
    }
   ],
   "source": [
    "from imblearn.under_sampling import EditedNearestNeighbours\n",
    "ENN = EditedNearestNeighbours(sampling_strategy='majority')\n",
    "X_enn, y_enn = ENN.fit_resample(X_train,y_train)\n",
    "\n",
    "print('Original dataset weights:', y_train.value_counts(normalize=True))\n",
    "print('Original dataset size:',len(y_train))\n",
    "print('\\nResample dataset weights', y_enn.value_counts(normalize=True))\n",
    "print('Resample dataset size:', len(y_enn))"
   ]
  },
  {
   "cell_type": "markdown",
   "metadata": {},
   "source": [
    "#### fit estimator"
   ]
  },
  {
   "cell_type": "code",
   "execution_count": 43,
   "metadata": {},
   "outputs": [
    {
     "name": "stdout",
     "output_type": "stream",
     "text": [
      "0.8329351715136429\n"
     ]
    }
   ],
   "source": [
    "logreg_ENN = LogisticRegression(solver='liblinear')\n",
    "logreg_ENN.fit(X_enn,y_enn)\n",
    "\n",
    "enn_train_pred = cross_val_predict(logreg_ENN,X_enn,y_enn,n_jobs=3)\n",
    "\n",
    "enn_train_score = cross_val_score(logreg_ENN,X_enn,y_enn,n_jobs=3,scoring='f1')\n",
    "print(enn_train_score.mean())"
   ]
  },
  {
   "cell_type": "markdown",
   "metadata": {},
   "source": [
    "#### plot confusion matrix"
   ]
  },
  {
   "cell_type": "code",
   "execution_count": 44,
   "metadata": {},
   "outputs": [
    {
     "data": {
      "image/png": "[encoded data removed]",
      "text/plain": [
       "<Figure size 432x288 with 2 Axes>"
      ]
     },
     "metadata": {},
     "output_type": "display_data"
    }
   ],
   "source": [
    "plot_confusion_matrix(logreg_ENN,X_enn,y_enn,normalize='true')\n",
    "plt.show()"
   ]
  },
  {
   "cell_type": "markdown",
   "metadata": {},
   "source": [
    "#### print classification matrix"
   ]
  },
  {
   "cell_type": "code",
   "execution_count": 45,
   "metadata": {},
   "outputs": [
    {
     "data": {
      "text/html": [
       "<div>\n",
       "<style scoped>\n",
       "    .dataframe tbody tr th:only-of-type {\n",
       "        vertical-align: middle;\n",
       "    }\n",
       "\n",
       "    .dataframe tbody tr th {\n",
       "        vertical-align: top;\n",
       "    }\n",
       "\n",
       "    .dataframe thead th {\n",
       "        text-align: right;\n",
       "    }\n",
       "</style>\n",
       "<table border=\"1\" class=\"dataframe\">\n",
       "  <thead>\n",
       "    <tr style=\"text-align: right;\">\n",
       "      <th></th>\n",
       "      <th>0</th>\n",
       "      <th>1</th>\n",
       "      <th>accuracy</th>\n",
       "    </tr>\n",
       "  </thead>\n",
       "  <tbody>\n",
       "    <tr>\n",
       "      <th>precision</th>\n",
       "      <td>0.942915</td>\n",
       "      <td>0.850206</td>\n",
       "      <td>0.921606</td>\n",
       "    </tr>\n",
       "    <tr>\n",
       "      <th>recall</th>\n",
       "      <td>0.954735</td>\n",
       "      <td>0.816343</td>\n",
       "      <td>0.921606</td>\n",
       "    </tr>\n",
       "    <tr>\n",
       "      <th>f1-score</th>\n",
       "      <td>0.948788</td>\n",
       "      <td>0.832930</td>\n",
       "      <td>0.921606</td>\n",
       "    </tr>\n",
       "    <tr>\n",
       "      <th>support</th>\n",
       "      <td>60311.000000</td>\n",
       "      <td>18981.000000</td>\n",
       "      <td>0.921606</td>\n",
       "    </tr>\n",
       "  </tbody>\n",
       "</table>\n",
       "</div>"
      ],
      "text/plain": [
       "                      0             1  accuracy\n",
       "precision      0.942915      0.850206  0.921606\n",
       "recall         0.954735      0.816343  0.921606\n",
       "f1-score       0.948788      0.832930  0.921606\n",
       "support    60311.000000  18981.000000  0.921606"
      ]
     },
     "execution_count": 45,
     "metadata": {},
     "output_type": "execute_result"
    }
   ],
   "source": [
    "enn_report = classification_report(y_enn,enn_train_pred,output_dict=True)\n",
    "enn_report = pd.DataFrame(enn_report).iloc[:,0:3]\n",
    "enn_report"
   ]
  },
  {
   "cell_type": "markdown",
   "metadata": {},
   "source": [
    "#### calculate ROC AUC"
   ]
  },
  {
   "cell_type": "code",
   "execution_count": 83,
   "metadata": {},
   "outputs": [
    {
     "name": "stdout",
     "output_type": "stream",
     "text": [
      "Training AUC: 0.7811875601429572\n"
     ]
    }
   ],
   "source": [
    "# Calculate the probability scores of each point in the training set\n",
    "y_enn_score  = logreg_nm.decision_function(X_enn)\n",
    "# Calculate the fpr, tpr, and thresholds for the training set\n",
    "enn_fpr , enn_tpr, enn_thresholds = roc_curve(y_enn, y_enn_score )\n",
    "enn_auc = auc(enn_fpr, enn_tpr)\n",
    "print('Training AUC: {}'.format(enn_auc))"
   ]
  },
  {
   "cell_type": "markdown",
   "metadata": {},
   "source": [
    "### SMOTETomek"
   ]
  },
  {
   "cell_type": "markdown",
   "metadata": {},
   "source": [
    "#### resample the data"
   ]
  },
  {
   "cell_type": "code",
   "execution_count": 26,
   "metadata": {},
   "outputs": [
    {
     "name": "stdout",
     "output_type": "stream",
     "text": [
      "Original dataset weights: 0    0.817322\n",
      "1    0.182678\n",
      "Name: disloyal Customer, dtype: float64\n",
      "Original dataset size: 103904\n",
      "\n",
      "Resample dataset weights 1    0.501296\n",
      "0    0.498704\n",
      "Name: disloyal Customer, dtype: float64\n",
      "Resample dataset size: 169407\n"
     ]
    }
   ],
   "source": [
    "from imblearn.combine import SMOTETomek\n",
    "SMOTek = SMOTETomek(sampling_strategy='all',smote=smote,tomek=tl,n_jobs=3)\n",
    "X_smotek, y_smotek = SMOTek.fit_resample(X_train,y_train)\n",
    "\n",
    "print('Original dataset weights:', y_train.value_counts(normalize=True))\n",
    "print('Original dataset size:',len(y_train))\n",
    "print('\\nResample dataset weights', y_smotek.value_counts(normalize=True))\n",
    "print('Resample dataset size:', len(y_smotek))"
   ]
  },
  {
   "cell_type": "markdown",
   "metadata": {},
   "source": [
    "#### fit estimator"
   ]
  },
  {
   "cell_type": "code",
   "execution_count": 27,
   "metadata": {},
   "outputs": [
    {
     "name": "stdout",
     "output_type": "stream",
     "text": [
      "0.9097072061431886\n"
     ]
    }
   ],
   "source": [
    "logreg_SMOTek = LogisticRegression(solver='liblinear')\n",
    "logreg_SMOTek.fit(X_smotek,y_smotek)\n",
    "\n",
    "smotek_train_pred = cross_val_predict(logreg_SMOTek,X_smotek,y_smotek,n_jobs=3)\n",
    "\n",
    "smotek_train_score = cross_val_score(logreg_SMOTek,X_smotek,y_smotek,n_jobs=3,scoring='f1')\n",
    "print(smotek_train_score.mean())"
   ]
  },
  {
   "cell_type": "markdown",
   "metadata": {},
   "source": [
    "#### plot confusion matrix"
   ]
  },
  {
   "cell_type": "code",
   "execution_count": 28,
   "metadata": {},
   "outputs": [
    {
     "data": {
      "image/png": "[encoded data removed]",
      "text/plain": [
       "<Figure size 432x288 with 2 Axes>"
      ]
     },
     "metadata": {},
     "output_type": "display_data"
    }
   ],
   "source": [
    "plot_confusion_matrix(logreg_SMOTek,X_smotek,y_smotek,normalize='true')\n",
    "plt.show()"
   ]
  },
  {
   "cell_type": "markdown",
   "metadata": {},
   "source": [
    "#### print classification report"
   ]
  },
  {
   "cell_type": "code",
   "execution_count": 29,
   "metadata": {},
   "outputs": [
    {
     "data": {
      "text/html": [
       "<div>\n",
       "<style scoped>\n",
       "    .dataframe tbody tr th:only-of-type {\n",
       "        vertical-align: middle;\n",
       "    }\n",
       "\n",
       "    .dataframe tbody tr th {\n",
       "        vertical-align: top;\n",
       "    }\n",
       "\n",
       "    .dataframe thead th {\n",
       "        text-align: right;\n",
       "    }\n",
       "</style>\n",
       "<table border=\"1\" class=\"dataframe\">\n",
       "  <thead>\n",
       "    <tr style=\"text-align: right;\">\n",
       "      <th></th>\n",
       "      <th>0</th>\n",
       "      <th>1</th>\n",
       "      <th>accuracy</th>\n",
       "    </tr>\n",
       "  </thead>\n",
       "  <tbody>\n",
       "    <tr>\n",
       "      <th>precision</th>\n",
       "      <td>0.876349</td>\n",
       "      <td>0.865908</td>\n",
       "      <td>0.871055</td>\n",
       "    </tr>\n",
       "    <tr>\n",
       "      <th>recall</th>\n",
       "      <td>0.864022</td>\n",
       "      <td>0.878089</td>\n",
       "      <td>0.871055</td>\n",
       "    </tr>\n",
       "    <tr>\n",
       "      <th>f1-score</th>\n",
       "      <td>0.870142</td>\n",
       "      <td>0.871956</td>\n",
       "      <td>0.871055</td>\n",
       "    </tr>\n",
       "    <tr>\n",
       "      <th>support</th>\n",
       "      <td>18981.000000</td>\n",
       "      <td>18981.000000</td>\n",
       "      <td>0.871055</td>\n",
       "    </tr>\n",
       "  </tbody>\n",
       "</table>\n",
       "</div>"
      ],
      "text/plain": [
       "                      0             1  accuracy\n",
       "precision      0.876349      0.865908  0.871055\n",
       "recall         0.864022      0.878089  0.871055\n",
       "f1-score       0.870142      0.871956  0.871055\n",
       "support    18981.000000  18981.000000  0.871055"
      ]
     },
     "execution_count": 29,
     "metadata": {},
     "output_type": "execute_result"
    }
   ],
   "source": [
    "smotek_report = classification_report(y_nm,nm_train_pred,output_dict=True)\n",
    "smotek_report = pd.DataFrame(smotek_report).iloc[:,0:3]\n",
    "smotek_report"
   ]
  },
  {
   "cell_type": "markdown",
   "metadata": {},
   "source": [
    "#### calculate ROC AUC"
   ]
  },
  {
   "cell_type": "code",
   "execution_count": 84,
   "metadata": {},
   "outputs": [
    {
     "name": "stdout",
     "output_type": "stream",
     "text": [
      "Training AUC: 0.9648654510764577\n"
     ]
    }
   ],
   "source": [
    "# Calculate the probability scores of each point in the training set\n",
    "y_smotek_score  = logreg_SMOTek.decision_function(X_smotek)\n",
    "# Calculate the fpr, tpr, and thresholds for the training set\n",
    "smotek_fpr , smotek_tpr, smotek_thresholds = roc_curve(y_smotek, y_smotek_score )\n",
    "smotek_auc = auc(smotek_fpr, smotek_tpr)\n",
    "print('Training AUC: {}'.format(smotek_auc))"
   ]
  },
  {
   "cell_type": "markdown",
   "metadata": {},
   "source": [
    "### SMOTENN"
   ]
  },
  {
   "cell_type": "markdown",
   "metadata": {},
   "source": [
    "#### resmaple the data"
   ]
  },
  {
   "cell_type": "code",
   "execution_count": 48,
   "metadata": {},
   "outputs": [
    {
     "name": "stdout",
     "output_type": "stream",
     "text": [
      "Original dataset weights: 0    0.817322\n",
      "1    0.182678\n",
      "Name: disloyal Customer, dtype: float64\n",
      "Original dataset size: 103904\n",
      "\n",
      "Resample dataset weights 1    0.619081\n",
      "0    0.380919\n",
      "Name: disloyal Customer, dtype: float64\n",
      "Resample dataset size: 137176\n"
     ]
    }
   ],
   "source": [
    "from imblearn.combine import SMOTEENN\n",
    "SMN = SMOTEENN(sampling_strategy='all',smote=smote,enn=ENN,n_jobs=3)\n",
    "X_smn, y_smn = SMN.fit_resample(X_train,y_train)\n",
    "\n",
    "print('Original dataset weights:', y_train.value_counts(normalize=True))\n",
    "print('Original dataset size:',len(y_train))\n",
    "print('\\nResample dataset weights', y_smn.value_counts(normalize=True))\n",
    "print('Resample dataset size:', len(y_smn))"
   ]
  },
  {
   "cell_type": "markdown",
   "metadata": {},
   "source": [
    "#### fit estimator"
   ]
  },
  {
   "cell_type": "code",
   "execution_count": 49,
   "metadata": {},
   "outputs": [
    {
     "name": "stdout",
     "output_type": "stream",
     "text": [
      "0.9492787587784198\n"
     ]
    }
   ],
   "source": [
    "logreg_SMOTENN = LogisticRegression(solver='liblinear')\n",
    "logreg_SMOTENN.fit(X_smn,y_smn)\n",
    "\n",
    "smn_train_pred = cross_val_predict(logreg_SMOTENN,X_smn,y_smn,n_jobs=3)\n",
    "\n",
    "smn_train_score = cross_val_score(logreg_SMOTENN,X_smn,y_smn,n_jobs=3,scoring='f1')\n",
    "print(smn_train_score.mean())"
   ]
  },
  {
   "cell_type": "markdown",
   "metadata": {},
   "source": [
    "#### plot confusion matrix"
   ]
  },
  {
   "cell_type": "code",
   "execution_count": 50,
   "metadata": {},
   "outputs": [
    {
     "data": {
      "image/png": "[encoded data removed]",
      "text/plain": [
       "<Figure size 432x288 with 2 Axes>"
      ]
     },
     "metadata": {},
     "output_type": "display_data"
    }
   ],
   "source": [
    "plot_confusion_matrix(logreg_SMOTENN,X_smn,y_smn,normalize='true')\n",
    "plt.show()"
   ]
  },
  {
   "cell_type": "markdown",
   "metadata": {},
   "source": [
    "#### print classification report"
   ]
  },
  {
   "cell_type": "code",
   "execution_count": 51,
   "metadata": {},
   "outputs": [
    {
     "data": {
      "text/html": [
       "<div>\n",
       "<style scoped>\n",
       "    .dataframe tbody tr th:only-of-type {\n",
       "        vertical-align: middle;\n",
       "    }\n",
       "\n",
       "    .dataframe tbody tr th {\n",
       "        vertical-align: top;\n",
       "    }\n",
       "\n",
       "    .dataframe thead th {\n",
       "        text-align: right;\n",
       "    }\n",
       "</style>\n",
       "<table border=\"1\" class=\"dataframe\">\n",
       "  <thead>\n",
       "    <tr style=\"text-align: right;\">\n",
       "      <th></th>\n",
       "      <th>0</th>\n",
       "      <th>1</th>\n",
       "      <th>accuracy</th>\n",
       "    </tr>\n",
       "  </thead>\n",
       "  <tbody>\n",
       "    <tr>\n",
       "      <th>precision</th>\n",
       "      <td>0.927754</td>\n",
       "      <td>0.942906</td>\n",
       "      <td>0.93727</td>\n",
       "    </tr>\n",
       "    <tr>\n",
       "      <th>recall</th>\n",
       "      <td>0.905862</td>\n",
       "      <td>0.956596</td>\n",
       "      <td>0.93727</td>\n",
       "    </tr>\n",
       "    <tr>\n",
       "      <th>f1-score</th>\n",
       "      <td>0.916677</td>\n",
       "      <td>0.949702</td>\n",
       "      <td>0.93727</td>\n",
       "    </tr>\n",
       "    <tr>\n",
       "      <th>support</th>\n",
       "      <td>52253.000000</td>\n",
       "      <td>84923.000000</td>\n",
       "      <td>0.93727</td>\n",
       "    </tr>\n",
       "  </tbody>\n",
       "</table>\n",
       "</div>"
      ],
      "text/plain": [
       "                      0             1  accuracy\n",
       "precision      0.927754      0.942906   0.93727\n",
       "recall         0.905862      0.956596   0.93727\n",
       "f1-score       0.916677      0.949702   0.93727\n",
       "support    52253.000000  84923.000000   0.93727"
      ]
     },
     "execution_count": 51,
     "metadata": {},
     "output_type": "execute_result"
    }
   ],
   "source": [
    "SMOTENN_report = classification_report(y_smn,smn_train_pred,output_dict=True)\n",
    "SMOTENN_report = pd.DataFrame(SMOTENN_report).iloc[:,0:3]\n",
    "SMOTENN_report"
   ]
  },
  {
   "cell_type": "markdown",
   "metadata": {},
   "source": [
    "#### calculate ROC AUC"
   ]
  },
  {
   "cell_type": "code",
   "execution_count": 85,
   "metadata": {},
   "outputs": [
    {
     "name": "stdout",
     "output_type": "stream",
     "text": [
      "Training AUC: 0.9807171138327844\n"
     ]
    }
   ],
   "source": [
    "# Calculate the probability scores of each point in the training set\n",
    "SMOTENN_score  = logreg_SMOTENN.decision_function(X_smn)\n",
    "# Calculate the fpr, tpr, and thresholds for the training set\n",
    "smotenn_fpr , smotenn_tpr, smotenn_thresholds = roc_curve(y_smn, SMOTENN_score)\n",
    "smotenn_auc = auc(smotenn_fpr, smotenn_tpr)\n",
    "print('Training AUC: {}'.format(smotenn_auc))"
   ]
  },
  {
   "cell_type": "markdown",
   "metadata": {},
   "source": [
    "## Validate sample method(s)\n",
    "- First tried SMOTENN because it had the highest F1, validation however had a ROC AUC of about .06, indicating the model is overfitting the data. \n",
    "- Next I am trying Near Miss because it only undersamples the majority and had a training F1 score between SMOTE and Edited Nearest Neighbors, the two methods used in SMOTENN. Not synthesizing new data, and only undersampling I expect will reduce overfitting. "
   ]
  },
  {
   "cell_type": "code",
   "execution_count": 47,
   "metadata": {},
   "outputs": [],
   "source": [
    "# load and clean validation set\n",
    "X_test, y_test = data_cleaner(\"../data/train.csv.zip\")"
   ]
  },
  {
   "cell_type": "markdown",
   "metadata": {},
   "source": [
    "### SMOTENN CV Test"
   ]
  },
  {
   "cell_type": "markdown",
   "metadata": {},
   "source": [
    "#### fit cross validated model"
   ]
  },
  {
   "cell_type": "code",
   "execution_count": 53,
   "metadata": {},
   "outputs": [
    {
     "data": {
      "text/plain": [
       "LogisticRegressionCV(n_jobs=3, solver='liblinear')"
      ]
     },
     "execution_count": 53,
     "metadata": {},
     "output_type": "execute_result"
    }
   ],
   "source": [
    "logreg_SMOTENN_CV = LogisticRegressionCV(solver='liblinear',n_jobs=3)\n",
    "logreg_SMOTENN_CV.fit(X_smn,y_smn)"
   ]
  },
  {
   "cell_type": "code",
   "execution_count": 123,
   "metadata": {},
   "outputs": [
    {
     "data": {
      "text/html": [
       "<div>\n",
       "<style scoped>\n",
       "    .dataframe tbody tr th:only-of-type {\n",
       "        vertical-align: middle;\n",
       "    }\n",
       "\n",
       "    .dataframe tbody tr th {\n",
       "        vertical-align: top;\n",
       "    }\n",
       "\n",
       "    .dataframe thead th {\n",
       "        text-align: right;\n",
       "    }\n",
       "</style>\n",
       "<table border=\"1\" class=\"dataframe\">\n",
       "  <thead>\n",
       "    <tr style=\"text-align: right;\">\n",
       "      <th></th>\n",
       "      <th>0</th>\n",
       "      <th>1</th>\n",
       "      <th>accuracy</th>\n",
       "    </tr>\n",
       "  </thead>\n",
       "  <tbody>\n",
       "    <tr>\n",
       "      <th>precision</th>\n",
       "      <td>0.979226</td>\n",
       "      <td>0.576816</td>\n",
       "      <td>0.862055</td>\n",
       "    </tr>\n",
       "    <tr>\n",
       "      <th>recall</th>\n",
       "      <td>0.849240</td>\n",
       "      <td>0.919393</td>\n",
       "      <td>0.862055</td>\n",
       "    </tr>\n",
       "    <tr>\n",
       "      <th>f1-score</th>\n",
       "      <td>0.909613</td>\n",
       "      <td>0.708886</td>\n",
       "      <td>0.862055</td>\n",
       "    </tr>\n",
       "    <tr>\n",
       "      <th>support</th>\n",
       "      <td>84923.000000</td>\n",
       "      <td>18981.000000</td>\n",
       "      <td>0.862055</td>\n",
       "    </tr>\n",
       "  </tbody>\n",
       "</table>\n",
       "</div>"
      ],
      "text/plain": [
       "                      0             1  accuracy\n",
       "precision      0.979226      0.576816  0.862055\n",
       "recall         0.849240      0.919393  0.862055\n",
       "f1-score       0.909613      0.708886  0.862055\n",
       "support    84923.000000  18981.000000  0.862055"
      ]
     },
     "execution_count": 123,
     "metadata": {},
     "output_type": "execute_result"
    }
   ],
   "source": [
    "smn_test_pred = logreg_SMOTENN_CV.predict(X_test)\n",
    "smn_test_report = classification_report(y_test,smn_test_pred,output_dict=True)\n",
    "SMOTENN_CV_report = pd.DataFrame(smn_test_report).iloc[:,0:3]\n",
    "SMOTENN_CV_report"
   ]
  },
  {
   "cell_type": "markdown",
   "metadata": {},
   "source": [
    "#### plot confusion matrix"
   ]
  },
  {
   "cell_type": "code",
   "execution_count": 124,
   "metadata": {},
   "outputs": [
    {
     "data": {
      "image/png": "[encoded data removed]",
      "text/plain": [
       "<Figure size 432x288 with 2 Axes>"
      ]
     },
     "metadata": {},
     "output_type": "display_data"
    }
   ],
   "source": [
    "# plot confusion matrix\n",
    "plot_confusion_matrix(logreg_SMOTENN_CV,X_test,y_test,normalize='true')\n",
    "plt.show()"
   ]
  },
  {
   "cell_type": "markdown",
   "metadata": {},
   "source": [
    "#### plot ROC AUC"
   ]
  },
  {
   "cell_type": "code",
   "execution_count": 125,
   "metadata": {},
   "outputs": [
    {
     "data": {
      "image/png": "[encoded data removed]",
      "text/plain": [
       "<Figure size 432x288 with 1 Axes>"
      ]
     },
     "metadata": {},
     "output_type": "display_data"
    }
   ],
   "source": [
    "from sklearn.metrics import plot_roc_curve\n",
    "plot_roc_curve(logreg_SMOTENN_CV,X_test,y_test)\n",
    "plt.show()"
   ]
  },
  {
   "cell_type": "code",
   "execution_count": 127,
   "metadata": {},
   "outputs": [
    {
     "name": "stdout",
     "output_type": "stream",
     "text": [
      "SMOTENN Test AUC: 0.9420496716226533\n"
     ]
    }
   ],
   "source": [
    "# Calculate the probability scores of each point in the training set\n",
    "SMOTENN_CV_score  = logreg_SMOTENN_CV.decision_function(X_test)\n",
    "# Calculate the fpr, tpr, and thresholds for the training set\n",
    "smotenn_cv_fpr , smotenn_cv_tpr, smotenn_cv_thresholds = roc_curve(y_test, SMOTENN_CV_score)\n",
    "smotenn_cv_auc = auc(smotenn_cv_fpr, smotenn_cv_tpr)\n",
    "print('SMOTENN Test AUC: {}'.format(smotenn_cv_auc))"
   ]
  },
  {
   "cell_type": "markdown",
   "metadata": {},
   "source": [
    "### Near Miss CV Test"
   ]
  },
  {
   "cell_type": "markdown",
   "metadata": {},
   "source": [
    "#### fit cross validated model"
   ]
  },
  {
   "cell_type": "code",
   "execution_count": 132,
   "metadata": {},
   "outputs": [
    {
     "data": {
      "text/html": [
       "<div>\n",
       "<style scoped>\n",
       "    .dataframe tbody tr th:only-of-type {\n",
       "        vertical-align: middle;\n",
       "    }\n",
       "\n",
       "    .dataframe tbody tr th {\n",
       "        vertical-align: top;\n",
       "    }\n",
       "\n",
       "    .dataframe thead th {\n",
       "        text-align: right;\n",
       "    }\n",
       "</style>\n",
       "<table border=\"1\" class=\"dataframe\">\n",
       "  <thead>\n",
       "    <tr style=\"text-align: right;\">\n",
       "      <th></th>\n",
       "      <th>0</th>\n",
       "      <th>1</th>\n",
       "      <th>accuracy</th>\n",
       "    </tr>\n",
       "  </thead>\n",
       "  <tbody>\n",
       "    <tr>\n",
       "      <th>precision</th>\n",
       "      <td>0.965475</td>\n",
       "      <td>0.354056</td>\n",
       "      <td>0.681985</td>\n",
       "    </tr>\n",
       "    <tr>\n",
       "      <th>recall</th>\n",
       "      <td>0.633562</td>\n",
       "      <td>0.898635</td>\n",
       "      <td>0.681985</td>\n",
       "    </tr>\n",
       "    <tr>\n",
       "      <th>f1-score</th>\n",
       "      <td>0.765071</td>\n",
       "      <td>0.507974</td>\n",
       "      <td>0.681985</td>\n",
       "    </tr>\n",
       "    <tr>\n",
       "      <th>support</th>\n",
       "      <td>84923.000000</td>\n",
       "      <td>18981.000000</td>\n",
       "      <td>0.681985</td>\n",
       "    </tr>\n",
       "  </tbody>\n",
       "</table>\n",
       "</div>"
      ],
      "text/plain": [
       "                      0             1  accuracy\n",
       "precision      0.965475      0.354056  0.681985\n",
       "recall         0.633562      0.898635  0.681985\n",
       "f1-score       0.765071      0.507974  0.681985\n",
       "support    84923.000000  18981.000000  0.681985"
      ]
     },
     "execution_count": 132,
     "metadata": {},
     "output_type": "execute_result"
    }
   ],
   "source": [
    "logreg_nm_cv = LogisticRegressionCV(solver='liblinear',n_jobs=3)\n",
    "logreg_nm_cv.fit(X_nm,y_nm)\n",
    "\n",
    "nm_test_pred = logreg_nm_cv.predict(X_test)\n",
    "nm_test_report = classification_report(y_test,nm_test_pred,output_dict=True)\n",
    "nm_test_report = pd.DataFrame(nm_test_report).iloc[:,0:3]\n",
    "nm_test_report"
   ]
  },
  {
   "cell_type": "markdown",
   "metadata": {},
   "source": [
    "#### plot confusion matrix"
   ]
  },
  {
   "cell_type": "code",
   "execution_count": 133,
   "metadata": {},
   "outputs": [
    {
     "data": {
      "image/png": "[encoded data removed]",
      "text/plain": [
       "<Figure size 432x288 with 2 Axes>"
      ]
     },
     "metadata": {},
     "output_type": "display_data"
    }
   ],
   "source": [
    "plot_confusion_matrix(logreg_nm_cv,X_test,y_test,normalize='true')\n",
    "plt.show()"
   ]
  },
  {
   "cell_type": "markdown",
   "metadata": {},
   "source": [
    "#### plot ROC AUC"
   ]
  },
  {
   "cell_type": "code",
   "execution_count": 134,
   "metadata": {},
   "outputs": [
    {
     "data": {
      "image/png": "[encoded data removed]",
      "text/plain": [
       "<Figure size 432x288 with 1 Axes>"
      ]
     },
     "metadata": {},
     "output_type": "display_data"
    }
   ],
   "source": [
    "plot_roc_curve(logreg_nm_cv,X_test,y_test)\n",
    "plt.show()"
   ]
  },
  {
   "cell_type": "code",
   "execution_count": 139,
   "metadata": {},
   "outputs": [
    {
     "name": "stdout",
     "output_type": "stream",
     "text": [
      "SMOTENN Test AUC: 0.7630068283211038\n"
     ]
    }
   ],
   "source": [
    "# Calculate the probability scores of each point in the training set\n",
    "nm_cv_score  = logreg_nm_cv.decision_function(X_test)\n",
    "# Calculate the fpr, tpr, and thresholds for the training set\n",
    "nm_cv_fpr , nm_cv_tpr, nm_cv_thresholds = roc_curve(y_test, nm_cv_score)\n",
    "nm_cv_auc = auc(nm_cv_fpr, nm_cv_tpr)\n",
    "print('Near Miss Test AUC: {}'.format(nm_cv_auc))"
   ]
  },
  {
   "cell_type": "markdown",
   "metadata": {},
   "source": [
    "## Visualize F1, ROC AUC iterative performance"
   ]
  },
  {
   "cell_type": "code",
   "execution_count": 136,
   "metadata": {},
   "outputs": [
    {
     "data": {
      "text/plain": [
       "0.791973825395412"
      ]
     },
     "execution_count": 136,
     "metadata": {},
     "output_type": "execute_result"
    }
   ],
   "source": [
    "f1_scores = [\n",
    "    baseline_report.iloc[2,1],\n",
    "    smote_report.iloc[2,1],\n",
    "    tomek_report.iloc[2,1],\n",
    "    nm_report.iloc[2,1],\n",
    "    enn_report.iloc[2,1],\n",
    "    smotek_report.iloc[2,1],\n",
    "    SMOTENN_report.iloc[2,1],\n",
    "    SMOTENN_CV_report.iloc[2,1],\n",
    "    nm_test_report.iloc[2,1]\n",
    "]\n",
    "np.mean(f1_scores)"
   ]
  },
  {
   "cell_type": "code",
   "execution_count": 138,
   "metadata": {},
   "outputs": [
    {
     "data": {
      "image/png": "[encoded data removed]",
      "text/plain": [
       "<Figure size 720x576 with 1 Axes>"
      ]
     },
     "metadata": {},
     "output_type": "display_data"
    }
   ],
   "source": [
    "plt.figure(figsize=(10,8))\n",
    "x = ['baseline','SMOTE','Tomek Links','Near Miss','ENN','SMOTETomek','SMOTENN','SMOTENN Test','Near Miss Test']\n",
    "y = f1_scores\n",
    "plt.plot(x,y)\n",
    "plt.ylabel('F1 Score')\n",
    "plt.xlabel('Resample Method')\n",
    "plt.show()"
   ]
  },
  {
   "cell_type": "code",
   "execution_count": 140,
   "metadata": {},
   "outputs": [
    {
     "data": {
      "text/plain": [
       "0.8953011891933345"
      ]
     },
     "execution_count": 140,
     "metadata": {},
     "output_type": "execute_result"
    }
   ],
   "source": [
    "roc_auc_scores = [\n",
    "    baseline_auc,\n",
    "    smote_auc,\n",
    "    tl_auc,\n",
    "    nm_auc,\n",
    "    enn_auc,\n",
    "    smotek_auc,\n",
    "    smotenn_auc,\n",
    "    smotenn_cv_auc,\n",
    "    nm_cv_auc\n",
    "]\n",
    "np.mean(roc_auc_scores)"
   ]
  },
  {
   "cell_type": "markdown",
   "metadata": {},
   "source": [
    "#### plot ROC AUC curves"
   ]
  },
  {
   "cell_type": "code",
   "execution_count": 131,
   "metadata": {},
   "outputs": [
    {
     "name": "stdout",
     "output_type": "stream",
     "text": [
      "Baseline Model AUC: 0.9471988366981169\n",
      "SMOTE resample AUC: 0.964708301163559\n",
      "Tomek Links AUC: 0.9430969178470339\n",
      "Near Miss AUC: 0.9499228653368943\n",
      "Edited Nearest Neighbors AUC: 0.7811875601429572\n",
      "SMOTETomek AUC: 0.9648654510764577\n",
      "SMOTEENN AUC: 0.9807171138327844\n"
     ]
    },
    {
     "data": {
      "image/png": "[encoded data removed]",
      "text/plain": [
       "<Figure size 720x576 with 1 Axes>"
      ]
     },
     "metadata": {},
     "output_type": "display_data"
    }
   ],
   "source": [
    "plt.figure(figsize=(10,8))\n",
    "lw = 2\n",
    "\n",
    "print('Baseline Model AUC: {}'.format(baseline_auc))\n",
    "print('SMOTE resample AUC: {}'.format(smote_auc))\n",
    "\n",
    "plt.plot(train_fpr, train_tpr, color='darkorange',\n",
    "         lw=lw, label='Baseline model ROC curve')\n",
    "plt.plot(smote_fpr, smote_tpr, color='blue',\n",
    "         lw=lw, label='SMOTE ROC curve')\n",
    "\n",
    "\n",
    "print('Tomek Links AUC: {}'.format(tl_auc))\n",
    "print('Near Miss AUC: {}'.format(nm_auc))\n",
    "\n",
    "plt.plot(tl_fpr, tl_tpr, color='yellow',\n",
    "         lw=lw, label='Tomek Links ROC curve')\n",
    "plt.plot(nm_fpr, nm_tpr, color='gold',\n",
    "         lw=lw, label='Near Miss ROC curve')\n",
    "\n",
    "\n",
    "print('Edited Nearest Neighbors AUC: {}'.format(enn_auc))\n",
    "print('SMOTETomek AUC: {}'.format(smotek_auc))\n",
    "\n",
    "plt.plot(enn_fpr, enn_tpr, color='red',\n",
    "         lw=lw, label='Edited Nearest Neighbors ROC curve')\n",
    "plt.plot(smotek_fpr, smotek_tpr, color='purple',\n",
    "         lw=lw, label='SMOTETomek ROC curve')\n",
    "\n",
    "\n",
    "print('SMOTEENN AUC: {}'.format(smotenn_auc))\n",
    "plt.plot(smotenn_fpr, smotenn_tpr, color='darkblue',\n",
    "         lw=lw, label='SMOTEENN ROC curve')\n",
    "\n",
    "\n",
    "# Formatting\n",
    "plt.plot([0, 1], [0, 1], color='navy', lw=lw, linestyle='--')\n",
    "plt.xlim([0.0, 1.0])\n",
    "plt.ylim([0.0, 1.05])\n",
    "plt.yticks([i/20.0 for i in range(21)])\n",
    "plt.xticks([i/20.0 for i in range(21)])\n",
    "plt.xlabel('False Positive Rate')\n",
    "plt.ylabel('True Positive Rate')\n",
    "plt.title('Receiver operating characteristic (ROC) Curve')\n",
    "plt.legend(loc=\"lower right\")\n",
    "plt.show()"
   ]
  },
  {
   "cell_type": "code",
   "execution_count": 143,
   "metadata": {},
   "outputs": [
    {
     "name": "stdout",
     "output_type": "stream",
     "text": [
      "SMOTENN Test AUC: 0.7630068283211038\n",
      "Near Miss Test AUC: 0.7630068283211038\n"
     ]
    },
    {
     "data": {
      "image/png": "[encoded data removed]",
      "text/plain": [
       "<Figure size 720x576 with 1 Axes>"
      ]
     },
     "metadata": {},
     "output_type": "display_data"
    }
   ],
   "source": [
    "plt.figure(figsize=(10,8))\n",
    "lw = 2\n",
    "\n",
    "print('SMOTENN Test AUC: {}'.format(smotenn_cv_auc))\n",
    "print('Near Miss Test AUC: {}'.format(nm_cv_auc))\n",
    "\n",
    "plt.plot(smotenn_cv_fpr, smotenn_cv_tpr, color='lightblue',\n",
    "         lw=lw, label='SMOTENN Test ROC curve')\n",
    "plt.plot(nm_cv_fpr, nm_cv_tpr, color='gold',\n",
    "         lw=lw, label='Near Miss Test ROC curve')\n",
    "\n",
    "\n",
    "# Formatting\n",
    "plt.plot([0, 1], [0, 1], color='navy', lw=lw, linestyle='--')\n",
    "plt.xlim([0.0, 1.0])\n",
    "plt.ylim([0.0, 1.05])\n",
    "plt.yticks([i/20.0 for i in range(21)])\n",
    "plt.xticks([i/20.0 for i in range(21)])\n",
    "plt.xlabel('False Positive Rate')\n",
    "plt.ylabel('True Positive Rate')\n",
    "plt.title('Receiver operating characteristic (ROC) Curve')\n",
    "plt.legend(loc=\"lower right\")\n",
    "plt.show()"
   ]
  },
  {
   "cell_type": "markdown",
   "metadata": {},
   "source": [
    "## Final Observations"
   ]
  },
  {
   "cell_type": "markdown",
   "metadata": {},
   "source": []
  }
 ],
 "metadata": {
  "kernelspec": {
   "display_name": "Python 3.8.5 ('learn-env')",
   "language": "python",
   "name": "python3"
  },
  "language_info": {
   "codemirror_mode": {
    "name": "ipython",
    "version": 3
   },
   "file_extension": ".py",
   "mimetype": "text/x-python",
   "name": "python",
   "nbconvert_exporter": "python",
   "pygments_lexer": "ipython3",
   "version": "3.8.5"
  },
  "orig_nbformat": 4,
  "vscode": {
   "interpreter": {
    "hash": "8eb6b2671ae257969e1e6d572d1bfd2dc1c23f390a7081d26c146f9b82ef978d"
   }
  }
 },
 "nbformat": 4,
 "nbformat_minor": 2
}
