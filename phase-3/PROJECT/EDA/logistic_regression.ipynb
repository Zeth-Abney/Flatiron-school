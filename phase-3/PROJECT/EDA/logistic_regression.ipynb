{
 "cells": [
  {
   "cell_type": "markdown",
   "metadata": {},
   "source": [
    "# Logistic Regression Baseline Model Development\n",
    "The purpose of this notebook is to explore preprocessing techniques beyond the simple data cleaning formalized in the notebook \"EDA\" (!!!hyperlink this!!!). \n",
    "\n",
    "My main goal is to discover the best sampling method to address the class imbalance present in the target variable.\n",
    "\n",
    "I will also prototype various hyper parameter settings. "
   ]
  },
  {
   "cell_type": "code",
   "execution_count": 1,
   "metadata": {},
   "outputs": [],
   "source": [
    "from preprocessor import data_cleaner\n",
    "\n",
    "import pandas as pd\n",
    "import numpy as np\n",
    "\n",
    "from sklearn.linear_model import LogisticRegression,LogisticRegressionCV\n",
    "from sklearn.metrics import plot_confusion_matrix, classification_report\n",
    "from sklearn.model_selection import cross_val_score,cross_val_predict\n"
   ]
  },
  {
   "cell_type": "code",
   "execution_count": 2,
   "metadata": {},
   "outputs": [],
   "source": [
    "# import and define training data. See preprocessor.py file for details on data_cleaner()\n",
    "X_train, y_train = data_cleaner(\"../data/train.csv.zip\")"
   ]
  },
  {
   "cell_type": "code",
   "execution_count": 3,
   "metadata": {},
   "outputs": [
    {
     "name": "stdout",
     "output_type": "stream",
     "text": [
      "<class 'pandas.core.frame.DataFrame'>\n",
      "Int64Index: 103904 entries, 0 to 103903\n",
      "Data columns (total 23 columns):\n",
      " #   Column                             Non-Null Count   Dtype  \n",
      "---  ------                             --------------   -----  \n",
      " 0   Age                                103904 non-null  int64  \n",
      " 1   Flight Distance                    103904 non-null  int64  \n",
      " 2   Inflight wifi service              103904 non-null  int64  \n",
      " 3   Departure/Arrival time convenient  103904 non-null  int64  \n",
      " 4   Ease of Online booking             103904 non-null  int64  \n",
      " 5   Gate location                      103904 non-null  int64  \n",
      " 6   Food and drink                     103904 non-null  int64  \n",
      " 7   Online boarding                    103904 non-null  int64  \n",
      " 8   Seat comfort                       103904 non-null  int64  \n",
      " 9   Inflight entertainment             103904 non-null  int64  \n",
      " 10  On-board service                   103904 non-null  int64  \n",
      " 11  Leg room service                   103904 non-null  int64  \n",
      " 12  Baggage handling                   103904 non-null  int64  \n",
      " 13  Checkin service                    103904 non-null  int64  \n",
      " 14  Inflight service                   103904 non-null  int64  \n",
      " 15  Cleanliness                        103904 non-null  int64  \n",
      " 16  Departure Delay in Minutes         103904 non-null  int64  \n",
      " 17  Arrival Delay in Minutes           103904 non-null  float64\n",
      " 18  Gender_Male                        103904 non-null  uint8  \n",
      " 19  Type of Travel_Personal Travel     103904 non-null  uint8  \n",
      " 20  Class_Eco                          103904 non-null  uint8  \n",
      " 21  Class_Eco Plus                     103904 non-null  uint8  \n",
      " 22  satisfaction_satisfied             103904 non-null  uint8  \n",
      "dtypes: float64(1), int64(17), uint8(5)\n",
      "memory usage: 15.6 MB\n"
     ]
    }
   ],
   "source": [
    "X_train.info()"
   ]
  },
  {
   "cell_type": "markdown",
   "metadata": {},
   "source": [
    "## Develop baseline model"
   ]
  },
  {
   "cell_type": "code",
   "execution_count": 4,
   "metadata": {},
   "outputs": [],
   "source": [
    "import matplotlib.pyplot as plt\n",
    "import seaborn as sns\n",
    "%matplotlib inline\n",
    "\n",
    "from sklearn.model_selection import cross_val_predict,cross_val_score\n",
    "from sklearn.metrics import plot_confusion_matrix,confusion_matrix,classification_report, roc_curve,auc"
   ]
  },
  {
   "cell_type": "code",
   "execution_count": 5,
   "metadata": {},
   "outputs": [],
   "source": [
    "logreg = LogisticRegression(solver='liblinear')\n",
    "logreg.fit(X_train,y_train)\n",
    "\n",
    "y_train_pred = cross_val_predict(logreg,X_train,y_train)\n",
    "\n",
    "train_score = cross_val_score(logreg,X_train,y_train_pred,scoring='f1')"
   ]
  },
  {
   "cell_type": "code",
   "execution_count": 6,
   "metadata": {},
   "outputs": [
    {
     "data": {
      "text/plain": [
       "0.9848444640204921"
      ]
     },
     "execution_count": 6,
     "metadata": {},
     "output_type": "execute_result"
    }
   ],
   "source": [
    "train_score.mean()"
   ]
  },
  {
   "cell_type": "code",
   "execution_count": 7,
   "metadata": {},
   "outputs": [
    {
     "name": "stdout",
     "output_type": "stream",
     "text": [
      "              precision    recall  f1-score   support\n",
      "\n",
      "           0       0.93      0.95      0.94     84923\n",
      "           1       0.77      0.69      0.73     18981\n",
      "\n",
      "    accuracy                           0.91    103904\n",
      "   macro avg       0.85      0.82      0.83    103904\n",
      "weighted avg       0.90      0.91      0.90    103904\n",
      "\n"
     ]
    }
   ],
   "source": [
    "print(classification_report(y_train,y_train_pred))"
   ]
  },
  {
   "cell_type": "code",
   "execution_count": 8,
   "metadata": {},
   "outputs": [
    {
     "data": {
      "image/png": "[encoded data removed]",
      "text/plain": [
       "<Figure size 432x288 with 2 Axes>"
      ]
     },
     "metadata": {
      "needs_background": "light"
     },
     "output_type": "display_data"
    }
   ],
   "source": [
    "plot_confusion_matrix(logreg,X_train,y_train,normalize='true')\n",
    "plt.show()"
   ]
  },
  {
   "cell_type": "code",
   "execution_count": 9,
   "metadata": {},
   "outputs": [],
   "source": [
    "# Calculate the probability scores of each point in the training set\n",
    "y_train_score = logreg.decision_function(X_train)\n",
    "\n",
    "# Calculate the fpr, tpr, and thresholds for the training set\n",
    "train_fpr, train_tpr, thresholds = roc_curve(y_train, y_train_score)"
   ]
  },
  {
   "cell_type": "code",
   "execution_count": 10,
   "metadata": {},
   "outputs": [
    {
     "name": "stdout",
     "output_type": "stream",
     "text": [
      "Training AUC: 0.9471988366981169\n"
     ]
    },
    {
     "data": {
      "image/png": "[encoded data removed]",
      "text/plain": [
       "<Figure size 720x576 with 1 Axes>"
      ]
     },
     "metadata": {},
     "output_type": "display_data"
    }
   ],
   "source": [
    "# Seaborn's beautiful styling\n",
    "sns.set_style('darkgrid', {'axes.facecolor': '0.9'})\n",
    "\n",
    "# ROC curve for training set\n",
    "plt.figure(figsize=(10, 8))\n",
    "lw = 2\n",
    "plt.plot(train_fpr, train_tpr, color='darkorange',\n",
    "         lw=lw, label='ROC curve')\n",
    "plt.plot([0, 1], [0, 1], color='navy', lw=lw, linestyle='--')\n",
    "plt.xlim([0.0, 1.0])\n",
    "plt.ylim([0.0, 1.05])\n",
    "plt.yticks([i/20.0 for i in range(21)])\n",
    "plt.xticks([i/20.0 for i in range(21)])\n",
    "plt.xlabel('False Positive Rate')\n",
    "plt.ylabel('True Positive Rate')\n",
    "plt.title('Receiver operating characteristic (ROC) Curve for Training Set')\n",
    "plt.legend(loc='lower right')\n",
    "print('Training AUC: {}'.format(auc(train_fpr, train_tpr)))\n",
    "plt.show()"
   ]
  },
  {
   "cell_type": "markdown",
   "metadata": {},
   "source": [
    "## Prototype sampling methods\n",
    "- SMOTE (synthetic over sampling)\n",
    "- Tomek Links (under sampling against decision boundary)\n",
    "- Near Miss (distance based under sampling)\n",
    "- Edited Nearest Neighbors (under samplin against decision boundary)\n",
    "- SMOTETomek (SMOTE/Tomek Link ensemble)\n",
    "- SMOETENN (SMOTE/Edited Nearest Neighbors Ensemble)"
   ]
  },
  {
   "cell_type": "markdown",
   "metadata": {},
   "source": [
    "### SMOTE"
   ]
  },
  {
   "cell_type": "markdown",
   "metadata": {},
   "source": [
    "##### resample data"
   ]
  },
  {
   "cell_type": "code",
   "execution_count": 11,
   "metadata": {},
   "outputs": [
    {
     "name": "stdout",
     "output_type": "stream",
     "text": [
      "Original dataset weights: 0    0.817322\n",
      "1    0.182678\n",
      "Name: disloyal Customer, dtype: float64\n",
      "Original dataset size: 103904\n",
      "\n",
      "Resample dataset weights 1    0.5\n",
      "0    0.5\n",
      "Name: disloyal Customer, dtype: float64\n",
      "Resample dataset size: 169846\n"
     ]
    }
   ],
   "source": [
    "from imblearn.over_sampling import SMOTE\n",
    "smote = SMOTE()\n",
    "X_smote, y_smote = smote.fit_resample(X_train, y_train)\n",
    "\n",
    "print('Original dataset weights:', y_train.value_counts(normalize=True))\n",
    "print('Original dataset size:',len(y_train))\n",
    "print('\\nResample dataset weights', y_smote.value_counts(normalize=True))\n",
    "print('Resample dataset size:', len(y_smote))"
   ]
  },
  {
   "cell_type": "markdown",
   "metadata": {},
   "source": [
    "#### fit estimator"
   ]
  },
  {
   "cell_type": "code",
   "execution_count": 12,
   "metadata": {},
   "outputs": [
    {
     "name": "stdout",
     "output_type": "stream",
     "text": [
      "0.9871648588461615\n"
     ]
    }
   ],
   "source": [
    "logreg_smote = LogisticRegressionCV(solver='liblinear',n_jobs=3)\n",
    "logreg_smote.fit(X_smote,y_smote)\n",
    "\n",
    "smote_train_pred = cross_val_predict(logreg_smote,X_smote,y_smote,n_jobs=3)\n",
    "\n",
    "smote_train_score = cross_val_score(logreg_smote,X_smote,smote_train_pred,scoring='f1',n_jobs=3)\n",
    "print(smote_train_score.mean())"
   ]
  },
  {
   "cell_type": "markdown",
   "metadata": {},
   "source": [
    "#### plot confusion matrix"
   ]
  },
  {
   "cell_type": "code",
   "execution_count": 13,
   "metadata": {},
   "outputs": [
    {
     "data": {
      "image/png": "[encoded data removed]",
      "text/plain": [
       "<Figure size 432x288 with 2 Axes>"
      ]
     },
     "metadata": {},
     "output_type": "display_data"
    }
   ],
   "source": [
    "plot_confusion_matrix(logreg_smote,X_smote,y_smote,normalize='true')\n",
    "plt.show()"
   ]
  },
  {
   "cell_type": "markdown",
   "metadata": {},
   "source": [
    "#### print classification report"
   ]
  },
  {
   "cell_type": "code",
   "execution_count": 14,
   "metadata": {},
   "outputs": [
    {
     "data": {
      "text/html": [
       "<div>\n",
       "<style scoped>\n",
       "    .dataframe tbody tr th:only-of-type {\n",
       "        vertical-align: middle;\n",
       "    }\n",
       "\n",
       "    .dataframe tbody tr th {\n",
       "        vertical-align: top;\n",
       "    }\n",
       "\n",
       "    .dataframe thead th {\n",
       "        text-align: right;\n",
       "    }\n",
       "</style>\n",
       "<table border=\"1\" class=\"dataframe\">\n",
       "  <thead>\n",
       "    <tr style=\"text-align: right;\">\n",
       "      <th></th>\n",
       "      <th>0</th>\n",
       "      <th>1</th>\n",
       "      <th>accuracy</th>\n",
       "    </tr>\n",
       "  </thead>\n",
       "  <tbody>\n",
       "    <tr>\n",
       "      <th>precision</th>\n",
       "      <td>0.922345</td>\n",
       "      <td>0.895953</td>\n",
       "      <td>0.908723</td>\n",
       "    </tr>\n",
       "    <tr>\n",
       "      <th>recall</th>\n",
       "      <td>0.892597</td>\n",
       "      <td>0.924850</td>\n",
       "      <td>0.908723</td>\n",
       "    </tr>\n",
       "    <tr>\n",
       "      <th>f1-score</th>\n",
       "      <td>0.907227</td>\n",
       "      <td>0.910172</td>\n",
       "      <td>0.908723</td>\n",
       "    </tr>\n",
       "    <tr>\n",
       "      <th>support</th>\n",
       "      <td>84923.000000</td>\n",
       "      <td>84923.000000</td>\n",
       "      <td>0.908723</td>\n",
       "    </tr>\n",
       "  </tbody>\n",
       "</table>\n",
       "</div>"
      ],
      "text/plain": [
       "                      0             1  accuracy\n",
       "precision      0.922345      0.895953  0.908723\n",
       "recall         0.892597      0.924850  0.908723\n",
       "f1-score       0.907227      0.910172  0.908723\n",
       "support    84923.000000  84923.000000  0.908723"
      ]
     },
     "execution_count": 14,
     "metadata": {},
     "output_type": "execute_result"
    }
   ],
   "source": [
    "smote_report = classification_report(y_smote,smote_train_pred,output_dict=True)\n",
    "smote_report = pd.DataFrame(smote_report).iloc[:,0:3]\n",
    "smote_report"
   ]
  },
  {
   "cell_type": "markdown",
   "metadata": {},
   "source": [
    "#### calculate ROC AUC"
   ]
  },
  {
   "cell_type": "code",
   "execution_count": 15,
   "metadata": {},
   "outputs": [
    {
     "name": "stdout",
     "output_type": "stream",
     "text": [
      "Training AUC: 0.964708301163559\n"
     ]
    }
   ],
   "source": [
    "# Calculate the probability scores of each point in the training set\n",
    "y_smote_score = logreg_smote.decision_function(X_smote)\n",
    "# Calculate the fpr, tpr, and thresholds for the training set\n",
    "smote_fpr, smote_tpr, smote_thresholds = roc_curve(y_smote, y_smote_score)\n",
    "print('Training AUC: {}'.format(auc(smote_fpr, smote_tpr)))"
   ]
  },
  {
   "cell_type": "markdown",
   "metadata": {},
   "source": [
    "### Tomek Links"
   ]
  },
  {
   "cell_type": "markdown",
   "metadata": {},
   "source": [
    "#### resample data"
   ]
  },
  {
   "cell_type": "code",
   "execution_count": 16,
   "metadata": {},
   "outputs": [
    {
     "name": "stdout",
     "output_type": "stream",
     "text": [
      "Original dataset weights: 0    0.817322\n",
      "1    0.182678\n",
      "Name: disloyal Customer, dtype: float64\n",
      "Original dataset size: 103904\n",
      "\n",
      "Resample dataset weights 0    0.809029\n",
      "1    0.190971\n",
      "Name: disloyal Customer, dtype: float64\n",
      "Resample dataset size: 99392\n"
     ]
    }
   ],
   "source": [
    "from imblearn.under_sampling import TomekLinks\n",
    "tl = TomekLinks(sampling_strategy='majority')\n",
    "X_tl, y_tl = tl.fit_resample(X_train, y_train)\n",
    "\n",
    "print('Original dataset weights:', y_train.value_counts(normalize=True))\n",
    "print('Original dataset size:',len(y_train))\n",
    "print('\\nResample dataset weights', y_tl.value_counts(normalize=True))\n",
    "print('Resample dataset size:', len(y_tl))"
   ]
  },
  {
   "cell_type": "markdown",
   "metadata": {},
   "source": [
    "#### fit estimator"
   ]
  },
  {
   "cell_type": "code",
   "execution_count": 17,
   "metadata": {},
   "outputs": [
    {
     "name": "stdout",
     "output_type": "stream",
     "text": [
      "0.7469474086997104\n"
     ]
    }
   ],
   "source": [
    "logreg_tl = LogisticRegression(solver='liblinear')\n",
    "logreg_tl.fit(X_tl,y_tl)\n",
    "\n",
    "tl_train_pred = cross_val_predict(logreg_tl,X_tl,y_tl,n_jobs=3)\n",
    "\n",
    "tl_train_score = cross_val_score(logreg_tl,X_tl,y_tl,n_jobs=3,scoring='f1')\n",
    "print(tl_train_score.mean())"
   ]
  },
  {
   "cell_type": "markdown",
   "metadata": {},
   "source": [
    "#### plot confusion matrix"
   ]
  },
  {
   "cell_type": "code",
   "execution_count": 18,
   "metadata": {},
   "outputs": [
    {
     "data": {
      "image/png": "[encoded data removed]",
      "text/plain": [
       "<Figure size 432x288 with 2 Axes>"
      ]
     },
     "metadata": {},
     "output_type": "display_data"
    }
   ],
   "source": [
    "plot_confusion_matrix(logreg_tl,X_tl,y_tl,normalize='true')\n",
    "plt.show()"
   ]
  },
  {
   "cell_type": "markdown",
   "metadata": {},
   "source": [
    "#### print classification report"
   ]
  },
  {
   "cell_type": "code",
   "execution_count": 19,
   "metadata": {},
   "outputs": [
    {
     "data": {
      "text/html": [
       "<div>\n",
       "<style scoped>\n",
       "    .dataframe tbody tr th:only-of-type {\n",
       "        vertical-align: middle;\n",
       "    }\n",
       "\n",
       "    .dataframe tbody tr th {\n",
       "        vertical-align: top;\n",
       "    }\n",
       "\n",
       "    .dataframe thead th {\n",
       "        text-align: right;\n",
       "    }\n",
       "</style>\n",
       "<table border=\"1\" class=\"dataframe\">\n",
       "  <thead>\n",
       "    <tr style=\"text-align: right;\">\n",
       "      <th></th>\n",
       "      <th>0</th>\n",
       "      <th>1</th>\n",
       "      <th>accuracy</th>\n",
       "    </tr>\n",
       "  </thead>\n",
       "  <tbody>\n",
       "    <tr>\n",
       "      <th>precision</th>\n",
       "      <td>0.934277</td>\n",
       "      <td>0.780713</td>\n",
       "      <td>0.907377</td>\n",
       "    </tr>\n",
       "    <tr>\n",
       "      <th>recall</th>\n",
       "      <td>0.952519</td>\n",
       "      <td>0.716137</td>\n",
       "      <td>0.907377</td>\n",
       "    </tr>\n",
       "    <tr>\n",
       "      <th>f1-score</th>\n",
       "      <td>0.943310</td>\n",
       "      <td>0.747032</td>\n",
       "      <td>0.907377</td>\n",
       "    </tr>\n",
       "    <tr>\n",
       "      <th>support</th>\n",
       "      <td>80411.000000</td>\n",
       "      <td>18981.000000</td>\n",
       "      <td>0.907377</td>\n",
       "    </tr>\n",
       "  </tbody>\n",
       "</table>\n",
       "</div>"
      ],
      "text/plain": [
       "                      0             1  accuracy\n",
       "precision      0.934277      0.780713  0.907377\n",
       "recall         0.952519      0.716137  0.907377\n",
       "f1-score       0.943310      0.747032  0.907377\n",
       "support    80411.000000  18981.000000  0.907377"
      ]
     },
     "execution_count": 19,
     "metadata": {},
     "output_type": "execute_result"
    }
   ],
   "source": [
    "tomek_report = classification_report(y_tl,tl_train_pred,output_dict=True)\n",
    "tomek_report = pd.DataFrame(tomek_report).iloc[:,0:3]\n",
    "tomek_report"
   ]
  },
  {
   "cell_type": "markdown",
   "metadata": {},
   "source": [
    "#### calculate ROC AUC"
   ]
  },
  {
   "cell_type": "code",
   "execution_count": 20,
   "metadata": {},
   "outputs": [
    {
     "name": "stdout",
     "output_type": "stream",
     "text": [
      "Training AUC: 0.9430969178470339\n"
     ]
    }
   ],
   "source": [
    "# Calculate the probability scores of each point in the training set\n",
    "y_tomek_score = logreg_smote.decision_function(X_tl)\n",
    "# Calculate the fpr, tpr, and thresholds for the training set\n",
    "tl_fpr , tl_tpr, tomek_thresholds = roc_curve(y_tl, y_tomek_score)\n",
    "print('Training AUC: {}'.format(auc(tl_fpr, tl_tpr)))"
   ]
  },
  {
   "cell_type": "markdown",
   "metadata": {},
   "source": [
    "### Near Miss"
   ]
  },
  {
   "cell_type": "markdown",
   "metadata": {},
   "source": [
    "#### resample the data"
   ]
  },
  {
   "cell_type": "code",
   "execution_count": 21,
   "metadata": {},
   "outputs": [
    {
     "name": "stdout",
     "output_type": "stream",
     "text": [
      "Original dataset weights: 0    0.817322\n",
      "1    0.182678\n",
      "Name: disloyal Customer, dtype: float64\n",
      "Original dataset size: 103904\n",
      "\n",
      "Resample dataset weights 1    0.5\n",
      "0    0.5\n",
      "Name: disloyal Customer, dtype: float64\n",
      "Resample dataset size: 37962\n"
     ]
    }
   ],
   "source": [
    "from imblearn.under_sampling import NearMiss\n",
    "nm = NearMiss(sampling_strategy='all')\n",
    "X_nm, y_nm = nm.fit_resample(X_train,y_train)\n",
    "\n",
    "print('Original dataset weights:', y_train.value_counts(normalize=True))\n",
    "print('Original dataset size:',len(y_train))\n",
    "print('\\nResample dataset weights', y_nm.value_counts(normalize=True))\n",
    "print('Resample dataset size:', len(y_nm))"
   ]
  },
  {
   "cell_type": "markdown",
   "metadata": {},
   "source": [
    "#### fit estimator"
   ]
  },
  {
   "cell_type": "code",
   "execution_count": 22,
   "metadata": {},
   "outputs": [
    {
     "name": "stdout",
     "output_type": "stream",
     "text": [
      "0.8709056208353145\n"
     ]
    }
   ],
   "source": [
    "logreg_nm = LogisticRegressionCV(solver='liblinear',n_jobs=3)\n",
    "logreg_nm.fit(X_nm,y_nm)\n",
    "\n",
    "nm_train_pred = cross_val_predict(logreg_nm,X_nm,y_nm,n_jobs=3)\n",
    "\n",
    "nm_train_score = cross_val_score(logreg_nm,X_nm,y_nm,n_jobs=3,scoring='f1')\n",
    "print(nm_train_score.mean())"
   ]
  },
  {
   "cell_type": "markdown",
   "metadata": {},
   "source": [
    "#### plot confusion matrix"
   ]
  },
  {
   "cell_type": "code",
   "execution_count": 23,
   "metadata": {},
   "outputs": [
    {
     "data": {
      "image/png": "[encoded data removed]",
      "text/plain": [
       "<Figure size 432x288 with 2 Axes>"
      ]
     },
     "metadata": {},
     "output_type": "display_data"
    }
   ],
   "source": [
    "plot_confusion_matrix(logreg_nm,X_nm,y_nm,normalize='true')\n",
    "plt.show()"
   ]
  },
  {
   "cell_type": "markdown",
   "metadata": {},
   "source": [
    "#### print classification report"
   ]
  },
  {
   "cell_type": "code",
   "execution_count": 24,
   "metadata": {},
   "outputs": [
    {
     "data": {
      "text/html": [
       "<div>\n",
       "<style scoped>\n",
       "    .dataframe tbody tr th:only-of-type {\n",
       "        vertical-align: middle;\n",
       "    }\n",
       "\n",
       "    .dataframe tbody tr th {\n",
       "        vertical-align: top;\n",
       "    }\n",
       "\n",
       "    .dataframe thead th {\n",
       "        text-align: right;\n",
       "    }\n",
       "</style>\n",
       "<table border=\"1\" class=\"dataframe\">\n",
       "  <thead>\n",
       "    <tr style=\"text-align: right;\">\n",
       "      <th></th>\n",
       "      <th>0</th>\n",
       "      <th>1</th>\n",
       "      <th>accuracy</th>\n",
       "    </tr>\n",
       "  </thead>\n",
       "  <tbody>\n",
       "    <tr>\n",
       "      <th>precision</th>\n",
       "      <td>0.876349</td>\n",
       "      <td>0.865908</td>\n",
       "      <td>0.871055</td>\n",
       "    </tr>\n",
       "    <tr>\n",
       "      <th>recall</th>\n",
       "      <td>0.864022</td>\n",
       "      <td>0.878089</td>\n",
       "      <td>0.871055</td>\n",
       "    </tr>\n",
       "    <tr>\n",
       "      <th>f1-score</th>\n",
       "      <td>0.870142</td>\n",
       "      <td>0.871956</td>\n",
       "      <td>0.871055</td>\n",
       "    </tr>\n",
       "    <tr>\n",
       "      <th>support</th>\n",
       "      <td>18981.000000</td>\n",
       "      <td>18981.000000</td>\n",
       "      <td>0.871055</td>\n",
       "    </tr>\n",
       "  </tbody>\n",
       "</table>\n",
       "</div>"
      ],
      "text/plain": [
       "                      0             1  accuracy\n",
       "precision      0.876349      0.865908  0.871055\n",
       "recall         0.864022      0.878089  0.871055\n",
       "f1-score       0.870142      0.871956  0.871055\n",
       "support    18981.000000  18981.000000  0.871055"
      ]
     },
     "execution_count": 24,
     "metadata": {},
     "output_type": "execute_result"
    }
   ],
   "source": [
    "nm_report = classification_report(y_nm,nm_train_pred,output_dict=True)\n",
    "nm_report = pd.DataFrame(nm_report).iloc[:,0:3]\n",
    "nm_report"
   ]
  },
  {
   "cell_type": "markdown",
   "metadata": {},
   "source": [
    "#### calculate ROC AUC"
   ]
  },
  {
   "cell_type": "code",
   "execution_count": 25,
   "metadata": {},
   "outputs": [
    {
     "name": "stdout",
     "output_type": "stream",
     "text": [
      "Training AUC: 0.9499228653368943\n"
     ]
    }
   ],
   "source": [
    "# Calculate the probability scores of each point in the training set\n",
    "y_nm_score  = logreg_nm.decision_function(X_nm)\n",
    "# Calculate the fpr, tpr, and thresholds for the training set\n",
    "nm_fpr , nm_tpr, nm_thresholds = roc_curve(y_nm, y_nm_score )\n",
    "print('Training AUC: {}'.format(auc(nm_fpr, nm_tpr)))"
   ]
  },
  {
   "cell_type": "markdown",
   "metadata": {},
   "source": [
    "### Edited Nearest Neighbors"
   ]
  },
  {
   "cell_type": "markdown",
   "metadata": {},
   "source": [
    "#### resample the data"
   ]
  },
  {
   "cell_type": "code",
   "execution_count": 42,
   "metadata": {},
   "outputs": [
    {
     "name": "stdout",
     "output_type": "stream",
     "text": [
      "Original dataset weights: 0    0.817322\n",
      "1    0.182678\n",
      "Name: disloyal Customer, dtype: float64\n",
      "Original dataset size: 103904\n",
      "\n",
      "Resample dataset weights 0    0.760619\n",
      "1    0.239381\n",
      "Name: disloyal Customer, dtype: float64\n",
      "Resample dataset size: 79292\n"
     ]
    }
   ],
   "source": [
    "from imblearn.under_sampling import EditedNearestNeighbours\n",
    "ENN = EditedNearestNeighbours(sampling_strategy='majority')\n",
    "X_enn, y_enn = ENN.fit_resample(X_train,y_train)\n",
    "\n",
    "print('Original dataset weights:', y_train.value_counts(normalize=True))\n",
    "print('Original dataset size:',len(y_train))\n",
    "print('\\nResample dataset weights', y_enn.value_counts(normalize=True))\n",
    "print('Resample dataset size:', len(y_enn))"
   ]
  },
  {
   "cell_type": "markdown",
   "metadata": {},
   "source": [
    "#### fit estimator"
   ]
  },
  {
   "cell_type": "code",
   "execution_count": 43,
   "metadata": {},
   "outputs": [
    {
     "name": "stdout",
     "output_type": "stream",
     "text": [
      "0.8329351715136429\n"
     ]
    }
   ],
   "source": [
    "logreg_ENN = LogisticRegression(solver='liblinear')\n",
    "logreg_ENN.fit(X_enn,y_enn)\n",
    "\n",
    "enn_train_pred = cross_val_predict(logreg_ENN,X_enn,y_enn,n_jobs=3)\n",
    "\n",
    "enn_train_score = cross_val_score(logreg_ENN,X_enn,y_enn,n_jobs=3,scoring='f1')\n",
    "print(enn_train_score.mean())"
   ]
  },
  {
   "cell_type": "markdown",
   "metadata": {},
   "source": [
    "#### plot confusion matrix"
   ]
  },
  {
   "cell_type": "code",
   "execution_count": 44,
   "metadata": {},
   "outputs": [
    {
     "data": {
      "image/png": "[encoded data removed]",
      "text/plain": [
       "<Figure size 432x288 with 2 Axes>"
      ]
     },
     "metadata": {},
     "output_type": "display_data"
    }
   ],
   "source": [
    "plot_confusion_matrix(logreg_ENN,X_enn,y_enn,normalize='true')\n",
    "plt.show()"
   ]
  },
  {
   "cell_type": "markdown",
   "metadata": {},
   "source": [
    "#### print classification matrix"
   ]
  },
  {
   "cell_type": "code",
   "execution_count": 45,
   "metadata": {},
   "outputs": [
    {
     "data": {
      "text/html": [
       "<div>\n",
       "<style scoped>\n",
       "    .dataframe tbody tr th:only-of-type {\n",
       "        vertical-align: middle;\n",
       "    }\n",
       "\n",
       "    .dataframe tbody tr th {\n",
       "        vertical-align: top;\n",
       "    }\n",
       "\n",
       "    .dataframe thead th {\n",
       "        text-align: right;\n",
       "    }\n",
       "</style>\n",
       "<table border=\"1\" class=\"dataframe\">\n",
       "  <thead>\n",
       "    <tr style=\"text-align: right;\">\n",
       "      <th></th>\n",
       "      <th>0</th>\n",
       "      <th>1</th>\n",
       "      <th>accuracy</th>\n",
       "    </tr>\n",
       "  </thead>\n",
       "  <tbody>\n",
       "    <tr>\n",
       "      <th>precision</th>\n",
       "      <td>0.942915</td>\n",
       "      <td>0.850206</td>\n",
       "      <td>0.921606</td>\n",
       "    </tr>\n",
       "    <tr>\n",
       "      <th>recall</th>\n",
       "      <td>0.954735</td>\n",
       "      <td>0.816343</td>\n",
       "      <td>0.921606</td>\n",
       "    </tr>\n",
       "    <tr>\n",
       "      <th>f1-score</th>\n",
       "      <td>0.948788</td>\n",
       "      <td>0.832930</td>\n",
       "      <td>0.921606</td>\n",
       "    </tr>\n",
       "    <tr>\n",
       "      <th>support</th>\n",
       "      <td>60311.000000</td>\n",
       "      <td>18981.000000</td>\n",
       "      <td>0.921606</td>\n",
       "    </tr>\n",
       "  </tbody>\n",
       "</table>\n",
       "</div>"
      ],
      "text/plain": [
       "                      0             1  accuracy\n",
       "precision      0.942915      0.850206  0.921606\n",
       "recall         0.954735      0.816343  0.921606\n",
       "f1-score       0.948788      0.832930  0.921606\n",
       "support    60311.000000  18981.000000  0.921606"
      ]
     },
     "execution_count": 45,
     "metadata": {},
     "output_type": "execute_result"
    }
   ],
   "source": [
    "enn_report = classification_report(y_enn,enn_train_pred,output_dict=True)\n",
    "enn_report = pd.DataFrame(enn_report).iloc[:,0:3]\n",
    "enn_report"
   ]
  },
  {
   "cell_type": "markdown",
   "metadata": {},
   "source": [
    "#### calculate ROC AUC"
   ]
  },
  {
   "cell_type": "code",
   "execution_count": 46,
   "metadata": {},
   "outputs": [
    {
     "name": "stdout",
     "output_type": "stream",
     "text": [
      "Training AUC: 0.7811875601429572\n"
     ]
    }
   ],
   "source": [
    "# Calculate the probability scores of each point in the training set\n",
    "y_enn_score  = logreg_nm.decision_function(X_enn)\n",
    "# Calculate the fpr, tpr, and thresholds for the training set\n",
    "enn_fpr , enn_tpr, enn_thresholds = roc_curve(y_enn, y_enn_score )\n",
    "print('Training AUC: {}'.format(auc(enn_fpr, enn_tpr)))"
   ]
  },
  {
   "cell_type": "markdown",
   "metadata": {},
   "source": [
    "### SMOTETomek"
   ]
  },
  {
   "cell_type": "markdown",
   "metadata": {},
   "source": [
    "#### resample the data"
   ]
  },
  {
   "cell_type": "code",
   "execution_count": 26,
   "metadata": {},
   "outputs": [
    {
     "name": "stdout",
     "output_type": "stream",
     "text": [
      "Original dataset weights: 0    0.817322\n",
      "1    0.182678\n",
      "Name: disloyal Customer, dtype: float64\n",
      "Original dataset size: 103904\n",
      "\n",
      "Resample dataset weights 1    0.501296\n",
      "0    0.498704\n",
      "Name: disloyal Customer, dtype: float64\n",
      "Resample dataset size: 169407\n"
     ]
    }
   ],
   "source": [
    "from imblearn.combine import SMOTETomek\n",
    "SMOTek = SMOTETomek(sampling_strategy='all',smote=smote,tomek=tl,n_jobs=3)\n",
    "X_smotek, y_smotek = SMOTek.fit_resample(X_train,y_train)\n",
    "\n",
    "print('Original dataset weights:', y_train.value_counts(normalize=True))\n",
    "print('Original dataset size:',len(y_train))\n",
    "print('\\nResample dataset weights', y_smotek.value_counts(normalize=True))\n",
    "print('Resample dataset size:', len(y_smotek))"
   ]
  },
  {
   "cell_type": "markdown",
   "metadata": {},
   "source": [
    "#### fit estimator"
   ]
  },
  {
   "cell_type": "code",
   "execution_count": 27,
   "metadata": {},
   "outputs": [
    {
     "name": "stdout",
     "output_type": "stream",
     "text": [
      "0.9097072061431886\n"
     ]
    }
   ],
   "source": [
    "logreg_SMOTek = LogisticRegression(solver='liblinear')\n",
    "logreg_SMOTek.fit(X_smotek,y_smotek)\n",
    "\n",
    "smotek_train_pred = cross_val_predict(logreg_SMOTek,X_smotek,y_smotek,n_jobs=3)\n",
    "\n",
    "smotek_train_score = cross_val_score(logreg_SMOTek,X_smotek,y_smotek,n_jobs=3,scoring='f1')\n",
    "print(smotek_train_score.mean())"
   ]
  },
  {
   "cell_type": "markdown",
   "metadata": {},
   "source": [
    "#### plot confusion matrix"
   ]
  },
  {
   "cell_type": "code",
   "execution_count": 28,
   "metadata": {},
   "outputs": [
    {
     "data": {
      "image/png": "[encoded data removed]",
      "text/plain": [
       "<Figure size 432x288 with 2 Axes>"
      ]
     },
     "metadata": {},
     "output_type": "display_data"
    }
   ],
   "source": [
    "plot_confusion_matrix(logreg_SMOTek,X_smotek,y_smotek,normalize='true')\n",
    "plt.show()"
   ]
  },
  {
   "cell_type": "markdown",
   "metadata": {},
   "source": [
    "#### print classification report"
   ]
  },
  {
   "cell_type": "code",
   "execution_count": 29,
   "metadata": {},
   "outputs": [
    {
     "data": {
      "text/html": [
       "<div>\n",
       "<style scoped>\n",
       "    .dataframe tbody tr th:only-of-type {\n",
       "        vertical-align: middle;\n",
       "    }\n",
       "\n",
       "    .dataframe tbody tr th {\n",
       "        vertical-align: top;\n",
       "    }\n",
       "\n",
       "    .dataframe thead th {\n",
       "        text-align: right;\n",
       "    }\n",
       "</style>\n",
       "<table border=\"1\" class=\"dataframe\">\n",
       "  <thead>\n",
       "    <tr style=\"text-align: right;\">\n",
       "      <th></th>\n",
       "      <th>0</th>\n",
       "      <th>1</th>\n",
       "      <th>accuracy</th>\n",
       "    </tr>\n",
       "  </thead>\n",
       "  <tbody>\n",
       "    <tr>\n",
       "      <th>precision</th>\n",
       "      <td>0.876349</td>\n",
       "      <td>0.865908</td>\n",
       "      <td>0.871055</td>\n",
       "    </tr>\n",
       "    <tr>\n",
       "      <th>recall</th>\n",
       "      <td>0.864022</td>\n",
       "      <td>0.878089</td>\n",
       "      <td>0.871055</td>\n",
       "    </tr>\n",
       "    <tr>\n",
       "      <th>f1-score</th>\n",
       "      <td>0.870142</td>\n",
       "      <td>0.871956</td>\n",
       "      <td>0.871055</td>\n",
       "    </tr>\n",
       "    <tr>\n",
       "      <th>support</th>\n",
       "      <td>18981.000000</td>\n",
       "      <td>18981.000000</td>\n",
       "      <td>0.871055</td>\n",
       "    </tr>\n",
       "  </tbody>\n",
       "</table>\n",
       "</div>"
      ],
      "text/plain": [
       "                      0             1  accuracy\n",
       "precision      0.876349      0.865908  0.871055\n",
       "recall         0.864022      0.878089  0.871055\n",
       "f1-score       0.870142      0.871956  0.871055\n",
       "support    18981.000000  18981.000000  0.871055"
      ]
     },
     "execution_count": 29,
     "metadata": {},
     "output_type": "execute_result"
    }
   ],
   "source": [
    "smotek_report = classification_report(y_nm,nm_train_pred,output_dict=True)\n",
    "smotek_report = pd.DataFrame(smotek_report).iloc[:,0:3]\n",
    "smotek_report"
   ]
  },
  {
   "cell_type": "markdown",
   "metadata": {},
   "source": [
    "#### calculate ROC AUC"
   ]
  },
  {
   "cell_type": "code",
   "execution_count": 30,
   "metadata": {},
   "outputs": [
    {
     "name": "stdout",
     "output_type": "stream",
     "text": [
      "Training AUC: 0.9648654510764577\n"
     ]
    }
   ],
   "source": [
    "# Calculate the probability scores of each point in the training set\n",
    "y_smotek_score  = logreg_SMOTek.decision_function(X_smotek)\n",
    "# Calculate the fpr, tpr, and thresholds for the training set\n",
    "smotek_fpr , smotek_tpr, smotek_thresholds = roc_curve(y_smotek, y_smotek_score )\n",
    "print('Training AUC: {}'.format(auc(smotek_fpr, smotek_tpr)))"
   ]
  },
  {
   "cell_type": "markdown",
   "metadata": {},
   "source": [
    "### SMOTENN"
   ]
  },
  {
   "cell_type": "markdown",
   "metadata": {},
   "source": [
    "#### resmaple the data"
   ]
  },
  {
   "cell_type": "code",
   "execution_count": 31,
   "metadata": {},
   "outputs": [
    {
     "name": "stdout",
     "output_type": "stream",
     "text": [
      "Original dataset weights: 0    0.817322\n",
      "1    0.182678\n",
      "Name: disloyal Customer, dtype: float64\n",
      "Original dataset size: 103904\n",
      "\n",
      "Resample dataset weights 1    0.602699\n",
      "0    0.397301\n",
      "Name: disloyal Customer, dtype: float64\n",
      "Resample dataset size: 131608\n"
     ]
    }
   ],
   "source": [
    "from imblearn.combine import SMOTEENN\n",
    "SMN = SMOTEENN(sampling_strategy='all',smote=smote)\n",
    "X_smn, y_smn = SMN.fit_resample(X_train,y_train)\n",
    "\n",
    "print('Original dataset weights:', y_train.value_counts(normalize=True))\n",
    "print('Original dataset size:',len(y_train))\n",
    "print('\\nResample dataset weights', y_smn.value_counts(normalize=True))\n",
    "print('Resample dataset size:', len(y_smn))"
   ]
  },
  {
   "cell_type": "markdown",
   "metadata": {},
   "source": [
    "#### fit estimator"
   ]
  },
  {
   "cell_type": "code",
   "execution_count": 32,
   "metadata": {},
   "outputs": [
    {
     "name": "stdout",
     "output_type": "stream",
     "text": [
      "0.9519658319518236\n"
     ]
    }
   ],
   "source": [
    "logreg_SMOTENN = LogisticRegression(solver='liblinear')\n",
    "logreg_SMOTENN.fit(X_smn,y_smn)\n",
    "\n",
    "smn_train_pred = cross_val_predict(logreg_SMOTENN,X_smn,y_smn,n_jobs=3)\n",
    "\n",
    "smn_train_score = cross_val_score(logreg_SMOTENN,X_smn,y_smn,n_jobs=3,scoring='f1')\n",
    "print(smn_train_score.mean())"
   ]
  },
  {
   "cell_type": "markdown",
   "metadata": {},
   "source": [
    "#### plot confusion matrix"
   ]
  },
  {
   "cell_type": "code",
   "execution_count": 33,
   "metadata": {},
   "outputs": [
    {
     "data": {
      "image/png": "[encoded data removed]",
      "text/plain": [
       "<Figure size 432x288 with 2 Axes>"
      ]
     },
     "metadata": {},
     "output_type": "display_data"
    }
   ],
   "source": [
    "plot_confusion_matrix(logreg_SMOTENN,X_smn,y_smn,normalize='true')\n",
    "plt.show()"
   ]
  },
  {
   "cell_type": "markdown",
   "metadata": {},
   "source": [
    "#### print classification report"
   ]
  },
  {
   "cell_type": "code",
   "execution_count": 34,
   "metadata": {},
   "outputs": [
    {
     "data": {
      "text/html": [
       "<div>\n",
       "<style scoped>\n",
       "    .dataframe tbody tr th:only-of-type {\n",
       "        vertical-align: middle;\n",
       "    }\n",
       "\n",
       "    .dataframe tbody tr th {\n",
       "        vertical-align: top;\n",
       "    }\n",
       "\n",
       "    .dataframe thead th {\n",
       "        text-align: right;\n",
       "    }\n",
       "</style>\n",
       "<table border=\"1\" class=\"dataframe\">\n",
       "  <thead>\n",
       "    <tr style=\"text-align: right;\">\n",
       "      <th></th>\n",
       "      <th>0</th>\n",
       "      <th>1</th>\n",
       "      <th>accuracy</th>\n",
       "    </tr>\n",
       "  </thead>\n",
       "  <tbody>\n",
       "    <tr>\n",
       "      <th>precision</th>\n",
       "      <td>0.936053</td>\n",
       "      <td>0.946080</td>\n",
       "      <td>0.942177</td>\n",
       "    </tr>\n",
       "    <tr>\n",
       "      <th>recall</th>\n",
       "      <td>0.917113</td>\n",
       "      <td>0.958699</td>\n",
       "      <td>0.942177</td>\n",
       "    </tr>\n",
       "    <tr>\n",
       "      <th>f1-score</th>\n",
       "      <td>0.926486</td>\n",
       "      <td>0.952348</td>\n",
       "      <td>0.942177</td>\n",
       "    </tr>\n",
       "    <tr>\n",
       "      <th>support</th>\n",
       "      <td>52288.000000</td>\n",
       "      <td>79320.000000</td>\n",
       "      <td>0.942177</td>\n",
       "    </tr>\n",
       "  </tbody>\n",
       "</table>\n",
       "</div>"
      ],
      "text/plain": [
       "                      0             1  accuracy\n",
       "precision      0.936053      0.946080  0.942177\n",
       "recall         0.917113      0.958699  0.942177\n",
       "f1-score       0.926486      0.952348  0.942177\n",
       "support    52288.000000  79320.000000  0.942177"
      ]
     },
     "execution_count": 34,
     "metadata": {},
     "output_type": "execute_result"
    }
   ],
   "source": [
    "SMOTENN_report = classification_report(y_smn,smn_train_pred,output_dict=True)\n",
    "SMOTENN_report = pd.DataFrame(SMOTENN_report).iloc[:,0:3]\n",
    "SMOTENN_report"
   ]
  },
  {
   "cell_type": "markdown",
   "metadata": {},
   "source": [
    "#### calculate ROC AUC"
   ]
  },
  {
   "cell_type": "code",
   "execution_count": 35,
   "metadata": {},
   "outputs": [
    {
     "name": "stdout",
     "output_type": "stream",
     "text": [
      "Training AUC: 0.9837459830105778\n"
     ]
    }
   ],
   "source": [
    "# Calculate the probability scores of each point in the training set\n",
    "SMOTENN_score  = logreg_SMOTENN.decision_function(X_smn)\n",
    "# Calculate the fpr, tpr, and thresholds for the training set\n",
    "smotenn_fpr , smotenn_tpr, smotenn_thresholds = roc_curve(y_smn, SMOTENN_score)\n",
    "print('Training AUC: {}'.format(auc(smotenn_fpr, smotenn_tpr)))"
   ]
  },
  {
   "cell_type": "code",
   "execution_count": null,
   "metadata": {},
   "outputs": [],
   "source": []
  }
 ],
 "metadata": {
  "kernelspec": {
   "display_name": "Python 3.8.5 ('learn-env')",
   "language": "python",
   "name": "python3"
  },
  "language_info": {
   "codemirror_mode": {
    "name": "ipython",
    "version": 3
   },
   "file_extension": ".py",
   "mimetype": "text/x-python",
   "name": "python",
   "nbconvert_exporter": "python",
   "pygments_lexer": "ipython3",
   "version": "3.8.5"
  },
  "orig_nbformat": 4,
  "vscode": {
   "interpreter": {
    "hash": "8eb6b2671ae257969e1e6d572d1bfd2dc1c23f390a7081d26c146f9b82ef978d"
   }
  }
 },
 "nbformat": 4,
 "nbformat_minor": 2
}
