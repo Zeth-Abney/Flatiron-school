{
 "cells": [
  {
   "cell_type": "markdown",
   "metadata": {},
   "source": [
    "# Module 28 Topic Review - Proximity Based Classification"
   ]
  },
  {
   "cell_type": "markdown",
   "metadata": {},
   "source": [
    "## K-Nearest Neighbors (KNN)"
   ]
  },
  {
   "cell_type": "markdown",
   "metadata": {},
   "source": [
    "A classifiication algorithm that predicts a label for a given data point based on some statistics about the other *k* nearest data points. K can be is an arbitrary constant and can be tuned as a hyperparameter. \n",
    "\n",
    "<img src=\"images/best_k_fs.png\" width = 450>"
   ]
  },
  {
   "cell_type": "markdown",
   "metadata": {},
   "source": [
    "Extreme values for *K* can lead to poor model fitting.  \n",
    "- Where $K \\longrightarrow \\infty$, underfitting increases\n",
    "- Where $K \\longrightarrow 0$, overfitting increases\n",
    "\n",
    "<img src = 'images/fit_fs.png' width = 550>"
   ]
  },
  {
   "cell_type": "markdown",
   "metadata": {},
   "source": [
    "### KNN workflow"
   ]
  },
  {
   "cell_type": "markdown",
   "metadata": {},
   "source": [
    "1: Take a given data ***point***, and a given value for ***K***  \n",
    "\n",
    "2: Take the take the ***K*** *nearest points*  \n",
    "\n",
    "3: Predict a label for the ***point*** based on:  \n",
    "- The most common label in the predictors (classification)  \n",
    "- The mean label in the predictors (regression)  \n",
    "- Consider using weighted averages based on distance  \n",
    "\n",
    "4: Improve model performance by iterating over select hyperparameters by evaluating:  \n",
    "- Precision and accuracy  \n",
    "- Recall, F1 score  \n",
    "- Log loss  \n",
    "\n",
    "5: Select and analyze the final model  "
   ]
  },
  {
   "cell_type": "markdown",
   "metadata": {},
   "source": [
    "## Distance Metrics"
   ]
  },
  {
   "cell_type": "markdown",
   "metadata": {},
   "source": [
    "$\\Large d(x,y)= \\Bigg(\\sum_{i=1}^{n}\\bigg|x_{i}-y_{i}\\bigg|^c\\Bigg)^{1/c}$  \n",
    "\n",
    "***Manhatten distance | c=1***  \n",
    "\n",
    "***Euclidian distance | c=2***  \n",
    "\n",
    "***Minkowski distance | c=n+2***  \n",
    "- the zero vector (just a vector filled with zeros) will output a length of 0, \n",
    "- and every other vector must have a positive length \n"
   ]
  },
  {
   "cell_type": "markdown",
   "metadata": {},
   "source": [
    "\n"
   ]
  }
 ],
 "metadata": {
  "interpreter": {
   "hash": "8eb6b2671ae257969e1e6d572d1bfd2dc1c23f390a7081d26c146f9b82ef978d"
  },
  "kernelspec": {
   "display_name": "Python 3.8.5 ('learn-env')",
   "language": "python",
   "name": "python3"
  },
  "language_info": {
   "codemirror_mode": {
    "name": "ipython",
    "version": 3
   },
   "file_extension": ".py",
   "mimetype": "text/x-python",
   "name": "python",
   "nbconvert_exporter": "python",
   "pygments_lexer": "ipython3",
   "version": "3.8.5"
  },
  "orig_nbformat": 4
 },
 "nbformat": 4,
 "nbformat_minor": 2
}
