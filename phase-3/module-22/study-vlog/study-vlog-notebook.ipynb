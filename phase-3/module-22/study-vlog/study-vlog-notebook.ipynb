{
 "cells": [
  {
   "cell_type": "markdown",
   "metadata": {},
   "source": [
    "# Module 22 topic review"
   ]
  },
  {
   "cell_type": "markdown",
   "metadata": {},
   "source": [
    "## Overview\n",
    "- Data types (scalar, vector, matrix, tensor)\n",
    "- systems of equations (substitution, elimination)\n",
    "- matrix algebra (dot product, identity matrix, inverse)\n",
    "- linear regression (OLS, e, beta vector, (N)RMSE, Big O notation)"
   ]
  },
  {
   "cell_type": "markdown",
   "metadata": {},
   "source": [
    "### Systems of equations\n",
    "A \"linear system\" is two or more linear equations that share the same set of variables."
   ]
  },
  {
   "cell_type": "markdown",
   "metadata": {},
   "source": [
    "#### example problem:\n",
    "\n",
    "Jim has more money than Bob. If Jim gave Bob 20 dollars, they would have the same amount. If Bob gave Jim 22 dollars, however, Jim would then have twice as much as Bob. \n",
    "\n",
    "How much does each one actually have?\n",
    "\n",
    "> Let x be the amount of money that Jim has and y be the amount that Bob has "
   ]
  },
  {
   "cell_type": "markdown",
   "metadata": {},
   "source": [
    "```John has more money than bob```  \n",
    "> therefore x > y  \n",
    "\n",
    "```If Jim gave Bob 20 dollars, they would have the same amount.```  \n",
    "> Eq.A . . . x - 20 = y + 20  \n",
    "> Eq.B . . . x + 22 = 2(y - 22)  \n",
    "\n",
    "```Using elimination isolate x in Eq.A```  \n",
    "> find that x = y + 40 (let this be Eq.C) \n",
    "\n",
    "```Substitute x = y + 40 in Eq.B```\n",
    "> (y + 40) + 22 = 2(y - 22)  \n",
    "> (y / 2) + 20 + 11 = y - 22  \n",
    "> ( (y / 2) + 53  = y ) * 2  \n",
    ">  ***[ y = 106 ]*** i.e. Bob has $106       \n",
    "\n",
    "```Substitute y = 106 in Eq.C```  \n",
    "> x = 106 + 40  \n",
    "> ***[ x = 146 ]*** i.e. Jim has $146  "
   ]
  },
  {
   "cell_type": "markdown",
   "metadata": {},
   "source": [
    "### Matrix Algebra\n",
    "<img src=\"images/vector_types.png\" width = \"600\">"
   ]
  },
  {
   "cell_type": "markdown",
   "metadata": {},
   "source": [
    "#### Matrix operations"
   ]
  },
  {
   "cell_type": "markdown",
   "metadata": {},
   "source": [
    "`Hadamard product`: element-wise product of each indiviudual scalar\n",
    "- both arrays must have like dimensions\n",
    "- defined as . . . $C = A \\circ B$  \n",
    "- availbe in base Python simply as . . . *A * B*\n",
    "\n",
    "`Cross product`: results in a vector perpendicular to each vector being multiplied\n",
    "- not viable beyond 3 dimensions\n",
    "- defined as . . . $a \\times b = \\mid a \\mid  \\mid b \\mid \\sin(\\theta) n $\n",
    "- available in numpy with *np.cross(x,y)*\n",
    "\n",
    "`Dot product`: most commonly used, at least for solving systems of equations (matrix algebra)\n",
    "- **array A must have the same number of columns as array B has rows!**\n",
    "- defined as . . . $C_{i, j}= \\sum_k A_{i, k}B_{k, j}$\n",
    "- available in numpy with . . . *C = A.dot(B)*  \n",
    "\n",
    "`Transposition`: Convert a row -or set of row- vectors into column vector(s)\n",
    "- rotate the matrix right 90° clockwise\n",
    "- reverse the order of elements in each row (e.g. [a b c] becomes [c b a])\n",
    "- available in numpy with *array.T* or *np.transpose(array)*  \n",
    "\n",
    "> <img src=\"images/transpose.png\" width=300>\n"
   ]
  },
  {
   "cell_type": "markdown",
   "metadata": {},
   "source": [
    "#### Special matrices:  "
   ]
  },
  {
   "cell_type": "markdown",
   "metadata": {},
   "source": [
    "\n",
    "`The identity matrix`: essentially the matrix version of 1 (i.e. *1 * n = 1*)  \n",
    "- The identity matrix is a square matrix (m = n) in which all scalars along the major diagonal (top left to bottom right) are ones and all other elements are zeros\n",
    "- The identity matrix of $\\left[ {\\begin{array}{cc}1 & 2  \\\\3 & 4  \\\\\\end{array} } \\right]$ is $\\left[ {\\begin{array}{cc}1 & 0  \\\\0 & 1  \\\\\\end{array} } \\right]$\n",
    "- available in numpy with *np.identity(array)*\n",
    "- the dot product of any matrix and its corresponding identity matrix will be the matrix itself\n",
    "    - $ A \\cdot I = I \\cdot A = A $\n",
    "\n",
    "`The inverse matrix`: the inverse of a square matrix is $A^{-1}$\n",
    "- such that . . . $I = A \\cdot A^{-1}$\n",
    "- where $I$ is the identity matrix\n",
    "- achieves the same result that division *would* were it possible\n",
    "    > Imagine you want to share 10 apples with 2 people.  \n",
    "    > You can divide 10 by 2, or you can take the reciprocal of 2 (which is 0.5)  \n",
    "    > So the answer is: **10 × 0.5 = 5**  - which means they get 5 apples each.\n",
    "\n"
   ]
  },
  {
   "cell_type": "markdown",
   "metadata": {},
   "source": [
    "#### Solving linear equations"
   ]
  },
  {
   "cell_type": "markdown",
   "metadata": {},
   "source": [
    "`For a single linear equation:`  \n",
    "- $A$ is a matrix of coefficients, $X$ is an unknown variable and $B$ is the output (dot product)  \n",
    "    > $A \\cdot X = B$  \n",
    "- instead of dividing, multiply both sides by the inverse  \n",
    "    > $ A^{-1} \\cdot A \\cdot X = A^{-1} \\cdot B$  \n",
    "- substitute A<sup>-1</sup> for $I$  \n",
    "    > $I \\cdot X = A^{-1} \\cdot B$  \n",
    "- Now remove $I$ because a matrix multiplied by the identity matrix doesn't change anything.  \n",
    "    > $X = A^{-1} \\cdot B$  \n",
    "\n",
    "`For a system of linear equations`:  \n",
    "- Given equation A: $2a + b = 35$  \n",
    "- and equation B: $3a + 4b = 65$  \n",
    "- The matrix notation would be written as:  \n",
    "<img src=\"images/ab.png\" width=200>"
   ]
  },
  {
   "cell_type": "markdown",
   "metadata": {},
   "source": [
    "#### Example problem with Python"
   ]
  },
  {
   "cell_type": "markdown",
   "metadata": {},
   "source": [
    "\n",
    "A coffee shop is having a sale on coffee and tea. \n",
    "- On day 1, *29 bags of coffee* and *41 bags of tea* were sold, for a total of *$490 dollars*.\n",
    "    > $29c + 41t = 490$\n",
    "- On day 2, they sold *23 bags of coffee* and *41 bags of tea*, for which customers paid a total of *$448 dollars.*  \n",
    "    > $23c + 41t = 448$\n",
    "  \n",
    "***How much does each bag cost?***\n"
   ]
  },
  {
   "cell_type": "code",
   "execution_count": null,
   "metadata": {},
   "outputs": [],
   "source": [
    "import numpy as np\n",
    "\n",
    "# define matrix A to containt coefficients\n",
    "A = np.matrix([[29,41],[23,41]])\n",
    "# define matrix B to contain variables\n",
    "B = np.matrix([490,448])\n",
    "\n",
    "# find inverse of matrix A\n",
    "A_inv = np.linalg.inv(A)\n",
    "\n",
    "# transpose matrix B for the sake of the dot product rule\n",
    "B = B.T\n",
    "\n",
    "# calculate the dot product of A inverse and B transposed\n",
    "X = A_inv.dot(B)\n",
    "print(X)"
   ]
  },
  {
   "cell_type": "code",
   "execution_count": null,
   "metadata": {},
   "outputs": [],
   "source": [
    "# This can also be coded much more quickly with:\n",
    "x = np.linalg.solve(A,B)\n",
    "print(x)"
   ]
  },
  {
   "cell_type": "markdown",
   "metadata": {},
   "source": [
    "### Regression Analysis"
   ]
  },
  {
   "cell_type": "markdown",
   "metadata": {},
   "source": []
  }
 ],
 "metadata": {
  "interpreter": {
   "hash": "b62fc28397e0e4cb1e39255301c85bb1da6c7cffa12ea06e5c97e128b6556567"
  },
  "kernelspec": {
   "display_name": "Python 3.8.5 ('learn-env')",
   "language": "python",
   "name": "python3"
  },
  "language_info": {
   "codemirror_mode": {
    "name": "ipython",
    "version": 3
   },
   "file_extension": ".py",
   "mimetype": "text/x-python",
   "name": "python",
   "nbconvert_exporter": "python",
   "pygments_lexer": "ipython3",
   "version": "3.8.5"
  },
  "orig_nbformat": 4
 },
 "nbformat": 4,
 "nbformat_minor": 2
}
