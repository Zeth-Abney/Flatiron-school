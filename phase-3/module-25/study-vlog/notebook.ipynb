{
 "cells": [
  {
   "cell_type": "markdown",
   "metadata": {},
   "source": [
    "# Module 25 Topic Review\n",
    "- AI/ML hierarchy\n",
    "- Logistic regression\n",
    "- Maximum Liklihood Estimation"
   ]
  },
  {
   "cell_type": "markdown",
   "metadata": {},
   "source": [
    "## AI/ML Hierarchy"
   ]
  },
  {
   "cell_type": "markdown",
   "metadata": {},
   "source": [
    "- Artificial Intelligence is just one node in the hierarchy of computer science topics.\n",
    "- Machine Learning is simply one node in the hieararchy within AI.\n",
    "- ML can be broken down further into two major sub-categories: \n",
    "    - Supervised Learning\n",
    "    - Unsupervised Learning  \n",
    "\n",
    "    \n",
    "<img src='images/new_ml-hierarchy.png' width=500>"
   ]
  },
  {
   "cell_type": "markdown",
   "metadata": {},
   "source": [
    "Supervised ML:\n",
    "- requires labeled data; dependent on human input, must have *both* positive and negative examples.\n",
    "- contains two sub-categories: classification and regression\n",
    "- optimizes against the associated *loss function*"
   ]
  },
  {
   "cell_type": "markdown",
   "metadata": {},
   "source": [
    "## Logistic Regression"
   ]
  },
  {
   "cell_type": "markdown",
   "metadata": {},
   "source": [
    "A *hybrid* ML model that uses a sigmoid curve to predict the probability of an observation belonging to one label or the other of a binomial target vector space. \n",
    "  \n",
    "$\\Large \\frac{P(\\hat{y_0})}{P(\\hat{{y_1}})} = e^{\\hat \\beta_0+\\hat \\beta_1 x}$\n"
   ]
  },
  {
   "cell_type": "markdown",
   "metadata": {},
   "source": [
    "### Linear Regression"
   ]
  },
  {
   "cell_type": "markdown",
   "metadata": {},
   "source": [
    "<img src='images/linear_regression.png' width=500>"
   ]
  },
  {
   "cell_type": "markdown",
   "metadata": {},
   "source": [
    "### Binomial Data"
   ]
  },
  {
   "cell_type": "markdown",
   "metadata": {},
   "source": [
    "<img src='images/binary data.png' width=500>"
   ]
  },
  {
   "cell_type": "markdown",
   "metadata": {},
   "source": [
    "### The Sigmoid Curve "
   ]
  },
  {
   "cell_type": "markdown",
   "metadata": {},
   "source": [
    "<img src='images/logistic_regression.png' width=500>"
   ]
  },
  {
   "cell_type": "markdown",
   "metadata": {},
   "source": [
    "### Coding a sigmoid curve\n",
    "\n",
    "$S(x) = \\dfrac{1}{1+e^(-x)}$"
   ]
  },
  {
   "cell_type": "code",
   "execution_count": 6,
   "metadata": {},
   "outputs": [],
   "source": [
    "def sigmoid(x):\n",
    "    return (1/(1+np.e**(-x)))"
   ]
  },
  {
   "cell_type": "code",
   "execution_count": 7,
   "metadata": {},
   "outputs": [
    {
     "data": {
      "image/png": "[encoded data removed]",
      "text/plain": [
       "<Figure size 432x288 with 1 Axes>"
      ]
     },
     "metadata": {
      "needs_background": "light"
     },
     "output_type": "display_data"
    }
   ],
   "source": [
    "import matplotlib.pyplot as plt\n",
    "import numpy as np\n",
    "%matplotlib inline\n",
    "X = np.linspace(-20,20,10000)\n",
    "\n",
    "# Plot sigmoid\n",
    "plt.plot(sigmoid(X))\n",
    "plt.show()\n"
   ]
  },
  {
   "cell_type": "markdown",
   "metadata": {},
   "source": [
    "## Maximum Liklihood Estimation"
   ]
  },
  {
   "cell_type": "markdown",
   "metadata": {},
   "source": [
    "MLE finds the underlying parameters of a distribution to maximize the liklihood of the observations. \n",
    "$(\\beta_0,\\beta_1) = \\Pi_{i=1}^{n} \\pi_{i}^{y_i}(1-\\pi_i)^(n_i-y_i)$\n",
    "\n",
    "The maximum liklihood of a binomial sample is the observed frequency.  \n",
    "$\\Large P = \\frac{y}{n}$\n",
    "\n",
    "\n"
   ]
  },
  {
   "cell_type": "markdown",
   "metadata": {},
   "source": [
    "A model is simply reflective of the data fed into it, this can lead to algorithm/machine bias which has a littany of ethical concerns. "
   ]
  },
  {
   "cell_type": "markdown",
   "metadata": {},
   "source": []
  }
 ],
 "metadata": {
  "interpreter": {
   "hash": "8eb6b2671ae257969e1e6d572d1bfd2dc1c23f390a7081d26c146f9b82ef978d"
  },
  "kernelspec": {
   "display_name": "Python 3.8.5 ('learn-env')",
   "language": "python",
   "name": "python3"
  },
  "language_info": {
   "codemirror_mode": {
    "name": "ipython",
    "version": 3
   },
   "file_extension": ".py",
   "mimetype": "text/x-python",
   "name": "python",
   "nbconvert_exporter": "python",
   "pygments_lexer": "ipython3",
   "version": "3.8.5"
  },
  "orig_nbformat": 4
 },
 "nbformat": 4,
 "nbformat_minor": 2
}
