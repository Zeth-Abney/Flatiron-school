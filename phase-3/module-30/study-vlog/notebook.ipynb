{
 "cells": [
  {
   "cell_type": "markdown",
   "metadata": {},
   "source": [
    "# Module 30 Topic Review  \n",
    "## ML pipelines, grid-searching, and pickles!"
   ]
  },
  {
   "cell_type": "markdown",
   "metadata": {},
   "source": [
    "### Pipelines in SciKit-Learn"
   ]
  },
  {
   "cell_type": "markdown",
   "metadata": {},
   "source": [
    "Pipelines provide DRY way to write model development workflows in an easily repeatable, scalable, and readible format. \n",
    "\n",
    "```Python\n",
    "from sklearn.pipeline import Pipeline\n",
    "\n",
    "pipe = Pipeline([('mms', MinMaxScaler()),\n",
    "                 ('tree', DecisionTreeClassifier(random_state=123))])\n",
    "\n",
    "pipe.fit(X_train, y_train)\n",
    "\n",
    "```"
   ]
  },
  {
   "cell_type": "markdown",
   "metadata": {},
   "source": [
    "### Hyperparameter tuning with gridsearchCV"
   ]
  },
  {
   "cell_type": "markdown",
   "metadata": {},
   "source": [
    "Gridsearch provides a DRY format for iterating model production and discovering the best hyperparameter values for the pipeline.\n",
    "\n",
    "```Python\n",
    "\n",
    "grid = [{'tree__max_depth': [None, 2, 6, 10], \n",
    "         'tree__min_samples_split': [5, 10]}]\n",
    "\n",
    "\n",
    "gridsearch = GridSearchCV(estimator=pipe, \n",
    "                          param_grid=grid, \n",
    "                          scoring='accuracy', \n",
    "                          cv=5)\n",
    "\n",
    "gridsearch.fit(X_train, y_train)\n",
    "\n",
    "```"
   ]
  },
  {
   "cell_type": "markdown",
   "metadata": {},
   "source": [
    "### Deploying model objects with Pickle/joblib"
   ]
  },
  {
   "cell_type": "markdown",
   "metadata": {},
   "source": [
    "The pickle library provides a way to save python objects on disk (instead of in memory) so they can be saved and re-used later. \n",
    "\n",
    "```Python\n",
    "import pickle\n",
    "\n",
    "data_object = {'key':'value','key2':123}\n",
    "\n",
    "with open('data.pickle', 'wb') as f: # write the new file \n",
    "    pickle.dump(data_object, f) # dump the desired python object into the pickle file\n",
    "\n",
    "import pickle\n",
    "with open('data.pickle', 'rb') as f: # read an existing pickle file\n",
    "    data_object2 = pickle.load(f) # load the opened file and asign it to a variable. \n",
    "data_object2\n",
    "```"
   ]
  },
  {
   "cell_type": "markdown",
   "metadata": {},
   "source": [
    "#### use joblib for sklearn objects\n",
    "\n",
    "```Python\n",
    "import joblib\n",
    "\n",
    "with open('regression_model.pkl', 'wb') as f: # instantiate the new file\n",
    "    joblib.dump(model, f) # dump the model object into the file\n",
    "\n",
    "import joblib\n",
    "with open('regression_model.pkl', 'rb') as f: # read the pickle file\n",
    "    model2 = joblib.load(f) # load the pickle file into a variable\n",
    "    \n",
    "print(f\"Loaded model is y = {model2.coef_[0]}x + {model2.intercept_}\")\n",
    "\n",
    "\"Loaded model is y = 1.0x + 1.0\"\n",
    "\n",
    "model2.predict([[10], [11], [12]])\n",
    "\n",
    "array([11., 12., 13.])\n",
    "```"
   ]
  },
  {
   "cell_type": "markdown",
   "metadata": {},
   "source": []
  }
 ],
 "metadata": {
  "interpreter": {
   "hash": "8eb6b2671ae257969e1e6d572d1bfd2dc1c23f390a7081d26c146f9b82ef978d"
  },
  "kernelspec": {
   "display_name": "Python 3.8.5 ('learn-env')",
   "language": "python",
   "name": "python3"
  },
  "language_info": {
   "codemirror_mode": {
    "name": "ipython",
    "version": 3
   },
   "file_extension": ".py",
   "mimetype": "text/x-python",
   "name": "python",
   "nbconvert_exporter": "python",
   "pygments_lexer": "ipython3",
   "version": "3.8.5"
  },
  "orig_nbformat": 4
 },
 "nbformat": 4,
 "nbformat_minor": 2
}
