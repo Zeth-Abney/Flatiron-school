{
 "cells": [
  {
   "attachments": {},
   "cell_type": "markdown",
   "metadata": {},
   "source": [
    "# Project Overview\n",
    "This project aims to build a convolutional neural network that can classify images of coffee beans into one of four categories representing various stages of the roasting process: raw, light, medium, and dark. The model will take jpeg images of coffee beans as an input, analyze the image using convolutional layers, and make a prediction about the roast stage.\n",
    "\n",
    "This project is important to pursue because it demonstrates how artificial intelligence (AI) can be used to improve processes and outcomes in the coffee industry. By leveraging the power of machine learning, coffee roasters can achieve greater consistency in their roasts, which can lead to higher quality coffee and increased customer satisfaction. Additionally, this project is just the tip of the iceberg when it comes to the potential for innovation in the coffee industry utilizing AI technology. There are many other applications of machine learning in the coffee industry, such as predicting consumer preferences, optimizing supply chain logistics, and improving the efficiency of coffee farming. As such, this project represents an exciting opportunity to explore the possibilities of AI in the coffee industry and beyond.  \n",
    "\n",
    "The project can be broken down into the following steps:  \n",
    "- Collect a dataset of labeled images of coffee beans in the four roast level categories.    \n",
    "- Preprocess the images (resize, crop, normalize, etc.) to make them suitable for training the model.  \n",
    "- Iterate over various versions of network architecture, hyperparameters and training protocols.   \n",
    "- Evaluate the performance of each model version on a test dataset to determine accuracy and other key performance indicators (KPI)  \n",
    "- Deploy the model to a system that can accept jpeg images as input, classify them, and alert workers when the desired roast is achieved. "
   ]
  },
  {
   "attachments": {},
   "cell_type": "markdown",
   "metadata": {},
   "source": [
    "# Business Use Case\n",
    "\n",
    "This project has the potential to significantly improve the coffee roasting process in terms of quality control, labor efficiency, and profitability. By using a camera positioned above the roasting bin to periodically capture images and analyze the roast level of the beans, the system can help coffee roasters achieve greater consistency in their roasts. This can lead to higher quality coffee and increased customer satisfaction.  \n",
    "\n",
    "In addition, this system can help reduce waste by alerting workers when the beans are overcooked or undercooked, thereby minimizing the amount of coffee that must be discarded. This reduction in waste can have a significant impact on a roaster's bottom line, as it reduces the cost of materials and increases profitability.  \n",
    "\n",
    "Furthermore, this system can help workers be more productive by allowing them to focus on other tasks while the roasting process is underway. Since the system can monitor the roasting process and alert workers when the desired roast level is achieved, workers do not need to pay as close attention to each roasting bin. This can free up time and resources that can be directed towards other areas of the business, further increasing efficiency and profitability.\n",
    "Overall, this project represents a powerful tool for coffee roasters looking to improve their operations and achieve greater success in the highly competitive coffee industry. By utilizing AI technology to improve quality control, reduce waste, and increase labor efficiency, coffee roasters can deliver a better product to their customers and increase their bottom line."
   ]
  },
  {
   "attachments": {},
   "cell_type": "markdown",
   "metadata": {},
   "source": [
    "# Data Understanding  \n",
    "The dataset used in this project comes from kaggle.com and consists of 1200 training images and 400 test images. Each sample is equally distributed between the four classes, with 300 images per class in the training set and 100 images per class in the test set. All the images are of a single coffee bean and are of size 224x224 pixels. The dataset's class labels are (Dark, 0), (Green, 1), (Light, 2), and (Medium, 3). The images were captured using an iPhone 12 mini, which means that the images are of high quality and consistent.\n",
    "To further test the model and the dataset's limitations, I will also create a small validation dataset using our own iPhone 13 pro camera. This dataset will include images of both single coffee beans, like the training and test data, as well as images of multiple beans. By doing so, I hope to evaluate the model's performance in detecting the stage of the roasting process of both individual and multiple beans.\n",
    "Overall, I believe that this dataset provides a good representation of the different stages of coffee bean roasting, and I am confident that our model can successfully classify coffee bean images.\n"
   ]
  },
  {
   "cell_type": "code",
   "execution_count": 43,
   "metadata": {},
   "outputs": [],
   "source": [
    "# dependencies for data preprocessing\n",
    "import os\n",
    "from keras.preprocessing.image import ImageDataGenerator\n",
    "\n",
    "# dependencies for model compilation\n",
    "from tensorflow.keras.models import Sequential\n",
    "from tensorflow.keras.layers import Dense, Dropout, Activation, Flatten, Conv2D, MaxPooling2D\n",
    "\n",
    "from keras import layers\n",
    "from keras import models\n",
    "from keras import optimizers\n",
    "from keras.metrics import Recall\n",
    "from keras.regularizers import l2\n",
    "\n",
    "from keras.callbacks import ModelCheckpoint, EarlyStopping\n",
    "\n",
    "# dependencies for model diagnostics\n",
    "from sklearn.metrics import confusion_matrix, classification_report\n",
    "import project_toolkit as ptk\n",
    "\n",
    "import matplotlib.pyplot as plt\n",
    "import matplotlib.colors as colors\n",
    "%matplotlib inline\n",
    "\n",
    "import numpy as np\n",
    "import pandas as pd"
   ]
  },
  {
   "cell_type": "code",
   "execution_count": 11,
   "metadata": {},
   "outputs": [],
   "source": [
    "# file paths to data directories\n",
    "train_dir = \"data/train/\"\n",
    "test_dir = \"data/test/\""
   ]
  },
  {
   "cell_type": "code",
   "execution_count": 12,
   "metadata": {},
   "outputs": [
    {
     "data": {
      "text/html": [
       "<div>\n",
       "<style scoped>\n",
       "    .dataframe tbody tr th:only-of-type {\n",
       "        vertical-align: middle;\n",
       "    }\n",
       "\n",
       "    .dataframe tbody tr th {\n",
       "        vertical-align: top;\n",
       "    }\n",
       "\n",
       "    .dataframe thead th {\n",
       "        text-align: right;\n",
       "    }\n",
       "</style>\n",
       "<table border=\"1\" class=\"dataframe\">\n",
       "  <thead>\n",
       "    <tr style=\"text-align: right;\">\n",
       "      <th></th>\n",
       "      <th>Train Sample</th>\n",
       "      <th>Test Sample</th>\n",
       "    </tr>\n",
       "  </thead>\n",
       "  <tbody>\n",
       "    <tr>\n",
       "      <th>Green</th>\n",
       "      <td>300</td>\n",
       "      <td>100</td>\n",
       "    </tr>\n",
       "    <tr>\n",
       "      <th>Light</th>\n",
       "      <td>300</td>\n",
       "      <td>100</td>\n",
       "    </tr>\n",
       "    <tr>\n",
       "      <th>Medium</th>\n",
       "      <td>300</td>\n",
       "      <td>100</td>\n",
       "    </tr>\n",
       "    <tr>\n",
       "      <th>Dark</th>\n",
       "      <td>300</td>\n",
       "      <td>100</td>\n",
       "    </tr>\n",
       "  </tbody>\n",
       "</table>\n",
       "</div>"
      ],
      "text/plain": [
       "        Train Sample  Test Sample\n",
       "Green            300          100\n",
       "Light            300          100\n",
       "Medium           300          100\n",
       "Dark             300          100"
      ]
     },
     "execution_count": 12,
     "metadata": {},
     "output_type": "execute_result"
    }
   ],
   "source": [
    "\n",
    "# dictionary of volume of data per class per sample\n",
    "# len(os.listdir(train_dir+\"Dark\"))\n",
    "class_balance_dict = {\n",
    "    \"Train Sample\":[len(os.listdir(train_dir+\"A. Green\")),\n",
    "                    len(os.listdir(train_dir+\"B. Light\")),\n",
    "                    len(os.listdir(train_dir+\"C. Medium\")),\n",
    "                    len(os.listdir(train_dir+\"D. Dark\"))],\n",
    "    \"Test Sample\":[len(os.listdir(test_dir+\"A. Green\")),\n",
    "                   len(os.listdir(test_dir+\"B. Light\")),\n",
    "                   len(os.listdir(test_dir+\"C. Medium\")),\n",
    "                   len(os.listdir(test_dir+\"D. Dark\"))]\n",
    "                    }\n",
    "\n",
    "# # class balance dictionary as a dataframe with row index representing class and column index representing sample\n",
    "class_balance_df = pd.DataFrame(class_balance_dict,index=['Green','Light','Medium','Dark'])\n",
    "class_balance_df"
   ]
  },
  {
   "cell_type": "code",
   "execution_count": 13,
   "metadata": {},
   "outputs": [
    {
     "data": {
      "image/png": "[encoded data removed]",
      "text/plain": [
       "<Figure size 432x288 with 1 Axes>"
      ]
     },
     "metadata": {
      "needs_background": "light"
     },
     "output_type": "display_data"
    }
   ],
   "source": [
    "# Create colors\n",
    "cmap = plt.cm.copper\n",
    "color_indexes = [cmap(1.0), cmap(0.75), cmap(0.5), cmap(0.25)]\n",
    "\n",
    "# create stacked bar chart for students DataFrame\n",
    "class_balance_df.T.plot(kind='bar', stacked=True, color=color_indexes)\n",
    "\n",
    "# Add Title and Labels\n",
    "plt.title('Class Balance by Sample')\n",
    "plt.xlabel('Sample Split')\n",
    "plt.ylabel('Percent Class Balance')\n",
    "\n",
    "plt.legend(bbox_to_anchor=(1, 1))\n",
    "\n",
    "plt.show()"
   ]
  },
  {
   "cell_type": "code",
   "execution_count": 14,
   "metadata": {},
   "outputs": [
    {
     "data": {
      "image/png": "[encoded data removed]",
      "text/plain": [
       "<Figure size 576x288 with 2 Axes>"
      ]
     },
     "metadata": {},
     "output_type": "display_data"
    }
   ],
   "source": [
    "# Define the figure and subplot layout\n",
    "fig, (ax1, ax2) = plt.subplots(1, 2, figsize=(8, 4))\n",
    "pie_colors = [cmap(1.0), cmap(0.75), cmap(0.5), cmap(0.25)]\n",
    "\n",
    "# Set the radius of the first pie chart\n",
    "radius1 = 1\n",
    "\n",
    "# Create the first pie chart\n",
    "wedges1, texts1 = ax1.pie(class_balance_df['Train Sample'], radius=radius1,colors=pie_colors)\n",
    "\n",
    "# Set the radius of the second pie chart\n",
    "radius2 = radius1 * 2 / 3\n",
    "\n",
    "# Create the second pie chart\n",
    "wedges2, texts2 = ax2.pie(class_balance_df['Test Sample'], radius=radius2,colors=pie_colors)\n",
    "\n",
    "# Add a legend to the second pie chart\n",
    "ax2.legend(wedges2, ['Green','Light','Medium','Dark'], loc=\"right\")\n",
    "\n",
    "# Set the title for each subplot\n",
    "ax1.set_title(\"Train Sample (1200 data points)\")\n",
    "ax2.set_title(\"Test Sample (400 data points)\")\n",
    "\n",
    "# Show the plot\n",
    "plt.show()"
   ]
  },
  {
   "attachments": {},
   "cell_type": "markdown",
   "metadata": {},
   "source": [
    "# Data Preparation\n",
    "To prepare the image data for modeling, I utilized the ImageDataGenerator class from Keras to read in the JPEG files and directly access the image data as matrices. This method makes it easy to load in and preprocess large datasets. The ImageDataGenerator objects were set to normalize the pixel values to a scale of 0-1 using the rescale argument. I also set the color_mode argument to grayscale since I only need to work with a single channel for these images.\n",
    "\n",
    "Normalizing the pixel values and setting to grayscale are standard practices for image classification tasks. Normalizing the pixel values scales down the pixel values to a range that is better suited for machine learning algorithms, while setting the images to grayscale removes color as a variable in the analysis, simplifying the model's learning process."
   ]
  },
  {
   "cell_type": "code",
   "execution_count": 15,
   "metadata": {},
   "outputs": [],
   "source": [
    "# instatiating a data degenerater for each split sample \n",
    "train_datagen = ImageDataGenerator(rescale=1./255)\n",
    "\n",
    "test_datagen = ImageDataGenerator(rescale=1./255)"
   ]
  },
  {
   "cell_type": "code",
   "execution_count": 16,
   "metadata": {},
   "outputs": [],
   "source": [
    "# 25 is a common factor or both 1200 and 400\n",
    "batch_size = 25"
   ]
  },
  {
   "cell_type": "code",
   "execution_count": 17,
   "metadata": {},
   "outputs": [
    {
     "name": "stdout",
     "output_type": "stream",
     "text": [
      "Found 1200 images belonging to 4 classes.\n",
      "Found 400 images belonging to 4 classes.\n"
     ]
    }
   ],
   "source": [
    "train_data_generator = train_datagen.flow_from_directory(\n",
    "                       train_dir,\n",
    "                       target_size=(224,224),\n",
    "                       batch_size= batch_size,\n",
    "                       class_mode='categorical',\n",
    "                       color_mode='grayscale')\n",
    "\n",
    "test_data_generator = test_datagen.flow_from_directory(\n",
    "                      test_dir,\n",
    "                      target_size=(224,224),\n",
    "                      batch_size= batch_size,\n",
    "                      class_mode='categorical',\n",
    "                      color_mode='grayscale')"
   ]
  },
  {
   "attachments": {},
   "cell_type": "markdown",
   "metadata": {},
   "source": [
    "# Modeling Methods"
   ]
  },
  {
   "attachments": {},
   "cell_type": "markdown",
   "metadata": {},
   "source": [
    "## Baseline Model\n",
    "\n",
    "The baseline model consists of three convolutional layers separated by three max pooling layers, a flattening layer, and then two Dense layers and then another Dense output layer. The model is compiled using the Adam gradient descent optimizer and its loss is measured based on categorical cross entropy. The filter count and kernal size for each layer has been optimized for performance as well as training speed, and are set in a way that the filters' areas of observation do not overlap. The model is trained over a single epoch in 48 training steps and 16 validation steps in batches of 25, so each data point, both training and test, are observed only once throughout training.  \n",
    "\n",
    "The base model has an overall accuracy of about 75%, and it appears to be more dependable the darker the bean is. The loss is in a desirable range, so I hesitate to say there is overfitting or a strong bias at play here, I believe its more likely that a lack of image contrast in the lighter beans provides less information for the model to digest. \n"
   ]
  },
  {
   "cell_type": "code",
   "execution_count": 10,
   "metadata": {},
   "outputs": [],
   "source": [
    "# Building the model\n",
    "base_model = Sequential()\n",
    "\n",
    "# 3 convolutional layers\n",
    "base_model.add(Conv2D(56, (4,4), activation='relu', input_shape = (224,224,1)))\n",
    "base_model.add(MaxPooling2D(pool_size=(2,2)))\n",
    "\n",
    "base_model.add(Conv2D(112, (2,2), activation='relu'))\n",
    "base_model.add(MaxPooling2D(pool_size=(2,2)))\n",
    "\n",
    "base_model.add(Conv2D(112, (2,2), activation='relu'))\n",
    "base_model.add(MaxPooling2D(pool_size=(2,2)))\n",
    "\n",
    "base_model.add(Flatten())\n",
    "\n",
    "base_model.add(Dense(56,activation='relu'))\n",
    "base_model.add(Dense(56, activation='relu'))\n",
    "\n",
    "base_model.add(Dense(4))\n",
    "base_model.add(Activation(\"softmax\"))\n",
    "\n",
    "# Compiling the base_model using some basic parameters\n",
    "base_model.compile(loss=\"categorical_crossentropy\",\n",
    "                optimizer=\"adam\",\n",
    "                metrics=[\"accuracy\"])"
   ]
  },
  {
   "cell_type": "code",
   "execution_count": 11,
   "metadata": {},
   "outputs": [
    {
     "name": "stdout",
     "output_type": "stream",
     "text": [
      "48/48 [==============================] - 62s 1s/step - loss: 1.1284 - accuracy: 0.4308 - val_loss: 0.5607 - val_accuracy: 0.7275\n"
     ]
    }
   ],
   "source": [
    "base_model_results = base_model.fit(\n",
    "                     train_data_generator,\n",
    "                     batch_size=batch_size,\n",
    "                     epochs=1,\n",
    "                     steps_per_epoch=48,\n",
    "                     validation_data=test_data_generator,\n",
    "                     validation_batch_size=batch_size,\n",
    "                     validation_steps=16\n",
    "                     )"
   ]
  },
  {
   "cell_type": "code",
   "execution_count": 13,
   "metadata": {},
   "outputs": [
    {
     "name": "stdout",
     "output_type": "stream",
     "text": [
      "13/13 [==============================] - 5s 384ms/step - loss: 0.5607 - accuracy: 0.7275\n",
      "Done!\n"
     ]
    }
   ],
   "source": [
    "base_KPI, base_report, base_matrix, base_labels = ptk.evaluate_model(base_model,test_data_generator)"
   ]
  },
  {
   "cell_type": "code",
   "execution_count": 14,
   "metadata": {},
   "outputs": [
    {
     "name": "stdout",
     "output_type": "stream",
     "text": [
      "              precision    recall  f1-score   support\n",
      "\n",
      "           0       0.70      0.98      0.82       100\n",
      "           1       0.88      0.49      0.63       100\n",
      "           2       0.86      0.44      0.58       100\n",
      "           3       0.67      0.96      0.79       100\n",
      "\n",
      "   micro avg       0.73      0.72      0.73       400\n",
      "   macro avg       0.78      0.72      0.70       400\n",
      "weighted avg       0.78      0.72      0.70       400\n",
      " samples avg       0.72      0.72      0.72       400\n",
      "\n"
     ]
    }
   ],
   "source": [
    "print(base_report)"
   ]
  },
  {
   "cell_type": "code",
   "execution_count": 15,
   "metadata": {},
   "outputs": [
    {
     "data": {
      "image/png": "[encoded data removed]",
      "text/plain": [
       "<Figure size 432x288 with 2 Axes>"
      ]
     },
     "metadata": {
      "needs_background": "light"
     },
     "output_type": "display_data"
    }
   ],
   "source": [
    "ptk.viz_confusion_matrix(base_matrix,'Baseline Model')"
   ]
  },
  {
   "cell_type": "code",
   "execution_count": 25,
   "metadata": {},
   "outputs": [
    {
     "data": {
      "image/png": "[encoded data removed]",
      "text/plain": [
       "<Figure size 432x288 with 1 Axes>"
      ]
     },
     "metadata": {
      "needs_background": "light"
     },
     "output_type": "display_data"
    },
    {
     "data": {
      "text/html": [
       "<div>\n",
       "<style scoped>\n",
       "    .dataframe tbody tr th:only-of-type {\n",
       "        vertical-align: middle;\n",
       "    }\n",
       "\n",
       "    .dataframe tbody tr th {\n",
       "        vertical-align: top;\n",
       "    }\n",
       "\n",
       "    .dataframe thead th {\n",
       "        text-align: right;\n",
       "    }\n",
       "</style>\n",
       "<table border=\"1\" class=\"dataframe\">\n",
       "  <thead>\n",
       "    <tr style=\"text-align: right;\">\n",
       "      <th></th>\n",
       "      <th>Test</th>\n",
       "      <th>Prediction</th>\n",
       "    </tr>\n",
       "  </thead>\n",
       "  <tbody>\n",
       "    <tr>\n",
       "      <th>Green</th>\n",
       "      <td>100</td>\n",
       "      <td>149</td>\n",
       "    </tr>\n",
       "    <tr>\n",
       "      <th>Light</th>\n",
       "      <td>100</td>\n",
       "      <td>56</td>\n",
       "    </tr>\n",
       "    <tr>\n",
       "      <th>Medium</th>\n",
       "      <td>100</td>\n",
       "      <td>51</td>\n",
       "    </tr>\n",
       "    <tr>\n",
       "      <th>Dark</th>\n",
       "      <td>100</td>\n",
       "      <td>144</td>\n",
       "    </tr>\n",
       "  </tbody>\n",
       "</table>\n",
       "</div>"
      ],
      "text/plain": [
       "        Test  Prediction\n",
       "Green    100         149\n",
       "Light    100          56\n",
       "Medium   100          51\n",
       "Dark     100         144"
      ]
     },
     "execution_count": 25,
     "metadata": {},
     "output_type": "execute_result"
    }
   ],
   "source": [
    "ptk.viz_class_balance_comparison(base_labels,\"Baseline Model\")"
   ]
  },
  {
   "cell_type": "code",
   "execution_count": 17,
   "metadata": {},
   "outputs": [
    {
     "data": {
      "image/png": "[encoded data removed]",
      "text/plain": [
       "<Figure size 720x288 with 2 Axes>"
      ]
     },
     "metadata": {
      "needs_background": "light"
     },
     "output_type": "display_data"
    }
   ],
   "source": [
    "ptk.viz_training_history(base_model_results,'Baseline Model')"
   ]
  },
  {
   "attachments": {},
   "cell_type": "markdown",
   "metadata": {},
   "source": [
    "## Optimizing the Fit Function"
   ]
  },
  {
   "cell_type": "code",
   "execution_count": 85,
   "metadata": {},
   "outputs": [],
   "source": [
    "# define early stopping callback\n",
    "early_stop = EarlyStopping(monitor='val_accuracy', patience=5)"
   ]
  },
  {
   "cell_type": "code",
   "execution_count": 86,
   "metadata": {},
   "outputs": [],
   "source": [
    "# Building the model\n",
    "fit_model = Sequential()\n",
    "\n",
    "# 3 convolutional layers\n",
    "fit_model.add(Conv2D(56, (4,4), activation='relu', input_shape = (224,224,1)))\n",
    "fit_model.add(MaxPooling2D(pool_size=(2,2)))\n",
    "\n",
    "fit_model.add(Conv2D(112, (2,2), activation='relu'))\n",
    "fit_model.add(MaxPooling2D(pool_size=(2,2)))\n",
    "\n",
    "fit_model.add(Conv2D(112, (2,2), activation='relu'))\n",
    "fit_model.add(MaxPooling2D(pool_size=(2,2)))\n",
    "\n",
    "fit_model.add(Flatten())\n",
    "\n",
    "fit_model.add(Dense(56,activation='relu'))\n",
    "fit_model.add(Dense(56, activation='relu'))\n",
    "\n",
    "fit_model.add(Dense(4))\n",
    "fit_model.add(Activation(\"softmax\"))\n",
    "\n",
    "# Compiling the fit_model using some basic parameters\n",
    "fit_model.compile(loss=\"categorical_crossentropy\",\n",
    "                optimizer=\"adam\",\n",
    "                metrics=[\"accuracy\"])"
   ]
  },
  {
   "cell_type": "code",
   "execution_count": 87,
   "metadata": {},
   "outputs": [
    {
     "name": "stdout",
     "output_type": "stream",
     "text": [
      "Epoch 1/100\n",
      "48/48 [==============================] - 105s 2s/step - loss: 1.0568 - accuracy: 0.4458 - val_loss: 0.5919 - val_accuracy: 0.7200\n",
      "Epoch 2/100\n",
      "48/48 [==============================] - 108s 2s/step - loss: 0.5959 - accuracy: 0.7358 - val_loss: 0.4742 - val_accuracy: 0.8000\n",
      "Epoch 3/100\n",
      "48/48 [==============================] - 98s 2s/step - loss: 0.4682 - accuracy: 0.8058 - val_loss: 1.5657 - val_accuracy: 0.4800\n",
      "Epoch 4/100\n",
      "48/48 [==============================] - 97s 2s/step - loss: 0.5042 - accuracy: 0.7917 - val_loss: 0.3506 - val_accuracy: 0.8400\n",
      "Epoch 5/100\n",
      "48/48 [==============================] - 97s 2s/step - loss: 0.3559 - accuracy: 0.8483 - val_loss: 0.3007 - val_accuracy: 0.9000\n",
      "Epoch 6/100\n",
      "48/48 [==============================] - 96s 2s/step - loss: 0.2544 - accuracy: 0.8875 - val_loss: 0.0996 - val_accuracy: 0.9400\n",
      "Epoch 7/100\n",
      "48/48 [==============================] - 97s 2s/step - loss: 0.2416 - accuracy: 0.9150 - val_loss: 0.2859 - val_accuracy: 0.9200\n",
      "Epoch 8/100\n",
      "48/48 [==============================] - 94s 2s/step - loss: 0.1886 - accuracy: 0.9242 - val_loss: 0.2174 - val_accuracy: 0.9000\n",
      "Epoch 9/100\n",
      "48/48 [==============================] - 95s 2s/step - loss: 0.1886 - accuracy: 0.9275 - val_loss: 0.2238 - val_accuracy: 0.9200\n",
      "Epoch 10/100\n",
      "48/48 [==============================] - 104s 2s/step - loss: 0.1891 - accuracy: 0.9225 - val_loss: 0.1282 - val_accuracy: 0.9600\n",
      "Epoch 11/100\n",
      "48/48 [==============================] - 110s 2s/step - loss: 0.0825 - accuracy: 0.9742 - val_loss: 0.0487 - val_accuracy: 1.0000\n",
      "Epoch 12/100\n",
      "48/48 [==============================] - 105s 2s/step - loss: 0.0491 - accuracy: 0.9875 - val_loss: 0.0143 - val_accuracy: 1.0000\n",
      "Epoch 13/100\n",
      "48/48 [==============================] - 93s 2s/step - loss: 0.0369 - accuracy: 0.9892 - val_loss: 0.0156 - val_accuracy: 1.0000\n",
      "Epoch 14/100\n",
      "48/48 [==============================] - 96s 2s/step - loss: 0.0162 - accuracy: 0.9983 - val_loss: 0.0014 - val_accuracy: 1.0000\n",
      "Epoch 15/100\n",
      "48/48 [==============================] - 102s 2s/step - loss: 0.0127 - accuracy: 0.9983 - val_loss: 0.0102 - val_accuracy: 1.0000\n",
      "Epoch 16/100\n",
      "48/48 [==============================] - 113s 2s/step - loss: 0.0058 - accuracy: 0.9992 - val_loss: 0.0292 - val_accuracy: 1.0000\n"
     ]
    }
   ],
   "source": [
    "fit_model_results = fit_model.fit(\n",
    "                     train_data_generator,\n",
    "                     batch_size=batch_size,\n",
    "                     epochs=100,\n",
    "                     steps_per_epoch=48,\n",
    "                     validation_data=test_data_generator,\n",
    "                     validation_batch_size=batch_size,\n",
    "                     validation_steps=2,\n",
    "                     callbacks=[early_stop]\n",
    "                     )"
   ]
  },
  {
   "cell_type": "code",
   "execution_count": 88,
   "metadata": {},
   "outputs": [
    {
     "name": "stdout",
     "output_type": "stream",
     "text": [
      "13/13 [==============================] - 4s 329ms/step - loss: 0.0132 - accuracy: 0.9975\n",
      "Done!\n"
     ]
    }
   ],
   "source": [
    "fit_KPI, fit_report, fit_matrix, fit_labels = ptk.evaluate_model(fit_model,test_data_generator)"
   ]
  },
  {
   "cell_type": "code",
   "execution_count": 89,
   "metadata": {},
   "outputs": [
    {
     "name": "stdout",
     "output_type": "stream",
     "text": [
      "              precision    recall  f1-score   support\n",
      "\n",
      "           0       0.99      1.00      1.00       100\n",
      "           1       1.00      0.99      0.99       100\n",
      "           2       1.00      1.00      1.00       100\n",
      "           3       1.00      1.00      1.00       100\n",
      "\n",
      "   micro avg       1.00      1.00      1.00       400\n",
      "   macro avg       1.00      1.00      1.00       400\n",
      "weighted avg       1.00      1.00      1.00       400\n",
      " samples avg       1.00      1.00      1.00       400\n",
      "\n"
     ]
    }
   ],
   "source": [
    "print(fit_report)"
   ]
  },
  {
   "cell_type": "code",
   "execution_count": 91,
   "metadata": {},
   "outputs": [
    {
     "data": {
      "image/png": "[encoded data removed]",
      "text/plain": [
       "<Figure size 432x288 with 2 Axes>"
      ]
     },
     "metadata": {
      "needs_background": "light"
     },
     "output_type": "display_data"
    }
   ],
   "source": [
    "ptk.viz_confusion_matrix(fit_matrix,\"Sixteen Epochs,  Gross Observation\")"
   ]
  },
  {
   "cell_type": "code",
   "execution_count": 94,
   "metadata": {},
   "outputs": [
    {
     "data": {
      "image/png": "[encoded data removed]",
      "text/plain": [
       "<Figure size 432x288 with 1 Axes>"
      ]
     },
     "metadata": {
      "needs_background": "light"
     },
     "output_type": "display_data"
    },
    {
     "data": {
      "text/html": [
       "<div>\n",
       "<style scoped>\n",
       "    .dataframe tbody tr th:only-of-type {\n",
       "        vertical-align: middle;\n",
       "    }\n",
       "\n",
       "    .dataframe tbody tr th {\n",
       "        vertical-align: top;\n",
       "    }\n",
       "\n",
       "    .dataframe thead th {\n",
       "        text-align: right;\n",
       "    }\n",
       "</style>\n",
       "<table border=\"1\" class=\"dataframe\">\n",
       "  <thead>\n",
       "    <tr style=\"text-align: right;\">\n",
       "      <th></th>\n",
       "      <th>Test</th>\n",
       "      <th>Prediction</th>\n",
       "    </tr>\n",
       "  </thead>\n",
       "  <tbody>\n",
       "    <tr>\n",
       "      <th>Green</th>\n",
       "      <td>100</td>\n",
       "      <td>101</td>\n",
       "    </tr>\n",
       "    <tr>\n",
       "      <th>Light</th>\n",
       "      <td>100</td>\n",
       "      <td>99</td>\n",
       "    </tr>\n",
       "    <tr>\n",
       "      <th>Medium</th>\n",
       "      <td>100</td>\n",
       "      <td>100</td>\n",
       "    </tr>\n",
       "    <tr>\n",
       "      <th>Dark</th>\n",
       "      <td>100</td>\n",
       "      <td>100</td>\n",
       "    </tr>\n",
       "  </tbody>\n",
       "</table>\n",
       "</div>"
      ],
      "text/plain": [
       "        Test  Prediction\n",
       "Green    100         101\n",
       "Light    100          99\n",
       "Medium   100         100\n",
       "Dark     100         100"
      ]
     },
     "execution_count": 94,
     "metadata": {},
     "output_type": "execute_result"
    }
   ],
   "source": [
    "ptk.viz_class_balance_comparison(fit_labels, \"Sixteen Epochs,  Gross Observation\")"
   ]
  },
  {
   "cell_type": "code",
   "execution_count": 95,
   "metadata": {},
   "outputs": [
    {
     "data": {
      "image/png": "[encoded data removed]",
      "text/plain": [
       "<Figure size 720x288 with 2 Axes>"
      ]
     },
     "metadata": {
      "needs_background": "light"
     },
     "output_type": "display_data"
    }
   ],
   "source": [
    "ptk.viz_training_history(fit_model_results,\"Sixteen Epochs,  Gross Observation\")"
   ]
  },
  {
   "attachments": {},
   "cell_type": "markdown",
   "metadata": {},
   "source": [
    "## Network Regularization"
   ]
  },
  {
   "cell_type": "code",
   "execution_count": 34,
   "metadata": {},
   "outputs": [],
   "source": [
    "# Building the model\n",
    "L2_model = Sequential()\n",
    "\n",
    "# 3 convolutional layers\n",
    "L2_model.add(Conv2D(56, (4,4), activation='relu', input_shape = (224,224,1)))\n",
    "L2_model.add(MaxPooling2D(pool_size=(2,2)))\n",
    "\n",
    "L2_model.add(Conv2D(112, (2,2), activation='relu'))\n",
    "L2_model.add(MaxPooling2D(pool_size=(2,2)))\n",
    "\n",
    "L2_model.add(Conv2D(112, (2,2), activation='relu'))\n",
    "L2_model.add(MaxPooling2D(pool_size=(2,2)))\n",
    "\n",
    "L2_model.add(Flatten())\n",
    "\n",
    "L2_model.add(Dense(56,activation='relu',kernel_regularizer=l2(0.00005)))\n",
    "L2_model.add(Dense(56, activation='relu',kernel_regularizer=l2(0.0005)))\n",
    "\n",
    "L2_model.add(Dense(4))\n",
    "L2_model.add(Activation(\"softmax\"))\n",
    "\n",
    "# Compiling the L2_model using some basic parameters\n",
    "L2_model.compile(loss=\"categorical_crossentropy\",\n",
    "                optimizer=\"adam\",\n",
    "                metrics=[\"accuracy\"])"
   ]
  },
  {
   "cell_type": "code",
   "execution_count": 36,
   "metadata": {},
   "outputs": [
    {
     "name": "stdout",
     "output_type": "stream",
     "text": [
      "Epoch 1/15\n",
      "48/48 [==============================] - 99s 2s/step - loss: 0.9208 - accuracy: 0.5850 - val_loss: 0.5371 - val_accuracy: 0.7600\n",
      "Epoch 2/15\n",
      "48/48 [==============================] - 97s 2s/step - loss: 0.6016 - accuracy: 0.7342 - val_loss: 0.4391 - val_accuracy: 0.8000\n",
      "Epoch 3/15\n",
      "48/48 [==============================] - 130s 3s/step - loss: 0.5381 - accuracy: 0.7683 - val_loss: 0.4154 - val_accuracy: 0.7800\n",
      "Epoch 4/15\n",
      "48/48 [==============================] - 125s 3s/step - loss: 0.4301 - accuracy: 0.8258 - val_loss: 0.4976 - val_accuracy: 0.7800\n",
      "Epoch 5/15\n",
      "48/48 [==============================] - 145s 3s/step - loss: 0.3786 - accuracy: 0.8350 - val_loss: 0.2960 - val_accuracy: 0.9200\n",
      "Epoch 6/15\n",
      "48/48 [==============================] - 126s 3s/step - loss: 0.2811 - accuracy: 0.8858 - val_loss: 0.1484 - val_accuracy: 0.9600\n",
      "Epoch 7/15\n",
      "48/48 [==============================] - 105s 2s/step - loss: 0.2671 - accuracy: 0.8992 - val_loss: 0.1508 - val_accuracy: 0.9800\n",
      "Epoch 8/15\n",
      "48/48 [==============================] - 118s 2s/step - loss: 0.2600 - accuracy: 0.9008 - val_loss: 0.1283 - val_accuracy: 0.9400\n",
      "Epoch 9/15\n",
      "48/48 [==============================] - 108s 2s/step - loss: 0.1673 - accuracy: 0.9458 - val_loss: 0.1298 - val_accuracy: 0.9600\n",
      "Epoch 10/15\n",
      "48/48 [==============================] - 121s 3s/step - loss: 0.1251 - accuracy: 0.9692 - val_loss: 0.0788 - val_accuracy: 0.9800\n",
      "Epoch 11/15\n",
      "48/48 [==============================] - 202s 4s/step - loss: 0.1831 - accuracy: 0.9450 - val_loss: 0.0775 - val_accuracy: 1.0000\n",
      "Epoch 12/15\n",
      "48/48 [==============================] - 149s 3s/step - loss: 0.0983 - accuracy: 0.9775 - val_loss: 0.0627 - val_accuracy: 0.9800\n",
      "Epoch 13/15\n",
      "48/48 [==============================] - 161s 3s/step - loss: 0.0746 - accuracy: 0.9850 - val_loss: 0.0538 - val_accuracy: 1.0000\n",
      "Epoch 14/15\n",
      "48/48 [==============================] - 157s 3s/step - loss: 0.0450 - accuracy: 0.9950 - val_loss: 0.0335 - val_accuracy: 1.0000\n",
      "Epoch 15/15\n",
      "48/48 [==============================] - 107s 2s/step - loss: 0.0415 - accuracy: 0.9950 - val_loss: 0.0297 - val_accuracy: 1.0000\n"
     ]
    }
   ],
   "source": [
    "L2_model_results = L2_model.fit(\n",
    "                     train_data_generator,\n",
    "                     batch_size=batch_size,\n",
    "                     epochs=15,\n",
    "                     steps_per_epoch=48,\n",
    "                     validation_data=test_data_generator,\n",
    "                     validation_batch_size=batch_size,\n",
    "                     validation_steps=2\n",
    "                     )"
   ]
  },
  {
   "cell_type": "code",
   "execution_count": 37,
   "metadata": {},
   "outputs": [
    {
     "name": "stdout",
     "output_type": "stream",
     "text": [
      "13/13 [==============================] - 4s 325ms/step - loss: 0.0406 - accuracy: 0.9950\n",
      "Done!\n"
     ]
    }
   ],
   "source": [
    "L2_KPI, L2_report, L2_matrix, L2_labels = ptk.evaluate_model(L2_model,test_data_generator)"
   ]
  },
  {
   "cell_type": "code",
   "execution_count": 38,
   "metadata": {},
   "outputs": [
    {
     "data": {
      "image/png": "[encoded data removed]",
      "text/plain": [
       "<Figure size 432x288 with 2 Axes>"
      ]
     },
     "metadata": {
      "needs_background": "light"
     },
     "output_type": "display_data"
    }
   ],
   "source": [
    "ptk.viz_confusion_matrix(L2_matrix,\"Gradient L2 Kernal weight\")"
   ]
  },
  {
   "cell_type": "code",
   "execution_count": 39,
   "metadata": {},
   "outputs": [
    {
     "data": {
      "image/png": "[encoded data removed]",
      "text/plain": [
       "<Figure size 432x288 with 1 Axes>"
      ]
     },
     "metadata": {
      "needs_background": "light"
     },
     "output_type": "display_data"
    },
    {
     "data": {
      "text/html": [
       "<div>\n",
       "<style scoped>\n",
       "    .dataframe tbody tr th:only-of-type {\n",
       "        vertical-align: middle;\n",
       "    }\n",
       "\n",
       "    .dataframe tbody tr th {\n",
       "        vertical-align: top;\n",
       "    }\n",
       "\n",
       "    .dataframe thead th {\n",
       "        text-align: right;\n",
       "    }\n",
       "</style>\n",
       "<table border=\"1\" class=\"dataframe\">\n",
       "  <thead>\n",
       "    <tr style=\"text-align: right;\">\n",
       "      <th></th>\n",
       "      <th>Test</th>\n",
       "      <th>Prediction</th>\n",
       "    </tr>\n",
       "  </thead>\n",
       "  <tbody>\n",
       "    <tr>\n",
       "      <th>Green</th>\n",
       "      <td>100</td>\n",
       "      <td>99</td>\n",
       "    </tr>\n",
       "    <tr>\n",
       "      <th>Light</th>\n",
       "      <td>100</td>\n",
       "      <td>101</td>\n",
       "    </tr>\n",
       "    <tr>\n",
       "      <th>Medium</th>\n",
       "      <td>100</td>\n",
       "      <td>101</td>\n",
       "    </tr>\n",
       "    <tr>\n",
       "      <th>Dark</th>\n",
       "      <td>100</td>\n",
       "      <td>99</td>\n",
       "    </tr>\n",
       "  </tbody>\n",
       "</table>\n",
       "</div>"
      ],
      "text/plain": [
       "        Test  Prediction\n",
       "Green    100          99\n",
       "Light    100         101\n",
       "Medium   100         101\n",
       "Dark     100          99"
      ]
     },
     "execution_count": 39,
     "metadata": {},
     "output_type": "execute_result"
    }
   ],
   "source": [
    "ptk.viz_class_balance_comparison(L2_labels,\"Gradient L2 Kernal weight\")"
   ]
  },
  {
   "cell_type": "code",
   "execution_count": 40,
   "metadata": {},
   "outputs": [
    {
     "data": {
      "image/png": "[encoded data removed]",
      "text/plain": [
       "<Figure size 720x288 with 2 Axes>"
      ]
     },
     "metadata": {
      "needs_background": "light"
     },
     "output_type": "display_data"
    }
   ],
   "source": [
    "ptk.viz_training_history(L2_model_results,\"Gradient L2 Kernal weight\")"
   ]
  },
  {
   "attachments": {},
   "cell_type": "markdown",
   "metadata": {},
   "source": [
    "## Exporting Model"
   ]
  },
  {
   "cell_type": "code",
   "execution_count": 56,
   "metadata": {},
   "outputs": [],
   "source": [
    "# Building the model\n",
    "final_model = Sequential()\n",
    "\n",
    "# 3 convolutional layers\n",
    "final_model.add(Conv2D(56, (4,4), activation='relu', input_shape = (224,224,1)))\n",
    "final_model.add(MaxPooling2D(pool_size=(2,2)))\n",
    "\n",
    "final_model.add(Conv2D(112, (2,2), activation='relu'))\n",
    "final_model.add(MaxPooling2D(pool_size=(2,2)))\n",
    "\n",
    "final_model.add(Conv2D(112, (2,2), activation='relu'))\n",
    "final_model.add(MaxPooling2D(pool_size=(2,2)))\n",
    "\n",
    "final_model.add(Flatten())\n",
    "\n",
    "final_model.add(Dense(56,activation='relu',kernel_regularizer=l2(0.00005)))\n",
    "final_model.add(Dense(56, activation='relu',kernel_regularizer=l2(0.0005)))\n",
    "\n",
    "final_model.add(Dense(4))\n",
    "final_model.add(Activation(\"softmax\"))\n",
    "\n",
    "# Compiling the final_model using some basic parameters\n",
    "final_model.compile(loss=\"categorical_crossentropy\",\n",
    "                optimizer=\"adam\",\n",
    "                metrics=[\"accuracy\"])"
   ]
  },
  {
   "cell_type": "code",
   "execution_count": 57,
   "metadata": {},
   "outputs": [],
   "source": [
    "final_callback = [\n",
    "              ModelCheckpoint(filepath='data/final_model.h5',monitor='val_accuracy',save_best_only=True),\n",
    "              EarlyStopping(monitor='val_accuracy', patience=5)\n",
    "              ]"
   ]
  },
  {
   "cell_type": "code",
   "execution_count": 58,
   "metadata": {},
   "outputs": [
    {
     "name": "stdout",
     "output_type": "stream",
     "text": [
      "Epoch 1/50\n",
      "48/48 [==============================] - 64s 1s/step - loss: 1.1693 - accuracy: 0.4225 - val_loss: 0.7403 - val_accuracy: 0.5600\n",
      "Epoch 2/50\n",
      "48/48 [==============================] - 93s 2s/step - loss: 0.6256 - accuracy: 0.6917 - val_loss: 0.4824 - val_accuracy: 0.7600\n",
      "Epoch 3/50\n",
      "48/48 [==============================] - 68s 1s/step - loss: 0.6281 - accuracy: 0.7158 - val_loss: 0.4483 - val_accuracy: 0.8400\n",
      "Epoch 4/50\n",
      "48/48 [==============================] - 75s 2s/step - loss: 0.4389 - accuracy: 0.8225 - val_loss: 0.3818 - val_accuracy: 0.8400\n",
      "Epoch 5/50\n",
      "48/48 [==============================] - 97s 2s/step - loss: 0.3971 - accuracy: 0.8275 - val_loss: 0.2197 - val_accuracy: 0.9200\n",
      "Epoch 6/50\n",
      "48/48 [==============================] - 88s 2s/step - loss: 0.3157 - accuracy: 0.8833 - val_loss: 0.3546 - val_accuracy: 0.8600\n",
      "Epoch 7/50\n",
      "48/48 [==============================] - 89s 2s/step - loss: 0.3360 - accuracy: 0.8675 - val_loss: 0.2039 - val_accuracy: 0.9400\n",
      "Epoch 8/50\n",
      "48/48 [==============================] - 106s 2s/step - loss: 0.2321 - accuracy: 0.9117 - val_loss: 0.2771 - val_accuracy: 0.8800\n",
      "Epoch 9/50\n",
      "48/48 [==============================] - 97s 2s/step - loss: 0.2466 - accuracy: 0.9150 - val_loss: 0.1483 - val_accuracy: 0.9400\n",
      "Epoch 10/50\n",
      "48/48 [==============================] - 96s 2s/step - loss: 0.1848 - accuracy: 0.9358 - val_loss: 0.1068 - val_accuracy: 0.9600\n",
      "Epoch 11/50\n",
      "48/48 [==============================] - 101s 2s/step - loss: 0.1655 - accuracy: 0.9442 - val_loss: 0.1419 - val_accuracy: 0.9400\n",
      "Epoch 12/50\n",
      "48/48 [==============================] - 99s 2s/step - loss: 0.2022 - accuracy: 0.9342 - val_loss: 0.1934 - val_accuracy: 0.9200\n",
      "Epoch 13/50\n",
      "48/48 [==============================] - 100s 2s/step - loss: 0.1645 - accuracy: 0.9467 - val_loss: 0.1637 - val_accuracy: 0.9400\n",
      "Epoch 14/50\n",
      "48/48 [==============================] - 101s 2s/step - loss: 0.0971 - accuracy: 0.9758 - val_loss: 0.0660 - val_accuracy: 0.9800\n",
      "Epoch 15/50\n",
      "48/48 [==============================] - 101s 2s/step - loss: 0.0682 - accuracy: 0.9850 - val_loss: 0.0629 - val_accuracy: 1.0000\n",
      "Epoch 16/50\n",
      "48/48 [==============================] - 104s 2s/step - loss: 0.1192 - accuracy: 0.9592 - val_loss: 0.0900 - val_accuracy: 0.9800\n",
      "Epoch 17/50\n",
      "48/48 [==============================] - 101s 2s/step - loss: 0.1268 - accuracy: 0.9692 - val_loss: 0.0682 - val_accuracy: 0.9800\n",
      "Epoch 18/50\n",
      "48/48 [==============================] - 101s 2s/step - loss: 0.0473 - accuracy: 0.9958 - val_loss: 0.0309 - val_accuracy: 1.0000\n",
      "Epoch 19/50\n",
      "48/48 [==============================] - 102s 2s/step - loss: 0.0351 - accuracy: 0.9992 - val_loss: 0.0371 - val_accuracy: 1.0000\n",
      "Epoch 20/50\n",
      "48/48 [==============================] - 103s 2s/step - loss: 0.0289 - accuracy: 1.0000 - val_loss: 0.0239 - val_accuracy: 1.0000\n"
     ]
    }
   ],
   "source": [
    "final_model_results = final_model.fit(train_data_generator,\n",
    "                                        callbacks=final_callback,\n",
    "                                        batch_size=batch_size,\n",
    "                                        steps_per_epoch=48, \n",
    "                                        epochs=50, \n",
    "                                        validation_data=test_data_generator, \n",
    "                                        validation_steps=2\n",
    "                                        )"
   ]
  },
  {
   "cell_type": "code",
   "execution_count": 59,
   "metadata": {},
   "outputs": [
    {
     "name": "stdout",
     "output_type": "stream",
     "text": [
      "13/13 [==============================] - 9s 693ms/step - loss: 0.0247 - accuracy: 1.0000\n",
      "Done!\n"
     ]
    }
   ],
   "source": [
    "final_KPI, final_report, final_matrix, final_labels = ptk.evaluate_model(final_model,test_data_generator)"
   ]
  },
  {
   "cell_type": "code",
   "execution_count": 60,
   "metadata": {},
   "outputs": [
    {
     "name": "stdout",
     "output_type": "stream",
     "text": [
      "              precision    recall  f1-score   support\n",
      "\n",
      "           0       1.00      1.00      1.00       100\n",
      "           1       1.00      1.00      1.00       100\n",
      "           2       1.00      1.00      1.00       100\n",
      "           3       1.00      1.00      1.00       100\n",
      "\n",
      "   micro avg       1.00      1.00      1.00       400\n",
      "   macro avg       1.00      1.00      1.00       400\n",
      "weighted avg       1.00      1.00      1.00       400\n",
      " samples avg       1.00      1.00      1.00       400\n",
      "\n"
     ]
    }
   ],
   "source": [
    "print(final_report)"
   ]
  },
  {
   "cell_type": "code",
   "execution_count": 61,
   "metadata": {},
   "outputs": [
    {
     "data": {
      "image/png": "[encoded data removed]",
      "text/plain": [
       "<Figure size 432x288 with 2 Axes>"
      ]
     },
     "metadata": {
      "needs_background": "light"
     },
     "output_type": "display_data"
    }
   ],
   "source": [
    "ptk.viz_confusion_matrix(final_matrix, \"Final Model\")"
   ]
  },
  {
   "cell_type": "code",
   "execution_count": 62,
   "metadata": {},
   "outputs": [
    {
     "data": {
      "image/png": "[encoded data removed]",
      "text/plain": [
       "<Figure size 432x288 with 1 Axes>"
      ]
     },
     "metadata": {
      "needs_background": "light"
     },
     "output_type": "display_data"
    },
    {
     "data": {
      "text/html": [
       "<div>\n",
       "<style scoped>\n",
       "    .dataframe tbody tr th:only-of-type {\n",
       "        vertical-align: middle;\n",
       "    }\n",
       "\n",
       "    .dataframe tbody tr th {\n",
       "        vertical-align: top;\n",
       "    }\n",
       "\n",
       "    .dataframe thead th {\n",
       "        text-align: right;\n",
       "    }\n",
       "</style>\n",
       "<table border=\"1\" class=\"dataframe\">\n",
       "  <thead>\n",
       "    <tr style=\"text-align: right;\">\n",
       "      <th></th>\n",
       "      <th>Test</th>\n",
       "      <th>Prediction</th>\n",
       "    </tr>\n",
       "  </thead>\n",
       "  <tbody>\n",
       "    <tr>\n",
       "      <th>Green</th>\n",
       "      <td>100</td>\n",
       "      <td>100</td>\n",
       "    </tr>\n",
       "    <tr>\n",
       "      <th>Light</th>\n",
       "      <td>100</td>\n",
       "      <td>100</td>\n",
       "    </tr>\n",
       "    <tr>\n",
       "      <th>Medium</th>\n",
       "      <td>100</td>\n",
       "      <td>100</td>\n",
       "    </tr>\n",
       "    <tr>\n",
       "      <th>Dark</th>\n",
       "      <td>100</td>\n",
       "      <td>100</td>\n",
       "    </tr>\n",
       "  </tbody>\n",
       "</table>\n",
       "</div>"
      ],
      "text/plain": [
       "        Test  Prediction\n",
       "Green    100         100\n",
       "Light    100         100\n",
       "Medium   100         100\n",
       "Dark     100         100"
      ]
     },
     "execution_count": 62,
     "metadata": {},
     "output_type": "execute_result"
    }
   ],
   "source": [
    "ptk.viz_class_balance_comparison(final_labels,\"Final Model\")"
   ]
  },
  {
   "cell_type": "code",
   "execution_count": 63,
   "metadata": {},
   "outputs": [
    {
     "data": {
      "image/png": "[encoded data removed]",
      "text/plain": [
       "<Figure size 720x288 with 2 Axes>"
      ]
     },
     "metadata": {
      "needs_background": "light"
     },
     "output_type": "display_data"
    }
   ],
   "source": [
    "ptk.viz_training_history(final_model_results, \"Final Model\")"
   ]
  },
  {
   "attachments": {},
   "cell_type": "markdown",
   "metadata": {},
   "source": [
    "# Proof of Concept"
   ]
  },
  {
   "cell_type": "code",
   "execution_count": 82,
   "metadata": {},
   "outputs": [],
   "source": [
    "from keras.models import load_model\n",
    "from keras.preprocessing.image import load_img, img_to_array\n",
    "import os"
   ]
  },
  {
   "cell_type": "code",
   "execution_count": null,
   "metadata": {},
   "outputs": [],
   "source": [
    "saved_model =  load_model('data/final_model.h5')"
   ]
  },
  {
   "cell_type": "code",
   "execution_count": 65,
   "metadata": {},
   "outputs": [
    {
     "name": "stdout",
     "output_type": "stream",
     "text": [
      "48/48 [==============================] - 16s 330ms/step - loss: 0.0724 - accuracy: 0.9867\n",
      "Training Accuracy: 0.987\n",
      "Training Loss: 0.0724\n",
      "----------\n",
      "16/16 [==============================] - 6s 390ms/step - loss: 0.0642 - accuracy: 0.9900\n",
      "Test Accuracy: 0.99\n",
      "Test Loss: 0.0642\n"
     ]
    }
   ],
   "source": [
    "results_train = saved_model.evaluate(train_data_generator)\n",
    "print(f'Training Accuracy: {results_train[1]:.3}\\nTraining Loss: {results_train[0]:.3}')\n",
    "\n",
    "print('----------')\n",
    "\n",
    "results_test = saved_model.evaluate(test_data_generator)\n",
    "print(f'Test Accuracy: {results_test[1]:.3}\\nTest Loss: {results_test[0]:.3}')\n"
   ]
  },
  {
   "cell_type": "code",
   "execution_count": 81,
   "metadata": {},
   "outputs": [
    {
     "name": "stdout",
     "output_type": "stream",
     "text": [
      "Predicted label: Green\n"
     ]
    }
   ],
   "source": [
    "\n",
    "\n",
    "# Load image and resize to model input shape\n",
    "img = load_img(\"data/test/A. Green/green (7).png\", target_size=(224, 224))\n",
    "\n",
    "# Convert image data to numpy array\n",
    "img_array = img_to_array(img)\n",
    "\n",
    "# Convert the image to grayscale\n",
    "img_array = np.dot(img_array, [0.2989, 0.5870, 0.1140])\n",
    "\n",
    "# Normalize the image array\n",
    "img_array /= 255.0\n",
    "\n",
    "# Expand dimensions to match the input shape of the model\n",
    "input_array = np.expand_dims(img_array, axis=0)\n",
    "input_array = np.expand_dims(input_array, axis=-1)\n",
    "\n",
    "# Make predictions\n",
    "predictions = saved_model.predict(input_array)\n",
    "predicted_label = np.argmax(predictions)\n",
    "\n",
    "label_dict = {0:\"Green\",1:\"Light\",2:\"Medium\",3:\"Dark\"}\n",
    "\n",
    "print(\"Predicted label:\", label_dict[predicted_label])\n"
   ]
  },
  {
   "cell_type": "code",
   "execution_count": 91,
   "metadata": {},
   "outputs": [],
   "source": [
    "def classify_bean(filepath:str):\n",
    "    \"\"\"\n",
    "    Classifies the roast level of a coffee bean image.\n",
    "\n",
    "    Args:\n",
    "        filepath (str): The file path of the coffee bean image to classify.\n",
    "\n",
    "    Returns:\n",
    "         string: the predicted label as a string: \"Green\", \"Light\", \"Medium\" or \"Dark\".\n",
    "\n",
    "    Raises:\n",
    "        ValueError: If the input image is not a valid file or if the input image shape is not 224x224.\n",
    "    \"\"\"\n",
    "\n",
    "    if not os.path.isfile(filepath):\n",
    "        print(\"Error: {} is not a valid file path.\".format(filepath))\n",
    "        return\n",
    "\n",
    "    else:\n",
    "        # Load image and resize to model input shape\n",
    "        img = load_img(filepath, target_size=(224, 224))\n",
    "\n",
    "        # Convert image data to numpy array\n",
    "        img_array = img_to_array(img)\n",
    "\n",
    "        # Convert the image to grayscale\n",
    "        img_array = np.dot(img_array, [0.2989, 0.5870, 0.1140])\n",
    "\n",
    "        # Normalize the image array\n",
    "        img_array /= 255.0\n",
    "\n",
    "        # Expand dimensions to match the input shape of the model\n",
    "        input_array = np.expand_dims(img_array, axis=0)\n",
    "        input_array = np.expand_dims(input_array, axis=-1)\n",
    "\n",
    "        # Make predictions\n",
    "        predictions = saved_model.predict(input_array)\n",
    "        predicted_label = np.argmax(predictions)\n",
    "\n",
    "        label_dict = {0:\"Green\",1:\"Light\",2:\"Medium\",3:\"Dark\"}\n",
    "\n",
    "        print(\"Predicted label:\", label_dict[predicted_label])\n",
    "\n",
    "        # return predicted_label\n"
   ]
  },
  {
   "cell_type": "code",
   "execution_count": 92,
   "metadata": {},
   "outputs": [
    {
     "name": "stdout",
     "output_type": "stream",
     "text": [
      "Predicted label: Medium\n"
     ]
    }
   ],
   "source": [
    "classify_bean(\"data/test/C. Medium/medium (13).png\")"
   ]
  },
  {
   "cell_type": "code",
   "execution_count": 94,
   "metadata": {},
   "outputs": [
    {
     "name": "stdout",
     "output_type": "stream",
     "text": [
      "Help on function viz_confusion_matrix in module project_toolkit:\n",
      "\n",
      "viz_confusion_matrix(confusion_matrix_array: <built-in function array>, title: str)\n",
      "    Takes in a numpy array (must be 2D, with only 4 elements (i.e. a confusion matrix))\n",
      "    normalizes each element in the array to be a percentage \n",
      "    plots the normalized values as a confusion matrix using matplotlib\n",
      "    returns no values, uses .show() method to dispaly the figure\n",
      "\n"
     ]
    }
   ],
   "source": [
    "help(ptk.viz_confusion_matrix)"
   ]
  },
  {
   "cell_type": "code",
   "execution_count": null,
   "metadata": {},
   "outputs": [],
   "source": []
  }
 ],
 "metadata": {
  "kernelspec": {
   "display_name": "learn-env",
   "language": "python",
   "name": "python3"
  },
  "language_info": {
   "codemirror_mode": {
    "name": "ipython",
    "version": 3
   },
   "file_extension": ".py",
   "mimetype": "text/x-python",
   "name": "python",
   "nbconvert_exporter": "python",
   "pygments_lexer": "ipython3",
   "version": "3.8.5"
  },
  "orig_nbformat": 4,
  "vscode": {
   "interpreter": {
    "hash": "8eb6b2671ae257969e1e6d572d1bfd2dc1c23f390a7081d26c146f9b82ef978d"
   }
  }
 },
 "nbformat": 4,
 "nbformat_minor": 2
}
